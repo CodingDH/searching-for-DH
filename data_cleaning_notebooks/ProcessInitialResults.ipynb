{
 "cells": [
  {
   "attachments": {},
   "cell_type": "markdown",
   "metadata": {},
   "source": [
    "# Process Initial Results"
   ]
  },
  {
   "cell_type": "code",
   "execution_count": 2,
   "metadata": {},
   "outputs": [],
   "source": [
    "import pandas as pd\n",
    "pd.options.mode.chained_assignment = None\n",
    "import os\n",
    "import sys\n",
    "import warnings\n",
    "warnings.filterwarnings('ignore')\n",
    "\n",
    "sys.path.append(\"../\")\n",
    "from data_generation_scripts.general_utils import *\n",
    "from data_generation_scripts.generate_entity_metadata import *"
   ]
  },
  {
   "cell_type": "code",
   "execution_count": 4,
   "metadata": {},
   "outputs": [],
   "source": [
    "data_directory_path = get_data_directory_path()"
   ]
  },
  {
   "cell_type": "code",
   "execution_count": 14,
   "metadata": {},
   "outputs": [],
   "source": [
    "test = pd.read_csv(f\"{data_directory_path}/historic_data/entity_files/all_orgs/unolibraries_coding_dh_org.csv\")\n",
    "test2 = pd.read_csv(\"../../all_orgs/CPHDH_coding_dh_org.csv\")\n",
    "test3 = pd.read_csv(f\"{data_directory_path}/historic_data/entity_files/all_repos/programminghistorian_jekyll_coding_dh_repo.csv\")"
   ]
  },
  {
   "cell_type": "code",
   "execution_count": 17,
   "metadata": {},
   "outputs": [
    {
     "data": {
      "text/html": [
       "<div>\n",
       "<style scoped>\n",
       "    .dataframe tbody tr th:only-of-type {\n",
       "        vertical-align: middle;\n",
       "    }\n",
       "\n",
       "    .dataframe tbody tr th {\n",
       "        vertical-align: top;\n",
       "    }\n",
       "\n",
       "    .dataframe thead th {\n",
       "        text-align: right;\n",
       "    }\n",
       "</style>\n",
       "<table border=\"1\" class=\"dataframe\">\n",
       "  <thead>\n",
       "    <tr style=\"text-align: right;\">\n",
       "      <th></th>\n",
       "      <th>bio</th>\n",
       "      <th>followers_url</th>\n",
       "      <th>following_url</th>\n",
       "      <th>gists_url</th>\n",
       "      <th>gravatar_id</th>\n",
       "      <th>hireable</th>\n",
       "      <th>organizations_url</th>\n",
       "      <th>received_events_url</th>\n",
       "      <th>site_admin</th>\n",
       "      <th>starred_url</th>\n",
       "      <th>...</th>\n",
       "      <th>blog</th>\n",
       "      <th>location</th>\n",
       "      <th>email</th>\n",
       "      <th>twitter_username</th>\n",
       "      <th>coding_dh_date</th>\n",
       "      <th>coding_dh_id</th>\n",
       "      <th>star_count</th>\n",
       "      <th>subscription_count</th>\n",
       "      <th>organization_count</th>\n",
       "      <th>members_count</th>\n",
       "    </tr>\n",
       "  </thead>\n",
       "  <tbody>\n",
       "    <tr>\n",
       "      <th>0</th>\n",
       "      <td>NaN</td>\n",
       "      <td>NaN</td>\n",
       "      <td>NaN</td>\n",
       "      <td>NaN</td>\n",
       "      <td>NaN</td>\n",
       "      <td>NaN</td>\n",
       "      <td>NaN</td>\n",
       "      <td>NaN</td>\n",
       "      <td>NaN</td>\n",
       "      <td>NaN</td>\n",
       "      <td>...</td>\n",
       "      <td>https://library.unomaha.edu</td>\n",
       "      <td>Omaha, Nebr.</td>\n",
       "      <td>NaN</td>\n",
       "      <td>NaN</td>\n",
       "      <td>2022-12-18</td>\n",
       "      <td>0</td>\n",
       "      <td>NaN</td>\n",
       "      <td>NaN</td>\n",
       "      <td>NaN</td>\n",
       "      <td>NaN</td>\n",
       "    </tr>\n",
       "    <tr>\n",
       "      <th>1</th>\n",
       "      <td>Librarians and technologists at the University...</td>\n",
       "      <td>https://api.github.com/users/unolibraries/foll...</td>\n",
       "      <td>https://api.github.com/users/unolibraries/foll...</td>\n",
       "      <td>https://api.github.com/users/unolibraries/gist...</td>\n",
       "      <td>NaN</td>\n",
       "      <td>NaN</td>\n",
       "      <td>https://api.github.com/users/unolibraries/orgs</td>\n",
       "      <td>https://api.github.com/users/unolibraries/rece...</td>\n",
       "      <td>False</td>\n",
       "      <td>https://api.github.com/users/unolibraries/star...</td>\n",
       "      <td>...</td>\n",
       "      <td>https://library.unomaha.edu</td>\n",
       "      <td>Omaha, Nebr.</td>\n",
       "      <td>NaN</td>\n",
       "      <td>NaN</td>\n",
       "      <td>2023-06-25</td>\n",
       "      <td>1</td>\n",
       "      <td>NaN</td>\n",
       "      <td>NaN</td>\n",
       "      <td>NaN</td>\n",
       "      <td>NaN</td>\n",
       "    </tr>\n",
       "    <tr>\n",
       "      <th>2</th>\n",
       "      <td>Librarians and technologists at the University...</td>\n",
       "      <td>https://api.github.com/users/unolibraries/foll...</td>\n",
       "      <td>https://api.github.com/users/unolibraries/foll...</td>\n",
       "      <td>https://api.github.com/users/unolibraries/gist...</td>\n",
       "      <td>NaN</td>\n",
       "      <td>NaN</td>\n",
       "      <td>https://api.github.com/users/unolibraries/orgs</td>\n",
       "      <td>https://api.github.com/users/unolibraries/rece...</td>\n",
       "      <td>False</td>\n",
       "      <td>https://api.github.com/users/unolibraries/star...</td>\n",
       "      <td>...</td>\n",
       "      <td>NaN</td>\n",
       "      <td>NaN</td>\n",
       "      <td>NaN</td>\n",
       "      <td>NaN</td>\n",
       "      <td>2024-01-26</td>\n",
       "      <td>2</td>\n",
       "      <td>NaN</td>\n",
       "      <td>NaN</td>\n",
       "      <td>NaN</td>\n",
       "      <td>NaN</td>\n",
       "    </tr>\n",
       "    <tr>\n",
       "      <th>3</th>\n",
       "      <td>Librarians and technologists at the University...</td>\n",
       "      <td>https://api.github.com/users/unolibraries/foll...</td>\n",
       "      <td>https://api.github.com/users/unolibraries/foll...</td>\n",
       "      <td>https://api.github.com/users/unolibraries/gist...</td>\n",
       "      <td>NaN</td>\n",
       "      <td>NaN</td>\n",
       "      <td>https://api.github.com/users/unolibraries/orgs</td>\n",
       "      <td>https://api.github.com/users/unolibraries/rece...</td>\n",
       "      <td>False</td>\n",
       "      <td>https://api.github.com/users/unolibraries/star...</td>\n",
       "      <td>...</td>\n",
       "      <td>https://library.unomaha.edu</td>\n",
       "      <td>Omaha, Nebr.</td>\n",
       "      <td>NaN</td>\n",
       "      <td>NaN</td>\n",
       "      <td>2024-02-09</td>\n",
       "      <td>3</td>\n",
       "      <td>NaN</td>\n",
       "      <td>NaN</td>\n",
       "      <td>NaN</td>\n",
       "      <td>NaN</td>\n",
       "    </tr>\n",
       "  </tbody>\n",
       "</table>\n",
       "<p>4 rows × 46 columns</p>\n",
       "</div>"
      ],
      "text/plain": [
       "                                                 bio  \\\n",
       "0                                                NaN   \n",
       "1  Librarians and technologists at the University...   \n",
       "2  Librarians and technologists at the University...   \n",
       "3  Librarians and technologists at the University...   \n",
       "\n",
       "                                       followers_url  \\\n",
       "0                                                NaN   \n",
       "1  https://api.github.com/users/unolibraries/foll...   \n",
       "2  https://api.github.com/users/unolibraries/foll...   \n",
       "3  https://api.github.com/users/unolibraries/foll...   \n",
       "\n",
       "                                       following_url  \\\n",
       "0                                                NaN   \n",
       "1  https://api.github.com/users/unolibraries/foll...   \n",
       "2  https://api.github.com/users/unolibraries/foll...   \n",
       "3  https://api.github.com/users/unolibraries/foll...   \n",
       "\n",
       "                                           gists_url  gravatar_id  hireable  \\\n",
       "0                                                NaN          NaN       NaN   \n",
       "1  https://api.github.com/users/unolibraries/gist...          NaN       NaN   \n",
       "2  https://api.github.com/users/unolibraries/gist...          NaN       NaN   \n",
       "3  https://api.github.com/users/unolibraries/gist...          NaN       NaN   \n",
       "\n",
       "                                organizations_url  \\\n",
       "0                                             NaN   \n",
       "1  https://api.github.com/users/unolibraries/orgs   \n",
       "2  https://api.github.com/users/unolibraries/orgs   \n",
       "3  https://api.github.com/users/unolibraries/orgs   \n",
       "\n",
       "                                 received_events_url site_admin  \\\n",
       "0                                                NaN        NaN   \n",
       "1  https://api.github.com/users/unolibraries/rece...      False   \n",
       "2  https://api.github.com/users/unolibraries/rece...      False   \n",
       "3  https://api.github.com/users/unolibraries/rece...      False   \n",
       "\n",
       "                                         starred_url  ...  \\\n",
       "0                                                NaN  ...   \n",
       "1  https://api.github.com/users/unolibraries/star...  ...   \n",
       "2  https://api.github.com/users/unolibraries/star...  ...   \n",
       "3  https://api.github.com/users/unolibraries/star...  ...   \n",
       "\n",
       "                          blog      location  email twitter_username  \\\n",
       "0  https://library.unomaha.edu  Omaha, Nebr.    NaN              NaN   \n",
       "1  https://library.unomaha.edu  Omaha, Nebr.    NaN              NaN   \n",
       "2                          NaN           NaN    NaN              NaN   \n",
       "3  https://library.unomaha.edu  Omaha, Nebr.    NaN              NaN   \n",
       "\n",
       "  coding_dh_date coding_dh_id star_count subscription_count  \\\n",
       "0     2022-12-18            0        NaN                NaN   \n",
       "1     2023-06-25            1        NaN                NaN   \n",
       "2     2024-01-26            2        NaN                NaN   \n",
       "3     2024-02-09            3        NaN                NaN   \n",
       "\n",
       "  organization_count members_count  \n",
       "0                NaN           NaN  \n",
       "1                NaN           NaN  \n",
       "2                NaN           NaN  \n",
       "3                NaN           NaN  \n",
       "\n",
       "[4 rows x 46 columns]"
      ]
     },
     "execution_count": 17,
     "metadata": {},
     "output_type": "execute_result"
    }
   ],
   "source": [
    "test[test.star_count.isna()]"
   ]
  },
  {
   "cell_type": "code",
   "execution_count": 26,
   "metadata": {},
   "outputs": [],
   "source": [
    "repo_headers = get_headers(\"repos\")"
   ]
  },
  {
   "cell_type": "code",
   "execution_count": 37,
   "metadata": {},
   "outputs": [
    {
     "data": {
      "text/plain": [
       "['organization.id',\n",
       " 'squash_merge_commit_message',\n",
       " 'delete_branch_on_merge',\n",
       " 'organization.avatar_url',\n",
       " 'allow_rebase_merge',\n",
       " 'subscribers_count',\n",
       " 'allow_merge_commit',\n",
       " 'allow_update_branch',\n",
       " 'organization.gravatar_id',\n",
       " 'organization.received_events_url',\n",
       " 'organization.login',\n",
       " 'temp_clone_token',\n",
       " 'organization.node_id',\n",
       " 'organization.following_url',\n",
       " 'organization.events_url',\n",
       " 'organization.gists_url',\n",
       " 'organization.followers_url',\n",
       " 'organization.starred_url',\n",
       " 'organization.subscriptions_url',\n",
       " 'squash_merge_commit_title',\n",
       " 'allow_auto_merge',\n",
       " 'organization.site_admin',\n",
       " 'allow_squash_merge',\n",
       " 'organization.organizations_url',\n",
       " 'has_discussions',\n",
       " 'network_count',\n",
       " 'organization.html_url',\n",
       " 'merge_commit_message',\n",
       " 'merge_commit_title',\n",
       " 'organization.repos_url',\n",
       " 'organization.type',\n",
       " 'organization.url',\n",
       " 'use_squash_pr_title_as_default']"
      ]
     },
     "execution_count": 37,
     "metadata": {},
     "output_type": "execute_result"
    }
   ],
   "source": [
    "list(set(response_df.columns) - set(repo_headers))"
   ]
  },
  {
   "cell_type": "code",
   "execution_count": 16,
   "metadata": {},
   "outputs": [],
   "source": [
    "headers = get_headers(\"orgs\")"
   ]
  },
  {
   "cell_type": "code",
   "execution_count": 18,
   "metadata": {},
   "outputs": [
    {
     "data": {
      "text/plain": [
       "Index(['login', 'id', 'node_id', 'url', 'repos_url', 'events_url', 'hooks_url',\n",
       "       'issues_url', 'members_url', 'public_members_url', 'avatar_url',\n",
       "       'description', 'name', 'company', 'blog', 'location', 'email',\n",
       "       'twitter_username', 'is_verified', 'has_organization_projects',\n",
       "       'has_repository_projects', 'public_repos', 'public_gists', 'followers',\n",
       "       'following', 'html_url', 'created_at', 'updated_at', 'type'],\n",
       "      dtype='object')"
      ]
     },
     "execution_count": 18,
     "metadata": {},
     "output_type": "execute_result"
    }
   ],
   "source": [
    "headers.columns"
   ]
  },
  {
   "cell_type": "code",
   "execution_count": 15,
   "metadata": {},
   "outputs": [
    {
     "data": {
      "text/plain": [
       "Index(['bio', 'followers_url', 'following_url', 'gists_url', 'gravatar_id',\n",
       "       'hireable', 'organizations_url', 'received_events_url', 'site_admin',\n",
       "       'starred_url', 'subscriptions_url', 'login', 'id', 'node_id', 'url',\n",
       "       'repos_url', 'events_url', 'hooks_url', 'issues_url', 'members_url',\n",
       "       'public_members_url', 'avatar_url', 'description', 'is_verified',\n",
       "       'has_organization_projects', 'has_repository_projects', 'public_repos',\n",
       "       'public_gists', 'followers', 'following', 'html_url', 'created_at',\n",
       "       'updated_at', 'type', 'name', 'company', 'blog', 'location', 'email',\n",
       "       'twitter_username', 'coding_dh_date', 'total_private_repos',\n",
       "       'owned_private_repos', 'private_gists', 'disk_usage', 'collaborators',\n",
       "       'billing_email', 'default_repository_permission',\n",
       "       'members_can_create_repositories', 'two_factor_requirement_enabled',\n",
       "       'members_allowed_repository_creation_type',\n",
       "       'members_can_create_public_repositories',\n",
       "       'members_can_create_private_repositories',\n",
       "       'members_can_create_internal_repositories', 'members_can_create_pages',\n",
       "       'members_can_fork_private_repositories', 'web_commit_signoff_required',\n",
       "       'members_can_create_public_pages', 'members_can_create_private_pages',\n",
       "       'plan.name', 'plan.space', 'plan.private_repos', 'plan.filled_seats',\n",
       "       'plan.seats', 'advanced_security_enabled_for_new_repositories',\n",
       "       'dependabot_alerts_enabled_for_new_repositories',\n",
       "       'dependabot_security_updates_enabled_for_new_repositories',\n",
       "       'dependency_graph_enabled_for_new_repositories',\n",
       "       'secret_scanning_enabled_for_new_repositories',\n",
       "       'secret_scanning_push_protection_enabled_for_new_repositories',\n",
       "       'secret_scanning_push_protection_custom_link_enabled',\n",
       "       'secret_scanning_push_protection_custom_link', 'coding_dh_id'],\n",
       "      dtype='object')"
      ]
     },
     "execution_count": 15,
     "metadata": {},
     "output_type": "execute_result"
    }
   ],
   "source": [
    "test2.columns"
   ]
  },
  {
   "cell_type": "code",
   "execution_count": 13,
   "metadata": {},
   "outputs": [
    {
     "data": {
      "text/plain": [
       "Index(['bio', 'followers_url', 'following_url', 'gists_url', 'gravatar_id',\n",
       "       'hireable', 'organizations_url', 'received_events_url', 'site_admin',\n",
       "       'starred_url', 'subscriptions_url', 'login', 'id', 'node_id', 'url',\n",
       "       'repos_url', 'events_url', 'hooks_url', 'issues_url', 'members_url',\n",
       "       'public_members_url', 'avatar_url', 'description', 'is_verified',\n",
       "       'has_organization_projects', 'has_repository_projects', 'public_repos',\n",
       "       'public_gists', 'followers', 'following', 'html_url', 'created_at',\n",
       "       'updated_at', 'type', 'name', 'company', 'blog', 'location', 'email',\n",
       "       'twitter_username', 'coding_dh_date', 'total_private_repos',\n",
       "       'owned_private_repos', 'private_gists', 'disk_usage', 'collaborators',\n",
       "       'billing_email', 'default_repository_permission',\n",
       "       'members_can_create_repositories', 'two_factor_requirement_enabled',\n",
       "       'members_allowed_repository_creation_type',\n",
       "       'members_can_create_public_repositories',\n",
       "       'members_can_create_private_repositories',\n",
       "       'members_can_create_internal_repositories', 'members_can_create_pages',\n",
       "       'members_can_fork_private_repositories', 'web_commit_signoff_required',\n",
       "       'members_can_create_public_pages', 'members_can_create_private_pages',\n",
       "       'plan.name', 'plan.space', 'plan.private_repos', 'plan.filled_seats',\n",
       "       'plan.seats', 'advanced_security_enabled_for_new_repositories',\n",
       "       'dependabot_alerts_enabled_for_new_repositories',\n",
       "       'dependabot_security_updates_enabled_for_new_repositories',\n",
       "       'dependency_graph_enabled_for_new_repositories',\n",
       "       'secret_scanning_enabled_for_new_repositories',\n",
       "       'secret_scanning_push_protection_enabled_for_new_repositories',\n",
       "       'secret_scanning_push_protection_custom_link_enabled',\n",
       "       'secret_scanning_push_protection_custom_link', 'coding_dh_id'],\n",
       "      dtype='object')"
      ]
     },
     "execution_count": 13,
     "metadata": {},
     "output_type": "execute_result"
    }
   ],
   "source": [
    "test.columns"
   ]
  },
  {
   "attachments": {},
   "cell_type": "markdown",
   "metadata": {},
   "source": [
    "### Create Initial Queries Datasets and Get Entities"
   ]
  },
  {
   "cell_type": "code",
   "execution_count": 18,
   "metadata": {},
   "outputs": [
    {
     "name": "stderr",
     "output_type": "stream",
     "text": [
      "Walking through directories: 0it [00:00, ?it/s]"
     ]
    },
    {
     "name": "stderr",
     "output_type": "stream",
     "text": [
      "Walking through directories: 9it [00:00, 495.11it/s]\n",
      "Processing queries: 100%|██████████| 17/17 [00:00<00:00, 240.01it/s]\n",
      "Walking through directories: 9it [00:00, 283.13it/s]\n",
      "Processing queries: 100%|██████████| 74/74 [00:00<00:00, 108.59it/s]\n"
     ]
    }
   ],
   "source": [
    "data_directory_path = \"../../new_datasets\"\n",
    "target_terms: list = [\"Public History\", \"Digital History\", \"Digital Cultural Heritage\", \"Cultural Analytics\", \"Computational Humanities\", \"Computational Social Science\", \"Digital Humanities\"]\n",
    "\n",
    "# Load in the translated terms\n",
    "cleaned_terms = pd.read_csv(f'{data_directory_path}/derived_files/grouped_cleaned_translated_terms.csv', encoding='utf-8-sig')\n",
    "\n",
    "if 'keep_term' in cleaned_terms.columns:\n",
    "    cleaned_terms = cleaned_terms[cleaned_terms.keep_term == True]\n",
    "# check if columns need renaming\n",
    "columns_to_rename = ['code', 'term', 'term_source']\n",
    "if all(elem in cleaned_terms.columns for elem in columns_to_rename):\n",
    "    cleaned_terms = cleaned_terms.rename(columns={'code': 'natural_language', 'term': 'search_term', 'term_source': 'search_term_source'})\n",
    "cleaned_terms = cleaned_terms[cleaned_terms.search_term_source.isin(target_terms)]\n",
    "cleaned_terms = cleaned_terms.reset_index(drop=True)\n",
    "\n",
    "cleaned_terms.loc[cleaned_terms.search_term.str.contains(\"&#39;\"), \"search_term\"] = cleaned_terms.search_term.str.replace(\"&#39;\", \"'\")\n",
    "cleaned_terms['lower_search_term'] = cleaned_terms.search_term.str.lower()\n",
    "\n",
    "search_user_queries_df = create_queries_directories(\"user\", cleaned_terms)\n",
    "search_org_queries_df = search_user_queries_df[search_user_queries_df['type'] == 'Organization']\n",
    "search_org_queries_df = search_org_queries_df[search_org_queries_df.search_term_source.isin(cleaned_terms.search_term_source.unique())]\n",
    "search_user_queries_df = search_user_queries_df[search_user_queries_df['type'] == 'User']\n",
    "search_user_queries_df = search_user_queries_df[search_user_queries_df.search_term_source.isin(cleaned_terms.search_term_source.unique())]\n",
    "search_repo_queries_df = create_queries_directories(\"repo\", cleaned_terms)\n",
    "search_repo_queries_df = search_repo_queries_df[search_repo_queries_df.search_term_source.isin(cleaned_terms.search_term_source.unique())]"
   ]
  },
  {
   "cell_type": "code",
   "execution_count": 95,
   "metadata": {},
   "outputs": [],
   "source": [
    "# entity_type = \"repos\"\n",
    "# potential_new_entities_df = search_repo_queries_df.drop_duplicates(subset=['full_name'])\n",
    "# temp_entity_dir = f\"{data_directory_path}/historic_data/entity_files/all_repos/\"\n",
    "# entity_progress_bar = tqdm(total=potential_new_entities_df.shape[0], desc=\"Processing entities\")\n",
    "# error_file_path = f\"{data_directory_path}/error_logs/repo_errors.csv\"\n",
    "# get_new_entities(entity_type, potential_new_entities_df, temp_entity_dir, entity_progress_bar, error_file_path)\n",
    "\n",
    "# entity_type = \"orgs\"\n",
    "# potential_new_entities_df = search_org_queries_df.drop_duplicates(subset=['login'])\n",
    "# temp_entity_dir = f\"{data_directory_path}/historic_data/entity_files/all_orgs/\"\n",
    "# entity_progress_bar = tqdm(total=potential_new_entities_df.shape[0], desc=\"Processing entities\")\n",
    "# error_file_path = f\"{data_directory_path}/error_logs/org_errors.csv\"\n",
    "# get_new_entities(entity_type, potential_new_entities_df, temp_entity_dir, entity_progress_bar, error_file_path)\n",
    "\n",
    "# entity_type = \"users\"\n",
    "# potential_new_entities_df = search_user_queries_df.drop_duplicates(subset=['login'])\n",
    "# temp_entity_dir = f\"{data_directory_path}/historic_data/entity_files/all_users/\"\n",
    "# entity_progress_bar = tqdm(total=potential_new_entities_df.shape[0], desc=\"Processing entities\")\n",
    "# error_file_path = f\"{data_directory_path}/error_logs/user_errors.csv\"\n",
    "# get_new_entities(entity_type, potential_new_entities_df, temp_entity_dir, entity_progress_bar, error_file_path)"
   ]
  },
  {
   "cell_type": "code",
   "execution_count": 19,
   "metadata": {},
   "outputs": [
    {
     "data": {
      "text/plain": [
       "Digital Humanities              4018\n",
       "Digital History                 1141\n",
       "Computational Social Science     786\n",
       "Cultural Analytics               473\n",
       "Computational Humanities         354\n",
       "Public History                    94\n",
       "Digital Cultural Heritage         44\n",
       "Name: search_term_source, dtype: int64"
      ]
     },
     "execution_count": 19,
     "metadata": {},
     "output_type": "execute_result"
    }
   ],
   "source": [
    "search_repo_queries_df.search_term_source.value_counts()"
   ]
  },
  {
   "cell_type": "code",
   "execution_count": 20,
   "metadata": {},
   "outputs": [
    {
     "data": {
      "text/plain": [
       "(1262, 1952, 246, 426, 4528, 6910)"
      ]
     },
     "execution_count": 20,
     "metadata": {},
     "output_type": "execute_result"
    }
   ],
   "source": [
    "search_user_queries_df.login.nunique(), len(search_user_queries_df), search_org_queries_df.login.nunique(), len(search_org_queries_df), search_repo_queries_df.full_name.nunique(), len(search_repo_queries_df)"
   ]
  },
  {
   "cell_type": "code",
   "execution_count": 21,
   "metadata": {},
   "outputs": [],
   "source": [
    "user_files = os.listdir(f\"{data_directory_path}/historic_data/entity_files/all_users/\")\n",
    "org_files = os.listdir(f\"{data_directory_path}/historic_data/entity_files/all_orgs/\")\n",
    "repo_files = os.listdir(f\"{data_directory_path}/historic_data/entity_files/all_repos/\")\n",
    "cleaned_user_files = [f.split(\"_coding_dh_\")[0] for f in user_files if f.endswith(\".csv\")]\n",
    "cleaned_org_files = [f.split(\"_coding_dh_\")[0] for f in org_files if f.endswith(\".csv\")]\n",
    "cleaned_repo_files = [f.split(\"_coding_dh_\")[0].replace(\"_\", \"/\", 1) for f in repo_files if f.endswith(\".csv\")]\n"
   ]
  },
  {
   "cell_type": "code",
   "execution_count": 22,
   "metadata": {},
   "outputs": [],
   "source": [
    "existing_search_user_queries_df = search_user_queries_df[search_user_queries_df.login.isin(cleaned_user_files)]\n",
    "existing_search_org_queries_df = search_org_queries_df[search_org_queries_df.login.isin(cleaned_org_files)]\n",
    "existing_search_repo_queries_df = search_repo_queries_df[search_repo_queries_df.full_name.isin(cleaned_repo_files)]"
   ]
  },
  {
   "cell_type": "code",
   "execution_count": 23,
   "metadata": {},
   "outputs": [
    {
     "data": {
      "text/plain": [
       "(1262, 1952, 246, 426, 4525, 6907)"
      ]
     },
     "execution_count": 23,
     "metadata": {},
     "output_type": "execute_result"
    }
   ],
   "source": [
    "existing_search_user_queries_df.login.nunique(), len(existing_search_user_queries_df), existing_search_org_queries_df.login.nunique(), len(existing_search_org_queries_df), existing_search_repo_queries_df.full_name.nunique(), len(existing_search_repo_queries_df)"
   ]
  },
  {
   "cell_type": "code",
   "execution_count": 25,
   "metadata": {},
   "outputs": [],
   "source": [
    "finalized_user_logins = existing_search_user_queries_df.login.unique().tolist()\n",
    "finalized_org_logins = existing_search_org_queries_df.login.unique().tolist()\n",
    "finalized_repo_full_names = existing_search_repo_queries_df.full_name.unique().tolist()\n",
    "\n",
    "finalized_user_files = [f\"{login}_coding_dh_user.csv\" for login in finalized_user_logins]\n",
    "finalized_org_files = [f\"{login}_coding_dh_org.csv\" for login in finalized_org_logins]\n",
    "finalized_repo_files = [f\"{full_name.replace('/', '_')}_coding_dh_repo.csv\" for full_name in finalized_repo_full_names]"
   ]
  },
  {
   "cell_type": "code",
   "execution_count": 26,
   "metadata": {},
   "outputs": [
    {
     "data": {
      "text/plain": [
       "(1262, 246, 4525)"
      ]
     },
     "execution_count": 26,
     "metadata": {},
     "output_type": "execute_result"
    }
   ],
   "source": [
    "len(finalized_user_files), len(finalized_org_files), len(finalized_repo_files)"
   ]
  },
  {
   "cell_type": "code",
   "execution_count": 27,
   "metadata": {},
   "outputs": [
    {
     "name": "stderr",
     "output_type": "stream",
     "text": [
      "Reading files in ../../new_datasets/historic_data/entity_files/all_users/: 100%|██████████| 1262/1262 [00:02<00:00, 456.24it/s]\n",
      "Reading files in ../../new_datasets/historic_data/entity_files/all_orgs/: 100%|██████████| 246/246 [00:00<00:00, 639.71it/s]\n",
      "Reading files in ../../new_datasets/historic_data/entity_files/all_repos/: 100%|██████████| 4525/4525 [00:16<00:00, 277.05it/s]\n"
     ]
    }
   ],
   "source": [
    "initial_core_users = read_combine_files(f\"{data_directory_path}/historic_data/entity_files/all_users/\", finalized_user_files)\n",
    "initial_core_orgs = read_combine_files(f\"{data_directory_path}/historic_data/entity_files/all_orgs/\", finalized_org_files)\n",
    "initial_core_repos = read_combine_files(f\"{data_directory_path}/historic_data/entity_files/all_repos/\", finalized_repo_files)"
   ]
  },
  {
   "cell_type": "code",
   "execution_count": 28,
   "metadata": {},
   "outputs": [
    {
     "data": {
      "text/plain": [
       "Index(['bio', 'followers_url', 'following_url', 'gists_url', 'gravatar_id',\n",
       "       'hireable', 'organizations_url', 'received_events_url', 'site_admin',\n",
       "       'starred_url', 'subscriptions_url', 'login', 'id', 'node_id', 'url',\n",
       "       'repos_url', 'events_url', 'hooks_url', 'issues_url', 'members_url',\n",
       "       'public_members_url', 'avatar_url', 'description', 'is_verified',\n",
       "       'has_organization_projects', 'has_repository_projects', 'public_repos',\n",
       "       'public_gists', 'followers', 'following', 'html_url', 'created_at',\n",
       "       'updated_at', 'type', 'name', 'company', 'blog', 'location', 'email',\n",
       "       'twitter_username', 'coding_dh_date', 'coding_dh_id', 'star_count',\n",
       "       'subscription_count', 'organization_count', 'members_count',\n",
       "       'org_query_time', 'total_private_repos', 'owned_private_repos',\n",
       "       'private_gists', 'disk_usage', 'collaborators', 'billing_email',\n",
       "       'default_repository_permission', 'members_can_create_repositories',\n",
       "       'two_factor_requirement_enabled',\n",
       "       'members_allowed_repository_creation_type',\n",
       "       'members_can_create_public_repositories',\n",
       "       'members_can_create_private_repositories',\n",
       "       'members_can_create_internal_repositories', 'members_can_create_pages',\n",
       "       'members_can_fork_private_repositories', 'web_commit_signoff_required',\n",
       "       'members_can_create_public_pages', 'members_can_create_private_pages',\n",
       "       'plan.name', 'plan.space', 'plan.private_repos', 'plan.filled_seats',\n",
       "       'plan.seats', 'advanced_security_enabled_for_new_repositories',\n",
       "       'dependabot_alerts_enabled_for_new_repositories',\n",
       "       'dependabot_security_updates_enabled_for_new_repositories',\n",
       "       'dependency_graph_enabled_for_new_repositories',\n",
       "       'secret_scanning_enabled_for_new_repositories',\n",
       "       'secret_scanning_push_protection_enabled_for_new_repositories',\n",
       "       'secret_scanning_push_protection_custom_link_enabled',\n",
       "       'secret_scanning_push_protection_custom_link'],\n",
       "      dtype='object')"
      ]
     },
     "execution_count": 28,
     "metadata": {},
     "output_type": "execute_result"
    }
   ],
   "source": [
    "initial_core_orgs.columns"
   ]
  },
  {
   "cell_type": "code",
   "execution_count": 34,
   "metadata": {},
   "outputs": [],
   "source": [
    "testing = pd.read_csv(f\"{data_directory_path}/historic_data/entity_files/all_orgs/UVicHCMC_coding_dh_org.csv\")"
   ]
  },
  {
   "cell_type": "code",
   "execution_count": 33,
   "metadata": {},
   "outputs": [
    {
     "data": {
      "text/html": [
       "<pre style=\"white-space:pre;overflow-x:auto;line-height:normal;font-family:Menlo,'DejaVu Sans Mono',consolas,'Courier New',monospace\">UVicHCMC_coding_dh_org.csv\n",
       "</pre>\n"
      ],
      "text/plain": [
       "UVicHCMC_coding_dh_org.csv\n"
      ]
     },
     "metadata": {},
     "output_type": "display_data"
    },
    {
     "data": {
      "text/html": [
       "<pre style=\"white-space:pre;overflow-x:auto;line-height:normal;font-family:Menlo,'DejaVu Sans Mono',consolas,'Courier New',monospace\">skymakerstudio_coding_dh_org.csv\n",
       "</pre>\n"
      ],
      "text/plain": [
       "skymakerstudio_coding_dh_org.csv\n"
      ]
     },
     "metadata": {},
     "output_type": "display_data"
    },
    {
     "data": {
      "text/html": [
       "<pre style=\"white-space:pre;overflow-x:auto;line-height:normal;font-family:Menlo,'DejaVu Sans Mono',consolas,'Courier New',monospace\">tokyor_coding_dh_org.csv\n",
       "</pre>\n"
      ],
      "text/plain": [
       "tokyor_coding_dh_org.csv\n"
      ]
     },
     "metadata": {},
     "output_type": "display_data"
    },
    {
     "data": {
      "text/html": [
       "<pre style=\"white-space:pre;overflow-x:auto;line-height:normal;font-family:Menlo,'DejaVu Sans Mono',consolas,'Courier New',monospace\">petantelcodi_coding_dh_org.csv\n",
       "</pre>\n"
      ],
      "text/plain": [
       "petantelcodi_coding_dh_org.csv\n"
      ]
     },
     "metadata": {},
     "output_type": "display_data"
    },
    {
     "data": {
      "text/html": [
       "<pre style=\"white-space:pre;overflow-x:auto;line-height:normal;font-family:Menlo,'DejaVu Sans Mono',consolas,'Courier New',monospace\">Vermont-OCEAN_coding_dh_org.csv\n",
       "</pre>\n"
      ],
      "text/plain": [
       "Vermont-OCEAN_coding_dh_org.csv\n"
      ]
     },
     "metadata": {},
     "output_type": "display_data"
    },
    {
     "data": {
      "text/html": [
       "<pre style=\"white-space:pre;overflow-x:auto;line-height:normal;font-family:Menlo,'DejaVu Sans Mono',consolas,'Courier New',monospace\">mdx-js_coding_dh_org.csv\n",
       "</pre>\n"
      ],
      "text/plain": [
       "mdx-js_coding_dh_org.csv\n"
      ]
     },
     "metadata": {},
     "output_type": "display_data"
    },
    {
     "data": {
      "text/html": [
       "<pre style=\"white-space:pre;overflow-x:auto;line-height:normal;font-family:Menlo,'DejaVu Sans Mono',consolas,'Courier New',monospace\">GDHRG_coding_dh_org.csv\n",
       "</pre>\n"
      ],
      "text/plain": [
       "GDHRG_coding_dh_org.csv\n"
      ]
     },
     "metadata": {},
     "output_type": "display_data"
    },
    {
     "data": {
      "text/html": [
       "<pre style=\"white-space:pre;overflow-x:auto;line-height:normal;font-family:Menlo,'DejaVu Sans Mono',consolas,'Courier New',monospace\">altoxml_coding_dh_org.csv\n",
       "</pre>\n"
      ],
      "text/plain": [
       "altoxml_coding_dh_org.csv\n"
      ]
     },
     "metadata": {},
     "output_type": "display_data"
    },
    {
     "data": {
      "text/html": [
       "<pre style=\"white-space:pre;overflow-x:auto;line-height:normal;font-family:Menlo,'DejaVu Sans Mono',consolas,'Courier New',monospace\">mhanyc_coding_dh_org.csv\n",
       "</pre>\n"
      ],
      "text/plain": [
       "mhanyc_coding_dh_org.csv\n"
      ]
     },
     "metadata": {},
     "output_type": "display_data"
    },
    {
     "data": {
      "text/html": [
       "<pre style=\"white-space:pre;overflow-x:auto;line-height:normal;font-family:Menlo,'DejaVu Sans Mono',consolas,'Courier New',monospace\">cimplex-project_coding_dh_org.csv\n",
       "</pre>\n"
      ],
      "text/plain": [
       "cimplex-project_coding_dh_org.csv\n"
      ]
     },
     "metadata": {},
     "output_type": "display_data"
    },
    {
     "data": {
      "text/html": [
       "<pre style=\"white-space:pre;overflow-x:auto;line-height:normal;font-family:Menlo,'DejaVu Sans Mono',consolas,'Courier New',monospace\">epfl-cdh_coding_dh_org.csv\n",
       "</pre>\n"
      ],
      "text/plain": [
       "epfl-cdh_coding_dh_org.csv\n"
      ]
     },
     "metadata": {},
     "output_type": "display_data"
    },
    {
     "data": {
      "text/html": [
       "<pre style=\"white-space:pre;overflow-x:auto;line-height:normal;font-family:Menlo,'DejaVu Sans Mono',consolas,'Courier New',monospace\">featherless_coding_dh_org.csv\n",
       "</pre>\n"
      ],
      "text/plain": [
       "featherless_coding_dh_org.csv\n"
      ]
     },
     "metadata": {},
     "output_type": "display_data"
    },
    {
     "data": {
      "text/html": [
       "<pre style=\"white-space:pre;overflow-x:auto;line-height:normal;font-family:Menlo,'DejaVu Sans Mono',consolas,'Courier New',monospace\">iv-org_coding_dh_org.csv\n",
       "</pre>\n"
      ],
      "text/plain": [
       "iv-org_coding_dh_org.csv\n"
      ]
     },
     "metadata": {},
     "output_type": "display_data"
    },
    {
     "data": {
      "text/html": [
       "<pre style=\"white-space:pre;overflow-x:auto;line-height:normal;font-family:Menlo,'DejaVu Sans Mono',consolas,'Courier New',monospace\">subugoe_coding_dh_org.csv\n",
       "</pre>\n"
      ],
      "text/plain": [
       "subugoe_coding_dh_org.csv\n"
      ]
     },
     "metadata": {},
     "output_type": "display_data"
    },
    {
     "data": {
      "text/html": [
       "<pre style=\"white-space:pre;overflow-x:auto;line-height:normal;font-family:Menlo,'DejaVu Sans Mono',consolas,'Courier New',monospace\">golang-leipzig_coding_dh_org.csv\n",
       "</pre>\n"
      ],
      "text/plain": [
       "golang-leipzig_coding_dh_org.csv\n"
      ]
     },
     "metadata": {},
     "output_type": "display_data"
    },
    {
     "data": {
      "text/html": [
       "<pre style=\"white-space:pre;overflow-x:auto;line-height:normal;font-family:Menlo,'DejaVu Sans Mono',consolas,'Courier New',monospace\">oer-on-github_coding_dh_org.csv\n",
       "</pre>\n"
      ],
      "text/plain": [
       "oer-on-github_coding_dh_org.csv\n"
      ]
     },
     "metadata": {},
     "output_type": "display_data"
    },
    {
     "data": {
      "text/html": [
       "<pre style=\"white-space:pre;overflow-x:auto;line-height:normal;font-family:Menlo,'DejaVu Sans Mono',consolas,'Courier New',monospace\">EMiC-UA_coding_dh_org.csv\n",
       "</pre>\n"
      ],
      "text/plain": [
       "EMiC-UA_coding_dh_org.csv\n"
      ]
     },
     "metadata": {},
     "output_type": "display_data"
    },
    {
     "data": {
      "text/html": [
       "<pre style=\"white-space:pre;overflow-x:auto;line-height:normal;font-family:Menlo,'DejaVu Sans Mono',consolas,'Courier New',monospace\">Iota-School_coding_dh_org.csv\n",
       "</pre>\n"
      ],
      "text/plain": [
       "Iota-School_coding_dh_org.csv\n"
      ]
     },
     "metadata": {},
     "output_type": "display_data"
    },
    {
     "data": {
      "text/html": [
       "<pre style=\"white-space:pre;overflow-x:auto;line-height:normal;font-family:Menlo,'DejaVu Sans Mono',consolas,'Courier New',monospace\">Schematron_coding_dh_org.csv\n",
       "</pre>\n"
      ],
      "text/plain": [
       "Schematron_coding_dh_org.csv\n"
      ]
     },
     "metadata": {},
     "output_type": "display_data"
    },
    {
     "data": {
      "text/html": [
       "<pre style=\"white-space:pre;overflow-x:auto;line-height:normal;font-family:Menlo,'DejaVu Sans Mono',consolas,'Courier New',monospace\">nteract_coding_dh_org.csv\n",
       "</pre>\n"
      ],
      "text/plain": [
       "nteract_coding_dh_org.csv\n"
      ]
     },
     "metadata": {},
     "output_type": "display_data"
    },
    {
     "data": {
      "text/html": [
       "<pre style=\"white-space:pre;overflow-x:auto;line-height:normal;font-family:Menlo,'DejaVu Sans Mono',consolas,'Courier New',monospace\">CSC207-2019S_coding_dh_org.csv\n",
       "</pre>\n"
      ],
      "text/plain": [
       "CSC207-2019S_coding_dh_org.csv\n"
      ]
     },
     "metadata": {},
     "output_type": "display_data"
    },
    {
     "data": {
      "text/html": [
       "<pre style=\"white-space:pre;overflow-x:auto;line-height:normal;font-family:Menlo,'DejaVu Sans Mono',consolas,'Courier New',monospace\">samvera_coding_dh_org.csv\n",
       "</pre>\n"
      ],
      "text/plain": [
       "samvera_coding_dh_org.csv\n"
      ]
     },
     "metadata": {},
     "output_type": "display_data"
    },
    {
     "data": {
      "text/html": [
       "<pre style=\"white-space:pre;overflow-x:auto;line-height:normal;font-family:Menlo,'DejaVu Sans Mono',consolas,'Courier New',monospace\">corretto_coding_dh_org.csv\n",
       "</pre>\n"
      ],
      "text/plain": [
       "corretto_coding_dh_org.csv\n"
      ]
     },
     "metadata": {},
     "output_type": "display_data"
    },
    {
     "data": {
      "text/html": [
       "<pre style=\"white-space:pre;overflow-x:auto;line-height:normal;font-family:Menlo,'DejaVu Sans Mono',consolas,'Courier New',monospace\">thesaurus-linguae-aegyptiae_coding_dh_org.csv\n",
       "</pre>\n"
      ],
      "text/plain": [
       "thesaurus-linguae-aegyptiae_coding_dh_org.csv\n"
      ]
     },
     "metadata": {},
     "output_type": "display_data"
    },
    {
     "data": {
      "text/html": [
       "<pre style=\"white-space:pre;overflow-x:auto;line-height:normal;font-family:Menlo,'DejaVu Sans Mono',consolas,'Courier New',monospace\">Aphrodisias_coding_dh_org.csv\n",
       "</pre>\n"
      ],
      "text/plain": [
       "Aphrodisias_coding_dh_org.csv\n"
      ]
     },
     "metadata": {},
     "output_type": "display_data"
    },
    {
     "data": {
      "text/html": [
       "<pre style=\"white-space:pre;overflow-x:auto;line-height:normal;font-family:Menlo,'DejaVu Sans Mono',consolas,'Courier New',monospace\">tangrams_coding_dh_org.csv\n",
       "</pre>\n"
      ],
      "text/plain": [
       "tangrams_coding_dh_org.csv\n"
      ]
     },
     "metadata": {},
     "output_type": "display_data"
    },
    {
     "data": {
      "text/html": [
       "<pre style=\"white-space:pre;overflow-x:auto;line-height:normal;font-family:Menlo,'DejaVu Sans Mono',consolas,'Courier New',monospace\">universityofcalifornia_coding_dh_org.csv\n",
       "</pre>\n"
      ],
      "text/plain": [
       "universityofcalifornia_coding_dh_org.csv\n"
      ]
     },
     "metadata": {},
     "output_type": "display_data"
    },
    {
     "data": {
      "text/html": [
       "<pre style=\"white-space:pre;overflow-x:auto;line-height:normal;font-family:Menlo,'DejaVu Sans Mono',consolas,'Courier New',monospace\">DHSlackTeam_coding_dh_org.csv\n",
       "</pre>\n"
      ],
      "text/plain": [
       "DHSlackTeam_coding_dh_org.csv\n"
      ]
     },
     "metadata": {},
     "output_type": "display_data"
    },
    {
     "data": {
      "text/html": [
       "<pre style=\"white-space:pre;overflow-x:auto;line-height:normal;font-family:Menlo,'DejaVu Sans Mono',consolas,'Courier New',monospace\">inventaire-des-orgues_coding_dh_org.csv\n",
       "</pre>\n"
      ],
      "text/plain": [
       "inventaire-des-orgues_coding_dh_org.csv\n"
      ]
     },
     "metadata": {},
     "output_type": "display_data"
    },
    {
     "data": {
      "text/html": [
       "<pre style=\"white-space:pre;overflow-x:auto;line-height:normal;font-family:Menlo,'DejaVu Sans Mono',consolas,'Courier New',monospace\">apertium_coding_dh_org.csv\n",
       "</pre>\n"
      ],
      "text/plain": [
       "apertium_coding_dh_org.csv\n"
      ]
     },
     "metadata": {},
     "output_type": "display_data"
    },
    {
     "data": {
      "text/html": [
       "<pre style=\"white-space:pre;overflow-x:auto;line-height:normal;font-family:Menlo,'DejaVu Sans Mono',consolas,'Courier New',monospace\">OBF_coding_dh_org.csv\n",
       "</pre>\n"
      ],
      "text/plain": [
       "OBF_coding_dh_org.csv\n"
      ]
     },
     "metadata": {},
     "output_type": "display_data"
    },
    {
     "data": {
      "text/html": [
       "<pre style=\"white-space:pre;overflow-x:auto;line-height:normal;font-family:Menlo,'DejaVu Sans Mono',consolas,'Courier New',monospace\">foragepm_coding_dh_org.csv\n",
       "</pre>\n"
      ],
      "text/plain": [
       "foragepm_coding_dh_org.csv\n"
      ]
     },
     "metadata": {},
     "output_type": "display_data"
    },
    {
     "data": {
      "text/html": [
       "<pre style=\"white-space:pre;overflow-x:auto;line-height:normal;font-family:Menlo,'DejaVu Sans Mono',consolas,'Courier New',monospace\">cjkvi_coding_dh_org.csv\n",
       "</pre>\n"
      ],
      "text/plain": [
       "cjkvi_coding_dh_org.csv\n"
      ]
     },
     "metadata": {},
     "output_type": "display_data"
    },
    {
     "data": {
      "text/html": [
       "<pre style=\"white-space:pre;overflow-x:auto;line-height:normal;font-family:Menlo,'DejaVu Sans Mono',consolas,'Courier New',monospace\">ulsdevteam_coding_dh_org.csv\n",
       "</pre>\n"
      ],
      "text/plain": [
       "ulsdevteam_coding_dh_org.csv\n"
      ]
     },
     "metadata": {},
     "output_type": "display_data"
    },
    {
     "data": {
      "text/html": [
       "<pre style=\"white-space:pre;overflow-x:auto;line-height:normal;font-family:Menlo,'DejaVu Sans Mono',consolas,'Courier New',monospace\">nock_coding_dh_org.csv\n",
       "</pre>\n"
      ],
      "text/plain": [
       "nock_coding_dh_org.csv\n"
      ]
     },
     "metadata": {},
     "output_type": "display_data"
    },
    {
     "data": {
      "text/html": [
       "<pre style=\"white-space:pre;overflow-x:auto;line-height:normal;font-family:Menlo,'DejaVu Sans Mono',consolas,'Courier New',monospace\">GC-Library_coding_dh_org.csv\n",
       "</pre>\n"
      ],
      "text/plain": [
       "GC-Library_coding_dh_org.csv\n"
      ]
     },
     "metadata": {},
     "output_type": "display_data"
    },
    {
     "data": {
      "text/html": [
       "<pre style=\"white-space:pre;overflow-x:auto;line-height:normal;font-family:Menlo,'DejaVu Sans Mono',consolas,'Courier New',monospace\">HerrLab_coding_dh_org.csv\n",
       "</pre>\n"
      ],
      "text/plain": [
       "HerrLab_coding_dh_org.csv\n"
      ]
     },
     "metadata": {},
     "output_type": "display_data"
    },
    {
     "data": {
      "text/html": [
       "<pre style=\"white-space:pre;overflow-x:auto;line-height:normal;font-family:Menlo,'DejaVu Sans Mono',consolas,'Courier New',monospace\">berkmancenter_coding_dh_org.csv\n",
       "</pre>\n"
      ],
      "text/plain": [
       "berkmancenter_coding_dh_org.csv\n"
      ]
     },
     "metadata": {},
     "output_type": "display_data"
    },
    {
     "data": {
      "text/html": [
       "<pre style=\"white-space:pre;overflow-x:auto;line-height:normal;font-family:Menlo,'DejaVu Sans Mono',consolas,'Courier New',monospace\">the-xkcd-community_coding_dh_org.csv\n",
       "</pre>\n"
      ],
      "text/plain": [
       "the-xkcd-community_coding_dh_org.csv\n"
      ]
     },
     "metadata": {},
     "output_type": "display_data"
    },
    {
     "data": {
      "text/html": [
       "<pre style=\"white-space:pre;overflow-x:auto;line-height:normal;font-family:Menlo,'DejaVu Sans Mono',consolas,'Courier New',monospace\">ScholarIndex_coding_dh_org.csv\n",
       "</pre>\n"
      ],
      "text/plain": [
       "ScholarIndex_coding_dh_org.csv\n"
      ]
     },
     "metadata": {},
     "output_type": "display_data"
    },
    {
     "data": {
      "text/html": [
       "<pre style=\"white-space:pre;overflow-x:auto;line-height:normal;font-family:Menlo,'DejaVu Sans Mono',consolas,'Courier New',monospace\">googlers_coding_dh_org.csv\n",
       "</pre>\n"
      ],
      "text/plain": [
       "googlers_coding_dh_org.csv\n"
      ]
     },
     "metadata": {},
     "output_type": "display_data"
    },
    {
     "data": {
      "text/html": [
       "<pre style=\"white-space:pre;overflow-x:auto;line-height:normal;font-family:Menlo,'DejaVu Sans Mono',consolas,'Courier New',monospace\">coderefinery_coding_dh_org.csv\n",
       "</pre>\n"
      ],
      "text/plain": [
       "coderefinery_coding_dh_org.csv\n"
      ]
     },
     "metadata": {},
     "output_type": "display_data"
    },
    {
     "data": {
      "text/html": [
       "<pre style=\"white-space:pre;overflow-x:auto;line-height:normal;font-family:Menlo,'DejaVu Sans Mono',consolas,'Courier New',monospace\">wiscsg_coding_dh_org.csv\n",
       "</pre>\n"
      ],
      "text/plain": [
       "wiscsg_coding_dh_org.csv\n"
      ]
     },
     "metadata": {},
     "output_type": "display_data"
    },
    {
     "data": {
      "text/html": [
       "<pre style=\"white-space:pre;overflow-x:auto;line-height:normal;font-family:Menlo,'DejaVu Sans Mono',consolas,'Courier New',monospace\">DevPimars_coding_dh_org.csv\n",
       "</pre>\n"
      ],
      "text/plain": [
       "DevPimars_coding_dh_org.csv\n"
      ]
     },
     "metadata": {},
     "output_type": "display_data"
    },
    {
     "data": {
      "text/html": [
       "<pre style=\"white-space:pre;overflow-x:auto;line-height:normal;font-family:Menlo,'DejaVu Sans Mono',consolas,'Courier New',monospace\">codepost-io_coding_dh_org.csv\n",
       "</pre>\n"
      ],
      "text/plain": [
       "codepost-io_coding_dh_org.csv\n"
      ]
     },
     "metadata": {},
     "output_type": "display_data"
    },
    {
     "data": {
      "text/html": [
       "<pre style=\"white-space:pre;overflow-x:auto;line-height:normal;font-family:Menlo,'DejaVu Sans Mono',consolas,'Courier New',monospace\">hackshackerstaipei_coding_dh_org.csv\n",
       "</pre>\n"
      ],
      "text/plain": [
       "hackshackerstaipei_coding_dh_org.csv\n"
      ]
     },
     "metadata": {},
     "output_type": "display_data"
    },
    {
     "data": {
      "text/html": [
       "<pre style=\"white-space:pre;overflow-x:auto;line-height:normal;font-family:Menlo,'DejaVu Sans Mono',consolas,'Courier New',monospace\">digiah_coding_dh_org.csv\n",
       "</pre>\n"
      ],
      "text/plain": [
       "digiah_coding_dh_org.csv\n"
      ]
     },
     "metadata": {},
     "output_type": "display_data"
    },
    {
     "data": {
      "text/html": [
       "<pre style=\"white-space:pre;overflow-x:auto;line-height:normal;font-family:Menlo,'DejaVu Sans Mono',consolas,'Courier New',monospace\">BuzzFeedNews_coding_dh_org.csv\n",
       "</pre>\n"
      ],
      "text/plain": [
       "BuzzFeedNews_coding_dh_org.csv\n"
      ]
     },
     "metadata": {},
     "output_type": "display_data"
    },
    {
     "data": {
      "text/html": [
       "<pre style=\"white-space:pre;overflow-x:auto;line-height:normal;font-family:Menlo,'DejaVu Sans Mono',consolas,'Courier New',monospace\">Sastra-deemed_coding_dh_org.csv\n",
       "</pre>\n"
      ],
      "text/plain": [
       "Sastra-deemed_coding_dh_org.csv\n"
      ]
     },
     "metadata": {},
     "output_type": "display_data"
    },
    {
     "data": {
      "text/html": [
       "<pre style=\"white-space:pre;overflow-x:auto;line-height:normal;font-family:Menlo,'DejaVu Sans Mono',consolas,'Courier New',monospace\">great-debate-research-software_coding_dh_org.csv\n",
       "</pre>\n"
      ],
      "text/plain": [
       "great-debate-research-software_coding_dh_org.csv\n"
      ]
     },
     "metadata": {},
     "output_type": "display_data"
    },
    {
     "data": {
      "text/html": [
       "<pre style=\"white-space:pre;overflow-x:auto;line-height:normal;font-family:Menlo,'DejaVu Sans Mono',consolas,'Courier New',monospace\">DocNow_coding_dh_org.csv\n",
       "</pre>\n"
      ],
      "text/plain": [
       "DocNow_coding_dh_org.csv\n"
      ]
     },
     "metadata": {},
     "output_type": "display_data"
    },
    {
     "data": {
      "text/html": [
       "<pre style=\"white-space:pre;overflow-x:auto;line-height:normal;font-family:Menlo,'DejaVu Sans Mono',consolas,'Courier New',monospace\">DH-SouthernAfrica_coding_dh_org.csv\n",
       "</pre>\n"
      ],
      "text/plain": [
       "DH-SouthernAfrica_coding_dh_org.csv\n"
      ]
     },
     "metadata": {},
     "output_type": "display_data"
    },
    {
     "data": {
      "text/html": [
       "<pre style=\"white-space:pre;overflow-x:auto;line-height:normal;font-family:Menlo,'DejaVu Sans Mono',consolas,'Courier New',monospace\">rewatt_coding_dh_org.csv\n",
       "</pre>\n"
      ],
      "text/plain": [
       "rewatt_coding_dh_org.csv\n"
      ]
     },
     "metadata": {},
     "output_type": "display_data"
    },
    {
     "data": {
      "text/html": [
       "<pre style=\"white-space:pre;overflow-x:auto;line-height:normal;font-family:Menlo,'DejaVu Sans Mono',consolas,'Courier New',monospace\">Hull-Robotics-Society_coding_dh_org.csv\n",
       "</pre>\n"
      ],
      "text/plain": [
       "Hull-Robotics-Society_coding_dh_org.csv\n"
      ]
     },
     "metadata": {},
     "output_type": "display_data"
    },
    {
     "data": {
      "text/html": [
       "<pre style=\"white-space:pre;overflow-x:auto;line-height:normal;font-family:Menlo,'DejaVu Sans Mono',consolas,'Courier New',monospace\">muslash_coding_dh_org.csv\n",
       "</pre>\n"
      ],
      "text/plain": [
       "muslash_coding_dh_org.csv\n"
      ]
     },
     "metadata": {},
     "output_type": "display_data"
    },
    {
     "data": {
      "text/html": [
       "<pre style=\"white-space:pre;overflow-x:auto;line-height:normal;font-family:Menlo,'DejaVu Sans Mono',consolas,'Courier New',monospace\">HandshakesByDC_coding_dh_org.csv\n",
       "</pre>\n"
      ],
      "text/plain": [
       "HandshakesByDC_coding_dh_org.csv\n"
      ]
     },
     "metadata": {},
     "output_type": "display_data"
    },
    {
     "data": {
      "text/html": [
       "<pre style=\"white-space:pre;overflow-x:auto;line-height:normal;font-family:Menlo,'DejaVu Sans Mono',consolas,'Courier New',monospace\">NYPL-publicdomain_coding_dh_org.csv\n",
       "</pre>\n"
      ],
      "text/plain": [
       "NYPL-publicdomain_coding_dh_org.csv\n"
      ]
     },
     "metadata": {},
     "output_type": "display_data"
    },
    {
     "data": {
      "text/html": [
       "<pre style=\"white-space:pre;overflow-x:auto;line-height:normal;font-family:Menlo,'DejaVu Sans Mono',consolas,'Courier New',monospace\">py-why_coding_dh_org.csv\n",
       "</pre>\n"
      ],
      "text/plain": [
       "py-why_coding_dh_org.csv\n"
      ]
     },
     "metadata": {},
     "output_type": "display_data"
    },
    {
     "data": {
      "text/html": [
       "<pre style=\"white-space:pre;overflow-x:auto;line-height:normal;font-family:Menlo,'DejaVu Sans Mono',consolas,'Courier New',monospace\">ShareLex_coding_dh_org.csv\n",
       "</pre>\n"
      ],
      "text/plain": [
       "ShareLex_coding_dh_org.csv\n"
      ]
     },
     "metadata": {},
     "output_type": "display_data"
    },
    {
     "data": {
      "text/html": [
       "<pre style=\"white-space:pre;overflow-x:auto;line-height:normal;font-family:Menlo,'DejaVu Sans Mono',consolas,'Courier New',monospace\">stencila_coding_dh_org.csv\n",
       "</pre>\n"
      ],
      "text/plain": [
       "stencila_coding_dh_org.csv\n"
      ]
     },
     "metadata": {},
     "output_type": "display_data"
    },
    {
     "data": {
      "text/html": [
       "<pre style=\"white-space:pre;overflow-x:auto;line-height:normal;font-family:Menlo,'DejaVu Sans Mono',consolas,'Courier New',monospace\">iEvoBio2019_coding_dh_org.csv\n",
       "</pre>\n"
      ],
      "text/plain": [
       "iEvoBio2019_coding_dh_org.csv\n"
      ]
     },
     "metadata": {},
     "output_type": "display_data"
    },
    {
     "data": {
      "text/html": [
       "<pre style=\"white-space:pre;overflow-x:auto;line-height:normal;font-family:Menlo,'DejaVu Sans Mono',consolas,'Courier New',monospace\">archivematica_coding_dh_org.csv\n",
       "</pre>\n"
      ],
      "text/plain": [
       "archivematica_coding_dh_org.csv\n"
      ]
     },
     "metadata": {},
     "output_type": "display_data"
    },
    {
     "data": {
      "text/html": [
       "<pre style=\"white-space:pre;overflow-x:auto;line-height:normal;font-family:Menlo,'DejaVu Sans Mono',consolas,'Courier New',monospace\">snapADDY_coding_dh_org.csv\n",
       "</pre>\n"
      ],
      "text/plain": [
       "snapADDY_coding_dh_org.csv\n"
      ]
     },
     "metadata": {},
     "output_type": "display_data"
    },
    {
     "data": {
      "text/html": [
       "<pre style=\"white-space:pre;overflow-x:auto;line-height:normal;font-family:Menlo,'DejaVu Sans Mono',consolas,'Courier New',monospace\">fellows_coding_dh_org.csv\n",
       "</pre>\n"
      ],
      "text/plain": [
       "fellows_coding_dh_org.csv\n"
      ]
     },
     "metadata": {},
     "output_type": "display_data"
    },
    {
     "data": {
      "text/html": [
       "<pre style=\"white-space:pre;overflow-x:auto;line-height:normal;font-family:Menlo,'DejaVu Sans Mono',consolas,'Courier New',monospace\">yorkulibraries_coding_dh_org.csv\n",
       "</pre>\n"
      ],
      "text/plain": [
       "yorkulibraries_coding_dh_org.csv\n"
      ]
     },
     "metadata": {},
     "output_type": "display_data"
    },
    {
     "data": {
      "text/html": [
       "<pre style=\"white-space:pre;overflow-x:auto;line-height:normal;font-family:Menlo,'DejaVu Sans Mono',consolas,'Courier New',monospace\">pthu_coding_dh_org.csv\n",
       "</pre>\n"
      ],
      "text/plain": [
       "pthu_coding_dh_org.csv\n"
      ]
     },
     "metadata": {},
     "output_type": "display_data"
    },
    {
     "data": {
      "text/html": [
       "<pre style=\"white-space:pre;overflow-x:auto;line-height:normal;font-family:Menlo,'DejaVu Sans Mono',consolas,'Courier New',monospace\">jflyfox_coding_dh_org.csv\n",
       "</pre>\n"
      ],
      "text/plain": [
       "jflyfox_coding_dh_org.csv\n"
      ]
     },
     "metadata": {},
     "output_type": "display_data"
    },
    {
     "data": {
      "text/html": [
       "<pre style=\"white-space:pre;overflow-x:auto;line-height:normal;font-family:Menlo,'DejaVu Sans Mono',consolas,'Courier New',monospace\">hack4ac_coding_dh_org.csv\n",
       "</pre>\n"
      ],
      "text/plain": [
       "hack4ac_coding_dh_org.csv\n"
      ]
     },
     "metadata": {},
     "output_type": "display_data"
    },
    {
     "data": {
      "text/html": [
       "<pre style=\"white-space:pre;overflow-x:auto;line-height:normal;font-family:Menlo,'DejaVu Sans Mono',consolas,'Courier New',monospace\">fcrepo4-labs_coding_dh_org.csv\n",
       "</pre>\n"
      ],
      "text/plain": [
       "fcrepo4-labs_coding_dh_org.csv\n"
      ]
     },
     "metadata": {},
     "output_type": "display_data"
    },
    {
     "data": {
      "text/html": [
       "<pre style=\"white-space:pre;overflow-x:auto;line-height:normal;font-family:Menlo,'DejaVu Sans Mono',consolas,'Courier New',monospace\">ml-ai-nlp-ir_coding_dh_org.csv\n",
       "</pre>\n"
      ],
      "text/plain": [
       "ml-ai-nlp-ir_coding_dh_org.csv\n"
      ]
     },
     "metadata": {},
     "output_type": "display_data"
    },
    {
     "data": {
      "text/html": [
       "<pre style=\"white-space:pre;overflow-x:auto;line-height:normal;font-family:Menlo,'DejaVu Sans Mono',consolas,'Courier New',monospace\">NEU-Libraries_coding_dh_org.csv\n",
       "</pre>\n"
      ],
      "text/plain": [
       "NEU-Libraries_coding_dh_org.csv\n"
      ]
     },
     "metadata": {},
     "output_type": "display_data"
    },
    {
     "data": {
      "text/html": [
       "<pre style=\"white-space:pre;overflow-x:auto;line-height:normal;font-family:Menlo,'DejaVu Sans Mono',consolas,'Courier New',monospace\">marine-diversity-workshops_coding_dh_org.csv\n",
       "</pre>\n"
      ],
      "text/plain": [
       "marine-diversity-workshops_coding_dh_org.csv\n"
      ]
     },
     "metadata": {},
     "output_type": "display_data"
    },
    {
     "data": {
      "text/html": [
       "<pre style=\"white-space:pre;overflow-x:auto;line-height:normal;font-family:Menlo,'DejaVu Sans Mono',consolas,'Courier New',monospace\">spamgourmet_coding_dh_org.csv\n",
       "</pre>\n"
      ],
      "text/plain": [
       "spamgourmet_coding_dh_org.csv\n"
      ]
     },
     "metadata": {},
     "output_type": "display_data"
    },
    {
     "data": {
      "text/html": [
       "<pre style=\"white-space:pre;overflow-x:auto;line-height:normal;font-family:Menlo,'DejaVu Sans Mono',consolas,'Courier New',monospace\">voxeljs_coding_dh_org.csv\n",
       "</pre>\n"
      ],
      "text/plain": [
       "voxeljs_coding_dh_org.csv\n"
      ]
     },
     "metadata": {},
     "output_type": "display_data"
    },
    {
     "data": {
      "text/html": [
       "<pre style=\"white-space:pre;overflow-x:auto;line-height:normal;font-family:Menlo,'DejaVu Sans Mono',consolas,'Courier New',monospace\">prAkRtam_coding_dh_org.csv\n",
       "</pre>\n"
      ],
      "text/plain": [
       "prAkRtam_coding_dh_org.csv\n"
      ]
     },
     "metadata": {},
     "output_type": "display_data"
    },
    {
     "data": {
      "text/html": [
       "<pre style=\"white-space:pre;overflow-x:auto;line-height:normal;font-family:Menlo,'DejaVu Sans Mono',consolas,'Courier New',monospace\">digieast_coding_dh_org.csv\n",
       "</pre>\n"
      ],
      "text/plain": [
       "digieast_coding_dh_org.csv\n"
      ]
     },
     "metadata": {},
     "output_type": "display_data"
    },
    {
     "data": {
      "text/html": [
       "<pre style=\"white-space:pre;overflow-x:auto;line-height:normal;font-family:Menlo,'DejaVu Sans Mono',consolas,'Courier New',monospace\">bolideopendata_coding_dh_org.csv\n",
       "</pre>\n"
      ],
      "text/plain": [
       "bolideopendata_coding_dh_org.csv\n"
      ]
     },
     "metadata": {},
     "output_type": "display_data"
    },
    {
     "data": {
      "text/html": [
       "<pre style=\"white-space:pre;overflow-x:auto;line-height:normal;font-family:Menlo,'DejaVu Sans Mono',consolas,'Courier New',monospace\">acesoc_coding_dh_org.csv\n",
       "</pre>\n"
      ],
      "text/plain": [
       "acesoc_coding_dh_org.csv\n"
      ]
     },
     "metadata": {},
     "output_type": "display_data"
    },
    {
     "data": {
      "text/html": [
       "<pre style=\"white-space:pre;overflow-x:auto;line-height:normal;font-family:Menlo,'DejaVu Sans Mono',consolas,'Courier New',monospace\">PrincetonUSG_coding_dh_org.csv\n",
       "</pre>\n"
      ],
      "text/plain": [
       "PrincetonUSG_coding_dh_org.csv\n"
      ]
     },
     "metadata": {},
     "output_type": "display_data"
    },
    {
     "data": {
      "text/html": [
       "<pre style=\"white-space:pre;overflow-x:auto;line-height:normal;font-family:Menlo,'DejaVu Sans Mono',consolas,'Courier New',monospace\">museonum_coding_dh_org.csv\n",
       "</pre>\n"
      ],
      "text/plain": [
       "museonum_coding_dh_org.csv\n"
      ]
     },
     "metadata": {},
     "output_type": "display_data"
    },
    {
     "data": {
      "text/html": [
       "<pre style=\"white-space:pre;overflow-x:auto;line-height:normal;font-family:Menlo,'DejaVu Sans Mono',consolas,'Courier New',monospace\">scipy-conference_coding_dh_org.csv\n",
       "</pre>\n"
      ],
      "text/plain": [
       "scipy-conference_coding_dh_org.csv\n"
      ]
     },
     "metadata": {},
     "output_type": "display_data"
    },
    {
     "data": {
      "text/html": [
       "<pre style=\"white-space:pre;overflow-x:auto;line-height:normal;font-family:Menlo,'DejaVu Sans Mono',consolas,'Courier New',monospace\">subconsciousnetwork_coding_dh_org.csv\n",
       "</pre>\n"
      ],
      "text/plain": [
       "subconsciousnetwork_coding_dh_org.csv\n"
      ]
     },
     "metadata": {},
     "output_type": "display_data"
    },
    {
     "data": {
      "text/html": [
       "<pre style=\"white-space:pre;overflow-x:auto;line-height:normal;font-family:Menlo,'DejaVu Sans Mono',consolas,'Courier New',monospace\">spatial-humanities-netherlands_coding_dh_org.csv\n",
       "</pre>\n"
      ],
      "text/plain": [
       "spatial-humanities-netherlands_coding_dh_org.csv\n"
      ]
     },
     "metadata": {},
     "output_type": "display_data"
    },
    {
     "data": {
      "text/html": [
       "<pre style=\"white-space:pre;overflow-x:auto;line-height:normal;font-family:Menlo,'DejaVu Sans Mono',consolas,'Courier New',monospace\">thought-machine_coding_dh_org.csv\n",
       "</pre>\n"
      ],
      "text/plain": [
       "thought-machine_coding_dh_org.csv\n"
      ]
     },
     "metadata": {},
     "output_type": "display_data"
    },
    {
     "data": {
      "text/html": [
       "<pre style=\"white-space:pre;overflow-x:auto;line-height:normal;font-family:Menlo,'DejaVu Sans Mono',consolas,'Courier New',monospace\">sastra-koding_coding_dh_org.csv\n",
       "</pre>\n"
      ],
      "text/plain": [
       "sastra-koding_coding_dh_org.csv\n"
      ]
     },
     "metadata": {},
     "output_type": "display_data"
    },
    {
     "data": {
      "text/html": [
       "<pre style=\"white-space:pre;overflow-x:auto;line-height:normal;font-family:Menlo,'DejaVu Sans Mono',consolas,'Courier New',monospace\">lightningrodlabs_coding_dh_org.csv\n",
       "</pre>\n"
      ],
      "text/plain": [
       "lightningrodlabs_coding_dh_org.csv\n"
      ]
     },
     "metadata": {},
     "output_type": "display_data"
    },
    {
     "data": {
      "text/html": [
       "<pre style=\"white-space:pre;overflow-x:auto;line-height:normal;font-family:Menlo,'DejaVu Sans Mono',consolas,'Courier New',monospace\">codeforutah_coding_dh_org.csv\n",
       "</pre>\n"
      ],
      "text/plain": [
       "codeforutah_coding_dh_org.csv\n"
      ]
     },
     "metadata": {},
     "output_type": "display_data"
    },
    {
     "data": {
      "text/html": [
       "<pre style=\"white-space:pre;overflow-x:auto;line-height:normal;font-family:Menlo,'DejaVu Sans Mono',consolas,'Courier New',monospace\">FAIR-Data-EG_coding_dh_org.csv\n",
       "</pre>\n"
      ],
      "text/plain": [
       "FAIR-Data-EG_coding_dh_org.csv\n"
      ]
     },
     "metadata": {},
     "output_type": "display_data"
    },
    {
     "data": {
      "text/html": [
       "<pre style=\"white-space:pre;overflow-x:auto;line-height:normal;font-family:Menlo,'DejaVu Sans Mono',consolas,'Courier New',monospace\">caa-minions_coding_dh_org.csv\n",
       "</pre>\n"
      ],
      "text/plain": [
       "caa-minions_coding_dh_org.csv\n"
      ]
     },
     "metadata": {},
     "output_type": "display_data"
    },
    {
     "data": {
      "text/html": [
       "<pre style=\"white-space:pre;overflow-x:auto;line-height:normal;font-family:Menlo,'DejaVu Sans Mono',consolas,'Courier New',monospace\">Trackage_coding_dh_org.csv\n",
       "</pre>\n"
      ],
      "text/plain": [
       "Trackage_coding_dh_org.csv\n"
      ]
     },
     "metadata": {},
     "output_type": "display_data"
    },
    {
     "data": {
      "text/html": [
       "<pre style=\"white-space:pre;overflow-x:auto;line-height:normal;font-family:Menlo,'DejaVu Sans Mono',consolas,'Courier New',monospace\">geobtaa_coding_dh_org.csv\n",
       "</pre>\n"
      ],
      "text/plain": [
       "geobtaa_coding_dh_org.csv\n"
      ]
     },
     "metadata": {},
     "output_type": "display_data"
    },
    {
     "data": {
      "text/html": [
       "<pre style=\"white-space:pre;overflow-x:auto;line-height:normal;font-family:Menlo,'DejaVu Sans Mono',consolas,'Courier New',monospace\">Big-Ancient-Mediterranean_coding_dh_org.csv\n",
       "</pre>\n"
      ],
      "text/plain": [
       "Big-Ancient-Mediterranean_coding_dh_org.csv\n"
      ]
     },
     "metadata": {},
     "output_type": "display_data"
    },
    {
     "data": {
      "text/html": [
       "<pre style=\"white-space:pre;overflow-x:auto;line-height:normal;font-family:Menlo,'DejaVu Sans Mono',consolas,'Courier New',monospace\">docusky-dev_coding_dh_org.csv\n",
       "</pre>\n"
      ],
      "text/plain": [
       "docusky-dev_coding_dh_org.csv\n"
      ]
     },
     "metadata": {},
     "output_type": "display_data"
    },
    {
     "data": {
      "text/html": [
       "<pre style=\"white-space:pre;overflow-x:auto;line-height:normal;font-family:Menlo,'DejaVu Sans Mono',consolas,'Courier New',monospace\">BnF-jadis_coding_dh_org.csv\n",
       "</pre>\n"
      ],
      "text/plain": [
       "BnF-jadis_coding_dh_org.csv\n"
      ]
     },
     "metadata": {},
     "output_type": "display_data"
    },
    {
     "data": {
      "text/html": [
       "<pre style=\"white-space:pre;overflow-x:auto;line-height:normal;font-family:Menlo,'DejaVu Sans Mono',consolas,'Courier New',monospace\">CraspHb_coding_dh_org.csv\n",
       "</pre>\n"
      ],
      "text/plain": [
       "CraspHb_coding_dh_org.csv\n"
      ]
     },
     "metadata": {},
     "output_type": "display_data"
    },
    {
     "data": {
      "text/html": [
       "<pre style=\"white-space:pre;overflow-x:auto;line-height:normal;font-family:Menlo,'DejaVu Sans Mono',consolas,'Courier New',monospace\">infolis_coding_dh_org.csv\n",
       "</pre>\n"
      ],
      "text/plain": [
       "infolis_coding_dh_org.csv\n"
      ]
     },
     "metadata": {},
     "output_type": "display_data"
    },
    {
     "data": {
      "text/html": [
       "<pre style=\"white-space:pre;overflow-x:auto;line-height:normal;font-family:Menlo,'DejaVu Sans Mono',consolas,'Courier New',monospace\">tchiluanda_coding_dh_org.csv\n",
       "</pre>\n"
      ],
      "text/plain": [
       "tchiluanda_coding_dh_org.csv\n"
      ]
     },
     "metadata": {},
     "output_type": "display_data"
    },
    {
     "data": {
      "text/html": [
       "<pre style=\"white-space:pre;overflow-x:auto;line-height:normal;font-family:Menlo,'DejaVu Sans Mono',consolas,'Courier New',monospace\">open-data-potsdam_coding_dh_org.csv\n",
       "</pre>\n"
      ],
      "text/plain": [
       "open-data-potsdam_coding_dh_org.csv\n"
      ]
     },
     "metadata": {},
     "output_type": "display_data"
    },
    {
     "data": {
      "text/html": [
       "<pre style=\"white-space:pre;overflow-x:auto;line-height:normal;font-family:Menlo,'DejaVu Sans Mono',consolas,'Courier New',monospace\">kval-access-language_coding_dh_org.csv\n",
       "</pre>\n"
      ],
      "text/plain": [
       "kval-access-language_coding_dh_org.csv\n"
      ]
     },
     "metadata": {},
     "output_type": "display_data"
    },
    {
     "data": {
      "text/html": [
       "<pre style=\"white-space:pre;overflow-x:auto;line-height:normal;font-family:Menlo,'DejaVu Sans Mono',consolas,'Courier New',monospace\">qTox_coding_dh_org.csv\n",
       "</pre>\n"
      ],
      "text/plain": [
       "qTox_coding_dh_org.csv\n"
      ]
     },
     "metadata": {},
     "output_type": "display_data"
    },
    {
     "data": {
      "text/html": [
       "<pre style=\"white-space:pre;overflow-x:auto;line-height:normal;font-family:Menlo,'DejaVu Sans Mono',consolas,'Courier New',monospace\">w3c-social_coding_dh_org.csv\n",
       "</pre>\n"
      ],
      "text/plain": [
       "w3c-social_coding_dh_org.csv\n"
      ]
     },
     "metadata": {},
     "output_type": "display_data"
    },
    {
     "data": {
      "text/html": [
       "<pre style=\"white-space:pre;overflow-x:auto;line-height:normal;font-family:Menlo,'DejaVu Sans Mono',consolas,'Courier New',monospace\">AtlasOfDigitisedNewspapers_coding_dh_org.csv\n",
       "</pre>\n"
      ],
      "text/plain": [
       "AtlasOfDigitisedNewspapers_coding_dh_org.csv\n"
      ]
     },
     "metadata": {},
     "output_type": "display_data"
    },
    {
     "data": {
      "text/html": [
       "<pre style=\"white-space:pre;overflow-x:auto;line-height:normal;font-family:Menlo,'DejaVu Sans Mono',consolas,'Courier New',monospace\">Birkbeck_coding_dh_org.csv\n",
       "</pre>\n"
      ],
      "text/plain": [
       "Birkbeck_coding_dh_org.csv\n"
      ]
     },
     "metadata": {},
     "output_type": "display_data"
    },
    {
     "data": {
      "text/html": [
       "<pre style=\"white-space:pre;overflow-x:auto;line-height:normal;font-family:Menlo,'DejaVu Sans Mono',consolas,'Courier New',monospace\">wikilinks_coding_dh_org.csv\n",
       "</pre>\n"
      ],
      "text/plain": [
       "wikilinks_coding_dh_org.csv\n"
      ]
     },
     "metadata": {},
     "output_type": "display_data"
    },
    {
     "data": {
      "text/html": [
       "<pre style=\"white-space:pre;overflow-x:auto;line-height:normal;font-family:Menlo,'DejaVu Sans Mono',consolas,'Courier New',monospace\">artefactual_coding_dh_org.csv\n",
       "</pre>\n"
      ],
      "text/plain": [
       "artefactual_coding_dh_org.csv\n"
      ]
     },
     "metadata": {},
     "output_type": "display_data"
    },
    {
     "data": {
      "text/html": [
       "<pre style=\"white-space:pre;overflow-x:auto;line-height:normal;font-family:Menlo,'DejaVu Sans Mono',consolas,'Courier New',monospace\">storybookjs_coding_dh_org.csv\n",
       "</pre>\n"
      ],
      "text/plain": [
       "storybookjs_coding_dh_org.csv\n"
      ]
     },
     "metadata": {},
     "output_type": "display_data"
    },
    {
     "data": {
      "text/html": [
       "<pre style=\"white-space:pre;overflow-x:auto;line-height:normal;font-family:Menlo,'DejaVu Sans Mono',consolas,'Courier New',monospace\">ruby-microservices_coding_dh_org.csv\n",
       "</pre>\n"
      ],
      "text/plain": [
       "ruby-microservices_coding_dh_org.csv\n"
      ]
     },
     "metadata": {},
     "output_type": "display_data"
    },
    {
     "data": {
      "text/html": [
       "<pre style=\"white-space:pre;overflow-x:auto;line-height:normal;font-family:Menlo,'DejaVu Sans Mono',consolas,'Courier New',monospace\">ska-sa_coding_dh_org.csv\n",
       "</pre>\n"
      ],
      "text/plain": [
       "ska-sa_coding_dh_org.csv\n"
      ]
     },
     "metadata": {},
     "output_type": "display_data"
    },
    {
     "data": {
      "text/html": [
       "<pre style=\"white-space:pre;overflow-x:auto;line-height:normal;font-family:Menlo,'DejaVu Sans Mono',consolas,'Courier New',monospace\">JetBrains-Research_coding_dh_org.csv\n",
       "</pre>\n"
      ],
      "text/plain": [
       "JetBrains-Research_coding_dh_org.csv\n"
      ]
     },
     "metadata": {},
     "output_type": "display_data"
    },
    {
     "data": {
      "text/html": [
       "<pre style=\"white-space:pre;overflow-x:auto;line-height:normal;font-family:Menlo,'DejaVu Sans Mono',consolas,'Courier New',monospace\">pharo-spec_coding_dh_org.csv\n",
       "</pre>\n"
      ],
      "text/plain": [
       "pharo-spec_coding_dh_org.csv\n"
      ]
     },
     "metadata": {},
     "output_type": "display_data"
    },
    {
     "data": {
      "text/html": [
       "<pre style=\"white-space:pre;overflow-x:auto;line-height:normal;font-family:Menlo,'DejaVu Sans Mono',consolas,'Courier New',monospace\">ArchaeoStat_coding_dh_org.csv\n",
       "</pre>\n"
      ],
      "text/plain": [
       "ArchaeoStat_coding_dh_org.csv\n"
      ]
     },
     "metadata": {},
     "output_type": "display_data"
    },
    {
     "data": {
      "text/html": [
       "<pre style=\"white-space:pre;overflow-x:auto;line-height:normal;font-family:Menlo,'DejaVu Sans Mono',consolas,'Courier New',monospace\">biblissima_coding_dh_org.csv\n",
       "</pre>\n"
      ],
      "text/plain": [
       "biblissima_coding_dh_org.csv\n"
      ]
     },
     "metadata": {},
     "output_type": "display_data"
    },
    {
     "data": {
      "text/html": [
       "<pre style=\"white-space:pre;overflow-x:auto;line-height:normal;font-family:Menlo,'DejaVu Sans Mono',consolas,'Courier New',monospace\">FID-Judaica_coding_dh_org.csv\n",
       "</pre>\n"
      ],
      "text/plain": [
       "FID-Judaica_coding_dh_org.csv\n"
      ]
     },
     "metadata": {},
     "output_type": "display_data"
    },
    {
     "data": {
      "text/html": [
       "<pre style=\"white-space:pre;overflow-x:auto;line-height:normal;font-family:Menlo,'DejaVu Sans Mono',consolas,'Courier New',monospace\">forem_coding_dh_org.csv\n",
       "</pre>\n"
      ],
      "text/plain": [
       "forem_coding_dh_org.csv\n"
      ]
     },
     "metadata": {},
     "output_type": "display_data"
    },
    {
     "data": {
      "text/html": [
       "<pre style=\"white-space:pre;overflow-x:auto;line-height:normal;font-family:Menlo,'DejaVu Sans Mono',consolas,'Courier New',monospace\">ogi-ogham_coding_dh_org.csv\n",
       "</pre>\n"
      ],
      "text/plain": [
       "ogi-ogham_coding_dh_org.csv\n"
      ]
     },
     "metadata": {},
     "output_type": "display_data"
    },
    {
     "data": {
      "text/html": [
       "<pre style=\"white-space:pre;overflow-x:auto;line-height:normal;font-family:Menlo,'DejaVu Sans Mono',consolas,'Courier New',monospace\">passau-centre-for-ehumanities_coding_dh_org.csv\n",
       "</pre>\n"
      ],
      "text/plain": [
       "passau-centre-for-ehumanities_coding_dh_org.csv\n"
      ]
     },
     "metadata": {},
     "output_type": "display_data"
    },
    {
     "data": {
      "text/html": [
       "<pre style=\"white-space:pre;overflow-x:auto;line-height:normal;font-family:Menlo,'DejaVu Sans Mono',consolas,'Courier New',monospace\">open-source-for-researchers_coding_dh_org.csv\n",
       "</pre>\n"
      ],
      "text/plain": [
       "open-source-for-researchers_coding_dh_org.csv\n"
      ]
     },
     "metadata": {},
     "output_type": "display_data"
    },
    {
     "data": {
      "text/html": [
       "<pre style=\"white-space:pre;overflow-x:auto;line-height:normal;font-family:Menlo,'DejaVu Sans Mono',consolas,'Courier New',monospace\">inception-project_coding_dh_org.csv\n",
       "</pre>\n"
      ],
      "text/plain": [
       "inception-project_coding_dh_org.csv\n"
      ]
     },
     "metadata": {},
     "output_type": "display_data"
    },
    {
     "data": {
      "text/html": [
       "<pre style=\"white-space:pre;overflow-x:auto;line-height:normal;font-family:Menlo,'DejaVu Sans Mono',consolas,'Courier New',monospace\">clown-konrad_coding_dh_org.csv\n",
       "</pre>\n"
      ],
      "text/plain": [
       "clown-konrad_coding_dh_org.csv\n"
      ]
     },
     "metadata": {},
     "output_type": "display_data"
    },
    {
     "data": {
      "text/html": [
       "<pre style=\"white-space:pre;overflow-x:auto;line-height:normal;font-family:Menlo,'DejaVu Sans Mono',consolas,'Courier New',monospace\">distillpub_coding_dh_org.csv\n",
       "</pre>\n"
      ],
      "text/plain": [
       "distillpub_coding_dh_org.csv\n"
      ]
     },
     "metadata": {},
     "output_type": "display_data"
    },
    {
     "data": {
      "text/html": [
       "<pre style=\"white-space:pre;overflow-x:auto;line-height:normal;font-family:Menlo,'DejaVu Sans Mono',consolas,'Courier New',monospace\">manuscripta_coding_dh_org.csv\n",
       "</pre>\n"
      ],
      "text/plain": [
       "manuscripta_coding_dh_org.csv\n"
      ]
     },
     "metadata": {},
     "output_type": "display_data"
    },
    {
     "data": {
      "text/html": [
       "<pre style=\"white-space:pre;overflow-x:auto;line-height:normal;font-family:Menlo,'DejaVu Sans Mono',consolas,'Courier New',monospace\">ieeeuch_coding_dh_org.csv\n",
       "</pre>\n"
      ],
      "text/plain": [
       "ieeeuch_coding_dh_org.csv\n"
      ]
     },
     "metadata": {},
     "output_type": "display_data"
    },
    {
     "data": {
      "text/html": [
       "<pre style=\"white-space:pre;overflow-x:auto;line-height:normal;font-family:Menlo,'DejaVu Sans Mono',consolas,'Courier New',monospace\">rcc-uchicago_coding_dh_org.csv\n",
       "</pre>\n"
      ],
      "text/plain": [
       "rcc-uchicago_coding_dh_org.csv\n"
      ]
     },
     "metadata": {},
     "output_type": "display_data"
    },
    {
     "data": {
      "text/html": [
       "<pre style=\"white-space:pre;overflow-x:auto;line-height:normal;font-family:Menlo,'DejaVu Sans Mono',consolas,'Courier New',monospace\">cs-teaching_coding_dh_org.csv\n",
       "</pre>\n"
      ],
      "text/plain": [
       "cs-teaching_coding_dh_org.csv\n"
      ]
     },
     "metadata": {},
     "output_type": "display_data"
    },
    {
     "data": {
      "text/html": [
       "<pre style=\"white-space:pre;overflow-x:auto;line-height:normal;font-family:Menlo,'DejaVu Sans Mono',consolas,'Courier New',monospace\">LoyolaChicagoCS_coding_dh_org.csv\n",
       "</pre>\n"
      ],
      "text/plain": [
       "LoyolaChicagoCS_coding_dh_org.csv\n"
      ]
     },
     "metadata": {},
     "output_type": "display_data"
    },
    {
     "data": {
      "text/html": [
       "<pre style=\"white-space:pre;overflow-x:auto;line-height:normal;font-family:Menlo,'DejaVu Sans Mono',consolas,'Courier New',monospace\">OeGE18_coding_dh_org.csv\n",
       "</pre>\n"
      ],
      "text/plain": [
       "OeGE18_coding_dh_org.csv\n"
      ]
     },
     "metadata": {},
     "output_type": "display_data"
    },
    {
     "data": {
      "text/html": [
       "<pre style=\"white-space:pre;overflow-x:auto;line-height:normal;font-family:Menlo,'DejaVu Sans Mono',consolas,'Courier New',monospace\">dasch-swiss_coding_dh_org.csv\n",
       "</pre>\n"
      ],
      "text/plain": [
       "dasch-swiss_coding_dh_org.csv\n"
      ]
     },
     "metadata": {},
     "output_type": "display_data"
    },
    {
     "data": {
      "text/html": [
       "<pre style=\"white-space:pre;overflow-x:auto;line-height:normal;font-family:Menlo,'DejaVu Sans Mono',consolas,'Courier New',monospace\">trustyuri_coding_dh_org.csv\n",
       "</pre>\n"
      ],
      "text/plain": [
       "trustyuri_coding_dh_org.csv\n"
      ]
     },
     "metadata": {},
     "output_type": "display_data"
    },
    {
     "data": {
      "text/html": [
       "<pre style=\"white-space:pre;overflow-x:auto;line-height:normal;font-family:Menlo,'DejaVu Sans Mono',consolas,'Courier New',monospace\">Botho-Group_coding_dh_org.csv\n",
       "</pre>\n"
      ],
      "text/plain": [
       "Botho-Group_coding_dh_org.csv\n"
      ]
     },
     "metadata": {},
     "output_type": "display_data"
    },
    {
     "data": {
      "text/html": [
       "<pre style=\"white-space:pre;overflow-x:auto;line-height:normal;font-family:Menlo,'DejaVu Sans Mono',consolas,'Courier New',monospace\">abgussmuseum_coding_dh_org.csv\n",
       "</pre>\n"
      ],
      "text/plain": [
       "abgussmuseum_coding_dh_org.csv\n"
      ]
     },
     "metadata": {},
     "output_type": "display_data"
    },
    {
     "data": {
      "text/html": [
       "<pre style=\"white-space:pre;overflow-x:auto;line-height:normal;font-family:Menlo,'DejaVu Sans Mono',consolas,'Courier New',monospace\">artusiinc_coding_dh_org.csv\n",
       "</pre>\n"
      ],
      "text/plain": [
       "artusiinc_coding_dh_org.csv\n"
      ]
     },
     "metadata": {},
     "output_type": "display_data"
    },
    {
     "data": {
      "text/html": [
       "<pre style=\"white-space:pre;overflow-x:auto;line-height:normal;font-family:Menlo,'DejaVu Sans Mono',consolas,'Courier New',monospace\">uchicago-hum-it_coding_dh_org.csv\n",
       "</pre>\n"
      ],
      "text/plain": [
       "uchicago-hum-it_coding_dh_org.csv\n"
      ]
     },
     "metadata": {},
     "output_type": "display_data"
    },
    {
     "data": {
      "text/html": [
       "<pre style=\"white-space:pre;overflow-x:auto;line-height:normal;font-family:Menlo,'DejaVu Sans Mono',consolas,'Courier New',monospace\">aws_coding_dh_org.csv\n",
       "</pre>\n"
      ],
      "text/plain": [
       "aws_coding_dh_org.csv\n"
      ]
     },
     "metadata": {},
     "output_type": "display_data"
    },
    {
     "data": {
      "text/html": [
       "<pre style=\"white-space:pre;overflow-x:auto;line-height:normal;font-family:Menlo,'DejaVu Sans Mono',consolas,'Courier New',monospace\">data-science-hub_coding_dh_org.csv\n",
       "</pre>\n"
      ],
      "text/plain": [
       "data-science-hub_coding_dh_org.csv\n"
      ]
     },
     "metadata": {},
     "output_type": "display_data"
    },
    {
     "data": {
      "text/html": [
       "<pre style=\"white-space:pre;overflow-x:auto;line-height:normal;font-family:Menlo,'DejaVu Sans Mono',consolas,'Courier New',monospace\">swcarpentry_coding_dh_org.csv\n",
       "</pre>\n"
      ],
      "text/plain": [
       "swcarpentry_coding_dh_org.csv\n"
      ]
     },
     "metadata": {},
     "output_type": "display_data"
    },
    {
     "data": {
      "text/html": [
       "<pre style=\"white-space:pre;overflow-x:auto;line-height:normal;font-family:Menlo,'DejaVu Sans Mono',consolas,'Courier New',monospace\">ccnmtl_coding_dh_org.csv\n",
       "</pre>\n"
      ],
      "text/plain": [
       "ccnmtl_coding_dh_org.csv\n"
      ]
     },
     "metadata": {},
     "output_type": "display_data"
    },
    {
     "data": {
      "text/html": [
       "<pre style=\"white-space:pre;overflow-x:auto;line-height:normal;font-family:Menlo,'DejaVu Sans Mono',consolas,'Courier New',monospace\">rwinlib_coding_dh_org.csv\n",
       "</pre>\n"
      ],
      "text/plain": [
       "rwinlib_coding_dh_org.csv\n"
      ]
     },
     "metadata": {},
     "output_type": "display_data"
    },
    {
     "data": {
      "text/html": [
       "<pre style=\"white-space:pre;overflow-x:auto;line-height:normal;font-family:Menlo,'DejaVu Sans Mono',consolas,'Courier New',monospace\">SmartMedHSE_coding_dh_org.csv\n",
       "</pre>\n"
      ],
      "text/plain": [
       "SmartMedHSE_coding_dh_org.csv\n"
      ]
     },
     "metadata": {},
     "output_type": "display_data"
    },
    {
     "data": {
      "text/html": [
       "<pre style=\"white-space:pre;overflow-x:auto;line-height:normal;font-family:Menlo,'DejaVu Sans Mono',consolas,'Courier New',monospace\">KBNLresearch_coding_dh_org.csv\n",
       "</pre>\n"
      ],
      "text/plain": [
       "KBNLresearch_coding_dh_org.csv\n"
      ]
     },
     "metadata": {},
     "output_type": "display_data"
    },
    {
     "data": {
      "text/html": [
       "<pre style=\"white-space:pre;overflow-x:auto;line-height:normal;font-family:Menlo,'DejaVu Sans Mono',consolas,'Courier New',monospace\">IUBLibTech_coding_dh_org.csv\n",
       "</pre>\n"
      ],
      "text/plain": [
       "IUBLibTech_coding_dh_org.csv\n"
      ]
     },
     "metadata": {},
     "output_type": "display_data"
    },
    {
     "data": {
      "text/html": [
       "<pre style=\"white-space:pre;overflow-x:auto;line-height:normal;font-family:Menlo,'DejaVu Sans Mono',consolas,'Courier New',monospace\">stan-ja_coding_dh_org.csv\n",
       "</pre>\n"
      ],
      "text/plain": [
       "stan-ja_coding_dh_org.csv\n"
      ]
     },
     "metadata": {},
     "output_type": "display_data"
    },
    {
     "data": {
      "text/html": [
       "<pre style=\"white-space:pre;overflow-x:auto;line-height:normal;font-family:Menlo,'DejaVu Sans Mono',consolas,'Courier New',monospace\">EuropeanaNewspapers_coding_dh_org.csv\n",
       "</pre>\n"
      ],
      "text/plain": [
       "EuropeanaNewspapers_coding_dh_org.csv\n"
      ]
     },
     "metadata": {},
     "output_type": "display_data"
    },
    {
     "data": {
      "text/html": [
       "<pre style=\"white-space:pre;overflow-x:auto;line-height:normal;font-family:Menlo,'DejaVu Sans Mono',consolas,'Courier New',monospace\">subhAShita_coding_dh_org.csv\n",
       "</pre>\n"
      ],
      "text/plain": [
       "subhAShita_coding_dh_org.csv\n"
      ]
     },
     "metadata": {},
     "output_type": "display_data"
    },
    {
     "data": {
      "text/html": [
       "<pre style=\"white-space:pre;overflow-x:auto;line-height:normal;font-family:Menlo,'DejaVu Sans Mono',consolas,'Courier New',monospace\">lucformalmethodsclassroom_coding_dh_org.csv\n",
       "</pre>\n"
      ],
      "text/plain": [
       "lucformalmethodsclassroom_coding_dh_org.csv\n"
      ]
     },
     "metadata": {},
     "output_type": "display_data"
    },
    {
     "data": {
      "text/html": [
       "<pre style=\"white-space:pre;overflow-x:auto;line-height:normal;font-family:Menlo,'DejaVu Sans Mono',consolas,'Courier New',monospace\">DHSinology_coding_dh_org.csv\n",
       "</pre>\n"
      ],
      "text/plain": [
       "DHSinology_coding_dh_org.csv\n"
      ]
     },
     "metadata": {},
     "output_type": "display_data"
    },
    {
     "data": {
      "text/html": [
       "<pre style=\"white-space:pre;overflow-x:auto;line-height:normal;font-family:Menlo,'DejaVu Sans Mono',consolas,'Courier New',monospace\">TranslatingNetworks_coding_dh_org.csv\n",
       "</pre>\n"
      ],
      "text/plain": [
       "TranslatingNetworks_coding_dh_org.csv\n"
      ]
     },
     "metadata": {},
     "output_type": "display_data"
    },
    {
     "data": {
      "text/html": [
       "<pre style=\"white-space:pre;overflow-x:auto;line-height:normal;font-family:Menlo,'DejaVu Sans Mono',consolas,'Courier New',monospace\">lab-tecnosocial_coding_dh_org.csv\n",
       "</pre>\n"
      ],
      "text/plain": [
       "lab-tecnosocial_coding_dh_org.csv\n"
      ]
     },
     "metadata": {},
     "output_type": "display_data"
    },
    {
     "data": {
      "text/html": [
       "<pre style=\"white-space:pre;overflow-x:auto;line-height:normal;font-family:Menlo,'DejaVu Sans Mono',consolas,'Courier New',monospace\">makersGC_coding_dh_org.csv\n",
       "</pre>\n"
      ],
      "text/plain": [
       "makersGC_coding_dh_org.csv\n"
      ]
     },
     "metadata": {},
     "output_type": "display_data"
    },
    {
     "data": {
      "text/html": [
       "<pre style=\"white-space:pre;overflow-x:auto;line-height:normal;font-family:Menlo,'DejaVu Sans Mono',consolas,'Courier New',monospace\">sunnySrc_coding_dh_org.csv\n",
       "</pre>\n"
      ],
      "text/plain": [
       "sunnySrc_coding_dh_org.csv\n"
      ]
     },
     "metadata": {},
     "output_type": "display_data"
    },
    {
     "data": {
      "text/html": [
       "<pre style=\"white-space:pre;overflow-x:auto;line-height:normal;font-family:Menlo,'DejaVu Sans Mono',consolas,'Courier New',monospace\">WDscholia_coding_dh_org.csv\n",
       "</pre>\n"
      ],
      "text/plain": [
       "WDscholia_coding_dh_org.csv\n"
      ]
     },
     "metadata": {},
     "output_type": "display_data"
    },
    {
     "data": {
      "text/html": [
       "<pre style=\"white-space:pre;overflow-x:auto;line-height:normal;font-family:Menlo,'DejaVu Sans Mono',consolas,'Courier New',monospace\">upenndigitalscholarship_coding_dh_org.csv\n",
       "</pre>\n"
      ],
      "text/plain": [
       "upenndigitalscholarship_coding_dh_org.csv\n"
      ]
     },
     "metadata": {},
     "output_type": "display_data"
    },
    {
     "data": {
      "text/html": [
       "<pre style=\"white-space:pre;overflow-x:auto;line-height:normal;font-family:Menlo,'DejaVu Sans Mono',consolas,'Courier New',monospace\">eldarion_coding_dh_org.csv\n",
       "</pre>\n"
      ],
      "text/plain": [
       "eldarion_coding_dh_org.csv\n"
      ]
     },
     "metadata": {},
     "output_type": "display_data"
    },
    {
     "data": {
      "text/html": [
       "<pre style=\"white-space:pre;overflow-x:auto;line-height:normal;font-family:Menlo,'DejaVu Sans Mono',consolas,'Courier New',monospace\">humlab_coding_dh_org.csv\n",
       "</pre>\n"
      ],
      "text/plain": [
       "humlab_coding_dh_org.csv\n"
      ]
     },
     "metadata": {},
     "output_type": "display_data"
    },
    {
     "data": {
      "text/html": [
       "<pre style=\"white-space:pre;overflow-x:auto;line-height:normal;font-family:Menlo,'DejaVu Sans Mono',consolas,'Courier New',monospace\">se-sic_coding_dh_org.csv\n",
       "</pre>\n"
      ],
      "text/plain": [
       "se-sic_coding_dh_org.csv\n"
      ]
     },
     "metadata": {},
     "output_type": "display_data"
    },
    {
     "data": {
      "text/html": [
       "<pre style=\"white-space:pre;overflow-x:auto;line-height:normal;font-family:Menlo,'DejaVu Sans Mono',consolas,'Courier New',monospace\">PatentsView_coding_dh_org.csv\n",
       "</pre>\n"
      ],
      "text/plain": [
       "PatentsView_coding_dh_org.csv\n"
      ]
     },
     "metadata": {},
     "output_type": "display_data"
    },
    {
     "data": {
      "text/html": [
       "<pre style=\"white-space:pre;overflow-x:auto;line-height:normal;font-family:Menlo,'DejaVu Sans Mono',consolas,'Courier New',monospace\">mappingviolence_coding_dh_org.csv\n",
       "</pre>\n"
      ],
      "text/plain": [
       "mappingviolence_coding_dh_org.csv\n"
      ]
     },
     "metadata": {},
     "output_type": "display_data"
    },
    {
     "data": {
      "text/html": [
       "<pre style=\"white-space:pre;overflow-x:auto;line-height:normal;font-family:Menlo,'DejaVu Sans Mono',consolas,'Courier New',monospace\">UNC-Libraries_coding_dh_org.csv\n",
       "</pre>\n"
      ],
      "text/plain": [
       "UNC-Libraries_coding_dh_org.csv\n"
      ]
     },
     "metadata": {},
     "output_type": "display_data"
    },
    {
     "data": {
      "text/html": [
       "<pre style=\"white-space:pre;overflow-x:auto;line-height:normal;font-family:Menlo,'DejaVu Sans Mono',consolas,'Courier New',monospace\">AjaxMultiCommentary_coding_dh_org.csv\n",
       "</pre>\n"
      ],
      "text/plain": [
       "AjaxMultiCommentary_coding_dh_org.csv\n"
      ]
     },
     "metadata": {},
     "output_type": "display_data"
    },
    {
     "data": {
      "text/html": [
       "<pre style=\"white-space:pre;overflow-x:auto;line-height:normal;font-family:Menlo,'DejaVu Sans Mono',consolas,'Courier New',monospace\">textandbytes_coding_dh_org.csv\n",
       "</pre>\n"
      ],
      "text/plain": [
       "textandbytes_coding_dh_org.csv\n"
      ]
     },
     "metadata": {},
     "output_type": "display_data"
    },
    {
     "data": {
      "text/html": [
       "<pre style=\"white-space:pre;overflow-x:auto;line-height:normal;font-family:Menlo,'DejaVu Sans Mono',consolas,'Courier New',monospace\">indic-transliteration_coding_dh_org.csv\n",
       "</pre>\n"
      ],
      "text/plain": [
       "indic-transliteration_coding_dh_org.csv\n"
      ]
     },
     "metadata": {},
     "output_type": "display_data"
    },
    {
     "data": {
      "text/html": [
       "<pre style=\"white-space:pre;overflow-x:auto;line-height:normal;font-family:Menlo,'DejaVu Sans Mono',consolas,'Courier New',monospace\">superhuman_coding_dh_org.csv\n",
       "</pre>\n"
      ],
      "text/plain": [
       "superhuman_coding_dh_org.csv\n"
      ]
     },
     "metadata": {},
     "output_type": "display_data"
    },
    {
     "data": {
      "text/html": [
       "<pre style=\"white-space:pre;overflow-x:auto;line-height:normal;font-family:Menlo,'DejaVu Sans Mono',consolas,'Courier New',monospace\">obsproject_coding_dh_org.csv\n",
       "</pre>\n"
      ],
      "text/plain": [
       "obsproject_coding_dh_org.csv\n"
      ]
     },
     "metadata": {},
     "output_type": "display_data"
    },
    {
     "data": {
      "text/html": [
       "<pre style=\"white-space:pre;overflow-x:auto;line-height:normal;font-family:Menlo,'DejaVu Sans Mono',consolas,'Courier New',monospace\">Fu-PusH_coding_dh_org.csv\n",
       "</pre>\n"
      ],
      "text/plain": [
       "Fu-PusH_coding_dh_org.csv\n"
      ]
     },
     "metadata": {},
     "output_type": "display_data"
    },
    {
     "data": {
      "text/html": [
       "<pre style=\"white-space:pre;overflow-x:auto;line-height:normal;font-family:Menlo,'DejaVu Sans Mono',consolas,'Courier New',monospace\">StaatsbibliothekBerlin_coding_dh_org.csv\n",
       "</pre>\n"
      ],
      "text/plain": [
       "StaatsbibliothekBerlin_coding_dh_org.csv\n"
      ]
     },
     "metadata": {},
     "output_type": "display_data"
    },
    {
     "data": {
      "text/html": [
       "<pre style=\"white-space:pre;overflow-x:auto;line-height:normal;font-family:Menlo,'DejaVu Sans Mono',consolas,'Courier New',monospace\">LIBCAS_coding_dh_org.csv\n",
       "</pre>\n"
      ],
      "text/plain": [
       "LIBCAS_coding_dh_org.csv\n"
      ]
     },
     "metadata": {},
     "output_type": "display_data"
    },
    {
     "data": {
      "text/html": [
       "<pre style=\"white-space:pre;overflow-x:auto;line-height:normal;font-family:Menlo,'DejaVu Sans Mono',consolas,'Courier New',monospace\">CUNYTechPrep_coding_dh_org.csv\n",
       "</pre>\n"
      ],
      "text/plain": [
       "CUNYTechPrep_coding_dh_org.csv\n"
      ]
     },
     "metadata": {},
     "output_type": "display_data"
    },
    {
     "data": {
      "text/html": [
       "<pre style=\"white-space:pre;overflow-x:auto;line-height:normal;font-family:Menlo,'DejaVu Sans Mono',consolas,'Courier New',monospace\">LinkedPasts_coding_dh_org.csv\n",
       "</pre>\n"
      ],
      "text/plain": [
       "LinkedPasts_coding_dh_org.csv\n"
      ]
     },
     "metadata": {},
     "output_type": "display_data"
    },
    {
     "data": {
      "text/html": [
       "<pre style=\"white-space:pre;overflow-x:auto;line-height:normal;font-family:Menlo,'DejaVu Sans Mono',consolas,'Courier New',monospace\">kingsddh_coding_dh_org.csv\n",
       "</pre>\n"
      ],
      "text/plain": [
       "kingsddh_coding_dh_org.csv\n"
      ]
     },
     "metadata": {},
     "output_type": "display_data"
    },
    {
     "data": {
      "text/html": [
       "<pre style=\"white-space:pre;overflow-x:auto;line-height:normal;font-family:Menlo,'DejaVu Sans Mono',consolas,'Courier New',monospace\">unimorph_coding_dh_org.csv\n",
       "</pre>\n"
      ],
      "text/plain": [
       "unimorph_coding_dh_org.csv\n"
      ]
     },
     "metadata": {},
     "output_type": "display_data"
    },
    {
     "data": {
      "text/html": [
       "<pre style=\"white-space:pre;overflow-x:auto;line-height:normal;font-family:Menlo,'DejaVu Sans Mono',consolas,'Courier New',monospace\">dsl-unibe-ch_coding_dh_org.csv\n",
       "</pre>\n"
      ],
      "text/plain": [
       "dsl-unibe-ch_coding_dh_org.csv\n"
      ]
     },
     "metadata": {},
     "output_type": "display_data"
    },
    {
     "data": {
      "text/html": [
       "<pre style=\"white-space:pre;overflow-x:auto;line-height:normal;font-family:Menlo,'DejaVu Sans Mono',consolas,'Courier New',monospace\">Semantic-Data-for-Humanities_coding_dh_org.csv\n",
       "</pre>\n"
      ],
      "text/plain": [
       "Semantic-Data-for-Humanities_coding_dh_org.csv\n"
      ]
     },
     "metadata": {},
     "output_type": "display_data"
    },
    {
     "data": {
      "text/html": [
       "<pre style=\"white-space:pre;overflow-x:auto;line-height:normal;font-family:Menlo,'DejaVu Sans Mono',consolas,'Courier New',monospace\">mapping-elections_coding_dh_org.csv\n",
       "</pre>\n"
      ],
      "text/plain": [
       "mapping-elections_coding_dh_org.csv\n"
      ]
     },
     "metadata": {},
     "output_type": "display_data"
    },
    {
     "data": {
      "text/html": [
       "<pre style=\"white-space:pre;overflow-x:auto;line-height:normal;font-family:Menlo,'DejaVu Sans Mono',consolas,'Courier New',monospace\">merantix-momentum_coding_dh_org.csv\n",
       "</pre>\n"
      ],
      "text/plain": [
       "merantix-momentum_coding_dh_org.csv\n"
      ]
     },
     "metadata": {},
     "output_type": "display_data"
    },
    {
     "data": {
      "text/html": [
       "<pre style=\"white-space:pre;overflow-x:auto;line-height:normal;font-family:Menlo,'DejaVu Sans Mono',consolas,'Courier New',monospace\">pari-neic_coding_dh_org.csv\n",
       "</pre>\n"
      ],
      "text/plain": [
       "pari-neic_coding_dh_org.csv\n"
      ]
     },
     "metadata": {},
     "output_type": "display_data"
    },
    {
     "data": {
      "text/html": [
       "<pre style=\"white-space:pre;overflow-x:auto;line-height:normal;font-family:Menlo,'DejaVu Sans Mono',consolas,'Courier New',monospace\">geojson-xyz_coding_dh_org.csv\n",
       "</pre>\n"
      ],
      "text/plain": [
       "geojson-xyz_coding_dh_org.csv\n"
      ]
     },
     "metadata": {},
     "output_type": "display_data"
    },
    {
     "data": {
      "text/html": [
       "<pre style=\"white-space:pre;overflow-x:auto;line-height:normal;font-family:Menlo,'DejaVu Sans Mono',consolas,'Courier New',monospace\">performance-engine_coding_dh_org.csv\n",
       "</pre>\n"
      ],
      "text/plain": [
       "performance-engine_coding_dh_org.csv\n"
      ]
     },
     "metadata": {},
     "output_type": "display_data"
    },
    {
     "data": {
      "text/html": [
       "<pre style=\"white-space:pre;overflow-x:auto;line-height:normal;font-family:Menlo,'DejaVu Sans Mono',consolas,'Courier New',monospace\">anthunah_coding_dh_org.csv\n",
       "</pre>\n"
      ],
      "text/plain": [
       "anthunah_coding_dh_org.csv\n"
      ]
     },
     "metadata": {},
     "output_type": "display_data"
    },
    {
     "data": {
      "text/html": [
       "<pre style=\"white-space:pre;overflow-x:auto;line-height:normal;font-family:Menlo,'DejaVu Sans Mono',consolas,'Courier New',monospace\">rhodyrstats_coding_dh_org.csv\n",
       "</pre>\n"
      ],
      "text/plain": [
       "rhodyrstats_coding_dh_org.csv\n"
      ]
     },
     "metadata": {},
     "output_type": "display_data"
    },
    {
     "data": {
      "text/html": [
       "<pre style=\"white-space:pre;overflow-x:auto;line-height:normal;font-family:Menlo,'DejaVu Sans Mono',consolas,'Courier New',monospace\">gemian_coding_dh_org.csv\n",
       "</pre>\n"
      ],
      "text/plain": [
       "gemian_coding_dh_org.csv\n"
      ]
     },
     "metadata": {},
     "output_type": "display_data"
    },
    {
     "data": {
      "text/html": [
       "<pre style=\"white-space:pre;overflow-x:auto;line-height:normal;font-family:Menlo,'DejaVu Sans Mono',consolas,'Courier New',monospace\">scds-archive_coding_dh_org.csv\n",
       "</pre>\n"
      ],
      "text/plain": [
       "scds-archive_coding_dh_org.csv\n"
      ]
     },
     "metadata": {},
     "output_type": "display_data"
    },
    {
     "data": {
      "text/html": [
       "<pre style=\"white-space:pre;overflow-x:auto;line-height:normal;font-family:Menlo,'DejaVu Sans Mono',consolas,'Courier New',monospace\">pkp_coding_dh_org.csv\n",
       "</pre>\n"
      ],
      "text/plain": [
       "pkp_coding_dh_org.csv\n"
      ]
     },
     "metadata": {},
     "output_type": "display_data"
    },
    {
     "data": {
      "text/html": [
       "<pre style=\"white-space:pre;overflow-x:auto;line-height:normal;font-family:Menlo,'DejaVu Sans Mono',consolas,'Courier New',monospace\">WarwickCDI_coding_dh_org.csv\n",
       "</pre>\n"
      ],
      "text/plain": [
       "WarwickCDI_coding_dh_org.csv\n"
      ]
     },
     "metadata": {},
     "output_type": "display_data"
    },
    {
     "data": {
      "text/html": [
       "<pre style=\"white-space:pre;overflow-x:auto;line-height:normal;font-family:Menlo,'DejaVu Sans Mono',consolas,'Courier New',monospace\">historic-trails_coding_dh_org.csv\n",
       "</pre>\n"
      ],
      "text/plain": [
       "historic-trails_coding_dh_org.csv\n"
      ]
     },
     "metadata": {},
     "output_type": "display_data"
    },
    {
     "data": {
      "text/html": [
       "<pre style=\"white-space:pre;overflow-x:auto;line-height:normal;font-family:Menlo,'DejaVu Sans Mono',consolas,'Courier New',monospace\">recipy_coding_dh_org.csv\n",
       "</pre>\n"
      ],
      "text/plain": [
       "recipy_coding_dh_org.csv\n"
      ]
     },
     "metadata": {},
     "output_type": "display_data"
    },
    {
     "data": {
      "text/html": [
       "<pre style=\"white-space:pre;overflow-x:auto;line-height:normal;font-family:Menlo,'DejaVu Sans Mono',consolas,'Courier New',monospace\">sigstore_coding_dh_org.csv\n",
       "</pre>\n"
      ],
      "text/plain": [
       "sigstore_coding_dh_org.csv\n"
      ]
     },
     "metadata": {},
     "output_type": "display_data"
    },
    {
     "data": {
      "text/html": [
       "<pre style=\"white-space:pre;overflow-x:auto;line-height:normal;font-family:Menlo,'DejaVu Sans Mono',consolas,'Courier New',monospace\">Czech-IT_coding_dh_org.csv\n",
       "</pre>\n"
      ],
      "text/plain": [
       "Czech-IT_coding_dh_org.csv\n"
      ]
     },
     "metadata": {},
     "output_type": "display_data"
    },
    {
     "data": {
      "text/html": [
       "<pre style=\"white-space:pre;overflow-x:auto;line-height:normal;font-family:Menlo,'DejaVu Sans Mono',consolas,'Courier New',monospace\">livingstoneonline_coding_dh_org.csv\n",
       "</pre>\n"
      ],
      "text/plain": [
       "livingstoneonline_coding_dh_org.csv\n"
      ]
     },
     "metadata": {},
     "output_type": "display_data"
    },
    {
     "data": {
      "text/html": [
       "<pre style=\"white-space:pre;overflow-x:auto;line-height:normal;font-family:Menlo,'DejaVu Sans Mono',consolas,'Courier New',monospace\">JATS4R_coding_dh_org.csv\n",
       "</pre>\n"
      ],
      "text/plain": [
       "JATS4R_coding_dh_org.csv\n"
      ]
     },
     "metadata": {},
     "output_type": "display_data"
    },
    {
     "data": {
      "text/html": [
       "<pre style=\"white-space:pre;overflow-x:auto;line-height:normal;font-family:Menlo,'DejaVu Sans Mono',consolas,'Courier New',monospace\">fsu-pih_coding_dh_org.csv\n",
       "</pre>\n"
      ],
      "text/plain": [
       "fsu-pih_coding_dh_org.csv\n"
      ]
     },
     "metadata": {},
     "output_type": "display_data"
    },
    {
     "data": {
      "text/html": [
       "<pre style=\"white-space:pre;overflow-x:auto;line-height:normal;font-family:Menlo,'DejaVu Sans Mono',consolas,'Courier New',monospace\">sastra-deemed-university_coding_dh_org.csv\n",
       "</pre>\n"
      ],
      "text/plain": [
       "sastra-deemed-university_coding_dh_org.csv\n"
      ]
     },
     "metadata": {},
     "output_type": "display_data"
    },
    {
     "data": {
      "text/html": [
       "<pre style=\"white-space:pre;overflow-x:auto;line-height:normal;font-family:Menlo,'DejaVu Sans Mono',consolas,'Courier New',monospace\">sutd-robotics_coding_dh_org.csv\n",
       "</pre>\n"
      ],
      "text/plain": [
       "sutd-robotics_coding_dh_org.csv\n"
      ]
     },
     "metadata": {},
     "output_type": "display_data"
    },
    {
     "data": {
      "text/html": [
       "<pre style=\"white-space:pre;overflow-x:auto;line-height:normal;font-family:Menlo,'DejaVu Sans Mono',consolas,'Courier New',monospace\">usuarium_coding_dh_org.csv\n",
       "</pre>\n"
      ],
      "text/plain": [
       "usuarium_coding_dh_org.csv\n"
      ]
     },
     "metadata": {},
     "output_type": "display_data"
    },
    {
     "data": {
      "text/html": [
       "<pre style=\"white-space:pre;overflow-x:auto;line-height:normal;font-family:Menlo,'DejaVu Sans Mono',consolas,'Courier New',monospace\">DorresteinLaboratory_coding_dh_org.csv\n",
       "</pre>\n"
      ],
      "text/plain": [
       "DorresteinLaboratory_coding_dh_org.csv\n"
      ]
     },
     "metadata": {},
     "output_type": "display_data"
    },
    {
     "data": {
      "text/html": [
       "<pre style=\"white-space:pre;overflow-x:auto;line-height:normal;font-family:Menlo,'DejaVu Sans Mono',consolas,'Courier New',monospace\">smgprojects_coding_dh_org.csv\n",
       "</pre>\n"
      ],
      "text/plain": [
       "smgprojects_coding_dh_org.csv\n"
      ]
     },
     "metadata": {},
     "output_type": "display_data"
    },
    {
     "data": {
      "text/html": [
       "<pre style=\"white-space:pre;overflow-x:auto;line-height:normal;font-family:Menlo,'DejaVu Sans Mono',consolas,'Courier New',monospace\">UniversalViewer_coding_dh_org.csv\n",
       "</pre>\n"
      ],
      "text/plain": [
       "UniversalViewer_coding_dh_org.csv\n"
      ]
     },
     "metadata": {},
     "output_type": "display_data"
    },
    {
     "data": {
      "text/html": [
       "<pre style=\"white-space:pre;overflow-x:auto;line-height:normal;font-family:Menlo,'DejaVu Sans Mono',consolas,'Courier New',monospace\">asciidoctor_coding_dh_org.csv\n",
       "</pre>\n"
      ],
      "text/plain": [
       "asciidoctor_coding_dh_org.csv\n"
      ]
     },
     "metadata": {},
     "output_type": "display_data"
    },
    {
     "data": {
      "text/html": [
       "<pre style=\"white-space:pre;overflow-x:auto;line-height:normal;font-family:Menlo,'DejaVu Sans Mono',consolas,'Courier New',monospace\">SpaceAppsCH_coding_dh_org.csv\n",
       "</pre>\n"
      ],
      "text/plain": [
       "SpaceAppsCH_coding_dh_org.csv\n"
      ]
     },
     "metadata": {},
     "output_type": "display_data"
    },
    {
     "data": {
      "text/html": [
       "<pre style=\"white-space:pre;overflow-x:auto;line-height:normal;font-family:Menlo,'DejaVu Sans Mono',consolas,'Courier New',monospace\">quality-quarantine_coding_dh_org.csv\n",
       "</pre>\n"
      ],
      "text/plain": [
       "quality-quarantine_coding_dh_org.csv\n"
      ]
     },
     "metadata": {},
     "output_type": "display_data"
    },
    {
     "data": {
      "text/html": [
       "<pre style=\"white-space:pre;overflow-x:auto;line-height:normal;font-family:Menlo,'DejaVu Sans Mono',consolas,'Courier New',monospace\">RepoCamp_coding_dh_org.csv\n",
       "</pre>\n"
      ],
      "text/plain": [
       "RepoCamp_coding_dh_org.csv\n"
      ]
     },
     "metadata": {},
     "output_type": "display_data"
    },
    {
     "data": {
      "text/html": [
       "<pre style=\"white-space:pre;overflow-x:auto;line-height:normal;font-family:Menlo,'DejaVu Sans Mono',consolas,'Courier New',monospace\">idigbio-api-hackathon_coding_dh_org.csv\n",
       "</pre>\n"
      ],
      "text/plain": [
       "idigbio-api-hackathon_coding_dh_org.csv\n"
      ]
     },
     "metadata": {},
     "output_type": "display_data"
    },
    {
     "data": {
      "text/html": [
       "<pre style=\"white-space:pre;overflow-x:auto;line-height:normal;font-family:Menlo,'DejaVu Sans Mono',consolas,'Courier New',monospace\">opensanctions_coding_dh_org.csv\n",
       "</pre>\n"
      ],
      "text/plain": [
       "opensanctions_coding_dh_org.csv\n"
      ]
     },
     "metadata": {},
     "output_type": "display_data"
    },
    {
     "data": {
      "text/html": [
       "<pre style=\"white-space:pre;overflow-x:auto;line-height:normal;font-family:Menlo,'DejaVu Sans Mono',consolas,'Courier New',monospace\">Joachim-Raff-Archiv_coding_dh_org.csv\n",
       "</pre>\n"
      ],
      "text/plain": [
       "Joachim-Raff-Archiv_coding_dh_org.csv\n"
      ]
     },
     "metadata": {},
     "output_type": "display_data"
    },
    {
     "data": {
      "text/html": [
       "<pre style=\"white-space:pre;overflow-x:auto;line-height:normal;font-family:Menlo,'DejaVu Sans Mono',consolas,'Courier New',monospace\">sastrala_coding_dh_org.csv\n",
       "</pre>\n"
      ],
      "text/plain": [
       "sastrala_coding_dh_org.csv\n"
      ]
     },
     "metadata": {},
     "output_type": "display_data"
    },
    {
     "data": {
      "text/html": [
       "<pre style=\"white-space:pre;overflow-x:auto;line-height:normal;font-family:Menlo,'DejaVu Sans Mono',consolas,'Courier New',monospace\">OpenHistoricalMap_coding_dh_org.csv\n",
       "</pre>\n"
      ],
      "text/plain": [
       "OpenHistoricalMap_coding_dh_org.csv\n"
      ]
     },
     "metadata": {},
     "output_type": "display_data"
    },
    {
     "data": {
      "text/html": [
       "<pre style=\"white-space:pre;overflow-x:auto;line-height:normal;font-family:Menlo,'DejaVu Sans Mono',consolas,'Courier New',monospace\">huspacy_coding_dh_org.csv\n",
       "</pre>\n"
      ],
      "text/plain": [
       "huspacy_coding_dh_org.csv\n"
      ]
     },
     "metadata": {},
     "output_type": "display_data"
    },
    {
     "data": {
      "text/html": [
       "<pre style=\"white-space:pre;overflow-x:auto;line-height:normal;font-family:Menlo,'DejaVu Sans Mono',consolas,'Courier New',monospace\">JuliaGraphs_coding_dh_org.csv\n",
       "</pre>\n"
      ],
      "text/plain": [
       "JuliaGraphs_coding_dh_org.csv\n"
      ]
     },
     "metadata": {},
     "output_type": "display_data"
    },
    {
     "data": {
      "text/html": [
       "<pre style=\"white-space:pre;overflow-x:auto;line-height:normal;font-family:Menlo,'DejaVu Sans Mono',consolas,'Courier New',monospace\">endangereddataweek_coding_dh_org.csv\n",
       "</pre>\n"
      ],
      "text/plain": [
       "endangereddataweek_coding_dh_org.csv\n"
      ]
     },
     "metadata": {},
     "output_type": "display_data"
    },
    {
     "data": {
      "text/html": [
       "<pre style=\"white-space:pre;overflow-x:auto;line-height:normal;font-family:Menlo,'DejaVu Sans Mono',consolas,'Courier New',monospace\">hexojs_coding_dh_org.csv\n",
       "</pre>\n"
      ],
      "text/plain": [
       "hexojs_coding_dh_org.csv\n"
      ]
     },
     "metadata": {},
     "output_type": "display_data"
    },
    {
     "data": {
      "text/html": [
       "<pre style=\"white-space:pre;overflow-x:auto;line-height:normal;font-family:Menlo,'DejaVu Sans Mono',consolas,'Courier New',monospace\">dbpedia-spotlight_coding_dh_org.csv\n",
       "</pre>\n"
      ],
      "text/plain": [
       "dbpedia-spotlight_coding_dh_org.csv\n"
      ]
     },
     "metadata": {},
     "output_type": "display_data"
    },
    {
     "data": {
      "text/html": [
       "<pre style=\"white-space:pre;overflow-x:auto;line-height:normal;font-family:Menlo,'DejaVu Sans Mono',consolas,'Courier New',monospace\">estadistika_coding_dh_org.csv\n",
       "</pre>\n"
      ],
      "text/plain": [
       "estadistika_coding_dh_org.csv\n"
      ]
     },
     "metadata": {},
     "output_type": "display_data"
    },
    {
     "data": {
      "text/html": [
       "<pre style=\"white-space:pre;overflow-x:auto;line-height:normal;font-family:Menlo,'DejaVu Sans Mono',consolas,'Courier New',monospace\">entrepreneur-interet-general_coding_dh_org.csv\n",
       "</pre>\n"
      ],
      "text/plain": [
       "entrepreneur-interet-general_coding_dh_org.csv\n"
      ]
     },
     "metadata": {},
     "output_type": "display_data"
    },
    {
     "data": {
      "text/html": [
       "<pre style=\"white-space:pre;overflow-x:auto;line-height:normal;font-family:Menlo,'DejaVu Sans Mono',consolas,'Courier New',monospace\">slugphp_coding_dh_org.csv\n",
       "</pre>\n"
      ],
      "text/plain": [
       "slugphp_coding_dh_org.csv\n"
      ]
     },
     "metadata": {},
     "output_type": "display_data"
    },
    {
     "data": {
      "text/html": [
       "<pre style=\"white-space:pre;overflow-x:auto;line-height:normal;font-family:Menlo,'DejaVu Sans Mono',consolas,'Courier New',monospace\">squareup_coding_dh_org.csv\n",
       "</pre>\n"
      ],
      "text/plain": [
       "squareup_coding_dh_org.csv\n"
      ]
     },
     "metadata": {},
     "output_type": "display_data"
    },
    {
     "data": {
      "text/html": [
       "<pre style=\"white-space:pre;overflow-x:auto;line-height:normal;font-family:Menlo,'DejaVu Sans Mono',consolas,'Courier New',monospace\">many-to-many_coding_dh_org.csv\n",
       "</pre>\n"
      ],
      "text/plain": [
       "many-to-many_coding_dh_org.csv\n"
      ]
     },
     "metadata": {},
     "output_type": "display_data"
    },
    {
     "data": {
      "text/html": [
       "<pre style=\"white-space:pre;overflow-x:auto;line-height:normal;font-family:Menlo,'DejaVu Sans Mono',consolas,'Courier New',monospace\">Johanna-Mestorf-Academy_coding_dh_org.csv\n",
       "</pre>\n"
      ],
      "text/plain": [
       "Johanna-Mestorf-Academy_coding_dh_org.csv\n"
      ]
     },
     "metadata": {},
     "output_type": "display_data"
    },
    {
     "data": {
      "text/html": [
       "<pre style=\"white-space:pre;overflow-x:auto;line-height:normal;font-family:Menlo,'DejaVu Sans Mono',consolas,'Courier New',monospace\">ledeprogram_coding_dh_org.csv\n",
       "</pre>\n"
      ],
      "text/plain": [
       "ledeprogram_coding_dh_org.csv\n"
      ]
     },
     "metadata": {},
     "output_type": "display_data"
    },
    {
     "data": {
      "text/html": [
       "<pre style=\"white-space:pre;overflow-x:auto;line-height:normal;font-family:Menlo,'DejaVu Sans Mono',consolas,'Courier New',monospace\">bnfhack_coding_dh_org.csv\n",
       "</pre>\n"
      ],
      "text/plain": [
       "bnfhack_coding_dh_org.csv\n"
      ]
     },
     "metadata": {},
     "output_type": "display_data"
    },
    {
     "data": {
      "text/html": [
       "<pre style=\"white-space:pre;overflow-x:auto;line-height:normal;font-family:Menlo,'DejaVu Sans Mono',consolas,'Courier New',monospace\">cuthbertLab_coding_dh_org.csv\n",
       "</pre>\n"
      ],
      "text/plain": [
       "cuthbertLab_coding_dh_org.csv\n"
      ]
     },
     "metadata": {},
     "output_type": "display_data"
    },
    {
     "data": {
      "text/html": [
       "<pre style=\"white-space:pre;overflow-x:auto;line-height:normal;font-family:Menlo,'DejaVu Sans Mono',consolas,'Courier New',monospace\">juniorconsulting_coding_dh_org.csv\n",
       "</pre>\n"
      ],
      "text/plain": [
       "juniorconsulting_coding_dh_org.csv\n"
      ]
     },
     "metadata": {},
     "output_type": "display_data"
    },
    {
     "data": {
      "text/html": [
       "<pre style=\"white-space:pre;overflow-x:auto;line-height:normal;font-family:Menlo,'DejaVu Sans Mono',consolas,'Courier New',monospace\">rootsdev_coding_dh_org.csv\n",
       "</pre>\n"
      ],
      "text/plain": [
       "rootsdev_coding_dh_org.csv\n"
      ]
     },
     "metadata": {},
     "output_type": "display_data"
    },
    {
     "data": {
      "text/html": [
       "<pre style=\"white-space:pre;overflow-x:auto;line-height:normal;font-family:Menlo,'DejaVu Sans Mono',consolas,'Courier New',monospace\">covidclinical_coding_dh_org.csv\n",
       "</pre>\n"
      ],
      "text/plain": [
       "covidclinical_coding_dh_org.csv\n"
      ]
     },
     "metadata": {},
     "output_type": "display_data"
    },
    {
     "data": {
      "text/html": [
       "<pre style=\"white-space:pre;overflow-x:auto;line-height:normal;font-family:Menlo,'DejaVu Sans Mono',consolas,'Courier New',monospace\">vecnet_coding_dh_org.csv\n",
       "</pre>\n"
      ],
      "text/plain": [
       "vecnet_coding_dh_org.csv\n"
      ]
     },
     "metadata": {},
     "output_type": "display_data"
    },
    {
     "data": {
      "text/html": [
       "<pre style=\"white-space:pre;overflow-x:auto;line-height:normal;font-family:Menlo,'DejaVu Sans Mono',consolas,'Courier New',monospace\">httpreserve_coding_dh_org.csv\n",
       "</pre>\n"
      ],
      "text/plain": [
       "httpreserve_coding_dh_org.csv\n"
      ]
     },
     "metadata": {},
     "output_type": "display_data"
    },
    {
     "data": {
      "text/html": [
       "<pre style=\"white-space:pre;overflow-x:auto;line-height:normal;font-family:Menlo,'DejaVu Sans Mono',consolas,'Courier New',monospace\">programaria_coding_dh_org.csv\n",
       "</pre>\n"
      ],
      "text/plain": [
       "programaria_coding_dh_org.csv\n"
      ]
     },
     "metadata": {},
     "output_type": "display_data"
    },
    {
     "data": {
      "text/html": [
       "<pre style=\"white-space:pre;overflow-x:auto;line-height:normal;font-family:Menlo,'DejaVu Sans Mono',consolas,'Courier New',monospace\">idigbio-citsci-hackathon_coding_dh_org.csv\n",
       "</pre>\n"
      ],
      "text/plain": [
       "idigbio-citsci-hackathon_coding_dh_org.csv\n"
      ]
     },
     "metadata": {},
     "output_type": "display_data"
    },
    {
     "data": {
      "text/html": [
       "<pre style=\"white-space:pre;overflow-x:auto;line-height:normal;font-family:Menlo,'DejaVu Sans Mono',consolas,'Courier New',monospace\">sul-dlss-labs_coding_dh_org.csv\n",
       "</pre>\n"
      ],
      "text/plain": [
       "sul-dlss-labs_coding_dh_org.csv\n"
      ]
     },
     "metadata": {},
     "output_type": "display_data"
    },
    {
     "data": {
      "text/html": [
       "<pre style=\"white-space:pre;overflow-x:auto;line-height:normal;font-family:Menlo,'DejaVu Sans Mono',consolas,'Courier New',monospace\">hsc748NLP_coding_dh_org.csv\n",
       "</pre>\n"
      ],
      "text/plain": [
       "hsc748NLP_coding_dh_org.csv\n"
      ]
     },
     "metadata": {},
     "output_type": "display_data"
    },
    {
     "data": {
      "text/html": [
       "<pre style=\"white-space:pre;overflow-x:auto;line-height:normal;font-family:Menlo,'DejaVu Sans Mono',consolas,'Courier New',monospace\">SmithsonianWorkshops_coding_dh_org.csv\n",
       "</pre>\n"
      ],
      "text/plain": [
       "SmithsonianWorkshops_coding_dh_org.csv\n"
      ]
     },
     "metadata": {},
     "output_type": "display_data"
    },
    {
     "data": {
      "text/html": [
       "<pre style=\"white-space:pre;overflow-x:auto;line-height:normal;font-family:Menlo,'DejaVu Sans Mono',consolas,'Courier New',monospace\">HumanidadesDigitales_coding_dh_org.csv\n",
       "</pre>\n"
      ],
      "text/plain": [
       "HumanidadesDigitales_coding_dh_org.csv\n"
      ]
     },
     "metadata": {},
     "output_type": "display_data"
    },
    {
     "data": {
      "text/html": [
       "<pre style=\"white-space:pre;overflow-x:auto;line-height:normal;font-family:Menlo,'DejaVu Sans Mono',consolas,'Courier New',monospace\">ATLA-OpenSource_coding_dh_org.csv\n",
       "</pre>\n"
      ],
      "text/plain": [
       "ATLA-OpenSource_coding_dh_org.csv\n"
      ]
     },
     "metadata": {},
     "output_type": "display_data"
    },
    {
     "data": {
      "text/html": [
       "<pre style=\"white-space:pre;overflow-x:auto;line-height:normal;font-family:Menlo,'DejaVu Sans Mono',consolas,'Courier New',monospace\">freud-digital_coding_dh_org.csv\n",
       "</pre>\n"
      ],
      "text/plain": [
       "freud-digital_coding_dh_org.csv\n"
      ]
     },
     "metadata": {},
     "output_type": "display_data"
    },
    {
     "data": {
      "text/html": [
       "<pre style=\"white-space:pre;overflow-x:auto;line-height:normal;font-family:Menlo,'DejaVu Sans Mono',consolas,'Courier New',monospace\">carpentries-lab_coding_dh_org.csv\n",
       "</pre>\n"
      ],
      "text/plain": [
       "carpentries-lab_coding_dh_org.csv\n"
      ]
     },
     "metadata": {},
     "output_type": "display_data"
    },
    {
     "data": {
      "text/html": [
       "<pre style=\"white-space:pre;overflow-x:auto;line-height:normal;font-family:Menlo,'DejaVu Sans Mono',consolas,'Courier New',monospace\">readthedocs_coding_dh_org.csv\n",
       "</pre>\n"
      ],
      "text/plain": [
       "readthedocs_coding_dh_org.csv\n"
      ]
     },
     "metadata": {},
     "output_type": "display_data"
    },
    {
     "data": {
      "text/html": [
       "<pre style=\"white-space:pre;overflow-x:auto;line-height:normal;font-family:Menlo,'DejaVu Sans Mono',consolas,'Courier New',monospace\">indieweb_coding_dh_org.csv\n",
       "</pre>\n"
      ],
      "text/plain": [
       "indieweb_coding_dh_org.csv\n"
      ]
     },
     "metadata": {},
     "output_type": "display_data"
    },
    {
     "data": {
      "text/html": [
       "<pre style=\"white-space:pre;overflow-x:auto;line-height:normal;font-family:Menlo,'DejaVu Sans Mono',consolas,'Courier New',monospace\">middlicomp_coding_dh_org.csv\n",
       "</pre>\n"
      ],
      "text/plain": [
       "middlicomp_coding_dh_org.csv\n"
      ]
     },
     "metadata": {},
     "output_type": "display_data"
    },
    {
     "data": {
      "text/html": [
       "<pre style=\"white-space:pre;overflow-x:auto;line-height:normal;font-family:Menlo,'DejaVu Sans Mono',consolas,'Courier New',monospace\">LATC_coding_dh_org.csv\n",
       "</pre>\n"
      ],
      "text/plain": [
       "LATC_coding_dh_org.csv\n"
      ]
     },
     "metadata": {},
     "output_type": "display_data"
    },
    {
     "data": {
      "text/html": [
       "<pre style=\"white-space:pre;overflow-x:auto;line-height:normal;font-family:Menlo,'DejaVu Sans Mono',consolas,'Courier New',monospace\">OVGTSL_coding_dh_org.csv\n",
       "</pre>\n"
      ],
      "text/plain": [
       "OVGTSL_coding_dh_org.csv\n"
      ]
     },
     "metadata": {},
     "output_type": "display_data"
    },
    {
     "data": {
      "text/html": [
       "<pre style=\"white-space:pre;overflow-x:auto;line-height:normal;font-family:Menlo,'DejaVu Sans Mono',consolas,'Courier New',monospace\">DDD-Moore_coding_dh_org.csv\n",
       "</pre>\n"
      ],
      "text/plain": [
       "DDD-Moore_coding_dh_org.csv\n"
      ]
     },
     "metadata": {},
     "output_type": "display_data"
    },
    {
     "data": {
      "text/html": [
       "<pre style=\"white-space:pre;overflow-x:auto;line-height:normal;font-family:Menlo,'DejaVu Sans Mono',consolas,'Courier New',monospace\">Madrigalis_coding_dh_org.csv\n",
       "</pre>\n"
      ],
      "text/plain": [
       "Madrigalis_coding_dh_org.csv\n"
      ]
     },
     "metadata": {},
     "output_type": "display_data"
    },
    {
     "data": {
      "text/html": [
       "<pre style=\"white-space:pre;overflow-x:auto;line-height:normal;font-family:Menlo,'DejaVu Sans Mono',consolas,'Courier New',monospace\">googleprojectzero_coding_dh_org.csv\n",
       "</pre>\n"
      ],
      "text/plain": [
       "googleprojectzero_coding_dh_org.csv\n"
      ]
     },
     "metadata": {},
     "output_type": "display_data"
    },
    {
     "data": {
      "text/html": [
       "<pre style=\"white-space:pre;overflow-x:auto;line-height:normal;font-family:Menlo,'DejaVu Sans Mono',consolas,'Courier New',monospace\">MiR-Community_coding_dh_org.csv\n",
       "</pre>\n"
      ],
      "text/plain": [
       "MiR-Community_coding_dh_org.csv\n"
      ]
     },
     "metadata": {},
     "output_type": "display_data"
    },
    {
     "data": {
      "text/html": [
       "<pre style=\"white-space:pre;overflow-x:auto;line-height:normal;font-family:Menlo,'DejaVu Sans Mono',consolas,'Courier New',monospace\">hypertidy_coding_dh_org.csv\n",
       "</pre>\n"
      ],
      "text/plain": [
       "hypertidy_coding_dh_org.csv\n"
      ]
     },
     "metadata": {},
     "output_type": "display_data"
    },
    {
     "data": {
      "text/html": [
       "<pre style=\"white-space:pre;overflow-x:auto;line-height:normal;font-family:Menlo,'DejaVu Sans Mono',consolas,'Courier New',monospace\">codecheckers_coding_dh_org.csv\n",
       "</pre>\n"
      ],
      "text/plain": [
       "codecheckers_coding_dh_org.csv\n"
      ]
     },
     "metadata": {},
     "output_type": "display_data"
    },
    {
     "data": {
      "text/html": [
       "<pre style=\"white-space:pre;overflow-x:auto;line-height:normal;font-family:Menlo,'DejaVu Sans Mono',consolas,'Courier New',monospace\">easystats_coding_dh_org.csv\n",
       "</pre>\n"
      ],
      "text/plain": [
       "easystats_coding_dh_org.csv\n"
      ]
     },
     "metadata": {},
     "output_type": "display_data"
    },
    {
     "data": {
      "text/html": [
       "<pre style=\"white-space:pre;overflow-x:auto;line-height:normal;font-family:Menlo,'DejaVu Sans Mono',consolas,'Courier New',monospace\">mxshell_coding_dh_org.csv\n",
       "</pre>\n"
      ],
      "text/plain": [
       "mxshell_coding_dh_org.csv\n"
      ]
     },
     "metadata": {},
     "output_type": "display_data"
    },
    {
     "data": {
      "text/html": [
       "<pre style=\"white-space:pre;overflow-x:auto;line-height:normal;font-family:Menlo,'DejaVu Sans Mono',consolas,'Courier New',monospace\">hipster-philology_coding_dh_org.csv\n",
       "</pre>\n"
      ],
      "text/plain": [
       "hipster-philology_coding_dh_org.csv\n"
      ]
     },
     "metadata": {},
     "output_type": "display_data"
    },
    {
     "data": {
      "text/html": [
       "<pre style=\"white-space:pre;overflow-x:auto;line-height:normal;font-family:Menlo,'DejaVu Sans Mono',consolas,'Courier New',monospace\">googlecolab_coding_dh_org.csv\n",
       "</pre>\n"
      ],
      "text/plain": [
       "googlecolab_coding_dh_org.csv\n"
      ]
     },
     "metadata": {},
     "output_type": "display_data"
    },
    {
     "data": {
      "text/html": [
       "<pre style=\"white-space:pre;overflow-x:auto;line-height:normal;font-family:Menlo,'DejaVu Sans Mono',consolas,'Courier New',monospace\">PO-LAB_coding_dh_org.csv\n",
       "</pre>\n"
      ],
      "text/plain": [
       "PO-LAB_coding_dh_org.csv\n"
      ]
     },
     "metadata": {},
     "output_type": "display_data"
    },
    {
     "data": {
      "text/html": [
       "<pre style=\"white-space:pre;overflow-x:auto;line-height:normal;font-family:Menlo,'DejaVu Sans Mono',consolas,'Courier New',monospace\">toitware_coding_dh_org.csv\n",
       "</pre>\n"
      ],
      "text/plain": [
       "toitware_coding_dh_org.csv\n"
      ]
     },
     "metadata": {},
     "output_type": "display_data"
    },
    {
     "data": {
      "text/html": [
       "<pre style=\"white-space:pre;overflow-x:auto;line-height:normal;font-family:Menlo,'DejaVu Sans Mono',consolas,'Courier New',monospace\">sviluppo-web-dhch_coding_dh_org.csv\n",
       "</pre>\n"
      ],
      "text/plain": [
       "sviluppo-web-dhch_coding_dh_org.csv\n"
      ]
     },
     "metadata": {},
     "output_type": "display_data"
    },
    {
     "data": {
      "text/html": [
       "<pre style=\"white-space:pre;overflow-x:auto;line-height:normal;font-family:Menlo,'DejaVu Sans Mono',consolas,'Courier New',monospace\">dwyl_coding_dh_org.csv\n",
       "</pre>\n"
      ],
      "text/plain": [
       "dwyl_coding_dh_org.csv\n"
      ]
     },
     "metadata": {},
     "output_type": "display_data"
    },
    {
     "data": {
      "text/html": [
       "<pre style=\"white-space:pre;overflow-x:auto;line-height:normal;font-family:Menlo,'DejaVu Sans Mono',consolas,'Courier New',monospace\">ihr-digital_coding_dh_org.csv\n",
       "</pre>\n"
      ],
      "text/plain": [
       "ihr-digital_coding_dh_org.csv\n"
      ]
     },
     "metadata": {},
     "output_type": "display_data"
    },
    {
     "data": {
      "text/html": [
       "<pre style=\"white-space:pre;overflow-x:auto;line-height:normal;font-family:Menlo,'DejaVu Sans Mono',consolas,'Courier New',monospace\">intermine_coding_dh_org.csv\n",
       "</pre>\n"
      ],
      "text/plain": [
       "intermine_coding_dh_org.csv\n"
      ]
     },
     "metadata": {},
     "output_type": "display_data"
    },
    {
     "data": {
      "text/html": [
       "<pre style=\"white-space:pre;overflow-x:auto;line-height:normal;font-family:Menlo,'DejaVu Sans Mono',consolas,'Courier New',monospace\">open-oni_coding_dh_org.csv\n",
       "</pre>\n"
      ],
      "text/plain": [
       "open-oni_coding_dh_org.csv\n"
      ]
     },
     "metadata": {},
     "output_type": "display_data"
    },
    {
     "data": {
      "text/html": [
       "<pre style=\"white-space:pre;overflow-x:auto;line-height:normal;font-family:Menlo,'DejaVu Sans Mono',consolas,'Courier New',monospace\">battelle-dsi-capstone-2015_coding_dh_org.csv\n",
       "</pre>\n"
      ],
      "text/plain": [
       "battelle-dsi-capstone-2015_coding_dh_org.csv\n"
      ]
     },
     "metadata": {},
     "output_type": "display_data"
    },
    {
     "data": {
      "text/html": [
       "<pre style=\"white-space:pre;overflow-x:auto;line-height:normal;font-family:Menlo,'DejaVu Sans Mono',consolas,'Courier New',monospace\">ExPod_coding_dh_org.csv\n",
       "</pre>\n"
      ],
      "text/plain": [
       "ExPod_coding_dh_org.csv\n"
      ]
     },
     "metadata": {},
     "output_type": "display_data"
    },
    {
     "data": {
      "text/html": [
       "<pre style=\"white-space:pre;overflow-x:auto;line-height:normal;font-family:Menlo,'DejaVu Sans Mono',consolas,'Courier New',monospace\">Shakespeare-in-XSLT_coding_dh_org.csv\n",
       "</pre>\n"
      ],
      "text/plain": [
       "Shakespeare-in-XSLT_coding_dh_org.csv\n"
      ]
     },
     "metadata": {},
     "output_type": "display_data"
    },
    {
     "data": {
      "text/html": [
       "<pre style=\"white-space:pre;overflow-x:auto;line-height:normal;font-family:Menlo,'DejaVu Sans Mono',consolas,'Courier New',monospace\">HumanitiesAnalytics_coding_dh_org.csv\n",
       "</pre>\n"
      ],
      "text/plain": [
       "HumanitiesAnalytics_coding_dh_org.csv\n"
      ]
     },
     "metadata": {},
     "output_type": "display_data"
    },
    {
     "data": {
      "text/html": [
       "<pre style=\"white-space:pre;overflow-x:auto;line-height:normal;font-family:Menlo,'DejaVu Sans Mono',consolas,'Courier New',monospace\">MPEDS_coding_dh_org.csv\n",
       "</pre>\n"
      ],
      "text/plain": [
       "MPEDS_coding_dh_org.csv\n"
      ]
     },
     "metadata": {},
     "output_type": "display_data"
    },
    {
     "data": {
      "text/html": [
       "<pre style=\"white-space:pre;overflow-x:auto;line-height:normal;font-family:Menlo,'DejaVu Sans Mono',consolas,'Courier New',monospace\">scholmd_coding_dh_org.csv\n",
       "</pre>\n"
      ],
      "text/plain": [
       "scholmd_coding_dh_org.csv\n"
      ]
     },
     "metadata": {},
     "output_type": "display_data"
    },
    {
     "data": {
      "text/html": [
       "<pre style=\"white-space:pre;overflow-x:auto;line-height:normal;font-family:Menlo,'DejaVu Sans Mono',consolas,'Courier New',monospace\">lofhm_coding_dh_org.csv\n",
       "</pre>\n"
      ],
      "text/plain": [
       "lofhm_coding_dh_org.csv\n"
      ]
     },
     "metadata": {},
     "output_type": "display_data"
    },
    {
     "data": {
      "text/html": [
       "<pre style=\"white-space:pre;overflow-x:auto;line-height:normal;font-family:Menlo,'DejaVu Sans Mono',consolas,'Courier New',monospace\">Digital-Preservation-Finland_coding_dh_org.csv\n",
       "</pre>\n"
      ],
      "text/plain": [
       "Digital-Preservation-Finland_coding_dh_org.csv\n"
      ]
     },
     "metadata": {},
     "output_type": "display_data"
    },
    {
     "data": {
      "text/html": [
       "<pre style=\"white-space:pre;overflow-x:auto;line-height:normal;font-family:Menlo,'DejaVu Sans Mono',consolas,'Courier New',monospace\">Gnucash_coding_dh_org.csv\n",
       "</pre>\n"
      ],
      "text/plain": [
       "Gnucash_coding_dh_org.csv\n"
      ]
     },
     "metadata": {},
     "output_type": "display_data"
    },
    {
     "data": {
      "text/html": [
       "<pre style=\"white-space:pre;overflow-x:auto;line-height:normal;font-family:Menlo,'DejaVu Sans Mono',consolas,'Courier New',monospace\">LLBeirut_coding_dh_org.csv\n",
       "</pre>\n"
      ],
      "text/plain": [
       "LLBeirut_coding_dh_org.csv\n"
      ]
     },
     "metadata": {},
     "output_type": "display_data"
    },
    {
     "data": {
      "text/html": [
       "<pre style=\"white-space:pre;overflow-x:auto;line-height:normal;font-family:Menlo,'DejaVu Sans Mono',consolas,'Courier New',monospace\">opensource-spraakherkenning-nl_coding_dh_org.csv\n",
       "</pre>\n"
      ],
      "text/plain": [
       "opensource-spraakherkenning-nl_coding_dh_org.csv\n"
      ]
     },
     "metadata": {},
     "output_type": "display_data"
    },
    {
     "data": {
      "text/html": [
       "<pre style=\"white-space:pre;overflow-x:auto;line-height:normal;font-family:Menlo,'DejaVu Sans Mono',consolas,'Courier New',monospace\">r-lib_coding_dh_org.csv\n",
       "</pre>\n"
      ],
      "text/plain": [
       "r-lib_coding_dh_org.csv\n"
      ]
     },
     "metadata": {},
     "output_type": "display_data"
    },
    {
     "data": {
      "text/html": [
       "<pre style=\"white-space:pre;overflow-x:auto;line-height:normal;font-family:Menlo,'DejaVu Sans Mono',consolas,'Courier New',monospace\">GammaNurds_coding_dh_org.csv\n",
       "</pre>\n"
      ],
      "text/plain": [
       "GammaNurds_coding_dh_org.csv\n"
      ]
     },
     "metadata": {},
     "output_type": "display_data"
    },
    {
     "data": {
      "text/html": [
       "<pre style=\"white-space:pre;overflow-x:auto;line-height:normal;font-family:Menlo,'DejaVu Sans Mono',consolas,'Courier New',monospace\">Transkribus_coding_dh_org.csv\n",
       "</pre>\n"
      ],
      "text/plain": [
       "Transkribus_coding_dh_org.csv\n"
      ]
     },
     "metadata": {},
     "output_type": "display_data"
    },
    {
     "data": {
      "text/html": [
       "<pre style=\"white-space:pre;overflow-x:auto;line-height:normal;font-family:Menlo,'DejaVu Sans Mono',consolas,'Courier New',monospace\">dystudio_coding_dh_org.csv\n",
       "</pre>\n"
      ],
      "text/plain": [
       "dystudio_coding_dh_org.csv\n"
      ]
     },
     "metadata": {},
     "output_type": "display_data"
    },
    {
     "data": {
      "text/html": [
       "<pre style=\"white-space:pre;overflow-x:auto;line-height:normal;font-family:Menlo,'DejaVu Sans Mono',consolas,'Courier New',monospace\">csvsoundsystem_coding_dh_org.csv\n",
       "</pre>\n"
      ],
      "text/plain": [
       "csvsoundsystem_coding_dh_org.csv\n"
      ]
     },
     "metadata": {},
     "output_type": "display_data"
    },
    {
     "data": {
      "text/html": [
       "<pre style=\"white-space:pre;overflow-x:auto;line-height:normal;font-family:Menlo,'DejaVu Sans Mono',consolas,'Courier New',monospace\">OMAS-IIIF_coding_dh_org.csv\n",
       "</pre>\n"
      ],
      "text/plain": [
       "OMAS-IIIF_coding_dh_org.csv\n"
      ]
     },
     "metadata": {},
     "output_type": "display_data"
    },
    {
     "data": {
      "text/html": [
       "<pre style=\"white-space:pre;overflow-x:auto;line-height:normal;font-family:Menlo,'DejaVu Sans Mono',consolas,'Courier New',monospace\">ngs-docs_coding_dh_org.csv\n",
       "</pre>\n"
      ],
      "text/plain": [
       "ngs-docs_coding_dh_org.csv\n"
      ]
     },
     "metadata": {},
     "output_type": "display_data"
    },
    {
     "data": {
      "text/html": [
       "<pre style=\"white-space:pre;overflow-x:auto;line-height:normal;font-family:Menlo,'DejaVu Sans Mono',consolas,'Courier New',monospace\">sastrapy_coding_dh_org.csv\n",
       "</pre>\n"
      ],
      "text/plain": [
       "sastrapy_coding_dh_org.csv\n"
      ]
     },
     "metadata": {},
     "output_type": "display_data"
    },
    {
     "data": {
      "text/html": [
       "<pre style=\"white-space:pre;overflow-x:auto;line-height:normal;font-family:Menlo,'DejaVu Sans Mono',consolas,'Courier New',monospace\">github_coding_dh_org.csv\n",
       "</pre>\n"
      ],
      "text/plain": [
       "github_coding_dh_org.csv\n"
      ]
     },
     "metadata": {},
     "output_type": "display_data"
    },
    {
     "data": {
      "text/html": [
       "<pre style=\"white-space:pre;overflow-x:auto;line-height:normal;font-family:Menlo,'DejaVu Sans Mono',consolas,'Courier New',monospace\">chicagocrimedata_coding_dh_org.csv\n",
       "</pre>\n"
      ],
      "text/plain": [
       "chicagocrimedata_coding_dh_org.csv\n"
      ]
     },
     "metadata": {},
     "output_type": "display_data"
    },
    {
     "data": {
      "text/html": [
       "<pre style=\"white-space:pre;overflow-x:auto;line-height:normal;font-family:Menlo,'DejaVu Sans Mono',consolas,'Courier New',monospace\">databyss-org_coding_dh_org.csv\n",
       "</pre>\n"
      ],
      "text/plain": [
       "databyss-org_coding_dh_org.csv\n"
      ]
     },
     "metadata": {},
     "output_type": "display_data"
    },
    {
     "data": {
      "text/html": [
       "<pre style=\"white-space:pre;overflow-x:auto;line-height:normal;font-family:Menlo,'DejaVu Sans Mono',consolas,'Courier New',monospace\">sastrai_coding_dh_org.csv\n",
       "</pre>\n"
      ],
      "text/plain": [
       "sastrai_coding_dh_org.csv\n"
      ]
     },
     "metadata": {},
     "output_type": "display_data"
    },
    {
     "data": {
      "text/html": [
       "<pre style=\"white-space:pre;overflow-x:auto;line-height:normal;font-family:Menlo,'DejaVu Sans Mono',consolas,'Courier New',monospace\">twitter101dh_coding_dh_org.csv\n",
       "</pre>\n"
      ],
      "text/plain": [
       "twitter101dh_coding_dh_org.csv\n"
      ]
     },
     "metadata": {},
     "output_type": "display_data"
    },
    {
     "data": {
      "text/html": [
       "<pre style=\"white-space:pre;overflow-x:auto;line-height:normal;font-family:Menlo,'DejaVu Sans Mono',consolas,'Courier New',monospace\">beyondopen_coding_dh_org.csv\n",
       "</pre>\n"
      ],
      "text/plain": [
       "beyondopen_coding_dh_org.csv\n"
      ]
     },
     "metadata": {},
     "output_type": "display_data"
    },
    {
     "data": {
      "text/html": [
       "<pre style=\"white-space:pre;overflow-x:auto;line-height:normal;font-family:Menlo,'DejaVu Sans Mono',consolas,'Courier New',monospace\">Ladies-Storm-Hackathons_coding_dh_org.csv\n",
       "</pre>\n"
      ],
      "text/plain": [
       "Ladies-Storm-Hackathons_coding_dh_org.csv\n"
      ]
     },
     "metadata": {},
     "output_type": "display_data"
    },
    {
     "data": {
      "text/html": [
       "<pre style=\"white-space:pre;overflow-x:auto;line-height:normal;font-family:Menlo,'DejaVu Sans Mono',consolas,'Courier New',monospace\">Auden-Musulin-Papers_coding_dh_org.csv\n",
       "</pre>\n"
      ],
      "text/plain": [
       "Auden-Musulin-Papers_coding_dh_org.csv\n"
      ]
     },
     "metadata": {},
     "output_type": "display_data"
    },
    {
     "data": {
      "text/html": [
       "<pre style=\"white-space:pre;overflow-x:auto;line-height:normal;font-family:Menlo,'DejaVu Sans Mono',consolas,'Courier New',monospace\">Communicabio_coding_dh_org.csv\n",
       "</pre>\n"
      ],
      "text/plain": [
       "Communicabio_coding_dh_org.csv\n"
      ]
     },
     "metadata": {},
     "output_type": "display_data"
    },
    {
     "data": {
      "text/html": [
       "<pre style=\"white-space:pre;overflow-x:auto;line-height:normal;font-family:Menlo,'DejaVu Sans Mono',consolas,'Courier New',monospace\">epicer-co_coding_dh_org.csv\n",
       "</pre>\n"
      ],
      "text/plain": [
       "epicer-co_coding_dh_org.csv\n"
      ]
     },
     "metadata": {},
     "output_type": "display_data"
    },
    {
     "data": {
      "text/html": [
       "<pre style=\"white-space:pre;overflow-x:auto;line-height:normal;font-family:Menlo,'DejaVu Sans Mono',consolas,'Courier New',monospace\">digbmc_coding_dh_org.csv\n",
       "</pre>\n"
      ],
      "text/plain": [
       "digbmc_coding_dh_org.csv\n"
      ]
     },
     "metadata": {},
     "output_type": "display_data"
    },
    {
     "data": {
      "text/html": [
       "<pre style=\"white-space:pre;overflow-x:auto;line-height:normal;font-family:Menlo,'DejaVu Sans Mono',consolas,'Courier New',monospace\">sciosci_coding_dh_org.csv\n",
       "</pre>\n"
      ],
      "text/plain": [
       "sciosci_coding_dh_org.csv\n"
      ]
     },
     "metadata": {},
     "output_type": "display_data"
    },
    {
     "data": {
      "text/html": [
       "<pre style=\"white-space:pre;overflow-x:auto;line-height:normal;font-family:Menlo,'DejaVu Sans Mono',consolas,'Courier New',monospace\">nd-textmine_coding_dh_org.csv\n",
       "</pre>\n"
      ],
      "text/plain": [
       "nd-textmine_coding_dh_org.csv\n"
      ]
     },
     "metadata": {},
     "output_type": "display_data"
    },
    {
     "data": {
      "text/html": [
       "<pre style=\"white-space:pre;overflow-x:auto;line-height:normal;font-family:Menlo,'DejaVu Sans Mono',consolas,'Courier New',monospace\">casus_coding_dh_org.csv\n",
       "</pre>\n"
      ],
      "text/plain": [
       "casus_coding_dh_org.csv\n"
      ]
     },
     "metadata": {},
     "output_type": "display_data"
    },
    {
     "data": {
      "text/html": [
       "<pre style=\"white-space:pre;overflow-x:auto;line-height:normal;font-family:Menlo,'DejaVu Sans Mono',consolas,'Courier New',monospace\">gunicorn_coding_dh_org.csv\n",
       "</pre>\n"
      ],
      "text/plain": [
       "gunicorn_coding_dh_org.csv\n"
      ]
     },
     "metadata": {},
     "output_type": "display_data"
    },
    {
     "data": {
      "text/html": [
       "<pre style=\"white-space:pre;overflow-x:auto;line-height:normal;font-family:Menlo,'DejaVu Sans Mono',consolas,'Courier New',monospace\">oldweb-today_coding_dh_org.csv\n",
       "</pre>\n"
      ],
      "text/plain": [
       "oldweb-today_coding_dh_org.csv\n"
      ]
     },
     "metadata": {},
     "output_type": "display_data"
    },
    {
     "data": {
      "text/html": [
       "<pre style=\"white-space:pre;overflow-x:auto;line-height:normal;font-family:Menlo,'DejaVu Sans Mono',consolas,'Courier New',monospace\">bagit-profiles_coding_dh_org.csv\n",
       "</pre>\n"
      ],
      "text/plain": [
       "bagit-profiles_coding_dh_org.csv\n"
      ]
     },
     "metadata": {},
     "output_type": "display_data"
    },
    {
     "data": {
      "text/html": [
       "<pre style=\"white-space:pre;overflow-x:auto;line-height:normal;font-family:Menlo,'DejaVu Sans Mono',consolas,'Courier New',monospace\">lakto_coding_dh_org.csv\n",
       "</pre>\n"
      ],
      "text/plain": [
       "lakto_coding_dh_org.csv\n"
      ]
     },
     "metadata": {},
     "output_type": "display_data"
    },
    {
     "data": {
      "text/html": [
       "<pre style=\"white-space:pre;overflow-x:auto;line-height:normal;font-family:Menlo,'DejaVu Sans Mono',consolas,'Courier New',monospace\">lifelines-project_coding_dh_org.csv\n",
       "</pre>\n"
      ],
      "text/plain": [
       "lifelines-project_coding_dh_org.csv\n"
      ]
     },
     "metadata": {},
     "output_type": "display_data"
    },
    {
     "data": {
      "text/html": [
       "<pre style=\"white-space:pre;overflow-x:auto;line-height:normal;font-family:Menlo,'DejaVu Sans Mono',consolas,'Courier New',monospace\">IGCyr_coding_dh_org.csv\n",
       "</pre>\n"
      ],
      "text/plain": [
       "IGCyr_coding_dh_org.csv\n"
      ]
     },
     "metadata": {},
     "output_type": "display_data"
    },
    {
     "data": {
      "text/html": [
       "<pre style=\"white-space:pre;overflow-x:auto;line-height:normal;font-family:Menlo,'DejaVu Sans Mono',consolas,'Courier New',monospace\">filamentphp_coding_dh_org.csv\n",
       "</pre>\n"
      ],
      "text/plain": [
       "filamentphp_coding_dh_org.csv\n"
      ]
     },
     "metadata": {},
     "output_type": "display_data"
    },
    {
     "data": {
      "text/html": [
       "<pre style=\"white-space:pre;overflow-x:auto;line-height:normal;font-family:Menlo,'DejaVu Sans Mono',consolas,'Courier New',monospace\">mei-friend_coding_dh_org.csv\n",
       "</pre>\n"
      ],
      "text/plain": [
       "mei-friend_coding_dh_org.csv\n"
      ]
     },
     "metadata": {},
     "output_type": "display_data"
    },
    {
     "data": {
      "text/html": [
       "<pre style=\"white-space:pre;overflow-x:auto;line-height:normal;font-family:Menlo,'DejaVu Sans Mono',consolas,'Courier New',monospace\">syntax-tree_coding_dh_org.csv\n",
       "</pre>\n"
      ],
      "text/plain": [
       "syntax-tree_coding_dh_org.csv\n"
      ]
     },
     "metadata": {},
     "output_type": "display_data"
    },
    {
     "data": {
      "text/html": [
       "<pre style=\"white-space:pre;overflow-x:auto;line-height:normal;font-family:Menlo,'DejaVu Sans Mono',consolas,'Courier New',monospace\">Rootroo-ltd_coding_dh_org.csv\n",
       "</pre>\n"
      ],
      "text/plain": [
       "Rootroo-ltd_coding_dh_org.csv\n"
      ]
     },
     "metadata": {},
     "output_type": "display_data"
    },
    {
     "data": {
      "text/html": [
       "<pre style=\"white-space:pre;overflow-x:auto;line-height:normal;font-family:Menlo,'DejaVu Sans Mono',consolas,'Courier New',monospace\">MerideanGroup_coding_dh_org.csv\n",
       "</pre>\n"
      ],
      "text/plain": [
       "MerideanGroup_coding_dh_org.csv\n"
      ]
     },
     "metadata": {},
     "output_type": "display_data"
    },
    {
     "data": {
      "text/html": [
       "<pre style=\"white-space:pre;overflow-x:auto;line-height:normal;font-family:Menlo,'DejaVu Sans Mono',consolas,'Courier New',monospace\">BetaMasaheft_coding_dh_org.csv\n",
       "</pre>\n"
      ],
      "text/plain": [
       "BetaMasaheft_coding_dh_org.csv\n"
      ]
     },
     "metadata": {},
     "output_type": "display_data"
    },
    {
     "data": {
      "text/html": [
       "<pre style=\"white-space:pre;overflow-x:auto;line-height:normal;font-family:Menlo,'DejaVu Sans Mono',consolas,'Courier New',monospace\">tidyverse_coding_dh_org.csv\n",
       "</pre>\n"
      ],
      "text/plain": [
       "tidyverse_coding_dh_org.csv\n"
      ]
     },
     "metadata": {},
     "output_type": "display_data"
    },
    {
     "data": {
      "text/html": [
       "<pre style=\"white-space:pre;overflow-x:auto;line-height:normal;font-family:Menlo,'DejaVu Sans Mono',consolas,'Courier New',monospace\">jekyllresources_coding_dh_org.csv\n",
       "</pre>\n"
      ],
      "text/plain": [
       "jekyllresources_coding_dh_org.csv\n"
      ]
     },
     "metadata": {},
     "output_type": "display_data"
    },
    {
     "data": {
      "text/html": [
       "<pre style=\"white-space:pre;overflow-x:auto;line-height:normal;font-family:Menlo,'DejaVu Sans Mono',consolas,'Courier New',monospace\">BentoBrowser_coding_dh_org.csv\n",
       "</pre>\n"
      ],
      "text/plain": [
       "BentoBrowser_coding_dh_org.csv\n"
      ]
     },
     "metadata": {},
     "output_type": "display_data"
    },
    {
     "data": {
      "text/html": [
       "<pre style=\"white-space:pre;overflow-x:auto;line-height:normal;font-family:Menlo,'DejaVu Sans Mono',consolas,'Courier New',monospace\">lotusnprod_coding_dh_org.csv\n",
       "</pre>\n"
      ],
      "text/plain": [
       "lotusnprod_coding_dh_org.csv\n"
      ]
     },
     "metadata": {},
     "output_type": "display_data"
    },
    {
     "data": {
      "text/html": [
       "<pre style=\"white-space:pre;overflow-x:auto;line-height:normal;font-family:Menlo,'DejaVu Sans Mono',consolas,'Courier New',monospace\">RIN-ConDE_coding_dh_org.csv\n",
       "</pre>\n"
      ],
      "text/plain": [
       "RIN-ConDE_coding_dh_org.csv\n"
      ]
     },
     "metadata": {},
     "output_type": "display_data"
    },
    {
     "data": {
      "text/html": [
       "<pre style=\"white-space:pre;overflow-x:auto;line-height:normal;font-family:Menlo,'DejaVu Sans Mono',consolas,'Courier New',monospace\">Anthum_coding_dh_org.csv\n",
       "</pre>\n"
      ],
      "text/plain": [
       "Anthum_coding_dh_org.csv\n"
      ]
     },
     "metadata": {},
     "output_type": "display_data"
    },
    {
     "data": {
      "text/html": [
       "<pre style=\"white-space:pre;overflow-x:auto;line-height:normal;font-family:Menlo,'DejaVu Sans Mono',consolas,'Courier New',monospace\">gendercomics_coding_dh_org.csv\n",
       "</pre>\n"
      ],
      "text/plain": [
       "gendercomics_coding_dh_org.csv\n"
      ]
     },
     "metadata": {},
     "output_type": "display_data"
    },
    {
     "data": {
      "text/html": [
       "<pre style=\"white-space:pre;overflow-x:auto;line-height:normal;font-family:Menlo,'DejaVu Sans Mono',consolas,'Courier New',monospace\">codingsastra_coding_dh_org.csv\n",
       "</pre>\n"
      ],
      "text/plain": [
       "codingsastra_coding_dh_org.csv\n"
      ]
     },
     "metadata": {},
     "output_type": "display_data"
    },
    {
     "data": {
      "text/html": [
       "<pre style=\"white-space:pre;overflow-x:auto;line-height:normal;font-family:Menlo,'DejaVu Sans Mono',consolas,'Courier New',monospace\">museum4punkt0_coding_dh_org.csv\n",
       "</pre>\n"
      ],
      "text/plain": [
       "museum4punkt0_coding_dh_org.csv\n"
      ]
     },
     "metadata": {},
     "output_type": "display_data"
    },
    {
     "data": {
      "text/html": [
       "<pre style=\"white-space:pre;overflow-x:auto;line-height:normal;font-family:Menlo,'DejaVu Sans Mono',consolas,'Courier New',monospace\">Glottography_coding_dh_org.csv\n",
       "</pre>\n"
      ],
      "text/plain": [
       "Glottography_coding_dh_org.csv\n"
      ]
     },
     "metadata": {},
     "output_type": "display_data"
    },
    {
     "data": {
      "text/html": [
       "<pre style=\"white-space:pre;overflow-x:auto;line-height:normal;font-family:Menlo,'DejaVu Sans Mono',consolas,'Courier New',monospace\">SCAS_coding_dh_org.csv\n",
       "</pre>\n"
      ],
      "text/plain": [
       "SCAS_coding_dh_org.csv\n"
      ]
     },
     "metadata": {},
     "output_type": "display_data"
    },
    {
     "data": {
      "text/html": [
       "<pre style=\"white-space:pre;overflow-x:auto;line-height:normal;font-family:Menlo,'DejaVu Sans Mono',consolas,'Courier New',monospace\">PressForward_coding_dh_org.csv\n",
       "</pre>\n"
      ],
      "text/plain": [
       "PressForward_coding_dh_org.csv\n"
      ]
     },
     "metadata": {},
     "output_type": "display_data"
    },
    {
     "data": {
      "text/html": [
       "<pre style=\"white-space:pre;overflow-x:auto;line-height:normal;font-family:Menlo,'DejaVu Sans Mono',consolas,'Courier New',monospace\">libraryhackers_coding_dh_org.csv\n",
       "</pre>\n"
      ],
      "text/plain": [
       "libraryhackers_coding_dh_org.csv\n"
      ]
     },
     "metadata": {},
     "output_type": "display_data"
    },
    {
     "data": {
      "text/html": [
       "<pre style=\"white-space:pre;overflow-x:auto;line-height:normal;font-family:Menlo,'DejaVu Sans Mono',consolas,'Courier New',monospace\">SwissLegalTech_coding_dh_org.csv\n",
       "</pre>\n"
      ],
      "text/plain": [
       "SwissLegalTech_coding_dh_org.csv\n"
      ]
     },
     "metadata": {},
     "output_type": "display_data"
    },
    {
     "data": {
      "text/html": [
       "<pre style=\"white-space:pre;overflow-x:auto;line-height:normal;font-family:Menlo,'DejaVu Sans Mono',consolas,'Courier New',monospace\">codeforamerica_coding_dh_org.csv\n",
       "</pre>\n"
      ],
      "text/plain": [
       "codeforamerica_coding_dh_org.csv\n"
      ]
     },
     "metadata": {},
     "output_type": "display_data"
    },
    {
     "data": {
      "text/html": [
       "<pre style=\"white-space:pre;overflow-x:auto;line-height:normal;font-family:Menlo,'DejaVu Sans Mono',consolas,'Courier New',monospace\">caius-project_coding_dh_org.csv\n",
       "</pre>\n"
      ],
      "text/plain": [
       "caius-project_coding_dh_org.csv\n"
      ]
     },
     "metadata": {},
     "output_type": "display_data"
    },
    {
     "data": {
      "text/html": [
       "<pre style=\"white-space:pre;overflow-x:auto;line-height:normal;font-family:Menlo,'DejaVu Sans Mono',consolas,'Courier New',monospace\">jakobib_coding_dh_org.csv\n",
       "</pre>\n"
      ],
      "text/plain": [
       "jakobib_coding_dh_org.csv\n"
      ]
     },
     "metadata": {},
     "output_type": "display_data"
    },
    {
     "data": {
      "text/html": [
       "<pre style=\"white-space:pre;overflow-x:auto;line-height:normal;font-family:Menlo,'DejaVu Sans Mono',consolas,'Courier New',monospace\">ospoplusplus_coding_dh_org.csv\n",
       "</pre>\n"
      ],
      "text/plain": [
       "ospoplusplus_coding_dh_org.csv\n"
      ]
     },
     "metadata": {},
     "output_type": "display_data"
    },
    {
     "data": {
      "text/html": [
       "<pre style=\"white-space:pre;overflow-x:auto;line-height:normal;font-family:Menlo,'DejaVu Sans Mono',consolas,'Courier New',monospace\">pallets_coding_dh_org.csv\n",
       "</pre>\n"
      ],
      "text/plain": [
       "pallets_coding_dh_org.csv\n"
      ]
     },
     "metadata": {},
     "output_type": "display_data"
    },
    {
     "data": {
      "text/html": [
       "<pre style=\"white-space:pre;overflow-x:auto;line-height:normal;font-family:Menlo,'DejaVu Sans Mono',consolas,'Courier New',monospace\">anrExperts_coding_dh_org.csv\n",
       "</pre>\n"
      ],
      "text/plain": [
       "anrExperts_coding_dh_org.csv\n"
      ]
     },
     "metadata": {},
     "output_type": "display_data"
    },
    {
     "data": {
      "text/html": [
       "<pre style=\"white-space:pre;overflow-x:auto;line-height:normal;font-family:Menlo,'DejaVu Sans Mono',consolas,'Courier New',monospace\">public-fare_coding_dh_org.csv\n",
       "</pre>\n"
      ],
      "text/plain": [
       "public-fare_coding_dh_org.csv\n"
      ]
     },
     "metadata": {},
     "output_type": "display_data"
    },
    {
     "data": {
      "text/html": [
       "<pre style=\"white-space:pre;overflow-x:auto;line-height:normal;font-family:Menlo,'DejaVu Sans Mono',consolas,'Courier New',monospace\">QScience_coding_dh_org.csv\n",
       "</pre>\n"
      ],
      "text/plain": [
       "QScience_coding_dh_org.csv\n"
      ]
     },
     "metadata": {},
     "output_type": "display_data"
    },
    {
     "data": {
      "text/html": [
       "<pre style=\"white-space:pre;overflow-x:auto;line-height:normal;font-family:Menlo,'DejaVu Sans Mono',consolas,'Courier New',monospace\">sslarch_coding_dh_org.csv\n",
       "</pre>\n"
      ],
      "text/plain": [
       "sslarch_coding_dh_org.csv\n"
      ]
     },
     "metadata": {},
     "output_type": "display_data"
    },
    {
     "data": {
      "text/html": [
       "<pre style=\"white-space:pre;overflow-x:auto;line-height:normal;font-family:Menlo,'DejaVu Sans Mono',consolas,'Courier New',monospace\">AustralianAntarcticDataCentre_coding_dh_org.csv\n",
       "</pre>\n"
      ],
      "text/plain": [
       "AustralianAntarcticDataCentre_coding_dh_org.csv\n"
      ]
     },
     "metadata": {},
     "output_type": "display_data"
    },
    {
     "data": {
      "text/html": [
       "<pre style=\"white-space:pre;overflow-x:auto;line-height:normal;font-family:Menlo,'DejaVu Sans Mono',consolas,'Courier New',monospace\">comp-data_coding_dh_org.csv\n",
       "</pre>\n"
      ],
      "text/plain": [
       "comp-data_coding_dh_org.csv\n"
      ]
     },
     "metadata": {},
     "output_type": "display_data"
    },
    {
     "data": {
      "text/html": [
       "<pre style=\"white-space:pre;overflow-x:auto;line-height:normal;font-family:Menlo,'DejaVu Sans Mono',consolas,'Courier New',monospace\">ccahier_coding_dh_org.csv\n",
       "</pre>\n"
      ],
      "text/plain": [
       "ccahier_coding_dh_org.csv\n"
      ]
     },
     "metadata": {},
     "output_type": "display_data"
    },
    {
     "data": {
      "text/html": [
       "<pre style=\"white-space:pre;overflow-x:auto;line-height:normal;font-family:Menlo,'DejaVu Sans Mono',consolas,'Courier New',monospace\">Open-Science-Nordics_coding_dh_org.csv\n",
       "</pre>\n"
      ],
      "text/plain": [
       "Open-Science-Nordics_coding_dh_org.csv\n"
      ]
     },
     "metadata": {},
     "output_type": "display_data"
    },
    {
     "data": {
      "text/html": [
       "<pre style=\"white-space:pre;overflow-x:auto;line-height:normal;font-family:Menlo,'DejaVu Sans Mono',consolas,'Courier New',monospace\">PSL-Chartes-HTR-Students_coding_dh_org.csv\n",
       "</pre>\n"
      ],
      "text/plain": [
       "PSL-Chartes-HTR-Students_coding_dh_org.csv\n"
      ]
     },
     "metadata": {},
     "output_type": "display_data"
    },
    {
     "data": {
      "text/html": [
       "<pre style=\"white-space:pre;overflow-x:auto;line-height:normal;font-family:Menlo,'DejaVu Sans Mono',consolas,'Courier New',monospace\">wc-library_coding_dh_org.csv\n",
       "</pre>\n"
      ],
      "text/plain": [
       "wc-library_coding_dh_org.csv\n"
      ]
     },
     "metadata": {},
     "output_type": "display_data"
    },
    {
     "data": {
      "text/html": [
       "<pre style=\"white-space:pre;overflow-x:auto;line-height:normal;font-family:Menlo,'DejaVu Sans Mono',consolas,'Courier New',monospace\">Dans-labs_coding_dh_org.csv\n",
       "</pre>\n"
      ],
      "text/plain": [
       "Dans-labs_coding_dh_org.csv\n"
      ]
     },
     "metadata": {},
     "output_type": "display_data"
    },
    {
     "data": {
      "text/html": [
       "<pre style=\"white-space:pre;overflow-x:auto;line-height:normal;font-family:Menlo,'DejaVu Sans Mono',consolas,'Courier New',monospace\">headwaymaps_coding_dh_org.csv\n",
       "</pre>\n"
      ],
      "text/plain": [
       "headwaymaps_coding_dh_org.csv\n"
      ]
     },
     "metadata": {},
     "output_type": "display_data"
    },
    {
     "data": {
      "text/html": [
       "<pre style=\"white-space:pre;overflow-x:auto;line-height:normal;font-family:Menlo,'DejaVu Sans Mono',consolas,'Courier New',monospace\">audiolabs_coding_dh_org.csv\n",
       "</pre>\n"
      ],
      "text/plain": [
       "audiolabs_coding_dh_org.csv\n"
      ]
     },
     "metadata": {},
     "output_type": "display_data"
    },
    {
     "data": {
      "text/html": [
       "<pre style=\"white-space:pre;overflow-x:auto;line-height:normal;font-family:Menlo,'DejaVu Sans Mono',consolas,'Courier New',monospace\">appalachian-trail_coding_dh_org.csv\n",
       "</pre>\n"
      ],
      "text/plain": [
       "appalachian-trail_coding_dh_org.csv\n"
      ]
     },
     "metadata": {},
     "output_type": "display_data"
    },
    {
     "data": {
      "text/html": [
       "<pre style=\"white-space:pre;overflow-x:auto;line-height:normal;font-family:Menlo,'DejaVu Sans Mono',consolas,'Courier New',monospace\">PlaintextGroup_coding_dh_org.csv\n",
       "</pre>\n"
      ],
      "text/plain": [
       "PlaintextGroup_coding_dh_org.csv\n"
      ]
     },
     "metadata": {},
     "output_type": "display_data"
    },
    {
     "data": {
      "text/html": [
       "<pre style=\"white-space:pre;overflow-x:auto;line-height:normal;font-family:Menlo,'DejaVu Sans Mono',consolas,'Courier New',monospace\">OpenHackFarm_coding_dh_org.csv\n",
       "</pre>\n"
      ],
      "text/plain": [
       "OpenHackFarm_coding_dh_org.csv\n"
      ]
     },
     "metadata": {},
     "output_type": "display_data"
    },
    {
     "data": {
      "text/html": [
       "<pre style=\"white-space:pre;overflow-x:auto;line-height:normal;font-family:Menlo,'DejaVu Sans Mono',consolas,'Courier New',monospace\">Mikata-Project_coding_dh_org.csv\n",
       "</pre>\n"
      ],
      "text/plain": [
       "Mikata-Project_coding_dh_org.csv\n"
      ]
     },
     "metadata": {},
     "output_type": "display_data"
    },
    {
     "data": {
      "text/html": [
       "<pre style=\"white-space:pre;overflow-x:auto;line-height:normal;font-family:Menlo,'DejaVu Sans Mono',consolas,'Courier New',monospace\">COMHIS_coding_dh_org.csv\n",
       "</pre>\n"
      ],
      "text/plain": [
       "COMHIS_coding_dh_org.csv\n"
      ]
     },
     "metadata": {},
     "output_type": "display_data"
    },
    {
     "data": {
      "text/html": [
       "<pre style=\"white-space:pre;overflow-x:auto;line-height:normal;font-family:Menlo,'DejaVu Sans Mono',consolas,'Courier New',monospace\">vvvv_coding_dh_org.csv\n",
       "</pre>\n"
      ],
      "text/plain": [
       "vvvv_coding_dh_org.csv\n"
      ]
     },
     "metadata": {},
     "output_type": "display_data"
    },
    {
     "data": {
      "text/html": [
       "<pre style=\"white-space:pre;overflow-x:auto;line-height:normal;font-family:Menlo,'DejaVu Sans Mono',consolas,'Courier New',monospace\">sigcnl_coding_dh_org.csv\n",
       "</pre>\n"
      ],
      "text/plain": [
       "sigcnl_coding_dh_org.csv\n"
      ]
     },
     "metadata": {},
     "output_type": "display_data"
    },
    {
     "data": {
      "text/html": [
       "<pre style=\"white-space:pre;overflow-x:auto;line-height:normal;font-family:Menlo,'DejaVu Sans Mono',consolas,'Courier New',monospace\">sib-swiss_coding_dh_org.csv\n",
       "</pre>\n"
      ],
      "text/plain": [
       "sib-swiss_coding_dh_org.csv\n"
      ]
     },
     "metadata": {},
     "output_type": "display_data"
    },
    {
     "data": {
      "text/html": [
       "<pre style=\"white-space:pre;overflow-x:auto;line-height:normal;font-family:Menlo,'DejaVu Sans Mono',consolas,'Courier New',monospace\">SIstory_coding_dh_org.csv\n",
       "</pre>\n"
      ],
      "text/plain": [
       "SIstory_coding_dh_org.csv\n"
      ]
     },
     "metadata": {},
     "output_type": "display_data"
    },
    {
     "data": {
      "text/html": [
       "<pre style=\"white-space:pre;overflow-x:auto;line-height:normal;font-family:Menlo,'DejaVu Sans Mono',consolas,'Courier New',monospace\">ADACS-Australia_coding_dh_org.csv\n",
       "</pre>\n"
      ],
      "text/plain": [
       "ADACS-Australia_coding_dh_org.csv\n"
      ]
     },
     "metadata": {},
     "output_type": "display_data"
    },
    {
     "data": {
      "text/html": [
       "<pre style=\"white-space:pre;overflow-x:auto;line-height:normal;font-family:Menlo,'DejaVu Sans Mono',consolas,'Courier New',monospace\">dstlry_coding_dh_org.csv\n",
       "</pre>\n"
      ],
      "text/plain": [
       "dstlry_coding_dh_org.csv\n"
      ]
     },
     "metadata": {},
     "output_type": "display_data"
    },
    {
     "data": {
      "text/html": [
       "<pre style=\"white-space:pre;overflow-x:auto;line-height:normal;font-family:Menlo,'DejaVu Sans Mono',consolas,'Courier New',monospace\">pineapple-tracker_coding_dh_org.csv\n",
       "</pre>\n"
      ],
      "text/plain": [
       "pineapple-tracker_coding_dh_org.csv\n"
      ]
     },
     "metadata": {},
     "output_type": "display_data"
    },
    {
     "data": {
      "text/html": [
       "<pre style=\"white-space:pre;overflow-x:auto;line-height:normal;font-family:Menlo,'DejaVu Sans Mono',consolas,'Courier New',monospace\">eScienceHackathon2018_coding_dh_org.csv\n",
       "</pre>\n"
      ],
      "text/plain": [
       "eScienceHackathon2018_coding_dh_org.csv\n"
      ]
     },
     "metadata": {},
     "output_type": "display_data"
    },
    {
     "data": {
      "text/html": [
       "<pre style=\"white-space:pre;overflow-x:auto;line-height:normal;font-family:Menlo,'DejaVu Sans Mono',consolas,'Courier New',monospace\">WarwickCIM_coding_dh_org.csv\n",
       "</pre>\n"
      ],
      "text/plain": [
       "WarwickCIM_coding_dh_org.csv\n"
      ]
     },
     "metadata": {},
     "output_type": "display_data"
    },
    {
     "data": {
      "text/html": [
       "<pre style=\"white-space:pre;overflow-x:auto;line-height:normal;font-family:Menlo,'DejaVu Sans Mono',consolas,'Courier New',monospace\">okfn_coding_dh_org.csv\n",
       "</pre>\n"
      ],
      "text/plain": [
       "okfn_coding_dh_org.csv\n"
      ]
     },
     "metadata": {},
     "output_type": "display_data"
    },
    {
     "data": {
      "text/html": [
       "<pre style=\"white-space:pre;overflow-x:auto;line-height:normal;font-family:Menlo,'DejaVu Sans Mono',consolas,'Courier New',monospace\">nyudlts_coding_dh_org.csv\n",
       "</pre>\n"
      ],
      "text/plain": [
       "nyudlts_coding_dh_org.csv\n"
      ]
     },
     "metadata": {},
     "output_type": "display_data"
    },
    {
     "data": {
      "text/html": [
       "<pre style=\"white-space:pre;overflow-x:auto;line-height:normal;font-family:Menlo,'DejaVu Sans Mono',consolas,'Courier New',monospace\">data4society_coding_dh_org.csv\n",
       "</pre>\n"
      ],
      "text/plain": [
       "data4society_coding_dh_org.csv\n"
      ]
     },
     "metadata": {},
     "output_type": "display_data"
    },
    {
     "data": {
      "text/html": [
       "<pre style=\"white-space:pre;overflow-x:auto;line-height:normal;font-family:Menlo,'DejaVu Sans Mono',consolas,'Courier New',monospace\">CambridgeSemiticsLab_coding_dh_org.csv\n",
       "</pre>\n"
      ],
      "text/plain": [
       "CambridgeSemiticsLab_coding_dh_org.csv\n"
      ]
     },
     "metadata": {},
     "output_type": "display_data"
    },
    {
     "data": {
      "text/html": [
       "<pre style=\"white-space:pre;overflow-x:auto;line-height:normal;font-family:Menlo,'DejaVu Sans Mono',consolas,'Courier New',monospace\">bothome_coding_dh_org.csv\n",
       "</pre>\n"
      ],
      "text/plain": [
       "bothome_coding_dh_org.csv\n"
      ]
     },
     "metadata": {},
     "output_type": "display_data"
    },
    {
     "data": {
      "text/html": [
       "<pre style=\"white-space:pre;overflow-x:auto;line-height:normal;font-family:Menlo,'DejaVu Sans Mono',consolas,'Courier New',monospace\">amzn_coding_dh_org.csv\n",
       "</pre>\n"
      ],
      "text/plain": [
       "amzn_coding_dh_org.csv\n"
      ]
     },
     "metadata": {},
     "output_type": "display_data"
    },
    {
     "data": {
      "text/html": [
       "<pre style=\"white-space:pre;overflow-x:auto;line-height:normal;font-family:Menlo,'DejaVu Sans Mono',consolas,'Courier New',monospace\">UWM-Libraries_coding_dh_org.csv\n",
       "</pre>\n"
      ],
      "text/plain": [
       "UWM-Libraries_coding_dh_org.csv\n"
      ]
     },
     "metadata": {},
     "output_type": "display_data"
    },
    {
     "data": {
      "text/html": [
       "<pre style=\"white-space:pre;overflow-x:auto;line-height:normal;font-family:Menlo,'DejaVu Sans Mono',consolas,'Courier New',monospace\">IQSS_coding_dh_org.csv\n",
       "</pre>\n"
      ],
      "text/plain": [
       "IQSS_coding_dh_org.csv\n"
      ]
     },
     "metadata": {},
     "output_type": "display_data"
    },
    {
     "data": {
      "text/html": [
       "<pre style=\"white-space:pre;overflow-x:auto;line-height:normal;font-family:Menlo,'DejaVu Sans Mono',consolas,'Courier New',monospace\">uklibraries_coding_dh_org.csv\n",
       "</pre>\n"
      ],
      "text/plain": [
       "uklibraries_coding_dh_org.csv\n"
      ]
     },
     "metadata": {},
     "output_type": "display_data"
    },
    {
     "data": {
      "text/html": [
       "<pre style=\"white-space:pre;overflow-x:auto;line-height:normal;font-family:Menlo,'DejaVu Sans Mono',consolas,'Courier New',monospace\">Patrimonio-Culturale-Atenei_coding_dh_org.csv\n",
       "</pre>\n"
      ],
      "text/plain": [
       "Patrimonio-Culturale-Atenei_coding_dh_org.csv\n"
      ]
     },
     "metadata": {},
     "output_type": "display_data"
    },
    {
     "data": {
      "text/html": [
       "<pre style=\"white-space:pre;overflow-x:auto;line-height:normal;font-family:Menlo,'DejaVu Sans Mono',consolas,'Courier New',monospace\">Tunes-and-Tales_coding_dh_org.csv\n",
       "</pre>\n"
      ],
      "text/plain": [
       "Tunes-and-Tales_coding_dh_org.csv\n"
      ]
     },
     "metadata": {},
     "output_type": "display_data"
    },
    {
     "data": {
      "text/html": [
       "<pre style=\"white-space:pre;overflow-x:auto;line-height:normal;font-family:Menlo,'DejaVu Sans Mono',consolas,'Courier New',monospace\">UtrechtUniversity_coding_dh_org.csv\n",
       "</pre>\n"
      ],
      "text/plain": [
       "UtrechtUniversity_coding_dh_org.csv\n"
      ]
     },
     "metadata": {},
     "output_type": "display_data"
    },
    {
     "data": {
      "text/html": [
       "<pre style=\"white-space:pre;overflow-x:auto;line-height:normal;font-family:Menlo,'DejaVu Sans Mono',consolas,'Courier New',monospace\">linhd-postdata_coding_dh_org.csv\n",
       "</pre>\n"
      ],
      "text/plain": [
       "linhd-postdata_coding_dh_org.csv\n"
      ]
     },
     "metadata": {},
     "output_type": "display_data"
    },
    {
     "data": {
      "text/html": [
       "<pre style=\"white-space:pre;overflow-x:auto;line-height:normal;font-family:Menlo,'DejaVu Sans Mono',consolas,'Courier New',monospace\">DigiClass_coding_dh_org.csv\n",
       "</pre>\n"
      ],
      "text/plain": [
       "DigiClass_coding_dh_org.csv\n"
      ]
     },
     "metadata": {},
     "output_type": "display_data"
    },
    {
     "data": {
      "text/html": [
       "<pre style=\"white-space:pre;overflow-x:auto;line-height:normal;font-family:Menlo,'DejaVu Sans Mono',consolas,'Courier New',monospace\">SeasideSt_coding_dh_org.csv\n",
       "</pre>\n"
      ],
      "text/plain": [
       "SeasideSt_coding_dh_org.csv\n"
      ]
     },
     "metadata": {},
     "output_type": "display_data"
    },
    {
     "data": {
      "text/html": [
       "<pre style=\"white-space:pre;overflow-x:auto;line-height:normal;font-family:Menlo,'DejaVu Sans Mono',consolas,'Courier New',monospace\">duraspace_coding_dh_org.csv\n",
       "</pre>\n"
      ],
      "text/plain": [
       "duraspace_coding_dh_org.csv\n"
      ]
     },
     "metadata": {},
     "output_type": "display_data"
    },
    {
     "data": {
      "text/html": [
       "<pre style=\"white-space:pre;overflow-x:auto;line-height:normal;font-family:Menlo,'DejaVu Sans Mono',consolas,'Courier New',monospace\">BirkbeckCTP_coding_dh_org.csv\n",
       "</pre>\n"
      ],
      "text/plain": [
       "BirkbeckCTP_coding_dh_org.csv\n"
      ]
     },
     "metadata": {},
     "output_type": "display_data"
    },
    {
     "data": {
      "text/html": [
       "<pre style=\"white-space:pre;overflow-x:auto;line-height:normal;font-family:Menlo,'DejaVu Sans Mono',consolas,'Courier New',monospace\">Duke-Chronicle-Project_coding_dh_org.csv\n",
       "</pre>\n"
      ],
      "text/plain": [
       "Duke-Chronicle-Project_coding_dh_org.csv\n"
      ]
     },
     "metadata": {},
     "output_type": "display_data"
    },
    {
     "data": {
      "text/html": [
       "<pre style=\"white-space:pre;overflow-x:auto;line-height:normal;font-family:Menlo,'DejaVu Sans Mono',consolas,'Courier New',monospace\">biohackathons_coding_dh_org.csv\n",
       "</pre>\n"
      ],
      "text/plain": [
       "biohackathons_coding_dh_org.csv\n"
      ]
     },
     "metadata": {},
     "output_type": "display_data"
    },
    {
     "data": {
      "text/html": [
       "<pre style=\"white-space:pre;overflow-x:auto;line-height:normal;font-family:Menlo,'DejaVu Sans Mono',consolas,'Courier New',monospace\">codex-team_coding_dh_org.csv\n",
       "</pre>\n"
      ],
      "text/plain": [
       "codex-team_coding_dh_org.csv\n"
      ]
     },
     "metadata": {},
     "output_type": "display_data"
    },
    {
     "data": {
      "text/html": [
       "<pre style=\"white-space:pre;overflow-x:auto;line-height:normal;font-family:Menlo,'DejaVu Sans Mono',consolas,'Courier New',monospace\">PrincetonUniversity_coding_dh_org.csv\n",
       "</pre>\n"
      ],
      "text/plain": [
       "PrincetonUniversity_coding_dh_org.csv\n"
      ]
     },
     "metadata": {},
     "output_type": "display_data"
    },
    {
     "data": {
      "text/html": [
       "<pre style=\"white-space:pre;overflow-x:auto;line-height:normal;font-family:Menlo,'DejaVu Sans Mono',consolas,'Courier New',monospace\">saa-ead-roundtable_coding_dh_org.csv\n",
       "</pre>\n"
      ],
      "text/plain": [
       "saa-ead-roundtable_coding_dh_org.csv\n"
      ]
     },
     "metadata": {},
     "output_type": "display_data"
    },
    {
     "data": {
      "text/html": [
       "<pre style=\"white-space:pre;overflow-x:auto;line-height:normal;font-family:Menlo,'DejaVu Sans Mono',consolas,'Courier New',monospace\">pitonneux_coding_dh_org.csv\n",
       "</pre>\n"
      ],
      "text/plain": [
       "pitonneux_coding_dh_org.csv\n"
      ]
     },
     "metadata": {},
     "output_type": "display_data"
    },
    {
     "data": {
      "text/html": [
       "<pre style=\"white-space:pre;overflow-x:auto;line-height:normal;font-family:Menlo,'DejaVu Sans Mono',consolas,'Courier New',monospace\">UniNE-DH_coding_dh_org.csv\n",
       "</pre>\n"
      ],
      "text/plain": [
       "UniNE-DH_coding_dh_org.csv\n"
      ]
     },
     "metadata": {},
     "output_type": "display_data"
    },
    {
     "data": {
      "text/html": [
       "<pre style=\"white-space:pre;overflow-x:auto;line-height:normal;font-family:Menlo,'DejaVu Sans Mono',consolas,'Courier New',monospace\">lokalbericht_coding_dh_org.csv\n",
       "</pre>\n"
      ],
      "text/plain": [
       "lokalbericht_coding_dh_org.csv\n"
      ]
     },
     "metadata": {},
     "output_type": "display_data"
    },
    {
     "data": {
      "text/html": [
       "<pre style=\"white-space:pre;overflow-x:auto;line-height:normal;font-family:Menlo,'DejaVu Sans Mono',consolas,'Courier New',monospace\">reclaimhosting_coding_dh_org.csv\n",
       "</pre>\n"
      ],
      "text/plain": [
       "reclaimhosting_coding_dh_org.csv\n"
      ]
     },
     "metadata": {},
     "output_type": "display_data"
    },
    {
     "data": {
      "text/html": [
       "<pre style=\"white-space:pre;overflow-x:auto;line-height:normal;font-family:Menlo,'DejaVu Sans Mono',consolas,'Courier New',monospace\">ByteClubGames_coding_dh_org.csv\n",
       "</pre>\n"
      ],
      "text/plain": [
       "ByteClubGames_coding_dh_org.csv\n"
      ]
     },
     "metadata": {},
     "output_type": "display_data"
    },
    {
     "data": {
      "text/html": [
       "<pre style=\"white-space:pre;overflow-x:auto;line-height:normal;font-family:Menlo,'DejaVu Sans Mono',consolas,'Courier New',monospace\">direct-phonology_coding_dh_org.csv\n",
       "</pre>\n"
      ],
      "text/plain": [
       "direct-phonology_coding_dh_org.csv\n"
      ]
     },
     "metadata": {},
     "output_type": "display_data"
    },
    {
     "data": {
      "text/html": [
       "<pre style=\"white-space:pre;overflow-x:auto;line-height:normal;font-family:Menlo,'DejaVu Sans Mono',consolas,'Courier New',monospace\">OFFLINE-GmbH_coding_dh_org.csv\n",
       "</pre>\n"
      ],
      "text/plain": [
       "OFFLINE-GmbH_coding_dh_org.csv\n"
      ]
     },
     "metadata": {},
     "output_type": "display_data"
    },
    {
     "data": {
      "text/html": [
       "<pre style=\"white-space:pre;overflow-x:auto;line-height:normal;font-family:Menlo,'DejaVu Sans Mono',consolas,'Courier New',monospace\">fetes17_coding_dh_org.csv\n",
       "</pre>\n"
      ],
      "text/plain": [
       "fetes17_coding_dh_org.csv\n"
      ]
     },
     "metadata": {},
     "output_type": "display_data"
    },
    {
     "data": {
      "text/html": [
       "<pre style=\"white-space:pre;overflow-x:auto;line-height:normal;font-family:Menlo,'DejaVu Sans Mono',consolas,'Courier New',monospace\">stazh_coding_dh_org.csv\n",
       "</pre>\n"
      ],
      "text/plain": [
       "stazh_coding_dh_org.csv\n"
      ]
     },
     "metadata": {},
     "output_type": "display_data"
    },
    {
     "data": {
      "text/html": [
       "<pre style=\"white-space:pre;overflow-x:auto;line-height:normal;font-family:Menlo,'DejaVu Sans Mono',consolas,'Courier New',monospace\">DuChemin_coding_dh_org.csv\n",
       "</pre>\n"
      ],
      "text/plain": [
       "DuChemin_coding_dh_org.csv\n"
      ]
     },
     "metadata": {},
     "output_type": "display_data"
    },
    {
     "data": {
      "text/html": [
       "<pre style=\"white-space:pre;overflow-x:auto;line-height:normal;font-family:Menlo,'DejaVu Sans Mono',consolas,'Courier New',monospace\">cdnjs_coding_dh_org.csv\n",
       "</pre>\n"
      ],
      "text/plain": [
       "cdnjs_coding_dh_org.csv\n"
      ]
     },
     "metadata": {},
     "output_type": "display_data"
    },
    {
     "data": {
      "text/html": [
       "<pre style=\"white-space:pre;overflow-x:auto;line-height:normal;font-family:Menlo,'DejaVu Sans Mono',consolas,'Courier New',monospace\">impactcentre_coding_dh_org.csv\n",
       "</pre>\n"
      ],
      "text/plain": [
       "impactcentre_coding_dh_org.csv\n"
      ]
     },
     "metadata": {},
     "output_type": "display_data"
    },
    {
     "data": {
      "text/html": [
       "<pre style=\"white-space:pre;overflow-x:auto;line-height:normal;font-family:Menlo,'DejaVu Sans Mono',consolas,'Courier New',monospace\">afterburnerdb_coding_dh_org.csv\n",
       "</pre>\n"
      ],
      "text/plain": [
       "afterburnerdb_coding_dh_org.csv\n"
      ]
     },
     "metadata": {},
     "output_type": "display_data"
    },
    {
     "data": {
      "text/html": [
       "<pre style=\"white-space:pre;overflow-x:auto;line-height:normal;font-family:Menlo,'DejaVu Sans Mono',consolas,'Courier New',monospace\">ScienceStories_coding_dh_org.csv\n",
       "</pre>\n"
      ],
      "text/plain": [
       "ScienceStories_coding_dh_org.csv\n"
      ]
     },
     "metadata": {},
     "output_type": "display_data"
    },
    {
     "data": {
      "text/html": [
       "<pre style=\"white-space:pre;overflow-x:auto;line-height:normal;font-family:Menlo,'DejaVu Sans Mono',consolas,'Courier New',monospace\">cynkra_coding_dh_org.csv\n",
       "</pre>\n"
      ],
      "text/plain": [
       "cynkra_coding_dh_org.csv\n"
      ]
     },
     "metadata": {},
     "output_type": "display_data"
    },
    {
     "data": {
      "text/html": [
       "<pre style=\"white-space:pre;overflow-x:auto;line-height:normal;font-family:Menlo,'DejaVu Sans Mono',consolas,'Courier New',monospace\">ropenscilabs_coding_dh_org.csv\n",
       "</pre>\n"
      ],
      "text/plain": [
       "ropenscilabs_coding_dh_org.csv\n"
      ]
     },
     "metadata": {},
     "output_type": "display_data"
    },
    {
     "data": {
      "text/html": [
       "<pre style=\"white-space:pre;overflow-x:auto;line-height:normal;font-family:Menlo,'DejaVu Sans Mono',consolas,'Courier New',monospace\">scholarsportal_coding_dh_org.csv\n",
       "</pre>\n"
      ],
      "text/plain": [
       "scholarsportal_coding_dh_org.csv\n"
      ]
     },
     "metadata": {},
     "output_type": "display_data"
    },
    {
     "data": {
      "text/html": [
       "<pre style=\"white-space:pre;overflow-x:auto;line-height:normal;font-family:Menlo,'DejaVu Sans Mono',consolas,'Courier New',monospace\">spinfo_coding_dh_org.csv\n",
       "</pre>\n"
      ],
      "text/plain": [
       "spinfo_coding_dh_org.csv\n"
      ]
     },
     "metadata": {},
     "output_type": "display_data"
    },
    {
     "data": {
      "text/html": [
       "<pre style=\"white-space:pre;overflow-x:auto;line-height:normal;font-family:Menlo,'DejaVu Sans Mono',consolas,'Courier New',monospace\">AtelierCartographie_coding_dh_org.csv\n",
       "</pre>\n"
      ],
      "text/plain": [
       "AtelierCartographie_coding_dh_org.csv\n"
      ]
     },
     "metadata": {},
     "output_type": "display_data"
    },
    {
     "data": {
      "text/html": [
       "<pre style=\"white-space:pre;overflow-x:auto;line-height:normal;font-family:Menlo,'DejaVu Sans Mono',consolas,'Courier New',monospace\">mCodingLLC_coding_dh_org.csv\n",
       "</pre>\n"
      ],
      "text/plain": [
       "mCodingLLC_coding_dh_org.csv\n"
      ]
     },
     "metadata": {},
     "output_type": "display_data"
    },
    {
     "data": {
      "text/html": [
       "<pre style=\"white-space:pre;overflow-x:auto;line-height:normal;font-family:Menlo,'DejaVu Sans Mono',consolas,'Courier New',monospace\">MKLab-ITI_coding_dh_org.csv\n",
       "</pre>\n"
      ],
      "text/plain": [
       "MKLab-ITI_coding_dh_org.csv\n"
      ]
     },
     "metadata": {},
     "output_type": "display_data"
    },
    {
     "data": {
      "text/html": [
       "<pre style=\"white-space:pre;overflow-x:auto;line-height:normal;font-family:Menlo,'DejaVu Sans Mono',consolas,'Courier New',monospace\">california-civic-data-coalition_coding_dh_org.csv\n",
       "</pre>\n"
      ],
      "text/plain": [
       "california-civic-data-coalition_coding_dh_org.csv\n"
      ]
     },
     "metadata": {},
     "output_type": "display_data"
    },
    {
     "data": {
      "text/html": [
       "<pre style=\"white-space:pre;overflow-x:auto;line-height:normal;font-family:Menlo,'DejaVu Sans Mono',consolas,'Courier New',monospace\">subhh_coding_dh_org.csv\n",
       "</pre>\n"
      ],
      "text/plain": [
       "subhh_coding_dh_org.csv\n"
      ]
     },
     "metadata": {},
     "output_type": "display_data"
    },
    {
     "data": {
      "text/html": [
       "<pre style=\"white-space:pre;overflow-x:auto;line-height:normal;font-family:Menlo,'DejaVu Sans Mono',consolas,'Courier New',monospace\">doocs_coding_dh_org.csv\n",
       "</pre>\n"
      ],
      "text/plain": [
       "doocs_coding_dh_org.csv\n"
      ]
     },
     "metadata": {},
     "output_type": "display_data"
    },
    {
     "data": {
      "text/html": [
       "<pre style=\"white-space:pre;overflow-x:auto;line-height:normal;font-family:Menlo,'DejaVu Sans Mono',consolas,'Courier New',monospace\">hermes-hmc_coding_dh_org.csv\n",
       "</pre>\n"
      ],
      "text/plain": [
       "hermes-hmc_coding_dh_org.csv\n"
      ]
     },
     "metadata": {},
     "output_type": "display_data"
    },
    {
     "data": {
      "text/html": [
       "<pre style=\"white-space:pre;overflow-x:auto;line-height:normal;font-family:Menlo,'DejaVu Sans Mono',consolas,'Courier New',monospace\">uq-eresearch_coding_dh_org.csv\n",
       "</pre>\n"
      ],
      "text/plain": [
       "uq-eresearch_coding_dh_org.csv\n"
      ]
     },
     "metadata": {},
     "output_type": "display_data"
    },
    {
     "data": {
      "text/html": [
       "<pre style=\"white-space:pre;overflow-x:auto;line-height:normal;font-family:Menlo,'DejaVu Sans Mono',consolas,'Courier New',monospace\">chanify_coding_dh_org.csv\n",
       "</pre>\n"
      ],
      "text/plain": [
       "chanify_coding_dh_org.csv\n"
      ]
     },
     "metadata": {},
     "output_type": "display_data"
    },
    {
     "data": {
      "text/html": [
       "<pre style=\"white-space:pre;overflow-x:auto;line-height:normal;font-family:Menlo,'DejaVu Sans Mono',consolas,'Courier New',monospace\">Financial-Times_coding_dh_org.csv\n",
       "</pre>\n"
      ],
      "text/plain": [
       "Financial-Times_coding_dh_org.csv\n"
      ]
     },
     "metadata": {},
     "output_type": "display_data"
    },
    {
     "data": {
      "text/html": [
       "<pre style=\"white-space:pre;overflow-x:auto;line-height:normal;font-family:Menlo,'DejaVu Sans Mono',consolas,'Courier New',monospace\">wooportal_coding_dh_org.csv\n",
       "</pre>\n"
      ],
      "text/plain": [
       "wooportal_coding_dh_org.csv\n"
      ]
     },
     "metadata": {},
     "output_type": "display_data"
    },
    {
     "data": {
      "text/html": [
       "<pre style=\"white-space:pre;overflow-x:auto;line-height:normal;font-family:Menlo,'DejaVu Sans Mono',consolas,'Courier New',monospace\">vufind-org_coding_dh_org.csv\n",
       "</pre>\n"
      ],
      "text/plain": [
       "vufind-org_coding_dh_org.csv\n"
      ]
     },
     "metadata": {},
     "output_type": "display_data"
    },
    {
     "data": {
      "text/html": [
       "<pre style=\"white-space:pre;overflow-x:auto;line-height:normal;font-family:Menlo,'DejaVu Sans Mono',consolas,'Courier New',monospace\">inmis_coding_dh_org.csv\n",
       "</pre>\n"
      ],
      "text/plain": [
       "inmis_coding_dh_org.csv\n"
      ]
     },
     "metadata": {},
     "output_type": "display_data"
    },
    {
     "data": {
      "text/html": [
       "<pre style=\"white-space:pre;overflow-x:auto;line-height:normal;font-family:Menlo,'DejaVu Sans Mono',consolas,'Courier New',monospace\">CSUN-DigitalHumanities_coding_dh_org.csv\n",
       "</pre>\n"
      ],
      "text/plain": [
       "CSUN-DigitalHumanities_coding_dh_org.csv\n"
      ]
     },
     "metadata": {},
     "output_type": "display_data"
    },
    {
     "data": {
      "text/html": [
       "<pre style=\"white-space:pre;overflow-x:auto;line-height:normal;font-family:Menlo,'DejaVu Sans Mono',consolas,'Courier New',monospace\">Fakultas-Adab-dan-Humaniora_coding_dh_org.csv\n",
       "</pre>\n"
      ],
      "text/plain": [
       "Fakultas-Adab-dan-Humaniora_coding_dh_org.csv\n"
      ]
     },
     "metadata": {},
     "output_type": "display_data"
    },
    {
     "data": {
      "text/html": [
       "<pre style=\"white-space:pre;overflow-x:auto;line-height:normal;font-family:Menlo,'DejaVu Sans Mono',consolas,'Courier New',monospace\">SHARIAsource_coding_dh_org.csv\n",
       "</pre>\n"
      ],
      "text/plain": [
       "SHARIAsource_coding_dh_org.csv\n"
      ]
     },
     "metadata": {},
     "output_type": "display_data"
    },
    {
     "data": {
      "text/html": [
       "<pre style=\"white-space:pre;overflow-x:auto;line-height:normal;font-family:Menlo,'DejaVu Sans Mono',consolas,'Courier New',monospace\">lrgr_coding_dh_org.csv\n",
       "</pre>\n"
      ],
      "text/plain": [
       "lrgr_coding_dh_org.csv\n"
      ]
     },
     "metadata": {},
     "output_type": "display_data"
    },
    {
     "data": {
      "text/html": [
       "<pre style=\"white-space:pre;overflow-x:auto;line-height:normal;font-family:Menlo,'DejaVu Sans Mono',consolas,'Courier New',monospace\">TheStanfordDaily_coding_dh_org.csv\n",
       "</pre>\n"
      ],
      "text/plain": [
       "TheStanfordDaily_coding_dh_org.csv\n"
      ]
     },
     "metadata": {},
     "output_type": "display_data"
    },
    {
     "data": {
      "text/html": [
       "<pre style=\"white-space:pre;overflow-x:auto;line-height:normal;font-family:Menlo,'DejaVu Sans Mono',consolas,'Courier New',monospace\">Journalisme-UQAM_coding_dh_org.csv\n",
       "</pre>\n"
      ],
      "text/plain": [
       "Journalisme-UQAM_coding_dh_org.csv\n"
      ]
     },
     "metadata": {},
     "output_type": "display_data"
    },
    {
     "data": {
      "text/html": [
       "<pre style=\"white-space:pre;overflow-x:auto;line-height:normal;font-family:Menlo,'DejaVu Sans Mono',consolas,'Courier New',monospace\">TuVanDuHocMy_coding_dh_org.csv\n",
       "</pre>\n"
      ],
      "text/plain": [
       "TuVanDuHocMy_coding_dh_org.csv\n"
      ]
     },
     "metadata": {},
     "output_type": "display_data"
    },
    {
     "data": {
      "text/html": [
       "<pre style=\"white-space:pre;overflow-x:auto;line-height:normal;font-family:Menlo,'DejaVu Sans Mono',consolas,'Courier New',monospace\">zz38_coding_dh_org.csv\n",
       "</pre>\n"
      ],
      "text/plain": [
       "zz38_coding_dh_org.csv\n"
      ]
     },
     "metadata": {},
     "output_type": "display_data"
    },
    {
     "data": {
      "text/html": [
       "<pre style=\"white-space:pre;overflow-x:auto;line-height:normal;font-family:Menlo,'DejaVu Sans Mono',consolas,'Courier New',monospace\">mozillascience_coding_dh_org.csv\n",
       "</pre>\n"
      ],
      "text/plain": [
       "mozillascience_coding_dh_org.csv\n"
      ]
     },
     "metadata": {},
     "output_type": "display_data"
    },
    {
     "data": {
      "text/html": [
       "<pre style=\"white-space:pre;overflow-x:auto;line-height:normal;font-family:Menlo,'DejaVu Sans Mono',consolas,'Courier New',monospace\">dkpro_coding_dh_org.csv\n",
       "</pre>\n"
      ],
      "text/plain": [
       "dkpro_coding_dh_org.csv\n"
      ]
     },
     "metadata": {},
     "output_type": "display_data"
    },
    {
     "data": {
      "text/html": [
       "<pre style=\"white-space:pre;overflow-x:auto;line-height:normal;font-family:Menlo,'DejaVu Sans Mono',consolas,'Courier New',monospace\">ar-chive_coding_dh_org.csv\n",
       "</pre>\n"
      ],
      "text/plain": [
       "ar-chive_coding_dh_org.csv\n"
      ]
     },
     "metadata": {},
     "output_type": "display_data"
    },
    {
     "data": {
      "text/html": [
       "<pre style=\"white-space:pre;overflow-x:auto;line-height:normal;font-family:Menlo,'DejaVu Sans Mono',consolas,'Courier New',monospace\">EbookFoundation_coding_dh_org.csv\n",
       "</pre>\n"
      ],
      "text/plain": [
       "EbookFoundation_coding_dh_org.csv\n"
      ]
     },
     "metadata": {},
     "output_type": "display_data"
    },
    {
     "data": {
      "text/html": [
       "<pre style=\"white-space:pre;overflow-x:auto;line-height:normal;font-family:Menlo,'DejaVu Sans Mono',consolas,'Courier New',monospace\">Universidad-de-ciencias-y-humanidades_coding_dh_org.csv\n",
       "</pre>\n"
      ],
      "text/plain": [
       "Universidad-de-ciencias-y-humanidades_coding_dh_org.csv\n"
      ]
     },
     "metadata": {},
     "output_type": "display_data"
    },
    {
     "data": {
      "text/html": [
       "<pre style=\"white-space:pre;overflow-x:auto;line-height:normal;font-family:Menlo,'DejaVu Sans Mono',consolas,'Courier New',monospace\">scalecube_coding_dh_org.csv\n",
       "</pre>\n"
      ],
      "text/plain": [
       "scalecube_coding_dh_org.csv\n"
      ]
     },
     "metadata": {},
     "output_type": "display_data"
    },
    {
     "data": {
      "text/html": [
       "<pre style=\"white-space:pre;overflow-x:auto;line-height:normal;font-family:Menlo,'DejaVu Sans Mono',consolas,'Courier New',monospace\">cidhr_coding_dh_org.csv\n",
       "</pre>\n"
      ],
      "text/plain": [
       "cidhr_coding_dh_org.csv\n"
      ]
     },
     "metadata": {},
     "output_type": "display_data"
    },
    {
     "data": {
      "text/html": [
       "<pre style=\"white-space:pre;overflow-x:auto;line-height:normal;font-family:Menlo,'DejaVu Sans Mono',consolas,'Courier New',monospace\">lg-working-papers_coding_dh_org.csv\n",
       "</pre>\n"
      ],
      "text/plain": [
       "lg-working-papers_coding_dh_org.csv\n"
      ]
     },
     "metadata": {},
     "output_type": "display_data"
    },
    {
     "data": {
      "text/html": [
       "<pre style=\"white-space:pre;overflow-x:auto;line-height:normal;font-family:Menlo,'DejaVu Sans Mono',consolas,'Courier New',monospace\">japonicusdb_coding_dh_org.csv\n",
       "</pre>\n"
      ],
      "text/plain": [
       "japonicusdb_coding_dh_org.csv\n"
      ]
     },
     "metadata": {},
     "output_type": "display_data"
    },
    {
     "data": {
      "text/html": [
       "<pre style=\"white-space:pre;overflow-x:auto;line-height:normal;font-family:Menlo,'DejaVu Sans Mono',consolas,'Courier New',monospace\">muum_coding_dh_org.csv\n",
       "</pre>\n"
      ],
      "text/plain": [
       "muum_coding_dh_org.csv\n"
      ]
     },
     "metadata": {},
     "output_type": "display_data"
    },
    {
     "data": {
      "text/html": [
       "<pre style=\"white-space:pre;overflow-x:auto;line-height:normal;font-family:Menlo,'DejaVu Sans Mono',consolas,'Courier New',monospace\">XohoTech_coding_dh_org.csv\n",
       "</pre>\n"
      ],
      "text/plain": [
       "XohoTech_coding_dh_org.csv\n"
      ]
     },
     "metadata": {},
     "output_type": "display_data"
    },
    {
     "data": {
      "text/html": [
       "<pre style=\"white-space:pre;overflow-x:auto;line-height:normal;font-family:Menlo,'DejaVu Sans Mono',consolas,'Courier New',monospace\">tableflip_coding_dh_org.csv\n",
       "</pre>\n"
      ],
      "text/plain": [
       "tableflip_coding_dh_org.csv\n"
      ]
     },
     "metadata": {},
     "output_type": "display_data"
    },
    {
     "data": {
      "text/html": [
       "<pre style=\"white-space:pre;overflow-x:auto;line-height:normal;font-family:Menlo,'DejaVu Sans Mono',consolas,'Courier New',monospace\">papermachines_coding_dh_org.csv\n",
       "</pre>\n"
      ],
      "text/plain": [
       "papermachines_coding_dh_org.csv\n"
      ]
     },
     "metadata": {},
     "output_type": "display_data"
    },
    {
     "data": {
      "text/html": [
       "<pre style=\"white-space:pre;overflow-x:auto;line-height:normal;font-family:Menlo,'DejaVu Sans Mono',consolas,'Courier New',monospace\">NASADatanauts_coding_dh_org.csv\n",
       "</pre>\n"
      ],
      "text/plain": [
       "NASADatanauts_coding_dh_org.csv\n"
      ]
     },
     "metadata": {},
     "output_type": "display_data"
    },
    {
     "data": {
      "text/html": [
       "<pre style=\"white-space:pre;overflow-x:auto;line-height:normal;font-family:Menlo,'DejaVu Sans Mono',consolas,'Courier New',monospace\">expath_coding_dh_org.csv\n",
       "</pre>\n"
      ],
      "text/plain": [
       "expath_coding_dh_org.csv\n"
      ]
     },
     "metadata": {},
     "output_type": "display_data"
    },
    {
     "data": {
      "text/html": [
       "<pre style=\"white-space:pre;overflow-x:auto;line-height:normal;font-family:Menlo,'DejaVu Sans Mono',consolas,'Courier New',monospace\">ksrpmiunitunh_coding_dh_org.csv\n",
       "</pre>\n"
      ],
      "text/plain": [
       "ksrpmiunitunh_coding_dh_org.csv\n"
      ]
     },
     "metadata": {},
     "output_type": "display_data"
    },
    {
     "data": {
      "text/html": [
       "<pre style=\"white-space:pre;overflow-x:auto;line-height:normal;font-family:Menlo,'DejaVu Sans Mono',consolas,'Courier New',monospace\">aws-samples_coding_dh_org.csv\n",
       "</pre>\n"
      ],
      "text/plain": [
       "aws-samples_coding_dh_org.csv\n"
      ]
     },
     "metadata": {},
     "output_type": "display_data"
    },
    {
     "data": {
      "text/html": [
       "<pre style=\"white-space:pre;overflow-x:auto;line-height:normal;font-family:Menlo,'DejaVu Sans Mono',consolas,'Courier New',monospace\">sparna-git_coding_dh_org.csv\n",
       "</pre>\n"
      ],
      "text/plain": [
       "sparna-git_coding_dh_org.csv\n"
      ]
     },
     "metadata": {},
     "output_type": "display_data"
    },
    {
     "data": {
      "text/html": [
       "<pre style=\"white-space:pre;overflow-x:auto;line-height:normal;font-family:Menlo,'DejaVu Sans Mono',consolas,'Courier New',monospace\">EddieHubCommunity_coding_dh_org.csv\n",
       "</pre>\n"
      ],
      "text/plain": [
       "EddieHubCommunity_coding_dh_org.csv\n"
      ]
     },
     "metadata": {},
     "output_type": "display_data"
    },
    {
     "data": {
      "text/html": [
       "<pre style=\"white-space:pre;overflow-x:auto;line-height:normal;font-family:Menlo,'DejaVu Sans Mono',consolas,'Courier New',monospace\">Anthuong1982_coding_dh_org.csv\n",
       "</pre>\n"
      ],
      "text/plain": [
       "Anthuong1982_coding_dh_org.csv\n"
      ]
     },
     "metadata": {},
     "output_type": "display_data"
    },
    {
     "data": {
      "text/html": [
       "<pre style=\"white-space:pre;overflow-x:auto;line-height:normal;font-family:Menlo,'DejaVu Sans Mono',consolas,'Courier New',monospace\">pd3f_coding_dh_org.csv\n",
       "</pre>\n"
      ],
      "text/plain": [
       "pd3f_coding_dh_org.csv\n"
      ]
     },
     "metadata": {},
     "output_type": "display_data"
    },
    {
     "data": {
      "text/html": [
       "<pre style=\"white-space:pre;overflow-x:auto;line-height:normal;font-family:Menlo,'DejaVu Sans Mono',consolas,'Courier New',monospace\">PoeticMediaLab_coding_dh_org.csv\n",
       "</pre>\n"
      ],
      "text/plain": [
       "PoeticMediaLab_coding_dh_org.csv\n"
      ]
     },
     "metadata": {},
     "output_type": "display_data"
    },
    {
     "data": {
      "text/html": [
       "<pre style=\"white-space:pre;overflow-x:auto;line-height:normal;font-family:Menlo,'DejaVu Sans Mono',consolas,'Courier New',monospace\">classnum_coding_dh_org.csv\n",
       "</pre>\n"
      ],
      "text/plain": [
       "classnum_coding_dh_org.csv\n"
      ]
     },
     "metadata": {},
     "output_type": "display_data"
    },
    {
     "data": {
      "text/html": [
       "<pre style=\"white-space:pre;overflow-x:auto;line-height:normal;font-family:Menlo,'DejaVu Sans Mono',consolas,'Courier New',monospace\">HumlabLu_coding_dh_org.csv\n",
       "</pre>\n"
      ],
      "text/plain": [
       "HumlabLu_coding_dh_org.csv\n"
      ]
     },
     "metadata": {},
     "output_type": "display_data"
    },
    {
     "data": {
      "text/html": [
       "<pre style=\"white-space:pre;overflow-x:auto;line-height:normal;font-family:Menlo,'DejaVu Sans Mono',consolas,'Courier New',monospace\">RR104_coding_dh_org.csv\n",
       "</pre>\n"
      ],
      "text/plain": [
       "RR104_coding_dh_org.csv\n"
      ]
     },
     "metadata": {},
     "output_type": "display_data"
    },
    {
     "data": {
      "text/html": [
       "<pre style=\"white-space:pre;overflow-x:auto;line-height:normal;font-family:Menlo,'DejaVu Sans Mono',consolas,'Courier New',monospace\">LibreCat_coding_dh_org.csv\n",
       "</pre>\n"
      ],
      "text/plain": [
       "LibreCat_coding_dh_org.csv\n"
      ]
     },
     "metadata": {},
     "output_type": "display_data"
    },
    {
     "data": {
      "text/html": [
       "<pre style=\"white-space:pre;overflow-x:auto;line-height:normal;font-family:Menlo,'DejaVu Sans Mono',consolas,'Courier New',monospace\">openminted_coding_dh_org.csv\n",
       "</pre>\n"
      ],
      "text/plain": [
       "openminted_coding_dh_org.csv\n"
      ]
     },
     "metadata": {},
     "output_type": "display_data"
    },
    {
     "data": {
      "text/html": [
       "<pre style=\"white-space:pre;overflow-x:auto;line-height:normal;font-family:Menlo,'DejaVu Sans Mono',consolas,'Courier New',monospace\">polifonia-project_coding_dh_org.csv\n",
       "</pre>\n"
      ],
      "text/plain": [
       "polifonia-project_coding_dh_org.csv\n"
      ]
     },
     "metadata": {},
     "output_type": "display_data"
    },
    {
     "data": {
      "text/html": [
       "<pre style=\"white-space:pre;overflow-x:auto;line-height:normal;font-family:Menlo,'DejaVu Sans Mono',consolas,'Courier New',monospace\">inseq-team_coding_dh_org.csv\n",
       "</pre>\n"
      ],
      "text/plain": [
       "inseq-team_coding_dh_org.csv\n"
      ]
     },
     "metadata": {},
     "output_type": "display_data"
    },
    {
     "data": {
      "text/html": [
       "<pre style=\"white-space:pre;overflow-x:auto;line-height:normal;font-family:Menlo,'DejaVu Sans Mono',consolas,'Courier New',monospace\">vcgo_coding_dh_org.csv\n",
       "</pre>\n"
      ],
      "text/plain": [
       "vcgo_coding_dh_org.csv\n"
      ]
     },
     "metadata": {},
     "output_type": "display_data"
    },
    {
     "data": {
      "text/html": [
       "<pre style=\"white-space:pre;overflow-x:auto;line-height:normal;font-family:Menlo,'DejaVu Sans Mono',consolas,'Courier New',monospace\">fastai_coding_dh_org.csv\n",
       "</pre>\n"
      ],
      "text/plain": [
       "fastai_coding_dh_org.csv\n"
      ]
     },
     "metadata": {},
     "output_type": "display_data"
    },
    {
     "data": {
      "text/html": [
       "<pre style=\"white-space:pre;overflow-x:auto;line-height:normal;font-family:Menlo,'DejaVu Sans Mono',consolas,'Courier New',monospace\">sastrawi_coding_dh_org.csv\n",
       "</pre>\n"
      ],
      "text/plain": [
       "sastrawi_coding_dh_org.csv\n"
      ]
     },
     "metadata": {},
     "output_type": "display_data"
    },
    {
     "data": {
      "text/html": [
       "<pre style=\"white-space:pre;overflow-x:auto;line-height:normal;font-family:Menlo,'DejaVu Sans Mono',consolas,'Courier New',monospace\">ANTHUANED-BRAVO_coding_dh_org.csv\n",
       "</pre>\n"
      ],
      "text/plain": [
       "ANTHUANED-BRAVO_coding_dh_org.csv\n"
      ]
     },
     "metadata": {},
     "output_type": "display_data"
    },
    {
     "data": {
      "text/html": [
       "<pre style=\"white-space:pre;overflow-x:auto;line-height:normal;font-family:Menlo,'DejaVu Sans Mono',consolas,'Courier New',monospace\">Digital-Humanities-Network-HU_coding_dh_org.csv\n",
       "</pre>\n"
      ],
      "text/plain": [
       "Digital-Humanities-Network-HU_coding_dh_org.csv\n"
      ]
     },
     "metadata": {},
     "output_type": "display_data"
    },
    {
     "data": {
      "text/html": [
       "<pre style=\"white-space:pre;overflow-x:auto;line-height:normal;font-family:Menlo,'DejaVu Sans Mono',consolas,'Courier New',monospace\">easymetahub_coding_dh_org.csv\n",
       "</pre>\n"
      ],
      "text/plain": [
       "easymetahub_coding_dh_org.csv\n"
      ]
     },
     "metadata": {},
     "output_type": "display_data"
    },
    {
     "data": {
      "text/html": [
       "<pre style=\"white-space:pre;overflow-x:auto;line-height:normal;font-family:Menlo,'DejaVu Sans Mono',consolas,'Courier New',monospace\">InsLib_coding_dh_org.csv\n",
       "</pre>\n"
      ],
      "text/plain": [
       "InsLib_coding_dh_org.csv\n"
      ]
     },
     "metadata": {},
     "output_type": "display_data"
    },
    {
     "data": {
      "text/html": [
       "<pre style=\"white-space:pre;overflow-x:auto;line-height:normal;font-family:Menlo,'DejaVu Sans Mono',consolas,'Courier New',monospace\">metacran_coding_dh_org.csv\n",
       "</pre>\n"
      ],
      "text/plain": [
       "metacran_coding_dh_org.csv\n"
      ]
     },
     "metadata": {},
     "output_type": "display_data"
    },
    {
     "data": {
      "text/html": [
       "<pre style=\"white-space:pre;overflow-x:auto;line-height:normal;font-family:Menlo,'DejaVu Sans Mono',consolas,'Courier New',monospace\">dcs-sastra_coding_dh_org.csv\n",
       "</pre>\n"
      ],
      "text/plain": [
       "dcs-sastra_coding_dh_org.csv\n"
      ]
     },
     "metadata": {},
     "output_type": "display_data"
    },
    {
     "data": {
      "text/html": [
       "<pre style=\"white-space:pre;overflow-x:auto;line-height:normal;font-family:Menlo,'DejaVu Sans Mono',consolas,'Courier New',monospace\">CtrHellenicStudies_coding_dh_org.csv\n",
       "</pre>\n"
      ],
      "text/plain": [
       "CtrHellenicStudies_coding_dh_org.csv\n"
      ]
     },
     "metadata": {},
     "output_type": "display_data"
    },
    {
     "data": {
      "text/html": [
       "<pre style=\"white-space:pre;overflow-x:auto;line-height:normal;font-family:Menlo,'DejaVu Sans Mono',consolas,'Courier New',monospace\">solid_coding_dh_org.csv\n",
       "</pre>\n"
      ],
      "text/plain": [
       "solid_coding_dh_org.csv\n"
      ]
     },
     "metadata": {},
     "output_type": "display_data"
    },
    {
     "data": {
      "text/html": [
       "<pre style=\"white-space:pre;overflow-x:auto;line-height:normal;font-family:Menlo,'DejaVu Sans Mono',consolas,'Courier New',monospace\">josquin-research-project_coding_dh_org.csv\n",
       "</pre>\n"
      ],
      "text/plain": [
       "josquin-research-project_coding_dh_org.csv\n"
      ]
     },
     "metadata": {},
     "output_type": "display_data"
    },
    {
     "data": {
      "text/html": [
       "<pre style=\"white-space:pre;overflow-x:auto;line-height:normal;font-family:Menlo,'DejaVu Sans Mono',consolas,'Courier New',monospace\">kitab-project-org_coding_dh_org.csv\n",
       "</pre>\n"
      ],
      "text/plain": [
       "kitab-project-org_coding_dh_org.csv\n"
      ]
     },
     "metadata": {},
     "output_type": "display_data"
    },
    {
     "data": {
      "text/html": [
       "<pre style=\"white-space:pre;overflow-x:auto;line-height:normal;font-family:Menlo,'DejaVu Sans Mono',consolas,'Courier New',monospace\">linkeddata_coding_dh_org.csv\n",
       "</pre>\n"
      ],
      "text/plain": [
       "linkeddata_coding_dh_org.csv\n"
      ]
     },
     "metadata": {},
     "output_type": "display_data"
    },
    {
     "data": {
      "text/html": [
       "<pre style=\"white-space:pre;overflow-x:auto;line-height:normal;font-family:Menlo,'DejaVu Sans Mono',consolas,'Courier New',monospace\">botho-net_coding_dh_org.csv\n",
       "</pre>\n"
      ],
      "text/plain": [
       "botho-net_coding_dh_org.csv\n"
      ]
     },
     "metadata": {},
     "output_type": "display_data"
    },
    {
     "data": {
      "text/html": [
       "<pre style=\"white-space:pre;overflow-x:auto;line-height:normal;font-family:Menlo,'DejaVu Sans Mono',consolas,'Courier New',monospace\">PayDevs_coding_dh_org.csv\n",
       "</pre>\n"
      ],
      "text/plain": [
       "PayDevs_coding_dh_org.csv\n"
      ]
     },
     "metadata": {},
     "output_type": "display_data"
    },
    {
     "data": {
      "text/html": [
       "<pre style=\"white-space:pre;overflow-x:auto;line-height:normal;font-family:Menlo,'DejaVu Sans Mono',consolas,'Courier New',monospace\">opencovid19-fr_coding_dh_org.csv\n",
       "</pre>\n"
      ],
      "text/plain": [
       "opencovid19-fr_coding_dh_org.csv\n"
      ]
     },
     "metadata": {},
     "output_type": "display_data"
    },
    {
     "data": {
      "text/html": [
       "<pre style=\"white-space:pre;overflow-x:auto;line-height:normal;font-family:Menlo,'DejaVu Sans Mono',consolas,'Courier New',monospace\">ONTOmeditations_coding_dh_org.csv\n",
       "</pre>\n"
      ],
      "text/plain": [
       "ONTOmeditations_coding_dh_org.csv\n"
      ]
     },
     "metadata": {},
     "output_type": "display_data"
    },
    {
     "data": {
      "text/html": [
       "<pre style=\"white-space:pre;overflow-x:auto;line-height:normal;font-family:Menlo,'DejaVu Sans Mono',consolas,'Courier New',monospace\">DH-IT-Portal-Development_coding_dh_org.csv\n",
       "</pre>\n"
      ],
      "text/plain": [
       "DH-IT-Portal-Development_coding_dh_org.csv\n"
      ]
     },
     "metadata": {},
     "output_type": "display_data"
    },
    {
     "data": {
      "text/html": [
       "<pre style=\"white-space:pre;overflow-x:auto;line-height:normal;font-family:Menlo,'DejaVu Sans Mono',consolas,'Courier New',monospace\">hms-dbmi_coding_dh_org.csv\n",
       "</pre>\n"
      ],
      "text/plain": [
       "hms-dbmi_coding_dh_org.csv\n"
      ]
     },
     "metadata": {},
     "output_type": "display_data"
    },
    {
     "data": {
      "text/html": [
       "<pre style=\"white-space:pre;overflow-x:auto;line-height:normal;font-family:Menlo,'DejaVu Sans Mono',consolas,'Courier New',monospace\">collectionslab_coding_dh_org.csv\n",
       "</pre>\n"
      ],
      "text/plain": [
       "collectionslab_coding_dh_org.csv\n"
      ]
     },
     "metadata": {},
     "output_type": "display_data"
    },
    {
     "data": {
      "text/html": [
       "<pre style=\"white-space:pre;overflow-x:auto;line-height:normal;font-family:Menlo,'DejaVu Sans Mono',consolas,'Courier New',monospace\">computer-assisted-reporting_coding_dh_org.csv\n",
       "</pre>\n"
      ],
      "text/plain": [
       "computer-assisted-reporting_coding_dh_org.csv\n"
      ]
     },
     "metadata": {},
     "output_type": "display_data"
    },
    {
     "data": {
      "text/html": [
       "<pre style=\"white-space:pre;overflow-x:auto;line-height:normal;font-family:Menlo,'DejaVu Sans Mono',consolas,'Courier New',monospace\">openvolley_coding_dh_org.csv\n",
       "</pre>\n"
      ],
      "text/plain": [
       "openvolley_coding_dh_org.csv\n"
      ]
     },
     "metadata": {},
     "output_type": "display_data"
    },
    {
     "data": {
      "text/html": [
       "<pre style=\"white-space:pre;overflow-x:auto;line-height:normal;font-family:Menlo,'DejaVu Sans Mono',consolas,'Courier New',monospace\">browninstitute_coding_dh_org.csv\n",
       "</pre>\n"
      ],
      "text/plain": [
       "browninstitute_coding_dh_org.csv\n"
      ]
     },
     "metadata": {},
     "output_type": "display_data"
    },
    {
     "data": {
      "text/html": [
       "<pre style=\"white-space:pre;overflow-x:auto;line-height:normal;font-family:Menlo,'DejaVu Sans Mono',consolas,'Courier New',monospace\">hackingscience_coding_dh_org.csv\n",
       "</pre>\n"
      ],
      "text/plain": [
       "hackingscience_coding_dh_org.csv\n"
      ]
     },
     "metadata": {},
     "output_type": "display_data"
    },
    {
     "data": {
      "text/html": [
       "<pre style=\"white-space:pre;overflow-x:auto;line-height:normal;font-family:Menlo,'DejaVu Sans Mono',consolas,'Courier New',monospace\">Dr-Eberle-Zentrum_coding_dh_org.csv\n",
       "</pre>\n"
      ],
      "text/plain": [
       "Dr-Eberle-Zentrum_coding_dh_org.csv\n"
      ]
     },
     "metadata": {},
     "output_type": "display_data"
    },
    {
     "data": {
      "text/html": [
       "<pre style=\"white-space:pre;overflow-x:auto;line-height:normal;font-family:Menlo,'DejaVu Sans Mono',consolas,'Courier New',monospace\">geneontology_coding_dh_org.csv\n",
       "</pre>\n"
      ],
      "text/plain": [
       "geneontology_coding_dh_org.csv\n"
      ]
     },
     "metadata": {},
     "output_type": "display_data"
    },
    {
     "data": {
      "text/html": [
       "<pre style=\"white-space:pre;overflow-x:auto;line-height:normal;font-family:Menlo,'DejaVu Sans Mono',consolas,'Courier New',monospace\">ixc_coding_dh_org.csv\n",
       "</pre>\n"
      ],
      "text/plain": [
       "ixc_coding_dh_org.csv\n"
      ]
     },
     "metadata": {},
     "output_type": "display_data"
    },
    {
     "data": {
      "text/html": [
       "<pre style=\"white-space:pre;overflow-x:auto;line-height:normal;font-family:Menlo,'DejaVu Sans Mono',consolas,'Courier New',monospace\">nchum_coding_dh_org.csv\n",
       "</pre>\n"
      ],
      "text/plain": [
       "nchum_coding_dh_org.csv\n"
      ]
     },
     "metadata": {},
     "output_type": "display_data"
    },
    {
     "data": {
      "text/html": [
       "<pre style=\"white-space:pre;overflow-x:auto;line-height:normal;font-family:Menlo,'DejaVu Sans Mono',consolas,'Courier New',monospace\">sledilnik_coding_dh_org.csv\n",
       "</pre>\n"
      ],
      "text/plain": [
       "sledilnik_coding_dh_org.csv\n"
      ]
     },
     "metadata": {},
     "output_type": "display_data"
    },
    {
     "data": {
      "text/html": [
       "<pre style=\"white-space:pre;overflow-x:auto;line-height:normal;font-family:Menlo,'DejaVu Sans Mono',consolas,'Courier New',monospace\">sustainers_coding_dh_org.csv\n",
       "</pre>\n"
      ],
      "text/plain": [
       "sustainers_coding_dh_org.csv\n"
      ]
     },
     "metadata": {},
     "output_type": "display_data"
    },
    {
     "data": {
      "text/html": [
       "<pre style=\"white-space:pre;overflow-x:auto;line-height:normal;font-family:Menlo,'DejaVu Sans Mono',consolas,'Courier New',monospace\">TheGazette_coding_dh_org.csv\n",
       "</pre>\n"
      ],
      "text/plain": [
       "TheGazette_coding_dh_org.csv\n"
      ]
     },
     "metadata": {},
     "output_type": "display_data"
    },
    {
     "data": {
      "text/html": [
       "<pre style=\"white-space:pre;overflow-x:auto;line-height:normal;font-family:Menlo,'DejaVu Sans Mono',consolas,'Courier New',monospace\">baselcodes_coding_dh_org.csv\n",
       "</pre>\n"
      ],
      "text/plain": [
       "baselcodes_coding_dh_org.csv\n"
      ]
     },
     "metadata": {},
     "output_type": "display_data"
    },
    {
     "data": {
      "text/html": [
       "<pre style=\"white-space:pre;overflow-x:auto;line-height:normal;font-family:Menlo,'DejaVu Sans Mono',consolas,'Courier New',monospace\">igraph_coding_dh_org.csv\n",
       "</pre>\n"
      ],
      "text/plain": [
       "igraph_coding_dh_org.csv\n"
      ]
     },
     "metadata": {},
     "output_type": "display_data"
    },
    {
     "data": {
      "text/html": [
       "<pre style=\"white-space:pre;overflow-x:auto;line-height:normal;font-family:Menlo,'DejaVu Sans Mono',consolas,'Courier New',monospace\">Ecoblockchain_coding_dh_org.csv\n",
       "</pre>\n"
      ],
      "text/plain": [
       "Ecoblockchain_coding_dh_org.csv\n"
      ]
     },
     "metadata": {},
     "output_type": "display_data"
    },
    {
     "data": {
      "text/html": [
       "<pre style=\"white-space:pre;overflow-x:auto;line-height:normal;font-family:Menlo,'DejaVu Sans Mono',consolas,'Courier New',monospace\">trecrts_coding_dh_org.csv\n",
       "</pre>\n"
      ],
      "text/plain": [
       "trecrts_coding_dh_org.csv\n"
      ]
     },
     "metadata": {},
     "output_type": "display_data"
    },
    {
     "data": {
      "text/html": [
       "<pre style=\"white-space:pre;overflow-x:auto;line-height:normal;font-family:Menlo,'DejaVu Sans Mono',consolas,'Courier New',monospace\">openkratio_coding_dh_org.csv\n",
       "</pre>\n"
      ],
      "text/plain": [
       "openkratio_coding_dh_org.csv\n"
      ]
     },
     "metadata": {},
     "output_type": "display_data"
    },
    {
     "data": {
      "text/html": [
       "<pre style=\"white-space:pre;overflow-x:auto;line-height:normal;font-family:Menlo,'DejaVu Sans Mono',consolas,'Courier New',monospace\">jsonlines_coding_dh_org.csv\n",
       "</pre>\n"
      ],
      "text/plain": [
       "jsonlines_coding_dh_org.csv\n"
      ]
     },
     "metadata": {},
     "output_type": "display_data"
    },
    {
     "data": {
      "text/html": [
       "<pre style=\"white-space:pre;overflow-x:auto;line-height:normal;font-family:Menlo,'DejaVu Sans Mono',consolas,'Courier New',monospace\">vizfun_coding_dh_org.csv\n",
       "</pre>\n"
      ],
      "text/plain": [
       "vizfun_coding_dh_org.csv\n"
      ]
     },
     "metadata": {},
     "output_type": "display_data"
    },
    {
     "data": {
      "text/html": [
       "<pre style=\"white-space:pre;overflow-x:auto;line-height:normal;font-family:Menlo,'DejaVu Sans Mono',consolas,'Courier New',monospace\">berg-foundation_coding_dh_org.csv\n",
       "</pre>\n"
      ],
      "text/plain": [
       "berg-foundation_coding_dh_org.csv\n"
      ]
     },
     "metadata": {},
     "output_type": "display_data"
    },
    {
     "data": {
      "text/html": [
       "<pre style=\"white-space:pre;overflow-x:auto;line-height:normal;font-family:Menlo,'DejaVu Sans Mono',consolas,'Courier New',monospace\">cordhum_coding_dh_org.csv\n",
       "</pre>\n"
      ],
      "text/plain": [
       "cordhum_coding_dh_org.csv\n"
      ]
     },
     "metadata": {},
     "output_type": "display_data"
    },
    {
     "data": {
      "text/html": [
       "<pre style=\"white-space:pre;overflow-x:auto;line-height:normal;font-family:Menlo,'DejaVu Sans Mono',consolas,'Courier New',monospace\">NYUAD-Soulmates_coding_dh_org.csv\n",
       "</pre>\n"
      ],
      "text/plain": [
       "NYUAD-Soulmates_coding_dh_org.csv\n"
      ]
     },
     "metadata": {},
     "output_type": "display_data"
    },
    {
     "data": {
      "text/html": [
       "<pre style=\"white-space:pre;overflow-x:auto;line-height:normal;font-family:Menlo,'DejaVu Sans Mono',consolas,'Courier New',monospace\">MEDEAEditions_coding_dh_org.csv\n",
       "</pre>\n"
      ],
      "text/plain": [
       "MEDEAEditions_coding_dh_org.csv\n"
      ]
     },
     "metadata": {},
     "output_type": "display_data"
    },
    {
     "data": {
      "text/html": [
       "<pre style=\"white-space:pre;overflow-x:auto;line-height:normal;font-family:Menlo,'DejaVu Sans Mono',consolas,'Courier New',monospace\">hellobacsionline_coding_dh_org.csv\n",
       "</pre>\n"
      ],
      "text/plain": [
       "hellobacsionline_coding_dh_org.csv\n"
      ]
     },
     "metadata": {},
     "output_type": "display_data"
    },
    {
     "data": {
      "text/html": [
       "<pre style=\"white-space:pre;overflow-x:auto;line-height:normal;font-family:Menlo,'DejaVu Sans Mono',consolas,'Courier New',monospace\">kelproject_coding_dh_org.csv\n",
       "</pre>\n"
      ],
      "text/plain": [
       "kelproject_coding_dh_org.csv\n"
      ]
     },
     "metadata": {},
     "output_type": "display_data"
    },
    {
     "data": {
      "text/html": [
       "<pre style=\"white-space:pre;overflow-x:auto;line-height:normal;font-family:Menlo,'DejaVu Sans Mono',consolas,'Courier New',monospace\">bulib_coding_dh_org.csv\n",
       "</pre>\n"
      ],
      "text/plain": [
       "bulib_coding_dh_org.csv\n"
      ]
     },
     "metadata": {},
     "output_type": "display_data"
    },
    {
     "data": {
      "text/html": [
       "<pre style=\"white-space:pre;overflow-x:auto;line-height:normal;font-family:Menlo,'DejaVu Sans Mono',consolas,'Courier New',monospace\">gramps-project_coding_dh_org.csv\n",
       "</pre>\n"
      ],
      "text/plain": [
       "gramps-project_coding_dh_org.csv\n"
      ]
     },
     "metadata": {},
     "output_type": "display_data"
    },
    {
     "data": {
      "text/html": [
       "<pre style=\"white-space:pre;overflow-x:auto;line-height:normal;font-family:Menlo,'DejaVu Sans Mono',consolas,'Courier New',monospace\">HENM1415_coding_dh_org.csv\n",
       "</pre>\n"
      ],
      "text/plain": [
       "HENM1415_coding_dh_org.csv\n"
      ]
     },
     "metadata": {},
     "output_type": "display_data"
    },
    {
     "data": {
      "text/html": [
       "<pre style=\"white-space:pre;overflow-x:auto;line-height:normal;font-family:Menlo,'DejaVu Sans Mono',consolas,'Courier New',monospace\">w3c_coding_dh_org.csv\n",
       "</pre>\n"
      ],
      "text/plain": [
       "w3c_coding_dh_org.csv\n"
      ]
     },
     "metadata": {},
     "output_type": "display_data"
    },
    {
     "data": {
      "text/html": [
       "<pre style=\"white-space:pre;overflow-x:auto;line-height:normal;font-family:Menlo,'DejaVu Sans Mono',consolas,'Courier New',monospace\">WS2014_coding_dh_org.csv\n",
       "</pre>\n"
      ],
      "text/plain": [
       "WS2014_coding_dh_org.csv\n"
      ]
     },
     "metadata": {},
     "output_type": "display_data"
    },
    {
     "data": {
      "text/html": [
       "<pre style=\"white-space:pre;overflow-x:auto;line-height:normal;font-family:Menlo,'DejaVu Sans Mono',consolas,'Courier New',monospace\">hermes-project_coding_dh_org.csv\n",
       "</pre>\n"
      ],
      "text/plain": [
       "hermes-project_coding_dh_org.csv\n"
      ]
     },
     "metadata": {},
     "output_type": "display_data"
    },
    {
     "data": {
      "text/html": [
       "<pre style=\"white-space:pre;overflow-x:auto;line-height:normal;font-family:Menlo,'DejaVu Sans Mono',consolas,'Courier New',monospace\">web-work-tools_coding_dh_org.csv\n",
       "</pre>\n"
      ],
      "text/plain": [
       "web-work-tools_coding_dh_org.csv\n"
      ]
     },
     "metadata": {},
     "output_type": "display_data"
    },
    {
     "data": {
      "text/html": [
       "<pre style=\"white-space:pre;overflow-x:auto;line-height:normal;font-family:Menlo,'DejaVu Sans Mono',consolas,'Courier New',monospace\">paradicms_coding_dh_org.csv\n",
       "</pre>\n"
      ],
      "text/plain": [
       "paradicms_coding_dh_org.csv\n"
      ]
     },
     "metadata": {},
     "output_type": "display_data"
    },
    {
     "data": {
      "text/html": [
       "<pre style=\"white-space:pre;overflow-x:auto;line-height:normal;font-family:Menlo,'DejaVu Sans Mono',consolas,'Courier New',monospace\">mghdata_coding_dh_org.csv\n",
       "</pre>\n"
      ],
      "text/plain": [
       "mghdata_coding_dh_org.csv\n"
      ]
     },
     "metadata": {},
     "output_type": "display_data"
    },
    {
     "data": {
      "text/html": [
       "<pre style=\"white-space:pre;overflow-x:auto;line-height:normal;font-family:Menlo,'DejaVu Sans Mono',consolas,'Courier New',monospace\">ESIPFed_coding_dh_org.csv\n",
       "</pre>\n"
      ],
      "text/plain": [
       "ESIPFed_coding_dh_org.csv\n"
      ]
     },
     "metadata": {},
     "output_type": "display_data"
    },
    {
     "data": {
      "text/html": [
       "<pre style=\"white-space:pre;overflow-x:auto;line-height:normal;font-family:Menlo,'DejaVu Sans Mono',consolas,'Courier New',monospace\">sanskrit-lexicon_coding_dh_org.csv\n",
       "</pre>\n"
      ],
      "text/plain": [
       "sanskrit-lexicon_coding_dh_org.csv\n"
      ]
     },
     "metadata": {},
     "output_type": "display_data"
    },
    {
     "data": {
      "text/html": [
       "<pre style=\"white-space:pre;overflow-x:auto;line-height:normal;font-family:Menlo,'DejaVu Sans Mono',consolas,'Courier New',monospace\">IARHeritages_coding_dh_org.csv\n",
       "</pre>\n"
      ],
      "text/plain": [
       "IARHeritages_coding_dh_org.csv\n"
      ]
     },
     "metadata": {},
     "output_type": "display_data"
    },
    {
     "data": {
      "text/html": [
       "<pre style=\"white-space:pre;overflow-x:auto;line-height:normal;font-family:Menlo,'DejaVu Sans Mono',consolas,'Courier New',monospace\">Artechlaw_coding_dh_org.csv\n",
       "</pre>\n"
      ],
      "text/plain": [
       "Artechlaw_coding_dh_org.csv\n"
      ]
     },
     "metadata": {},
     "output_type": "display_data"
    },
    {
     "data": {
      "text/html": [
       "<pre style=\"white-space:pre;overflow-x:auto;line-height:normal;font-family:Menlo,'DejaVu Sans Mono',consolas,'Courier New',monospace\">Skillsera_coding_dh_org.csv\n",
       "</pre>\n"
      ],
      "text/plain": [
       "Skillsera_coding_dh_org.csv\n"
      ]
     },
     "metadata": {},
     "output_type": "display_data"
    },
    {
     "data": {
      "text/html": [
       "<pre style=\"white-space:pre;overflow-x:auto;line-height:normal;font-family:Menlo,'DejaVu Sans Mono',consolas,'Courier New',monospace\">iflastandards_coding_dh_org.csv\n",
       "</pre>\n"
      ],
      "text/plain": [
       "iflastandards_coding_dh_org.csv\n"
      ]
     },
     "metadata": {},
     "output_type": "display_data"
    },
    {
     "data": {
      "text/html": [
       "<pre style=\"white-space:pre;overflow-x:auto;line-height:normal;font-family:Menlo,'DejaVu Sans Mono',consolas,'Courier New',monospace\">uclab-potsdam_coding_dh_org.csv\n",
       "</pre>\n"
      ],
      "text/plain": [
       "uclab-potsdam_coding_dh_org.csv\n"
      ]
     },
     "metadata": {},
     "output_type": "display_data"
    },
    {
     "data": {
      "text/html": [
       "<pre style=\"white-space:pre;overflow-x:auto;line-height:normal;font-family:Menlo,'DejaVu Sans Mono',consolas,'Courier New',monospace\">FitzwilliamMuseum_coding_dh_org.csv\n",
       "</pre>\n"
      ],
      "text/plain": [
       "FitzwilliamMuseum_coding_dh_org.csv\n"
      ]
     },
     "metadata": {},
     "output_type": "display_data"
    },
    {
     "data": {
      "text/html": [
       "<pre style=\"white-space:pre;overflow-x:auto;line-height:normal;font-family:Menlo,'DejaVu Sans Mono',consolas,'Courier New',monospace\">NLS-Digital-Scholarship_coding_dh_org.csv\n",
       "</pre>\n"
      ],
      "text/plain": [
       "NLS-Digital-Scholarship_coding_dh_org.csv\n"
      ]
     },
     "metadata": {},
     "output_type": "display_data"
    },
    {
     "data": {
      "text/html": [
       "<pre style=\"white-space:pre;overflow-x:auto;line-height:normal;font-family:Menlo,'DejaVu Sans Mono',consolas,'Courier New',monospace\">spark-media_coding_dh_org.csv\n",
       "</pre>\n"
      ],
      "text/plain": [
       "spark-media_coding_dh_org.csv\n"
      ]
     },
     "metadata": {},
     "output_type": "display_data"
    },
    {
     "data": {
      "text/html": [
       "<pre style=\"white-space:pre;overflow-x:auto;line-height:normal;font-family:Menlo,'DejaVu Sans Mono',consolas,'Courier New',monospace\">plotly_coding_dh_org.csv\n",
       "</pre>\n"
      ],
      "text/plain": [
       "plotly_coding_dh_org.csv\n"
      ]
     },
     "metadata": {},
     "output_type": "display_data"
    },
    {
     "data": {
      "text/html": [
       "<pre style=\"white-space:pre;overflow-x:auto;line-height:normal;font-family:Menlo,'DejaVu Sans Mono',consolas,'Courier New',monospace\">dhivelabs_coding_dh_org.csv\n",
       "</pre>\n"
      ],
      "text/plain": [
       "dhivelabs_coding_dh_org.csv\n"
      ]
     },
     "metadata": {},
     "output_type": "display_data"
    },
    {
     "data": {
      "text/html": [
       "<pre style=\"white-space:pre;overflow-x:auto;line-height:normal;font-family:Menlo,'DejaVu Sans Mono',consolas,'Courier New',monospace\">dh-nuigalway_coding_dh_org.csv\n",
       "</pre>\n"
      ],
      "text/plain": [
       "dh-nuigalway_coding_dh_org.csv\n"
      ]
     },
     "metadata": {},
     "output_type": "display_data"
    },
    {
     "data": {
      "text/html": [
       "<pre style=\"white-space:pre;overflow-x:auto;line-height:normal;font-family:Menlo,'DejaVu Sans Mono',consolas,'Courier New',monospace\">elifesciences_coding_dh_org.csv\n",
       "</pre>\n"
      ],
      "text/plain": [
       "elifesciences_coding_dh_org.csv\n"
      ]
     },
     "metadata": {},
     "output_type": "display_data"
    },
    {
     "data": {
      "text/html": [
       "<pre style=\"white-space:pre;overflow-x:auto;line-height:normal;font-family:Menlo,'DejaVu Sans Mono',consolas,'Courier New',monospace\">twu-fhss_coding_dh_org.csv\n",
       "</pre>\n"
      ],
      "text/plain": [
       "twu-fhss_coding_dh_org.csv\n"
      ]
     },
     "metadata": {},
     "output_type": "display_data"
    },
    {
     "data": {
      "text/html": [
       "<pre style=\"white-space:pre;overflow-x:auto;line-height:normal;font-family:Menlo,'DejaVu Sans Mono',consolas,'Courier New',monospace\">liarr2017_coding_dh_org.csv\n",
       "</pre>\n"
      ],
      "text/plain": [
       "liarr2017_coding_dh_org.csv\n"
      ]
     },
     "metadata": {},
     "output_type": "display_data"
    },
    {
     "data": {
      "text/html": [
       "<pre style=\"white-space:pre;overflow-x:auto;line-height:normal;font-family:Menlo,'DejaVu Sans Mono',consolas,'Courier New',monospace\">In-Data-We-Trust_coding_dh_org.csv\n",
       "</pre>\n"
      ],
      "text/plain": [
       "In-Data-We-Trust_coding_dh_org.csv\n"
      ]
     },
     "metadata": {},
     "output_type": "display_data"
    },
    {
     "data": {
      "text/html": [
       "<pre style=\"white-space:pre;overflow-x:auto;line-height:normal;font-family:Menlo,'DejaVu Sans Mono',consolas,'Courier New',monospace\">gedigiupb_coding_dh_org.csv\n",
       "</pre>\n"
      ],
      "text/plain": [
       "gedigiupb_coding_dh_org.csv\n"
      ]
     },
     "metadata": {},
     "output_type": "display_data"
    },
    {
     "data": {
      "text/html": [
       "<pre style=\"white-space:pre;overflow-x:auto;line-height:normal;font-family:Menlo,'DejaVu Sans Mono',consolas,'Courier New',monospace\">poliastro_coding_dh_org.csv\n",
       "</pre>\n"
      ],
      "text/plain": [
       "poliastro_coding_dh_org.csv\n"
      ]
     },
     "metadata": {},
     "output_type": "display_data"
    },
    {
     "data": {
      "text/html": [
       "<pre style=\"white-space:pre;overflow-x:auto;line-height:normal;font-family:Menlo,'DejaVu Sans Mono',consolas,'Courier New',monospace\">TheGlobalMail_coding_dh_org.csv\n",
       "</pre>\n"
      ],
      "text/plain": [
       "TheGlobalMail_coding_dh_org.csv\n"
      ]
     },
     "metadata": {},
     "output_type": "display_data"
    },
    {
     "data": {
      "text/html": [
       "<pre style=\"white-space:pre;overflow-x:auto;line-height:normal;font-family:Menlo,'DejaVu Sans Mono',consolas,'Courier New',monospace\">sydjs_coding_dh_org.csv\n",
       "</pre>\n"
      ],
      "text/plain": [
       "sydjs_coding_dh_org.csv\n"
      ]
     },
     "metadata": {},
     "output_type": "display_data"
    },
    {
     "data": {
      "text/html": [
       "<pre style=\"white-space:pre;overflow-x:auto;line-height:normal;font-family:Menlo,'DejaVu Sans Mono',consolas,'Courier New',monospace\">mamba-org_coding_dh_org.csv\n",
       "</pre>\n"
      ],
      "text/plain": [
       "mamba-org_coding_dh_org.csv\n"
      ]
     },
     "metadata": {},
     "output_type": "display_data"
    },
    {
     "data": {
      "text/html": [
       "<pre style=\"white-space:pre;overflow-x:auto;line-height:normal;font-family:Menlo,'DejaVu Sans Mono',consolas,'Courier New',monospace\">riatelab_coding_dh_org.csv\n",
       "</pre>\n"
      ],
      "text/plain": [
       "riatelab_coding_dh_org.csv\n"
      ]
     },
     "metadata": {},
     "output_type": "display_data"
    },
    {
     "data": {
      "text/html": [
       "<pre style=\"white-space:pre;overflow-x:auto;line-height:normal;font-family:Menlo,'DejaVu Sans Mono',consolas,'Courier New',monospace\">LibraryCarpentry_coding_dh_org.csv\n",
       "</pre>\n"
      ],
      "text/plain": [
       "LibraryCarpentry_coding_dh_org.csv\n"
      ]
     },
     "metadata": {},
     "output_type": "display_data"
    },
    {
     "data": {
      "text/html": [
       "<pre style=\"white-space:pre;overflow-x:auto;line-height:normal;font-family:Menlo,'DejaVu Sans Mono',consolas,'Courier New',monospace\">Lambda-3_coding_dh_org.csv\n",
       "</pre>\n"
      ],
      "text/plain": [
       "Lambda-3_coding_dh_org.csv\n"
      ]
     },
     "metadata": {},
     "output_type": "display_data"
    },
    {
     "data": {
      "text/html": [
       "<pre style=\"white-space:pre;overflow-x:auto;line-height:normal;font-family:Menlo,'DejaVu Sans Mono',consolas,'Courier New',monospace\">ffzg_coding_dh_org.csv\n",
       "</pre>\n"
      ],
      "text/plain": [
       "ffzg_coding_dh_org.csv\n"
      ]
     },
     "metadata": {},
     "output_type": "display_data"
    },
    {
     "data": {
      "text/html": [
       "<pre style=\"white-space:pre;overflow-x:auto;line-height:normal;font-family:Menlo,'DejaVu Sans Mono',consolas,'Courier New',monospace\">NFTIOTA_coding_dh_org.csv\n",
       "</pre>\n"
      ],
      "text/plain": [
       "NFTIOTA_coding_dh_org.csv\n"
      ]
     },
     "metadata": {},
     "output_type": "display_data"
    },
    {
     "data": {
      "text/html": [
       "<pre style=\"white-space:pre;overflow-x:auto;line-height:normal;font-family:Menlo,'DejaVu Sans Mono',consolas,'Courier New',monospace\">line_coding_dh_org.csv\n",
       "</pre>\n"
      ],
      "text/plain": [
       "line_coding_dh_org.csv\n"
      ]
     },
     "metadata": {},
     "output_type": "display_data"
    },
    {
     "data": {
      "text/html": [
       "<pre style=\"white-space:pre;overflow-x:auto;line-height:normal;font-family:Menlo,'DejaVu Sans Mono',consolas,'Courier New',monospace\">google-research_coding_dh_org.csv\n",
       "</pre>\n"
      ],
      "text/plain": [
       "google-research_coding_dh_org.csv\n"
      ]
     },
     "metadata": {},
     "output_type": "display_data"
    },
    {
     "data": {
      "text/html": [
       "<pre style=\"white-space:pre;overflow-x:auto;line-height:normal;font-family:Menlo,'DejaVu Sans Mono',consolas,'Courier New',monospace\">YokohamaR_coding_dh_org.csv\n",
       "</pre>\n"
      ],
      "text/plain": [
       "YokohamaR_coding_dh_org.csv\n"
      ]
     },
     "metadata": {},
     "output_type": "display_data"
    },
    {
     "data": {
      "text/html": [
       "<pre style=\"white-space:pre;overflow-x:auto;line-height:normal;font-family:Menlo,'DejaVu Sans Mono',consolas,'Courier New',monospace\">humanidadesdigitales-uniandes_coding_dh_org.csv\n",
       "</pre>\n"
      ],
      "text/plain": [
       "humanidadesdigitales-uniandes_coding_dh_org.csv\n"
      ]
     },
     "metadata": {},
     "output_type": "display_data"
    },
    {
     "data": {
      "text/html": [
       "<pre style=\"white-space:pre;overflow-x:auto;line-height:normal;font-family:Menlo,'DejaVu Sans Mono',consolas,'Courier New',monospace\">iwein-digital_coding_dh_org.csv\n",
       "</pre>\n"
      ],
      "text/plain": [
       "iwein-digital_coding_dh_org.csv\n"
      ]
     },
     "metadata": {},
     "output_type": "display_data"
    },
    {
     "data": {
      "text/html": [
       "<pre style=\"white-space:pre;overflow-x:auto;line-height:normal;font-family:Menlo,'DejaVu Sans Mono',consolas,'Courier New',monospace\">Zettlr_coding_dh_org.csv\n",
       "</pre>\n"
      ],
      "text/plain": [
       "Zettlr_coding_dh_org.csv\n"
      ]
     },
     "metadata": {},
     "output_type": "display_data"
    },
    {
     "data": {
      "text/html": [
       "<pre style=\"white-space:pre;overflow-x:auto;line-height:normal;font-family:Menlo,'DejaVu Sans Mono',consolas,'Courier New',monospace\">atelier-anchor_coding_dh_org.csv\n",
       "</pre>\n"
      ],
      "text/plain": [
       "atelier-anchor_coding_dh_org.csv\n"
      ]
     },
     "metadata": {},
     "output_type": "display_data"
    },
    {
     "data": {
      "text/html": [
       "<pre style=\"white-space:pre;overflow-x:auto;line-height:normal;font-family:Menlo,'DejaVu Sans Mono',consolas,'Courier New',monospace\">mysociety_coding_dh_org.csv\n",
       "</pre>\n"
      ],
      "text/plain": [
       "mysociety_coding_dh_org.csv\n"
      ]
     },
     "metadata": {},
     "output_type": "display_data"
    },
    {
     "data": {
      "text/html": [
       "<pre style=\"white-space:pre;overflow-x:auto;line-height:normal;font-family:Menlo,'DejaVu Sans Mono',consolas,'Courier New',monospace\">airmanger_coding_dh_org.csv\n",
       "</pre>\n"
      ],
      "text/plain": [
       "airmanger_coding_dh_org.csv\n"
      ]
     },
     "metadata": {},
     "output_type": "display_data"
    },
    {
     "data": {
      "text/html": [
       "<pre style=\"white-space:pre;overflow-x:auto;line-height:normal;font-family:Menlo,'DejaVu Sans Mono',consolas,'Courier New',monospace\">TalkStats_coding_dh_org.csv\n",
       "</pre>\n"
      ],
      "text/plain": [
       "TalkStats_coding_dh_org.csv\n"
      ]
     },
     "metadata": {},
     "output_type": "display_data"
    },
    {
     "data": {
      "text/html": [
       "<pre style=\"white-space:pre;overflow-x:auto;line-height:normal;font-family:Menlo,'DejaVu Sans Mono',consolas,'Courier New',monospace\">libnova_coding_dh_org.csv\n",
       "</pre>\n"
      ],
      "text/plain": [
       "libnova_coding_dh_org.csv\n"
      ]
     },
     "metadata": {},
     "output_type": "display_data"
    },
    {
     "data": {
      "text/html": [
       "<pre style=\"white-space:pre;overflow-x:auto;line-height:normal;font-family:Menlo,'DejaVu Sans Mono',consolas,'Courier New',monospace\">geoai-lab_coding_dh_org.csv\n",
       "</pre>\n"
      ],
      "text/plain": [
       "geoai-lab_coding_dh_org.csv\n"
      ]
     },
     "metadata": {},
     "output_type": "display_data"
    },
    {
     "data": {
      "text/html": [
       "<pre style=\"white-space:pre;overflow-x:auto;line-height:normal;font-family:Menlo,'DejaVu Sans Mono',consolas,'Courier New',monospace\">srophe_coding_dh_org.csv\n",
       "</pre>\n"
      ],
      "text/plain": [
       "srophe_coding_dh_org.csv\n"
      ]
     },
     "metadata": {},
     "output_type": "display_data"
    },
    {
     "data": {
      "text/html": [
       "<pre style=\"white-space:pre;overflow-x:auto;line-height:normal;font-family:Menlo,'DejaVu Sans Mono',consolas,'Courier New',monospace\">CollectiveAccessProject_coding_dh_org.csv\n",
       "</pre>\n"
      ],
      "text/plain": [
       "CollectiveAccessProject_coding_dh_org.csv\n"
      ]
     },
     "metadata": {},
     "output_type": "display_data"
    },
    {
     "data": {
      "text/html": [
       "<pre style=\"white-space:pre;overflow-x:auto;line-height:normal;font-family:Menlo,'DejaVu Sans Mono',consolas,'Courier New',monospace\">Annotags_coding_dh_org.csv\n",
       "</pre>\n"
      ],
      "text/plain": [
       "Annotags_coding_dh_org.csv\n"
      ]
     },
     "metadata": {},
     "output_type": "display_data"
    },
    {
     "data": {
      "text/html": [
       "<pre style=\"white-space:pre;overflow-x:auto;line-height:normal;font-family:Menlo,'DejaVu Sans Mono',consolas,'Courier New',monospace\">rime_coding_dh_org.csv\n",
       "</pre>\n"
      ],
      "text/plain": [
       "rime_coding_dh_org.csv\n"
      ]
     },
     "metadata": {},
     "output_type": "display_data"
    },
    {
     "data": {
      "text/html": [
       "<pre style=\"white-space:pre;overflow-x:auto;line-height:normal;font-family:Menlo,'DejaVu Sans Mono',consolas,'Courier New',monospace\">usig-cchs-csic_coding_dh_org.csv\n",
       "</pre>\n"
      ],
      "text/plain": [
       "usig-cchs-csic_coding_dh_org.csv\n"
      ]
     },
     "metadata": {},
     "output_type": "display_data"
    },
    {
     "data": {
      "text/html": [
       "<pre style=\"white-space:pre;overflow-x:auto;line-height:normal;font-family:Menlo,'DejaVu Sans Mono',consolas,'Courier New',monospace\">SocratesAcademy_coding_dh_org.csv\n",
       "</pre>\n"
      ],
      "text/plain": [
       "SocratesAcademy_coding_dh_org.csv\n"
      ]
     },
     "metadata": {},
     "output_type": "display_data"
    },
    {
     "data": {
      "text/html": [
       "<pre style=\"white-space:pre;overflow-x:auto;line-height:normal;font-family:Menlo,'DejaVu Sans Mono',consolas,'Courier New',monospace\">SolidarityEconomyAssociation_coding_dh_org.csv\n",
       "</pre>\n"
      ],
      "text/plain": [
       "SolidarityEconomyAssociation_coding_dh_org.csv\n"
      ]
     },
     "metadata": {},
     "output_type": "display_data"
    },
    {
     "data": {
      "text/html": [
       "<pre style=\"white-space:pre;overflow-x:auto;line-height:normal;font-family:Menlo,'DejaVu Sans Mono',consolas,'Courier New',monospace\">codeschluss_coding_dh_org.csv\n",
       "</pre>\n"
      ],
      "text/plain": [
       "codeschluss_coding_dh_org.csv\n"
      ]
     },
     "metadata": {},
     "output_type": "display_data"
    },
    {
     "data": {
      "text/html": [
       "<pre style=\"white-space:pre;overflow-x:auto;line-height:normal;font-family:Menlo,'DejaVu Sans Mono',consolas,'Courier New',monospace\">XLabCU_coding_dh_org.csv\n",
       "</pre>\n"
      ],
      "text/plain": [
       "XLabCU_coding_dh_org.csv\n"
      ]
     },
     "metadata": {},
     "output_type": "display_data"
    },
    {
     "data": {
      "text/html": [
       "<pre style=\"white-space:pre;overflow-x:auto;line-height:normal;font-family:Menlo,'DejaVu Sans Mono',consolas,'Courier New',monospace\">BIDS_coding_dh_org.csv\n",
       "</pre>\n"
      ],
      "text/plain": [
       "BIDS_coding_dh_org.csv\n"
      ]
     },
     "metadata": {},
     "output_type": "display_data"
    },
    {
     "data": {
      "text/html": [
       "<pre style=\"white-space:pre;overflow-x:auto;line-height:normal;font-family:Menlo,'DejaVu Sans Mono',consolas,'Courier New',monospace\">HewlettPackard_coding_dh_org.csv\n",
       "</pre>\n"
      ],
      "text/plain": [
       "HewlettPackard_coding_dh_org.csv\n"
      ]
     },
     "metadata": {},
     "output_type": "display_data"
    },
    {
     "data": {
      "text/html": [
       "<pre style=\"white-space:pre;overflow-x:auto;line-height:normal;font-family:Menlo,'DejaVu Sans Mono',consolas,'Courier New',monospace\">ld4humanities_coding_dh_org.csv\n",
       "</pre>\n"
      ],
      "text/plain": [
       "ld4humanities_coding_dh_org.csv\n"
      ]
     },
     "metadata": {},
     "output_type": "display_data"
    },
    {
     "data": {
      "text/html": [
       "<pre style=\"white-space:pre;overflow-x:auto;line-height:normal;font-family:Menlo,'DejaVu Sans Mono',consolas,'Courier New',monospace\">ic-labs_coding_dh_org.csv\n",
       "</pre>\n"
      ],
      "text/plain": [
       "ic-labs_coding_dh_org.csv\n"
      ]
     },
     "metadata": {},
     "output_type": "display_data"
    },
    {
     "data": {
      "text/html": [
       "<pre style=\"white-space:pre;overflow-x:auto;line-height:normal;font-family:Menlo,'DejaVu Sans Mono',consolas,'Courier New',monospace\">h5py_coding_dh_org.csv\n",
       "</pre>\n"
      ],
      "text/plain": [
       "h5py_coding_dh_org.csv\n"
      ]
     },
     "metadata": {},
     "output_type": "display_data"
    },
    {
     "data": {
      "text/html": [
       "<pre style=\"white-space:pre;overflow-x:auto;line-height:normal;font-family:Menlo,'DejaVu Sans Mono',consolas,'Courier New',monospace\">zerodha_coding_dh_org.csv\n",
       "</pre>\n"
      ],
      "text/plain": [
       "zerodha_coding_dh_org.csv\n"
      ]
     },
     "metadata": {},
     "output_type": "display_data"
    },
    {
     "data": {
      "text/html": [
       "<pre style=\"white-space:pre;overflow-x:auto;line-height:normal;font-family:Menlo,'DejaVu Sans Mono',consolas,'Courier New',monospace\">Sastrabandung_coding_dh_org.csv\n",
       "</pre>\n"
      ],
      "text/plain": [
       "Sastrabandung_coding_dh_org.csv\n"
      ]
     },
     "metadata": {},
     "output_type": "display_data"
    },
    {
     "data": {
      "text/html": [
       "<pre style=\"white-space:pre;overflow-x:auto;line-height:normal;font-family:Menlo,'DejaVu Sans Mono',consolas,'Courier New',monospace\">OCFL_coding_dh_org.csv\n",
       "</pre>\n"
      ],
      "text/plain": [
       "OCFL_coding_dh_org.csv\n"
      ]
     },
     "metadata": {},
     "output_type": "display_data"
    },
    {
     "data": {
      "text/html": [
       "<pre style=\"white-space:pre;overflow-x:auto;line-height:normal;font-family:Menlo,'DejaVu Sans Mono',consolas,'Courier New',monospace\">ucfopen_coding_dh_org.csv\n",
       "</pre>\n"
      ],
      "text/plain": [
       "ucfopen_coding_dh_org.csv\n"
      ]
     },
     "metadata": {},
     "output_type": "display_data"
    },
    {
     "data": {
      "text/html": [
       "<pre style=\"white-space:pre;overflow-x:auto;line-height:normal;font-family:Menlo,'DejaVu Sans Mono',consolas,'Courier New',monospace\">Miamiohlibs_coding_dh_org.csv\n",
       "</pre>\n"
      ],
      "text/plain": [
       "Miamiohlibs_coding_dh_org.csv\n"
      ]
     },
     "metadata": {},
     "output_type": "display_data"
    },
    {
     "data": {
      "text/html": [
       "<pre style=\"white-space:pre;overflow-x:auto;line-height:normal;font-family:Menlo,'DejaVu Sans Mono',consolas,'Courier New',monospace\">ricochet-im_coding_dh_org.csv\n",
       "</pre>\n"
      ],
      "text/plain": [
       "ricochet-im_coding_dh_org.csv\n"
      ]
     },
     "metadata": {},
     "output_type": "display_data"
    },
    {
     "data": {
      "text/html": [
       "<pre style=\"white-space:pre;overflow-x:auto;line-height:normal;font-family:Menlo,'DejaVu Sans Mono',consolas,'Courier New',monospace\">Pittsburgh-NEH-Institute_coding_dh_org.csv\n",
       "</pre>\n"
      ],
      "text/plain": [
       "Pittsburgh-NEH-Institute_coding_dh_org.csv\n"
      ]
     },
     "metadata": {},
     "output_type": "display_data"
    },
    {
     "data": {
      "text/html": [
       "<pre style=\"white-space:pre;overflow-x:auto;line-height:normal;font-family:Menlo,'DejaVu Sans Mono',consolas,'Courier New',monospace\">spraakbanken_coding_dh_org.csv\n",
       "</pre>\n"
      ],
      "text/plain": [
       "spraakbanken_coding_dh_org.csv\n"
      ]
     },
     "metadata": {},
     "output_type": "display_data"
    },
    {
     "data": {
      "text/html": [
       "<pre style=\"white-space:pre;overflow-x:auto;line-height:normal;font-family:Menlo,'DejaVu Sans Mono',consolas,'Courier New',monospace\">dsg-uwaterloo_coding_dh_org.csv\n",
       "</pre>\n"
      ],
      "text/plain": [
       "dsg-uwaterloo_coding_dh_org.csv\n"
      ]
     },
     "metadata": {},
     "output_type": "display_data"
    },
    {
     "data": {
      "text/html": [
       "<pre style=\"white-space:pre;overflow-x:auto;line-height:normal;font-family:Menlo,'DejaVu Sans Mono',consolas,'Courier New',monospace\">HumanitiesDataAnalysis_coding_dh_org.csv\n",
       "</pre>\n"
      ],
      "text/plain": [
       "HumanitiesDataAnalysis_coding_dh_org.csv\n"
      ]
     },
     "metadata": {},
     "output_type": "display_data"
    },
    {
     "data": {
      "text/html": [
       "<pre style=\"white-space:pre;overflow-x:auto;line-height:normal;font-family:Menlo,'DejaVu Sans Mono',consolas,'Courier New',monospace\">abes-esr_coding_dh_org.csv\n",
       "</pre>\n"
      ],
      "text/plain": [
       "abes-esr_coding_dh_org.csv\n"
      ]
     },
     "metadata": {},
     "output_type": "display_data"
    },
    {
     "data": {
      "text/html": [
       "<pre style=\"white-space:pre;overflow-x:auto;line-height:normal;font-family:Menlo,'DejaVu Sans Mono',consolas,'Courier New',monospace\">galaxy-nlp_coding_dh_org.csv\n",
       "</pre>\n"
      ],
      "text/plain": [
       "galaxy-nlp_coding_dh_org.csv\n"
      ]
     },
     "metadata": {},
     "output_type": "display_data"
    },
    {
     "data": {
      "text/html": [
       "<pre style=\"white-space:pre;overflow-x:auto;line-height:normal;font-family:Menlo,'DejaVu Sans Mono',consolas,'Courier New',monospace\">Project-Kleutghen_coding_dh_org.csv\n",
       "</pre>\n"
      ],
      "text/plain": [
       "Project-Kleutghen_coding_dh_org.csv\n"
      ]
     },
     "metadata": {},
     "output_type": "display_data"
    },
    {
     "data": {
      "text/html": [
       "<pre style=\"white-space:pre;overflow-x:auto;line-height:normal;font-family:Menlo,'DejaVu Sans Mono',consolas,'Courier New',monospace\">Sprakbanken_coding_dh_org.csv\n",
       "</pre>\n"
      ],
      "text/plain": [
       "Sprakbanken_coding_dh_org.csv\n"
      ]
     },
     "metadata": {},
     "output_type": "display_data"
    },
    {
     "data": {
      "text/html": [
       "<pre style=\"white-space:pre;overflow-x:auto;line-height:normal;font-family:Menlo,'DejaVu Sans Mono',consolas,'Courier New',monospace\">KOST-CECO_coding_dh_org.csv\n",
       "</pre>\n"
      ],
      "text/plain": [
       "KOST-CECO_coding_dh_org.csv\n"
      ]
     },
     "metadata": {},
     "output_type": "display_data"
    },
    {
     "data": {
      "text/html": [
       "<pre style=\"white-space:pre;overflow-x:auto;line-height:normal;font-family:Menlo,'DejaVu Sans Mono',consolas,'Courier New',monospace\">MediaArea_coding_dh_org.csv\n",
       "</pre>\n"
      ],
      "text/plain": [
       "MediaArea_coding_dh_org.csv\n"
      ]
     },
     "metadata": {},
     "output_type": "display_data"
    },
    {
     "data": {
      "text/html": [
       "<pre style=\"white-space:pre;overflow-x:auto;line-height:normal;font-family:Menlo,'DejaVu Sans Mono',consolas,'Courier New',monospace\">pact-foundation_coding_dh_org.csv\n",
       "</pre>\n"
      ],
      "text/plain": [
       "pact-foundation_coding_dh_org.csv\n"
      ]
     },
     "metadata": {},
     "output_type": "display_data"
    },
    {
     "data": {
      "text/html": [
       "<pre style=\"white-space:pre;overflow-x:auto;line-height:normal;font-family:Menlo,'DejaVu Sans Mono',consolas,'Courier New',monospace\">gwf-uwaterloo_coding_dh_org.csv\n",
       "</pre>\n"
      ],
      "text/plain": [
       "gwf-uwaterloo_coding_dh_org.csv\n"
      ]
     },
     "metadata": {},
     "output_type": "display_data"
    },
    {
     "data": {
      "text/html": [
       "<pre style=\"white-space:pre;overflow-x:auto;line-height:normal;font-family:Menlo,'DejaVu Sans Mono',consolas,'Courier New',monospace\">kingsdigitallab_coding_dh_org.csv\n",
       "</pre>\n"
      ],
      "text/plain": [
       "kingsdigitallab_coding_dh_org.csv\n"
      ]
     },
     "metadata": {},
     "output_type": "display_data"
    },
    {
     "data": {
      "text/html": [
       "<pre style=\"white-space:pre;overflow-x:auto;line-height:normal;font-family:Menlo,'DejaVu Sans Mono',consolas,'Courier New',monospace\">BothofUsProject_coding_dh_org.csv\n",
       "</pre>\n"
      ],
      "text/plain": [
       "BothofUsProject_coding_dh_org.csv\n"
      ]
     },
     "metadata": {},
     "output_type": "display_data"
    },
    {
     "data": {
      "text/html": [
       "<pre style=\"white-space:pre;overflow-x:auto;line-height:normal;font-family:Menlo,'DejaVu Sans Mono',consolas,'Courier New',monospace\">mapzen_coding_dh_org.csv\n",
       "</pre>\n"
      ],
      "text/plain": [
       "mapzen_coding_dh_org.csv\n"
      ]
     },
     "metadata": {},
     "output_type": "display_data"
    },
    {
     "data": {
      "text/html": [
       "<pre style=\"white-space:pre;overflow-x:auto;line-height:normal;font-family:Menlo,'DejaVu Sans Mono',consolas,'Courier New',monospace\">bellingcat_coding_dh_org.csv\n",
       "</pre>\n"
      ],
      "text/plain": [
       "bellingcat_coding_dh_org.csv\n"
      ]
     },
     "metadata": {},
     "output_type": "display_data"
    },
    {
     "data": {
      "text/html": [
       "<pre style=\"white-space:pre;overflow-x:auto;line-height:normal;font-family:Menlo,'DejaVu Sans Mono',consolas,'Courier New',monospace\">LatinR_coding_dh_org.csv\n",
       "</pre>\n"
      ],
      "text/plain": [
       "LatinR_coding_dh_org.csv\n"
      ]
     },
     "metadata": {},
     "output_type": "display_data"
    },
    {
     "data": {
      "text/html": [
       "<pre style=\"white-space:pre;overflow-x:auto;line-height:normal;font-family:Menlo,'DejaVu Sans Mono',consolas,'Courier New',monospace\">winnifredeatonarchive_coding_dh_org.csv\n",
       "</pre>\n"
      ],
      "text/plain": [
       "winnifredeatonarchive_coding_dh_org.csv\n"
      ]
     },
     "metadata": {},
     "output_type": "display_data"
    },
    {
     "data": {
      "text/html": [
       "<pre style=\"white-space:pre;overflow-x:auto;line-height:normal;font-family:Menlo,'DejaVu Sans Mono',consolas,'Courier New',monospace\">OpenRefine_coding_dh_org.csv\n",
       "</pre>\n"
      ],
      "text/plain": [
       "OpenRefine_coding_dh_org.csv\n"
      ]
     },
     "metadata": {},
     "output_type": "display_data"
    },
    {
     "data": {
      "text/html": [
       "<pre style=\"white-space:pre;overflow-x:auto;line-height:normal;font-family:Menlo,'DejaVu Sans Mono',consolas,'Courier New',monospace\">humanitieshacksproject_coding_dh_org.csv\n",
       "</pre>\n"
      ],
      "text/plain": [
       "humanitieshacksproject_coding_dh_org.csv\n"
      ]
     },
     "metadata": {},
     "output_type": "display_data"
    },
    {
     "data": {
      "text/html": [
       "<pre style=\"white-space:pre;overflow-x:auto;line-height:normal;font-family:Menlo,'DejaVu Sans Mono',consolas,'Courier New',monospace\">clclab_coding_dh_org.csv\n",
       "</pre>\n"
      ],
      "text/plain": [
       "clclab_coding_dh_org.csv\n"
      ]
     },
     "metadata": {},
     "output_type": "display_data"
    },
    {
     "data": {
      "text/html": [
       "<pre style=\"white-space:pre;overflow-x:auto;line-height:normal;font-family:Menlo,'DejaVu Sans Mono',consolas,'Courier New',monospace\">findhit_coding_dh_org.csv\n",
       "</pre>\n"
      ],
      "text/plain": [
       "findhit_coding_dh_org.csv\n"
      ]
     },
     "metadata": {},
     "output_type": "display_data"
    },
    {
     "data": {
      "text/html": [
       "<pre style=\"white-space:pre;overflow-x:auto;line-height:normal;font-family:Menlo,'DejaVu Sans Mono',consolas,'Courier New',monospace\">ceurws_coding_dh_org.csv\n",
       "</pre>\n"
      ],
      "text/plain": [
       "ceurws_coding_dh_org.csv\n"
      ]
     },
     "metadata": {},
     "output_type": "display_data"
    },
    {
     "data": {
      "text/html": [
       "<pre style=\"white-space:pre;overflow-x:auto;line-height:normal;font-family:Menlo,'DejaVu Sans Mono',consolas,'Courier New',monospace\">OpenITI_coding_dh_org.csv\n",
       "</pre>\n"
      ],
      "text/plain": [
       "OpenITI_coding_dh_org.csv\n"
      ]
     },
     "metadata": {},
     "output_type": "display_data"
    },
    {
     "data": {
      "text/html": [
       "<pre style=\"white-space:pre;overflow-x:auto;line-height:normal;font-family:Menlo,'DejaVu Sans Mono',consolas,'Courier New',monospace\">HTR-United_coding_dh_org.csv\n",
       "</pre>\n"
      ],
      "text/plain": [
       "HTR-United_coding_dh_org.csv\n"
      ]
     },
     "metadata": {},
     "output_type": "display_data"
    },
    {
     "data": {
      "text/html": [
       "<pre style=\"white-space:pre;overflow-x:auto;line-height:normal;font-family:Menlo,'DejaVu Sans Mono',consolas,'Courier New',monospace\">news-catalyst_coding_dh_org.csv\n",
       "</pre>\n"
      ],
      "text/plain": [
       "news-catalyst_coding_dh_org.csv\n"
      ]
     },
     "metadata": {},
     "output_type": "display_data"
    },
    {
     "data": {
      "text/html": [
       "<pre style=\"white-space:pre;overflow-x:auto;line-height:normal;font-family:Menlo,'DejaVu Sans Mono',consolas,'Courier New',monospace\">LearnNavi_coding_dh_org.csv\n",
       "</pre>\n"
      ],
      "text/plain": [
       "LearnNavi_coding_dh_org.csv\n"
      ]
     },
     "metadata": {},
     "output_type": "display_data"
    },
    {
     "data": {
      "text/html": [
       "<pre style=\"white-space:pre;overflow-x:auto;line-height:normal;font-family:Menlo,'DejaVu Sans Mono',consolas,'Courier New',monospace\">ESUG_coding_dh_org.csv\n",
       "</pre>\n"
      ],
      "text/plain": [
       "ESUG_coding_dh_org.csv\n"
      ]
     },
     "metadata": {},
     "output_type": "display_data"
    },
    {
     "data": {
      "text/html": [
       "<pre style=\"white-space:pre;overflow-x:auto;line-height:normal;font-family:Menlo,'DejaVu Sans Mono',consolas,'Courier New',monospace\">oibeirut_coding_dh_org.csv\n",
       "</pre>\n"
      ],
      "text/plain": [
       "oibeirut_coding_dh_org.csv\n"
      ]
     },
     "metadata": {},
     "output_type": "display_data"
    },
    {
     "data": {
      "text/html": [
       "<pre style=\"white-space:pre;overflow-x:auto;line-height:normal;font-family:Menlo,'DejaVu Sans Mono',consolas,'Courier New',monospace\">arqtrad_coding_dh_org.csv\n",
       "</pre>\n"
      ],
      "text/plain": [
       "arqtrad_coding_dh_org.csv\n"
      ]
     },
     "metadata": {},
     "output_type": "display_data"
    },
    {
     "data": {
      "text/html": [
       "<pre style=\"white-space:pre;overflow-x:auto;line-height:normal;font-family:Menlo,'DejaVu Sans Mono',consolas,'Courier New',monospace\">DigitalMitford_coding_dh_org.csv\n",
       "</pre>\n"
      ],
      "text/plain": [
       "DigitalMitford_coding_dh_org.csv\n"
      ]
     },
     "metadata": {},
     "output_type": "display_data"
    },
    {
     "data": {
      "text/html": [
       "<pre style=\"white-space:pre;overflow-x:auto;line-height:normal;font-family:Menlo,'DejaVu Sans Mono',consolas,'Courier New',monospace\">GlimmerLabs_coding_dh_org.csv\n",
       "</pre>\n"
      ],
      "text/plain": [
       "GlimmerLabs_coding_dh_org.csv\n"
      ]
     },
     "metadata": {},
     "output_type": "display_data"
    },
    {
     "data": {
      "text/html": [
       "<pre style=\"white-space:pre;overflow-x:auto;line-height:normal;font-family:Menlo,'DejaVu Sans Mono',consolas,'Courier New',monospace\">technologiestiftung_coding_dh_org.csv\n",
       "</pre>\n"
      ],
      "text/plain": [
       "technologiestiftung_coding_dh_org.csv\n"
      ]
     },
     "metadata": {},
     "output_type": "display_data"
    },
    {
     "data": {
      "text/html": [
       "<pre style=\"white-space:pre;overflow-x:auto;line-height:normal;font-family:Menlo,'DejaVu Sans Mono',consolas,'Courier New',monospace\">shanti-uva_coding_dh_org.csv\n",
       "</pre>\n"
      ],
      "text/plain": [
       "shanti-uva_coding_dh_org.csv\n"
      ]
     },
     "metadata": {},
     "output_type": "display_data"
    },
    {
     "data": {
      "text/html": [
       "<pre style=\"white-space:pre;overflow-x:auto;line-height:normal;font-family:Menlo,'DejaVu Sans Mono',consolas,'Courier New',monospace\">DSpace_coding_dh_org.csv\n",
       "</pre>\n"
      ],
      "text/plain": [
       "DSpace_coding_dh_org.csv\n"
      ]
     },
     "metadata": {},
     "output_type": "display_data"
    },
    {
     "data": {
      "text/html": [
       "<pre style=\"white-space:pre;overflow-x:auto;line-height:normal;font-family:Menlo,'DejaVu Sans Mono',consolas,'Courier New',monospace\">CWTSLeiden_coding_dh_org.csv\n",
       "</pre>\n"
      ],
      "text/plain": [
       "CWTSLeiden_coding_dh_org.csv\n"
      ]
     },
     "metadata": {},
     "output_type": "display_data"
    },
    {
     "data": {
      "text/html": [
       "<pre style=\"white-space:pre;overflow-x:auto;line-height:normal;font-family:Menlo,'DejaVu Sans Mono',consolas,'Courier New',monospace\">Tell-me-the-truth_coding_dh_org.csv\n",
       "</pre>\n"
      ],
      "text/plain": [
       "Tell-me-the-truth_coding_dh_org.csv\n"
      ]
     },
     "metadata": {},
     "output_type": "display_data"
    },
    {
     "data": {
      "text/html": [
       "<pre style=\"white-space:pre;overflow-x:auto;line-height:normal;font-family:Menlo,'DejaVu Sans Mono',consolas,'Courier New',monospace\">Rhizome-Conifer_coding_dh_org.csv\n",
       "</pre>\n"
      ],
      "text/plain": [
       "Rhizome-Conifer_coding_dh_org.csv\n"
      ]
     },
     "metadata": {},
     "output_type": "display_data"
    },
    {
     "data": {
      "text/html": [
       "<pre style=\"white-space:pre;overflow-x:auto;line-height:normal;font-family:Menlo,'DejaVu Sans Mono',consolas,'Courier New',monospace\">snd-sweden_coding_dh_org.csv\n",
       "</pre>\n"
      ],
      "text/plain": [
       "snd-sweden_coding_dh_org.csv\n"
      ]
     },
     "metadata": {},
     "output_type": "display_data"
    },
    {
     "data": {
      "text/html": [
       "<pre style=\"white-space:pre;overflow-x:auto;line-height:normal;font-family:Menlo,'DejaVu Sans Mono',consolas,'Courier New',monospace\">CAFELTK_coding_dh_org.csv\n",
       "</pre>\n"
      ],
      "text/plain": [
       "CAFELTK_coding_dh_org.csv\n"
      ]
     },
     "metadata": {},
     "output_type": "display_data"
    },
    {
     "data": {
      "text/html": [
       "<pre style=\"white-space:pre;overflow-x:auto;line-height:normal;font-family:Menlo,'DejaVu Sans Mono',consolas,'Courier New',monospace\">lposidon_coding_dh_org.csv\n",
       "</pre>\n"
      ],
      "text/plain": [
       "lposidon_coding_dh_org.csv\n"
      ]
     },
     "metadata": {},
     "output_type": "display_data"
    },
    {
     "data": {
      "text/html": [
       "<pre style=\"white-space:pre;overflow-x:auto;line-height:normal;font-family:Menlo,'DejaVu Sans Mono',consolas,'Courier New',monospace\">dfg-isad_coding_dh_org.csv\n",
       "</pre>\n"
      ],
      "text/plain": [
       "dfg-isad_coding_dh_org.csv\n"
      ]
     },
     "metadata": {},
     "output_type": "display_data"
    },
    {
     "data": {
      "text/html": [
       "<pre style=\"white-space:pre;overflow-x:auto;line-height:normal;font-family:Menlo,'DejaVu Sans Mono',consolas,'Courier New',monospace\">city-labs_coding_dh_org.csv\n",
       "</pre>\n"
      ],
      "text/plain": [
       "city-labs_coding_dh_org.csv\n"
      ]
     },
     "metadata": {},
     "output_type": "display_data"
    },
    {
     "data": {
      "text/html": [
       "<pre style=\"white-space:pre;overflow-x:auto;line-height:normal;font-family:Menlo,'DejaVu Sans Mono',consolas,'Courier New',monospace\">MycroftAI_coding_dh_org.csv\n",
       "</pre>\n"
      ],
      "text/plain": [
       "MycroftAI_coding_dh_org.csv\n"
      ]
     },
     "metadata": {},
     "output_type": "display_data"
    },
    {
     "data": {
      "text/html": [
       "<pre style=\"white-space:pre;overflow-x:auto;line-height:normal;font-family:Menlo,'DejaVu Sans Mono',consolas,'Courier New',monospace\">cyanoScope_coding_dh_org.csv\n",
       "</pre>\n"
      ],
      "text/plain": [
       "cyanoScope_coding_dh_org.csv\n"
      ]
     },
     "metadata": {},
     "output_type": "display_data"
    },
    {
     "data": {
      "text/html": [
       "<pre style=\"white-space:pre;overflow-x:auto;line-height:normal;font-family:Menlo,'DejaVu Sans Mono',consolas,'Courier New',monospace\">DHBern_coding_dh_org.csv\n",
       "</pre>\n"
      ],
      "text/plain": [
       "DHBern_coding_dh_org.csv\n"
      ]
     },
     "metadata": {},
     "output_type": "display_data"
    },
    {
     "data": {
      "text/html": [
       "<pre style=\"white-space:pre;overflow-x:auto;line-height:normal;font-family:Menlo,'DejaVu Sans Mono',consolas,'Courier New',monospace\">distributed-text-services_coding_dh_org.csv\n",
       "</pre>\n"
      ],
      "text/plain": [
       "distributed-text-services_coding_dh_org.csv\n"
      ]
     },
     "metadata": {},
     "output_type": "display_data"
    },
    {
     "data": {
      "text/html": [
       "<pre style=\"white-space:pre;overflow-x:auto;line-height:normal;font-family:Menlo,'DejaVu Sans Mono',consolas,'Courier New',monospace\">TORCH-TCN_coding_dh_org.csv\n",
       "</pre>\n"
      ],
      "text/plain": [
       "TORCH-TCN_coding_dh_org.csv\n"
      ]
     },
     "metadata": {},
     "output_type": "display_data"
    },
    {
     "data": {
      "text/html": [
       "<pre style=\"white-space:pre;overflow-x:auto;line-height:normal;font-family:Menlo,'DejaVu Sans Mono',consolas,'Courier New',monospace\">Psychtoolbox-3_coding_dh_org.csv\n",
       "</pre>\n"
      ],
      "text/plain": [
       "Psychtoolbox-3_coding_dh_org.csv\n"
      ]
     },
     "metadata": {},
     "output_type": "display_data"
    },
    {
     "data": {
      "text/html": [
       "<pre style=\"white-space:pre;overflow-x:auto;line-height:normal;font-family:Menlo,'DejaVu Sans Mono',consolas,'Courier New',monospace\">Curtin-Open-Knowledge-Initiative_coding_dh_org.csv\n",
       "</pre>\n"
      ],
      "text/plain": [
       "Curtin-Open-Knowledge-Initiative_coding_dh_org.csv\n"
      ]
     },
     "metadata": {},
     "output_type": "display_data"
    },
    {
     "data": {
      "text/html": [
       "<pre style=\"white-space:pre;overflow-x:auto;line-height:normal;font-family:Menlo,'DejaVu Sans Mono',consolas,'Courier New',monospace\">fashioning-circuits_coding_dh_org.csv\n",
       "</pre>\n"
      ],
      "text/plain": [
       "fashioning-circuits_coding_dh_org.csv\n"
      ]
     },
     "metadata": {},
     "output_type": "display_data"
    },
    {
     "data": {
      "text/html": [
       "<pre style=\"white-space:pre;overflow-x:auto;line-height:normal;font-family:Menlo,'DejaVu Sans Mono',consolas,'Courier New',monospace\">Middle-Turkic-Database_coding_dh_org.csv\n",
       "</pre>\n"
      ],
      "text/plain": [
       "Middle-Turkic-Database_coding_dh_org.csv\n"
      ]
     },
     "metadata": {},
     "output_type": "display_data"
    },
    {
     "data": {
      "text/html": [
       "<pre style=\"white-space:pre;overflow-x:auto;line-height:normal;font-family:Menlo,'DejaVu Sans Mono',consolas,'Courier New',monospace\">deutschestextarchiv_coding_dh_org.csv\n",
       "</pre>\n"
      ],
      "text/plain": [
       "deutschestextarchiv_coding_dh_org.csv\n"
      ]
     },
     "metadata": {},
     "output_type": "display_data"
    },
    {
     "data": {
      "text/html": [
       "<pre style=\"white-space:pre;overflow-x:auto;line-height:normal;font-family:Menlo,'DejaVu Sans Mono',consolas,'Courier New',monospace\">py5coding_coding_dh_org.csv\n",
       "</pre>\n"
      ],
      "text/plain": [
       "py5coding_coding_dh_org.csv\n"
      ]
     },
     "metadata": {},
     "output_type": "display_data"
    },
    {
     "data": {
      "text/html": [
       "<pre style=\"white-space:pre;overflow-x:auto;line-height:normal;font-family:Menlo,'DejaVu Sans Mono',consolas,'Courier New',monospace\">dswarm_coding_dh_org.csv\n",
       "</pre>\n"
      ],
      "text/plain": [
       "dswarm_coding_dh_org.csv\n"
      ]
     },
     "metadata": {},
     "output_type": "display_data"
    },
    {
     "data": {
      "text/html": [
       "<pre style=\"white-space:pre;overflow-x:auto;line-height:normal;font-family:Menlo,'DejaVu Sans Mono',consolas,'Courier New',monospace\">workshop-oc_coding_dh_org.csv\n",
       "</pre>\n"
      ],
      "text/plain": [
       "workshop-oc_coding_dh_org.csv\n"
      ]
     },
     "metadata": {},
     "output_type": "display_data"
    },
    {
     "data": {
      "text/html": [
       "<pre style=\"white-space:pre;overflow-x:auto;line-height:normal;font-family:Menlo,'DejaVu Sans Mono',consolas,'Courier New',monospace\">ArweaveTeam_coding_dh_org.csv\n",
       "</pre>\n"
      ],
      "text/plain": [
       "ArweaveTeam_coding_dh_org.csv\n"
      ]
     },
     "metadata": {},
     "output_type": "display_data"
    },
    {
     "data": {
      "text/html": [
       "<pre style=\"white-space:pre;overflow-x:auto;line-height:normal;font-family:Menlo,'DejaVu Sans Mono',consolas,'Courier New',monospace\">RISE-UNIBAS_coding_dh_org.csv\n",
       "</pre>\n"
      ],
      "text/plain": [
       "RISE-UNIBAS_coding_dh_org.csv\n"
      ]
     },
     "metadata": {},
     "output_type": "display_data"
    },
    {
     "data": {
      "text/html": [
       "<pre style=\"white-space:pre;overflow-x:auto;line-height:normal;font-family:Menlo,'DejaVu Sans Mono',consolas,'Courier New',monospace\">sidatasciencelab_coding_dh_org.csv\n",
       "</pre>\n"
      ],
      "text/plain": [
       "sidatasciencelab_coding_dh_org.csv\n"
      ]
     },
     "metadata": {},
     "output_type": "display_data"
    },
    {
     "data": {
      "text/html": [
       "<pre style=\"white-space:pre;overflow-x:auto;line-height:normal;font-family:Menlo,'DejaVu Sans Mono',consolas,'Courier New',monospace\">R-Ladies-Sao-Paulo_coding_dh_org.csv\n",
       "</pre>\n"
      ],
      "text/plain": [
       "R-Ladies-Sao-Paulo_coding_dh_org.csv\n"
      ]
     },
     "metadata": {},
     "output_type": "display_data"
    },
    {
     "data": {
      "text/html": [
       "<pre style=\"white-space:pre;overflow-x:auto;line-height:normal;font-family:Menlo,'DejaVu Sans Mono',consolas,'Courier New',monospace\">ml4ai_coding_dh_org.csv\n",
       "</pre>\n"
      ],
      "text/plain": [
       "ml4ai_coding_dh_org.csv\n"
      ]
     },
     "metadata": {},
     "output_type": "display_data"
    },
    {
     "data": {
      "text/html": [
       "<pre style=\"white-space:pre;overflow-x:auto;line-height:normal;font-family:Menlo,'DejaVu Sans Mono',consolas,'Courier New',monospace\">Dancing-Dragon-Prague_coding_dh_org.csv\n",
       "</pre>\n"
      ],
      "text/plain": [
       "Dancing-Dragon-Prague_coding_dh_org.csv\n"
      ]
     },
     "metadata": {},
     "output_type": "display_data"
    },
    {
     "data": {
      "text/html": [
       "<pre style=\"white-space:pre;overflow-x:auto;line-height:normal;font-family:Menlo,'DejaVu Sans Mono',consolas,'Courier New',monospace\">anthub-services_coding_dh_org.csv\n",
       "</pre>\n"
      ],
      "text/plain": [
       "anthub-services_coding_dh_org.csv\n"
      ]
     },
     "metadata": {},
     "output_type": "display_data"
    },
    {
     "data": {
      "text/html": [
       "<pre style=\"white-space:pre;overflow-x:auto;line-height:normal;font-family:Menlo,'DejaVu Sans Mono',consolas,'Courier New',monospace\">zsrlibrary_coding_dh_org.csv\n",
       "</pre>\n"
      ],
      "text/plain": [
       "zsrlibrary_coding_dh_org.csv\n"
      ]
     },
     "metadata": {},
     "output_type": "display_data"
    },
    {
     "data": {
      "text/html": [
       "<pre style=\"white-space:pre;overflow-x:auto;line-height:normal;font-family:Menlo,'DejaVu Sans Mono',consolas,'Courier New',monospace\">SPAROntologies_coding_dh_org.csv\n",
       "</pre>\n"
      ],
      "text/plain": [
       "SPAROntologies_coding_dh_org.csv\n"
      ]
     },
     "metadata": {},
     "output_type": "display_data"
    },
    {
     "data": {
      "text/html": [
       "<pre style=\"white-space:pre;overflow-x:auto;line-height:normal;font-family:Menlo,'DejaVu Sans Mono',consolas,'Courier New',monospace\">OpenScienceMOOC_coding_dh_org.csv\n",
       "</pre>\n"
      ],
      "text/plain": [
       "OpenScienceMOOC_coding_dh_org.csv\n"
      ]
     },
     "metadata": {},
     "output_type": "display_data"
    },
    {
     "data": {
      "text/html": [
       "<pre style=\"white-space:pre;overflow-x:auto;line-height:normal;font-family:Menlo,'DejaVu Sans Mono',consolas,'Courier New',monospace\">CEG-TU-Delft_coding_dh_org.csv\n",
       "</pre>\n"
      ],
      "text/plain": [
       "CEG-TU-Delft_coding_dh_org.csv\n"
      ]
     },
     "metadata": {},
     "output_type": "display_data"
    },
    {
     "data": {
      "text/html": [
       "<pre style=\"white-space:pre;overflow-x:auto;line-height:normal;font-family:Menlo,'DejaVu Sans Mono',consolas,'Courier New',monospace\">unsw-restech_coding_dh_org.csv\n",
       "</pre>\n"
      ],
      "text/plain": [
       "unsw-restech_coding_dh_org.csv\n"
      ]
     },
     "metadata": {},
     "output_type": "display_data"
    },
    {
     "data": {
      "text/html": [
       "<pre style=\"white-space:pre;overflow-x:auto;line-height:normal;font-family:Menlo,'DejaVu Sans Mono',consolas,'Courier New',monospace\">DomesticBeethoven_coding_dh_org.csv\n",
       "</pre>\n"
      ],
      "text/plain": [
       "DomesticBeethoven_coding_dh_org.csv\n"
      ]
     },
     "metadata": {},
     "output_type": "display_data"
    },
    {
     "data": {
      "text/html": [
       "<pre style=\"white-space:pre;overflow-x:auto;line-height:normal;font-family:Menlo,'DejaVu Sans Mono',consolas,'Courier New',monospace\">umd-mith_coding_dh_org.csv\n",
       "</pre>\n"
      ],
      "text/plain": [
       "umd-mith_coding_dh_org.csv\n"
      ]
     },
     "metadata": {},
     "output_type": "display_data"
    },
    {
     "data": {
      "text/html": [
       "<pre style=\"white-space:pre;overflow-x:auto;line-height:normal;font-family:Menlo,'DejaVu Sans Mono',consolas,'Courier New',monospace\">Sastra-siahaan_coding_dh_org.csv\n",
       "</pre>\n"
      ],
      "text/plain": [
       "Sastra-siahaan_coding_dh_org.csv\n"
      ]
     },
     "metadata": {},
     "output_type": "display_data"
    },
    {
     "data": {
      "text/html": [
       "<pre style=\"white-space:pre;overflow-x:auto;line-height:normal;font-family:Menlo,'DejaVu Sans Mono',consolas,'Courier New',monospace\">LoyolaChicagoBooks_coding_dh_org.csv\n",
       "</pre>\n"
      ],
      "text/plain": [
       "LoyolaChicagoBooks_coding_dh_org.csv\n"
      ]
     },
     "metadata": {},
     "output_type": "display_data"
    },
    {
     "data": {
      "text/html": [
       "<pre style=\"white-space:pre;overflow-x:auto;line-height:normal;font-family:Menlo,'DejaVu Sans Mono',consolas,'Courier New',monospace\">dollzmania_coding_dh_org.csv\n",
       "</pre>\n"
      ],
      "text/plain": [
       "dollzmania_coding_dh_org.csv\n"
      ]
     },
     "metadata": {},
     "output_type": "display_data"
    },
    {
     "data": {
      "text/html": [
       "<pre style=\"white-space:pre;overflow-x:auto;line-height:normal;font-family:Menlo,'DejaVu Sans Mono',consolas,'Courier New',monospace\">oduwsdl_coding_dh_org.csv\n",
       "</pre>\n"
      ],
      "text/plain": [
       "oduwsdl_coding_dh_org.csv\n"
      ]
     },
     "metadata": {},
     "output_type": "display_data"
    },
    {
     "data": {
      "text/html": [
       "<pre style=\"white-space:pre;overflow-x:auto;line-height:normal;font-family:Menlo,'DejaVu Sans Mono',consolas,'Courier New',monospace\">eNote-GmbH_coding_dh_org.csv\n",
       "</pre>\n"
      ],
      "text/plain": [
       "eNote-GmbH_coding_dh_org.csv\n"
      ]
     },
     "metadata": {},
     "output_type": "display_data"
    },
    {
     "data": {
      "text/html": [
       "<pre style=\"white-space:pre;overflow-x:auto;line-height:normal;font-family:Menlo,'DejaVu Sans Mono',consolas,'Courier New',monospace\">FloridaTech_coding_dh_org.csv\n",
       "</pre>\n"
      ],
      "text/plain": [
       "FloridaTech_coding_dh_org.csv\n"
      ]
     },
     "metadata": {},
     "output_type": "display_data"
    },
    {
     "data": {
      "text/html": [
       "<pre style=\"white-space:pre;overflow-x:auto;line-height:normal;font-family:Menlo,'DejaVu Sans Mono',consolas,'Courier New',monospace\">Pontedatos_coding_dh_org.csv\n",
       "</pre>\n"
      ],
      "text/plain": [
       "Pontedatos_coding_dh_org.csv\n"
      ]
     },
     "metadata": {},
     "output_type": "display_data"
    },
    {
     "data": {
      "text/html": [
       "<pre style=\"white-space:pre;overflow-x:auto;line-height:normal;font-family:Menlo,'DejaVu Sans Mono',consolas,'Courier New',monospace\">BL-Labs_coding_dh_org.csv\n",
       "</pre>\n"
      ],
      "text/plain": [
       "BL-Labs_coding_dh_org.csv\n"
      ]
     },
     "metadata": {},
     "output_type": "display_data"
    },
    {
     "data": {
      "text/html": [
       "<pre style=\"white-space:pre;overflow-x:auto;line-height:normal;font-family:Menlo,'DejaVu Sans Mono',consolas,'Courier New',monospace\">whatevery1says_coding_dh_org.csv\n",
       "</pre>\n"
      ],
      "text/plain": [
       "whatevery1says_coding_dh_org.csv\n"
      ]
     },
     "metadata": {},
     "output_type": "display_data"
    },
    {
     "data": {
      "text/html": [
       "<pre style=\"white-space:pre;overflow-x:auto;line-height:normal;font-family:Menlo,'DejaVu Sans Mono',consolas,'Courier New',monospace\">JuliaEpi_coding_dh_org.csv\n",
       "</pre>\n"
      ],
      "text/plain": [
       "JuliaEpi_coding_dh_org.csv\n"
      ]
     },
     "metadata": {},
     "output_type": "display_data"
    },
    {
     "data": {
      "text/html": [
       "<pre style=\"white-space:pre;overflow-x:auto;line-height:normal;font-family:Menlo,'DejaVu Sans Mono',consolas,'Courier New',monospace\">MicroPasts_coding_dh_org.csv\n",
       "</pre>\n"
      ],
      "text/plain": [
       "MicroPasts_coding_dh_org.csv\n"
      ]
     },
     "metadata": {},
     "output_type": "display_data"
    },
    {
     "data": {
      "text/html": [
       "<pre style=\"white-space:pre;overflow-x:auto;line-height:normal;font-family:Menlo,'DejaVu Sans Mono',consolas,'Courier New',monospace\">earlynovels_coding_dh_org.csv\n",
       "</pre>\n"
      ],
      "text/plain": [
       "earlynovels_coding_dh_org.csv\n"
      ]
     },
     "metadata": {},
     "output_type": "display_data"
    },
    {
     "data": {
      "text/html": [
       "<pre style=\"white-space:pre;overflow-x:auto;line-height:normal;font-family:Menlo,'DejaVu Sans Mono',consolas,'Courier New',monospace\">localpreservation_coding_dh_org.csv\n",
       "</pre>\n"
      ],
      "text/plain": [
       "localpreservation_coding_dh_org.csv\n"
      ]
     },
     "metadata": {},
     "output_type": "display_data"
    },
    {
     "data": {
      "text/html": [
       "<pre style=\"white-space:pre;overflow-x:auto;line-height:normal;font-family:Menlo,'DejaVu Sans Mono',consolas,'Courier New',monospace\">idrhku_coding_dh_org.csv\n",
       "</pre>\n"
      ],
      "text/plain": [
       "idrhku_coding_dh_org.csv\n"
      ]
     },
     "metadata": {},
     "output_type": "display_data"
    },
    {
     "data": {
      "text/html": [
       "<pre style=\"white-space:pre;overflow-x:auto;line-height:normal;font-family:Menlo,'DejaVu Sans Mono',consolas,'Courier New',monospace\">Cuis-Smalltalk_coding_dh_org.csv\n",
       "</pre>\n"
      ],
      "text/plain": [
       "Cuis-Smalltalk_coding_dh_org.csv\n"
      ]
     },
     "metadata": {},
     "output_type": "display_data"
    },
    {
     "data": {
      "text/html": [
       "<pre style=\"white-space:pre;overflow-x:auto;line-height:normal;font-family:Menlo,'DejaVu Sans Mono',consolas,'Courier New',monospace\">GutenbergSource_coding_dh_org.csv\n",
       "</pre>\n"
      ],
      "text/plain": [
       "GutenbergSource_coding_dh_org.csv\n"
      ]
     },
     "metadata": {},
     "output_type": "display_data"
    },
    {
     "data": {
      "text/html": [
       "<pre style=\"white-space:pre;overflow-x:auto;line-height:normal;font-family:Menlo,'DejaVu Sans Mono',consolas,'Courier New',monospace\">BeethovensWerkstatt_coding_dh_org.csv\n",
       "</pre>\n"
      ],
      "text/plain": [
       "BeethovensWerkstatt_coding_dh_org.csv\n"
      ]
     },
     "metadata": {},
     "output_type": "display_data"
    },
    {
     "data": {
      "text/html": [
       "<pre style=\"white-space:pre;overflow-x:auto;line-height:normal;font-family:Menlo,'DejaVu Sans Mono',consolas,'Courier New',monospace\">ComputerVision4DigitalHeritage_coding_dh_org.csv\n",
       "</pre>\n"
      ],
      "text/plain": [
       "ComputerVision4DigitalHeritage_coding_dh_org.csv\n"
      ]
     },
     "metadata": {},
     "output_type": "display_data"
    },
    {
     "data": {
      "text/html": [
       "<pre style=\"white-space:pre;overflow-x:auto;line-height:normal;font-family:Menlo,'DejaVu Sans Mono',consolas,'Courier New',monospace\">newsreader_coding_dh_org.csv\n",
       "</pre>\n"
      ],
      "text/plain": [
       "newsreader_coding_dh_org.csv\n"
      ]
     },
     "metadata": {},
     "output_type": "display_data"
    },
    {
     "data": {
      "text/html": [
       "<pre style=\"white-space:pre;overflow-x:auto;line-height:normal;font-family:Menlo,'DejaVu Sans Mono',consolas,'Courier New',monospace\">foundation-int-tech-team_coding_dh_org.csv\n",
       "</pre>\n"
      ],
      "text/plain": [
       "foundation-int-tech-team_coding_dh_org.csv\n"
      ]
     },
     "metadata": {},
     "output_type": "display_data"
    },
    {
     "data": {
      "text/html": [
       "<pre style=\"white-space:pre;overflow-x:auto;line-height:normal;font-family:Menlo,'DejaVu Sans Mono',consolas,'Courier New',monospace\">OpenMedFr_coding_dh_org.csv\n",
       "</pre>\n"
      ],
      "text/plain": [
       "OpenMedFr_coding_dh_org.csv\n"
      ]
     },
     "metadata": {},
     "output_type": "display_data"
    },
    {
     "data": {
      "text/html": [
       "<pre style=\"white-space:pre;overflow-x:auto;line-height:normal;font-family:Menlo,'DejaVu Sans Mono',consolas,'Courier New',monospace\">dracor-org_coding_dh_org.csv\n",
       "</pre>\n"
      ],
      "text/plain": [
       "dracor-org_coding_dh_org.csv\n"
      ]
     },
     "metadata": {},
     "output_type": "display_data"
    },
    {
     "data": {
      "text/html": [
       "<pre style=\"white-space:pre;overflow-x:auto;line-height:normal;font-family:Menlo,'DejaVu Sans Mono',consolas,'Courier New',monospace\">SIBarcodeNetwork_coding_dh_org.csv\n",
       "</pre>\n"
      ],
      "text/plain": [
       "SIBarcodeNetwork_coding_dh_org.csv\n"
      ]
     },
     "metadata": {},
     "output_type": "display_data"
    },
    {
     "data": {
      "text/html": [
       "<pre style=\"white-space:pre;overflow-x:auto;line-height:normal;font-family:Menlo,'DejaVu Sans Mono',consolas,'Courier New',monospace\">Sastra-Mesin_coding_dh_org.csv\n",
       "</pre>\n"
      ],
      "text/plain": [
       "Sastra-Mesin_coding_dh_org.csv\n"
      ]
     },
     "metadata": {},
     "output_type": "display_data"
    },
    {
     "data": {
      "text/html": [
       "<pre style=\"white-space:pre;overflow-x:auto;line-height:normal;font-family:Menlo,'DejaVu Sans Mono',consolas,'Courier New',monospace\">sastraing_coding_dh_org.csv\n",
       "</pre>\n"
      ],
      "text/plain": [
       "sastraing_coding_dh_org.csv\n"
      ]
     },
     "metadata": {},
     "output_type": "display_data"
    },
    {
     "data": {
      "text/html": [
       "<pre style=\"white-space:pre;overflow-x:auto;line-height:normal;font-family:Menlo,'DejaVu Sans Mono',consolas,'Courier New',monospace\">DMSTech_coding_dh_org.csv\n",
       "</pre>\n"
      ],
      "text/plain": [
       "DMSTech_coding_dh_org.csv\n"
      ]
     },
     "metadata": {},
     "output_type": "display_data"
    },
    {
     "data": {
      "text/html": [
       "<pre style=\"white-space:pre;overflow-x:auto;line-height:normal;font-family:Menlo,'DejaVu Sans Mono',consolas,'Courier New',monospace\">MQ-FOAR705_coding_dh_org.csv\n",
       "</pre>\n"
      ],
      "text/plain": [
       "MQ-FOAR705_coding_dh_org.csv\n"
      ]
     },
     "metadata": {},
     "output_type": "display_data"
    },
    {
     "data": {
      "text/html": [
       "<pre style=\"white-space:pre;overflow-x:auto;line-height:normal;font-family:Menlo,'DejaVu Sans Mono',consolas,'Courier New',monospace\">polet500_coding_dh_org.csv\n",
       "</pre>\n"
      ],
      "text/plain": [
       "polet500_coding_dh_org.csv\n"
      ]
     },
     "metadata": {},
     "output_type": "display_data"
    },
    {
     "data": {
      "text/html": [
       "<pre style=\"white-space:pre;overflow-x:auto;line-height:normal;font-family:Menlo,'DejaVu Sans Mono',consolas,'Courier New',monospace\">anthu15813_coding_dh_org.csv\n",
       "</pre>\n"
      ],
      "text/plain": [
       "anthu15813_coding_dh_org.csv\n"
      ]
     },
     "metadata": {},
     "output_type": "display_data"
    },
    {
     "data": {
      "text/html": [
       "<pre style=\"white-space:pre;overflow-x:auto;line-height:normal;font-family:Menlo,'DejaVu Sans Mono',consolas,'Courier New',monospace\">boettiger-lab_coding_dh_org.csv\n",
       "</pre>\n"
      ],
      "text/plain": [
       "boettiger-lab_coding_dh_org.csv\n"
      ]
     },
     "metadata": {},
     "output_type": "display_data"
    },
    {
     "data": {
      "text/html": [
       "<pre style=\"white-space:pre;overflow-x:auto;line-height:normal;font-family:Menlo,'DejaVu Sans Mono',consolas,'Courier New',monospace\">cs50_coding_dh_org.csv\n",
       "</pre>\n"
      ],
      "text/plain": [
       "cs50_coding_dh_org.csv\n"
      ]
     },
     "metadata": {},
     "output_type": "display_data"
    },
    {
     "data": {
      "text/html": [
       "<pre style=\"white-space:pre;overflow-x:auto;line-height:normal;font-family:Menlo,'DejaVu Sans Mono',consolas,'Courier New',monospace\">CLARIN-PL_coding_dh_org.csv\n",
       "</pre>\n"
      ],
      "text/plain": [
       "CLARIN-PL_coding_dh_org.csv\n"
      ]
     },
     "metadata": {},
     "output_type": "display_data"
    },
    {
     "data": {
      "text/html": [
       "<pre style=\"white-space:pre;overflow-x:auto;line-height:normal;font-family:Menlo,'DejaVu Sans Mono',consolas,'Courier New',monospace\">BotHoster-batuhantrkgl_coding_dh_org.csv\n",
       "</pre>\n"
      ],
      "text/plain": [
       "BotHoster-batuhantrkgl_coding_dh_org.csv\n"
      ]
     },
     "metadata": {},
     "output_type": "display_data"
    },
    {
     "data": {
      "text/html": [
       "<pre style=\"white-space:pre;overflow-x:auto;line-height:normal;font-family:Menlo,'DejaVu Sans Mono',consolas,'Courier New',monospace\">ebola-crowdsource_coding_dh_org.csv\n",
       "</pre>\n"
      ],
      "text/plain": [
       "ebola-crowdsource_coding_dh_org.csv\n"
      ]
     },
     "metadata": {},
     "output_type": "display_data"
    },
    {
     "data": {
      "text/html": [
       "<pre style=\"white-space:pre;overflow-x:auto;line-height:normal;font-family:Menlo,'DejaVu Sans Mono',consolas,'Courier New',monospace\">papers-we-love_coding_dh_org.csv\n",
       "</pre>\n"
      ],
      "text/plain": [
       "papers-we-love_coding_dh_org.csv\n"
      ]
     },
     "metadata": {},
     "output_type": "display_data"
    },
    {
     "data": {
      "text/html": [
       "<pre style=\"white-space:pre;overflow-x:auto;line-height:normal;font-family:Menlo,'DejaVu Sans Mono',consolas,'Courier New',monospace\">theory-in-dh_coding_dh_org.csv\n",
       "</pre>\n"
      ],
      "text/plain": [
       "theory-in-dh_coding_dh_org.csv\n"
      ]
     },
     "metadata": {},
     "output_type": "display_data"
    },
    {
     "data": {
      "text/html": [
       "<pre style=\"white-space:pre;overflow-x:auto;line-height:normal;font-family:Menlo,'DejaVu Sans Mono',consolas,'Courier New',monospace\">HarvardX_coding_dh_org.csv\n",
       "</pre>\n"
      ],
      "text/plain": [
       "HarvardX_coding_dh_org.csv\n"
      ]
     },
     "metadata": {},
     "output_type": "display_data"
    },
    {
     "data": {
      "text/html": [
       "<pre style=\"white-space:pre;overflow-x:auto;line-height:normal;font-family:Menlo,'DejaVu Sans Mono',consolas,'Courier New',monospace\">OpenArabicPE_coding_dh_org.csv\n",
       "</pre>\n"
      ],
      "text/plain": [
       "OpenArabicPE_coding_dh_org.csv\n"
      ]
     },
     "metadata": {},
     "output_type": "display_data"
    },
    {
     "data": {
      "text/html": [
       "<pre style=\"white-space:pre;overflow-x:auto;line-height:normal;font-family:Menlo,'DejaVu Sans Mono',consolas,'Courier New',monospace\">cyberwizardinstitute_coding_dh_org.csv\n",
       "</pre>\n"
      ],
      "text/plain": [
       "cyberwizardinstitute_coding_dh_org.csv\n"
      ]
     },
     "metadata": {},
     "output_type": "display_data"
    },
    {
     "data": {
      "text/html": [
       "<pre style=\"white-space:pre;overflow-x:auto;line-height:normal;font-family:Menlo,'DejaVu Sans Mono',consolas,'Courier New',monospace\">mattermost_coding_dh_org.csv\n",
       "</pre>\n"
      ],
      "text/plain": [
       "mattermost_coding_dh_org.csv\n"
      ]
     },
     "metadata": {},
     "output_type": "display_data"
    },
    {
     "data": {
      "text/html": [
       "<pre style=\"white-space:pre;overflow-x:auto;line-height:normal;font-family:Menlo,'DejaVu Sans Mono',consolas,'Courier New',monospace\">SocioProphet_coding_dh_org.csv\n",
       "</pre>\n"
      ],
      "text/plain": [
       "SocioProphet_coding_dh_org.csv\n"
      ]
     },
     "metadata": {},
     "output_type": "display_data"
    },
    {
     "data": {
      "text/html": [
       "<pre style=\"white-space:pre;overflow-x:auto;line-height:normal;font-family:Menlo,'DejaVu Sans Mono',consolas,'Courier New',monospace\">typecho-fans_coding_dh_org.csv\n",
       "</pre>\n"
      ],
      "text/plain": [
       "typecho-fans_coding_dh_org.csv\n"
      ]
     },
     "metadata": {},
     "output_type": "display_data"
    },
    {
     "data": {
      "text/html": [
       "<pre style=\"white-space:pre;overflow-x:auto;line-height:normal;font-family:Menlo,'DejaVu Sans Mono',consolas,'Courier New',monospace\">Bothongo-Group_coding_dh_org.csv\n",
       "</pre>\n"
      ],
      "text/plain": [
       "Bothongo-Group_coding_dh_org.csv\n"
      ]
     },
     "metadata": {},
     "output_type": "display_data"
    },
    {
     "data": {
      "text/html": [
       "<pre style=\"white-space:pre;overflow-x:auto;line-height:normal;font-family:Menlo,'DejaVu Sans Mono',consolas,'Courier New',monospace\">icl_coding_dh_org.csv\n",
       "</pre>\n"
      ],
      "text/plain": [
       "icl_coding_dh_org.csv\n"
      ]
     },
     "metadata": {},
     "output_type": "display_data"
    },
    {
     "data": {
      "text/html": [
       "<pre style=\"white-space:pre;overflow-x:auto;line-height:normal;font-family:Menlo,'DejaVu Sans Mono',consolas,'Courier New',monospace\">BothoHacks_coding_dh_org.csv\n",
       "</pre>\n"
      ],
      "text/plain": [
       "BothoHacks_coding_dh_org.csv\n"
      ]
     },
     "metadata": {},
     "output_type": "display_data"
    },
    {
     "data": {
      "text/html": [
       "<pre style=\"white-space:pre;overflow-x:auto;line-height:normal;font-family:Menlo,'DejaVu Sans Mono',consolas,'Courier New',monospace\">inn-ac_coding_dh_org.csv\n",
       "</pre>\n"
      ],
      "text/plain": [
       "inn-ac_coding_dh_org.csv\n"
      ]
     },
     "metadata": {},
     "output_type": "display_data"
    },
    {
     "data": {
      "text/html": [
       "<pre style=\"white-space:pre;overflow-x:auto;line-height:normal;font-family:Menlo,'DejaVu Sans Mono',consolas,'Courier New',monospace\">racket_coding_dh_org.csv\n",
       "</pre>\n"
      ],
      "text/plain": [
       "racket_coding_dh_org.csv\n"
      ]
     },
     "metadata": {},
     "output_type": "display_data"
    },
    {
     "data": {
      "text/html": [
       "<pre style=\"white-space:pre;overflow-x:auto;line-height:normal;font-family:Menlo,'DejaVu Sans Mono',consolas,'Courier New',monospace\">mastotron_coding_dh_org.csv\n",
       "</pre>\n"
      ],
      "text/plain": [
       "mastotron_coding_dh_org.csv\n"
      ]
     },
     "metadata": {},
     "output_type": "display_data"
    },
    {
     "data": {
      "text/html": [
       "<pre style=\"white-space:pre;overflow-x:auto;line-height:normal;font-family:Menlo,'DejaVu Sans Mono',consolas,'Courier New',monospace\">ds-dti_coding_dh_org.csv\n",
       "</pre>\n"
      ],
      "text/plain": [
       "ds-dti_coding_dh_org.csv\n"
      ]
     },
     "metadata": {},
     "output_type": "display_data"
    },
    {
     "data": {
      "text/html": [
       "<pre style=\"white-space:pre;overflow-x:auto;line-height:normal;font-family:Menlo,'DejaVu Sans Mono',consolas,'Courier New',monospace\">literarylab_coding_dh_org.csv\n",
       "</pre>\n"
      ],
      "text/plain": [
       "literarylab_coding_dh_org.csv\n"
      ]
     },
     "metadata": {},
     "output_type": "display_data"
    },
    {
     "data": {
      "text/html": [
       "<pre style=\"white-space:pre;overflow-x:auto;line-height:normal;font-family:Menlo,'DejaVu Sans Mono',consolas,'Courier New',monospace\">dhd-ag-zz_coding_dh_org.csv\n",
       "</pre>\n"
      ],
      "text/plain": [
       "dhd-ag-zz_coding_dh_org.csv\n"
      ]
     },
     "metadata": {},
     "output_type": "display_data"
    },
    {
     "data": {
      "text/html": [
       "<pre style=\"white-space:pre;overflow-x:auto;line-height:normal;font-family:Menlo,'DejaVu Sans Mono',consolas,'Courier New',monospace\">igdj_coding_dh_org.csv\n",
       "</pre>\n"
      ],
      "text/plain": [
       "igdj_coding_dh_org.csv\n"
      ]
     },
     "metadata": {},
     "output_type": "display_data"
    },
    {
     "data": {
      "text/html": [
       "<pre style=\"white-space:pre;overflow-x:auto;line-height:normal;font-family:Menlo,'DejaVu Sans Mono',consolas,'Courier New',monospace\">minicomp_coding_dh_org.csv\n",
       "</pre>\n"
      ],
      "text/plain": [
       "minicomp_coding_dh_org.csv\n"
      ]
     },
     "metadata": {},
     "output_type": "display_data"
    },
    {
     "data": {
      "text/html": [
       "<pre style=\"white-space:pre;overflow-x:auto;line-height:normal;font-family:Menlo,'DejaVu Sans Mono',consolas,'Courier New',monospace\">r-hub_coding_dh_org.csv\n",
       "</pre>\n"
      ],
      "text/plain": [
       "r-hub_coding_dh_org.csv\n"
      ]
     },
     "metadata": {},
     "output_type": "display_data"
    },
    {
     "data": {
      "text/html": [
       "<pre style=\"white-space:pre;overflow-x:auto;line-height:normal;font-family:Menlo,'DejaVu Sans Mono',consolas,'Courier New',monospace\">ucla-drc_coding_dh_org.csv\n",
       "</pre>\n"
      ],
      "text/plain": [
       "ucla-drc_coding_dh_org.csv\n"
      ]
     },
     "metadata": {},
     "output_type": "display_data"
    },
    {
     "data": {
      "text/html": [
       "<pre style=\"white-space:pre;overflow-x:auto;line-height:normal;font-family:Menlo,'DejaVu Sans Mono',consolas,'Courier New',monospace\">rOpenHealth_coding_dh_org.csv\n",
       "</pre>\n"
      ],
      "text/plain": [
       "rOpenHealth_coding_dh_org.csv\n"
      ]
     },
     "metadata": {},
     "output_type": "display_data"
    },
    {
     "data": {
      "text/html": [
       "<pre style=\"white-space:pre;overflow-x:auto;line-height:normal;font-family:Menlo,'DejaVu Sans Mono',consolas,'Courier New',monospace\">fair-workflows_coding_dh_org.csv\n",
       "</pre>\n"
      ],
      "text/plain": [
       "fair-workflows_coding_dh_org.csv\n"
      ]
     },
     "metadata": {},
     "output_type": "display_data"
    },
    {
     "data": {
      "text/html": [
       "<pre style=\"white-space:pre;overflow-x:auto;line-height:normal;font-family:Menlo,'DejaVu Sans Mono',consolas,'Courier New',monospace\">cienciadedadosnaep_coding_dh_org.csv\n",
       "</pre>\n"
      ],
      "text/plain": [
       "cienciadedadosnaep_coding_dh_org.csv\n"
      ]
     },
     "metadata": {},
     "output_type": "display_data"
    },
    {
     "data": {
      "text/html": [
       "<pre style=\"white-space:pre;overflow-x:auto;line-height:normal;font-family:Menlo,'DejaVu Sans Mono',consolas,'Courier New',monospace\">corpusnormae_coding_dh_org.csv\n",
       "</pre>\n"
      ],
      "text/plain": [
       "corpusnormae_coding_dh_org.csv\n"
      ]
     },
     "metadata": {},
     "output_type": "display_data"
    },
    {
     "data": {
      "text/html": [
       "<pre style=\"white-space:pre;overflow-x:auto;line-height:normal;font-family:Menlo,'DejaVu Sans Mono',consolas,'Courier New',monospace\">saw-leipzig_coding_dh_org.csv\n",
       "</pre>\n"
      ],
      "text/plain": [
       "saw-leipzig_coding_dh_org.csv\n"
      ]
     },
     "metadata": {},
     "output_type": "display_data"
    },
    {
     "data": {
      "text/html": [
       "<pre style=\"white-space:pre;overflow-x:auto;line-height:normal;font-family:Menlo,'DejaVu Sans Mono',consolas,'Courier New',monospace\">trix-uta_coding_dh_org.csv\n",
       "</pre>\n"
      ],
      "text/plain": [
       "trix-uta_coding_dh_org.csv\n"
      ]
     },
     "metadata": {},
     "output_type": "display_data"
    },
    {
     "data": {
      "text/html": [
       "<pre style=\"white-space:pre;overflow-x:auto;line-height:normal;font-family:Menlo,'DejaVu Sans Mono',consolas,'Courier New',monospace\">r-universe_coding_dh_org.csv\n",
       "</pre>\n"
      ],
      "text/plain": [
       "r-universe_coding_dh_org.csv\n"
      ]
     },
     "metadata": {},
     "output_type": "display_data"
    },
    {
     "data": {
      "text/html": [
       "<pre style=\"white-space:pre;overflow-x:auto;line-height:normal;font-family:Menlo,'DejaVu Sans Mono',consolas,'Courier New',monospace\">ldbase_coding_dh_org.csv\n",
       "</pre>\n"
      ],
      "text/plain": [
       "ldbase_coding_dh_org.csv\n"
      ]
     },
     "metadata": {},
     "output_type": "display_data"
    },
    {
     "data": {
      "text/html": [
       "<pre style=\"white-space:pre;overflow-x:auto;line-height:normal;font-family:Menlo,'DejaVu Sans Mono',consolas,'Courier New',monospace\">wilkens-group_coding_dh_org.csv\n",
       "</pre>\n"
      ],
      "text/plain": [
       "wilkens-group_coding_dh_org.csv\n"
      ]
     },
     "metadata": {},
     "output_type": "display_data"
    },
    {
     "data": {
      "text/html": [
       "<pre style=\"white-space:pre;overflow-x:auto;line-height:normal;font-family:Menlo,'DejaVu Sans Mono',consolas,'Courier New',monospace\">hypothesis_coding_dh_org.csv\n",
       "</pre>\n"
      ],
      "text/plain": [
       "hypothesis_coding_dh_org.csv\n"
      ]
     },
     "metadata": {},
     "output_type": "display_data"
    },
    {
     "data": {
      "text/html": [
       "<pre style=\"white-space:pre;overflow-x:auto;line-height:normal;font-family:Menlo,'DejaVu Sans Mono',consolas,'Courier New',monospace\">rit-sse_coding_dh_org.csv\n",
       "</pre>\n"
      ],
      "text/plain": [
       "rit-sse_coding_dh_org.csv\n"
      ]
     },
     "metadata": {},
     "output_type": "display_data"
    },
    {
     "data": {
      "text/html": [
       "<pre style=\"white-space:pre;overflow-x:auto;line-height:normal;font-family:Menlo,'DejaVu Sans Mono',consolas,'Courier New',monospace\">designenrecherche_coding_dh_org.csv\n",
       "</pre>\n"
      ],
      "text/plain": [
       "designenrecherche_coding_dh_org.csv\n"
      ]
     },
     "metadata": {},
     "output_type": "display_data"
    },
    {
     "data": {
      "text/html": [
       "<pre style=\"white-space:pre;overflow-x:auto;line-height:normal;font-family:Menlo,'DejaVu Sans Mono',consolas,'Courier New',monospace\">p3lab_coding_dh_org.csv\n",
       "</pre>\n"
      ],
      "text/plain": [
       "p3lab_coding_dh_org.csv\n"
      ]
     },
     "metadata": {},
     "output_type": "display_data"
    },
    {
     "data": {
      "text/html": [
       "<pre style=\"white-space:pre;overflow-x:auto;line-height:normal;font-family:Menlo,'DejaVu Sans Mono',consolas,'Courier New',monospace\">project-miracl_coding_dh_org.csv\n",
       "</pre>\n"
      ],
      "text/plain": [
       "project-miracl_coding_dh_org.csv\n"
      ]
     },
     "metadata": {},
     "output_type": "display_data"
    },
    {
     "data": {
      "text/html": [
       "<pre style=\"white-space:pre;overflow-x:auto;line-height:normal;font-family:Menlo,'DejaVu Sans Mono',consolas,'Courier New',monospace\">LoyolaChicagoMetrics_coding_dh_org.csv\n",
       "</pre>\n"
      ],
      "text/plain": [
       "LoyolaChicagoMetrics_coding_dh_org.csv\n"
      ]
     },
     "metadata": {},
     "output_type": "display_data"
    },
    {
     "data": {
      "text/html": [
       "<pre style=\"white-space:pre;overflow-x:auto;line-height:normal;font-family:Menlo,'DejaVu Sans Mono',consolas,'Courier New',monospace\">helix-editor_coding_dh_org.csv\n",
       "</pre>\n"
      ],
      "text/plain": [
       "helix-editor_coding_dh_org.csv\n"
      ]
     },
     "metadata": {},
     "output_type": "display_data"
    },
    {
     "data": {
      "text/html": [
       "<pre style=\"white-space:pre;overflow-x:auto;line-height:normal;font-family:Menlo,'DejaVu Sans Mono',consolas,'Courier New',monospace\">Curso-de-Historia-Unilab-Males_coding_dh_org.csv\n",
       "</pre>\n"
      ],
      "text/plain": [
       "Curso-de-Historia-Unilab-Males_coding_dh_org.csv\n"
      ]
     },
     "metadata": {},
     "output_type": "display_data"
    },
    {
     "data": {
      "text/html": [
       "<pre style=\"white-space:pre;overflow-x:auto;line-height:normal;font-family:Menlo,'DejaVu Sans Mono',consolas,'Courier New',monospace\">INKEca_coding_dh_org.csv\n",
       "</pre>\n"
      ],
      "text/plain": [
       "INKEca_coding_dh_org.csv\n"
      ]
     },
     "metadata": {},
     "output_type": "display_data"
    },
    {
     "data": {
      "text/html": [
       "<pre style=\"white-space:pre;overflow-x:auto;line-height:normal;font-family:Menlo,'DejaVu Sans Mono',consolas,'Courier New',monospace\">CONAHCYT_coding_dh_org.csv\n",
       "</pre>\n"
      ],
      "text/plain": [
       "CONAHCYT_coding_dh_org.csv\n"
      ]
     },
     "metadata": {},
     "output_type": "display_data"
    },
    {
     "data": {
      "text/html": [
       "<pre style=\"white-space:pre;overflow-x:auto;line-height:normal;font-family:Menlo,'DejaVu Sans Mono',consolas,'Courier New',monospace\">ucberkeley_coding_dh_org.csv\n",
       "</pre>\n"
      ],
      "text/plain": [
       "ucberkeley_coding_dh_org.csv\n"
      ]
     },
     "metadata": {},
     "output_type": "display_data"
    },
    {
     "data": {
      "text/html": [
       "<pre style=\"white-space:pre;overflow-x:auto;line-height:normal;font-family:Menlo,'DejaVu Sans Mono',consolas,'Courier New',monospace\">cmc-corpora_coding_dh_org.csv\n",
       "</pre>\n"
      ],
      "text/plain": [
       "cmc-corpora_coding_dh_org.csv\n"
      ]
     },
     "metadata": {},
     "output_type": "display_data"
    },
    {
     "data": {
      "text/html": [
       "<pre style=\"white-space:pre;overflow-x:auto;line-height:normal;font-family:Menlo,'DejaVu Sans Mono',consolas,'Courier New',monospace\">RSE-Midlands_coding_dh_org.csv\n",
       "</pre>\n"
      ],
      "text/plain": [
       "RSE-Midlands_coding_dh_org.csv\n"
      ]
     },
     "metadata": {},
     "output_type": "display_data"
    },
    {
     "data": {
      "text/html": [
       "<pre style=\"white-space:pre;overflow-x:auto;line-height:normal;font-family:Menlo,'DejaVu Sans Mono',consolas,'Courier New',monospace\">nomic-ai_coding_dh_org.csv\n",
       "</pre>\n"
      ],
      "text/plain": [
       "nomic-ai_coding_dh_org.csv\n"
      ]
     },
     "metadata": {},
     "output_type": "display_data"
    },
    {
     "data": {
      "text/html": [
       "<pre style=\"white-space:pre;overflow-x:auto;line-height:normal;font-family:Menlo,'DejaVu Sans Mono',consolas,'Courier New',monospace\">LingConLab_coding_dh_org.csv\n",
       "</pre>\n"
      ],
      "text/plain": [
       "LingConLab_coding_dh_org.csv\n"
      ]
     },
     "metadata": {},
     "output_type": "display_data"
    },
    {
     "data": {
      "text/html": [
       "<pre style=\"white-space:pre;overflow-x:auto;line-height:normal;font-family:Menlo,'DejaVu Sans Mono',consolas,'Courier New',monospace\">HackFSU_coding_dh_org.csv\n",
       "</pre>\n"
      ],
      "text/plain": [
       "HackFSU_coding_dh_org.csv\n"
      ]
     },
     "metadata": {},
     "output_type": "display_data"
    },
    {
     "data": {
      "text/html": [
       "<pre style=\"white-space:pre;overflow-x:auto;line-height:normal;font-family:Menlo,'DejaVu Sans Mono',consolas,'Courier New',monospace\">codalab_coding_dh_org.csv\n",
       "</pre>\n"
      ],
      "text/plain": [
       "codalab_coding_dh_org.csv\n"
      ]
     },
     "metadata": {},
     "output_type": "display_data"
    },
    {
     "data": {
      "text/html": [
       "<pre style=\"white-space:pre;overflow-x:auto;line-height:normal;font-family:Menlo,'DejaVu Sans Mono',consolas,'Courier New',monospace\">pmiiradar_coding_dh_org.csv\n",
       "</pre>\n"
      ],
      "text/plain": [
       "pmiiradar_coding_dh_org.csv\n"
      ]
     },
     "metadata": {},
     "output_type": "display_data"
    },
    {
     "data": {
      "text/html": [
       "<pre style=\"white-space:pre;overflow-x:auto;line-height:normal;font-family:Menlo,'DejaVu Sans Mono',consolas,'Courier New',monospace\">BCDigSchol_coding_dh_org.csv\n",
       "</pre>\n"
      ],
      "text/plain": [
       "BCDigSchol_coding_dh_org.csv\n"
      ]
     },
     "metadata": {},
     "output_type": "display_data"
    },
    {
     "data": {
      "text/html": [
       "<pre style=\"white-space:pre;overflow-x:auto;line-height:normal;font-family:Menlo,'DejaVu Sans Mono',consolas,'Courier New',monospace\">Open-Humanities_coding_dh_org.csv\n",
       "</pre>\n"
      ],
      "text/plain": [
       "Open-Humanities_coding_dh_org.csv\n"
      ]
     },
     "metadata": {},
     "output_type": "display_data"
    },
    {
     "data": {
      "text/html": [
       "<pre style=\"white-space:pre;overflow-x:auto;line-height:normal;font-family:Menlo,'DejaVu Sans Mono',consolas,'Courier New',monospace\">HeardLibrary_coding_dh_org.csv\n",
       "</pre>\n"
      ],
      "text/plain": [
       "HeardLibrary_coding_dh_org.csv\n"
      ]
     },
     "metadata": {},
     "output_type": "display_data"
    },
    {
     "data": {
      "text/html": [
       "<pre style=\"white-space:pre;overflow-x:auto;line-height:normal;font-family:Menlo,'DejaVu Sans Mono',consolas,'Courier New',monospace\">pressbooks_coding_dh_org.csv\n",
       "</pre>\n"
      ],
      "text/plain": [
       "pressbooks_coding_dh_org.csv\n"
      ]
     },
     "metadata": {},
     "output_type": "display_data"
    },
    {
     "data": {
      "text/html": [
       "<pre style=\"white-space:pre;overflow-x:auto;line-height:normal;font-family:Menlo,'DejaVu Sans Mono',consolas,'Courier New',monospace\">ARBML_coding_dh_org.csv\n",
       "</pre>\n"
      ],
      "text/plain": [
       "ARBML_coding_dh_org.csv\n"
      ]
     },
     "metadata": {},
     "output_type": "display_data"
    },
    {
     "data": {
      "text/html": [
       "<pre style=\"white-space:pre;overflow-x:auto;line-height:normal;font-family:Menlo,'DejaVu Sans Mono',consolas,'Courier New',monospace\">EpicGames_coding_dh_org.csv\n",
       "</pre>\n"
      ],
      "text/plain": [
       "EpicGames_coding_dh_org.csv\n"
      ]
     },
     "metadata": {},
     "output_type": "display_data"
    },
    {
     "data": {
      "text/html": [
       "<pre style=\"white-space:pre;overflow-x:auto;line-height:normal;font-family:Menlo,'DejaVu Sans Mono',consolas,'Courier New',monospace\">Bookworm-project_coding_dh_org.csv\n",
       "</pre>\n"
      ],
      "text/plain": [
       "Bookworm-project_coding_dh_org.csv\n"
      ]
     },
     "metadata": {},
     "output_type": "display_data"
    },
    {
     "data": {
      "text/html": [
       "<pre style=\"white-space:pre;overflow-x:auto;line-height:normal;font-family:Menlo,'DejaVu Sans Mono',consolas,'Courier New',monospace\">greek-learner-texts_coding_dh_org.csv\n",
       "</pre>\n"
      ],
      "text/plain": [
       "greek-learner-texts_coding_dh_org.csv\n"
      ]
     },
     "metadata": {},
     "output_type": "display_data"
    },
    {
     "data": {
      "text/html": [
       "<pre style=\"white-space:pre;overflow-x:auto;line-height:normal;font-family:Menlo,'DejaVu Sans Mono',consolas,'Courier New',monospace\">HCDigitalScholarship_coding_dh_org.csv\n",
       "</pre>\n"
      ],
      "text/plain": [
       "HCDigitalScholarship_coding_dh_org.csv\n"
      ]
     },
     "metadata": {},
     "output_type": "display_data"
    },
    {
     "data": {
      "text/html": [
       "<pre style=\"white-space:pre;overflow-x:auto;line-height:normal;font-family:Menlo,'DejaVu Sans Mono',consolas,'Courier New',monospace\">power-coders_coding_dh_org.csv\n",
       "</pre>\n"
      ],
      "text/plain": [
       "power-coders_coding_dh_org.csv\n"
      ]
     },
     "metadata": {},
     "output_type": "display_data"
    },
    {
     "data": {
      "text/html": [
       "<pre style=\"white-space:pre;overflow-x:auto;line-height:normal;font-family:Menlo,'DejaVu Sans Mono',consolas,'Courier New',monospace\">addeldin-old_coding_dh_org.csv\n",
       "</pre>\n"
      ],
      "text/plain": [
       "addeldin-old_coding_dh_org.csv\n"
      ]
     },
     "metadata": {},
     "output_type": "display_data"
    },
    {
     "data": {
      "text/html": [
       "<pre style=\"white-space:pre;overflow-x:auto;line-height:normal;font-family:Menlo,'DejaVu Sans Mono',consolas,'Courier New',monospace\">echarts-maps_coding_dh_org.csv\n",
       "</pre>\n"
      ],
      "text/plain": [
       "echarts-maps_coding_dh_org.csv\n"
      ]
     },
     "metadata": {},
     "output_type": "display_data"
    },
    {
     "data": {
      "text/html": [
       "<pre style=\"white-space:pre;overflow-x:auto;line-height:normal;font-family:Menlo,'DejaVu Sans Mono',consolas,'Courier New',monospace\">hsci-r_coding_dh_org.csv\n",
       "</pre>\n"
      ],
      "text/plain": [
       "hsci-r_coding_dh_org.csv\n"
      ]
     },
     "metadata": {},
     "output_type": "display_data"
    },
    {
     "data": {
      "text/html": [
       "<pre style=\"white-space:pre;overflow-x:auto;line-height:normal;font-family:Menlo,'DejaVu Sans Mono',consolas,'Courier New',monospace\">esmero_coding_dh_org.csv\n",
       "</pre>\n"
      ],
      "text/plain": [
       "esmero_coding_dh_org.csv\n"
      ]
     },
     "metadata": {},
     "output_type": "display_data"
    },
    {
     "data": {
      "text/html": [
       "<pre style=\"white-space:pre;overflow-x:auto;line-height:normal;font-family:Menlo,'DejaVu Sans Mono',consolas,'Courier New',monospace\">cahweb_coding_dh_org.csv\n",
       "</pre>\n"
      ],
      "text/plain": [
       "cahweb_coding_dh_org.csv\n"
      ]
     },
     "metadata": {},
     "output_type": "display_data"
    },
    {
     "data": {
      "text/html": [
       "<pre style=\"white-space:pre;overflow-x:auto;line-height:normal;font-family:Menlo,'DejaVu Sans Mono',consolas,'Courier New',monospace\">PrincetonUniversityLibrary_coding_dh_org.csv\n",
       "</pre>\n"
      ],
      "text/plain": [
       "PrincetonUniversityLibrary_coding_dh_org.csv\n"
      ]
     },
     "metadata": {},
     "output_type": "display_data"
    },
    {
     "data": {
      "text/html": [
       "<pre style=\"white-space:pre;overflow-x:auto;line-height:normal;font-family:Menlo,'DejaVu Sans Mono',consolas,'Courier New',monospace\">rsvp-ai_coding_dh_org.csv\n",
       "</pre>\n"
      ],
      "text/plain": [
       "rsvp-ai_coding_dh_org.csv\n"
      ]
     },
     "metadata": {},
     "output_type": "display_data"
    },
    {
     "data": {
      "text/html": [
       "<pre style=\"white-space:pre;overflow-x:auto;line-height:normal;font-family:Menlo,'DejaVu Sans Mono',consolas,'Courier New',monospace\">Team-1nf1n1ty_coding_dh_org.csv\n",
       "</pre>\n"
      ],
      "text/plain": [
       "Team-1nf1n1ty_coding_dh_org.csv\n"
      ]
     },
     "metadata": {},
     "output_type": "display_data"
    },
    {
     "data": {
      "text/html": [
       "<pre style=\"white-space:pre;overflow-x:auto;line-height:normal;font-family:Menlo,'DejaVu Sans Mono',consolas,'Courier New',monospace\">CrossRef_coding_dh_org.csv\n",
       "</pre>\n"
      ],
      "text/plain": [
       "CrossRef_coding_dh_org.csv\n"
      ]
     },
     "metadata": {},
     "output_type": "display_data"
    },
    {
     "data": {
      "text/html": [
       "<pre style=\"white-space:pre;overflow-x:auto;line-height:normal;font-family:Menlo,'DejaVu Sans Mono',consolas,'Courier New',monospace\">Unidad-de-Informatica_coding_dh_org.csv\n",
       "</pre>\n"
      ],
      "text/plain": [
       "Unidad-de-Informatica_coding_dh_org.csv\n"
      ]
     },
     "metadata": {},
     "output_type": "display_data"
    },
    {
     "data": {
      "text/html": [
       "<pre style=\"white-space:pre;overflow-x:auto;line-height:normal;font-family:Menlo,'DejaVu Sans Mono',consolas,'Courier New',monospace\">mintproject_coding_dh_org.csv\n",
       "</pre>\n"
      ],
      "text/plain": [
       "mintproject_coding_dh_org.csv\n"
      ]
     },
     "metadata": {},
     "output_type": "display_data"
    },
    {
     "data": {
      "text/html": [
       "<pre style=\"white-space:pre;overflow-x:auto;line-height:normal;font-family:Menlo,'DejaVu Sans Mono',consolas,'Courier New',monospace\">dataprotocols_coding_dh_org.csv\n",
       "</pre>\n"
      ],
      "text/plain": [
       "dataprotocols_coding_dh_org.csv\n"
      ]
     },
     "metadata": {},
     "output_type": "display_data"
    },
    {
     "data": {
      "text/html": [
       "<pre style=\"white-space:pre;overflow-x:auto;line-height:normal;font-family:Menlo,'DejaVu Sans Mono',consolas,'Courier New',monospace\">Fourdays_coding_dh_org.csv\n",
       "</pre>\n"
      ],
      "text/plain": [
       "Fourdays_coding_dh_org.csv\n"
      ]
     },
     "metadata": {},
     "output_type": "display_data"
    },
    {
     "data": {
      "text/html": [
       "<pre style=\"white-space:pre;overflow-x:auto;line-height:normal;font-family:Menlo,'DejaVu Sans Mono',consolas,'Courier New',monospace\">tropy_coding_dh_org.csv\n",
       "</pre>\n"
      ],
      "text/plain": [
       "tropy_coding_dh_org.csv\n"
      ]
     },
     "metadata": {},
     "output_type": "display_data"
    },
    {
     "data": {
      "text/html": [
       "<pre style=\"white-space:pre;overflow-x:auto;line-height:normal;font-family:Menlo,'DejaVu Sans Mono',consolas,'Courier New',monospace\">contribute-md_coding_dh_org.csv\n",
       "</pre>\n"
      ],
      "text/plain": [
       "contribute-md_coding_dh_org.csv\n"
      ]
     },
     "metadata": {},
     "output_type": "display_data"
    },
    {
     "data": {
      "text/html": [
       "<pre style=\"white-space:pre;overflow-x:auto;line-height:normal;font-family:Menlo,'DejaVu Sans Mono',consolas,'Courier New',monospace\">Piratenpartij_coding_dh_org.csv\n",
       "</pre>\n"
      ],
      "text/plain": [
       "Piratenpartij_coding_dh_org.csv\n"
      ]
     },
     "metadata": {},
     "output_type": "display_data"
    },
    {
     "data": {
      "text/html": [
       "<pre style=\"white-space:pre;overflow-x:auto;line-height:normal;font-family:Menlo,'DejaVu Sans Mono',consolas,'Courier New',monospace\">spa-networks_coding_dh_org.csv\n",
       "</pre>\n"
      ],
      "text/plain": [
       "spa-networks_coding_dh_org.csv\n"
      ]
     },
     "metadata": {},
     "output_type": "display_data"
    },
    {
     "data": {
      "text/html": [
       "<pre style=\"white-space:pre;overflow-x:auto;line-height:normal;font-family:Menlo,'DejaVu Sans Mono',consolas,'Courier New',monospace\">newslynx_coding_dh_org.csv\n",
       "</pre>\n"
      ],
      "text/plain": [
       "newslynx_coding_dh_org.csv\n"
      ]
     },
     "metadata": {},
     "output_type": "display_data"
    },
    {
     "data": {
      "text/html": [
       "<pre style=\"white-space:pre;overflow-x:auto;line-height:normal;font-family:Menlo,'DejaVu Sans Mono',consolas,'Courier New',monospace\">coneda_coding_dh_org.csv\n",
       "</pre>\n"
      ],
      "text/plain": [
       "coneda_coding_dh_org.csv\n"
      ]
     },
     "metadata": {},
     "output_type": "display_data"
    },
    {
     "data": {
      "text/html": [
       "<pre style=\"white-space:pre;overflow-x:auto;line-height:normal;font-family:Menlo,'DejaVu Sans Mono',consolas,'Courier New',monospace\">tauVR_coding_dh_org.csv\n",
       "</pre>\n"
      ],
      "text/plain": [
       "tauVR_coding_dh_org.csv\n"
      ]
     },
     "metadata": {},
     "output_type": "display_data"
    },
    {
     "data": {
      "text/html": [
       "<pre style=\"white-space:pre;overflow-x:auto;line-height:normal;font-family:Menlo,'DejaVu Sans Mono',consolas,'Courier New',monospace\">cwrc_coding_dh_org.csv\n",
       "</pre>\n"
      ],
      "text/plain": [
       "cwrc_coding_dh_org.csv\n"
      ]
     },
     "metadata": {},
     "output_type": "display_data"
    },
    {
     "data": {
      "text/html": [
       "<pre style=\"white-space:pre;overflow-x:auto;line-height:normal;font-family:Menlo,'DejaVu Sans Mono',consolas,'Courier New',monospace\">vfile_coding_dh_org.csv\n",
       "</pre>\n"
      ],
      "text/plain": [
       "vfile_coding_dh_org.csv\n"
      ]
     },
     "metadata": {},
     "output_type": "display_data"
    },
    {
     "data": {
      "text/html": [
       "<pre style=\"white-space:pre;overflow-x:auto;line-height:normal;font-family:Menlo,'DejaVu Sans Mono',consolas,'Courier New',monospace\">pulamusicMedia_coding_dh_org.csv\n",
       "</pre>\n"
      ],
      "text/plain": [
       "pulamusicMedia_coding_dh_org.csv\n"
      ]
     },
     "metadata": {},
     "output_type": "display_data"
    },
    {
     "data": {
      "text/html": [
       "<pre style=\"white-space:pre;overflow-x:auto;line-height:normal;font-family:Menlo,'DejaVu Sans Mono',consolas,'Courier New',monospace\">getsentry_coding_dh_org.csv\n",
       "</pre>\n"
      ],
      "text/plain": [
       "getsentry_coding_dh_org.csv\n"
      ]
     },
     "metadata": {},
     "output_type": "display_data"
    },
    {
     "data": {
      "text/html": [
       "<pre style=\"white-space:pre;overflow-x:auto;line-height:normal;font-family:Menlo,'DejaVu Sans Mono',consolas,'Courier New',monospace\">MappingLorimer_coding_dh_org.csv\n",
       "</pre>\n"
      ],
      "text/plain": [
       "MappingLorimer_coding_dh_org.csv\n"
      ]
     },
     "metadata": {},
     "output_type": "display_data"
    },
    {
     "data": {
      "text/html": [
       "<pre style=\"white-space:pre;overflow-x:auto;line-height:normal;font-family:Menlo,'DejaVu Sans Mono',consolas,'Courier New',monospace\">CSE116-Spring2017_coding_dh_org.csv\n",
       "</pre>\n"
      ],
      "text/plain": [
       "CSE116-Spring2017_coding_dh_org.csv\n"
      ]
     },
     "metadata": {},
     "output_type": "display_data"
    },
    {
     "data": {
      "text/html": [
       "<pre style=\"white-space:pre;overflow-x:auto;line-height:normal;font-family:Menlo,'DejaVu Sans Mono',consolas,'Courier New',monospace\">CIIR_coding_dh_org.csv\n",
       "</pre>\n"
      ],
      "text/plain": [
       "CIIR_coding_dh_org.csv\n"
      ]
     },
     "metadata": {},
     "output_type": "display_data"
    },
    {
     "data": {
      "text/html": [
       "<pre style=\"white-space:pre;overflow-x:auto;line-height:normal;font-family:Menlo,'DejaVu Sans Mono',consolas,'Courier New',monospace\">history-lab_coding_dh_org.csv\n",
       "</pre>\n"
      ],
      "text/plain": [
       "history-lab_coding_dh_org.csv\n"
      ]
     },
     "metadata": {},
     "output_type": "display_data"
    },
    {
     "data": {
      "text/html": [
       "<pre style=\"white-space:pre;overflow-x:auto;line-height:normal;font-family:Menlo,'DejaVu Sans Mono',consolas,'Courier New',monospace\">poseidon-framework_coding_dh_org.csv\n",
       "</pre>\n"
      ],
      "text/plain": [
       "poseidon-framework_coding_dh_org.csv\n"
      ]
     },
     "metadata": {},
     "output_type": "display_data"
    },
    {
     "data": {
      "text/html": [
       "<pre style=\"white-space:pre;overflow-x:auto;line-height:normal;font-family:Menlo,'DejaVu Sans Mono',consolas,'Courier New',monospace\">Robotic-Building-TU-Delft_coding_dh_org.csv\n",
       "</pre>\n"
      ],
      "text/plain": [
       "Robotic-Building-TU-Delft_coding_dh_org.csv\n"
      ]
     },
     "metadata": {},
     "output_type": "display_data"
    },
    {
     "data": {
      "text/html": [
       "<pre style=\"white-space:pre;overflow-x:auto;line-height:normal;font-family:Menlo,'DejaVu Sans Mono',consolas,'Courier New',monospace\">CulturePlex_coding_dh_org.csv\n",
       "</pre>\n"
      ],
      "text/plain": [
       "CulturePlex_coding_dh_org.csv\n"
      ]
     },
     "metadata": {},
     "output_type": "display_data"
    },
    {
     "data": {
      "text/html": [
       "<pre style=\"white-space:pre;overflow-x:auto;line-height:normal;font-family:Menlo,'DejaVu Sans Mono',consolas,'Courier New',monospace\">bugminer_coding_dh_org.csv\n",
       "</pre>\n"
      ],
      "text/plain": [
       "bugminer_coding_dh_org.csv\n"
      ]
     },
     "metadata": {},
     "output_type": "display_data"
    },
    {
     "data": {
      "text/html": [
       "<pre style=\"white-space:pre;overflow-x:auto;line-height:normal;font-family:Menlo,'DejaVu Sans Mono',consolas,'Courier New',monospace\">sta199-fa21-003_coding_dh_org.csv\n",
       "</pre>\n"
      ],
      "text/plain": [
       "sta199-fa21-003_coding_dh_org.csv\n"
      ]
     },
     "metadata": {},
     "output_type": "display_data"
    },
    {
     "data": {
      "text/html": [
       "<pre style=\"white-space:pre;overflow-x:auto;line-height:normal;font-family:Menlo,'DejaVu Sans Mono',consolas,'Courier New',monospace\">Granulate_coding_dh_org.csv\n",
       "</pre>\n"
      ],
      "text/plain": [
       "Granulate_coding_dh_org.csv\n"
      ]
     },
     "metadata": {},
     "output_type": "display_data"
    },
    {
     "data": {
      "text/html": [
       "<pre style=\"white-space:pre;overflow-x:auto;line-height:normal;font-family:Menlo,'DejaVu Sans Mono',consolas,'Courier New',monospace\">greekwordnet_coding_dh_org.csv\n",
       "</pre>\n"
      ],
      "text/plain": [
       "greekwordnet_coding_dh_org.csv\n"
      ]
     },
     "metadata": {},
     "output_type": "display_data"
    },
    {
     "data": {
      "text/html": [
       "<pre style=\"white-space:pre;overflow-x:auto;line-height:normal;font-family:Menlo,'DejaVu Sans Mono',consolas,'Courier New',monospace\">literarycomputinglab_coding_dh_org.csv\n",
       "</pre>\n"
      ],
      "text/plain": [
       "literarycomputinglab_coding_dh_org.csv\n"
      ]
     },
     "metadata": {},
     "output_type": "display_data"
    },
    {
     "data": {
      "text/html": [
       "<pre style=\"white-space:pre;overflow-x:auto;line-height:normal;font-family:Menlo,'DejaVu Sans Mono',consolas,'Courier New',monospace\">PatrickaLOuD_coding_dh_org.csv\n",
       "</pre>\n"
      ],
      "text/plain": [
       "PatrickaLOuD_coding_dh_org.csv\n"
      ]
     },
     "metadata": {},
     "output_type": "display_data"
    },
    {
     "data": {
      "text/html": [
       "<pre style=\"white-space:pre;overflow-x:auto;line-height:normal;font-family:Menlo,'DejaVu Sans Mono',consolas,'Courier New',monospace\">mobilizingcs_coding_dh_org.csv\n",
       "</pre>\n"
      ],
      "text/plain": [
       "mobilizingcs_coding_dh_org.csv\n"
      ]
     },
     "metadata": {},
     "output_type": "display_data"
    },
    {
     "data": {
      "text/html": [
       "<pre style=\"white-space:pre;overflow-x:auto;line-height:normal;font-family:Menlo,'DejaVu Sans Mono',consolas,'Courier New',monospace\">sunnyside-mutual-aid_coding_dh_org.csv\n",
       "</pre>\n"
      ],
      "text/plain": [
       "sunnyside-mutual-aid_coding_dh_org.csv\n"
      ]
     },
     "metadata": {},
     "output_type": "display_data"
    },
    {
     "data": {
      "text/html": [
       "<pre style=\"white-space:pre;overflow-x:auto;line-height:normal;font-family:Menlo,'DejaVu Sans Mono',consolas,'Courier New',monospace\">citation-file-format_coding_dh_org.csv\n",
       "</pre>\n"
      ],
      "text/plain": [
       "citation-file-format_coding_dh_org.csv\n"
      ]
     },
     "metadata": {},
     "output_type": "display_data"
    },
    {
     "data": {
      "text/html": [
       "<pre style=\"white-space:pre;overflow-x:auto;line-height:normal;font-family:Menlo,'DejaVu Sans Mono',consolas,'Courier New',monospace\">ptal-io_coding_dh_org.csv\n",
       "</pre>\n"
      ],
      "text/plain": [
       "ptal-io_coding_dh_org.csv\n"
      ]
     },
     "metadata": {},
     "output_type": "display_data"
    },
    {
     "data": {
      "text/html": [
       "<pre style=\"white-space:pre;overflow-x:auto;line-height:normal;font-family:Menlo,'DejaVu Sans Mono',consolas,'Courier New',monospace\">Attic-Inscriptions-Online_coding_dh_org.csv\n",
       "</pre>\n"
      ],
      "text/plain": [
       "Attic-Inscriptions-Online_coding_dh_org.csv\n"
      ]
     },
     "metadata": {},
     "output_type": "display_data"
    },
    {
     "data": {
      "text/html": [
       "<pre style=\"white-space:pre;overflow-x:auto;line-height:normal;font-family:Menlo,'DejaVu Sans Mono',consolas,'Courier New',monospace\">obsidianmd_coding_dh_org.csv\n",
       "</pre>\n"
      ],
      "text/plain": [
       "obsidianmd_coding_dh_org.csv\n"
      ]
     },
     "metadata": {},
     "output_type": "display_data"
    },
    {
     "data": {
      "text/html": [
       "<pre style=\"white-space:pre;overflow-x:auto;line-height:normal;font-family:Menlo,'DejaVu Sans Mono',consolas,'Courier New',monospace\">mapquery_coding_dh_org.csv\n",
       "</pre>\n"
      ],
      "text/plain": [
       "mapquery_coding_dh_org.csv\n"
      ]
     },
     "metadata": {},
     "output_type": "display_data"
    },
    {
     "data": {
      "text/html": [
       "<pre style=\"white-space:pre;overflow-x:auto;line-height:normal;font-family:Menlo,'DejaVu Sans Mono',consolas,'Courier New',monospace\">fcrepo4-exts_coding_dh_org.csv\n",
       "</pre>\n"
      ],
      "text/plain": [
       "fcrepo4-exts_coding_dh_org.csv\n"
      ]
     },
     "metadata": {},
     "output_type": "display_data"
    },
    {
     "data": {
      "text/html": [
       "<pre style=\"white-space:pre;overflow-x:auto;line-height:normal;font-family:Menlo,'DejaVu Sans Mono',consolas,'Courier New',monospace\">python-summit_coding_dh_org.csv\n",
       "</pre>\n"
      ],
      "text/plain": [
       "python-summit_coding_dh_org.csv\n"
      ]
     },
     "metadata": {},
     "output_type": "display_data"
    },
    {
     "data": {
      "text/html": [
       "<pre style=\"white-space:pre;overflow-x:auto;line-height:normal;font-family:Menlo,'DejaVu Sans Mono',consolas,'Courier New',monospace\">code4libtoronto_coding_dh_org.csv\n",
       "</pre>\n"
      ],
      "text/plain": [
       "code4libtoronto_coding_dh_org.csv\n"
      ]
     },
     "metadata": {},
     "output_type": "display_data"
    },
    {
     "data": {
      "text/html": [
       "<pre style=\"white-space:pre;overflow-x:auto;line-height:normal;font-family:Menlo,'DejaVu Sans Mono',consolas,'Courier New',monospace\">caltechlibrary_coding_dh_org.csv\n",
       "</pre>\n"
      ],
      "text/plain": [
       "caltechlibrary_coding_dh_org.csv\n"
      ]
     },
     "metadata": {},
     "output_type": "display_data"
    },
    {
     "data": {
      "text/html": [
       "<pre style=\"white-space:pre;overflow-x:auto;line-height:normal;font-family:Menlo,'DejaVu Sans Mono',consolas,'Courier New',monospace\">wikimaps-dev_coding_dh_org.csv\n",
       "</pre>\n"
      ],
      "text/plain": [
       "wikimaps-dev_coding_dh_org.csv\n"
      ]
     },
     "metadata": {},
     "output_type": "display_data"
    },
    {
     "data": {
      "text/html": [
       "<pre style=\"white-space:pre;overflow-x:auto;line-height:normal;font-family:Menlo,'DejaVu Sans Mono',consolas,'Courier New',monospace\">UVA-DSI_coding_dh_org.csv\n",
       "</pre>\n"
      ],
      "text/plain": [
       "UVA-DSI_coding_dh_org.csv\n"
      ]
     },
     "metadata": {},
     "output_type": "display_data"
    },
    {
     "data": {
      "text/html": [
       "<pre style=\"white-space:pre;overflow-x:auto;line-height:normal;font-family:Menlo,'DejaVu Sans Mono',consolas,'Courier New',monospace\">digitallinguistics_coding_dh_org.csv\n",
       "</pre>\n"
      ],
      "text/plain": [
       "digitallinguistics_coding_dh_org.csv\n"
      ]
     },
     "metadata": {},
     "output_type": "display_data"
    },
    {
     "data": {
      "text/html": [
       "<pre style=\"white-space:pre;overflow-x:auto;line-height:normal;font-family:Menlo,'DejaVu Sans Mono',consolas,'Courier New',monospace\">uppsala-university_coding_dh_org.csv\n",
       "</pre>\n"
      ],
      "text/plain": [
       "uppsala-university_coding_dh_org.csv\n"
      ]
     },
     "metadata": {},
     "output_type": "display_data"
    },
    {
     "data": {
      "text/html": [
       "<pre style=\"white-space:pre;overflow-x:auto;line-height:normal;font-family:Menlo,'DejaVu Sans Mono',consolas,'Courier New',monospace\">fruitopology_coding_dh_org.csv\n",
       "</pre>\n"
      ],
      "text/plain": [
       "fruitopology_coding_dh_org.csv\n"
      ]
     },
     "metadata": {},
     "output_type": "display_data"
    },
    {
     "data": {
      "text/html": [
       "<pre style=\"white-space:pre;overflow-x:auto;line-height:normal;font-family:Menlo,'DejaVu Sans Mono',consolas,'Courier New',monospace\">bibliopedia_coding_dh_org.csv\n",
       "</pre>\n"
      ],
      "text/plain": [
       "bibliopedia_coding_dh_org.csv\n"
      ]
     },
     "metadata": {},
     "output_type": "display_data"
    },
    {
     "data": {
      "text/html": [
       "<pre style=\"white-space:pre;overflow-x:auto;line-height:normal;font-family:Menlo,'DejaVu Sans Mono',consolas,'Courier New',monospace\">stephenslab_coding_dh_org.csv\n",
       "</pre>\n"
      ],
      "text/plain": [
       "stephenslab_coding_dh_org.csv\n"
      ]
     },
     "metadata": {},
     "output_type": "display_data"
    },
    {
     "data": {
      "text/html": [
       "<pre style=\"white-space:pre;overflow-x:auto;line-height:normal;font-family:Menlo,'DejaVu Sans Mono',consolas,'Courier New',monospace\">LibTechWomen_coding_dh_org.csv\n",
       "</pre>\n"
      ],
      "text/plain": [
       "LibTechWomen_coding_dh_org.csv\n"
      ]
     },
     "metadata": {},
     "output_type": "display_data"
    },
    {
     "data": {
      "text/html": [
       "<pre style=\"white-space:pre;overflow-x:auto;line-height:normal;font-family:Menlo,'DejaVu Sans Mono',consolas,'Courier New',monospace\">OpenGravestones_coding_dh_org.csv\n",
       "</pre>\n"
      ],
      "text/plain": [
       "OpenGravestones_coding_dh_org.csv\n"
      ]
     },
     "metadata": {},
     "output_type": "display_data"
    },
    {
     "data": {
      "text/html": [
       "<pre style=\"white-space:pre;overflow-x:auto;line-height:normal;font-family:Menlo,'DejaVu Sans Mono',consolas,'Courier New',monospace\">OxShef_coding_dh_org.csv\n",
       "</pre>\n"
      ],
      "text/plain": [
       "OxShef_coding_dh_org.csv\n"
      ]
     },
     "metadata": {},
     "output_type": "display_data"
    },
    {
     "data": {
      "text/html": [
       "<pre style=\"white-space:pre;overflow-x:auto;line-height:normal;font-family:Menlo,'DejaVu Sans Mono',consolas,'Courier New',monospace\">emacsmirror_coding_dh_org.csv\n",
       "</pre>\n"
      ],
      "text/plain": [
       "emacsmirror_coding_dh_org.csv\n"
      ]
     },
     "metadata": {},
     "output_type": "display_data"
    },
    {
     "data": {
      "text/html": [
       "<pre style=\"white-space:pre;overflow-x:auto;line-height:normal;font-family:Menlo,'DejaVu Sans Mono',consolas,'Courier New',monospace\">locdb_coding_dh_org.csv\n",
       "</pre>\n"
      ],
      "text/plain": [
       "locdb_coding_dh_org.csv\n"
      ]
     },
     "metadata": {},
     "output_type": "display_data"
    },
    {
     "data": {
      "text/html": [
       "<pre style=\"white-space:pre;overflow-x:auto;line-height:normal;font-family:Menlo,'DejaVu Sans Mono',consolas,'Courier New',monospace\">finc_coding_dh_org.csv\n",
       "</pre>\n"
      ],
      "text/plain": [
       "finc_coding_dh_org.csv\n"
      ]
     },
     "metadata": {},
     "output_type": "display_data"
    },
    {
     "data": {
      "text/html": [
       "<pre style=\"white-space:pre;overflow-x:auto;line-height:normal;font-family:Menlo,'DejaVu Sans Mono',consolas,'Courier New',monospace\">neuml_coding_dh_org.csv\n",
       "</pre>\n"
      ],
      "text/plain": [
       "neuml_coding_dh_org.csv\n"
      ]
     },
     "metadata": {},
     "output_type": "display_data"
    },
    {
     "data": {
      "text/html": [
       "<pre style=\"white-space:pre;overflow-x:auto;line-height:normal;font-family:Menlo,'DejaVu Sans Mono',consolas,'Courier New',monospace\">TopSBM_coding_dh_org.csv\n",
       "</pre>\n"
      ],
      "text/plain": [
       "TopSBM_coding_dh_org.csv\n"
      ]
     },
     "metadata": {},
     "output_type": "display_data"
    },
    {
     "data": {
      "text/html": [
       "<pre style=\"white-space:pre;overflow-x:auto;line-height:normal;font-family:Menlo,'DejaVu Sans Mono',consolas,'Courier New',monospace\">upenn-libraries_coding_dh_org.csv\n",
       "</pre>\n"
      ],
      "text/plain": [
       "upenn-libraries_coding_dh_org.csv\n"
      ]
     },
     "metadata": {},
     "output_type": "display_data"
    },
    {
     "data": {
      "text/html": [
       "<pre style=\"white-space:pre;overflow-x:auto;line-height:normal;font-family:Menlo,'DejaVu Sans Mono',consolas,'Courier New',monospace\">ulbmuenster_coding_dh_org.csv\n",
       "</pre>\n"
      ],
      "text/plain": [
       "ulbmuenster_coding_dh_org.csv\n"
      ]
     },
     "metadata": {},
     "output_type": "display_data"
    },
    {
     "data": {
      "text/html": [
       "<pre style=\"white-space:pre;overflow-x:auto;line-height:normal;font-family:Menlo,'DejaVu Sans Mono',consolas,'Courier New',monospace\">WaterLOD_coding_dh_org.csv\n",
       "</pre>\n"
      ],
      "text/plain": [
       "WaterLOD_coding_dh_org.csv\n"
      ]
     },
     "metadata": {},
     "output_type": "display_data"
    },
    {
     "data": {
      "text/html": [
       "<pre style=\"white-space:pre;overflow-x:auto;line-height:normal;font-family:Menlo,'DejaVu Sans Mono',consolas,'Courier New',monospace\">OpenScienceRoadmap_coding_dh_org.csv\n",
       "</pre>\n"
      ],
      "text/plain": [
       "OpenScienceRoadmap_coding_dh_org.csv\n"
      ]
     },
     "metadata": {},
     "output_type": "display_data"
    },
    {
     "data": {
      "text/html": [
       "<pre style=\"white-space:pre;overflow-x:auto;line-height:normal;font-family:Menlo,'DejaVu Sans Mono',consolas,'Courier New',monospace\">diging_coding_dh_org.csv\n",
       "</pre>\n"
      ],
      "text/plain": [
       "diging_coding_dh_org.csv\n"
      ]
     },
     "metadata": {},
     "output_type": "display_data"
    },
    {
     "data": {
      "text/html": [
       "<pre style=\"white-space:pre;overflow-x:auto;line-height:normal;font-family:Menlo,'DejaVu Sans Mono',consolas,'Courier New',monospace\">gee-community_coding_dh_org.csv\n",
       "</pre>\n"
      ],
      "text/plain": [
       "gee-community_coding_dh_org.csv\n"
      ]
     },
     "metadata": {},
     "output_type": "display_data"
    },
    {
     "data": {
      "text/html": [
       "<pre style=\"white-space:pre;overflow-x:auto;line-height:normal;font-family:Menlo,'DejaVu Sans Mono',consolas,'Courier New',monospace\">RPI-HASS_coding_dh_org.csv\n",
       "</pre>\n"
      ],
      "text/plain": [
       "RPI-HASS_coding_dh_org.csv\n"
      ]
     },
     "metadata": {},
     "output_type": "display_data"
    },
    {
     "data": {
      "text/html": [
       "<pre style=\"white-space:pre;overflow-x:auto;line-height:normal;font-family:Menlo,'DejaVu Sans Mono',consolas,'Courier New',monospace\">learn-static_coding_dh_org.csv\n",
       "</pre>\n"
      ],
      "text/plain": [
       "learn-static_coding_dh_org.csv\n"
      ]
     },
     "metadata": {},
     "output_type": "display_data"
    },
    {
     "data": {
      "text/html": [
       "<pre style=\"white-space:pre;overflow-x:auto;line-height:normal;font-family:Menlo,'DejaVu Sans Mono',consolas,'Courier New',monospace\">RL10N_coding_dh_org.csv\n",
       "</pre>\n"
      ],
      "text/plain": [
       "RL10N_coding_dh_org.csv\n"
      ]
     },
     "metadata": {},
     "output_type": "display_data"
    },
    {
     "data": {
      "text/html": [
       "<pre style=\"white-space:pre;overflow-x:auto;line-height:normal;font-family:Menlo,'DejaVu Sans Mono',consolas,'Courier New',monospace\">lvtffuk_coding_dh_org.csv\n",
       "</pre>\n"
      ],
      "text/plain": [
       "lvtffuk_coding_dh_org.csv\n"
      ]
     },
     "metadata": {},
     "output_type": "display_data"
    },
    {
     "data": {
      "text/html": [
       "<pre style=\"white-space:pre;overflow-x:auto;line-height:normal;font-family:Menlo,'DejaVu Sans Mono',consolas,'Courier New',monospace\">moravianlibrary_coding_dh_org.csv\n",
       "</pre>\n"
      ],
      "text/plain": [
       "moravianlibrary_coding_dh_org.csv\n"
      ]
     },
     "metadata": {},
     "output_type": "display_data"
    },
    {
     "data": {
      "text/html": [
       "<pre style=\"white-space:pre;overflow-x:auto;line-height:normal;font-family:Menlo,'DejaVu Sans Mono',consolas,'Courier New',monospace\">boschsensortec_coding_dh_org.csv\n",
       "</pre>\n"
      ],
      "text/plain": [
       "boschsensortec_coding_dh_org.csv\n"
      ]
     },
     "metadata": {},
     "output_type": "display_data"
    },
    {
     "data": {
      "text/html": [
       "<pre style=\"white-space:pre;overflow-x:auto;line-height:normal;font-family:Menlo,'DejaVu Sans Mono',consolas,'Courier New',monospace\">cambridge-collection_coding_dh_org.csv\n",
       "</pre>\n"
      ],
      "text/plain": [
       "cambridge-collection_coding_dh_org.csv\n"
      ]
     },
     "metadata": {},
     "output_type": "display_data"
    },
    {
     "data": {
      "text/html": [
       "<pre style=\"white-space:pre;overflow-x:auto;line-height:normal;font-family:Menlo,'DejaVu Sans Mono',consolas,'Courier New',monospace\">AnthurieGithub_coding_dh_org.csv\n",
       "</pre>\n"
      ],
      "text/plain": [
       "AnthurieGithub_coding_dh_org.csv\n"
      ]
     },
     "metadata": {},
     "output_type": "display_data"
    },
    {
     "data": {
      "text/html": [
       "<pre style=\"white-space:pre;overflow-x:auto;line-height:normal;font-family:Menlo,'DejaVu Sans Mono',consolas,'Courier New',monospace\">transcriptiones_coding_dh_org.csv\n",
       "</pre>\n"
      ],
      "text/plain": [
       "transcriptiones_coding_dh_org.csv\n"
      ]
     },
     "metadata": {},
     "output_type": "display_data"
    },
    {
     "data": {
      "text/html": [
       "<pre style=\"white-space:pre;overflow-x:auto;line-height:normal;font-family:Menlo,'DejaVu Sans Mono',consolas,'Courier New',monospace\">everhartlab_coding_dh_org.csv\n",
       "</pre>\n"
      ],
      "text/plain": [
       "everhartlab_coding_dh_org.csv\n"
      ]
     },
     "metadata": {},
     "output_type": "display_data"
    },
    {
     "data": {
      "text/html": [
       "<pre style=\"white-space:pre;overflow-x:auto;line-height:normal;font-family:Menlo,'DejaVu Sans Mono',consolas,'Courier New',monospace\">ZurichNLP_coding_dh_org.csv\n",
       "</pre>\n"
      ],
      "text/plain": [
       "ZurichNLP_coding_dh_org.csv\n"
      ]
     },
     "metadata": {},
     "output_type": "display_data"
    },
    {
     "data": {
      "text/html": [
       "<pre style=\"white-space:pre;overflow-x:auto;line-height:normal;font-family:Menlo,'DejaVu Sans Mono',consolas,'Courier New',monospace\">CDH-DevTeam_coding_dh_org.csv\n",
       "</pre>\n"
      ],
      "text/plain": [
       "CDH-DevTeam_coding_dh_org.csv\n"
      ]
     },
     "metadata": {},
     "output_type": "display_data"
    },
    {
     "data": {
      "text/html": [
       "<pre style=\"white-space:pre;overflow-x:auto;line-height:normal;font-family:Menlo,'DejaVu Sans Mono',consolas,'Courier New',monospace\">PenguinParadigm_coding_dh_org.csv\n",
       "</pre>\n"
      ],
      "text/plain": [
       "PenguinParadigm_coding_dh_org.csv\n"
      ]
     },
     "metadata": {},
     "output_type": "display_data"
    },
    {
     "data": {
      "text/html": [
       "<pre style=\"white-space:pre;overflow-x:auto;line-height:normal;font-family:Menlo,'DejaVu Sans Mono',consolas,'Courier New',monospace\">pyladies_coding_dh_org.csv\n",
       "</pre>\n"
      ],
      "text/plain": [
       "pyladies_coding_dh_org.csv\n"
      ]
     },
     "metadata": {},
     "output_type": "display_data"
    },
    {
     "data": {
      "text/html": [
       "<pre style=\"white-space:pre;overflow-x:auto;line-height:normal;font-family:Menlo,'DejaVu Sans Mono',consolas,'Courier New',monospace\">Mexicana-Secretaria-de-Cultura_coding_dh_org.csv\n",
       "</pre>\n"
      ],
      "text/plain": [
       "Mexicana-Secretaria-de-Cultura_coding_dh_org.csv\n"
      ]
     },
     "metadata": {},
     "output_type": "display_data"
    },
    {
     "data": {
      "text/html": [
       "<pre style=\"white-space:pre;overflow-x:auto;line-height:normal;font-family:Menlo,'DejaVu Sans Mono',consolas,'Courier New',monospace\">progit_coding_dh_org.csv\n",
       "</pre>\n"
      ],
      "text/plain": [
       "progit_coding_dh_org.csv\n"
      ]
     },
     "metadata": {},
     "output_type": "display_data"
    },
    {
     "data": {
      "text/html": [
       "<pre style=\"white-space:pre;overflow-x:auto;line-height:normal;font-family:Menlo,'DejaVu Sans Mono',consolas,'Courier New',monospace\">luizalabs_coding_dh_org.csv\n",
       "</pre>\n"
      ],
      "text/plain": [
       "luizalabs_coding_dh_org.csv\n"
      ]
     },
     "metadata": {},
     "output_type": "display_data"
    },
    {
     "data": {
      "text/html": [
       "<pre style=\"white-space:pre;overflow-x:auto;line-height:normal;font-family:Menlo,'DejaVu Sans Mono',consolas,'Courier New',monospace\">themanifest_coding_dh_org.csv\n",
       "</pre>\n"
      ],
      "text/plain": [
       "themanifest_coding_dh_org.csv\n"
      ]
     },
     "metadata": {},
     "output_type": "display_data"
    },
    {
     "data": {
      "text/html": [
       "<pre style=\"white-space:pre;overflow-x:auto;line-height:normal;font-family:Menlo,'DejaVu Sans Mono',consolas,'Courier New',monospace\">ARCHE-Humanities-Resource-Centre_coding_dh_org.csv\n",
       "</pre>\n"
      ],
      "text/plain": [
       "ARCHE-Humanities-Resource-Centre_coding_dh_org.csv\n"
      ]
     },
     "metadata": {},
     "output_type": "display_data"
    },
    {
     "data": {
      "text/html": [
       "<pre style=\"white-space:pre;overflow-x:auto;line-height:normal;font-family:Menlo,'DejaVu Sans Mono',consolas,'Courier New',monospace\">explosion_coding_dh_org.csv\n",
       "</pre>\n"
      ],
      "text/plain": [
       "explosion_coding_dh_org.csv\n"
      ]
     },
     "metadata": {},
     "output_type": "display_data"
    },
    {
     "data": {
      "text/html": [
       "<pre style=\"white-space:pre;overflow-x:auto;line-height:normal;font-family:Menlo,'DejaVu Sans Mono',consolas,'Courier New',monospace\">Humanistica_coding_dh_org.csv\n",
       "</pre>\n"
      ],
      "text/plain": [
       "Humanistica_coding_dh_org.csv\n"
      ]
     },
     "metadata": {},
     "output_type": "display_data"
    },
    {
     "data": {
      "text/html": [
       "<pre style=\"white-space:pre;overflow-x:auto;line-height:normal;font-family:Menlo,'DejaVu Sans Mono',consolas,'Courier New',monospace\">aolrpub_coding_dh_org.csv\n",
       "</pre>\n"
      ],
      "text/plain": [
       "aolrpub_coding_dh_org.csv\n"
      ]
     },
     "metadata": {},
     "output_type": "display_data"
    },
    {
     "data": {
      "text/html": [
       "<pre style=\"white-space:pre;overflow-x:auto;line-height:normal;font-family:Menlo,'DejaVu Sans Mono',consolas,'Courier New',monospace\">opensourcehistory_coding_dh_org.csv\n",
       "</pre>\n"
      ],
      "text/plain": [
       "opensourcehistory_coding_dh_org.csv\n"
      ]
     },
     "metadata": {},
     "output_type": "display_data"
    },
    {
     "data": {
      "text/html": [
       "<pre style=\"white-space:pre;overflow-x:auto;line-height:normal;font-family:Menlo,'DejaVu Sans Mono',consolas,'Courier New',monospace\">globalise-huygens_coding_dh_org.csv\n",
       "</pre>\n"
      ],
      "text/plain": [
       "globalise-huygens_coding_dh_org.csv\n"
      ]
     },
     "metadata": {},
     "output_type": "display_data"
    },
    {
     "data": {
      "text/html": [
       "<pre style=\"white-space:pre;overflow-x:auto;line-height:normal;font-family:Menlo,'DejaVu Sans Mono',consolas,'Courier New',monospace\">craws_coding_dh_org.csv\n",
       "</pre>\n"
      ],
      "text/plain": [
       "craws_coding_dh_org.csv\n"
      ]
     },
     "metadata": {},
     "output_type": "display_data"
    },
    {
     "data": {
      "text/html": [
       "<pre style=\"white-space:pre;overflow-x:auto;line-height:normal;font-family:Menlo,'DejaVu Sans Mono',consolas,'Courier New',monospace\">Marmosad_coding_dh_org.csv\n",
       "</pre>\n"
      ],
      "text/plain": [
       "Marmosad_coding_dh_org.csv\n"
      ]
     },
     "metadata": {},
     "output_type": "display_data"
    },
    {
     "data": {
      "text/html": [
       "<pre style=\"white-space:pre;overflow-x:auto;line-height:normal;font-family:Menlo,'DejaVu Sans Mono',consolas,'Courier New',monospace\">vu-ctli_coding_dh_org.csv\n",
       "</pre>\n"
      ],
      "text/plain": [
       "vu-ctli_coding_dh_org.csv\n"
      ]
     },
     "metadata": {},
     "output_type": "display_data"
    },
    {
     "data": {
      "text/html": [
       "<pre style=\"white-space:pre;overflow-x:auto;line-height:normal;font-family:Menlo,'DejaVu Sans Mono',consolas,'Courier New',monospace\">OpenAPC_coding_dh_org.csv\n",
       "</pre>\n"
      ],
      "text/plain": [
       "OpenAPC_coding_dh_org.csv\n"
      ]
     },
     "metadata": {},
     "output_type": "display_data"
    },
    {
     "data": {
      "text/html": [
       "<pre style=\"white-space:pre;overflow-x:auto;line-height:normal;font-family:Menlo,'DejaVu Sans Mono',consolas,'Courier New',monospace\">google_coding_dh_org.csv\n",
       "</pre>\n"
      ],
      "text/plain": [
       "google_coding_dh_org.csv\n"
      ]
     },
     "metadata": {},
     "output_type": "display_data"
    },
    {
     "data": {
      "text/html": [
       "<pre style=\"white-space:pre;overflow-x:auto;line-height:normal;font-family:Menlo,'DejaVu Sans Mono',consolas,'Courier New',monospace\">alan-turing-institute_coding_dh_org.csv\n",
       "</pre>\n"
      ],
      "text/plain": [
       "alan-turing-institute_coding_dh_org.csv\n"
      ]
     },
     "metadata": {},
     "output_type": "display_data"
    },
    {
     "data": {
      "text/html": [
       "<pre style=\"white-space:pre;overflow-x:auto;line-height:normal;font-family:Menlo,'DejaVu Sans Mono',consolas,'Courier New',monospace\">KUBDatalab_coding_dh_org.csv\n",
       "</pre>\n"
      ],
      "text/plain": [
       "KUBDatalab_coding_dh_org.csv\n"
      ]
     },
     "metadata": {},
     "output_type": "display_data"
    },
    {
     "data": {
      "text/html": [
       "<pre style=\"white-space:pre;overflow-x:auto;line-height:normal;font-family:Menlo,'DejaVu Sans Mono',consolas,'Courier New',monospace\">Newbook-Digital-Texts_coding_dh_org.csv\n",
       "</pre>\n"
      ],
      "text/plain": [
       "Newbook-Digital-Texts_coding_dh_org.csv\n"
      ]
     },
     "metadata": {},
     "output_type": "display_data"
    },
    {
     "data": {
      "text/html": [
       "<pre style=\"white-space:pre;overflow-x:auto;line-height:normal;font-family:Menlo,'DejaVu Sans Mono',consolas,'Courier New',monospace\">sastrarobotics_coding_dh_org.csv\n",
       "</pre>\n"
      ],
      "text/plain": [
       "sastrarobotics_coding_dh_org.csv\n"
      ]
     },
     "metadata": {},
     "output_type": "display_data"
    },
    {
     "data": {
      "text/html": [
       "<pre style=\"white-space:pre;overflow-x:auto;line-height:normal;font-family:Menlo,'DejaVu Sans Mono',consolas,'Courier New',monospace\">PyTables_coding_dh_org.csv\n",
       "</pre>\n"
      ],
      "text/plain": [
       "PyTables_coding_dh_org.csv\n"
      ]
     },
     "metadata": {},
     "output_type": "display_data"
    },
    {
     "data": {
      "text/html": [
       "<pre style=\"white-space:pre;overflow-x:auto;line-height:normal;font-family:Menlo,'DejaVu Sans Mono',consolas,'Courier New',monospace\">h-REA_coding_dh_org.csv\n",
       "</pre>\n"
      ],
      "text/plain": [
       "h-REA_coding_dh_org.csv\n"
      ]
     },
     "metadata": {},
     "output_type": "display_data"
    },
    {
     "data": {
      "text/html": [
       "<pre style=\"white-space:pre;overflow-x:auto;line-height:normal;font-family:Menlo,'DejaVu Sans Mono',consolas,'Courier New',monospace\">KONDE-AT_coding_dh_org.csv\n",
       "</pre>\n"
      ],
      "text/plain": [
       "KONDE-AT_coding_dh_org.csv\n"
      ]
     },
     "metadata": {},
     "output_type": "display_data"
    },
    {
     "data": {
      "text/html": [
       "<pre style=\"white-space:pre;overflow-x:auto;line-height:normal;font-family:Menlo,'DejaVu Sans Mono',consolas,'Courier New',monospace\">icdp-digital-library_coding_dh_org.csv\n",
       "</pre>\n"
      ],
      "text/plain": [
       "icdp-digital-library_coding_dh_org.csv\n"
      ]
     },
     "metadata": {},
     "output_type": "display_data"
    },
    {
     "data": {
      "text/html": [
       "<pre style=\"white-space:pre;overflow-x:auto;line-height:normal;font-family:Menlo,'DejaVu Sans Mono',consolas,'Courier New',monospace\">o2r-project_coding_dh_org.csv\n",
       "</pre>\n"
      ],
      "text/plain": [
       "o2r-project_coding_dh_org.csv\n"
      ]
     },
     "metadata": {},
     "output_type": "display_data"
    },
    {
     "data": {
      "text/html": [
       "<pre style=\"white-space:pre;overflow-x:auto;line-height:normal;font-family:Menlo,'DejaVu Sans Mono',consolas,'Courier New',monospace\">journocoders_coding_dh_org.csv\n",
       "</pre>\n"
      ],
      "text/plain": [
       "journocoders_coding_dh_org.csv\n"
      ]
     },
     "metadata": {},
     "output_type": "display_data"
    },
    {
     "data": {
      "text/html": [
       "<pre style=\"white-space:pre;overflow-x:auto;line-height:normal;font-family:Menlo,'DejaVu Sans Mono',consolas,'Courier New',monospace\">harvard-lts_coding_dh_org.csv\n",
       "</pre>\n"
      ],
      "text/plain": [
       "harvard-lts_coding_dh_org.csv\n"
      ]
     },
     "metadata": {},
     "output_type": "display_data"
    },
    {
     "data": {
      "text/html": [
       "<pre style=\"white-space:pre;overflow-x:auto;line-height:normal;font-family:Menlo,'DejaVu Sans Mono',consolas,'Courier New',monospace\">Cibercliografia_coding_dh_org.csv\n",
       "</pre>\n"
      ],
      "text/plain": [
       "Cibercliografia_coding_dh_org.csv\n"
      ]
     },
     "metadata": {},
     "output_type": "display_data"
    },
    {
     "data": {
      "text/html": [
       "<pre style=\"white-space:pre;overflow-x:auto;line-height:normal;font-family:Menlo,'DejaVu Sans Mono',consolas,'Courier New',monospace\">splurge_coding_dh_org.csv\n",
       "</pre>\n"
      ],
      "text/plain": [
       "splurge_coding_dh_org.csv\n"
      ]
     },
     "metadata": {},
     "output_type": "display_data"
    },
    {
     "data": {
      "text/html": [
       "<pre style=\"white-space:pre;overflow-x:auto;line-height:normal;font-family:Menlo,'DejaVu Sans Mono',consolas,'Courier New',monospace\">pastpages_coding_dh_org.csv\n",
       "</pre>\n"
      ],
      "text/plain": [
       "pastpages_coding_dh_org.csv\n"
      ]
     },
     "metadata": {},
     "output_type": "display_data"
    },
    {
     "data": {
      "text/html": [
       "<pre style=\"white-space:pre;overflow-x:auto;line-height:normal;font-family:Menlo,'DejaVu Sans Mono',consolas,'Courier New',monospace\">OpenStemmata_coding_dh_org.csv\n",
       "</pre>\n"
      ],
      "text/plain": [
       "OpenStemmata_coding_dh_org.csv\n"
      ]
     },
     "metadata": {},
     "output_type": "display_data"
    },
    {
     "data": {
      "text/html": [
       "<pre style=\"white-space:pre;overflow-x:auto;line-height:normal;font-family:Menlo,'DejaVu Sans Mono',consolas,'Courier New',monospace\">peregrinor_coding_dh_org.csv\n",
       "</pre>\n"
      ],
      "text/plain": [
       "peregrinor_coding_dh_org.csv\n"
      ]
     },
     "metadata": {},
     "output_type": "display_data"
    },
    {
     "data": {
      "text/html": [
       "<pre style=\"white-space:pre;overflow-x:auto;line-height:normal;font-family:Menlo,'DejaVu Sans Mono',consolas,'Courier New',monospace\">Department-of-ICT-FHSS_coding_dh_org.csv\n",
       "</pre>\n"
      ],
      "text/plain": [
       "Department-of-ICT-FHSS_coding_dh_org.csv\n"
      ]
     },
     "metadata": {},
     "output_type": "display_data"
    },
    {
     "data": {
      "text/html": [
       "<pre style=\"white-space:pre;overflow-x:auto;line-height:normal;font-family:Menlo,'DejaVu Sans Mono',consolas,'Courier New',monospace\">remoteintech_coding_dh_org.csv\n",
       "</pre>\n"
      ],
      "text/plain": [
       "remoteintech_coding_dh_org.csv\n"
      ]
     },
     "metadata": {},
     "output_type": "display_data"
    },
    {
     "data": {
      "text/html": [
       "<pre style=\"white-space:pre;overflow-x:auto;line-height:normal;font-family:Menlo,'DejaVu Sans Mono',consolas,'Courier New',monospace\">spice-h2020_coding_dh_org.csv\n",
       "</pre>\n"
      ],
      "text/plain": [
       "spice-h2020_coding_dh_org.csv\n"
      ]
     },
     "metadata": {},
     "output_type": "display_data"
    },
    {
     "data": {
      "text/html": [
       "<pre style=\"white-space:pre;overflow-x:auto;line-height:normal;font-family:Menlo,'DejaVu Sans Mono',consolas,'Courier New',monospace\">IRISTechTalks_coding_dh_org.csv\n",
       "</pre>\n"
      ],
      "text/plain": [
       "IRISTechTalks_coding_dh_org.csv\n"
      ]
     },
     "metadata": {},
     "output_type": "display_data"
    },
    {
     "data": {
      "text/html": [
       "<pre style=\"white-space:pre;overflow-x:auto;line-height:normal;font-family:Menlo,'DejaVu Sans Mono',consolas,'Courier New',monospace\">comp-think_coding_dh_org.csv\n",
       "</pre>\n"
      ],
      "text/plain": [
       "comp-think_coding_dh_org.csv\n"
      ]
     },
     "metadata": {},
     "output_type": "display_data"
    },
    {
     "data": {
      "text/html": [
       "<pre style=\"white-space:pre;overflow-x:auto;line-height:normal;font-family:Menlo,'DejaVu Sans Mono',consolas,'Courier New',monospace\">Project-Elijah_coding_dh_org.csv\n",
       "</pre>\n"
      ],
      "text/plain": [
       "Project-Elijah_coding_dh_org.csv\n"
      ]
     },
     "metadata": {},
     "output_type": "display_data"
    },
    {
     "data": {
      "text/html": [
       "<pre style=\"white-space:pre;overflow-x:auto;line-height:normal;font-family:Menlo,'DejaVu Sans Mono',consolas,'Courier New',monospace\">3DCdsc_coding_dh_org.csv\n",
       "</pre>\n"
      ],
      "text/plain": [
       "3DCdsc_coding_dh_org.csv\n"
      ]
     },
     "metadata": {},
     "output_type": "display_data"
    },
    {
     "data": {
      "text/html": [
       "<pre style=\"white-space:pre;overflow-x:auto;line-height:normal;font-family:Menlo,'DejaVu Sans Mono',consolas,'Courier New',monospace\">neo4j_coding_dh_org.csv\n",
       "</pre>\n"
      ],
      "text/plain": [
       "neo4j_coding_dh_org.csv\n"
      ]
     },
     "metadata": {},
     "output_type": "display_data"
    },
    {
     "data": {
      "text/html": [
       "<pre style=\"white-space:pre;overflow-x:auto;line-height:normal;font-family:Menlo,'DejaVu Sans Mono',consolas,'Courier New',monospace\">commul_coding_dh_org.csv\n",
       "</pre>\n"
      ],
      "text/plain": [
       "commul_coding_dh_org.csv\n"
      ]
     },
     "metadata": {},
     "output_type": "display_data"
    },
    {
     "data": {
      "text/html": [
       "<pre style=\"white-space:pre;overflow-x:auto;line-height:normal;font-family:Menlo,'DejaVu Sans Mono',consolas,'Courier New',monospace\">MacSysadmin_coding_dh_org.csv\n",
       "</pre>\n"
      ],
      "text/plain": [
       "MacSysadmin_coding_dh_org.csv\n"
      ]
     },
     "metadata": {},
     "output_type": "display_data"
    },
    {
     "data": {
      "text/html": [
       "<pre style=\"white-space:pre;overflow-x:auto;line-height:normal;font-family:Menlo,'DejaVu Sans Mono',consolas,'Courier New',monospace\">BritishMuseum_coding_dh_org.csv\n",
       "</pre>\n"
      ],
      "text/plain": [
       "BritishMuseum_coding_dh_org.csv\n"
      ]
     },
     "metadata": {},
     "output_type": "display_data"
    },
    {
     "data": {
      "text/html": [
       "<pre style=\"white-space:pre;overflow-x:auto;line-height:normal;font-family:Menlo,'DejaVu Sans Mono',consolas,'Courier New',monospace\">TESTaLOD_coding_dh_org.csv\n",
       "</pre>\n"
      ],
      "text/plain": [
       "TESTaLOD_coding_dh_org.csv\n"
      ]
     },
     "metadata": {},
     "output_type": "display_data"
    },
    {
     "data": {
      "text/html": [
       "<pre style=\"white-space:pre;overflow-x:auto;line-height:normal;font-family:Menlo,'DejaVu Sans Mono',consolas,'Courier New',monospace\">periodo_coding_dh_org.csv\n",
       "</pre>\n"
      ],
      "text/plain": [
       "periodo_coding_dh_org.csv\n"
      ]
     },
     "metadata": {},
     "output_type": "display_data"
    },
    {
     "data": {
      "text/html": [
       "<pre style=\"white-space:pre;overflow-x:auto;line-height:normal;font-family:Menlo,'DejaVu Sans Mono',consolas,'Courier New',monospace\">Global-Witness_coding_dh_org.csv\n",
       "</pre>\n"
      ],
      "text/plain": [
       "Global-Witness_coding_dh_org.csv\n"
      ]
     },
     "metadata": {},
     "output_type": "display_data"
    },
    {
     "data": {
      "text/html": [
       "<pre style=\"white-space:pre;overflow-x:auto;line-height:normal;font-family:Menlo,'DejaVu Sans Mono',consolas,'Courier New',monospace\">AgID_coding_dh_org.csv\n",
       "</pre>\n"
      ],
      "text/plain": [
       "AgID_coding_dh_org.csv\n"
      ]
     },
     "metadata": {},
     "output_type": "display_data"
    },
    {
     "data": {
      "text/html": [
       "<pre style=\"white-space:pre;overflow-x:auto;line-height:normal;font-family:Menlo,'DejaVu Sans Mono',consolas,'Courier New',monospace\">plsc-31101_coding_dh_org.csv\n",
       "</pre>\n"
      ],
      "text/plain": [
       "plsc-31101_coding_dh_org.csv\n"
      ]
     },
     "metadata": {},
     "output_type": "display_data"
    },
    {
     "data": {
      "text/html": [
       "<pre style=\"white-space:pre;overflow-x:auto;line-height:normal;font-family:Menlo,'DejaVu Sans Mono',consolas,'Courier New',monospace\">allenai_coding_dh_org.csv\n",
       "</pre>\n"
      ],
      "text/plain": [
       "allenai_coding_dh_org.csv\n"
      ]
     },
     "metadata": {},
     "output_type": "display_data"
    },
    {
     "data": {
      "text/html": [
       "<pre style=\"white-space:pre;overflow-x:auto;line-height:normal;font-family:Menlo,'DejaVu Sans Mono',consolas,'Courier New',monospace\">NVlabs_coding_dh_org.csv\n",
       "</pre>\n"
      ],
      "text/plain": [
       "NVlabs_coding_dh_org.csv\n"
      ]
     },
     "metadata": {},
     "output_type": "display_data"
    },
    {
     "data": {
      "text/html": [
       "<pre style=\"white-space:pre;overflow-x:auto;line-height:normal;font-family:Menlo,'DejaVu Sans Mono',consolas,'Courier New',monospace\">bethgelab_coding_dh_org.csv\n",
       "</pre>\n"
      ],
      "text/plain": [
       "bethgelab_coding_dh_org.csv\n"
      ]
     },
     "metadata": {},
     "output_type": "display_data"
    },
    {
     "data": {
      "text/html": [
       "<pre style=\"white-space:pre;overflow-x:auto;line-height:normal;font-family:Menlo,'DejaVu Sans Mono',consolas,'Courier New',monospace\">Sastra-id_coding_dh_org.csv\n",
       "</pre>\n"
      ],
      "text/plain": [
       "Sastra-id_coding_dh_org.csv\n"
      ]
     },
     "metadata": {},
     "output_type": "display_data"
    },
    {
     "data": {
      "text/html": [
       "<pre style=\"white-space:pre;overflow-x:auto;line-height:normal;font-family:Menlo,'DejaVu Sans Mono',consolas,'Courier New',monospace\">capetiens_coding_dh_org.csv\n",
       "</pre>\n"
      ],
      "text/plain": [
       "capetiens_coding_dh_org.csv\n"
      ]
     },
     "metadata": {},
     "output_type": "display_data"
    },
    {
     "data": {
      "text/html": [
       "<pre style=\"white-space:pre;overflow-x:auto;line-height:normal;font-family:Menlo,'DejaVu Sans Mono',consolas,'Courier New',monospace\">Reproducible-Science-Curriculum_coding_dh_org.csv\n",
       "</pre>\n"
      ],
      "text/plain": [
       "Reproducible-Science-Curriculum_coding_dh_org.csv\n"
      ]
     },
     "metadata": {},
     "output_type": "display_data"
    },
    {
     "data": {
      "text/html": [
       "<pre style=\"white-space:pre;overflow-x:auto;line-height:normal;font-family:Menlo,'DejaVu Sans Mono',consolas,'Courier New',monospace\">munhss_coding_dh_org.csv\n",
       "</pre>\n"
      ],
      "text/plain": [
       "munhss_coding_dh_org.csv\n"
      ]
     },
     "metadata": {},
     "output_type": "display_data"
    },
    {
     "data": {
      "text/html": [
       "<pre style=\"white-space:pre;overflow-x:auto;line-height:normal;font-family:Menlo,'DejaVu Sans Mono',consolas,'Courier New',monospace\">ORCID_coding_dh_org.csv\n",
       "</pre>\n"
      ],
      "text/plain": [
       "ORCID_coding_dh_org.csv\n"
      ]
     },
     "metadata": {},
     "output_type": "display_data"
    },
    {
     "data": {
      "text/html": [
       "<pre style=\"white-space:pre;overflow-x:auto;line-height:normal;font-family:Menlo,'DejaVu Sans Mono',consolas,'Courier New',monospace\">The-Next-Edge_coding_dh_org.csv\n",
       "</pre>\n"
      ],
      "text/plain": [
       "The-Next-Edge_coding_dh_org.csv\n"
      ]
     },
     "metadata": {},
     "output_type": "display_data"
    },
    {
     "data": {
      "text/html": [
       "<pre style=\"white-space:pre;overflow-x:auto;line-height:normal;font-family:Menlo,'DejaVu Sans Mono',consolas,'Courier New',monospace\">zweidenker_coding_dh_org.csv\n",
       "</pre>\n"
      ],
      "text/plain": [
       "zweidenker_coding_dh_org.csv\n"
      ]
     },
     "metadata": {},
     "output_type": "display_data"
    },
    {
     "data": {
      "text/html": [
       "<pre style=\"white-space:pre;overflow-x:auto;line-height:normal;font-family:Menlo,'DejaVu Sans Mono',consolas,'Courier New',monospace\">isawnyu_coding_dh_org.csv\n",
       "</pre>\n"
      ],
      "text/plain": [
       "isawnyu_coding_dh_org.csv\n"
      ]
     },
     "metadata": {},
     "output_type": "display_data"
    },
    {
     "data": {
      "text/html": [
       "<pre style=\"white-space:pre;overflow-x:auto;line-height:normal;font-family:Menlo,'DejaVu Sans Mono',consolas,'Courier New',monospace\">django_coding_dh_org.csv\n",
       "</pre>\n"
      ],
      "text/plain": [
       "django_coding_dh_org.csv\n"
      ]
     },
     "metadata": {},
     "output_type": "display_data"
    },
    {
     "data": {
      "text/html": [
       "<pre style=\"white-space:pre;overflow-x:auto;line-height:normal;font-family:Menlo,'DejaVu Sans Mono',consolas,'Courier New',monospace\">nebuly-ai_coding_dh_org.csv\n",
       "</pre>\n"
      ],
      "text/plain": [
       "nebuly-ai_coding_dh_org.csv\n"
      ]
     },
     "metadata": {},
     "output_type": "display_data"
    },
    {
     "data": {
      "text/html": [
       "<pre style=\"white-space:pre;overflow-x:auto;line-height:normal;font-family:Menlo,'DejaVu Sans Mono',consolas,'Courier New',monospace\">howlite_coding_dh_org.csv\n",
       "</pre>\n"
      ],
      "text/plain": [
       "howlite_coding_dh_org.csv\n"
      ]
     },
     "metadata": {},
     "output_type": "display_data"
    },
    {
     "data": {
      "text/html": [
       "<pre style=\"white-space:pre;overflow-x:auto;line-height:normal;font-family:Menlo,'DejaVu Sans Mono',consolas,'Courier New',monospace\">learning-layers_coding_dh_org.csv\n",
       "</pre>\n"
      ],
      "text/plain": [
       "learning-layers_coding_dh_org.csv\n"
      ]
     },
     "metadata": {},
     "output_type": "display_data"
    },
    {
     "data": {
      "text/html": [
       "<pre style=\"white-space:pre;overflow-x:auto;line-height:normal;font-family:Menlo,'DejaVu Sans Mono',consolas,'Courier New',monospace\">ucsdlib_coding_dh_org.csv\n",
       "</pre>\n"
      ],
      "text/plain": [
       "ucsdlib_coding_dh_org.csv\n"
      ]
     },
     "metadata": {},
     "output_type": "display_data"
    },
    {
     "data": {
      "text/html": [
       "<pre style=\"white-space:pre;overflow-x:auto;line-height:normal;font-family:Menlo,'DejaVu Sans Mono',consolas,'Courier New',monospace\">v073_coding_dh_org.csv\n",
       "</pre>\n"
      ],
      "text/plain": [
       "v073_coding_dh_org.csv\n"
      ]
     },
     "metadata": {},
     "output_type": "display_data"
    },
    {
     "data": {
      "text/html": [
       "<pre style=\"white-space:pre;overflow-x:auto;line-height:normal;font-family:Menlo,'DejaVu Sans Mono',consolas,'Courier New',monospace\">Chronomodel_coding_dh_org.csv\n",
       "</pre>\n"
      ],
      "text/plain": [
       "Chronomodel_coding_dh_org.csv\n"
      ]
     },
     "metadata": {},
     "output_type": "display_data"
    },
    {
     "data": {
      "text/html": [
       "<pre style=\"white-space:pre;overflow-x:auto;line-height:normal;font-family:Menlo,'DejaVu Sans Mono',consolas,'Courier New',monospace\">R4EPI_coding_dh_org.csv\n",
       "</pre>\n"
      ],
      "text/plain": [
       "R4EPI_coding_dh_org.csv\n"
      ]
     },
     "metadata": {},
     "output_type": "display_data"
    },
    {
     "data": {
      "text/html": [
       "<pre style=\"white-space:pre;overflow-x:auto;line-height:normal;font-family:Menlo,'DejaVu Sans Mono',consolas,'Courier New',monospace\">uppsalaJS_coding_dh_org.csv\n",
       "</pre>\n"
      ],
      "text/plain": [
       "uppsalaJS_coding_dh_org.csv\n"
      ]
     },
     "metadata": {},
     "output_type": "display_data"
    },
    {
     "data": {
      "text/html": [
       "<pre style=\"white-space:pre;overflow-x:auto;line-height:normal;font-family:Menlo,'DejaVu Sans Mono',consolas,'Courier New',monospace\">NeuroTechX_coding_dh_org.csv\n",
       "</pre>\n"
      ],
      "text/plain": [
       "NeuroTechX_coding_dh_org.csv\n"
      ]
     },
     "metadata": {},
     "output_type": "display_data"
    },
    {
     "data": {
      "text/html": [
       "<pre style=\"white-space:pre;overflow-x:auto;line-height:normal;font-family:Menlo,'DejaVu Sans Mono',consolas,'Courier New',monospace\">nu-lts_coding_dh_org.csv\n",
       "</pre>\n"
      ],
      "text/plain": [
       "nu-lts_coding_dh_org.csv\n"
      ]
     },
     "metadata": {},
     "output_type": "display_data"
    },
    {
     "data": {
      "text/html": [
       "<pre style=\"white-space:pre;overflow-x:auto;line-height:normal;font-family:Menlo,'DejaVu Sans Mono',consolas,'Courier New',monospace\">uwnlp_coding_dh_org.csv\n",
       "</pre>\n"
      ],
      "text/plain": [
       "uwnlp_coding_dh_org.csv\n"
      ]
     },
     "metadata": {},
     "output_type": "display_data"
    },
    {
     "data": {
      "text/html": [
       "<pre style=\"white-space:pre;overflow-x:auto;line-height:normal;font-family:Menlo,'DejaVu Sans Mono',consolas,'Courier New',monospace\">Nino-cunei_coding_dh_org.csv\n",
       "</pre>\n"
      ],
      "text/plain": [
       "Nino-cunei_coding_dh_org.csv\n"
      ]
     },
     "metadata": {},
     "output_type": "display_data"
    },
    {
     "data": {
      "text/html": [
       "<pre style=\"white-space:pre;overflow-x:auto;line-height:normal;font-family:Menlo,'DejaVu Sans Mono',consolas,'Courier New',monospace\">bulk-reviewer_coding_dh_org.csv\n",
       "</pre>\n"
      ],
      "text/plain": [
       "bulk-reviewer_coding_dh_org.csv\n"
      ]
     },
     "metadata": {},
     "output_type": "display_data"
    },
    {
     "data": {
      "text/html": [
       "<pre style=\"white-space:pre;overflow-x:auto;line-height:normal;font-family:Menlo,'DejaVu Sans Mono',consolas,'Courier New',monospace\">dskwiot_coding_dh_org.csv\n",
       "</pre>\n"
      ],
      "text/plain": [
       "dskwiot_coding_dh_org.csv\n"
      ]
     },
     "metadata": {},
     "output_type": "display_data"
    },
    {
     "data": {
      "text/html": [
       "<pre style=\"white-space:pre;overflow-x:auto;line-height:normal;font-family:Menlo,'DejaVu Sans Mono',consolas,'Courier New',monospace\">csvconf_coding_dh_org.csv\n",
       "</pre>\n"
      ],
      "text/plain": [
       "csvconf_coding_dh_org.csv\n"
      ]
     },
     "metadata": {},
     "output_type": "display_data"
    },
    {
     "data": {
      "text/html": [
       "<pre style=\"white-space:pre;overflow-x:auto;line-height:normal;font-family:Menlo,'DejaVu Sans Mono',consolas,'Courier New',monospace\">rasterio_coding_dh_org.csv\n",
       "</pre>\n"
      ],
      "text/plain": [
       "rasterio_coding_dh_org.csv\n"
      ]
     },
     "metadata": {},
     "output_type": "display_data"
    },
    {
     "data": {
      "text/html": [
       "<pre style=\"white-space:pre;overflow-x:auto;line-height:normal;font-family:Menlo,'DejaVu Sans Mono',consolas,'Courier New',monospace\">numpy_coding_dh_org.csv\n",
       "</pre>\n"
      ],
      "text/plain": [
       "numpy_coding_dh_org.csv\n"
      ]
     },
     "metadata": {},
     "output_type": "display_data"
    },
    {
     "data": {
      "text/html": [
       "<pre style=\"white-space:pre;overflow-x:auto;line-height:normal;font-family:Menlo,'DejaVu Sans Mono',consolas,'Courier New',monospace\">bothosty_coding_dh_org.csv\n",
       "</pre>\n"
      ],
      "text/plain": [
       "bothosty_coding_dh_org.csv\n"
      ]
     },
     "metadata": {},
     "output_type": "display_data"
    },
    {
     "data": {
      "text/html": [
       "<pre style=\"white-space:pre;overflow-x:auto;line-height:normal;font-family:Menlo,'DejaVu Sans Mono',consolas,'Courier New',monospace\">morphgnt_coding_dh_org.csv\n",
       "</pre>\n"
      ],
      "text/plain": [
       "morphgnt_coding_dh_org.csv\n"
      ]
     },
     "metadata": {},
     "output_type": "display_data"
    },
    {
     "data": {
      "text/html": [
       "<pre style=\"white-space:pre;overflow-x:auto;line-height:normal;font-family:Menlo,'DejaVu Sans Mono',consolas,'Courier New',monospace\">STUPIDSHITNOONEINHAWAIINEEDSHACKATHON_coding_dh_org.csv\n",
       "</pre>\n"
      ],
      "text/plain": [
       "STUPIDSHITNOONEINHAWAIINEEDSHACKATHON_coding_dh_org.csv\n"
      ]
     },
     "metadata": {},
     "output_type": "display_data"
    },
    {
     "data": {
      "text/html": [
       "<pre style=\"white-space:pre;overflow-x:auto;line-height:normal;font-family:Menlo,'DejaVu Sans Mono',consolas,'Courier New',monospace\">bembus_coding_dh_org.csv\n",
       "</pre>\n"
      ],
      "text/plain": [
       "bembus_coding_dh_org.csv\n"
      ]
     },
     "metadata": {},
     "output_type": "display_data"
    },
    {
     "data": {
      "text/html": [
       "<pre style=\"white-space:pre;overflow-x:auto;line-height:normal;font-family:Menlo,'DejaVu Sans Mono',consolas,'Courier New',monospace\">lucoodevcourse_coding_dh_org.csv\n",
       "</pre>\n"
      ],
      "text/plain": [
       "lucoodevcourse_coding_dh_org.csv\n"
      ]
     },
     "metadata": {},
     "output_type": "display_data"
    },
    {
     "data": {
      "text/html": [
       "<pre style=\"white-space:pre;overflow-x:auto;line-height:normal;font-family:Menlo,'DejaVu Sans Mono',consolas,'Courier New',monospace\">docuverse_coding_dh_org.csv\n",
       "</pre>\n"
      ],
      "text/plain": [
       "docuverse_coding_dh_org.csv\n"
      ]
     },
     "metadata": {},
     "output_type": "display_data"
    },
    {
     "data": {
      "text/html": [
       "<pre style=\"white-space:pre;overflow-x:auto;line-height:normal;font-family:Menlo,'DejaVu Sans Mono',consolas,'Courier New',monospace\">CDSP-SCPO_coding_dh_org.csv\n",
       "</pre>\n"
      ],
      "text/plain": [
       "CDSP-SCPO_coding_dh_org.csv\n"
      ]
     },
     "metadata": {},
     "output_type": "display_data"
    },
    {
     "data": {
      "text/html": [
       "<pre style=\"white-space:pre;overflow-x:auto;line-height:normal;font-family:Menlo,'DejaVu Sans Mono',consolas,'Courier New',monospace\">SAA-SDT_coding_dh_org.csv\n",
       "</pre>\n"
      ],
      "text/plain": [
       "SAA-SDT_coding_dh_org.csv\n"
      ]
     },
     "metadata": {},
     "output_type": "display_data"
    },
    {
     "data": {
      "text/html": [
       "<pre style=\"white-space:pre;overflow-x:auto;line-height:normal;font-family:Menlo,'DejaVu Sans Mono',consolas,'Courier New',monospace\">geoblacklight_coding_dh_org.csv\n",
       "</pre>\n"
      ],
      "text/plain": [
       "geoblacklight_coding_dh_org.csv\n"
      ]
     },
     "metadata": {},
     "output_type": "display_data"
    },
    {
     "data": {
      "text/html": [
       "<pre style=\"white-space:pre;overflow-x:auto;line-height:normal;font-family:Menlo,'DejaVu Sans Mono',consolas,'Courier New',monospace\">decompositional-semantics-initiative_coding_dh_org.csv\n",
       "</pre>\n"
      ],
      "text/plain": [
       "decompositional-semantics-initiative_coding_dh_org.csv\n"
      ]
     },
     "metadata": {},
     "output_type": "display_data"
    },
    {
     "data": {
      "text/html": [
       "<pre style=\"white-space:pre;overflow-x:auto;line-height:normal;font-family:Menlo,'DejaVu Sans Mono',consolas,'Courier New',monospace\">ProjectJaraid_coding_dh_org.csv\n",
       "</pre>\n"
      ],
      "text/plain": [
       "ProjectJaraid_coding_dh_org.csv\n"
      ]
     },
     "metadata": {},
     "output_type": "display_data"
    },
    {
     "data": {
      "text/html": [
       "<pre style=\"white-space:pre;overflow-x:auto;line-height:normal;font-family:Menlo,'DejaVu Sans Mono',consolas,'Courier New',monospace\">remarkjs_coding_dh_org.csv\n",
       "</pre>\n"
      ],
      "text/plain": [
       "remarkjs_coding_dh_org.csv\n"
      ]
     },
     "metadata": {},
     "output_type": "display_data"
    },
    {
     "data": {
      "text/html": [
       "<pre style=\"white-space:pre;overflow-x:auto;line-height:normal;font-family:Menlo,'DejaVu Sans Mono',consolas,'Courier New',monospace\">skm3ou_coding_dh_org.csv\n",
       "</pre>\n"
      ],
      "text/plain": [
       "skm3ou_coding_dh_org.csv\n"
      ]
     },
     "metadata": {},
     "output_type": "display_data"
    },
    {
     "data": {
      "text/html": [
       "<pre style=\"white-space:pre;overflow-x:auto;line-height:normal;font-family:Menlo,'DejaVu Sans Mono',consolas,'Courier New',monospace\">factcheck-it_coding_dh_org.csv\n",
       "</pre>\n"
      ],
      "text/plain": [
       "factcheck-it_coding_dh_org.csv\n"
      ]
     },
     "metadata": {},
     "output_type": "display_data"
    },
    {
     "data": {
      "text/html": [
       "<pre style=\"white-space:pre;overflow-x:auto;line-height:normal;font-family:Menlo,'DejaVu Sans Mono',consolas,'Courier New',monospace\">die-schwarzen-augen_coding_dh_org.csv\n",
       "</pre>\n"
      ],
      "text/plain": [
       "die-schwarzen-augen_coding_dh_org.csv\n"
      ]
     },
     "metadata": {},
     "output_type": "display_data"
    },
    {
     "data": {
      "text/html": [
       "<pre style=\"white-space:pre;overflow-x:auto;line-height:normal;font-family:Menlo,'DejaVu Sans Mono',consolas,'Courier New',monospace\">CANUBE_coding_dh_org.csv\n",
       "</pre>\n"
      ],
      "text/plain": [
       "CANUBE_coding_dh_org.csv\n"
      ]
     },
     "metadata": {},
     "output_type": "display_data"
    },
    {
     "data": {
      "text/html": [
       "<pre style=\"white-space:pre;overflow-x:auto;line-height:normal;font-family:Menlo,'DejaVu Sans Mono',consolas,'Courier New',monospace\">achorg_coding_dh_org.csv\n",
       "</pre>\n"
      ],
      "text/plain": [
       "achorg_coding_dh_org.csv\n"
      ]
     },
     "metadata": {},
     "output_type": "display_data"
    },
    {
     "data": {
      "text/html": [
       "<pre style=\"white-space:pre;overflow-x:auto;line-height:normal;font-family:Menlo,'DejaVu Sans Mono',consolas,'Courier New',monospace\">wanderlust_coding_dh_org.csv\n",
       "</pre>\n"
      ],
      "text/plain": [
       "wanderlust_coding_dh_org.csv\n"
      ]
     },
     "metadata": {},
     "output_type": "display_data"
    },
    {
     "data": {
      "text/html": [
       "<pre style=\"white-space:pre;overflow-x:auto;line-height:normal;font-family:Menlo,'DejaVu Sans Mono',consolas,'Courier New',monospace\">lclg643_coding_dh_org.csv\n",
       "</pre>\n"
      ],
      "text/plain": [
       "lclg643_coding_dh_org.csv\n"
      ]
     },
     "metadata": {},
     "output_type": "display_data"
    },
    {
     "data": {
      "text/html": [
       "<pre style=\"white-space:pre;overflow-x:auto;line-height:normal;font-family:Menlo,'DejaVu Sans Mono',consolas,'Courier New',monospace\">0verseas_coding_dh_org.csv\n",
       "</pre>\n"
      ],
      "text/plain": [
       "0verseas_coding_dh_org.csv\n"
      ]
     },
     "metadata": {},
     "output_type": "display_data"
    },
    {
     "data": {
      "text/html": [
       "<pre style=\"white-space:pre;overflow-x:auto;line-height:normal;font-family:Menlo,'DejaVu Sans Mono',consolas,'Courier New',monospace\">iDigBio_coding_dh_org.csv\n",
       "</pre>\n"
      ],
      "text/plain": [
       "iDigBio_coding_dh_org.csv\n"
      ]
     },
     "metadata": {},
     "output_type": "display_data"
    },
    {
     "data": {
      "text/html": [
       "<pre style=\"white-space:pre;overflow-x:auto;line-height:normal;font-family:Menlo,'DejaVu Sans Mono',consolas,'Courier New',monospace\">pykeen_coding_dh_org.csv\n",
       "</pre>\n"
      ],
      "text/plain": [
       "pykeen_coding_dh_org.csv\n"
      ]
     },
     "metadata": {},
     "output_type": "display_data"
    },
    {
     "data": {
      "text/html": [
       "<pre style=\"white-space:pre;overflow-x:auto;line-height:normal;font-family:Menlo,'DejaVu Sans Mono',consolas,'Courier New',monospace\">YurisCodingClub_coding_dh_org.csv\n",
       "</pre>\n"
      ],
      "text/plain": [
       "YurisCodingClub_coding_dh_org.csv\n"
      ]
     },
     "metadata": {},
     "output_type": "display_data"
    },
    {
     "data": {
      "text/html": [
       "<pre style=\"white-space:pre;overflow-x:auto;line-height:normal;font-family:Menlo,'DejaVu Sans Mono',consolas,'Courier New',monospace\">dmcpatrimonio_coding_dh_org.csv\n",
       "</pre>\n"
      ],
      "text/plain": [
       "dmcpatrimonio_coding_dh_org.csv\n"
      ]
     },
     "metadata": {},
     "output_type": "display_data"
    },
    {
     "data": {
      "text/html": [
       "<pre style=\"white-space:pre;overflow-x:auto;line-height:normal;font-family:Menlo,'DejaVu Sans Mono',consolas,'Courier New',monospace\">tech4team_coding_dh_org.csv\n",
       "</pre>\n"
      ],
      "text/plain": [
       "tech4team_coding_dh_org.csv\n"
      ]
     },
     "metadata": {},
     "output_type": "display_data"
    },
    {
     "data": {
      "text/html": [
       "<pre style=\"white-space:pre;overflow-x:auto;line-height:normal;font-family:Menlo,'DejaVu Sans Mono',consolas,'Courier New',monospace\">rust-lang_coding_dh_org.csv\n",
       "</pre>\n"
      ],
      "text/plain": [
       "rust-lang_coding_dh_org.csv\n"
      ]
     },
     "metadata": {},
     "output_type": "display_data"
    },
    {
     "data": {
      "text/html": [
       "<pre style=\"white-space:pre;overflow-x:auto;line-height:normal;font-family:Menlo,'DejaVu Sans Mono',consolas,'Courier New',monospace\">openmodelingfoundation_coding_dh_org.csv\n",
       "</pre>\n"
      ],
      "text/plain": [
       "openmodelingfoundation_coding_dh_org.csv\n"
      ]
     },
     "metadata": {},
     "output_type": "display_data"
    },
    {
     "data": {
      "text/html": [
       "<pre style=\"white-space:pre;overflow-x:auto;line-height:normal;font-family:Menlo,'DejaVu Sans Mono',consolas,'Courier New',monospace\">Deutsche-Digitale-Bibliothek_coding_dh_org.csv\n",
       "</pre>\n"
      ],
      "text/plain": [
       "Deutsche-Digitale-Bibliothek_coding_dh_org.csv\n"
      ]
     },
     "metadata": {},
     "output_type": "display_data"
    },
    {
     "data": {
      "text/html": [
       "<pre style=\"white-space:pre;overflow-x:auto;line-height:normal;font-family:Menlo,'DejaVu Sans Mono',consolas,'Courier New',monospace\">dahvcduke_coding_dh_org.csv\n",
       "</pre>\n"
      ],
      "text/plain": [
       "dahvcduke_coding_dh_org.csv\n"
      ]
     },
     "metadata": {},
     "output_type": "display_data"
    },
    {
     "data": {
      "text/html": [
       "<pre style=\"white-space:pre;overflow-x:auto;line-height:normal;font-family:Menlo,'DejaVu Sans Mono',consolas,'Courier New',monospace\">SNA-projects_coding_dh_org.csv\n",
       "</pre>\n"
      ],
      "text/plain": [
       "SNA-projects_coding_dh_org.csv\n"
      ]
     },
     "metadata": {},
     "output_type": "display_data"
    },
    {
     "data": {
      "text/html": [
       "<pre style=\"white-space:pre;overflow-x:auto;line-height:normal;font-family:Menlo,'DejaVu Sans Mono',consolas,'Courier New',monospace\">systers_coding_dh_org.csv\n",
       "</pre>\n"
      ],
      "text/plain": [
       "systers_coding_dh_org.csv\n"
      ]
     },
     "metadata": {},
     "output_type": "display_data"
    },
    {
     "data": {
      "text/html": [
       "<pre style=\"white-space:pre;overflow-x:auto;line-height:normal;font-family:Menlo,'DejaVu Sans Mono',consolas,'Courier New',monospace\">synopsx_coding_dh_org.csv\n",
       "</pre>\n"
      ],
      "text/plain": [
       "synopsx_coding_dh_org.csv\n"
      ]
     },
     "metadata": {},
     "output_type": "display_data"
    },
    {
     "data": {
      "text/html": [
       "<pre style=\"white-space:pre;overflow-x:auto;line-height:normal;font-family:Menlo,'DejaVu Sans Mono',consolas,'Courier New',monospace\">substance_coding_dh_org.csv\n",
       "</pre>\n"
      ],
      "text/plain": [
       "substance_coding_dh_org.csv\n"
      ]
     },
     "metadata": {},
     "output_type": "display_data"
    },
    {
     "data": {
      "text/html": [
       "<pre style=\"white-space:pre;overflow-x:auto;line-height:normal;font-family:Menlo,'DejaVu Sans Mono',consolas,'Courier New',monospace\">usc-isi-i2_coding_dh_org.csv\n",
       "</pre>\n"
      ],
      "text/plain": [
       "usc-isi-i2_coding_dh_org.csv\n"
      ]
     },
     "metadata": {},
     "output_type": "display_data"
    },
    {
     "data": {
      "text/html": [
       "<pre style=\"white-space:pre;overflow-x:auto;line-height:normal;font-family:Menlo,'DejaVu Sans Mono',consolas,'Courier New',monospace\">NCEAS_coding_dh_org.csv\n",
       "</pre>\n"
      ],
      "text/plain": [
       "NCEAS_coding_dh_org.csv\n"
      ]
     },
     "metadata": {},
     "output_type": "display_data"
    },
    {
     "data": {
      "text/html": [
       "<pre style=\"white-space:pre;overflow-x:auto;line-height:normal;font-family:Menlo,'DejaVu Sans Mono',consolas,'Courier New',monospace\">CompVis_coding_dh_org.csv\n",
       "</pre>\n"
      ],
      "text/plain": [
       "CompVis_coding_dh_org.csv\n"
      ]
     },
     "metadata": {},
     "output_type": "display_data"
    },
    {
     "data": {
      "text/html": [
       "<pre style=\"white-space:pre;overflow-x:auto;line-height:normal;font-family:Menlo,'DejaVu Sans Mono',consolas,'Courier New',monospace\">r-windows_coding_dh_org.csv\n",
       "</pre>\n"
      ],
      "text/plain": [
       "r-windows_coding_dh_org.csv\n"
      ]
     },
     "metadata": {},
     "output_type": "display_data"
    },
    {
     "data": {
      "text/html": [
       "<pre style=\"white-space:pre;overflow-x:auto;line-height:normal;font-family:Menlo,'DejaVu Sans Mono',consolas,'Courier New',monospace\">ld4l-labs_coding_dh_org.csv\n",
       "</pre>\n"
      ],
      "text/plain": [
       "ld4l-labs_coding_dh_org.csv\n"
      ]
     },
     "metadata": {},
     "output_type": "display_data"
    },
    {
     "data": {
      "text/html": [
       "<pre style=\"white-space:pre;overflow-x:auto;line-height:normal;font-family:Menlo,'DejaVu Sans Mono',consolas,'Courier New',monospace\">katabase_coding_dh_org.csv\n",
       "</pre>\n"
      ],
      "text/plain": [
       "katabase_coding_dh_org.csv\n"
      ]
     },
     "metadata": {},
     "output_type": "display_data"
    },
    {
     "data": {
      "text/html": [
       "<pre style=\"white-space:pre;overflow-x:auto;line-height:normal;font-family:Menlo,'DejaVu Sans Mono',consolas,'Courier New',monospace\">hacktyler_coding_dh_org.csv\n",
       "</pre>\n"
      ],
      "text/plain": [
       "hacktyler_coding_dh_org.csv\n"
      ]
     },
     "metadata": {},
     "output_type": "display_data"
    },
    {
     "data": {
      "text/html": [
       "<pre style=\"white-space:pre;overflow-x:auto;line-height:normal;font-family:Menlo,'DejaVu Sans Mono',consolas,'Courier New',monospace\">hyperwell_coding_dh_org.csv\n",
       "</pre>\n"
      ],
      "text/plain": [
       "hyperwell_coding_dh_org.csv\n"
      ]
     },
     "metadata": {},
     "output_type": "display_data"
    },
    {
     "data": {
      "text/html": [
       "<pre style=\"white-space:pre;overflow-x:auto;line-height:normal;font-family:Menlo,'DejaVu Sans Mono',consolas,'Courier New',monospace\">dhgradlabor_coding_dh_org.csv\n",
       "</pre>\n"
      ],
      "text/plain": [
       "dhgradlabor_coding_dh_org.csv\n"
      ]
     },
     "metadata": {},
     "output_type": "display_data"
    },
    {
     "data": {
      "text/html": [
       "<pre style=\"white-space:pre;overflow-x:auto;line-height:normal;font-family:Menlo,'DejaVu Sans Mono',consolas,'Courier New',monospace\">WoPoss-project_coding_dh_org.csv\n",
       "</pre>\n"
      ],
      "text/plain": [
       "WoPoss-project_coding_dh_org.csv\n"
      ]
     },
     "metadata": {},
     "output_type": "display_data"
    },
    {
     "data": {
      "text/html": [
       "<pre style=\"white-space:pre;overflow-x:auto;line-height:normal;font-family:Menlo,'DejaVu Sans Mono',consolas,'Courier New',monospace\">SMAPPNYU_coding_dh_org.csv\n",
       "</pre>\n"
      ],
      "text/plain": [
       "SMAPPNYU_coding_dh_org.csv\n"
      ]
     },
     "metadata": {},
     "output_type": "display_data"
    },
    {
     "data": {
      "text/html": [
       "<pre style=\"white-space:pre;overflow-x:auto;line-height:normal;font-family:Menlo,'DejaVu Sans Mono',consolas,'Courier New',monospace\">rocker-org_coding_dh_org.csv\n",
       "</pre>\n"
      ],
      "text/plain": [
       "rocker-org_coding_dh_org.csv\n"
      ]
     },
     "metadata": {},
     "output_type": "display_data"
    },
    {
     "data": {
      "text/html": [
       "<pre style=\"white-space:pre;overflow-x:auto;line-height:normal;font-family:Menlo,'DejaVu Sans Mono',consolas,'Courier New',monospace\">Semalab_coding_dh_org.csv\n",
       "</pre>\n"
      ],
      "text/plain": [
       "Semalab_coding_dh_org.csv\n"
      ]
     },
     "metadata": {},
     "output_type": "display_data"
    },
    {
     "data": {
      "text/html": [
       "<pre style=\"white-space:pre;overflow-x:auto;line-height:normal;font-family:Menlo,'DejaVu Sans Mono',consolas,'Courier New',monospace\">rrdm-shh_coding_dh_org.csv\n",
       "</pre>\n"
      ],
      "text/plain": [
       "rrdm-shh_coding_dh_org.csv\n"
      ]
     },
     "metadata": {},
     "output_type": "display_data"
    },
    {
     "data": {
      "text/html": [
       "<pre style=\"white-space:pre;overflow-x:auto;line-height:normal;font-family:Menlo,'DejaVu Sans Mono',consolas,'Courier New',monospace\">the-magnificents_coding_dh_org.csv\n",
       "</pre>\n"
      ],
      "text/plain": [
       "the-magnificents_coding_dh_org.csv\n"
      ]
     },
     "metadata": {},
     "output_type": "display_data"
    },
    {
     "data": {
      "text/html": [
       "<pre style=\"white-space:pre;overflow-x:auto;line-height:normal;font-family:Menlo,'DejaVu Sans Mono',consolas,'Courier New',monospace\">OpenTreeOfLife_coding_dh_org.csv\n",
       "</pre>\n"
      ],
      "text/plain": [
       "OpenTreeOfLife_coding_dh_org.csv\n"
      ]
     },
     "metadata": {},
     "output_type": "display_data"
    },
    {
     "data": {
      "text/html": [
       "<pre style=\"white-space:pre;overflow-x:auto;line-height:normal;font-family:Menlo,'DejaVu Sans Mono',consolas,'Courier New',monospace\">nautechsystems_coding_dh_org.csv\n",
       "</pre>\n"
      ],
      "text/plain": [
       "nautechsystems_coding_dh_org.csv\n"
      ]
     },
     "metadata": {},
     "output_type": "display_data"
    },
    {
     "data": {
      "text/html": [
       "<pre style=\"white-space:pre;overflow-x:auto;line-height:normal;font-family:Menlo,'DejaVu Sans Mono',consolas,'Courier New',monospace\">godot-gazetteer_coding_dh_org.csv\n",
       "</pre>\n"
      ],
      "text/plain": [
       "godot-gazetteer_coding_dh_org.csv\n"
      ]
     },
     "metadata": {},
     "output_type": "display_data"
    },
    {
     "data": {
      "text/html": [
       "<pre style=\"white-space:pre;overflow-x:auto;line-height:normal;font-family:Menlo,'DejaVu Sans Mono',consolas,'Courier New',monospace\">MPI-EVA-Archaeogenetics_coding_dh_org.csv\n",
       "</pre>\n"
      ],
      "text/plain": [
       "MPI-EVA-Archaeogenetics_coding_dh_org.csv\n"
      ]
     },
     "metadata": {},
     "output_type": "display_data"
    },
    {
     "data": {
      "text/html": [
       "<pre style=\"white-space:pre;overflow-x:auto;line-height:normal;font-family:Menlo,'DejaVu Sans Mono',consolas,'Courier New',monospace\">MarineEcosystemResearchProgramme_coding_dh_org.csv\n",
       "</pre>\n"
      ],
      "text/plain": [
       "MarineEcosystemResearchProgramme_coding_dh_org.csv\n"
      ]
     },
     "metadata": {},
     "output_type": "display_data"
    },
    {
     "data": {
      "text/html": [
       "<pre style=\"white-space:pre;overflow-x:auto;line-height:normal;font-family:Menlo,'DejaVu Sans Mono',consolas,'Courier New',monospace\">weecology_coding_dh_org.csv\n",
       "</pre>\n"
      ],
      "text/plain": [
       "weecology_coding_dh_org.csv\n"
      ]
     },
     "metadata": {},
     "output_type": "display_data"
    },
    {
     "data": {
      "text/html": [
       "<pre style=\"white-space:pre;overflow-x:auto;line-height:normal;font-family:Menlo,'DejaVu Sans Mono',consolas,'Courier New',monospace\">lucproglangcourse_coding_dh_org.csv\n",
       "</pre>\n"
      ],
      "text/plain": [
       "lucproglangcourse_coding_dh_org.csv\n"
      ]
     },
     "metadata": {},
     "output_type": "display_data"
    },
    {
     "data": {
      "text/html": [
       "<pre style=\"white-space:pre;overflow-x:auto;line-height:normal;font-family:Menlo,'DejaVu Sans Mono',consolas,'Courier New',monospace\">HumanitiesComputing_coding_dh_org.csv\n",
       "</pre>\n"
      ],
      "text/plain": [
       "HumanitiesComputing_coding_dh_org.csv\n"
      ]
     },
     "metadata": {},
     "output_type": "display_data"
    },
    {
     "data": {
      "text/html": [
       "<pre style=\"white-space:pre;overflow-x:auto;line-height:normal;font-family:Menlo,'DejaVu Sans Mono',consolas,'Courier New',monospace\">cs51_coding_dh_org.csv\n",
       "</pre>\n"
      ],
      "text/plain": [
       "cs51_coding_dh_org.csv\n"
      ]
     },
     "metadata": {},
     "output_type": "display_data"
    },
    {
     "data": {
      "text/html": [
       "<pre style=\"white-space:pre;overflow-x:auto;line-height:normal;font-family:Menlo,'DejaVu Sans Mono',consolas,'Courier New',monospace\">chartes_coding_dh_org.csv\n",
       "</pre>\n"
      ],
      "text/plain": [
       "chartes_coding_dh_org.csv\n"
      ]
     },
     "metadata": {},
     "output_type": "display_data"
    },
    {
     "data": {
      "text/html": [
       "<pre style=\"white-space:pre;overflow-x:auto;line-height:normal;font-family:Menlo,'DejaVu Sans Mono',consolas,'Courier New',monospace\">gazetedentarihebakis_coding_dh_org.csv\n",
       "</pre>\n"
      ],
      "text/plain": [
       "gazetedentarihebakis_coding_dh_org.csv\n"
      ]
     },
     "metadata": {},
     "output_type": "display_data"
    },
    {
     "data": {
      "text/html": [
       "<pre style=\"white-space:pre;overflow-x:auto;line-height:normal;font-family:Menlo,'DejaVu Sans Mono',consolas,'Courier New',monospace\">research-compendium_coding_dh_org.csv\n",
       "</pre>\n"
      ],
      "text/plain": [
       "research-compendium_coding_dh_org.csv\n"
      ]
     },
     "metadata": {},
     "output_type": "display_data"
    },
    {
     "data": {
      "text/html": [
       "<pre style=\"white-space:pre;overflow-x:auto;line-height:normal;font-family:Menlo,'DejaVu Sans Mono',consolas,'Courier New',monospace\">linkedgeodesy_coding_dh_org.csv\n",
       "</pre>\n"
      ],
      "text/plain": [
       "linkedgeodesy_coding_dh_org.csv\n"
      ]
     },
     "metadata": {},
     "output_type": "display_data"
    },
    {
     "data": {
      "text/html": [
       "<pre style=\"white-space:pre;overflow-x:auto;line-height:normal;font-family:Menlo,'DejaVu Sans Mono',consolas,'Courier New',monospace\">Digital-Democracies-Institute_coding_dh_org.csv\n",
       "</pre>\n"
      ],
      "text/plain": [
       "Digital-Democracies-Institute_coding_dh_org.csv\n"
      ]
     },
     "metadata": {},
     "output_type": "display_data"
    },
    {
     "data": {
      "text/html": [
       "<pre style=\"white-space:pre;overflow-x:auto;line-height:normal;font-family:Menlo,'DejaVu Sans Mono',consolas,'Courier New',monospace\">new-american-history_coding_dh_org.csv\n",
       "</pre>\n"
      ],
      "text/plain": [
       "new-american-history_coding_dh_org.csv\n"
      ]
     },
     "metadata": {},
     "output_type": "display_data"
    },
    {
     "data": {
      "text/html": [
       "<pre style=\"white-space:pre;overflow-x:auto;line-height:normal;font-family:Menlo,'DejaVu Sans Mono',consolas,'Courier New',monospace\">PerseusDL_coding_dh_org.csv\n",
       "</pre>\n"
      ],
      "text/plain": [
       "PerseusDL_coding_dh_org.csv\n"
      ]
     },
     "metadata": {},
     "output_type": "display_data"
    },
    {
     "data": {
      "text/html": [
       "<pre style=\"white-space:pre;overflow-x:auto;line-height:normal;font-family:Menlo,'DejaVu Sans Mono',consolas,'Courier New',monospace\">4in1_coding_dh_org.csv\n",
       "</pre>\n"
      ],
      "text/plain": [
       "4in1_coding_dh_org.csv\n"
      ]
     },
     "metadata": {},
     "output_type": "display_data"
    },
    {
     "data": {
      "text/html": [
       "<pre style=\"white-space:pre;overflow-x:auto;line-height:normal;font-family:Menlo,'DejaVu Sans Mono',consolas,'Courier New',monospace\">TEIC_coding_dh_org.csv\n",
       "</pre>\n"
      ],
      "text/plain": [
       "TEIC_coding_dh_org.csv\n"
      ]
     },
     "metadata": {},
     "output_type": "display_data"
    },
    {
     "data": {
      "text/html": [
       "<pre style=\"white-space:pre;overflow-x:auto;line-height:normal;font-family:Menlo,'DejaVu Sans Mono',consolas,'Courier New',monospace\">os-js_coding_dh_org.csv\n",
       "</pre>\n"
      ],
      "text/plain": [
       "os-js_coding_dh_org.csv\n"
      ]
     },
     "metadata": {},
     "output_type": "display_data"
    },
    {
     "data": {
      "text/html": [
       "<pre style=\"white-space:pre;overflow-x:auto;line-height:normal;font-family:Menlo,'DejaVu Sans Mono',consolas,'Courier New',monospace\">UVA-DSI-<span style=\"color: #008080; text-decoration-color: #008080; font-weight: bold\">2019</span>-Capstones_coding_dh_org.csv\n",
       "</pre>\n"
      ],
      "text/plain": [
       "UVA-DSI-\u001b[1;36m2019\u001b[0m-Capstones_coding_dh_org.csv\n"
      ]
     },
     "metadata": {},
     "output_type": "display_data"
    },
    {
     "data": {
      "text/html": [
       "<pre style=\"white-space:pre;overflow-x:auto;line-height:normal;font-family:Menlo,'DejaVu Sans Mono',consolas,'Courier New',monospace\">reconhub_coding_dh_org.csv\n",
       "</pre>\n"
      ],
      "text/plain": [
       "reconhub_coding_dh_org.csv\n"
      ]
     },
     "metadata": {},
     "output_type": "display_data"
    },
    {
     "data": {
      "text/html": [
       "<pre style=\"white-space:pre;overflow-x:auto;line-height:normal;font-family:Menlo,'DejaVu Sans Mono',consolas,'Courier New',monospace\">YOWCT_coding_dh_org.csv\n",
       "</pre>\n"
      ],
      "text/plain": [
       "YOWCT_coding_dh_org.csv\n"
      ]
     },
     "metadata": {},
     "output_type": "display_data"
    },
    {
     "data": {
      "text/html": [
       "<pre style=\"white-space:pre;overflow-x:auto;line-height:normal;font-family:Menlo,'DejaVu Sans Mono',consolas,'Courier New',monospace\">sosoc_coding_dh_org.csv\n",
       "</pre>\n"
      ],
      "text/plain": [
       "sosoc_coding_dh_org.csv\n"
      ]
     },
     "metadata": {},
     "output_type": "display_data"
    },
    {
     "data": {
      "text/html": [
       "<pre style=\"white-space:pre;overflow-x:auto;line-height:normal;font-family:Menlo,'DejaVu Sans Mono',consolas,'Courier New',monospace\">virtualcommons_coding_dh_org.csv\n",
       "</pre>\n"
      ],
      "text/plain": [
       "virtualcommons_coding_dh_org.csv\n"
      ]
     },
     "metadata": {},
     "output_type": "display_data"
    },
    {
     "data": {
      "text/html": [
       "<pre style=\"white-space:pre;overflow-x:auto;line-height:normal;font-family:Menlo,'DejaVu Sans Mono',consolas,'Courier New',monospace\">DataScienceHobart_coding_dh_org.csv\n",
       "</pre>\n"
      ],
      "text/plain": [
       "DataScienceHobart_coding_dh_org.csv\n"
      ]
     },
     "metadata": {},
     "output_type": "display_data"
    },
    {
     "data": {
      "text/html": [
       "<pre style=\"white-space:pre;overflow-x:auto;line-height:normal;font-family:Menlo,'DejaVu Sans Mono',consolas,'Courier New',monospace\">Unbabel_coding_dh_org.csv\n",
       "</pre>\n"
      ],
      "text/plain": [
       "Unbabel_coding_dh_org.csv\n"
      ]
     },
     "metadata": {},
     "output_type": "display_data"
    },
    {
     "data": {
      "text/html": [
       "<pre style=\"white-space:pre;overflow-x:auto;line-height:normal;font-family:Menlo,'DejaVu Sans Mono',consolas,'Courier New',monospace\">NBISweden_coding_dh_org.csv\n",
       "</pre>\n"
      ],
      "text/plain": [
       "NBISweden_coding_dh_org.csv\n"
      ]
     },
     "metadata": {},
     "output_type": "display_data"
    },
    {
     "data": {
      "text/html": [
       "<pre style=\"white-space:pre;overflow-x:auto;line-height:normal;font-family:Menlo,'DejaVu Sans Mono',consolas,'Courier New',monospace\">HumanitiesAnalyticsArchive_coding_dh_org.csv\n",
       "</pre>\n"
      ],
      "text/plain": [
       "HumanitiesAnalyticsArchive_coding_dh_org.csv\n"
      ]
     },
     "metadata": {},
     "output_type": "display_data"
    },
    {
     "data": {
      "text/html": [
       "<pre style=\"white-space:pre;overflow-x:auto;line-height:normal;font-family:Menlo,'DejaVu Sans Mono',consolas,'Courier New',monospace\">Abantu-Digital_coding_dh_org.csv\n",
       "</pre>\n"
      ],
      "text/plain": [
       "Abantu-Digital_coding_dh_org.csv\n"
      ]
     },
     "metadata": {},
     "output_type": "display_data"
    },
    {
     "data": {
      "text/html": [
       "<pre style=\"white-space:pre;overflow-x:auto;line-height:normal;font-family:Menlo,'DejaVu Sans Mono',consolas,'Courier New',monospace\">OlimpiadaMatematicasMichoacan_coding_dh_org.csv\n",
       "</pre>\n"
      ],
      "text/plain": [
       "OlimpiadaMatematicasMichoacan_coding_dh_org.csv\n"
      ]
     },
     "metadata": {},
     "output_type": "display_data"
    },
    {
     "data": {
      "text/html": [
       "<pre style=\"white-space:pre;overflow-x:auto;line-height:normal;font-family:Menlo,'DejaVu Sans Mono',consolas,'Courier New',monospace\">StarCC0_coding_dh_org.csv\n",
       "</pre>\n"
      ],
      "text/plain": [
       "StarCC0_coding_dh_org.csv\n"
      ]
     },
     "metadata": {},
     "output_type": "display_data"
    },
    {
     "data": {
      "text/html": [
       "<pre style=\"white-space:pre;overflow-x:auto;line-height:normal;font-family:Menlo,'DejaVu Sans Mono',consolas,'Courier New',monospace\">Smithsonian_coding_dh_org.csv\n",
       "</pre>\n"
      ],
      "text/plain": [
       "Smithsonian_coding_dh_org.csv\n"
      ]
     },
     "metadata": {},
     "output_type": "display_data"
    },
    {
     "data": {
      "text/html": [
       "<pre style=\"white-space:pre;overflow-x:auto;line-height:normal;font-family:Menlo,'DejaVu Sans Mono',consolas,'Courier New',monospace\">washingtonpost_coding_dh_org.csv\n",
       "</pre>\n"
      ],
      "text/plain": [
       "washingtonpost_coding_dh_org.csv\n"
      ]
     },
     "metadata": {},
     "output_type": "display_data"
    },
    {
     "data": {
      "text/html": [
       "<pre style=\"white-space:pre;overflow-x:auto;line-height:normal;font-family:Menlo,'DejaVu Sans Mono',consolas,'Courier New',monospace\">Kemanusiaan-Tasikmalaya-PRKT_coding_dh_org.csv\n",
       "</pre>\n"
      ],
      "text/plain": [
       "Kemanusiaan-Tasikmalaya-PRKT_coding_dh_org.csv\n"
      ]
     },
     "metadata": {},
     "output_type": "display_data"
    },
    {
     "data": {
      "text/html": [
       "<pre style=\"white-space:pre;overflow-x:auto;line-height:normal;font-family:Menlo,'DejaVu Sans Mono',consolas,'Courier New',monospace\">r-universe-org_coding_dh_org.csv\n",
       "</pre>\n"
      ],
      "text/plain": [
       "r-universe-org_coding_dh_org.csv\n"
      ]
     },
     "metadata": {},
     "output_type": "display_data"
    },
    {
     "data": {
      "text/html": [
       "<pre style=\"white-space:pre;overflow-x:auto;line-height:normal;font-family:Menlo,'DejaVu Sans Mono',consolas,'Courier New',monospace\">infotrumLtd_coding_dh_org.csv\n",
       "</pre>\n"
      ],
      "text/plain": [
       "infotrumLtd_coding_dh_org.csv\n"
      ]
     },
     "metadata": {},
     "output_type": "display_data"
    },
    {
     "data": {
      "text/html": [
       "<pre style=\"white-space:pre;overflow-x:auto;line-height:normal;font-family:Menlo,'DejaVu Sans Mono',consolas,'Courier New',monospace\">hackclub_coding_dh_org.csv\n",
       "</pre>\n"
      ],
      "text/plain": [
       "hackclub_coding_dh_org.csv\n"
      ]
     },
     "metadata": {},
     "output_type": "display_data"
    },
    {
     "data": {
      "text/html": [
       "<pre style=\"white-space:pre;overflow-x:auto;line-height:normal;font-family:Menlo,'DejaVu Sans Mono',consolas,'Courier New',monospace\">CSG-CS2_coding_dh_org.csv\n",
       "</pre>\n"
      ],
      "text/plain": [
       "CSG-CS2_coding_dh_org.csv\n"
      ]
     },
     "metadata": {},
     "output_type": "display_data"
    },
    {
     "data": {
      "text/html": [
       "<pre style=\"white-space:pre;overflow-x:auto;line-height:normal;font-family:Menlo,'DejaVu Sans Mono',consolas,'Courier New',monospace\">thedataincubator_coding_dh_org.csv\n",
       "</pre>\n"
      ],
      "text/plain": [
       "thedataincubator_coding_dh_org.csv\n"
      ]
     },
     "metadata": {},
     "output_type": "display_data"
    },
    {
     "data": {
      "text/html": [
       "<pre style=\"white-space:pre;overflow-x:auto;line-height:normal;font-family:Menlo,'DejaVu Sans Mono',consolas,'Courier New',monospace\">opensearch-project_coding_dh_org.csv\n",
       "</pre>\n"
      ],
      "text/plain": [
       "opensearch-project_coding_dh_org.csv\n"
      ]
     },
     "metadata": {},
     "output_type": "display_data"
    },
    {
     "data": {
      "text/html": [
       "<pre style=\"white-space:pre;overflow-x:auto;line-height:normal;font-family:Menlo,'DejaVu Sans Mono',consolas,'Courier New',monospace\">NetDem-USC_coding_dh_org.csv\n",
       "</pre>\n"
      ],
      "text/plain": [
       "NetDem-USC_coding_dh_org.csv\n"
      ]
     },
     "metadata": {},
     "output_type": "display_data"
    },
    {
     "data": {
      "text/html": [
       "<pre style=\"white-space:pre;overflow-x:auto;line-height:normal;font-family:Menlo,'DejaVu Sans Mono',consolas,'Courier New',monospace\">shenandoahliterary_coding_dh_org.csv\n",
       "</pre>\n"
      ],
      "text/plain": [
       "shenandoahliterary_coding_dh_org.csv\n"
      ]
     },
     "metadata": {},
     "output_type": "display_data"
    },
    {
     "data": {
      "text/html": [
       "<pre style=\"white-space:pre;overflow-x:auto;line-height:normal;font-family:Menlo,'DejaVu Sans Mono',consolas,'Courier New',monospace\">prose_coding_dh_org.csv\n",
       "</pre>\n"
      ],
      "text/plain": [
       "prose_coding_dh_org.csv\n"
      ]
     },
     "metadata": {},
     "output_type": "display_data"
    },
    {
     "data": {
      "text/html": [
       "<pre style=\"white-space:pre;overflow-x:auto;line-height:normal;font-family:Menlo,'DejaVu Sans Mono',consolas,'Courier New',monospace\">mcds_coding_dh_org.csv\n",
       "</pre>\n"
      ],
      "text/plain": [
       "mcds_coding_dh_org.csv\n"
      ]
     },
     "metadata": {},
     "output_type": "display_data"
    },
    {
     "data": {
      "text/html": [
       "<pre style=\"white-space:pre;overflow-x:auto;line-height:normal;font-family:Menlo,'DejaVu Sans Mono',consolas,'Courier New',monospace\">orbitdb_coding_dh_org.csv\n",
       "</pre>\n"
      ],
      "text/plain": [
       "orbitdb_coding_dh_org.csv\n"
      ]
     },
     "metadata": {},
     "output_type": "display_data"
    },
    {
     "data": {
      "text/html": [
       "<pre style=\"white-space:pre;overflow-x:auto;line-height:normal;font-family:Menlo,'DejaVu Sans Mono',consolas,'Courier New',monospace\">KALMUS-Color-Toolkit_coding_dh_org.csv\n",
       "</pre>\n"
      ],
      "text/plain": [
       "KALMUS-Color-Toolkit_coding_dh_org.csv\n"
      ]
     },
     "metadata": {},
     "output_type": "display_data"
    },
    {
     "data": {
      "text/html": [
       "<pre style=\"white-space:pre;overflow-x:auto;line-height:normal;font-family:Menlo,'DejaVu Sans Mono',consolas,'Courier New',monospace\">diging-training_coding_dh_org.csv\n",
       "</pre>\n"
      ],
      "text/plain": [
       "diging-training_coding_dh_org.csv\n"
      ]
     },
     "metadata": {},
     "output_type": "display_data"
    },
    {
     "data": {
      "text/html": [
       "<pre style=\"white-space:pre;overflow-x:auto;line-height:normal;font-family:Menlo,'DejaVu Sans Mono',consolas,'Courier New',monospace\">Abacus_coding_dh_org.csv\n",
       "</pre>\n"
      ],
      "text/plain": [
       "Abacus_coding_dh_org.csv\n"
      ]
     },
     "metadata": {},
     "output_type": "display_data"
    },
    {
     "data": {
      "text/html": [
       "<pre style=\"white-space:pre;overflow-x:auto;line-height:normal;font-family:Menlo,'DejaVu Sans Mono',consolas,'Courier New',monospace\">internetarchive_coding_dh_org.csv\n",
       "</pre>\n"
      ],
      "text/plain": [
       "internetarchive_coding_dh_org.csv\n"
      ]
     },
     "metadata": {},
     "output_type": "display_data"
    },
    {
     "data": {
      "text/html": [
       "<pre style=\"white-space:pre;overflow-x:auto;line-height:normal;font-family:Menlo,'DejaVu Sans Mono',consolas,'Courier New',monospace\">schoolofdata-ch_coding_dh_org.csv\n",
       "</pre>\n"
      ],
      "text/plain": [
       "schoolofdata-ch_coding_dh_org.csv\n"
      ]
     },
     "metadata": {},
     "output_type": "display_data"
    },
    {
     "data": {
      "text/html": [
       "<pre style=\"white-space:pre;overflow-x:auto;line-height:normal;font-family:Menlo,'DejaVu Sans Mono',consolas,'Courier New',monospace\">sciultra_coding_dh_org.csv\n",
       "</pre>\n"
      ],
      "text/plain": [
       "sciultra_coding_dh_org.csv\n"
      ]
     },
     "metadata": {},
     "output_type": "display_data"
    },
    {
     "data": {
      "text/html": [
       "<pre style=\"white-space:pre;overflow-x:auto;line-height:normal;font-family:Menlo,'DejaVu Sans Mono',consolas,'Courier New',monospace\">OBVSG_coding_dh_org.csv\n",
       "</pre>\n"
      ],
      "text/plain": [
       "OBVSG_coding_dh_org.csv\n"
      ]
     },
     "metadata": {},
     "output_type": "display_data"
    },
    {
     "data": {
      "text/html": [
       "<pre style=\"white-space:pre;overflow-x:auto;line-height:normal;font-family:Menlo,'DejaVu Sans Mono',consolas,'Courier New',monospace\">cultureglobe_coding_dh_org.csv\n",
       "</pre>\n"
      ],
      "text/plain": [
       "cultureglobe_coding_dh_org.csv\n"
      ]
     },
     "metadata": {},
     "output_type": "display_data"
    },
    {
     "data": {
      "text/html": [
       "<pre style=\"white-space:pre;overflow-x:auto;line-height:normal;font-family:Menlo,'DejaVu Sans Mono',consolas,'Courier New',monospace\">humanidades-digitales_coding_dh_org.csv\n",
       "</pre>\n"
      ],
      "text/plain": [
       "humanidades-digitales_coding_dh_org.csv\n"
      ]
     },
     "metadata": {},
     "output_type": "display_data"
    },
    {
     "data": {
      "text/html": [
       "<pre style=\"white-space:pre;overflow-x:auto;line-height:normal;font-family:Menlo,'DejaVu Sans Mono',consolas,'Courier New',monospace\">CopticScriptorium_coding_dh_org.csv\n",
       "</pre>\n"
      ],
      "text/plain": [
       "CopticScriptorium_coding_dh_org.csv\n"
      ]
     },
     "metadata": {},
     "output_type": "display_data"
    },
    {
     "data": {
      "text/html": [
       "<pre style=\"white-space:pre;overflow-x:auto;line-height:normal;font-family:Menlo,'DejaVu Sans Mono',consolas,'Courier New',monospace\">rweekly_coding_dh_org.csv\n",
       "</pre>\n"
      ],
      "text/plain": [
       "rweekly_coding_dh_org.csv\n"
      ]
     },
     "metadata": {},
     "output_type": "display_data"
    },
    {
     "data": {
      "text/html": [
       "<pre style=\"white-space:pre;overflow-x:auto;line-height:normal;font-family:Menlo,'DejaVu Sans Mono',consolas,'Courier New',monospace\">open-sci_coding_dh_org.csv\n",
       "</pre>\n"
      ],
      "text/plain": [
       "open-sci_coding_dh_org.csv\n"
      ]
     },
     "metadata": {},
     "output_type": "display_data"
    },
    {
     "data": {
      "text/html": [
       "<pre style=\"white-space:pre;overflow-x:auto;line-height:normal;font-family:Menlo,'DejaVu Sans Mono',consolas,'Courier New',monospace\">iptux-src_coding_dh_org.csv\n",
       "</pre>\n"
      ],
      "text/plain": [
       "iptux-src_coding_dh_org.csv\n"
      ]
     },
     "metadata": {},
     "output_type": "display_data"
    },
    {
     "data": {
      "text/html": [
       "<pre style=\"white-space:pre;overflow-x:auto;line-height:normal;font-family:Menlo,'DejaVu Sans Mono',consolas,'Courier New',monospace\">MonumentLab_coding_dh_org.csv\n",
       "</pre>\n"
      ],
      "text/plain": [
       "MonumentLab_coding_dh_org.csv\n"
      ]
     },
     "metadata": {},
     "output_type": "display_data"
    },
    {
     "data": {
      "text/html": [
       "<pre style=\"white-space:pre;overflow-x:auto;line-height:normal;font-family:Menlo,'DejaVu Sans Mono',consolas,'Courier New',monospace\">q-ran_coding_dh_org.csv\n",
       "</pre>\n"
      ],
      "text/plain": [
       "q-ran_coding_dh_org.csv\n"
      ]
     },
     "metadata": {},
     "output_type": "display_data"
    },
    {
     "data": {
      "text/html": [
       "<pre style=\"white-space:pre;overflow-x:auto;line-height:normal;font-family:Menlo,'DejaVu Sans Mono',consolas,'Courier New',monospace\">alpacahq_coding_dh_org.csv\n",
       "</pre>\n"
      ],
      "text/plain": [
       "alpacahq_coding_dh_org.csv\n"
      ]
     },
     "metadata": {},
     "output_type": "display_data"
    },
    {
     "data": {
      "text/html": [
       "<pre style=\"white-space:pre;overflow-x:auto;line-height:normal;font-family:Menlo,'DejaVu Sans Mono',consolas,'Courier New',monospace\">cu-mkp_coding_dh_org.csv\n",
       "</pre>\n"
      ],
      "text/plain": [
       "cu-mkp_coding_dh_org.csv\n"
      ]
     },
     "metadata": {},
     "output_type": "display_data"
    },
    {
     "data": {
      "text/html": [
       "<pre style=\"white-space:pre;overflow-x:auto;line-height:normal;font-family:Menlo,'DejaVu Sans Mono',consolas,'Courier New',monospace\">humsamdigiforsk_coding_dh_org.csv\n",
       "</pre>\n"
      ],
      "text/plain": [
       "humsamdigiforsk_coding_dh_org.csv\n"
      ]
     },
     "metadata": {},
     "output_type": "display_data"
    },
    {
     "data": {
      "text/html": [
       "<pre style=\"white-space:pre;overflow-x:auto;line-height:normal;font-family:Menlo,'DejaVu Sans Mono',consolas,'Courier New',monospace\">jupyter_coding_dh_org.csv\n",
       "</pre>\n"
      ],
      "text/plain": [
       "jupyter_coding_dh_org.csv\n"
      ]
     },
     "metadata": {},
     "output_type": "display_data"
    },
    {
     "data": {
      "text/html": [
       "<pre style=\"white-space:pre;overflow-x:auto;line-height:normal;font-family:Menlo,'DejaVu Sans Mono',consolas,'Courier New',monospace\">sul-dlss_coding_dh_org.csv\n",
       "</pre>\n"
      ],
      "text/plain": [
       "sul-dlss_coding_dh_org.csv\n"
      ]
     },
     "metadata": {},
     "output_type": "display_data"
    },
    {
     "data": {
      "text/html": [
       "<pre style=\"white-space:pre;overflow-x:auto;line-height:normal;font-family:Menlo,'DejaVu Sans Mono',consolas,'Courier New',monospace\">irLh_coding_dh_org.csv\n",
       "</pre>\n"
      ],
      "text/plain": [
       "irLh_coding_dh_org.csv\n"
      ]
     },
     "metadata": {},
     "output_type": "display_data"
    },
    {
     "data": {
      "text/html": [
       "<pre style=\"white-space:pre;overflow-x:auto;line-height:normal;font-family:Menlo,'DejaVu Sans Mono',consolas,'Courier New',monospace\">beeware_coding_dh_org.csv\n",
       "</pre>\n"
      ],
      "text/plain": [
       "beeware_coding_dh_org.csv\n"
      ]
     },
     "metadata": {},
     "output_type": "display_data"
    },
    {
     "data": {
      "text/html": [
       "<pre style=\"white-space:pre;overflow-x:auto;line-height:normal;font-family:Menlo,'DejaVu Sans Mono',consolas,'Courier New',monospace\">scrapy_coding_dh_org.csv\n",
       "</pre>\n"
      ],
      "text/plain": [
       "scrapy_coding_dh_org.csv\n"
      ]
     },
     "metadata": {},
     "output_type": "display_data"
    },
    {
     "data": {
      "text/html": [
       "<pre style=\"white-space:pre;overflow-x:auto;line-height:normal;font-family:Menlo,'DejaVu Sans Mono',consolas,'Courier New',monospace\">blinkboxbooks_coding_dh_org.csv\n",
       "</pre>\n"
      ],
      "text/plain": [
       "blinkboxbooks_coding_dh_org.csv\n"
      ]
     },
     "metadata": {},
     "output_type": "display_data"
    },
    {
     "data": {
      "text/html": [
       "<pre style=\"white-space:pre;overflow-x:auto;line-height:normal;font-family:Menlo,'DejaVu Sans Mono',consolas,'Courier New',monospace\">xcom-data_coding_dh_org.csv\n",
       "</pre>\n"
      ],
      "text/plain": [
       "xcom-data_coding_dh_org.csv\n"
      ]
     },
     "metadata": {},
     "output_type": "display_data"
    },
    {
     "data": {
      "text/html": [
       "<pre style=\"white-space:pre;overflow-x:auto;line-height:normal;font-family:Menlo,'DejaVu Sans Mono',consolas,'Courier New',monospace\">paths-erc_coding_dh_org.csv\n",
       "</pre>\n"
      ],
      "text/plain": [
       "paths-erc_coding_dh_org.csv\n"
      ]
     },
     "metadata": {},
     "output_type": "display_data"
    },
    {
     "data": {
      "text/html": [
       "<pre style=\"white-space:pre;overflow-x:auto;line-height:normal;font-family:Menlo,'DejaVu Sans Mono',consolas,'Courier New',monospace\">bioconda_coding_dh_org.csv\n",
       "</pre>\n"
      ],
      "text/plain": [
       "bioconda_coding_dh_org.csv\n"
      ]
     },
     "metadata": {},
     "output_type": "display_data"
    },
    {
     "data": {
      "text/html": [
       "<pre style=\"white-space:pre;overflow-x:auto;line-height:normal;font-family:Menlo,'DejaVu Sans Mono',consolas,'Courier New',monospace\">Abantu-Labs_coding_dh_org.csv\n",
       "</pre>\n"
      ],
      "text/plain": [
       "Abantu-Labs_coding_dh_org.csv\n"
      ]
     },
     "metadata": {},
     "output_type": "display_data"
    },
    {
     "data": {
      "text/html": [
       "<pre style=\"white-space:pre;overflow-x:auto;line-height:normal;font-family:Menlo,'DejaVu Sans Mono',consolas,'Courier New',monospace\">Mphasis-ML-Marketplace_coding_dh_org.csv\n",
       "</pre>\n"
      ],
      "text/plain": [
       "Mphasis-ML-Marketplace_coding_dh_org.csv\n"
      ]
     },
     "metadata": {},
     "output_type": "display_data"
    },
    {
     "data": {
      "text/html": [
       "<pre style=\"white-space:pre;overflow-x:auto;line-height:normal;font-family:Menlo,'DejaVu Sans Mono',consolas,'Courier New',monospace\">erc-releven_coding_dh_org.csv\n",
       "</pre>\n"
      ],
      "text/plain": [
       "erc-releven_coding_dh_org.csv\n"
      ]
     },
     "metadata": {},
     "output_type": "display_data"
    },
    {
     "data": {
      "text/html": [
       "<pre style=\"white-space:pre;overflow-x:auto;line-height:normal;font-family:Menlo,'DejaVu Sans Mono',consolas,'Courier New',monospace\">alciphron_coding_dh_org.csv\n",
       "</pre>\n"
      ],
      "text/plain": [
       "alciphron_coding_dh_org.csv\n"
      ]
     },
     "metadata": {},
     "output_type": "display_data"
    },
    {
     "data": {
      "text/html": [
       "<pre style=\"white-space:pre;overflow-x:auto;line-height:normal;font-family:Menlo,'DejaVu Sans Mono',consolas,'Courier New',monospace\">base62_coding_dh_org.csv\n",
       "</pre>\n"
      ],
      "text/plain": [
       "base62_coding_dh_org.csv\n"
      ]
     },
     "metadata": {},
     "output_type": "display_data"
    },
    {
     "data": {
      "text/html": [
       "<pre style=\"white-space:pre;overflow-x:auto;line-height:normal;font-family:Menlo,'DejaVu Sans Mono',consolas,'Courier New',monospace\">CodeForAfrica_coding_dh_org.csv\n",
       "</pre>\n"
      ],
      "text/plain": [
       "CodeForAfrica_coding_dh_org.csv\n"
      ]
     },
     "metadata": {},
     "output_type": "display_data"
    },
    {
     "data": {
      "text/html": [
       "<pre style=\"white-space:pre;overflow-x:auto;line-height:normal;font-family:Menlo,'DejaVu Sans Mono',consolas,'Courier New',monospace\">ActiveTriples_coding_dh_org.csv\n",
       "</pre>\n"
      ],
      "text/plain": [
       "ActiveTriples_coding_dh_org.csv\n"
      ]
     },
     "metadata": {},
     "output_type": "display_data"
    },
    {
     "data": {
      "text/html": [
       "<pre style=\"white-space:pre;overflow-x:auto;line-height:normal;font-family:Menlo,'DejaVu Sans Mono',consolas,'Courier New',monospace\">django-district_coding_dh_org.csv\n",
       "</pre>\n"
      ],
      "text/plain": [
       "django-district_coding_dh_org.csv\n"
      ]
     },
     "metadata": {},
     "output_type": "display_data"
    },
    {
     "data": {
      "text/html": [
       "<pre style=\"white-space:pre;overflow-x:auto;line-height:normal;font-family:Menlo,'DejaVu Sans Mono',consolas,'Courier New',monospace\">catarsi_coding_dh_org.csv\n",
       "</pre>\n"
      ],
      "text/plain": [
       "catarsi_coding_dh_org.csv\n"
      ]
     },
     "metadata": {},
     "output_type": "display_data"
    },
    {
     "data": {
      "text/html": [
       "<pre style=\"white-space:pre;overflow-x:auto;line-height:normal;font-family:Menlo,'DejaVu Sans Mono',consolas,'Courier New',monospace\">adventure-js_coding_dh_org.csv\n",
       "</pre>\n"
      ],
      "text/plain": [
       "adventure-js_coding_dh_org.csv\n"
      ]
     },
     "metadata": {},
     "output_type": "display_data"
    },
    {
     "data": {
      "text/html": [
       "<pre style=\"white-space:pre;overflow-x:auto;line-height:normal;font-family:Menlo,'DejaVu Sans Mono',consolas,'Courier New',monospace\">TArchIT_coding_dh_org.csv\n",
       "</pre>\n"
      ],
      "text/plain": [
       "TArchIT_coding_dh_org.csv\n"
      ]
     },
     "metadata": {},
     "output_type": "display_data"
    },
    {
     "data": {
      "text/html": [
       "<pre style=\"white-space:pre;overflow-x:auto;line-height:normal;font-family:Menlo,'DejaVu Sans Mono',consolas,'Courier New',monospace\">AnThuk_coding_dh_org.csv\n",
       "</pre>\n"
      ],
      "text/plain": [
       "AnThuk_coding_dh_org.csv\n"
      ]
     },
     "metadata": {},
     "output_type": "display_data"
    },
    {
     "data": {
      "text/html": [
       "<pre style=\"white-space:pre;overflow-x:auto;line-height:normal;font-family:Menlo,'DejaVu Sans Mono',consolas,'Courier New',monospace\">corgibytes_coding_dh_org.csv\n",
       "</pre>\n"
      ],
      "text/plain": [
       "corgibytes_coding_dh_org.csv\n"
      ]
     },
     "metadata": {},
     "output_type": "display_data"
    },
    {
     "data": {
      "text/html": [
       "<pre style=\"white-space:pre;overflow-x:auto;line-height:normal;font-family:Menlo,'DejaVu Sans Mono',consolas,'Courier New',monospace\">whosonfirst_coding_dh_org.csv\n",
       "</pre>\n"
      ],
      "text/plain": [
       "whosonfirst_coding_dh_org.csv\n"
      ]
     },
     "metadata": {},
     "output_type": "display_data"
    },
    {
     "data": {
      "text/html": [
       "<pre style=\"white-space:pre;overflow-x:auto;line-height:normal;font-family:Menlo,'DejaVu Sans Mono',consolas,'Courier New',monospace\">sigproc_coding_dh_org.csv\n",
       "</pre>\n"
      ],
      "text/plain": [
       "sigproc_coding_dh_org.csv\n"
      ]
     },
     "metadata": {},
     "output_type": "display_data"
    },
    {
     "data": {
      "text/html": [
       "<pre style=\"white-space:pre;overflow-x:auto;line-height:normal;font-family:Menlo,'DejaVu Sans Mono',consolas,'Courier New',monospace\">GTA-ASM_coding_dh_org.csv\n",
       "</pre>\n"
      ],
      "text/plain": [
       "GTA-ASM_coding_dh_org.csv\n"
      ]
     },
     "metadata": {},
     "output_type": "display_data"
    },
    {
     "data": {
      "text/html": [
       "<pre style=\"white-space:pre;overflow-x:auto;line-height:normal;font-family:Menlo,'DejaVu Sans Mono',consolas,'Courier New',monospace\">PCLineageOS-Ports_coding_dh_org.csv\n",
       "</pre>\n"
      ],
      "text/plain": [
       "PCLineageOS-Ports_coding_dh_org.csv\n"
      ]
     },
     "metadata": {},
     "output_type": "display_data"
    },
    {
     "data": {
      "text/html": [
       "<pre style=\"white-space:pre;overflow-x:auto;line-height:normal;font-family:Menlo,'DejaVu Sans Mono',consolas,'Courier New',monospace\">linked-statistics_coding_dh_org.csv\n",
       "</pre>\n"
      ],
      "text/plain": [
       "linked-statistics_coding_dh_org.csv\n"
      ]
     },
     "metadata": {},
     "output_type": "display_data"
    },
    {
     "data": {
      "text/html": [
       "<pre style=\"white-space:pre;overflow-x:auto;line-height:normal;font-family:Menlo,'DejaVu Sans Mono',consolas,'Courier New',monospace\">sbmlteam_coding_dh_org.csv\n",
       "</pre>\n"
      ],
      "text/plain": [
       "sbmlteam_coding_dh_org.csv\n"
      ]
     },
     "metadata": {},
     "output_type": "display_data"
    },
    {
     "data": {
      "text/html": [
       "<pre style=\"white-space:pre;overflow-x:auto;line-height:normal;font-family:Menlo,'DejaVu Sans Mono',consolas,'Courier New',monospace\">podlove_coding_dh_org.csv\n",
       "</pre>\n"
      ],
      "text/plain": [
       "podlove_coding_dh_org.csv\n"
      ]
     },
     "metadata": {},
     "output_type": "display_data"
    },
    {
     "data": {
      "text/html": [
       "<pre style=\"white-space:pre;overflow-x:auto;line-height:normal;font-family:Menlo,'DejaVu Sans Mono',consolas,'Courier New',monospace\">AI-Collaboratory_coding_dh_org.csv\n",
       "</pre>\n"
      ],
      "text/plain": [
       "AI-Collaboratory_coding_dh_org.csv\n"
      ]
     },
     "metadata": {},
     "output_type": "display_data"
    },
    {
     "data": {
      "text/html": [
       "<pre style=\"white-space:pre;overflow-x:auto;line-height:normal;font-family:Menlo,'DejaVu Sans Mono',consolas,'Courier New',monospace\">editorsnotes_coding_dh_org.csv\n",
       "</pre>\n"
      ],
      "text/plain": [
       "editorsnotes_coding_dh_org.csv\n"
      ]
     },
     "metadata": {},
     "output_type": "display_data"
    },
    {
     "data": {
      "text/html": [
       "<pre style=\"white-space:pre;overflow-x:auto;line-height:normal;font-family:Menlo,'DejaVu Sans Mono',consolas,'Courier New',monospace\">ouvroir_coding_dh_org.csv\n",
       "</pre>\n"
      ],
      "text/plain": [
       "ouvroir_coding_dh_org.csv\n"
      ]
     },
     "metadata": {},
     "output_type": "display_data"
    },
    {
     "data": {
      "text/html": [
       "<pre style=\"white-space:pre;overflow-x:auto;line-height:normal;font-family:Menlo,'DejaVu Sans Mono',consolas,'Courier New',monospace\">SORSE_coding_dh_org.csv\n",
       "</pre>\n"
      ],
      "text/plain": [
       "SORSE_coding_dh_org.csv\n"
      ]
     },
     "metadata": {},
     "output_type": "display_data"
    },
    {
     "data": {
      "text/html": [
       "<pre style=\"white-space:pre;overflow-x:auto;line-height:normal;font-family:Menlo,'DejaVu Sans Mono',consolas,'Courier New',monospace\">TourJSON_coding_dh_org.csv\n",
       "</pre>\n"
      ],
      "text/plain": [
       "TourJSON_coding_dh_org.csv\n"
      ]
     },
     "metadata": {},
     "output_type": "display_data"
    },
    {
     "data": {
      "text/html": [
       "<pre style=\"white-space:pre;overflow-x:auto;line-height:normal;font-family:Menlo,'DejaVu Sans Mono',consolas,'Courier New',monospace\">sejarah-nusantara_coding_dh_org.csv\n",
       "</pre>\n"
      ],
      "text/plain": [
       "sejarah-nusantara_coding_dh_org.csv\n"
      ]
     },
     "metadata": {},
     "output_type": "display_data"
    },
    {
     "data": {
      "text/html": [
       "<pre style=\"white-space:pre;overflow-x:auto;line-height:normal;font-family:Menlo,'DejaVu Sans Mono',consolas,'Courier New',monospace\">dromara_coding_dh_org.csv\n",
       "</pre>\n"
      ],
      "text/plain": [
       "dromara_coding_dh_org.csv\n"
      ]
     },
     "metadata": {},
     "output_type": "display_data"
    },
    {
     "data": {
      "text/html": [
       "<pre style=\"white-space:pre;overflow-x:auto;line-height:normal;font-family:Menlo,'DejaVu Sans Mono',consolas,'Courier New',monospace\">rechtegewalt_coding_dh_org.csv\n",
       "</pre>\n"
      ],
      "text/plain": [
       "rechtegewalt_coding_dh_org.csv\n"
      ]
     },
     "metadata": {},
     "output_type": "display_data"
    },
    {
     "data": {
      "text/html": [
       "<pre style=\"white-space:pre;overflow-x:auto;line-height:normal;font-family:Menlo,'DejaVu Sans Mono',consolas,'Courier New',monospace\">edcarp_coding_dh_org.csv\n",
       "</pre>\n"
      ],
      "text/plain": [
       "edcarp_coding_dh_org.csv\n"
      ]
     },
     "metadata": {},
     "output_type": "display_data"
    },
    {
     "data": {
      "text/html": [
       "<pre style=\"white-space:pre;overflow-x:auto;line-height:normal;font-family:Menlo,'DejaVu Sans Mono',consolas,'Courier New',monospace\">rescribe_coding_dh_org.csv\n",
       "</pre>\n"
      ],
      "text/plain": [
       "rescribe_coding_dh_org.csv\n"
      ]
     },
     "metadata": {},
     "output_type": "display_data"
    },
    {
     "data": {
      "text/html": [
       "<pre style=\"white-space:pre;overflow-x:auto;line-height:normal;font-family:Menlo,'DejaVu Sans Mono',consolas,'Courier New',monospace\">buildherhackathon_coding_dh_org.csv\n",
       "</pre>\n"
      ],
      "text/plain": [
       "buildherhackathon_coding_dh_org.csv\n"
      ]
     },
     "metadata": {},
     "output_type": "display_data"
    },
    {
     "data": {
      "text/html": [
       "<pre style=\"white-space:pre;overflow-x:auto;line-height:normal;font-family:Menlo,'DejaVu Sans Mono',consolas,'Courier New',monospace\">ithaka_coding_dh_org.csv\n",
       "</pre>\n"
      ],
      "text/plain": [
       "ithaka_coding_dh_org.csv\n"
      ]
     },
     "metadata": {},
     "output_type": "display_data"
    },
    {
     "data": {
      "text/html": [
       "<pre style=\"white-space:pre;overflow-x:auto;line-height:normal;font-family:Menlo,'DejaVu Sans Mono',consolas,'Courier New',monospace\">fork-maintainers_coding_dh_org.csv\n",
       "</pre>\n"
      ],
      "text/plain": [
       "fork-maintainers_coding_dh_org.csv\n"
      ]
     },
     "metadata": {},
     "output_type": "display_data"
    },
    {
     "data": {
      "text/html": [
       "<pre style=\"white-space:pre;overflow-x:auto;line-height:normal;font-family:Menlo,'DejaVu Sans Mono',consolas,'Courier New',monospace\">Digital-Flossing_coding_dh_org.csv\n",
       "</pre>\n"
      ],
      "text/plain": [
       "Digital-Flossing_coding_dh_org.csv\n"
      ]
     },
     "metadata": {},
     "output_type": "display_data"
    },
    {
     "data": {
      "text/html": [
       "<pre style=\"white-space:pre;overflow-x:auto;line-height:normal;font-family:Menlo,'DejaVu Sans Mono',consolas,'Courier New',monospace\">makezurich_coding_dh_org.csv\n",
       "</pre>\n"
      ],
      "text/plain": [
       "makezurich_coding_dh_org.csv\n"
      ]
     },
     "metadata": {},
     "output_type": "display_data"
    },
    {
     "data": {
      "text/html": [
       "<pre style=\"white-space:pre;overflow-x:auto;line-height:normal;font-family:Menlo,'DejaVu Sans Mono',consolas,'Courier New',monospace\">isaw-ga-3024_coding_dh_org.csv\n",
       "</pre>\n"
      ],
      "text/plain": [
       "isaw-ga-3024_coding_dh_org.csv\n"
      ]
     },
     "metadata": {},
     "output_type": "display_data"
    },
    {
     "data": {
      "text/html": [
       "<pre style=\"white-space:pre;overflow-x:auto;line-height:normal;font-family:Menlo,'DejaVu Sans Mono',consolas,'Courier New',monospace\">jenkins-infra_coding_dh_org.csv\n",
       "</pre>\n"
      ],
      "text/plain": [
       "jenkins-infra_coding_dh_org.csv\n"
      ]
     },
     "metadata": {},
     "output_type": "display_data"
    },
    {
     "data": {
      "text/html": [
       "<pre style=\"white-space:pre;overflow-x:auto;line-height:normal;font-family:Menlo,'DejaVu Sans Mono',consolas,'Courier New',monospace\">segetes_coding_dh_org.csv\n",
       "</pre>\n"
      ],
      "text/plain": [
       "segetes_coding_dh_org.csv\n"
      ]
     },
     "metadata": {},
     "output_type": "display_data"
    },
    {
     "data": {
      "text/html": [
       "<pre style=\"white-space:pre;overflow-x:auto;line-height:normal;font-family:Menlo,'DejaVu Sans Mono',consolas,'Courier New',monospace\">sumatrapdfreader_coding_dh_org.csv\n",
       "</pre>\n"
      ],
      "text/plain": [
       "sumatrapdfreader_coding_dh_org.csv\n"
      ]
     },
     "metadata": {},
     "output_type": "display_data"
    },
    {
     "data": {
      "text/html": [
       "<pre style=\"white-space:pre;overflow-x:auto;line-height:normal;font-family:Menlo,'DejaVu Sans Mono',consolas,'Courier New',monospace\">ACEMS_coding_dh_org.csv\n",
       "</pre>\n"
      ],
      "text/plain": [
       "ACEMS_coding_dh_org.csv\n"
      ]
     },
     "metadata": {},
     "output_type": "display_data"
    },
    {
     "data": {
      "text/html": [
       "<pre style=\"white-space:pre;overflow-x:auto;line-height:normal;font-family:Menlo,'DejaVu Sans Mono',consolas,'Courier New',monospace\">dla-marbach_coding_dh_org.csv\n",
       "</pre>\n"
      ],
      "text/plain": [
       "dla-marbach_coding_dh_org.csv\n"
      ]
     },
     "metadata": {},
     "output_type": "display_data"
    },
    {
     "data": {
      "text/html": [
       "<pre style=\"white-space:pre;overflow-x:auto;line-height:normal;font-family:Menlo,'DejaVu Sans Mono',consolas,'Courier New',monospace\">biocuration_coding_dh_org.csv\n",
       "</pre>\n"
      ],
      "text/plain": [
       "biocuration_coding_dh_org.csv\n"
      ]
     },
     "metadata": {},
     "output_type": "display_data"
    },
    {
     "data": {
      "text/html": [
       "<pre style=\"white-space:pre;overflow-x:auto;line-height:normal;font-family:Menlo,'DejaVu Sans Mono',consolas,'Courier New',monospace\">salesforce_coding_dh_org.csv\n",
       "</pre>\n"
      ],
      "text/plain": [
       "salesforce_coding_dh_org.csv\n"
      ]
     },
     "metadata": {},
     "output_type": "display_data"
    },
    {
     "data": {
      "text/html": [
       "<pre style=\"white-space:pre;overflow-x:auto;line-height:normal;font-family:Menlo,'DejaVu Sans Mono',consolas,'Courier New',monospace\">ainulindale_coding_dh_org.csv\n",
       "</pre>\n"
      ],
      "text/plain": [
       "ainulindale_coding_dh_org.csv\n"
      ]
     },
     "metadata": {},
     "output_type": "display_data"
    },
    {
     "data": {
      "text/html": [
       "<pre style=\"white-space:pre;overflow-x:auto;line-height:normal;font-family:Menlo,'DejaVu Sans Mono',consolas,'Courier New',monospace\">Tencent_coding_dh_org.csv\n",
       "</pre>\n"
      ],
      "text/plain": [
       "Tencent_coding_dh_org.csv\n"
      ]
     },
     "metadata": {},
     "output_type": "display_data"
    },
    {
     "data": {
      "text/html": [
       "<pre style=\"white-space:pre;overflow-x:auto;line-height:normal;font-family:Menlo,'DejaVu Sans Mono',consolas,'Courier New',monospace\">stanfordnlp_coding_dh_org.csv\n",
       "</pre>\n"
      ],
      "text/plain": [
       "stanfordnlp_coding_dh_org.csv\n"
      ]
     },
     "metadata": {},
     "output_type": "display_data"
    },
    {
     "data": {
      "text/html": [
       "<pre style=\"white-space:pre;overflow-x:auto;line-height:normal;font-family:Menlo,'DejaVu Sans Mono',consolas,'Courier New',monospace\">healx_coding_dh_org.csv\n",
       "</pre>\n"
      ],
      "text/plain": [
       "healx_coding_dh_org.csv\n"
      ]
     },
     "metadata": {},
     "output_type": "display_data"
    },
    {
     "data": {
      "text/html": [
       "<pre style=\"white-space:pre;overflow-x:auto;line-height:normal;font-family:Menlo,'DejaVu Sans Mono',consolas,'Courier New',monospace\">ecosur-sistemas-complejos_coding_dh_org.csv\n",
       "</pre>\n"
      ],
      "text/plain": [
       "ecosur-sistemas-complejos_coding_dh_org.csv\n"
      ]
     },
     "metadata": {},
     "output_type": "display_data"
    },
    {
     "data": {
      "text/html": [
       "<pre style=\"white-space:pre;overflow-x:auto;line-height:normal;font-family:Menlo,'DejaVu Sans Mono',consolas,'Courier New',monospace\">yeuk_coding_dh_org.csv\n",
       "</pre>\n"
      ],
      "text/plain": [
       "yeuk_coding_dh_org.csv\n"
      ]
     },
     "metadata": {},
     "output_type": "display_data"
    },
    {
     "data": {
      "text/html": [
       "<pre style=\"white-space:pre;overflow-x:auto;line-height:normal;font-family:Menlo,'DejaVu Sans Mono',consolas,'Courier New',monospace\">wireservice_coding_dh_org.csv\n",
       "</pre>\n"
      ],
      "text/plain": [
       "wireservice_coding_dh_org.csv\n"
      ]
     },
     "metadata": {},
     "output_type": "display_data"
    },
    {
     "data": {
      "text/html": [
       "<pre style=\"white-space:pre;overflow-x:auto;line-height:normal;font-family:Menlo,'DejaVu Sans Mono',consolas,'Courier New',monospace\">ECELL-SASTRA-University_coding_dh_org.csv\n",
       "</pre>\n"
      ],
      "text/plain": [
       "ECELL-SASTRA-University_coding_dh_org.csv\n"
      ]
     },
     "metadata": {},
     "output_type": "display_data"
    },
    {
     "data": {
      "text/html": [
       "<pre style=\"white-space:pre;overflow-x:auto;line-height:normal;font-family:Menlo,'DejaVu Sans Mono',consolas,'Courier New',monospace\">prefeitura-rio_coding_dh_org.csv\n",
       "</pre>\n"
      ],
      "text/plain": [
       "prefeitura-rio_coding_dh_org.csv\n"
      ]
     },
     "metadata": {},
     "output_type": "display_data"
    },
    {
     "data": {
      "text/html": [
       "<pre style=\"white-space:pre;overflow-x:auto;line-height:normal;font-family:Menlo,'DejaVu Sans Mono',consolas,'Courier New',monospace\">KompetenzwerkD_coding_dh_org.csv\n",
       "</pre>\n"
      ],
      "text/plain": [
       "KompetenzwerkD_coding_dh_org.csv\n"
      ]
     },
     "metadata": {},
     "output_type": "display_data"
    },
    {
     "data": {
      "text/html": [
       "<pre style=\"white-space:pre;overflow-x:auto;line-height:normal;font-family:Menlo,'DejaVu Sans Mono',consolas,'Courier New',monospace\">sandiegopython_coding_dh_org.csv\n",
       "</pre>\n"
      ],
      "text/plain": [
       "sandiegopython_coding_dh_org.csv\n"
      ]
     },
     "metadata": {},
     "output_type": "display_data"
    },
    {
     "data": {
      "text/html": [
       "<pre style=\"white-space:pre;overflow-x:auto;line-height:normal;font-family:Menlo,'DejaVu Sans Mono',consolas,'Courier New',monospace\">parabible_coding_dh_org.csv\n",
       "</pre>\n"
      ],
      "text/plain": [
       "parabible_coding_dh_org.csv\n"
      ]
     },
     "metadata": {},
     "output_type": "display_data"
    },
    {
     "data": {
      "text/html": [
       "<pre style=\"white-space:pre;overflow-x:auto;line-height:normal;font-family:Menlo,'DejaVu Sans Mono',consolas,'Courier New',monospace\">liamproject_coding_dh_org.csv\n",
       "</pre>\n"
      ],
      "text/plain": [
       "liamproject_coding_dh_org.csv\n"
      ]
     },
     "metadata": {},
     "output_type": "display_data"
    },
    {
     "data": {
      "text/html": [
       "<pre style=\"white-space:pre;overflow-x:auto;line-height:normal;font-family:Menlo,'DejaVu Sans Mono',consolas,'Courier New',monospace\">plazi_coding_dh_org.csv\n",
       "</pre>\n"
      ],
      "text/plain": [
       "plazi_coding_dh_org.csv\n"
      ]
     },
     "metadata": {},
     "output_type": "display_data"
    },
    {
     "data": {
      "text/html": [
       "<pre style=\"white-space:pre;overflow-x:auto;line-height:normal;font-family:Menlo,'DejaVu Sans Mono',consolas,'Courier New',monospace\">splitrb_coding_dh_org.csv\n",
       "</pre>\n"
      ],
      "text/plain": [
       "splitrb_coding_dh_org.csv\n"
      ]
     },
     "metadata": {},
     "output_type": "display_data"
    },
    {
     "data": {
      "text/html": [
       "<pre style=\"white-space:pre;overflow-x:auto;line-height:normal;font-family:Menlo,'DejaVu Sans Mono',consolas,'Courier New',monospace\">ml-gde_coding_dh_org.csv\n",
       "</pre>\n"
      ],
      "text/plain": [
       "ml-gde_coding_dh_org.csv\n"
      ]
     },
     "metadata": {},
     "output_type": "display_data"
    },
    {
     "data": {
      "text/html": [
       "<pre style=\"white-space:pre;overflow-x:auto;line-height:normal;font-family:Menlo,'DejaVu Sans Mono',consolas,'Courier New',monospace\">thinkhaus_coding_dh_org.csv\n",
       "</pre>\n"
      ],
      "text/plain": [
       "thinkhaus_coding_dh_org.csv\n"
      ]
     },
     "metadata": {},
     "output_type": "display_data"
    },
    {
     "data": {
      "text/html": [
       "<pre style=\"white-space:pre;overflow-x:auto;line-height:normal;font-family:Menlo,'DejaVu Sans Mono',consolas,'Courier New',monospace\">factbook_coding_dh_org.csv\n",
       "</pre>\n"
      ],
      "text/plain": [
       "factbook_coding_dh_org.csv\n"
      ]
     },
     "metadata": {},
     "output_type": "display_data"
    },
    {
     "data": {
      "text/html": [
       "<pre style=\"white-space:pre;overflow-x:auto;line-height:normal;font-family:Menlo,'DejaVu Sans Mono',consolas,'Courier New',monospace\">openscienceunil_coding_dh_org.csv\n",
       "</pre>\n"
      ],
      "text/plain": [
       "openscienceunil_coding_dh_org.csv\n"
      ]
     },
     "metadata": {},
     "output_type": "display_data"
    },
    {
     "data": {
      "text/html": [
       "<pre style=\"white-space:pre;overflow-x:auto;line-height:normal;font-family:Menlo,'DejaVu Sans Mono',consolas,'Courier New',monospace\">openannotation_coding_dh_org.csv\n",
       "</pre>\n"
      ],
      "text/plain": [
       "openannotation_coding_dh_org.csv\n"
      ]
     },
     "metadata": {},
     "output_type": "display_data"
    },
    {
     "data": {
      "text/html": [
       "<pre style=\"white-space:pre;overflow-x:auto;line-height:normal;font-family:Menlo,'DejaVu Sans Mono',consolas,'Courier New',monospace\">CircusFactions_coding_dh_org.csv\n",
       "</pre>\n"
      ],
      "text/plain": [
       "CircusFactions_coding_dh_org.csv\n"
      ]
     },
     "metadata": {},
     "output_type": "display_data"
    },
    {
     "data": {
      "text/html": [
       "<pre style=\"white-space:pre;overflow-x:auto;line-height:normal;font-family:Menlo,'DejaVu Sans Mono',consolas,'Courier New',monospace\">vivo-project_coding_dh_org.csv\n",
       "</pre>\n"
      ],
      "text/plain": [
       "vivo-project_coding_dh_org.csv\n"
      ]
     },
     "metadata": {},
     "output_type": "display_data"
    },
    {
     "data": {
      "text/html": [
       "<pre style=\"white-space:pre;overflow-x:auto;line-height:normal;font-family:Menlo,'DejaVu Sans Mono',consolas,'Courier New',monospace\">GeoMatch_coding_dh_org.csv\n",
       "</pre>\n"
      ],
      "text/plain": [
       "GeoMatch_coding_dh_org.csv\n"
      ]
     },
     "metadata": {},
     "output_type": "display_data"
    },
    {
     "data": {
      "text/html": [
       "<pre style=\"white-space:pre;overflow-x:auto;line-height:normal;font-family:Menlo,'DejaVu Sans Mono',consolas,'Courier New',monospace\">PrincetonCS-UCA_coding_dh_org.csv\n",
       "</pre>\n"
      ],
      "text/plain": [
       "PrincetonCS-UCA_coding_dh_org.csv\n"
      ]
     },
     "metadata": {},
     "output_type": "display_data"
    },
    {
     "data": {
      "text/html": [
       "<pre style=\"white-space:pre;overflow-x:auto;line-height:normal;font-family:Menlo,'DejaVu Sans Mono',consolas,'Courier New',monospace\">publishing-bitbytebit_coding_dh_org.csv\n",
       "</pre>\n"
      ],
      "text/plain": [
       "publishing-bitbytebit_coding_dh_org.csv\n"
      ]
     },
     "metadata": {},
     "output_type": "display_data"
    },
    {
     "data": {
      "text/html": [
       "<pre style=\"white-space:pre;overflow-x:auto;line-height:normal;font-family:Menlo,'DejaVu Sans Mono',consolas,'Courier New',monospace\">SexyCodicology_coding_dh_org.csv\n",
       "</pre>\n"
      ],
      "text/plain": [
       "SexyCodicology_coding_dh_org.csv\n"
      ]
     },
     "metadata": {},
     "output_type": "display_data"
    },
    {
     "data": {
      "text/html": [
       "<pre style=\"white-space:pre;overflow-x:auto;line-height:normal;font-family:Menlo,'DejaVu Sans Mono',consolas,'Courier New',monospace\">digitalArtHistory_coding_dh_org.csv\n",
       "</pre>\n"
      ],
      "text/plain": [
       "digitalArtHistory_coding_dh_org.csv\n"
      ]
     },
     "metadata": {},
     "output_type": "display_data"
    },
    {
     "data": {
      "text/html": [
       "<pre style=\"white-space:pre;overflow-x:auto;line-height:normal;font-family:Menlo,'DejaVu Sans Mono',consolas,'Courier New',monospace\">addok_coding_dh_org.csv\n",
       "</pre>\n"
      ],
      "text/plain": [
       "addok_coding_dh_org.csv\n"
      ]
     },
     "metadata": {},
     "output_type": "display_data"
    },
    {
     "data": {
      "text/html": [
       "<pre style=\"white-space:pre;overflow-x:auto;line-height:normal;font-family:Menlo,'DejaVu Sans Mono',consolas,'Courier New',monospace\">muhaddithat_coding_dh_org.csv\n",
       "</pre>\n"
      ],
      "text/plain": [
       "muhaddithat_coding_dh_org.csv\n"
      ]
     },
     "metadata": {},
     "output_type": "display_data"
    },
    {
     "data": {
      "text/html": [
       "<pre style=\"white-space:pre;overflow-x:auto;line-height:normal;font-family:Menlo,'DejaVu Sans Mono',consolas,'Courier New',monospace\">LCLS_coding_dh_org.csv\n",
       "</pre>\n"
      ],
      "text/plain": [
       "LCLS_coding_dh_org.csv\n"
      ]
     },
     "metadata": {},
     "output_type": "display_data"
    },
    {
     "data": {
      "text/html": [
       "<pre style=\"white-space:pre;overflow-x:auto;line-height:normal;font-family:Menlo,'DejaVu Sans Mono',consolas,'Courier New',monospace\">xonsh_coding_dh_org.csv\n",
       "</pre>\n"
      ],
      "text/plain": [
       "xonsh_coding_dh_org.csv\n"
      ]
     },
     "metadata": {},
     "output_type": "display_data"
    },
    {
     "data": {
      "text/html": [
       "<pre style=\"white-space:pre;overflow-x:auto;line-height:normal;font-family:Menlo,'DejaVu Sans Mono',consolas,'Courier New',monospace\">ruby-marc_coding_dh_org.csv\n",
       "</pre>\n"
      ],
      "text/plain": [
       "ruby-marc_coding_dh_org.csv\n"
      ]
     },
     "metadata": {},
     "output_type": "display_data"
    },
    {
     "data": {
      "text/html": [
       "<pre style=\"white-space:pre;overflow-x:auto;line-height:normal;font-family:Menlo,'DejaVu Sans Mono',consolas,'Courier New',monospace\">TurkuNLP_coding_dh_org.csv\n",
       "</pre>\n"
      ],
      "text/plain": [
       "TurkuNLP_coding_dh_org.csv\n"
      ]
     },
     "metadata": {},
     "output_type": "display_data"
    },
    {
     "data": {
      "text/html": [
       "<pre style=\"white-space:pre;overflow-x:auto;line-height:normal;font-family:Menlo,'DejaVu Sans Mono',consolas,'Courier New',monospace\">Broedbaek-and-Kolding_coding_dh_org.csv\n",
       "</pre>\n"
      ],
      "text/plain": [
       "Broedbaek-and-Kolding_coding_dh_org.csv\n"
      ]
     },
     "metadata": {},
     "output_type": "display_data"
    },
    {
     "data": {
      "text/html": [
       "<pre style=\"white-space:pre;overflow-x:auto;line-height:normal;font-family:Menlo,'DejaVu Sans Mono',consolas,'Courier New',monospace\">sanskritwordnet_coding_dh_org.csv\n",
       "</pre>\n"
      ],
      "text/plain": [
       "sanskritwordnet_coding_dh_org.csv\n"
      ]
     },
     "metadata": {},
     "output_type": "display_data"
    },
    {
     "data": {
      "text/html": [
       "<pre style=\"white-space:pre;overflow-x:auto;line-height:normal;font-family:Menlo,'DejaVu Sans Mono',consolas,'Courier New',monospace\">datacarpentry_coding_dh_org.csv\n",
       "</pre>\n"
      ],
      "text/plain": [
       "datacarpentry_coding_dh_org.csv\n"
      ]
     },
     "metadata": {},
     "output_type": "display_data"
    },
    {
     "data": {
      "text/html": [
       "<pre style=\"white-space:pre;overflow-x:auto;line-height:normal;font-family:Menlo,'DejaVu Sans Mono',consolas,'Courier New',monospace\">University-of-Tartu-Library_coding_dh_org.csv\n",
       "</pre>\n"
      ],
      "text/plain": [
       "University-of-Tartu-Library_coding_dh_org.csv\n"
      ]
     },
     "metadata": {},
     "output_type": "display_data"
    },
    {
     "data": {
      "text/html": [
       "<pre style=\"white-space:pre;overflow-x:auto;line-height:normal;font-family:Menlo,'DejaVu Sans Mono',consolas,'Courier New',monospace\">geekonoid_coding_dh_org.csv\n",
       "</pre>\n"
      ],
      "text/plain": [
       "geekonoid_coding_dh_org.csv\n"
      ]
     },
     "metadata": {},
     "output_type": "display_data"
    },
    {
     "data": {
      "text/html": [
       "<pre style=\"white-space:pre;overflow-x:auto;line-height:normal;font-family:Menlo,'DejaVu Sans Mono',consolas,'Courier New',monospace\">ropensci_coding_dh_org.csv\n",
       "</pre>\n"
      ],
      "text/plain": [
       "ropensci_coding_dh_org.csv\n"
      ]
     },
     "metadata": {},
     "output_type": "display_data"
    },
    {
     "data": {
      "text/html": [
       "<pre style=\"white-space:pre;overflow-x:auto;line-height:normal;font-family:Menlo,'DejaVu Sans Mono',consolas,'Courier New',monospace\">WaiSystems_coding_dh_org.csv\n",
       "</pre>\n"
      ],
      "text/plain": [
       "WaiSystems_coding_dh_org.csv\n"
      ]
     },
     "metadata": {},
     "output_type": "display_data"
    },
    {
     "data": {
      "text/html": [
       "<pre style=\"white-space:pre;overflow-x:auto;line-height:normal;font-family:Menlo,'DejaVu Sans Mono',consolas,'Courier New',monospace\">nyu-dss_coding_dh_org.csv\n",
       "</pre>\n"
      ],
      "text/plain": [
       "nyu-dss_coding_dh_org.csv\n"
      ]
     },
     "metadata": {},
     "output_type": "display_data"
    },
    {
     "data": {
      "text/html": [
       "<pre style=\"white-space:pre;overflow-x:auto;line-height:normal;font-family:Menlo,'DejaVu Sans Mono',consolas,'Courier New',monospace\">Atlas-OS_coding_dh_org.csv\n",
       "</pre>\n"
      ],
      "text/plain": [
       "Atlas-OS_coding_dh_org.csv\n"
      ]
     },
     "metadata": {},
     "output_type": "display_data"
    },
    {
     "data": {
      "text/html": [
       "<pre style=\"white-space:pre;overflow-x:auto;line-height:normal;font-family:Menlo,'DejaVu Sans Mono',consolas,'Courier New',monospace\">DASISH_coding_dh_org.csv\n",
       "</pre>\n"
      ],
      "text/plain": [
       "DASISH_coding_dh_org.csv\n"
      ]
     },
     "metadata": {},
     "output_type": "display_data"
    },
    {
     "data": {
      "text/html": [
       "<pre style=\"white-space:pre;overflow-x:auto;line-height:normal;font-family:Menlo,'DejaVu Sans Mono',consolas,'Courier New',monospace\">epfl-dlab_coding_dh_org.csv\n",
       "</pre>\n"
      ],
      "text/plain": [
       "epfl-dlab_coding_dh_org.csv\n"
      ]
     },
     "metadata": {},
     "output_type": "display_data"
    },
    {
     "data": {
      "text/html": [
       "<pre style=\"white-space:pre;overflow-x:auto;line-height:normal;font-family:Menlo,'DejaVu Sans Mono',consolas,'Courier New',monospace\">lingcorpora_coding_dh_org.csv\n",
       "</pre>\n"
      ],
      "text/plain": [
       "lingcorpora_coding_dh_org.csv\n"
      ]
     },
     "metadata": {},
     "output_type": "display_data"
    },
    {
     "data": {
      "text/html": [
       "<pre style=\"white-space:pre;overflow-x:auto;line-height:normal;font-family:Menlo,'DejaVu Sans Mono',consolas,'Courier New',monospace\">Hist-ME_coding_dh_org.csv\n",
       "</pre>\n"
      ],
      "text/plain": [
       "Hist-ME_coding_dh_org.csv\n"
      ]
     },
     "metadata": {},
     "output_type": "display_data"
    },
    {
     "data": {
      "text/html": [
       "<pre style=\"white-space:pre;overflow-x:auto;line-height:normal;font-family:Menlo,'DejaVu Sans Mono',consolas,'Courier New',monospace\">pinax_coding_dh_org.csv\n",
       "</pre>\n"
      ],
      "text/plain": [
       "pinax_coding_dh_org.csv\n"
      ]
     },
     "metadata": {},
     "output_type": "display_data"
    },
    {
     "data": {
      "text/html": [
       "<pre style=\"white-space:pre;overflow-x:auto;line-height:normal;font-family:Menlo,'DejaVu Sans Mono',consolas,'Courier New',monospace\">nulib_coding_dh_org.csv\n",
       "</pre>\n"
      ],
      "text/plain": [
       "nulib_coding_dh_org.csv\n"
      ]
     },
     "metadata": {},
     "output_type": "display_data"
    },
    {
     "data": {
      "text/html": [
       "<pre style=\"white-space:pre;overflow-x:auto;line-height:normal;font-family:Menlo,'DejaVu Sans Mono',consolas,'Courier New',monospace\">seigedigital_coding_dh_org.csv\n",
       "</pre>\n"
      ],
      "text/plain": [
       "seigedigital_coding_dh_org.csv\n"
      ]
     },
     "metadata": {},
     "output_type": "display_data"
    },
    {
     "data": {
      "text/html": [
       "<pre style=\"white-space:pre;overflow-x:auto;line-height:normal;font-family:Menlo,'DejaVu Sans Mono',consolas,'Courier New',monospace\">ourresearch_coding_dh_org.csv\n",
       "</pre>\n"
      ],
      "text/plain": [
       "ourresearch_coding_dh_org.csv\n"
      ]
     },
     "metadata": {},
     "output_type": "display_data"
    },
    {
     "data": {
      "text/html": [
       "<pre style=\"white-space:pre;overflow-x:auto;line-height:normal;font-family:Menlo,'DejaVu Sans Mono',consolas,'Courier New',monospace\">cisnlp_coding_dh_org.csv\n",
       "</pre>\n"
      ],
      "text/plain": [
       "cisnlp_coding_dh_org.csv\n"
      ]
     },
     "metadata": {},
     "output_type": "display_data"
    },
    {
     "data": {
      "text/html": [
       "<pre style=\"white-space:pre;overflow-x:auto;line-height:normal;font-family:Menlo,'DejaVu Sans Mono',consolas,'Courier New',monospace\">palermo-hollywood_coding_dh_org.csv\n",
       "</pre>\n"
      ],
      "text/plain": [
       "palermo-hollywood_coding_dh_org.csv\n"
      ]
     },
     "metadata": {},
     "output_type": "display_data"
    },
    {
     "data": {
      "text/html": [
       "<pre style=\"white-space:pre;overflow-x:auto;line-height:normal;font-family:Menlo,'DejaVu Sans Mono',consolas,'Courier New',monospace\">httpie_coding_dh_org.csv\n",
       "</pre>\n"
      ],
      "text/plain": [
       "httpie_coding_dh_org.csv\n"
      ]
     },
     "metadata": {},
     "output_type": "display_data"
    },
    {
     "data": {
      "text/html": [
       "<pre style=\"white-space:pre;overflow-x:auto;line-height:normal;font-family:Menlo,'DejaVu Sans Mono',consolas,'Courier New',monospace\">DSSatPitt_coding_dh_org.csv\n",
       "</pre>\n"
      ],
      "text/plain": [
       "DSSatPitt_coding_dh_org.csv\n"
      ]
     },
     "metadata": {},
     "output_type": "display_data"
    },
    {
     "data": {
      "text/html": [
       "<pre style=\"white-space:pre;overflow-x:auto;line-height:normal;font-family:Menlo,'DejaVu Sans Mono',consolas,'Courier New',monospace\">MiMoText_coding_dh_org.csv\n",
       "</pre>\n"
      ],
      "text/plain": [
       "MiMoText_coding_dh_org.csv\n"
      ]
     },
     "metadata": {},
     "output_type": "display_data"
    },
    {
     "data": {
      "text/html": [
       "<pre style=\"white-space:pre;overflow-x:auto;line-height:normal;font-family:Menlo,'DejaVu Sans Mono',consolas,'Courier New',monospace\">etalab_coding_dh_org.csv\n",
       "</pre>\n"
      ],
      "text/plain": [
       "etalab_coding_dh_org.csv\n"
      ]
     },
     "metadata": {},
     "output_type": "display_data"
    },
    {
     "data": {
      "text/html": [
       "<pre style=\"white-space:pre;overflow-x:auto;line-height:normal;font-family:Menlo,'DejaVu Sans Mono',consolas,'Courier New',monospace\">CenterOfCreativeComputation_coding_dh_org.csv\n",
       "</pre>\n"
      ],
      "text/plain": [
       "CenterOfCreativeComputation_coding_dh_org.csv\n"
      ]
     },
     "metadata": {},
     "output_type": "display_data"
    },
    {
     "data": {
      "text/html": [
       "<pre style=\"white-space:pre;overflow-x:auto;line-height:normal;font-family:Menlo,'DejaVu Sans Mono',consolas,'Courier New',monospace\">hackathonBnF_coding_dh_org.csv\n",
       "</pre>\n"
      ],
      "text/plain": [
       "hackathonBnF_coding_dh_org.csv\n"
      ]
     },
     "metadata": {},
     "output_type": "display_data"
    },
    {
     "data": {
      "text/html": [
       "<pre style=\"white-space:pre;overflow-x:auto;line-height:normal;font-family:Menlo,'DejaVu Sans Mono',consolas,'Courier New',monospace\">SciSciSummerSchool_coding_dh_org.csv\n",
       "</pre>\n"
      ],
      "text/plain": [
       "SciSciSummerSchool_coding_dh_org.csv\n"
      ]
     },
     "metadata": {},
     "output_type": "display_data"
    },
    {
     "data": {
      "text/html": [
       "<pre style=\"white-space:pre;overflow-x:auto;line-height:normal;font-family:Menlo,'DejaVu Sans Mono',consolas,'Courier New',monospace\">Living-with-machines_coding_dh_org.csv\n",
       "</pre>\n"
      ],
      "text/plain": [
       "Living-with-machines_coding_dh_org.csv\n"
      ]
     },
     "metadata": {},
     "output_type": "display_data"
    },
    {
     "data": {
      "text/html": [
       "<pre style=\"white-space:pre;overflow-x:auto;line-height:normal;font-family:Menlo,'DejaVu Sans Mono',consolas,'Courier New',monospace\">LabCInf_coding_dh_org.csv\n",
       "</pre>\n"
      ],
      "text/plain": [
       "LabCInf_coding_dh_org.csv\n"
      ]
     },
     "metadata": {},
     "output_type": "display_data"
    },
    {
     "data": {
      "text/html": [
       "<pre style=\"white-space:pre;overflow-x:auto;line-height:normal;font-family:Menlo,'DejaVu Sans Mono',consolas,'Courier New',monospace\">Birkbeck2_coding_dh_org.csv\n",
       "</pre>\n"
      ],
      "text/plain": [
       "Birkbeck2_coding_dh_org.csv\n"
      ]
     },
     "metadata": {},
     "output_type": "display_data"
    },
    {
     "data": {
      "text/html": [
       "<pre style=\"white-space:pre;overflow-x:auto;line-height:normal;font-family:Menlo,'DejaVu Sans Mono',consolas,'Courier New',monospace\">IrrilevantHappyLlamas_coding_dh_org.csv\n",
       "</pre>\n"
      ],
      "text/plain": [
       "IrrilevantHappyLlamas_coding_dh_org.csv\n"
      ]
     },
     "metadata": {},
     "output_type": "display_data"
    },
    {
     "data": {
      "text/html": [
       "<pre style=\"white-space:pre;overflow-x:auto;line-height:normal;font-family:Menlo,'DejaVu Sans Mono',consolas,'Courier New',monospace\">eXtensibleCatalog_coding_dh_org.csv\n",
       "</pre>\n"
      ],
      "text/plain": [
       "eXtensibleCatalog_coding_dh_org.csv\n"
      ]
     },
     "metadata": {},
     "output_type": "display_data"
    },
    {
     "data": {
      "text/html": [
       "<pre style=\"white-space:pre;overflow-x:auto;line-height:normal;font-family:Menlo,'DejaVu Sans Mono',consolas,'Courier New',monospace\">fishtree-attempt_coding_dh_org.csv\n",
       "</pre>\n"
      ],
      "text/plain": [
       "fishtree-attempt_coding_dh_org.csv\n"
      ]
     },
     "metadata": {},
     "output_type": "display_data"
    },
    {
     "data": {
      "text/html": [
       "<pre style=\"white-space:pre;overflow-x:auto;line-height:normal;font-family:Menlo,'DejaVu Sans Mono',consolas,'Courier New',monospace\">blakearchive_coding_dh_org.csv\n",
       "</pre>\n"
      ],
      "text/plain": [
       "blakearchive_coding_dh_org.csv\n"
      ]
     },
     "metadata": {},
     "output_type": "display_data"
    },
    {
     "data": {
      "text/html": [
       "<pre style=\"white-space:pre;overflow-x:auto;line-height:normal;font-family:Menlo,'DejaVu Sans Mono',consolas,'Courier New',monospace\">sladearchive_coding_dh_org.csv\n",
       "</pre>\n"
      ],
      "text/plain": [
       "sladearchive_coding_dh_org.csv\n"
      ]
     },
     "metadata": {},
     "output_type": "display_data"
    },
    {
     "data": {
      "text/html": [
       "<pre style=\"white-space:pre;overflow-x:auto;line-height:normal;font-family:Menlo,'DejaVu Sans Mono',consolas,'Courier New',monospace\">metopedia_coding_dh_org.csv\n",
       "</pre>\n"
      ],
      "text/plain": [
       "metopedia_coding_dh_org.csv\n"
      ]
     },
     "metadata": {},
     "output_type": "display_data"
    },
    {
     "data": {
      "text/html": [
       "<pre style=\"white-space:pre;overflow-x:auto;line-height:normal;font-family:Menlo,'DejaVu Sans Mono',consolas,'Courier New',monospace\">digiMof_coding_dh_org.csv\n",
       "</pre>\n"
      ],
      "text/plain": [
       "digiMof_coding_dh_org.csv\n"
      ]
     },
     "metadata": {},
     "output_type": "display_data"
    },
    {
     "data": {
      "text/html": [
       "<pre style=\"white-space:pre;overflow-x:auto;line-height:normal;font-family:Menlo,'DejaVu Sans Mono',consolas,'Courier New',monospace\">comses-model-building-blocks_coding_dh_org.csv\n",
       "</pre>\n"
      ],
      "text/plain": [
       "comses-model-building-blocks_coding_dh_org.csv\n"
      ]
     },
     "metadata": {},
     "output_type": "display_data"
    },
    {
     "data": {
      "text/html": [
       "<pre style=\"white-space:pre;overflow-x:auto;line-height:normal;font-family:Menlo,'DejaVu Sans Mono',consolas,'Courier New',monospace\">oxen-io_coding_dh_org.csv\n",
       "</pre>\n"
      ],
      "text/plain": [
       "oxen-io_coding_dh_org.csv\n"
      ]
     },
     "metadata": {},
     "output_type": "display_data"
    },
    {
     "data": {
      "text/html": [
       "<pre style=\"white-space:pre;overflow-x:auto;line-height:normal;font-family:Menlo,'DejaVu Sans Mono',consolas,'Courier New',monospace\">Grinnell-CSC207_coding_dh_org.csv\n",
       "</pre>\n"
      ],
      "text/plain": [
       "Grinnell-CSC207_coding_dh_org.csv\n"
      ]
     },
     "metadata": {},
     "output_type": "display_data"
    },
    {
     "data": {
      "text/html": [
       "<pre style=\"white-space:pre;overflow-x:auto;line-height:normal;font-family:Menlo,'DejaVu Sans Mono',consolas,'Courier New',monospace\">web-archive-group_coding_dh_org.csv\n",
       "</pre>\n"
      ],
      "text/plain": [
       "web-archive-group_coding_dh_org.csv\n"
      ]
     },
     "metadata": {},
     "output_type": "display_data"
    },
    {
     "data": {
      "text/html": [
       "<pre style=\"white-space:pre;overflow-x:auto;line-height:normal;font-family:Menlo,'DejaVu Sans Mono',consolas,'Courier New',monospace\">TreeHacks_coding_dh_org.csv\n",
       "</pre>\n"
      ],
      "text/plain": [
       "TreeHacks_coding_dh_org.csv\n"
      ]
     },
     "metadata": {},
     "output_type": "display_data"
    },
    {
     "data": {
      "text/html": [
       "<pre style=\"white-space:pre;overflow-x:auto;line-height:normal;font-family:Menlo,'DejaVu Sans Mono',consolas,'Courier New',monospace\">anthubio_coding_dh_org.csv\n",
       "</pre>\n"
      ],
      "text/plain": [
       "anthubio_coding_dh_org.csv\n"
      ]
     },
     "metadata": {},
     "output_type": "display_data"
    },
    {
     "data": {
      "text/html": [
       "<pre style=\"white-space:pre;overflow-x:auto;line-height:normal;font-family:Menlo,'DejaVu Sans Mono',consolas,'Courier New',monospace\">mara_coding_dh_org.csv\n",
       "</pre>\n"
      ],
      "text/plain": [
       "mara_coding_dh_org.csv\n"
      ]
     },
     "metadata": {},
     "output_type": "display_data"
    },
    {
     "data": {
      "text/html": [
       "<pre style=\"white-space:pre;overflow-x:auto;line-height:normal;font-family:Menlo,'DejaVu Sans Mono',consolas,'Courier New',monospace\">RefugeRestrooms_coding_dh_org.csv\n",
       "</pre>\n"
      ],
      "text/plain": [
       "RefugeRestrooms_coding_dh_org.csv\n"
      ]
     },
     "metadata": {},
     "output_type": "display_data"
    },
    {
     "data": {
      "text/html": [
       "<pre style=\"white-space:pre;overflow-x:auto;line-height:normal;font-family:Menlo,'DejaVu Sans Mono',consolas,'Courier New',monospace\">sastra-creations_coding_dh_org.csv\n",
       "</pre>\n"
      ],
      "text/plain": [
       "sastra-creations_coding_dh_org.csv\n"
      ]
     },
     "metadata": {},
     "output_type": "display_data"
    },
    {
     "data": {
      "text/html": [
       "<pre style=\"white-space:pre;overflow-x:auto;line-height:normal;font-family:Menlo,'DejaVu Sans Mono',consolas,'Courier New',monospace\">espm-288_coding_dh_org.csv\n",
       "</pre>\n"
      ],
      "text/plain": [
       "espm-288_coding_dh_org.csv\n"
      ]
     },
     "metadata": {},
     "output_type": "display_data"
    },
    {
     "data": {
      "text/html": [
       "<pre style=\"white-space:pre;overflow-x:auto;line-height:normal;font-family:Menlo,'DejaVu Sans Mono',consolas,'Courier New',monospace\">ValveSoftware_coding_dh_org.csv\n",
       "</pre>\n"
      ],
      "text/plain": [
       "ValveSoftware_coding_dh_org.csv\n"
      ]
     },
     "metadata": {},
     "output_type": "display_data"
    },
    {
     "data": {
      "text/html": [
       "<pre style=\"white-space:pre;overflow-x:auto;line-height:normal;font-family:Menlo,'DejaVu Sans Mono',consolas,'Courier New',monospace\">citation-style-language_coding_dh_org.csv\n",
       "</pre>\n"
      ],
      "text/plain": [
       "citation-style-language_coding_dh_org.csv\n"
      ]
     },
     "metadata": {},
     "output_type": "display_data"
    },
    {
     "data": {
      "text/html": [
       "<pre style=\"white-space:pre;overflow-x:auto;line-height:normal;font-family:Menlo,'DejaVu Sans Mono',consolas,'Courier New',monospace\">OnlpLab_coding_dh_org.csv\n",
       "</pre>\n"
      ],
      "text/plain": [
       "OnlpLab_coding_dh_org.csv\n"
      ]
     },
     "metadata": {},
     "output_type": "display_data"
    },
    {
     "data": {
      "text/html": [
       "<pre style=\"white-space:pre;overflow-x:auto;line-height:normal;font-family:Menlo,'DejaVu Sans Mono',consolas,'Courier New',monospace\">knaw-huc_coding_dh_org.csv\n",
       "</pre>\n"
      ],
      "text/plain": [
       "knaw-huc_coding_dh_org.csv\n"
      ]
     },
     "metadata": {},
     "output_type": "display_data"
    },
    {
     "data": {
      "text/html": [
       "<pre style=\"white-space:pre;overflow-x:auto;line-height:normal;font-family:Menlo,'DejaVu Sans Mono',consolas,'Courier New',monospace\">d2si_coding_dh_org.csv\n",
       "</pre>\n"
      ],
      "text/plain": [
       "d2si_coding_dh_org.csv\n"
      ]
     },
     "metadata": {},
     "output_type": "display_data"
    },
    {
     "data": {
      "text/html": [
       "<pre style=\"white-space:pre;overflow-x:auto;line-height:normal;font-family:Menlo,'DejaVu Sans Mono',consolas,'Courier New',monospace\">UniLuFS2020-ReplicationSeminar_coding_dh_org.csv\n",
       "</pre>\n"
      ],
      "text/plain": [
       "UniLuFS2020-ReplicationSeminar_coding_dh_org.csv\n"
      ]
     },
     "metadata": {},
     "output_type": "display_data"
    },
    {
     "data": {
      "text/html": [
       "<pre style=\"white-space:pre;overflow-x:auto;line-height:normal;font-family:Menlo,'DejaVu Sans Mono',consolas,'Courier New',monospace\">jivygroup_coding_dh_org.csv\n",
       "</pre>\n"
      ],
      "text/plain": [
       "jivygroup_coding_dh_org.csv\n"
      ]
     },
     "metadata": {},
     "output_type": "display_data"
    },
    {
     "data": {
      "text/html": [
       "<pre style=\"white-space:pre;overflow-x:auto;line-height:normal;font-family:Menlo,'DejaVu Sans Mono',consolas,'Courier New',monospace\">wiki-safe-pdx_coding_dh_org.csv\n",
       "</pre>\n"
      ],
      "text/plain": [
       "wiki-safe-pdx_coding_dh_org.csv\n"
      ]
     },
     "metadata": {},
     "output_type": "display_data"
    },
    {
     "data": {
      "text/html": [
       "<pre style=\"white-space:pre;overflow-x:auto;line-height:normal;font-family:Menlo,'DejaVu Sans Mono',consolas,'Courier New',monospace\">emory-qtm_coding_dh_org.csv\n",
       "</pre>\n"
      ],
      "text/plain": [
       "emory-qtm_coding_dh_org.csv\n"
      ]
     },
     "metadata": {},
     "output_type": "display_data"
    },
    {
     "data": {
      "text/html": [
       "<pre style=\"white-space:pre;overflow-x:auto;line-height:normal;font-family:Menlo,'DejaVu Sans Mono',consolas,'Courier New',monospace\">grancaccia2020_coding_dh_org.csv\n",
       "</pre>\n"
      ],
      "text/plain": [
       "grancaccia2020_coding_dh_org.csv\n"
      ]
     },
     "metadata": {},
     "output_type": "display_data"
    },
    {
     "data": {
      "text/html": [
       "<pre style=\"white-space:pre;overflow-x:auto;line-height:normal;font-family:Menlo,'DejaVu Sans Mono',consolas,'Courier New',monospace\">CEDAR-project_coding_dh_org.csv\n",
       "</pre>\n"
      ],
      "text/plain": [
       "CEDAR-project_coding_dh_org.csv\n"
      ]
     },
     "metadata": {},
     "output_type": "display_data"
    },
    {
     "data": {
      "text/html": [
       "<pre style=\"white-space:pre;overflow-x:auto;line-height:normal;font-family:Menlo,'DejaVu Sans Mono',consolas,'Courier New',monospace\">skilvit_coding_dh_org.csv\n",
       "</pre>\n"
      ],
      "text/plain": [
       "skilvit_coding_dh_org.csv\n"
      ]
     },
     "metadata": {},
     "output_type": "display_data"
    },
    {
     "data": {
      "text/html": [
       "<pre style=\"white-space:pre;overflow-x:auto;line-height:normal;font-family:Menlo,'DejaVu Sans Mono',consolas,'Courier New',monospace\">BRITorg_coding_dh_org.csv\n",
       "</pre>\n"
      ],
      "text/plain": [
       "BRITorg_coding_dh_org.csv\n"
      ]
     },
     "metadata": {},
     "output_type": "display_data"
    },
    {
     "data": {
      "text/html": [
       "<pre style=\"white-space:pre;overflow-x:auto;line-height:normal;font-family:Menlo,'DejaVu Sans Mono',consolas,'Courier New',monospace\">chartesHN_coding_dh_org.csv\n",
       "</pre>\n"
      ],
      "text/plain": [
       "chartesHN_coding_dh_org.csv\n"
      ]
     },
     "metadata": {},
     "output_type": "display_data"
    },
    {
     "data": {
      "text/html": [
       "<pre style=\"white-space:pre;overflow-x:auto;line-height:normal;font-family:Menlo,'DejaVu Sans Mono',consolas,'Courier New',monospace\">xdress_coding_dh_org.csv\n",
       "</pre>\n"
      ],
      "text/plain": [
       "xdress_coding_dh_org.csv\n"
      ]
     },
     "metadata": {},
     "output_type": "display_data"
    },
    {
     "data": {
      "text/html": [
       "<pre style=\"white-space:pre;overflow-x:auto;line-height:normal;font-family:Menlo,'DejaVu Sans Mono',consolas,'Courier New',monospace\">nuntiaturberichte_coding_dh_org.csv\n",
       "</pre>\n"
      ],
      "text/plain": [
       "nuntiaturberichte_coding_dh_org.csv\n"
      ]
     },
     "metadata": {},
     "output_type": "display_data"
    },
    {
     "data": {
      "text/html": [
       "<pre style=\"white-space:pre;overflow-x:auto;line-height:normal;font-family:Menlo,'DejaVu Sans Mono',consolas,'Courier New',monospace\">Rbanism_coding_dh_org.csv\n",
       "</pre>\n"
      ],
      "text/plain": [
       "Rbanism_coding_dh_org.csv\n"
      ]
     },
     "metadata": {},
     "output_type": "display_data"
    },
    {
     "data": {
      "text/html": [
       "<pre style=\"white-space:pre;overflow-x:auto;line-height:normal;font-family:Menlo,'DejaVu Sans Mono',consolas,'Courier New',monospace\">CampSmalltalk_coding_dh_org.csv\n",
       "</pre>\n"
      ],
      "text/plain": [
       "CampSmalltalk_coding_dh_org.csv\n"
      ]
     },
     "metadata": {},
     "output_type": "display_data"
    },
    {
     "data": {
      "text/html": [
       "<pre style=\"white-space:pre;overflow-x:auto;line-height:normal;font-family:Menlo,'DejaVu Sans Mono',consolas,'Courier New',monospace\">religious-ecologies_coding_dh_org.csv\n",
       "</pre>\n"
      ],
      "text/plain": [
       "religious-ecologies_coding_dh_org.csv\n"
      ]
     },
     "metadata": {},
     "output_type": "display_data"
    },
    {
     "data": {
      "text/html": [
       "<pre style=\"white-space:pre;overflow-x:auto;line-height:normal;font-family:Menlo,'DejaVu Sans Mono',consolas,'Courier New',monospace\">rehypejs_coding_dh_org.csv\n",
       "</pre>\n"
      ],
      "text/plain": [
       "rehypejs_coding_dh_org.csv\n"
      ]
     },
     "metadata": {},
     "output_type": "display_data"
    },
    {
     "data": {
      "text/html": [
       "<pre style=\"white-space:pre;overflow-x:auto;line-height:normal;font-family:Menlo,'DejaVu Sans Mono',consolas,'Courier New',monospace\">scta-texts_coding_dh_org.csv\n",
       "</pre>\n"
      ],
      "text/plain": [
       "scta-texts_coding_dh_org.csv\n"
      ]
     },
     "metadata": {},
     "output_type": "display_data"
    },
    {
     "data": {
      "text/html": [
       "<pre style=\"white-space:pre;overflow-x:auto;line-height:normal;font-family:Menlo,'DejaVu Sans Mono',consolas,'Courier New',monospace\">archive-for-processing_coding_dh_org.csv\n",
       "</pre>\n"
      ],
      "text/plain": [
       "archive-for-processing_coding_dh_org.csv\n"
      ]
     },
     "metadata": {},
     "output_type": "display_data"
    },
    {
     "data": {
      "text/html": [
       "<pre style=\"white-space:pre;overflow-x:auto;line-height:normal;font-family:Menlo,'DejaVu Sans Mono',consolas,'Courier New',monospace\">EcrituresNumeriques_coding_dh_org.csv\n",
       "</pre>\n"
      ],
      "text/plain": [
       "EcrituresNumeriques_coding_dh_org.csv\n"
      ]
     },
     "metadata": {},
     "output_type": "display_data"
    },
    {
     "data": {
      "text/html": [
       "<pre style=\"white-space:pre;overflow-x:auto;line-height:normal;font-family:Menlo,'DejaVu Sans Mono',consolas,'Courier New',monospace\">metagridch_coding_dh_org.csv\n",
       "</pre>\n"
      ],
      "text/plain": [
       "metagridch_coding_dh_org.csv\n"
      ]
     },
     "metadata": {},
     "output_type": "display_data"
    },
    {
     "data": {
      "text/html": [
       "<pre style=\"white-space:pre;overflow-x:auto;line-height:normal;font-family:Menlo,'DejaVu Sans Mono',consolas,'Courier New',monospace\">arkly-io_coding_dh_org.csv\n",
       "</pre>\n"
      ],
      "text/plain": [
       "arkly-io_coding_dh_org.csv\n"
      ]
     },
     "metadata": {},
     "output_type": "display_data"
    },
    {
     "data": {
      "text/html": [
       "<pre style=\"white-space:pre;overflow-x:auto;line-height:normal;font-family:Menlo,'DejaVu Sans Mono',consolas,'Courier New',monospace\">carpentries-incubator_coding_dh_org.csv\n",
       "</pre>\n"
      ],
      "text/plain": [
       "carpentries-incubator_coding_dh_org.csv\n"
      ]
     },
     "metadata": {},
     "output_type": "display_data"
    },
    {
     "data": {
      "text/html": [
       "<pre style=\"white-space:pre;overflow-x:auto;line-height:normal;font-family:Menlo,'DejaVu Sans Mono',consolas,'Courier New',monospace\">fsu-ciscor_coding_dh_org.csv\n",
       "</pre>\n"
      ],
      "text/plain": [
       "fsu-ciscor_coding_dh_org.csv\n"
      ]
     },
     "metadata": {},
     "output_type": "display_data"
    },
    {
     "data": {
      "text/html": [
       "<pre style=\"white-space:pre;overflow-x:auto;line-height:normal;font-family:Menlo,'DejaVu Sans Mono',consolas,'Courier New',monospace\">ACM-SIGGRAPH-FSU_coding_dh_org.csv\n",
       "</pre>\n"
      ],
      "text/plain": [
       "ACM-SIGGRAPH-FSU_coding_dh_org.csv\n"
      ]
     },
     "metadata": {},
     "output_type": "display_data"
    },
    {
     "data": {
      "text/html": [
       "<pre style=\"white-space:pre;overflow-x:auto;line-height:normal;font-family:Menlo,'DejaVu Sans Mono',consolas,'Courier New',monospace\">holderdeord_coding_dh_org.csv\n",
       "</pre>\n"
      ],
      "text/plain": [
       "holderdeord_coding_dh_org.csv\n"
      ]
     },
     "metadata": {},
     "output_type": "display_data"
    },
    {
     "data": {
      "text/html": [
       "<pre style=\"white-space:pre;overflow-x:auto;line-height:normal;font-family:Menlo,'DejaVu Sans Mono',consolas,'Courier New',monospace\">vedph_coding_dh_org.csv\n",
       "</pre>\n"
      ],
      "text/plain": [
       "vedph_coding_dh_org.csv\n"
      ]
     },
     "metadata": {},
     "output_type": "display_data"
    },
    {
     "data": {
      "text/html": [
       "<pre style=\"white-space:pre;overflow-x:auto;line-height:normal;font-family:Menlo,'DejaVu Sans Mono',consolas,'Courier New',monospace\">dictoapp_coding_dh_org.csv\n",
       "</pre>\n"
      ],
      "text/plain": [
       "dictoapp_coding_dh_org.csv\n"
      ]
     },
     "metadata": {},
     "output_type": "display_data"
    },
    {
     "data": {
      "text/html": [
       "<pre style=\"white-space:pre;overflow-x:auto;line-height:normal;font-family:Menlo,'DejaVu Sans Mono',consolas,'Courier New',monospace\">historylab-cz_coding_dh_org.csv\n",
       "</pre>\n"
      ],
      "text/plain": [
       "historylab-cz_coding_dh_org.csv\n"
      ]
     },
     "metadata": {},
     "output_type": "display_data"
    },
    {
     "data": {
      "text/html": [
       "<pre style=\"white-space:pre;overflow-x:auto;line-height:normal;font-family:Menlo,'DejaVu Sans Mono',consolas,'Courier New',monospace\">DigitalHill_coding_dh_org.csv\n",
       "</pre>\n"
      ],
      "text/plain": [
       "DigitalHill_coding_dh_org.csv\n"
      ]
     },
     "metadata": {},
     "output_type": "display_data"
    },
    {
     "data": {
      "text/html": [
       "<pre style=\"white-space:pre;overflow-x:auto;line-height:normal;font-family:Menlo,'DejaVu Sans Mono',consolas,'Courier New',monospace\">miley-io_coding_dh_org.csv\n",
       "</pre>\n"
      ],
      "text/plain": [
       "miley-io_coding_dh_org.csv\n"
      ]
     },
     "metadata": {},
     "output_type": "display_data"
    },
    {
     "data": {
      "text/html": [
       "<pre style=\"white-space:pre;overflow-x:auto;line-height:normal;font-family:Menlo,'DejaVu Sans Mono',consolas,'Courier New',monospace\">dressdiscover_coding_dh_org.csv\n",
       "</pre>\n"
      ],
      "text/plain": [
       "dressdiscover_coding_dh_org.csv\n"
      ]
     },
     "metadata": {},
     "output_type": "display_data"
    },
    {
     "data": {
      "text/html": [
       "<pre style=\"white-space:pre;overflow-x:auto;line-height:normal;font-family:Menlo,'DejaVu Sans Mono',consolas,'Courier New',monospace\">eventive-org_coding_dh_org.csv\n",
       "</pre>\n"
      ],
      "text/plain": [
       "eventive-org_coding_dh_org.csv\n"
      ]
     },
     "metadata": {},
     "output_type": "display_data"
    },
    {
     "data": {
      "text/html": [
       "<pre style=\"white-space:pre;overflow-x:auto;line-height:normal;font-family:Menlo,'DejaVu Sans Mono',consolas,'Courier New',monospace\">ArcaniteSolutions_coding_dh_org.csv\n",
       "</pre>\n"
      ],
      "text/plain": [
       "ArcaniteSolutions_coding_dh_org.csv\n"
      ]
     },
     "metadata": {},
     "output_type": "display_data"
    },
    {
     "data": {
      "text/html": [
       "<pre style=\"white-space:pre;overflow-x:auto;line-height:normal;font-family:Menlo,'DejaVu Sans Mono',consolas,'Courier New',monospace\">notube_coding_dh_org.csv\n",
       "</pre>\n"
      ],
      "text/plain": [
       "notube_coding_dh_org.csv\n"
      ]
     },
     "metadata": {},
     "output_type": "display_data"
    },
    {
     "data": {
      "text/html": [
       "<pre style=\"white-space:pre;overflow-x:auto;line-height:normal;font-family:Menlo,'DejaVu Sans Mono',consolas,'Courier New',monospace\">NCNU-etutor_coding_dh_org.csv\n",
       "</pre>\n"
      ],
      "text/plain": [
       "NCNU-etutor_coding_dh_org.csv\n"
      ]
     },
     "metadata": {},
     "output_type": "display_data"
    },
    {
     "data": {
      "text/html": [
       "<pre style=\"white-space:pre;overflow-x:auto;line-height:normal;font-family:Menlo,'DejaVu Sans Mono',consolas,'Courier New',monospace\">nasawakeupcalls_coding_dh_org.csv\n",
       "</pre>\n"
      ],
      "text/plain": [
       "nasawakeupcalls_coding_dh_org.csv\n"
      ]
     },
     "metadata": {},
     "output_type": "display_data"
    },
    {
     "data": {
      "text/html": [
       "<pre style=\"white-space:pre;overflow-x:auto;line-height:normal;font-family:Menlo,'DejaVu Sans Mono',consolas,'Courier New',monospace\">obdurodon_coding_dh_org.csv\n",
       "</pre>\n"
      ],
      "text/plain": [
       "obdurodon_coding_dh_org.csv\n"
      ]
     },
     "metadata": {},
     "output_type": "display_data"
    },
    {
     "data": {
      "text/html": [
       "<pre style=\"white-space:pre;overflow-x:auto;line-height:normal;font-family:Menlo,'DejaVu Sans Mono',consolas,'Courier New',monospace\">programminghistorian_coding_dh_org.csv\n",
       "</pre>\n"
      ],
      "text/plain": [
       "programminghistorian_coding_dh_org.csv\n"
      ]
     },
     "metadata": {},
     "output_type": "display_data"
    },
    {
     "data": {
      "text/html": [
       "<pre style=\"white-space:pre;overflow-x:auto;line-height:normal;font-family:Menlo,'DejaVu Sans Mono',consolas,'Courier New',monospace\">MontrealCorpusTools_coding_dh_org.csv\n",
       "</pre>\n"
      ],
      "text/plain": [
       "MontrealCorpusTools_coding_dh_org.csv\n"
      ]
     },
     "metadata": {},
     "output_type": "display_data"
    },
    {
     "data": {
      "text/html": [
       "<pre style=\"white-space:pre;overflow-x:auto;line-height:normal;font-family:Menlo,'DejaVu Sans Mono',consolas,'Courier New',monospace\">datafruits_coding_dh_org.csv\n",
       "</pre>\n"
      ],
      "text/plain": [
       "datafruits_coding_dh_org.csv\n"
      ]
     },
     "metadata": {},
     "output_type": "display_data"
    },
    {
     "data": {
      "text/html": [
       "<pre style=\"white-space:pre;overflow-x:auto;line-height:normal;font-family:Menlo,'DejaVu Sans Mono',consolas,'Courier New',monospace\">bikedataproject_coding_dh_org.csv\n",
       "</pre>\n"
      ],
      "text/plain": [
       "bikedataproject_coding_dh_org.csv\n"
      ]
     },
     "metadata": {},
     "output_type": "display_data"
    },
    {
     "data": {
      "text/html": [
       "<pre style=\"white-space:pre;overflow-x:auto;line-height:normal;font-family:Menlo,'DejaVu Sans Mono',consolas,'Courier New',monospace\">NationalLibraryOfNorway_coding_dh_org.csv\n",
       "</pre>\n"
      ],
      "text/plain": [
       "NationalLibraryOfNorway_coding_dh_org.csv\n"
      ]
     },
     "metadata": {},
     "output_type": "display_data"
    },
    {
     "data": {
      "text/html": [
       "<pre style=\"white-space:pre;overflow-x:auto;line-height:normal;font-family:Menlo,'DejaVu Sans Mono',consolas,'Courier New',monospace\">IRT2024_coding_dh_org.csv\n",
       "</pre>\n"
      ],
      "text/plain": [
       "IRT2024_coding_dh_org.csv\n"
      ]
     },
     "metadata": {},
     "output_type": "display_data"
    },
    {
     "data": {
      "text/html": [
       "<pre style=\"white-space:pre;overflow-x:auto;line-height:normal;font-family:Menlo,'DejaVu Sans Mono',consolas,'Courier New',monospace\">castorini_coding_dh_org.csv\n",
       "</pre>\n"
      ],
      "text/plain": [
       "castorini_coding_dh_org.csv\n"
      ]
     },
     "metadata": {},
     "output_type": "display_data"
    },
    {
     "data": {
      "text/html": [
       "<pre style=\"white-space:pre;overflow-x:auto;line-height:normal;font-family:Menlo,'DejaVu Sans Mono',consolas,'Courier New',monospace\">AustralianSCM_coding_dh_org.csv\n",
       "</pre>\n"
      ],
      "text/plain": [
       "AustralianSCM_coding_dh_org.csv\n"
      ]
     },
     "metadata": {},
     "output_type": "display_data"
    },
    {
     "data": {
      "text/html": [
       "<pre style=\"white-space:pre;overflow-x:auto;line-height:normal;font-family:Menlo,'DejaVu Sans Mono',consolas,'Courier New',monospace\">KU-Leuven-Libraries_coding_dh_org.csv\n",
       "</pre>\n"
      ],
      "text/plain": [
       "KU-Leuven-Libraries_coding_dh_org.csv\n"
      ]
     },
     "metadata": {},
     "output_type": "display_data"
    },
    {
     "data": {
      "text/html": [
       "<pre style=\"white-space:pre;overflow-x:auto;line-height:normal;font-family:Menlo,'DejaVu Sans Mono',consolas,'Courier New',monospace\">BC-COMS-2710_coding_dh_org.csv\n",
       "</pre>\n"
      ],
      "text/plain": [
       "BC-COMS-2710_coding_dh_org.csv\n"
      ]
     },
     "metadata": {},
     "output_type": "display_data"
    },
    {
     "data": {
      "text/html": [
       "<pre style=\"white-space:pre;overflow-x:auto;line-height:normal;font-family:Menlo,'DejaVu Sans Mono',consolas,'Courier New',monospace\">dfk-paris_coding_dh_org.csv\n",
       "</pre>\n"
      ],
      "text/plain": [
       "dfk-paris_coding_dh_org.csv\n"
      ]
     },
     "metadata": {},
     "output_type": "display_data"
    },
    {
     "data": {
      "text/html": [
       "<pre style=\"white-space:pre;overflow-x:auto;line-height:normal;font-family:Menlo,'DejaVu Sans Mono',consolas,'Courier New',monospace\">rawgraphs_coding_dh_org.csv\n",
       "</pre>\n"
      ],
      "text/plain": [
       "rawgraphs_coding_dh_org.csv\n"
      ]
     },
     "metadata": {},
     "output_type": "display_data"
    },
    {
     "data": {
      "text/html": [
       "<pre style=\"white-space:pre;overflow-x:auto;line-height:normal;font-family:Menlo,'DejaVu Sans Mono',consolas,'Courier New',monospace\">sherlock-project_coding_dh_org.csv\n",
       "</pre>\n"
      ],
      "text/plain": [
       "sherlock-project_coding_dh_org.csv\n"
      ]
     },
     "metadata": {},
     "output_type": "display_data"
    },
    {
     "data": {
      "text/html": [
       "<pre style=\"white-space:pre;overflow-x:auto;line-height:normal;font-family:Menlo,'DejaVu Sans Mono',consolas,'Courier New',monospace\">phenoscape_coding_dh_org.csv\n",
       "</pre>\n"
      ],
      "text/plain": [
       "phenoscape_coding_dh_org.csv\n"
      ]
     },
     "metadata": {},
     "output_type": "display_data"
    },
    {
     "data": {
      "text/html": [
       "<pre style=\"white-space:pre;overflow-x:auto;line-height:normal;font-family:Menlo,'DejaVu Sans Mono',consolas,'Courier New',monospace\">majlis-erc_coding_dh_org.csv\n",
       "</pre>\n"
      ],
      "text/plain": [
       "majlis-erc_coding_dh_org.csv\n"
      ]
     },
     "metadata": {},
     "output_type": "display_data"
    },
    {
     "data": {
      "text/html": [
       "<pre style=\"white-space:pre;overflow-x:auto;line-height:normal;font-family:Menlo,'DejaVu Sans Mono',consolas,'Courier New',monospace\">textcreationpartnership_coding_dh_org.csv\n",
       "</pre>\n"
      ],
      "text/plain": [
       "textcreationpartnership_coding_dh_org.csv\n"
      ]
     },
     "metadata": {},
     "output_type": "display_data"
    },
    {
     "data": {
      "text/html": [
       "<pre style=\"white-space:pre;overflow-x:auto;line-height:normal;font-family:Menlo,'DejaVu Sans Mono',consolas,'Courier New',monospace\">telota_coding_dh_org.csv\n",
       "</pre>\n"
      ],
      "text/plain": [
       "telota_coding_dh_org.csv\n"
      ]
     },
     "metadata": {},
     "output_type": "display_data"
    },
    {
     "data": {
      "text/html": [
       "<pre style=\"white-space:pre;overflow-x:auto;line-height:normal;font-family:Menlo,'DejaVu Sans Mono',consolas,'Courier New',monospace\">ropensci-archive_coding_dh_org.csv\n",
       "</pre>\n"
      ],
      "text/plain": [
       "ropensci-archive_coding_dh_org.csv\n"
      ]
     },
     "metadata": {},
     "output_type": "display_data"
    },
    {
     "data": {
      "text/html": [
       "<pre style=\"white-space:pre;overflow-x:auto;line-height:normal;font-family:Menlo,'DejaVu Sans Mono',consolas,'Courier New',monospace\">OpenTTD_coding_dh_org.csv\n",
       "</pre>\n"
      ],
      "text/plain": [
       "OpenTTD_coding_dh_org.csv\n"
      ]
     },
     "metadata": {},
     "output_type": "display_data"
    },
    {
     "data": {
      "text/html": [
       "<pre style=\"white-space:pre;overflow-x:auto;line-height:normal;font-family:Menlo,'DejaVu Sans Mono',consolas,'Courier New',monospace\">amazon-science_coding_dh_org.csv\n",
       "</pre>\n"
      ],
      "text/plain": [
       "amazon-science_coding_dh_org.csv\n"
      ]
     },
     "metadata": {},
     "output_type": "display_data"
    },
    {
     "data": {
      "text/html": [
       "<pre style=\"white-space:pre;overflow-x:auto;line-height:normal;font-family:Menlo,'DejaVu Sans Mono',consolas,'Courier New',monospace\">bright-dev_coding_dh_org.csv\n",
       "</pre>\n"
      ],
      "text/plain": [
       "bright-dev_coding_dh_org.csv\n"
      ]
     },
     "metadata": {},
     "output_type": "display_data"
    },
    {
     "data": {
      "text/html": [
       "<pre style=\"white-space:pre;overflow-x:auto;line-height:normal;font-family:Menlo,'DejaVu Sans Mono',consolas,'Courier New',monospace\">LoyolaChicagoETL_coding_dh_org.csv\n",
       "</pre>\n"
      ],
      "text/plain": [
       "LoyolaChicagoETL_coding_dh_org.csv\n"
      ]
     },
     "metadata": {},
     "output_type": "display_data"
    },
    {
     "data": {
      "text/html": [
       "<pre style=\"white-space:pre;overflow-x:auto;line-height:normal;font-family:Menlo,'DejaVu Sans Mono',consolas,'Courier New',monospace\">rFramework_coding_dh_org.csv\n",
       "</pre>\n"
      ],
      "text/plain": [
       "rFramework_coding_dh_org.csv\n"
      ]
     },
     "metadata": {},
     "output_type": "display_data"
    },
    {
     "data": {
      "text/html": [
       "<pre style=\"white-space:pre;overflow-x:auto;line-height:normal;font-family:Menlo,'DejaVu Sans Mono',consolas,'Courier New',monospace\">forensic-science_coding_dh_org.csv\n",
       "</pre>\n"
      ],
      "text/plain": [
       "forensic-science_coding_dh_org.csv\n"
      ]
     },
     "metadata": {},
     "output_type": "display_data"
    },
    {
     "data": {
      "text/html": [
       "<pre style=\"white-space:pre;overflow-x:auto;line-height:normal;font-family:Menlo,'DejaVu Sans Mono',consolas,'Courier New',monospace\">foundersandcoders_coding_dh_org.csv\n",
       "</pre>\n"
      ],
      "text/plain": [
       "foundersandcoders_coding_dh_org.csv\n"
      ]
     },
     "metadata": {},
     "output_type": "display_data"
    },
    {
     "data": {
      "text/html": [
       "<pre style=\"white-space:pre;overflow-x:auto;line-height:normal;font-family:Menlo,'DejaVu Sans Mono',consolas,'Courier New',monospace\">Scholarly-editing-project_coding_dh_org.csv\n",
       "</pre>\n"
      ],
      "text/plain": [
       "Scholarly-editing-project_coding_dh_org.csv\n"
      ]
     },
     "metadata": {},
     "output_type": "display_data"
    },
    {
     "data": {
      "text/html": [
       "<pre style=\"white-space:pre;overflow-x:auto;line-height:normal;font-family:Menlo,'DejaVu Sans Mono',consolas,'Courier New',monospace\">kibao-foundation_coding_dh_org.csv\n",
       "</pre>\n"
      ],
      "text/plain": [
       "kibao-foundation_coding_dh_org.csv\n"
      ]
     },
     "metadata": {},
     "output_type": "display_data"
    },
    {
     "data": {
      "text/html": [
       "<pre style=\"white-space:pre;overflow-x:auto;line-height:normal;font-family:Menlo,'DejaVu Sans Mono',consolas,'Courier New',monospace\">rseng_coding_dh_org.csv\n",
       "</pre>\n"
      ],
      "text/plain": [
       "rseng_coding_dh_org.csv\n"
      ]
     },
     "metadata": {},
     "output_type": "display_data"
    },
    {
     "data": {
      "text/html": [
       "<pre style=\"white-space:pre;overflow-x:auto;line-height:normal;font-family:Menlo,'DejaVu Sans Mono',consolas,'Courier New',monospace\">SastraUniversity_coding_dh_org.csv\n",
       "</pre>\n"
      ],
      "text/plain": [
       "SastraUniversity_coding_dh_org.csv\n"
      ]
     },
     "metadata": {},
     "output_type": "display_data"
    },
    {
     "data": {
      "text/html": [
       "<pre style=\"white-space:pre;overflow-x:auto;line-height:normal;font-family:Menlo,'DejaVu Sans Mono',consolas,'Courier New',monospace\">ContradaAgneseProject_coding_dh_org.csv\n",
       "</pre>\n"
      ],
      "text/plain": [
       "ContradaAgneseProject_coding_dh_org.csv\n"
      ]
     },
     "metadata": {},
     "output_type": "display_data"
    },
    {
     "data": {
      "text/html": [
       "<pre style=\"white-space:pre;overflow-x:auto;line-height:normal;font-family:Menlo,'DejaVu Sans Mono',consolas,'Courier New',monospace\">r-dbi_coding_dh_org.csv\n",
       "</pre>\n"
      ],
      "text/plain": [
       "r-dbi_coding_dh_org.csv\n"
      ]
     },
     "metadata": {},
     "output_type": "display_data"
    },
    {
     "data": {
      "text/html": [
       "<pre style=\"white-space:pre;overflow-x:auto;line-height:normal;font-family:Menlo,'DejaVu Sans Mono',consolas,'Courier New',monospace\">georust_coding_dh_org.csv\n",
       "</pre>\n"
      ],
      "text/plain": [
       "georust_coding_dh_org.csv\n"
      ]
     },
     "metadata": {},
     "output_type": "display_data"
    },
    {
     "data": {
      "text/html": [
       "<pre style=\"white-space:pre;overflow-x:auto;line-height:normal;font-family:Menlo,'DejaVu Sans Mono',consolas,'Courier New',monospace\">openaddresses_coding_dh_org.csv\n",
       "</pre>\n"
      ],
      "text/plain": [
       "openaddresses_coding_dh_org.csv\n"
      ]
     },
     "metadata": {},
     "output_type": "display_data"
    },
    {
     "data": {
      "text/html": [
       "<pre style=\"white-space:pre;overflow-x:auto;line-height:normal;font-family:Menlo,'DejaVu Sans Mono',consolas,'Courier New',monospace\">Refactoring-Bot_coding_dh_org.csv\n",
       "</pre>\n"
      ],
      "text/plain": [
       "Refactoring-Bot_coding_dh_org.csv\n"
      ]
     },
     "metadata": {},
     "output_type": "display_data"
    },
    {
     "data": {
      "text/html": [
       "<pre style=\"white-space:pre;overflow-x:auto;line-height:normal;font-family:Menlo,'DejaVu Sans Mono',consolas,'Courier New',monospace\">sdam-au_coding_dh_org.csv\n",
       "</pre>\n"
      ],
      "text/plain": [
       "sdam-au_coding_dh_org.csv\n"
      ]
     },
     "metadata": {},
     "output_type": "display_data"
    },
    {
     "data": {
      "text/html": [
       "<pre style=\"white-space:pre;overflow-x:auto;line-height:normal;font-family:Menlo,'DejaVu Sans Mono',consolas,'Courier New',monospace\">sgrud_coding_dh_org.csv\n",
       "</pre>\n"
      ],
      "text/plain": [
       "sgrud_coding_dh_org.csv\n"
      ]
     },
     "metadata": {},
     "output_type": "display_data"
    },
    {
     "data": {
      "text/html": [
       "<pre style=\"white-space:pre;overflow-x:auto;line-height:normal;font-family:Menlo,'DejaVu Sans Mono',consolas,'Courier New',monospace\">MachineVisionUiB_coding_dh_org.csv\n",
       "</pre>\n"
      ],
      "text/plain": [
       "MachineVisionUiB_coding_dh_org.csv\n"
      ]
     },
     "metadata": {},
     "output_type": "display_data"
    },
    {
     "data": {
      "text/html": [
       "<pre style=\"white-space:pre;overflow-x:auto;line-height:normal;font-family:Menlo,'DejaVu Sans Mono',consolas,'Courier New',monospace\">samvera-labs_coding_dh_org.csv\n",
       "</pre>\n"
      ],
      "text/plain": [
       "samvera-labs_coding_dh_org.csv\n"
      ]
     },
     "metadata": {},
     "output_type": "display_data"
    },
    {
     "data": {
      "text/html": [
       "<pre style=\"white-space:pre;overflow-x:auto;line-height:normal;font-family:Menlo,'DejaVu Sans Mono',consolas,'Courier New',monospace\">Digital-Humanities-Israel_coding_dh_org.csv\n",
       "</pre>\n"
      ],
      "text/plain": [
       "Digital-Humanities-Israel_coding_dh_org.csv\n"
      ]
     },
     "metadata": {},
     "output_type": "display_data"
    },
    {
     "data": {
      "text/html": [
       "<pre style=\"white-space:pre;overflow-x:auto;line-height:normal;font-family:Menlo,'DejaVu Sans Mono',consolas,'Courier New',monospace\">blockchain-technical-practice_coding_dh_org.csv\n",
       "</pre>\n"
      ],
      "text/plain": [
       "blockchain-technical-practice_coding_dh_org.csv\n"
      ]
     },
     "metadata": {},
     "output_type": "display_data"
    },
    {
     "data": {
      "text/html": [
       "<pre style=\"white-space:pre;overflow-x:auto;line-height:normal;font-family:Menlo,'DejaVu Sans Mono',consolas,'Courier New',monospace\">AERI-k4h_coding_dh_org.csv\n",
       "</pre>\n"
      ],
      "text/plain": [
       "AERI-k4h_coding_dh_org.csv\n"
      ]
     },
     "metadata": {},
     "output_type": "display_data"
    },
    {
     "data": {
      "text/html": [
       "<pre style=\"white-space:pre;overflow-x:auto;line-height:normal;font-family:Menlo,'DejaVu Sans Mono',consolas,'Courier New',monospace\">YoppWorks_coding_dh_org.csv\n",
       "</pre>\n"
      ],
      "text/plain": [
       "YoppWorks_coding_dh_org.csv\n"
      ]
     },
     "metadata": {},
     "output_type": "display_data"
    },
    {
     "data": {
      "text/html": [
       "<pre style=\"white-space:pre;overflow-x:auto;line-height:normal;font-family:Menlo,'DejaVu Sans Mono',consolas,'Courier New',monospace\">LARESproject_coding_dh_org.csv\n",
       "</pre>\n"
      ],
      "text/plain": [
       "LARESproject_coding_dh_org.csv\n"
      ]
     },
     "metadata": {},
     "output_type": "display_data"
    },
    {
     "data": {
      "text/html": [
       "<pre style=\"white-space:pre;overflow-x:auto;line-height:normal;font-family:Menlo,'DejaVu Sans Mono',consolas,'Courier New',monospace\">club-cooking_coding_dh_org.csv\n",
       "</pre>\n"
      ],
      "text/plain": [
       "club-cooking_coding_dh_org.csv\n"
      ]
     },
     "metadata": {},
     "output_type": "display_data"
    },
    {
     "data": {
      "text/html": [
       "<pre style=\"white-space:pre;overflow-x:auto;line-height:normal;font-family:Menlo,'DejaVu Sans Mono',consolas,'Courier New',monospace\">inidun_coding_dh_org.csv\n",
       "</pre>\n"
      ],
      "text/plain": [
       "inidun_coding_dh_org.csv\n"
      ]
     },
     "metadata": {},
     "output_type": "display_data"
    },
    {
     "data": {
      "text/html": [
       "<pre style=\"white-space:pre;overflow-x:auto;line-height:normal;font-family:Menlo,'DejaVu Sans Mono',consolas,'Courier New',monospace\">digitaltolkien_coding_dh_org.csv\n",
       "</pre>\n"
      ],
      "text/plain": [
       "digitaltolkien_coding_dh_org.csv\n"
      ]
     },
     "metadata": {},
     "output_type": "display_data"
    },
    {
     "data": {
      "text/html": [
       "<pre style=\"white-space:pre;overflow-x:auto;line-height:normal;font-family:Menlo,'DejaVu Sans Mono',consolas,'Courier New',monospace\">Archaeology-ABM_coding_dh_org.csv\n",
       "</pre>\n"
      ],
      "text/plain": [
       "Archaeology-ABM_coding_dh_org.csv\n"
      ]
     },
     "metadata": {},
     "output_type": "display_data"
    },
    {
     "data": {
      "text/html": [
       "<pre style=\"white-space:pre;overflow-x:auto;line-height:normal;font-family:Menlo,'DejaVu Sans Mono',consolas,'Courier New',monospace\">doppins_coding_dh_org.csv\n",
       "</pre>\n"
      ],
      "text/plain": [
       "doppins_coding_dh_org.csv\n"
      ]
     },
     "metadata": {},
     "output_type": "display_data"
    },
    {
     "data": {
      "text/html": [
       "<pre style=\"white-space:pre;overflow-x:auto;line-height:normal;font-family:Menlo,'DejaVu Sans Mono',consolas,'Courier New',monospace\">RGZM_coding_dh_org.csv\n",
       "</pre>\n"
      ],
      "text/plain": [
       "RGZM_coding_dh_org.csv\n"
      ]
     },
     "metadata": {},
     "output_type": "display_data"
    },
    {
     "data": {
      "text/html": [
       "<pre style=\"white-space:pre;overflow-x:auto;line-height:normal;font-family:Menlo,'DejaVu Sans Mono',consolas,'Courier New',monospace\">New-Languages-for-NLP_coding_dh_org.csv\n",
       "</pre>\n"
      ],
      "text/plain": [
       "New-Languages-for-NLP_coding_dh_org.csv\n"
      ]
     },
     "metadata": {},
     "output_type": "display_data"
    },
    {
     "data": {
      "text/html": [
       "<pre style=\"white-space:pre;overflow-x:auto;line-height:normal;font-family:Menlo,'DejaVu Sans Mono',consolas,'Courier New',monospace\">Club-INTech_coding_dh_org.csv\n",
       "</pre>\n"
      ],
      "text/plain": [
       "Club-INTech_coding_dh_org.csv\n"
      ]
     },
     "metadata": {},
     "output_type": "display_data"
    },
    {
     "data": {
      "text/html": [
       "<pre style=\"white-space:pre;overflow-x:auto;line-height:normal;font-family:Menlo,'DejaVu Sans Mono',consolas,'Courier New',monospace\">YesWiki_coding_dh_org.csv\n",
       "</pre>\n"
      ],
      "text/plain": [
       "YesWiki_coding_dh_org.csv\n"
      ]
     },
     "metadata": {},
     "output_type": "display_data"
    },
    {
     "data": {
      "text/html": [
       "<pre style=\"white-space:pre;overflow-x:auto;line-height:normal;font-family:Menlo,'DejaVu Sans Mono',consolas,'Courier New',monospace\">DigitalMarmorParium_coding_dh_org.csv\n",
       "</pre>\n"
      ],
      "text/plain": [
       "DigitalMarmorParium_coding_dh_org.csv\n"
      ]
     },
     "metadata": {},
     "output_type": "display_data"
    },
    {
     "data": {
      "text/html": [
       "<pre style=\"white-space:pre;overflow-x:auto;line-height:normal;font-family:Menlo,'DejaVu Sans Mono',consolas,'Courier New',monospace\">BotHot11_coding_dh_org.csv\n",
       "</pre>\n"
      ],
      "text/plain": [
       "BotHot11_coding_dh_org.csv\n"
      ]
     },
     "metadata": {},
     "output_type": "display_data"
    },
    {
     "data": {
      "text/html": [
       "<pre style=\"white-space:pre;overflow-x:auto;line-height:normal;font-family:Menlo,'DejaVu Sans Mono',consolas,'Courier New',monospace\">exponential-decay_coding_dh_org.csv\n",
       "</pre>\n"
      ],
      "text/plain": [
       "exponential-decay_coding_dh_org.csv\n"
      ]
     },
     "metadata": {},
     "output_type": "display_data"
    },
    {
     "data": {
      "text/html": [
       "<pre style=\"white-space:pre;overflow-x:auto;line-height:normal;font-family:Menlo,'DejaVu Sans Mono',consolas,'Courier New',monospace\">UB-Mannheim_coding_dh_org.csv\n",
       "</pre>\n"
      ],
      "text/plain": [
       "UB-Mannheim_coding_dh_org.csv\n"
      ]
     },
     "metadata": {},
     "output_type": "display_data"
    },
    {
     "data": {
      "text/html": [
       "<pre style=\"white-space:pre;overflow-x:auto;line-height:normal;font-family:Menlo,'DejaVu Sans Mono',consolas,'Courier New',monospace\">Homebrew_coding_dh_org.csv\n",
       "</pre>\n"
      ],
      "text/plain": [
       "Homebrew_coding_dh_org.csv\n"
      ]
     },
     "metadata": {},
     "output_type": "display_data"
    },
    {
     "data": {
      "text/html": [
       "<pre style=\"white-space:pre;overflow-x:auto;line-height:normal;font-family:Menlo,'DejaVu Sans Mono',consolas,'Courier New',monospace\">PrincetonCS-Courses_coding_dh_org.csv\n",
       "</pre>\n"
      ],
      "text/plain": [
       "PrincetonCS-Courses_coding_dh_org.csv\n"
      ]
     },
     "metadata": {},
     "output_type": "display_data"
    },
    {
     "data": {
      "text/html": [
       "<pre style=\"white-space:pre;overflow-x:auto;line-height:normal;font-family:Menlo,'DejaVu Sans Mono',consolas,'Courier New',monospace\">ambuda-org_coding_dh_org.csv\n",
       "</pre>\n"
      ],
      "text/plain": [
       "ambuda-org_coding_dh_org.csv\n"
      ]
     },
     "metadata": {},
     "output_type": "display_data"
    },
    {
     "data": {
      "text/html": [
       "<pre style=\"white-space:pre;overflow-x:auto;line-height:normal;font-family:Menlo,'DejaVu Sans Mono',consolas,'Courier New',monospace\">chcdatabase_coding_dh_org.csv\n",
       "</pre>\n"
      ],
      "text/plain": [
       "chcdatabase_coding_dh_org.csv\n"
      ]
     },
     "metadata": {},
     "output_type": "display_data"
    },
    {
     "data": {
      "text/html": [
       "<pre style=\"white-space:pre;overflow-x:auto;line-height:normal;font-family:Menlo,'DejaVu Sans Mono',consolas,'Courier New',monospace\">CitedLoci_coding_dh_org.csv\n",
       "</pre>\n"
      ],
      "text/plain": [
       "CitedLoci_coding_dh_org.csv\n"
      ]
     },
     "metadata": {},
     "output_type": "display_data"
    },
    {
     "data": {
      "text/html": [
       "<pre style=\"white-space:pre;overflow-x:auto;line-height:normal;font-family:Menlo,'DejaVu Sans Mono',consolas,'Courier New',monospace\">UCLALibrary_coding_dh_org.csv\n",
       "</pre>\n"
      ],
      "text/plain": [
       "UCLALibrary_coding_dh_org.csv\n"
      ]
     },
     "metadata": {},
     "output_type": "display_data"
    },
    {
     "data": {
      "text/html": [
       "<pre style=\"white-space:pre;overflow-x:auto;line-height:normal;font-family:Menlo,'DejaVu Sans Mono',consolas,'Courier New',monospace\">GraphTD_coding_dh_org.csv\n",
       "</pre>\n"
      ],
      "text/plain": [
       "GraphTD_coding_dh_org.csv\n"
      ]
     },
     "metadata": {},
     "output_type": "display_data"
    },
    {
     "data": {
      "text/html": [
       "<pre style=\"white-space:pre;overflow-x:auto;line-height:normal;font-family:Menlo,'DejaVu Sans Mono',consolas,'Courier New',monospace\">peta-pico_coding_dh_org.csv\n",
       "</pre>\n"
      ],
      "text/plain": [
       "peta-pico_coding_dh_org.csv\n"
      ]
     },
     "metadata": {},
     "output_type": "display_data"
    },
    {
     "data": {
      "text/html": [
       "<pre style=\"white-space:pre;overflow-x:auto;line-height:normal;font-family:Menlo,'DejaVu Sans Mono',consolas,'Courier New',monospace\">project-ivi_coding_dh_org.csv\n",
       "</pre>\n"
      ],
      "text/plain": [
       "project-ivi_coding_dh_org.csv\n"
      ]
     },
     "metadata": {},
     "output_type": "display_data"
    },
    {
     "data": {
      "text/html": [
       "<pre style=\"white-space:pre;overflow-x:auto;line-height:normal;font-family:Menlo,'DejaVu Sans Mono',consolas,'Courier New',monospace\">onionshare_coding_dh_org.csv\n",
       "</pre>\n"
      ],
      "text/plain": [
       "onionshare_coding_dh_org.csv\n"
      ]
     },
     "metadata": {},
     "output_type": "display_data"
    },
    {
     "data": {
      "text/html": [
       "<pre style=\"white-space:pre;overflow-x:auto;line-height:normal;font-family:Menlo,'DejaVu Sans Mono',consolas,'Courier New',monospace\">Edirom_coding_dh_org.csv\n",
       "</pre>\n"
      ],
      "text/plain": [
       "Edirom_coding_dh_org.csv\n"
      ]
     },
     "metadata": {},
     "output_type": "display_data"
    },
    {
     "data": {
      "text/html": [
       "<pre style=\"white-space:pre;overflow-x:auto;line-height:normal;font-family:Menlo,'DejaVu Sans Mono',consolas,'Courier New',monospace\">helios2-auto_coding_dh_org.csv\n",
       "</pre>\n"
      ],
      "text/plain": [
       "helios2-auto_coding_dh_org.csv\n"
      ]
     },
     "metadata": {},
     "output_type": "display_data"
    },
    {
     "data": {
      "text/html": [
       "<pre style=\"white-space:pre;overflow-x:auto;line-height:normal;font-family:Menlo,'DejaVu Sans Mono',consolas,'Courier New',monospace\">LiveMirror_coding_dh_org.csv\n",
       "</pre>\n"
      ],
      "text/plain": [
       "LiveMirror_coding_dh_org.csv\n"
      ]
     },
     "metadata": {},
     "output_type": "display_data"
    },
    {
     "data": {
      "text/html": [
       "<pre style=\"white-space:pre;overflow-x:auto;line-height:normal;font-family:Menlo,'DejaVu Sans Mono',consolas,'Courier New',monospace\">OpenDataCo_coding_dh_org.csv\n",
       "</pre>\n"
      ],
      "text/plain": [
       "OpenDataCo_coding_dh_org.csv\n"
      ]
     },
     "metadata": {},
     "output_type": "display_data"
    },
    {
     "data": {
      "text/html": [
       "<pre style=\"white-space:pre;overflow-x:auto;line-height:normal;font-family:Menlo,'DejaVu Sans Mono',consolas,'Courier New',monospace\">google-research-datasets_coding_dh_org.csv\n",
       "</pre>\n"
      ],
      "text/plain": [
       "google-research-datasets_coding_dh_org.csv\n"
      ]
     },
     "metadata": {},
     "output_type": "display_data"
    },
    {
     "data": {
      "text/html": [
       "<pre style=\"white-space:pre;overflow-x:auto;line-height:normal;font-family:Menlo,'DejaVu Sans Mono',consolas,'Courier New',monospace\">princetongenizalab_coding_dh_org.csv\n",
       "</pre>\n"
      ],
      "text/plain": [
       "princetongenizalab_coding_dh_org.csv\n"
      ]
     },
     "metadata": {},
     "output_type": "display_data"
    },
    {
     "data": {
      "text/html": [
       "<pre style=\"white-space:pre;overflow-x:auto;line-height:normal;font-family:Menlo,'DejaVu Sans Mono',consolas,'Courier New',monospace\">maintainers_coding_dh_org.csv\n",
       "</pre>\n"
      ],
      "text/plain": [
       "maintainers_coding_dh_org.csv\n"
      ]
     },
     "metadata": {},
     "output_type": "display_data"
    },
    {
     "data": {
      "text/html": [
       "<pre style=\"white-space:pre;overflow-x:auto;line-height:normal;font-family:Menlo,'DejaVu Sans Mono',consolas,'Courier New',monospace\">nrnb_coding_dh_org.csv\n",
       "</pre>\n"
      ],
      "text/plain": [
       "nrnb_coding_dh_org.csv\n"
      ]
     },
     "metadata": {},
     "output_type": "display_data"
    },
    {
     "data": {
      "text/html": [
       "<pre style=\"white-space:pre;overflow-x:auto;line-height:normal;font-family:Menlo,'DejaVu Sans Mono',consolas,'Courier New',monospace\">riddleproject_coding_dh_org.csv\n",
       "</pre>\n"
      ],
      "text/plain": [
       "riddleproject_coding_dh_org.csv\n"
      ]
     },
     "metadata": {},
     "output_type": "display_data"
    },
    {
     "data": {
      "text/html": [
       "<pre style=\"white-space:pre;overflow-x:auto;line-height:normal;font-family:Menlo,'DejaVu Sans Mono',consolas,'Courier New',monospace\">CodeSastra_coding_dh_org.csv\n",
       "</pre>\n"
      ],
      "text/plain": [
       "CodeSastra_coding_dh_org.csv\n"
      ]
     },
     "metadata": {},
     "output_type": "display_data"
    },
    {
     "data": {
      "text/html": [
       "<pre style=\"white-space:pre;overflow-x:auto;line-height:normal;font-family:Menlo,'DejaVu Sans Mono',consolas,'Courier New',monospace\">Toblerity_coding_dh_org.csv\n",
       "</pre>\n"
      ],
      "text/plain": [
       "Toblerity_coding_dh_org.csv\n"
      ]
     },
     "metadata": {},
     "output_type": "display_data"
    },
    {
     "data": {
      "text/html": [
       "<pre style=\"white-space:pre;overflow-x:auto;line-height:normal;font-family:Menlo,'DejaVu Sans Mono',consolas,'Courier New',monospace\">irnerio-opendata_coding_dh_org.csv\n",
       "</pre>\n"
      ],
      "text/plain": [
       "irnerio-opendata_coding_dh_org.csv\n"
      ]
     },
     "metadata": {},
     "output_type": "display_data"
    },
    {
     "data": {
      "text/html": [
       "<pre style=\"white-space:pre;overflow-x:auto;line-height:normal;font-family:Menlo,'DejaVu Sans Mono',consolas,'Courier New',monospace\">LeDevoir_coding_dh_org.csv\n",
       "</pre>\n"
      ],
      "text/plain": [
       "LeDevoir_coding_dh_org.csv\n"
      ]
     },
     "metadata": {},
     "output_type": "display_data"
    },
    {
     "data": {
      "text/html": [
       "<pre style=\"white-space:pre;overflow-x:auto;line-height:normal;font-family:Menlo,'DejaVu Sans Mono',consolas,'Courier New',monospace\">FourthBrain_coding_dh_org.csv\n",
       "</pre>\n"
      ],
      "text/plain": [
       "FourthBrain_coding_dh_org.csv\n"
      ]
     },
     "metadata": {},
     "output_type": "display_data"
    },
    {
     "data": {
      "text/html": [
       "<pre style=\"white-space:pre;overflow-x:auto;line-height:normal;font-family:Menlo,'DejaVu Sans Mono',consolas,'Courier New',monospace\">labhen_coding_dh_org.csv\n",
       "</pre>\n"
      ],
      "text/plain": [
       "labhen_coding_dh_org.csv\n"
      ]
     },
     "metadata": {},
     "output_type": "display_data"
    },
    {
     "data": {
      "text/html": [
       "<pre style=\"white-space:pre;overflow-x:auto;line-height:normal;font-family:Menlo,'DejaVu Sans Mono',consolas,'Courier New',monospace\">electionsutah_coding_dh_org.csv\n",
       "</pre>\n"
      ],
      "text/plain": [
       "electionsutah_coding_dh_org.csv\n"
      ]
     },
     "metadata": {},
     "output_type": "display_data"
    },
    {
     "data": {
      "text/html": [
       "<pre style=\"white-space:pre;overflow-x:auto;line-height:normal;font-family:Menlo,'DejaVu Sans Mono',consolas,'Courier New',monospace\">wpoa_coding_dh_org.csv\n",
       "</pre>\n"
      ],
      "text/plain": [
       "wpoa_coding_dh_org.csv\n"
      ]
     },
     "metadata": {},
     "output_type": "display_data"
    },
    {
     "data": {
      "text/html": [
       "<pre style=\"white-space:pre;overflow-x:auto;line-height:normal;font-family:Menlo,'DejaVu Sans Mono',consolas,'Courier New',monospace\">RDFLib_coding_dh_org.csv\n",
       "</pre>\n"
      ],
      "text/plain": [
       "RDFLib_coding_dh_org.csv\n"
      ]
     },
     "metadata": {},
     "output_type": "display_data"
    },
    {
     "data": {
      "text/html": [
       "<pre style=\"white-space:pre;overflow-x:auto;line-height:normal;font-family:Menlo,'DejaVu Sans Mono',consolas,'Courier New',monospace\">crowdsecurity_coding_dh_org.csv\n",
       "</pre>\n"
      ],
      "text/plain": [
       "crowdsecurity_coding_dh_org.csv\n"
      ]
     },
     "metadata": {},
     "output_type": "display_data"
    },
    {
     "data": {
      "text/html": [
       "<pre style=\"white-space:pre;overflow-x:auto;line-height:normal;font-family:Menlo,'DejaVu Sans Mono',consolas,'Courier New',monospace\">whitmanarchive_coding_dh_org.csv\n",
       "</pre>\n"
      ],
      "text/plain": [
       "whitmanarchive_coding_dh_org.csv\n"
      ]
     },
     "metadata": {},
     "output_type": "display_data"
    },
    {
     "data": {
      "text/html": [
       "<pre style=\"white-space:pre;overflow-x:auto;line-height:normal;font-family:Menlo,'DejaVu Sans Mono',consolas,'Courier New',monospace\">FullstackAcademy_coding_dh_org.csv\n",
       "</pre>\n"
      ],
      "text/plain": [
       "FullstackAcademy_coding_dh_org.csv\n"
      ]
     },
     "metadata": {},
     "output_type": "display_data"
    },
    {
     "data": {
      "text/html": [
       "<pre style=\"white-space:pre;overflow-x:auto;line-height:normal;font-family:Menlo,'DejaVu Sans Mono',consolas,'Courier New',monospace\">Concept-Art-House_coding_dh_org.csv\n",
       "</pre>\n"
      ],
      "text/plain": [
       "Concept-Art-House_coding_dh_org.csv\n"
      ]
     },
     "metadata": {},
     "output_type": "display_data"
    },
    {
     "data": {
      "text/html": [
       "<pre style=\"white-space:pre;overflow-x:auto;line-height:normal;font-family:Menlo,'DejaVu Sans Mono',consolas,'Courier New',monospace\">Programming-Club-Ahmedabad-University_coding_dh_org.csv\n",
       "</pre>\n"
      ],
      "text/plain": [
       "Programming-Club-Ahmedabad-University_coding_dh_org.csv\n"
      ]
     },
     "metadata": {},
     "output_type": "display_data"
    },
    {
     "data": {
      "text/html": [
       "<pre style=\"white-space:pre;overflow-x:auto;line-height:normal;font-family:Menlo,'DejaVu Sans Mono',consolas,'Courier New',monospace\">digitalevidencetoolkit_coding_dh_org.csv\n",
       "</pre>\n"
      ],
      "text/plain": [
       "digitalevidencetoolkit_coding_dh_org.csv\n"
      ]
     },
     "metadata": {},
     "output_type": "display_data"
    },
    {
     "data": {
      "text/html": [
       "<pre style=\"white-space:pre;overflow-x:auto;line-height:normal;font-family:Menlo,'DejaVu Sans Mono',consolas,'Courier New',monospace\">DHLeipzigClasses_coding_dh_org.csv\n",
       "</pre>\n"
      ],
      "text/plain": [
       "DHLeipzigClasses_coding_dh_org.csv\n"
      ]
     },
     "metadata": {},
     "output_type": "display_data"
    },
    {
     "data": {
      "text/html": [
       "<pre style=\"white-space:pre;overflow-x:auto;line-height:normal;font-family:Menlo,'DejaVu Sans Mono',consolas,'Courier New',monospace\">iah-unc_coding_dh_org.csv\n",
       "</pre>\n"
      ],
      "text/plain": [
       "iah-unc_coding_dh_org.csv\n"
      ]
     },
     "metadata": {},
     "output_type": "display_data"
    },
    {
     "data": {
      "text/html": [
       "<pre style=\"white-space:pre;overflow-x:auto;line-height:normal;font-family:Menlo,'DejaVu Sans Mono',consolas,'Courier New',monospace\">Bothosted_coding_dh_org.csv\n",
       "</pre>\n"
      ],
      "text/plain": [
       "Bothosted_coding_dh_org.csv\n"
      ]
     },
     "metadata": {},
     "output_type": "display_data"
    },
    {
     "data": {
      "text/html": [
       "<pre style=\"white-space:pre;overflow-x:auto;line-height:normal;font-family:Menlo,'DejaVu Sans Mono',consolas,'Courier New',monospace\">Willa-Cather-Archive_coding_dh_org.csv\n",
       "</pre>\n"
      ],
      "text/plain": [
       "Willa-Cather-Archive_coding_dh_org.csv\n"
      ]
     },
     "metadata": {},
     "output_type": "display_data"
    },
    {
     "data": {
      "text/html": [
       "<pre style=\"white-space:pre;overflow-x:auto;line-height:normal;font-family:Menlo,'DejaVu Sans Mono',consolas,'Courier New',monospace\">agoda-project_coding_dh_org.csv\n",
       "</pre>\n"
      ],
      "text/plain": [
       "agoda-project_coding_dh_org.csv\n"
      ]
     },
     "metadata": {},
     "output_type": "display_data"
    },
    {
     "data": {
      "text/html": [
       "<pre style=\"white-space:pre;overflow-x:auto;line-height:normal;font-family:Menlo,'DejaVu Sans Mono',consolas,'Courier New',monospace\">JULIELab_coding_dh_org.csv\n",
       "</pre>\n"
      ],
      "text/plain": [
       "JULIELab_coding_dh_org.csv\n"
      ]
     },
     "metadata": {},
     "output_type": "display_data"
    },
    {
     "data": {
      "text/html": [
       "<pre style=\"white-space:pre;overflow-x:auto;line-height:normal;font-family:Menlo,'DejaVu Sans Mono',consolas,'Courier New',monospace\">CHCAA-EDUX_coding_dh_org.csv\n",
       "</pre>\n"
      ],
      "text/plain": [
       "CHCAA-EDUX_coding_dh_org.csv\n"
      ]
     },
     "metadata": {},
     "output_type": "display_data"
    },
    {
     "data": {
      "text/html": [
       "<pre style=\"white-space:pre;overflow-x:auto;line-height:normal;font-family:Menlo,'DejaVu Sans Mono',consolas,'Courier New',monospace\">algorithmwatch_coding_dh_org.csv\n",
       "</pre>\n"
      ],
      "text/plain": [
       "algorithmwatch_coding_dh_org.csv\n"
      ]
     },
     "metadata": {},
     "output_type": "display_data"
    },
    {
     "data": {
      "text/html": [
       "<pre style=\"white-space:pre;overflow-x:auto;line-height:normal;font-family:Menlo,'DejaVu Sans Mono',consolas,'Courier New',monospace\">comses_coding_dh_org.csv\n",
       "</pre>\n"
      ],
      "text/plain": [
       "comses_coding_dh_org.csv\n"
      ]
     },
     "metadata": {},
     "output_type": "display_data"
    },
    {
     "data": {
      "text/html": [
       "<pre style=\"white-space:pre;overflow-x:auto;line-height:normal;font-family:Menlo,'DejaVu Sans Mono',consolas,'Courier New',monospace\">HD-aula-Literatura_coding_dh_org.csv\n",
       "</pre>\n"
      ],
      "text/plain": [
       "HD-aula-Literatura_coding_dh_org.csv\n"
      ]
     },
     "metadata": {},
     "output_type": "display_data"
    },
    {
     "data": {
      "text/html": [
       "<pre style=\"white-space:pre;overflow-x:auto;line-height:normal;font-family:Menlo,'DejaVu Sans Mono',consolas,'Courier New',monospace\">pianoroll_coding_dh_org.csv\n",
       "</pre>\n"
      ],
      "text/plain": [
       "pianoroll_coding_dh_org.csv\n"
      ]
     },
     "metadata": {},
     "output_type": "display_data"
    },
    {
     "data": {
      "text/html": [
       "<pre style=\"white-space:pre;overflow-x:auto;line-height:normal;font-family:Menlo,'DejaVu Sans Mono',consolas,'Courier New',monospace\">tilemill-project_coding_dh_org.csv\n",
       "</pre>\n"
      ],
      "text/plain": [
       "tilemill-project_coding_dh_org.csv\n"
      ]
     },
     "metadata": {},
     "output_type": "display_data"
    },
    {
     "data": {
      "text/html": [
       "<pre style=\"white-space:pre;overflow-x:auto;line-height:normal;font-family:Menlo,'DejaVu Sans Mono',consolas,'Courier New',monospace\">mkdf_coding_dh_org.csv\n",
       "</pre>\n"
      ],
      "text/plain": [
       "mkdf_coding_dh_org.csv\n"
      ]
     },
     "metadata": {},
     "output_type": "display_data"
    },
    {
     "data": {
      "text/html": [
       "<pre style=\"white-space:pre;overflow-x:auto;line-height:normal;font-family:Menlo,'DejaVu Sans Mono',consolas,'Courier New',monospace\">avlos_coding_dh_org.csv\n",
       "</pre>\n"
      ],
      "text/plain": [
       "avlos_coding_dh_org.csv\n"
      ]
     },
     "metadata": {},
     "output_type": "display_data"
    },
    {
     "data": {
      "text/html": [
       "<pre style=\"white-space:pre;overflow-x:auto;line-height:normal;font-family:Menlo,'DejaVu Sans Mono',consolas,'Courier New',monospace\">VUInformationRetrieval_coding_dh_org.csv\n",
       "</pre>\n"
      ],
      "text/plain": [
       "VUInformationRetrieval_coding_dh_org.csv\n"
      ]
     },
     "metadata": {},
     "output_type": "display_data"
    },
    {
     "data": {
      "text/html": [
       "<pre style=\"white-space:pre;overflow-x:auto;line-height:normal;font-family:Menlo,'DejaVu Sans Mono',consolas,'Courier New',monospace\">moose-team_coding_dh_org.csv\n",
       "</pre>\n"
      ],
      "text/plain": [
       "moose-team_coding_dh_org.csv\n"
      ]
     },
     "metadata": {},
     "output_type": "display_data"
    },
    {
     "data": {
      "text/html": [
       "<pre style=\"white-space:pre;overflow-x:auto;line-height:normal;font-family:Menlo,'DejaVu Sans Mono',consolas,'Courier New',monospace\">ICT-A_coding_dh_org.csv\n",
       "</pre>\n"
      ],
      "text/plain": [
       "ICT-A_coding_dh_org.csv\n"
      ]
     },
     "metadata": {},
     "output_type": "display_data"
    },
    {
     "data": {
      "text/html": [
       "<pre style=\"white-space:pre;overflow-x:auto;line-height:normal;font-family:Menlo,'DejaVu Sans Mono',consolas,'Courier New',monospace\">EAGLE-BPN_coding_dh_org.csv\n",
       "</pre>\n"
      ],
      "text/plain": [
       "EAGLE-BPN_coding_dh_org.csv\n"
      ]
     },
     "metadata": {},
     "output_type": "display_data"
    },
    {
     "data": {
      "text/html": [
       "<pre style=\"white-space:pre;overflow-x:auto;line-height:normal;font-family:Menlo,'DejaVu Sans Mono',consolas,'Courier New',monospace\">agile-humanities_coding_dh_org.csv\n",
       "</pre>\n"
      ],
      "text/plain": [
       "agile-humanities_coding_dh_org.csv\n"
      ]
     },
     "metadata": {},
     "output_type": "display_data"
    },
    {
     "data": {
      "text/html": [
       "<pre style=\"white-space:pre;overflow-x:auto;line-height:normal;font-family:Menlo,'DejaVu Sans Mono',consolas,'Courier New',monospace\">HooHacks-<span style=\"color: #008080; text-decoration-color: #008080; font-weight: bold\">2021</span>-UCF-Team_coding_dh_org.csv\n",
       "</pre>\n"
      ],
      "text/plain": [
       "HooHacks-\u001b[1;36m2021\u001b[0m-UCF-Team_coding_dh_org.csv\n"
      ]
     },
     "metadata": {},
     "output_type": "display_data"
    },
    {
     "data": {
      "text/html": [
       "<pre style=\"white-space:pre;overflow-x:auto;line-height:normal;font-family:Menlo,'DejaVu Sans Mono',consolas,'Courier New',monospace\">biusante_coding_dh_org.csv\n",
       "</pre>\n"
      ],
      "text/plain": [
       "biusante_coding_dh_org.csv\n"
      ]
     },
     "metadata": {},
     "output_type": "display_data"
    },
    {
     "data": {
      "text/html": [
       "<pre style=\"white-space:pre;overflow-x:auto;line-height:normal;font-family:Menlo,'DejaVu Sans Mono',consolas,'Courier New',monospace\">NYU-DataServices_coding_dh_org.csv\n",
       "</pre>\n"
      ],
      "text/plain": [
       "NYU-DataServices_coding_dh_org.csv\n"
      ]
     },
     "metadata": {},
     "output_type": "display_data"
    },
    {
     "data": {
      "text/html": [
       "<pre style=\"white-space:pre;overflow-x:auto;line-height:normal;font-family:Menlo,'DejaVu Sans Mono',consolas,'Courier New',monospace\">disease-sh_coding_dh_org.csv\n",
       "</pre>\n"
      ],
      "text/plain": [
       "disease-sh_coding_dh_org.csv\n"
      ]
     },
     "metadata": {},
     "output_type": "display_data"
    },
    {
     "data": {
      "text/html": [
       "<pre style=\"white-space:pre;overflow-x:auto;line-height:normal;font-family:Menlo,'DejaVu Sans Mono',consolas,'Courier New',monospace\">humanidades-digitais_coding_dh_org.csv\n",
       "</pre>\n"
      ],
      "text/plain": [
       "humanidades-digitais_coding_dh_org.csv\n"
      ]
     },
     "metadata": {},
     "output_type": "display_data"
    },
    {
     "data": {
      "text/html": [
       "<pre style=\"white-space:pre;overflow-x:auto;line-height:normal;font-family:Menlo,'DejaVu Sans Mono',consolas,'Courier New',monospace\">stackgl_coding_dh_org.csv\n",
       "</pre>\n"
      ],
      "text/plain": [
       "stackgl_coding_dh_org.csv\n"
      ]
     },
     "metadata": {},
     "output_type": "display_data"
    },
    {
     "data": {
      "text/html": [
       "<pre style=\"white-space:pre;overflow-x:auto;line-height:normal;font-family:Menlo,'DejaVu Sans Mono',consolas,'Courier New',monospace\">oscar-project_coding_dh_org.csv\n",
       "</pre>\n"
      ],
      "text/plain": [
       "oscar-project_coding_dh_org.csv\n"
      ]
     },
     "metadata": {},
     "output_type": "display_data"
    },
    {
     "data": {
      "text/html": [
       "<pre style=\"white-space:pre;overflow-x:auto;line-height:normal;font-family:Menlo,'DejaVu Sans Mono',consolas,'Courier New',monospace\">multiformats_coding_dh_org.csv\n",
       "</pre>\n"
      ],
      "text/plain": [
       "multiformats_coding_dh_org.csv\n"
      ]
     },
     "metadata": {},
     "output_type": "display_data"
    },
    {
     "data": {
      "text/html": [
       "<pre style=\"white-space:pre;overflow-x:auto;line-height:normal;font-family:Menlo,'DejaVu Sans Mono',consolas,'Courier New',monospace\">hhpy_coding_dh_org.csv\n",
       "</pre>\n"
      ],
      "text/plain": [
       "hhpy_coding_dh_org.csv\n"
      ]
     },
     "metadata": {},
     "output_type": "display_data"
    },
    {
     "data": {
      "text/html": [
       "<pre style=\"white-space:pre;overflow-x:auto;line-height:normal;font-family:Menlo,'DejaVu Sans Mono',consolas,'Courier New',monospace\">ucds-vu_coding_dh_org.csv\n",
       "</pre>\n"
      ],
      "text/plain": [
       "ucds-vu_coding_dh_org.csv\n"
      ]
     },
     "metadata": {},
     "output_type": "display_data"
    },
    {
     "data": {
      "text/html": [
       "<pre style=\"white-space:pre;overflow-x:auto;line-height:normal;font-family:Menlo,'DejaVu Sans Mono',consolas,'Courier New',monospace\">rhonda-org_coding_dh_org.csv\n",
       "</pre>\n"
      ],
      "text/plain": [
       "rhonda-org_coding_dh_org.csv\n"
      ]
     },
     "metadata": {},
     "output_type": "display_data"
    },
    {
     "data": {
      "text/html": [
       "<pre style=\"white-space:pre;overflow-x:auto;line-height:normal;font-family:Menlo,'DejaVu Sans Mono',consolas,'Courier New',monospace\">documentcloud_coding_dh_org.csv\n",
       "</pre>\n"
      ],
      "text/plain": [
       "documentcloud_coding_dh_org.csv\n"
      ]
     },
     "metadata": {},
     "output_type": "display_data"
    },
    {
     "data": {
      "text/html": [
       "<pre style=\"white-space:pre;overflow-x:auto;line-height:normal;font-family:Menlo,'DejaVu Sans Mono',consolas,'Courier New',monospace\">FPUGS_coding_dh_org.csv\n",
       "</pre>\n"
      ],
      "text/plain": [
       "FPUGS_coding_dh_org.csv\n"
      ]
     },
     "metadata": {},
     "output_type": "display_data"
    },
    {
     "data": {
      "text/html": [
       "<pre style=\"white-space:pre;overflow-x:auto;line-height:normal;font-family:Menlo,'DejaVu Sans Mono',consolas,'Courier New',monospace\">CultureLabs_coding_dh_org.csv\n",
       "</pre>\n"
      ],
      "text/plain": [
       "CultureLabs_coding_dh_org.csv\n"
      ]
     },
     "metadata": {},
     "output_type": "display_data"
    },
    {
     "data": {
      "text/html": [
       "<pre style=\"white-space:pre;overflow-x:auto;line-height:normal;font-family:Menlo,'DejaVu Sans Mono',consolas,'Courier New',monospace\">i-d-e_coding_dh_org.csv\n",
       "</pre>\n"
      ],
      "text/plain": [
       "i-d-e_coding_dh_org.csv\n"
      ]
     },
     "metadata": {},
     "output_type": "display_data"
    },
    {
     "data": {
      "text/html": [
       "<pre style=\"white-space:pre;overflow-x:auto;line-height:normal;font-family:Menlo,'DejaVu Sans Mono',consolas,'Courier New',monospace\">guidesDeParis_coding_dh_org.csv\n",
       "</pre>\n"
      ],
      "text/plain": [
       "guidesDeParis_coding_dh_org.csv\n"
      ]
     },
     "metadata": {},
     "output_type": "display_data"
    },
    {
     "data": {
      "text/html": [
       "<pre style=\"white-space:pre;overflow-x:auto;line-height:normal;font-family:Menlo,'DejaVu Sans Mono',consolas,'Courier New',monospace\">abantu_coding_dh_org.csv\n",
       "</pre>\n"
      ],
      "text/plain": [
       "abantu_coding_dh_org.csv\n"
      ]
     },
     "metadata": {},
     "output_type": "display_data"
    },
    {
     "data": {
      "text/html": [
       "<pre style=\"white-space:pre;overflow-x:auto;line-height:normal;font-family:Menlo,'DejaVu Sans Mono',consolas,'Courier New',monospace\">dataramblers_coding_dh_org.csv\n",
       "</pre>\n"
      ],
      "text/plain": [
       "dataramblers_coding_dh_org.csv\n"
      ]
     },
     "metadata": {},
     "output_type": "display_data"
    },
    {
     "data": {
      "text/html": [
       "<pre style=\"white-space:pre;overflow-x:auto;line-height:normal;font-family:Menlo,'DejaVu Sans Mono',consolas,'Courier New',monospace\">paiml_coding_dh_org.csv\n",
       "</pre>\n"
      ],
      "text/plain": [
       "paiml_coding_dh_org.csv\n"
      ]
     },
     "metadata": {},
     "output_type": "display_data"
    },
    {
     "data": {
      "text/html": [
       "<pre style=\"white-space:pre;overflow-x:auto;line-height:normal;font-family:Menlo,'DejaVu Sans Mono',consolas,'Courier New',monospace\">webrecorder_coding_dh_org.csv\n",
       "</pre>\n"
      ],
      "text/plain": [
       "webrecorder_coding_dh_org.csv\n"
      ]
     },
     "metadata": {},
     "output_type": "display_data"
    },
    {
     "data": {
      "text/html": [
       "<pre style=\"white-space:pre;overflow-x:auto;line-height:normal;font-family:Menlo,'DejaVu Sans Mono',consolas,'Courier New',monospace\">DigitalLibraryofTennessee_coding_dh_org.csv\n",
       "</pre>\n"
      ],
      "text/plain": [
       "DigitalLibraryofTennessee_coding_dh_org.csv\n"
      ]
     },
     "metadata": {},
     "output_type": "display_data"
    },
    {
     "data": {
      "text/html": [
       "<pre style=\"white-space:pre;overflow-x:auto;line-height:normal;font-family:Menlo,'DejaVu Sans Mono',consolas,'Courier New',monospace\">STA-<span style=\"color: #008080; text-decoration-color: #008080; font-weight: bold\">790</span>-ER_coding_dh_org.csv\n",
       "</pre>\n"
      ],
      "text/plain": [
       "STA-\u001b[1;36m790\u001b[0m-ER_coding_dh_org.csv\n"
      ]
     },
     "metadata": {},
     "output_type": "display_data"
    },
    {
     "data": {
      "text/html": [
       "<pre style=\"white-space:pre;overflow-x:auto;line-height:normal;font-family:Menlo,'DejaVu Sans Mono',consolas,'Courier New',monospace\">SkLODowskaProject_coding_dh_org.csv\n",
       "</pre>\n"
      ],
      "text/plain": [
       "SkLODowskaProject_coding_dh_org.csv\n"
      ]
     },
     "metadata": {},
     "output_type": "display_data"
    },
    {
     "data": {
      "text/html": [
       "<pre style=\"white-space:pre;overflow-x:auto;line-height:normal;font-family:Menlo,'DejaVu Sans Mono',consolas,'Courier New',monospace\">swat-ds_coding_dh_org.csv\n",
       "</pre>\n"
      ],
      "text/plain": [
       "swat-ds_coding_dh_org.csv\n"
      ]
     },
     "metadata": {},
     "output_type": "display_data"
    },
    {
     "data": {
      "text/html": [
       "<pre style=\"white-space:pre;overflow-x:auto;line-height:normal;font-family:Menlo,'DejaVu Sans Mono',consolas,'Courier New',monospace\">ricobotfinance_coding_dh_org.csv\n",
       "</pre>\n"
      ],
      "text/plain": [
       "ricobotfinance_coding_dh_org.csv\n"
      ]
     },
     "metadata": {},
     "output_type": "display_data"
    },
    {
     "data": {
      "text/html": [
       "<pre style=\"white-space:pre;overflow-x:auto;line-height:normal;font-family:Menlo,'DejaVu Sans Mono',consolas,'Courier New',monospace\">medialab_coding_dh_org.csv\n",
       "</pre>\n"
      ],
      "text/plain": [
       "medialab_coding_dh_org.csv\n"
      ]
     },
     "metadata": {},
     "output_type": "display_data"
    },
    {
     "data": {
      "text/html": [
       "<pre style=\"white-space:pre;overflow-x:auto;line-height:normal;font-family:Menlo,'DejaVu Sans Mono',consolas,'Courier New',monospace\">UczelniaSWPS_coding_dh_org.csv\n",
       "</pre>\n"
      ],
      "text/plain": [
       "UczelniaSWPS_coding_dh_org.csv\n"
      ]
     },
     "metadata": {},
     "output_type": "display_data"
    },
    {
     "data": {
      "text/html": [
       "<pre style=\"white-space:pre;overflow-x:auto;line-height:normal;font-family:Menlo,'DejaVu Sans Mono',consolas,'Courier New',monospace\">evangelistcollective_coding_dh_org.csv\n",
       "</pre>\n"
      ],
      "text/plain": [
       "evangelistcollective_coding_dh_org.csv\n"
      ]
     },
     "metadata": {},
     "output_type": "display_data"
    },
    {
     "data": {
      "text/html": [
       "<pre style=\"white-space:pre;overflow-x:auto;line-height:normal;font-family:Menlo,'DejaVu Sans Mono',consolas,'Courier New',monospace\">adr_coding_dh_org.csv\n",
       "</pre>\n"
      ],
      "text/plain": [
       "adr_coding_dh_org.csv\n"
      ]
     },
     "metadata": {},
     "output_type": "display_data"
    },
    {
     "data": {
      "text/html": [
       "<pre style=\"white-space:pre;overflow-x:auto;line-height:normal;font-family:Menlo,'DejaVu Sans Mono',consolas,'Courier New',monospace\">stylerevolution_coding_dh_org.csv\n",
       "</pre>\n"
      ],
      "text/plain": [
       "stylerevolution_coding_dh_org.csv\n"
      ]
     },
     "metadata": {},
     "output_type": "display_data"
    },
    {
     "data": {
      "text/html": [
       "<pre style=\"white-space:pre;overflow-x:auto;line-height:normal;font-family:Menlo,'DejaVu Sans Mono',consolas,'Courier New',monospace\">DDMAL_coding_dh_org.csv\n",
       "</pre>\n"
      ],
      "text/plain": [
       "DDMAL_coding_dh_org.csv\n"
      ]
     },
     "metadata": {},
     "output_type": "display_data"
    },
    {
     "data": {
      "text/html": [
       "<pre style=\"white-space:pre;overflow-x:auto;line-height:normal;font-family:Menlo,'DejaVu Sans Mono',consolas,'Courier New',monospace\">ColmexBDCV_coding_dh_org.csv\n",
       "</pre>\n"
      ],
      "text/plain": [
       "ColmexBDCV_coding_dh_org.csv\n"
      ]
     },
     "metadata": {},
     "output_type": "display_data"
    },
    {
     "data": {
      "text/html": [
       "<pre style=\"white-space:pre;overflow-x:auto;line-height:normal;font-family:Menlo,'DejaVu Sans Mono',consolas,'Courier New',monospace\">revuedepresse_coding_dh_org.csv\n",
       "</pre>\n"
      ],
      "text/plain": [
       "revuedepresse_coding_dh_org.csv\n"
      ]
     },
     "metadata": {},
     "output_type": "display_data"
    },
    {
     "data": {
      "text/html": [
       "<pre style=\"white-space:pre;overflow-x:auto;line-height:normal;font-family:Menlo,'DejaVu Sans Mono',consolas,'Courier New',monospace\">Research-Squirrel-Engineers_coding_dh_org.csv\n",
       "</pre>\n"
      ],
      "text/plain": [
       "Research-Squirrel-Engineers_coding_dh_org.csv\n"
      ]
     },
     "metadata": {},
     "output_type": "display_data"
    },
    {
     "data": {
      "text/html": [
       "<pre style=\"white-space:pre;overflow-x:auto;line-height:normal;font-family:Menlo,'DejaVu Sans Mono',consolas,'Courier New',monospace\">Detmolder-Hoftheater_coding_dh_org.csv\n",
       "</pre>\n"
      ],
      "text/plain": [
       "Detmolder-Hoftheater_coding_dh_org.csv\n"
      ]
     },
     "metadata": {},
     "output_type": "display_data"
    },
    {
     "data": {
      "text/html": [
       "<pre style=\"white-space:pre;overflow-x:auto;line-height:normal;font-family:Menlo,'DejaVu Sans Mono',consolas,'Courier New',monospace\">bmhco_coding_dh_org.csv\n",
       "</pre>\n"
      ],
      "text/plain": [
       "bmhco_coding_dh_org.csv\n"
      ]
     },
     "metadata": {},
     "output_type": "display_data"
    },
    {
     "data": {
      "text/html": [
       "<pre style=\"white-space:pre;overflow-x:auto;line-height:normal;font-family:Menlo,'DejaVu Sans Mono',consolas,'Courier New',monospace\">AI-Student-Society_coding_dh_org.csv\n",
       "</pre>\n"
      ],
      "text/plain": [
       "AI-Student-Society_coding_dh_org.csv\n"
      ]
     },
     "metadata": {},
     "output_type": "display_data"
    },
    {
     "data": {
      "text/html": [
       "<pre style=\"white-space:pre;overflow-x:auto;line-height:normal;font-family:Menlo,'DejaVu Sans Mono',consolas,'Courier New',monospace\">inventaire_coding_dh_org.csv\n",
       "</pre>\n"
      ],
      "text/plain": [
       "inventaire_coding_dh_org.csv\n"
      ]
     },
     "metadata": {},
     "output_type": "display_data"
    },
    {
     "data": {
      "text/html": [
       "<pre style=\"white-space:pre;overflow-x:auto;line-height:normal;font-family:Menlo,'DejaVu Sans Mono',consolas,'Courier New',monospace\">ndlib-cds_coding_dh_org.csv\n",
       "</pre>\n"
      ],
      "text/plain": [
       "ndlib-cds_coding_dh_org.csv\n"
      ]
     },
     "metadata": {},
     "output_type": "display_data"
    },
    {
     "data": {
      "text/html": [
       "<pre style=\"white-space:pre;overflow-x:auto;line-height:normal;font-family:Menlo,'DejaVu Sans Mono',consolas,'Courier New',monospace\">Humanities-Preparatory-Academy_coding_dh_org.csv\n",
       "</pre>\n"
      ],
      "text/plain": [
       "Humanities-Preparatory-Academy_coding_dh_org.csv\n"
      ]
     },
     "metadata": {},
     "output_type": "display_data"
    },
    {
     "data": {
      "text/html": [
       "<pre style=\"white-space:pre;overflow-x:auto;line-height:normal;font-family:Menlo,'DejaVu Sans Mono',consolas,'Courier New',monospace\">combine-org_coding_dh_org.csv\n",
       "</pre>\n"
      ],
      "text/plain": [
       "combine-org_coding_dh_org.csv\n"
      ]
     },
     "metadata": {},
     "output_type": "display_data"
    },
    {
     "data": {
      "text/html": [
       "<pre style=\"white-space:pre;overflow-x:auto;line-height:normal;font-family:Menlo,'DejaVu Sans Mono',consolas,'Courier New',monospace\">whohas_coding_dh_org.csv\n",
       "</pre>\n"
      ],
      "text/plain": [
       "whohas_coding_dh_org.csv\n"
      ]
     },
     "metadata": {},
     "output_type": "display_data"
    },
    {
     "data": {
      "text/html": [
       "<pre style=\"white-space:pre;overflow-x:auto;line-height:normal;font-family:Menlo,'DejaVu Sans Mono',consolas,'Courier New',monospace\">foss-responders_coding_dh_org.csv\n",
       "</pre>\n"
      ],
      "text/plain": [
       "foss-responders_coding_dh_org.csv\n"
      ]
     },
     "metadata": {},
     "output_type": "display_data"
    },
    {
     "data": {
      "text/html": [
       "<pre style=\"white-space:pre;overflow-x:auto;line-height:normal;font-family:Menlo,'DejaVu Sans Mono',consolas,'Courier New',monospace\">macrocosmcorp_coding_dh_org.csv\n",
       "</pre>\n"
      ],
      "text/plain": [
       "macrocosmcorp_coding_dh_org.csv\n"
      ]
     },
     "metadata": {},
     "output_type": "display_data"
    },
    {
     "data": {
      "text/html": [
       "<pre style=\"white-space:pre;overflow-x:auto;line-height:normal;font-family:Menlo,'DejaVu Sans Mono',consolas,'Courier New',monospace\">PacktPublishing_coding_dh_org.csv\n",
       "</pre>\n"
      ],
      "text/plain": [
       "PacktPublishing_coding_dh_org.csv\n"
      ]
     },
     "metadata": {},
     "output_type": "display_data"
    },
    {
     "data": {
      "text/html": [
       "<pre style=\"white-space:pre;overflow-x:auto;line-height:normal;font-family:Menlo,'DejaVu Sans Mono',consolas,'Courier New',monospace\">TheAlgorithms_coding_dh_org.csv\n",
       "</pre>\n"
      ],
      "text/plain": [
       "TheAlgorithms_coding_dh_org.csv\n"
      ]
     },
     "metadata": {},
     "output_type": "display_data"
    },
    {
     "data": {
      "text/html": [
       "<pre style=\"white-space:pre;overflow-x:auto;line-height:normal;font-family:Menlo,'DejaVu Sans Mono',consolas,'Courier New',monospace\">mntnr_coding_dh_org.csv\n",
       "</pre>\n"
      ],
      "text/plain": [
       "mntnr_coding_dh_org.csv\n"
      ]
     },
     "metadata": {},
     "output_type": "display_data"
    },
    {
     "data": {
      "text/html": [
       "<pre style=\"white-space:pre;overflow-x:auto;line-height:normal;font-family:Menlo,'DejaVu Sans Mono',consolas,'Courier New',monospace\">SouthernMethodistUniversity_coding_dh_org.csv\n",
       "</pre>\n"
      ],
      "text/plain": [
       "SouthernMethodistUniversity_coding_dh_org.csv\n"
      ]
     },
     "metadata": {},
     "output_type": "display_data"
    },
    {
     "data": {
      "text/html": [
       "<pre style=\"white-space:pre;overflow-x:auto;line-height:normal;font-family:Menlo,'DejaVu Sans Mono',consolas,'Courier New',monospace\">JSTOR-Labs_coding_dh_org.csv\n",
       "</pre>\n"
      ],
      "text/plain": [
       "JSTOR-Labs_coding_dh_org.csv\n"
      ]
     },
     "metadata": {},
     "output_type": "display_data"
    },
    {
     "data": {
      "text/html": [
       "<pre style=\"white-space:pre;overflow-x:auto;line-height:normal;font-family:Menlo,'DejaVu Sans Mono',consolas,'Courier New',monospace\">karl-kraus_coding_dh_org.csv\n",
       "</pre>\n"
      ],
      "text/plain": [
       "karl-kraus_coding_dh_org.csv\n"
      ]
     },
     "metadata": {},
     "output_type": "display_data"
    },
    {
     "data": {
      "text/html": [
       "<pre style=\"white-space:pre;overflow-x:auto;line-height:normal;font-family:Menlo,'DejaVu Sans Mono',consolas,'Courier New',monospace\">wthdevelopers_coding_dh_org.csv\n",
       "</pre>\n"
      ],
      "text/plain": [
       "wthdevelopers_coding_dh_org.csv\n"
      ]
     },
     "metadata": {},
     "output_type": "display_data"
    },
    {
     "data": {
      "text/html": [
       "<pre style=\"white-space:pre;overflow-x:auto;line-height:normal;font-family:Menlo,'DejaVu Sans Mono',consolas,'Courier New',monospace\">r-spatial_coding_dh_org.csv\n",
       "</pre>\n"
      ],
      "text/plain": [
       "r-spatial_coding_dh_org.csv\n"
      ]
     },
     "metadata": {},
     "output_type": "display_data"
    },
    {
     "data": {
      "text/html": [
       "<pre style=\"white-space:pre;overflow-x:auto;line-height:normal;font-family:Menlo,'DejaVu Sans Mono',consolas,'Courier New',monospace\">tennshare_coding_dh_org.csv\n",
       "</pre>\n"
      ],
      "text/plain": [
       "tennshare_coding_dh_org.csv\n"
      ]
     },
     "metadata": {},
     "output_type": "display_data"
    },
    {
     "data": {
      "text/html": [
       "<pre style=\"white-space:pre;overflow-x:auto;line-height:normal;font-family:Menlo,'DejaVu Sans Mono',consolas,'Courier New',monospace\">indic-dict_coding_dh_org.csv\n",
       "</pre>\n"
      ],
      "text/plain": [
       "indic-dict_coding_dh_org.csv\n"
      ]
     },
     "metadata": {},
     "output_type": "display_data"
    },
    {
     "data": {
      "text/html": [
       "<pre style=\"white-space:pre;overflow-x:auto;line-height:normal;font-family:Menlo,'DejaVu Sans Mono',consolas,'Courier New',monospace\">RELDigitalLab_coding_dh_org.csv\n",
       "</pre>\n"
      ],
      "text/plain": [
       "RELDigitalLab_coding_dh_org.csv\n"
      ]
     },
     "metadata": {},
     "output_type": "display_data"
    },
    {
     "data": {
      "text/html": [
       "<pre style=\"white-space:pre;overflow-x:auto;line-height:normal;font-family:Menlo,'DejaVu Sans Mono',consolas,'Courier New',monospace\">cosimwue_coding_dh_org.csv\n",
       "</pre>\n"
      ],
      "text/plain": [
       "cosimwue_coding_dh_org.csv\n"
      ]
     },
     "metadata": {},
     "output_type": "display_data"
    },
    {
     "data": {
      "text/html": [
       "<pre style=\"white-space:pre;overflow-x:auto;line-height:normal;font-family:Menlo,'DejaVu Sans Mono',consolas,'Courier New',monospace\">IRT2021_coding_dh_org.csv\n",
       "</pre>\n"
      ],
      "text/plain": [
       "IRT2021_coding_dh_org.csv\n"
      ]
     },
     "metadata": {},
     "output_type": "display_data"
    },
    {
     "data": {
      "text/html": [
       "<pre style=\"white-space:pre;overflow-x:auto;line-height:normal;font-family:Menlo,'DejaVu Sans Mono',consolas,'Courier New',monospace\">ifmeorg_coding_dh_org.csv\n",
       "</pre>\n"
      ],
      "text/plain": [
       "ifmeorg_coding_dh_org.csv\n"
      ]
     },
     "metadata": {},
     "output_type": "display_data"
    },
    {
     "data": {
      "text/html": [
       "<pre style=\"white-space:pre;overflow-x:auto;line-height:normal;font-family:Menlo,'DejaVu Sans Mono',consolas,'Courier New',monospace\">datatogether_coding_dh_org.csv\n",
       "</pre>\n"
      ],
      "text/plain": [
       "datatogether_coding_dh_org.csv\n"
      ]
     },
     "metadata": {},
     "output_type": "display_data"
    },
    {
     "data": {
      "text/html": [
       "<pre style=\"white-space:pre;overflow-x:auto;line-height:normal;font-family:Menlo,'DejaVu Sans Mono',consolas,'Courier New',monospace\">zentrum-lexikographie_coding_dh_org.csv\n",
       "</pre>\n"
      ],
      "text/plain": [
       "zentrum-lexikographie_coding_dh_org.csv\n"
      ]
     },
     "metadata": {},
     "output_type": "display_data"
    },
    {
     "data": {
      "text/html": [
       "<pre style=\"white-space:pre;overflow-x:auto;line-height:normal;font-family:Menlo,'DejaVu Sans Mono',consolas,'Courier New',monospace\">OneHumanities_coding_dh_org.csv\n",
       "</pre>\n"
      ],
      "text/plain": [
       "OneHumanities_coding_dh_org.csv\n"
      ]
     },
     "metadata": {},
     "output_type": "display_data"
    },
    {
     "data": {
      "text/html": [
       "<pre style=\"white-space:pre;overflow-x:auto;line-height:normal;font-family:Menlo,'DejaVu Sans Mono',consolas,'Courier New',monospace\">ukhas_coding_dh_org.csv\n",
       "</pre>\n"
      ],
      "text/plain": [
       "ukhas_coding_dh_org.csv\n"
      ]
     },
     "metadata": {},
     "output_type": "display_data"
    },
    {
     "data": {
      "text/html": [
       "<pre style=\"white-space:pre;overflow-x:auto;line-height:normal;font-family:Menlo,'DejaVu Sans Mono',consolas,'Courier New',monospace\">DigiDNA_coding_dh_org.csv\n",
       "</pre>\n"
      ],
      "text/plain": [
       "DigiDNA_coding_dh_org.csv\n"
      ]
     },
     "metadata": {},
     "output_type": "display_data"
    },
    {
     "data": {
      "text/html": [
       "<pre style=\"white-space:pre;overflow-x:auto;line-height:normal;font-family:Menlo,'DejaVu Sans Mono',consolas,'Courier New',monospace\">magicktiler_coding_dh_org.csv\n",
       "</pre>\n"
      ],
      "text/plain": [
       "magicktiler_coding_dh_org.csv\n"
      ]
     },
     "metadata": {},
     "output_type": "display_data"
    },
    {
     "data": {
      "text/html": [
       "<pre style=\"white-space:pre;overflow-x:auto;line-height:normal;font-family:Menlo,'DejaVu Sans Mono',consolas,'Courier New',monospace\">AbletonDevTools_coding_dh_org.csv\n",
       "</pre>\n"
      ],
      "text/plain": [
       "AbletonDevTools_coding_dh_org.csv\n"
      ]
     },
     "metadata": {},
     "output_type": "display_data"
    },
    {
     "data": {
      "text/html": [
       "<pre style=\"white-space:pre;overflow-x:auto;line-height:normal;font-family:Menlo,'DejaVu Sans Mono',consolas,'Courier New',monospace\">sudoroom_coding_dh_org.csv\n",
       "</pre>\n"
      ],
      "text/plain": [
       "sudoroom_coding_dh_org.csv\n"
      ]
     },
     "metadata": {},
     "output_type": "display_data"
    },
    {
     "data": {
      "text/html": [
       "<pre style=\"white-space:pre;overflow-x:auto;line-height:normal;font-family:Menlo,'DejaVu Sans Mono',consolas,'Courier New',monospace\">vlang_coding_dh_org.csv\n",
       "</pre>\n"
      ],
      "text/plain": [
       "vlang_coding_dh_org.csv\n"
      ]
     },
     "metadata": {},
     "output_type": "display_data"
    },
    {
     "data": {
      "text/html": [
       "<pre style=\"white-space:pre;overflow-x:auto;line-height:normal;font-family:Menlo,'DejaVu Sans Mono',consolas,'Courier New',monospace\">LanguageMachines_coding_dh_org.csv\n",
       "</pre>\n"
      ],
      "text/plain": [
       "LanguageMachines_coding_dh_org.csv\n"
      ]
     },
     "metadata": {},
     "output_type": "display_data"
    },
    {
     "data": {
      "text/html": [
       "<pre style=\"white-space:pre;overflow-x:auto;line-height:normal;font-family:Menlo,'DejaVu Sans Mono',consolas,'Courier New',monospace\">mui_coding_dh_org.csv\n",
       "</pre>\n"
      ],
      "text/plain": [
       "mui_coding_dh_org.csv\n"
      ]
     },
     "metadata": {},
     "output_type": "display_data"
    },
    {
     "data": {
      "text/html": [
       "<pre style=\"white-space:pre;overflow-x:auto;line-height:normal;font-family:Menlo,'DejaVu Sans Mono',consolas,'Courier New',monospace\">StellariaSastra_coding_dh_org.csv\n",
       "</pre>\n"
      ],
      "text/plain": [
       "StellariaSastra_coding_dh_org.csv\n"
      ]
     },
     "metadata": {},
     "output_type": "display_data"
    },
    {
     "data": {
      "text/html": [
       "<pre style=\"white-space:pre;overflow-x:auto;line-height:normal;font-family:Menlo,'DejaVu Sans Mono',consolas,'Courier New',monospace\">IPIF_coding_dh_org.csv\n",
       "</pre>\n"
      ],
      "text/plain": [
       "IPIF_coding_dh_org.csv\n"
      ]
     },
     "metadata": {},
     "output_type": "display_data"
    },
    {
     "data": {
      "text/html": [
       "<pre style=\"white-space:pre;overflow-x:auto;line-height:normal;font-family:Menlo,'DejaVu Sans Mono',consolas,'Courier New',monospace\">fbk_coding_dh_org.csv\n",
       "</pre>\n"
      ],
      "text/plain": [
       "fbk_coding_dh_org.csv\n"
      ]
     },
     "metadata": {},
     "output_type": "display_data"
    },
    {
     "data": {
      "text/html": [
       "<pre style=\"white-space:pre;overflow-x:auto;line-height:normal;font-family:Menlo,'DejaVu Sans Mono',consolas,'Courier New',monospace\">ci-compass_coding_dh_org.csv\n",
       "</pre>\n"
      ],
      "text/plain": [
       "ci-compass_coding_dh_org.csv\n"
      ]
     },
     "metadata": {},
     "output_type": "display_data"
    },
    {
     "data": {
      "text/html": [
       "<pre style=\"white-space:pre;overflow-x:auto;line-height:normal;font-family:Menlo,'DejaVu Sans Mono',consolas,'Courier New',monospace\">inscight_coding_dh_org.csv\n",
       "</pre>\n"
      ],
      "text/plain": [
       "inscight_coding_dh_org.csv\n"
      ]
     },
     "metadata": {},
     "output_type": "display_data"
    },
    {
     "data": {
      "text/html": [
       "<pre style=\"white-space:pre;overflow-x:auto;line-height:normal;font-family:Menlo,'DejaVu Sans Mono',consolas,'Courier New',monospace\">Imageus-OSS_coding_dh_org.csv\n",
       "</pre>\n"
      ],
      "text/plain": [
       "Imageus-OSS_coding_dh_org.csv\n"
      ]
     },
     "metadata": {},
     "output_type": "display_data"
    },
    {
     "data": {
      "text/html": [
       "<pre style=\"white-space:pre;overflow-x:auto;line-height:normal;font-family:Menlo,'DejaVu Sans Mono',consolas,'Courier New',monospace\">CHDR-Inventory-System_coding_dh_org.csv\n",
       "</pre>\n"
      ],
      "text/plain": [
       "CHDR-Inventory-System_coding_dh_org.csv\n"
      ]
     },
     "metadata": {},
     "output_type": "display_data"
    },
    {
     "data": {
      "text/html": [
       "<pre style=\"white-space:pre;overflow-x:auto;line-height:normal;font-family:Menlo,'DejaVu Sans Mono',consolas,'Courier New',monospace\">inciteful-xyz_coding_dh_org.csv\n",
       "</pre>\n"
      ],
      "text/plain": [
       "inciteful-xyz_coding_dh_org.csv\n"
      ]
     },
     "metadata": {},
     "output_type": "display_data"
    },
    {
     "data": {
      "text/html": [
       "<pre style=\"white-space:pre;overflow-x:auto;line-height:normal;font-family:Menlo,'DejaVu Sans Mono',consolas,'Courier New',monospace\">in-development-ca_coding_dh_org.csv\n",
       "</pre>\n"
      ],
      "text/plain": [
       "in-development-ca_coding_dh_org.csv\n"
      ]
     },
     "metadata": {},
     "output_type": "display_data"
    },
    {
     "data": {
      "text/html": [
       "<pre style=\"white-space:pre;overflow-x:auto;line-height:normal;font-family:Menlo,'DejaVu Sans Mono',consolas,'Courier New',monospace\">lodum_coding_dh_org.csv\n",
       "</pre>\n"
      ],
      "text/plain": [
       "lodum_coding_dh_org.csv\n"
      ]
     },
     "metadata": {},
     "output_type": "display_data"
    },
    {
     "data": {
      "text/html": [
       "<pre style=\"white-space:pre;overflow-x:auto;line-height:normal;font-family:Menlo,'DejaVu Sans Mono',consolas,'Courier New',monospace\">PictoCatalogs_coding_dh_org.csv\n",
       "</pre>\n"
      ],
      "text/plain": [
       "PictoCatalogs_coding_dh_org.csv\n"
      ]
     },
     "metadata": {},
     "output_type": "display_data"
    },
    {
     "data": {
      "text/html": [
       "<pre style=\"white-space:pre;overflow-x:auto;line-height:normal;font-family:Menlo,'DejaVu Sans Mono',consolas,'Courier New',monospace\">DigitalAthenaeus_coding_dh_org.csv\n",
       "</pre>\n"
      ],
      "text/plain": [
       "DigitalAthenaeus_coding_dh_org.csv\n"
      ]
     },
     "metadata": {},
     "output_type": "display_data"
    },
    {
     "data": {
      "text/html": [
       "<pre style=\"white-space:pre;overflow-x:auto;line-height:normal;font-family:Menlo,'DejaVu Sans Mono',consolas,'Courier New',monospace\">Data-Visualization-for-Family-Health_coding_dh_org.csv\n",
       "</pre>\n"
      ],
      "text/plain": [
       "Data-Visualization-for-Family-Health_coding_dh_org.csv\n"
      ]
     },
     "metadata": {},
     "output_type": "display_data"
    },
    {
     "data": {
      "text/html": [
       "<pre style=\"white-space:pre;overflow-x:auto;line-height:normal;font-family:Menlo,'DejaVu Sans Mono',consolas,'Courier New',monospace\">medialibraryonline_coding_dh_org.csv\n",
       "</pre>\n"
      ],
      "text/plain": [
       "medialibraryonline_coding_dh_org.csv\n"
      ]
     },
     "metadata": {},
     "output_type": "display_data"
    },
    {
     "data": {
      "text/html": [
       "<pre style=\"white-space:pre;overflow-x:auto;line-height:normal;font-family:Menlo,'DejaVu Sans Mono',consolas,'Courier New',monospace\">iArtHisLAB_coding_dh_org.csv\n",
       "</pre>\n"
      ],
      "text/plain": [
       "iArtHisLAB_coding_dh_org.csv\n"
      ]
     },
     "metadata": {},
     "output_type": "display_data"
    },
    {
     "data": {
      "text/html": [
       "<pre style=\"white-space:pre;overflow-x:auto;line-height:normal;font-family:Menlo,'DejaVu Sans Mono',consolas,'Courier New',monospace\">artefactual-labs_coding_dh_org.csv\n",
       "</pre>\n"
      ],
      "text/plain": [
       "artefactual-labs_coding_dh_org.csv\n"
      ]
     },
     "metadata": {},
     "output_type": "display_data"
    },
    {
     "data": {
      "text/html": [
       "<pre style=\"white-space:pre;overflow-x:auto;line-height:normal;font-family:Menlo,'DejaVu Sans Mono',consolas,'Courier New',monospace\">mit-han-lab_coding_dh_org.csv\n",
       "</pre>\n"
      ],
      "text/plain": [
       "mit-han-lab_coding_dh_org.csv\n"
      ]
     },
     "metadata": {},
     "output_type": "display_data"
    },
    {
     "data": {
      "text/html": [
       "<pre style=\"white-space:pre;overflow-x:auto;line-height:normal;font-family:Menlo,'DejaVu Sans Mono',consolas,'Courier New',monospace\">LitLabFR_coding_dh_org.csv\n",
       "</pre>\n"
      ],
      "text/plain": [
       "LitLabFR_coding_dh_org.csv\n"
      ]
     },
     "metadata": {},
     "output_type": "display_data"
    },
    {
     "data": {
      "text/html": [
       "<pre style=\"white-space:pre;overflow-x:auto;line-height:normal;font-family:Menlo,'DejaVu Sans Mono',consolas,'Courier New',monospace\">opencybersecurityalliance_coding_dh_org.csv\n",
       "</pre>\n"
      ],
      "text/plain": [
       "opencybersecurityalliance_coding_dh_org.csv\n"
      ]
     },
     "metadata": {},
     "output_type": "display_data"
    },
    {
     "data": {
      "text/html": [
       "<pre style=\"white-space:pre;overflow-x:auto;line-height:normal;font-family:Menlo,'DejaVu Sans Mono',consolas,'Courier New',monospace\">digital-antiquity_coding_dh_org.csv\n",
       "</pre>\n"
      ],
      "text/plain": [
       "digital-antiquity_coding_dh_org.csv\n"
      ]
     },
     "metadata": {},
     "output_type": "display_data"
    },
    {
     "data": {
      "text/html": [
       "<pre style=\"white-space:pre;overflow-x:auto;line-height:normal;font-family:Menlo,'DejaVu Sans Mono',consolas,'Courier New',monospace\">vivo-community_coding_dh_org.csv\n",
       "</pre>\n"
      ],
      "text/plain": [
       "vivo-community_coding_dh_org.csv\n"
      ]
     },
     "metadata": {},
     "output_type": "display_data"
    },
    {
     "data": {
      "text/html": [
       "<pre style=\"white-space:pre;overflow-x:auto;line-height:normal;font-family:Menlo,'DejaVu Sans Mono',consolas,'Courier New',monospace\">pytorch_coding_dh_org.csv\n",
       "</pre>\n"
      ],
      "text/plain": [
       "pytorch_coding_dh_org.csv\n"
      ]
     },
     "metadata": {},
     "output_type": "display_data"
    },
    {
     "data": {
      "text/html": [
       "<pre style=\"white-space:pre;overflow-x:auto;line-height:normal;font-family:Menlo,'DejaVu Sans Mono',consolas,'Courier New',monospace\">sastradeemeduniversity_coding_dh_org.csv\n",
       "</pre>\n"
      ],
      "text/plain": [
       "sastradeemeduniversity_coding_dh_org.csv\n"
      ]
     },
     "metadata": {},
     "output_type": "display_data"
    },
    {
     "data": {
      "text/html": [
       "<pre style=\"white-space:pre;overflow-x:auto;line-height:normal;font-family:Menlo,'DejaVu Sans Mono',consolas,'Courier New',monospace\">textalign_coding_dh_org.csv\n",
       "</pre>\n"
      ],
      "text/plain": [
       "textalign_coding_dh_org.csv\n"
      ]
     },
     "metadata": {},
     "output_type": "display_data"
    },
    {
     "data": {
      "text/html": [
       "<pre style=\"white-space:pre;overflow-x:auto;line-height:normal;font-family:Menlo,'DejaVu Sans Mono',consolas,'Courier New',monospace\">a-friendship_coding_dh_org.csv\n",
       "</pre>\n"
      ],
      "text/plain": [
       "a-friendship_coding_dh_org.csv\n"
      ]
     },
     "metadata": {},
     "output_type": "display_data"
    },
    {
     "data": {
      "text/html": [
       "<pre style=\"white-space:pre;overflow-x:auto;line-height:normal;font-family:Menlo,'DejaVu Sans Mono',consolas,'Courier New',monospace\">codemeta_coding_dh_org.csv\n",
       "</pre>\n"
      ],
      "text/plain": [
       "codemeta_coding_dh_org.csv\n"
      ]
     },
     "metadata": {},
     "output_type": "display_data"
    },
    {
     "data": {
      "text/html": [
       "<pre style=\"white-space:pre;overflow-x:auto;line-height:normal;font-family:Menlo,'DejaVu Sans Mono',consolas,'Courier New',monospace\">MultilingualDH_coding_dh_org.csv\n",
       "</pre>\n"
      ],
      "text/plain": [
       "MultilingualDH_coding_dh_org.csv\n"
      ]
     },
     "metadata": {},
     "output_type": "display_data"
    },
    {
     "data": {
      "text/html": [
       "<pre style=\"white-space:pre;overflow-x:auto;line-height:normal;font-family:Menlo,'DejaVu Sans Mono',consolas,'Courier New',monospace\">nhmvienna_coding_dh_org.csv\n",
       "</pre>\n"
      ],
      "text/plain": [
       "nhmvienna_coding_dh_org.csv\n"
      ]
     },
     "metadata": {},
     "output_type": "display_data"
    },
    {
     "data": {
      "text/html": [
       "<pre style=\"white-space:pre;overflow-x:auto;line-height:normal;font-family:Menlo,'DejaVu Sans Mono',consolas,'Courier New',monospace\">BeagleLab_coding_dh_org.csv\n",
       "</pre>\n"
      ],
      "text/plain": [
       "BeagleLab_coding_dh_org.csv\n"
      ]
     },
     "metadata": {},
     "output_type": "display_data"
    },
    {
     "data": {
      "text/html": [
       "<pre style=\"white-space:pre;overflow-x:auto;line-height:normal;font-family:Menlo,'DejaVu Sans Mono',consolas,'Courier New',monospace\">EIS-Bonn_coding_dh_org.csv\n",
       "</pre>\n"
      ],
      "text/plain": [
       "EIS-Bonn_coding_dh_org.csv\n"
      ]
     },
     "metadata": {},
     "output_type": "display_data"
    },
    {
     "data": {
      "text/html": [
       "<pre style=\"white-space:pre;overflow-x:auto;line-height:normal;font-family:Menlo,'DejaVu Sans Mono',consolas,'Courier New',monospace\">abantu-app_coding_dh_org.csv\n",
       "</pre>\n"
      ],
      "text/plain": [
       "abantu-app_coding_dh_org.csv\n"
      ]
     },
     "metadata": {},
     "output_type": "display_data"
    },
    {
     "data": {
      "text/html": [
       "<pre style=\"white-space:pre;overflow-x:auto;line-height:normal;font-family:Menlo,'DejaVu Sans Mono',consolas,'Courier New',monospace\">lib-static_coding_dh_org.csv\n",
       "</pre>\n"
      ],
      "text/plain": [
       "lib-static_coding_dh_org.csv\n"
      ]
     },
     "metadata": {},
     "output_type": "display_data"
    },
    {
     "data": {
      "text/html": [
       "<pre style=\"white-space:pre;overflow-x:auto;line-height:normal;font-family:Menlo,'DejaVu Sans Mono',consolas,'Courier New',monospace\">reactjs_coding_dh_org.csv\n",
       "</pre>\n"
      ],
      "text/plain": [
       "reactjs_coding_dh_org.csv\n"
      ]
     },
     "metadata": {},
     "output_type": "display_data"
    },
    {
     "data": {
      "text/html": [
       "<pre style=\"white-space:pre;overflow-x:auto;line-height:normal;font-family:Menlo,'DejaVu Sans Mono',consolas,'Courier New',monospace\">mk-smart_coding_dh_org.csv\n",
       "</pre>\n"
      ],
      "text/plain": [
       "mk-smart_coding_dh_org.csv\n"
      ]
     },
     "metadata": {},
     "output_type": "display_data"
    },
    {
     "data": {
      "text/html": [
       "<pre style=\"white-space:pre;overflow-x:auto;line-height:normal;font-family:Menlo,'DejaVu Sans Mono',consolas,'Courier New',monospace\">capacitor-community_coding_dh_org.csv\n",
       "</pre>\n"
      ],
      "text/plain": [
       "capacitor-community_coding_dh_org.csv\n"
      ]
     },
     "metadata": {},
     "output_type": "display_data"
    },
    {
     "data": {
      "text/html": [
       "<pre style=\"white-space:pre;overflow-x:auto;line-height:normal;font-family:Menlo,'DejaVu Sans Mono',consolas,'Courier New',monospace\">CAMeL-Lab_coding_dh_org.csv\n",
       "</pre>\n"
      ],
      "text/plain": [
       "CAMeL-Lab_coding_dh_org.csv\n"
      ]
     },
     "metadata": {},
     "output_type": "display_data"
    },
    {
     "data": {
      "text/html": [
       "<pre style=\"white-space:pre;overflow-x:auto;line-height:normal;font-family:Menlo,'DejaVu Sans Mono',consolas,'Courier New',monospace\">DARIAH-IT_coding_dh_org.csv\n",
       "</pre>\n"
      ],
      "text/plain": [
       "DARIAH-IT_coding_dh_org.csv\n"
      ]
     },
     "metadata": {},
     "output_type": "display_data"
    },
    {
     "data": {
      "text/html": [
       "<pre style=\"white-space:pre;overflow-x:auto;line-height:normal;font-family:Menlo,'DejaVu Sans Mono',consolas,'Courier New',monospace\">cabal-club_coding_dh_org.csv\n",
       "</pre>\n"
      ],
      "text/plain": [
       "cabal-club_coding_dh_org.csv\n"
      ]
     },
     "metadata": {},
     "output_type": "display_data"
    },
    {
     "data": {
      "text/html": [
       "<pre style=\"white-space:pre;overflow-x:auto;line-height:normal;font-family:Menlo,'DejaVu Sans Mono',consolas,'Courier New',monospace\">discourse-lab_coding_dh_org.csv\n",
       "</pre>\n"
      ],
      "text/plain": [
       "discourse-lab_coding_dh_org.csv\n"
      ]
     },
     "metadata": {},
     "output_type": "display_data"
    },
    {
     "data": {
      "text/html": [
       "<pre style=\"white-space:pre;overflow-x:auto;line-height:normal;font-family:Menlo,'DejaVu Sans Mono',consolas,'Courier New',monospace\">UBC-AHVA_coding_dh_org.csv\n",
       "</pre>\n"
      ],
      "text/plain": [
       "UBC-AHVA_coding_dh_org.csv\n"
      ]
     },
     "metadata": {},
     "output_type": "display_data"
    },
    {
     "data": {
      "text/html": [
       "<pre style=\"white-space:pre;overflow-x:auto;line-height:normal;font-family:Menlo,'DejaVu Sans Mono',consolas,'Courier New',monospace\">d-w3c_coding_dh_org.csv\n",
       "</pre>\n"
      ],
      "text/plain": [
       "d-w3c_coding_dh_org.csv\n"
      ]
     },
     "metadata": {},
     "output_type": "display_data"
    },
    {
     "data": {
      "text/html": [
       "<pre style=\"white-space:pre;overflow-x:auto;line-height:normal;font-family:Menlo,'DejaVu Sans Mono',consolas,'Courier New',monospace\">INFO1350_coding_dh_org.csv\n",
       "</pre>\n"
      ],
      "text/plain": [
       "INFO1350_coding_dh_org.csv\n"
      ]
     },
     "metadata": {},
     "output_type": "display_data"
    },
    {
     "data": {
      "text/html": [
       "<pre style=\"white-space:pre;overflow-x:auto;line-height:normal;font-family:Menlo,'DejaVu Sans Mono',consolas,'Courier New',monospace\">Humanities-inspired-computation_coding_dh_org.csv\n",
       "</pre>\n"
      ],
      "text/plain": [
       "Humanities-inspired-computation_coding_dh_org.csv\n"
      ]
     },
     "metadata": {},
     "output_type": "display_data"
    },
    {
     "data": {
      "text/html": [
       "<pre style=\"white-space:pre;overflow-x:auto;line-height:normal;font-family:Menlo,'DejaVu Sans Mono',consolas,'Courier New',monospace\">googleworkspace_coding_dh_org.csv\n",
       "</pre>\n"
      ],
      "text/plain": [
       "googleworkspace_coding_dh_org.csv\n"
      ]
     },
     "metadata": {},
     "output_type": "display_data"
    },
    {
     "data": {
      "text/html": [
       "<pre style=\"white-space:pre;overflow-x:auto;line-height:normal;font-family:Menlo,'DejaVu Sans Mono',consolas,'Courier New',monospace\">scikit-hep_coding_dh_org.csv\n",
       "</pre>\n"
      ],
      "text/plain": [
       "scikit-hep_coding_dh_org.csv\n"
      ]
     },
     "metadata": {},
     "output_type": "display_data"
    },
    {
     "data": {
      "text/html": [
       "<pre style=\"white-space:pre;overflow-x:auto;line-height:normal;font-family:Menlo,'DejaVu Sans Mono',consolas,'Courier New',monospace\">finagle_coding_dh_org.csv\n",
       "</pre>\n"
      ],
      "text/plain": [
       "finagle_coding_dh_org.csv\n"
      ]
     },
     "metadata": {},
     "output_type": "display_data"
    },
    {
     "data": {
      "text/html": [
       "<pre style=\"white-space:pre;overflow-x:auto;line-height:normal;font-family:Menlo,'DejaVu Sans Mono',consolas,'Courier New',monospace\">codeforboston_coding_dh_org.csv\n",
       "</pre>\n"
      ],
      "text/plain": [
       "codeforboston_coding_dh_org.csv\n"
      ]
     },
     "metadata": {},
     "output_type": "display_data"
    },
    {
     "data": {
      "text/html": [
       "<pre style=\"white-space:pre;overflow-x:auto;line-height:normal;font-family:Menlo,'DejaVu Sans Mono',consolas,'Courier New',monospace\">ecosyste-ms_coding_dh_org.csv\n",
       "</pre>\n"
      ],
      "text/plain": [
       "ecosyste-ms_coding_dh_org.csv\n"
      ]
     },
     "metadata": {},
     "output_type": "display_data"
    },
    {
     "data": {
      "text/html": [
       "<pre style=\"white-space:pre;overflow-x:auto;line-height:normal;font-family:Menlo,'DejaVu Sans Mono',consolas,'Courier New',monospace\">cinemagoer_coding_dh_org.csv\n",
       "</pre>\n"
      ],
      "text/plain": [
       "cinemagoer_coding_dh_org.csv\n"
      ]
     },
     "metadata": {},
     "output_type": "display_data"
    },
    {
     "data": {
      "text/html": [
       "<pre style=\"white-space:pre;overflow-x:auto;line-height:normal;font-family:Menlo,'DejaVu Sans Mono',consolas,'Courier New',monospace\">Makespace_coding_dh_org.csv\n",
       "</pre>\n"
      ],
      "text/plain": [
       "Makespace_coding_dh_org.csv\n"
      ]
     },
     "metadata": {},
     "output_type": "display_data"
    },
    {
     "data": {
      "text/html": [
       "<pre style=\"white-space:pre;overflow-x:auto;line-height:normal;font-family:Menlo,'DejaVu Sans Mono',consolas,'Courier New',monospace\">TempleDSS_coding_dh_org.csv\n",
       "</pre>\n"
      ],
      "text/plain": [
       "TempleDSS_coding_dh_org.csv\n"
      ]
     },
     "metadata": {},
     "output_type": "display_data"
    },
    {
     "data": {
      "text/html": [
       "<pre style=\"white-space:pre;overflow-x:auto;line-height:normal;font-family:Menlo,'DejaVu Sans Mono',consolas,'Courier New',monospace\">micromark_coding_dh_org.csv\n",
       "</pre>\n"
      ],
      "text/plain": [
       "micromark_coding_dh_org.csv\n"
      ]
     },
     "metadata": {},
     "output_type": "display_data"
    },
    {
     "data": {
      "text/html": [
       "<pre style=\"white-space:pre;overflow-x:auto;line-height:normal;font-family:Menlo,'DejaVu Sans Mono',consolas,'Courier New',monospace\">rOpenGov_coding_dh_org.csv\n",
       "</pre>\n"
      ],
      "text/plain": [
       "rOpenGov_coding_dh_org.csv\n"
      ]
     },
     "metadata": {},
     "output_type": "display_data"
    },
    {
     "data": {
      "text/html": [
       "<pre style=\"white-space:pre;overflow-x:auto;line-height:normal;font-family:Menlo,'DejaVu Sans Mono',consolas,'Courier New',monospace\">gazpachoteam_coding_dh_org.csv\n",
       "</pre>\n"
      ],
      "text/plain": [
       "gazpachoteam_coding_dh_org.csv\n"
      ]
     },
     "metadata": {},
     "output_type": "display_data"
    },
    {
     "data": {
      "text/html": [
       "<pre style=\"white-space:pre;overflow-x:auto;line-height:normal;font-family:Menlo,'DejaVu Sans Mono',consolas,'Courier New',monospace\">corkami_coding_dh_org.csv\n",
       "</pre>\n"
      ],
      "text/plain": [
       "corkami_coding_dh_org.csv\n"
      ]
     },
     "metadata": {},
     "output_type": "display_data"
    },
    {
     "data": {
      "text/html": [
       "<pre style=\"white-space:pre;overflow-x:auto;line-height:normal;font-family:Menlo,'DejaVu Sans Mono',consolas,'Courier New',monospace\">dcthree_coding_dh_org.csv\n",
       "</pre>\n"
      ],
      "text/plain": [
       "dcthree_coding_dh_org.csv\n"
      ]
     },
     "metadata": {},
     "output_type": "display_data"
    },
    {
     "data": {
      "text/html": [
       "<pre style=\"white-space:pre;overflow-x:auto;line-height:normal;font-family:Menlo,'DejaVu Sans Mono',consolas,'Courier New',monospace\">HKIKoeln_coding_dh_org.csv\n",
       "</pre>\n"
      ],
      "text/plain": [
       "HKIKoeln_coding_dh_org.csv\n"
      ]
     },
     "metadata": {},
     "output_type": "display_data"
    },
    {
     "data": {
      "text/html": [
       "<pre style=\"white-space:pre;overflow-x:auto;line-height:normal;font-family:Menlo,'DejaVu Sans Mono',consolas,'Courier New',monospace\">circe_coding_dh_org.csv\n",
       "</pre>\n"
      ],
      "text/plain": [
       "circe_coding_dh_org.csv\n"
      ]
     },
     "metadata": {},
     "output_type": "display_data"
    },
    {
     "data": {
      "text/html": [
       "<pre style=\"white-space:pre;overflow-x:auto;line-height:normal;font-family:Menlo,'DejaVu Sans Mono',consolas,'Courier New',monospace\">visgl_coding_dh_org.csv\n",
       "</pre>\n"
      ],
      "text/plain": [
       "visgl_coding_dh_org.csv\n"
      ]
     },
     "metadata": {},
     "output_type": "display_data"
    },
    {
     "data": {
      "text/html": [
       "<pre style=\"white-space:pre;overflow-x:auto;line-height:normal;font-family:Menlo,'DejaVu Sans Mono',consolas,'Courier New',monospace\">NetAppDocs_coding_dh_org.csv\n",
       "</pre>\n"
      ],
      "text/plain": [
       "NetAppDocs_coding_dh_org.csv\n"
      ]
     },
     "metadata": {},
     "output_type": "display_data"
    },
    {
     "data": {
      "text/html": [
       "<pre style=\"white-space:pre;overflow-x:auto;line-height:normal;font-family:Menlo,'DejaVu Sans Mono',consolas,'Courier New',monospace\">sastrarts_coding_dh_org.csv\n",
       "</pre>\n"
      ],
      "text/plain": [
       "sastrarts_coding_dh_org.csv\n"
      ]
     },
     "metadata": {},
     "output_type": "display_data"
    },
    {
     "data": {
      "text/html": [
       "<pre style=\"white-space:pre;overflow-x:auto;line-height:normal;font-family:Menlo,'DejaVu Sans Mono',consolas,'Courier New',monospace\">cms-l1-globaltrigger_coding_dh_org.csv\n",
       "</pre>\n"
      ],
      "text/plain": [
       "cms-l1-globaltrigger_coding_dh_org.csv\n"
      ]
     },
     "metadata": {},
     "output_type": "display_data"
    },
    {
     "data": {
      "text/html": [
       "<pre style=\"white-space:pre;overflow-x:auto;line-height:normal;font-family:Menlo,'DejaVu Sans Mono',consolas,'Courier New',monospace\">SASTRA-iGEM2019_coding_dh_org.csv\n",
       "</pre>\n"
      ],
      "text/plain": [
       "SASTRA-iGEM2019_coding_dh_org.csv\n"
      ]
     },
     "metadata": {},
     "output_type": "display_data"
    },
    {
     "data": {
      "text/html": [
       "<pre style=\"white-space:pre;overflow-x:auto;line-height:normal;font-family:Menlo,'DejaVu Sans Mono',consolas,'Courier New',monospace\">government_coding_dh_org.csv\n",
       "</pre>\n"
      ],
      "text/plain": [
       "government_coding_dh_org.csv\n"
      ]
     },
     "metadata": {},
     "output_type": "display_data"
    },
    {
     "data": {
      "text/html": [
       "<pre style=\"white-space:pre;overflow-x:auto;line-height:normal;font-family:Menlo,'DejaVu Sans Mono',consolas,'Courier New',monospace\">serpapi_coding_dh_org.csv\n",
       "</pre>\n"
      ],
      "text/plain": [
       "serpapi_coding_dh_org.csv\n"
      ]
     },
     "metadata": {},
     "output_type": "display_data"
    },
    {
     "data": {
      "text/html": [
       "<pre style=\"white-space:pre;overflow-x:auto;line-height:normal;font-family:Menlo,'DejaVu Sans Mono',consolas,'Courier New',monospace\">GreatBayCommunityCollege_coding_dh_org.csv\n",
       "</pre>\n"
      ],
      "text/plain": [
       "GreatBayCommunityCollege_coding_dh_org.csv\n"
      ]
     },
     "metadata": {},
     "output_type": "display_data"
    },
    {
     "data": {
      "text/html": [
       "<pre style=\"white-space:pre;overflow-x:auto;line-height:normal;font-family:Menlo,'DejaVu Sans Mono',consolas,'Courier New',monospace\">LibraryOfCongress_coding_dh_org.csv\n",
       "</pre>\n"
      ],
      "text/plain": [
       "LibraryOfCongress_coding_dh_org.csv\n"
      ]
     },
     "metadata": {},
     "output_type": "display_data"
    },
    {
     "data": {
      "text/html": [
       "<pre style=\"white-space:pre;overflow-x:auto;line-height:normal;font-family:Menlo,'DejaVu Sans Mono',consolas,'Courier New',monospace\">EEYale_coding_dh_org.csv\n",
       "</pre>\n"
      ],
      "text/plain": [
       "EEYale_coding_dh_org.csv\n"
      ]
     },
     "metadata": {},
     "output_type": "display_data"
    },
    {
     "data": {
      "text/html": [
       "<pre style=\"white-space:pre;overflow-x:auto;line-height:normal;font-family:Menlo,'DejaVu Sans Mono',consolas,'Courier New',monospace\">sidora-tools_coding_dh_org.csv\n",
       "</pre>\n"
      ],
      "text/plain": [
       "sidora-tools_coding_dh_org.csv\n"
      ]
     },
     "metadata": {},
     "output_type": "display_data"
    },
    {
     "data": {
      "text/html": [
       "<pre style=\"white-space:pre;overflow-x:auto;line-height:normal;font-family:Menlo,'DejaVu Sans Mono',consolas,'Courier New',monospace\">electron-userland_coding_dh_org.csv\n",
       "</pre>\n"
      ],
      "text/plain": [
       "electron-userland_coding_dh_org.csv\n"
      ]
     },
     "metadata": {},
     "output_type": "display_data"
    },
    {
     "data": {
      "text/html": [
       "<pre style=\"white-space:pre;overflow-x:auto;line-height:normal;font-family:Menlo,'DejaVu Sans Mono',consolas,'Courier New',monospace\">hipe-eval_coding_dh_org.csv\n",
       "</pre>\n"
      ],
      "text/plain": [
       "hipe-eval_coding_dh_org.csv\n"
      ]
     },
     "metadata": {},
     "output_type": "display_data"
    },
    {
     "data": {
      "text/html": [
       "<pre style=\"white-space:pre;overflow-x:auto;line-height:normal;font-family:Menlo,'DejaVu Sans Mono',consolas,'Courier New',monospace\">Kompakkt_coding_dh_org.csv\n",
       "</pre>\n"
      ],
      "text/plain": [
       "Kompakkt_coding_dh_org.csv\n"
      ]
     },
     "metadata": {},
     "output_type": "display_data"
    },
    {
     "data": {
      "text/html": [
       "<pre style=\"white-space:pre;overflow-x:auto;line-height:normal;font-family:Menlo,'DejaVu Sans Mono',consolas,'Courier New',monospace\">vitessce_coding_dh_org.csv\n",
       "</pre>\n"
      ],
      "text/plain": [
       "vitessce_coding_dh_org.csv\n"
      ]
     },
     "metadata": {},
     "output_type": "display_data"
    },
    {
     "data": {
      "text/html": [
       "<pre style=\"white-space:pre;overflow-x:auto;line-height:normal;font-family:Menlo,'DejaVu Sans Mono',consolas,'Courier New',monospace\">dev-space_coding_dh_org.csv\n",
       "</pre>\n"
      ],
      "text/plain": [
       "dev-space_coding_dh_org.csv\n"
      ]
     },
     "metadata": {},
     "output_type": "display_data"
    },
    {
     "data": {
      "text/html": [
       "<pre style=\"white-space:pre;overflow-x:auto;line-height:normal;font-family:Menlo,'DejaVu Sans Mono',consolas,'Courier New',monospace\">multimedia-storytelling_coding_dh_org.csv\n",
       "</pre>\n"
      ],
      "text/plain": [
       "multimedia-storytelling_coding_dh_org.csv\n"
      ]
     },
     "metadata": {},
     "output_type": "display_data"
    },
    {
     "data": {
      "text/html": [
       "<pre style=\"white-space:pre;overflow-x:auto;line-height:normal;font-family:Menlo,'DejaVu Sans Mono',consolas,'Courier New',monospace\">CloudReady-ch_coding_dh_org.csv\n",
       "</pre>\n"
      ],
      "text/plain": [
       "CloudReady-ch_coding_dh_org.csv\n"
      ]
     },
     "metadata": {},
     "output_type": "display_data"
    },
    {
     "data": {
      "text/html": [
       "<pre style=\"white-space:pre;overflow-x:auto;line-height:normal;font-family:Menlo,'DejaVu Sans Mono',consolas,'Courier New',monospace\">opencpu_coding_dh_org.csv\n",
       "</pre>\n"
      ],
      "text/plain": [
       "opencpu_coding_dh_org.csv\n"
      ]
     },
     "metadata": {},
     "output_type": "display_data"
    },
    {
     "data": {
      "text/html": [
       "<pre style=\"white-space:pre;overflow-x:auto;line-height:normal;font-family:Menlo,'DejaVu Sans Mono',consolas,'Courier New',monospace\">get-reformulate_coding_dh_org.csv\n",
       "</pre>\n"
      ],
      "text/plain": [
       "get-reformulate_coding_dh_org.csv\n"
      ]
     },
     "metadata": {},
     "output_type": "display_data"
    },
    {
     "data": {
      "text/html": [
       "<pre style=\"white-space:pre;overflow-x:auto;line-height:normal;font-family:Menlo,'DejaVu Sans Mono',consolas,'Courier New',monospace\">KonScience_coding_dh_org.csv\n",
       "</pre>\n"
      ],
      "text/plain": [
       "KonScience_coding_dh_org.csv\n"
      ]
     },
     "metadata": {},
     "output_type": "display_data"
    },
    {
     "data": {
      "text/html": [
       "<pre style=\"white-space:pre;overflow-x:auto;line-height:normal;font-family:Menlo,'DejaVu Sans Mono',consolas,'Courier New',monospace\">DiXiT-eu_coding_dh_org.csv\n",
       "</pre>\n"
      ],
      "text/plain": [
       "DiXiT-eu_coding_dh_org.csv\n"
      ]
     },
     "metadata": {},
     "output_type": "display_data"
    },
    {
     "data": {
      "text/html": [
       "<pre style=\"white-space:pre;overflow-x:auto;line-height:normal;font-family:Menlo,'DejaVu Sans Mono',consolas,'Courier New',monospace\">RadioPreservationTaskForce_coding_dh_org.csv\n",
       "</pre>\n"
      ],
      "text/plain": [
       "RadioPreservationTaskForce_coding_dh_org.csv\n"
      ]
     },
     "metadata": {},
     "output_type": "display_data"
    },
    {
     "data": {
      "text/html": [
       "<pre style=\"white-space:pre;overflow-x:auto;line-height:normal;font-family:Menlo,'DejaVu Sans Mono',consolas,'Courier New',monospace\">geovistory_coding_dh_org.csv\n",
       "</pre>\n"
      ],
      "text/plain": [
       "geovistory_coding_dh_org.csv\n"
      ]
     },
     "metadata": {},
     "output_type": "display_data"
    },
    {
     "data": {
      "text/html": [
       "<pre style=\"white-space:pre;overflow-x:auto;line-height:normal;font-family:Menlo,'DejaVu Sans Mono',consolas,'Courier New',monospace\">climatepolicyradar_coding_dh_org.csv\n",
       "</pre>\n"
      ],
      "text/plain": [
       "climatepolicyradar_coding_dh_org.csv\n"
      ]
     },
     "metadata": {},
     "output_type": "display_data"
    },
    {
     "data": {
      "text/html": [
       "<pre style=\"white-space:pre;overflow-x:auto;line-height:normal;font-family:Menlo,'DejaVu Sans Mono',consolas,'Courier New',monospace\">modellingDH_coding_dh_org.csv\n",
       "</pre>\n"
      ],
      "text/plain": [
       "modellingDH_coding_dh_org.csv\n"
      ]
     },
     "metadata": {},
     "output_type": "display_data"
    },
    {
     "data": {
      "text/html": [
       "<pre style=\"white-space:pre;overflow-x:auto;line-height:normal;font-family:Menlo,'DejaVu Sans Mono',consolas,'Courier New',monospace\">SciCodes_coding_dh_org.csv\n",
       "</pre>\n"
      ],
      "text/plain": [
       "SciCodes_coding_dh_org.csv\n"
      ]
     },
     "metadata": {},
     "output_type": "display_data"
    },
    {
     "data": {
      "text/html": [
       "<pre style=\"white-space:pre;overflow-x:auto;line-height:normal;font-family:Menlo,'DejaVu Sans Mono',consolas,'Courier New',monospace\">Schiffels-Popgen_coding_dh_org.csv\n",
       "</pre>\n"
      ],
      "text/plain": [
       "Schiffels-Popgen_coding_dh_org.csv\n"
      ]
     },
     "metadata": {},
     "output_type": "display_data"
    },
    {
     "data": {
      "text/html": [
       "<pre style=\"white-space:pre;overflow-x:auto;line-height:normal;font-family:Menlo,'DejaVu Sans Mono',consolas,'Courier New',monospace\">UBC-NLP_coding_dh_org.csv\n",
       "</pre>\n"
      ],
      "text/plain": [
       "UBC-NLP_coding_dh_org.csv\n"
      ]
     },
     "metadata": {},
     "output_type": "display_data"
    },
    {
     "data": {
      "text/html": [
       "<pre style=\"white-space:pre;overflow-x:auto;line-height:normal;font-family:Menlo,'DejaVu Sans Mono',consolas,'Courier New',monospace\">itsmarta_coding_dh_org.csv\n",
       "</pre>\n"
      ],
      "text/plain": [
       "itsmarta_coding_dh_org.csv\n"
      ]
     },
     "metadata": {},
     "output_type": "display_data"
    },
    {
     "data": {
      "text/html": [
       "<pre style=\"white-space:pre;overflow-x:auto;line-height:normal;font-family:Menlo,'DejaVu Sans Mono',consolas,'Courier New',monospace\">Stadt-Geschichte-Basel_coding_dh_org.csv\n",
       "</pre>\n"
      ],
      "text/plain": [
       "Stadt-Geschichte-Basel_coding_dh_org.csv\n"
      ]
     },
     "metadata": {},
     "output_type": "display_data"
    },
    {
     "data": {
      "text/html": [
       "<pre style=\"white-space:pre;overflow-x:auto;line-height:normal;font-family:Menlo,'DejaVu Sans Mono',consolas,'Courier New',monospace\">researchspace_coding_dh_org.csv\n",
       "</pre>\n"
      ],
      "text/plain": [
       "researchspace_coding_dh_org.csv\n"
      ]
     },
     "metadata": {},
     "output_type": "display_data"
    },
    {
     "data": {
      "text/html": [
       "<pre style=\"white-space:pre;overflow-x:auto;line-height:normal;font-family:Menlo,'DejaVu Sans Mono',consolas,'Courier New',monospace\">rjsf-team_coding_dh_org.csv\n",
       "</pre>\n"
      ],
      "text/plain": [
       "rjsf-team_coding_dh_org.csv\n"
      ]
     },
     "metadata": {},
     "output_type": "display_data"
    },
    {
     "data": {
      "text/html": [
       "<pre style=\"white-space:pre;overflow-x:auto;line-height:normal;font-family:Menlo,'DejaVu Sans Mono',consolas,'Courier New',monospace\">Geosoft2_coding_dh_org.csv\n",
       "</pre>\n"
      ],
      "text/plain": [
       "Geosoft2_coding_dh_org.csv\n"
      ]
     },
     "metadata": {},
     "output_type": "display_data"
    },
    {
     "data": {
      "text/html": [
       "<pre style=\"white-space:pre;overflow-x:auto;line-height:normal;font-family:Menlo,'DejaVu Sans Mono',consolas,'Courier New',monospace\">NLeSC_coding_dh_org.csv\n",
       "</pre>\n"
      ],
      "text/plain": [
       "NLeSC_coding_dh_org.csv\n"
      ]
     },
     "metadata": {},
     "output_type": "display_data"
    },
    {
     "data": {
      "text/html": [
       "<pre style=\"white-space:pre;overflow-x:auto;line-height:normal;font-family:Menlo,'DejaVu Sans Mono',consolas,'Courier New',monospace\">orgmanager_coding_dh_org.csv\n",
       "</pre>\n"
      ],
      "text/plain": [
       "orgmanager_coding_dh_org.csv\n"
      ]
     },
     "metadata": {},
     "output_type": "display_data"
    },
    {
     "data": {
      "text/html": [
       "<pre style=\"white-space:pre;overflow-x:auto;line-height:normal;font-family:Menlo,'DejaVu Sans Mono',consolas,'Courier New',monospace\">stats-book_coding_dh_org.csv\n",
       "</pre>\n"
      ],
      "text/plain": [
       "stats-book_coding_dh_org.csv\n"
      ]
     },
     "metadata": {},
     "output_type": "display_data"
    },
    {
     "data": {
      "text/html": [
       "<pre style=\"white-space:pre;overflow-x:auto;line-height:normal;font-family:Menlo,'DejaVu Sans Mono',consolas,'Courier New',monospace\">seclibjs_coding_dh_org.csv\n",
       "</pre>\n"
      ],
      "text/plain": [
       "seclibjs_coding_dh_org.csv\n"
      ]
     },
     "metadata": {},
     "output_type": "display_data"
    },
    {
     "data": {
      "text/html": [
       "<pre style=\"white-space:pre;overflow-x:auto;line-height:normal;font-family:Menlo,'DejaVu Sans Mono',consolas,'Courier New',monospace\">webarchiving_coding_dh_org.csv\n",
       "</pre>\n"
      ],
      "text/plain": [
       "webarchiving_coding_dh_org.csv\n"
      ]
     },
     "metadata": {},
     "output_type": "display_data"
    },
    {
     "data": {
      "text/html": [
       "<pre style=\"white-space:pre;overflow-x:auto;line-height:normal;font-family:Menlo,'DejaVu Sans Mono',consolas,'Courier New',monospace\">FrankensteinVariorum_coding_dh_org.csv\n",
       "</pre>\n"
      ],
      "text/plain": [
       "FrankensteinVariorum_coding_dh_org.csv\n"
      ]
     },
     "metadata": {},
     "output_type": "display_data"
    },
    {
     "data": {
      "text/html": [
       "<pre style=\"white-space:pre;overflow-x:auto;line-height:normal;font-family:Menlo,'DejaVu Sans Mono',consolas,'Courier New',monospace\">ds-wizard_coding_dh_org.csv\n",
       "</pre>\n"
      ],
      "text/plain": [
       "ds-wizard_coding_dh_org.csv\n"
      ]
     },
     "metadata": {},
     "output_type": "display_data"
    },
    {
     "data": {
      "text/html": [
       "<pre style=\"white-space:pre;overflow-x:auto;line-height:normal;font-family:Menlo,'DejaVu Sans Mono',consolas,'Courier New',monospace\">Emmeth_coding_dh_org.csv\n",
       "</pre>\n"
      ],
      "text/plain": [
       "Emmeth_coding_dh_org.csv\n"
      ]
     },
     "metadata": {},
     "output_type": "display_data"
    },
    {
     "data": {
      "text/html": [
       "<pre style=\"white-space:pre;overflow-x:auto;line-height:normal;font-family:Menlo,'DejaVu Sans Mono',consolas,'Courier New',monospace\">thaneyriordan_coding_dh_org.csv\n",
       "</pre>\n"
      ],
      "text/plain": [
       "thaneyriordan_coding_dh_org.csv\n"
      ]
     },
     "metadata": {},
     "output_type": "display_data"
    },
    {
     "data": {
      "text/html": [
       "<pre style=\"white-space:pre;overflow-x:auto;line-height:normal;font-family:Menlo,'DejaVu Sans Mono',consolas,'Courier New',monospace\">apache_coding_dh_org.csv\n",
       "</pre>\n"
      ],
      "text/plain": [
       "apache_coding_dh_org.csv\n"
      ]
     },
     "metadata": {},
     "output_type": "display_data"
    },
    {
     "data": {
      "text/html": [
       "<pre style=\"white-space:pre;overflow-x:auto;line-height:normal;font-family:Menlo,'DejaVu Sans Mono',consolas,'Courier New',monospace\">xpmethod_coding_dh_org.csv\n",
       "</pre>\n"
      ],
      "text/plain": [
       "xpmethod_coding_dh_org.csv\n"
      ]
     },
     "metadata": {},
     "output_type": "display_data"
    },
    {
     "data": {
      "text/html": [
       "<pre style=\"white-space:pre;overflow-x:auto;line-height:normal;font-family:Menlo,'DejaVu Sans Mono',consolas,'Courier New',monospace\">blc-tech_coding_dh_org.csv\n",
       "</pre>\n"
      ],
      "text/plain": [
       "blc-tech_coding_dh_org.csv\n"
      ]
     },
     "metadata": {},
     "output_type": "display_data"
    },
    {
     "data": {
      "text/html": [
       "<pre style=\"white-space:pre;overflow-x:auto;line-height:normal;font-family:Menlo,'DejaVu Sans Mono',consolas,'Courier New',monospace\">archivesunleashed_coding_dh_org.csv\n",
       "</pre>\n"
      ],
      "text/plain": [
       "archivesunleashed_coding_dh_org.csv\n"
      ]
     },
     "metadata": {},
     "output_type": "display_data"
    },
    {
     "data": {
      "text/html": [
       "<pre style=\"white-space:pre;overflow-x:auto;line-height:normal;font-family:Menlo,'DejaVu Sans Mono',consolas,'Courier New',monospace\">nodejs_coding_dh_org.csv\n",
       "</pre>\n"
      ],
      "text/plain": [
       "nodejs_coding_dh_org.csv\n"
      ]
     },
     "metadata": {},
     "output_type": "display_data"
    },
    {
     "data": {
      "text/html": [
       "<pre style=\"white-space:pre;overflow-x:auto;line-height:normal;font-family:Menlo,'DejaVu Sans Mono',consolas,'Courier New',monospace\">oerc-music_coding_dh_org.csv\n",
       "</pre>\n"
      ],
      "text/plain": [
       "oerc-music_coding_dh_org.csv\n"
      ]
     },
     "metadata": {},
     "output_type": "display_data"
    },
    {
     "data": {
      "text/html": [
       "<pre style=\"white-space:pre;overflow-x:auto;line-height:normal;font-family:Menlo,'DejaVu Sans Mono',consolas,'Courier New',monospace\">rpgframework_coding_dh_org.csv\n",
       "</pre>\n"
      ],
      "text/plain": [
       "rpgframework_coding_dh_org.csv\n"
      ]
     },
     "metadata": {},
     "output_type": "display_data"
    },
    {
     "data": {
      "text/html": [
       "<pre style=\"white-space:pre;overflow-x:auto;line-height:normal;font-family:Menlo,'DejaVu Sans Mono',consolas,'Courier New',monospace\">AI4LAM_coding_dh_org.csv\n",
       "</pre>\n"
      ],
      "text/plain": [
       "AI4LAM_coding_dh_org.csv\n"
      ]
     },
     "metadata": {},
     "output_type": "display_data"
    },
    {
     "data": {
      "text/html": [
       "<pre style=\"white-space:pre;overflow-x:auto;line-height:normal;font-family:Menlo,'DejaVu Sans Mono',consolas,'Courier New',monospace\">Git-Lit_coding_dh_org.csv\n",
       "</pre>\n"
      ],
      "text/plain": [
       "Git-Lit_coding_dh_org.csv\n"
      ]
     },
     "metadata": {},
     "output_type": "display_data"
    },
    {
     "data": {
      "text/html": [
       "<pre style=\"white-space:pre;overflow-x:auto;line-height:normal;font-family:Menlo,'DejaVu Sans Mono',consolas,'Courier New',monospace\">open-museum_coding_dh_org.csv\n",
       "</pre>\n"
      ],
      "text/plain": [
       "open-museum_coding_dh_org.csv\n"
      ]
     },
     "metadata": {},
     "output_type": "display_data"
    },
    {
     "data": {
      "text/html": [
       "<pre style=\"white-space:pre;overflow-x:auto;line-height:normal;font-family:Menlo,'DejaVu Sans Mono',consolas,'Courier New',monospace\">24pullrequests_coding_dh_org.csv\n",
       "</pre>\n"
      ],
      "text/plain": [
       "24pullrequests_coding_dh_org.csv\n"
      ]
     },
     "metadata": {},
     "output_type": "display_data"
    },
    {
     "data": {
      "text/html": [
       "<pre style=\"white-space:pre;overflow-x:auto;line-height:normal;font-family:Menlo,'DejaVu Sans Mono',consolas,'Courier New',monospace\">IZdigital-FAU_coding_dh_org.csv\n",
       "</pre>\n"
      ],
      "text/plain": [
       "IZdigital-FAU_coding_dh_org.csv\n"
      ]
     },
     "metadata": {},
     "output_type": "display_data"
    },
    {
     "data": {
      "text/html": [
       "<pre style=\"white-space:pre;overflow-x:auto;line-height:normal;font-family:Menlo,'DejaVu Sans Mono',consolas,'Courier New',monospace\">auselit_coding_dh_org.csv\n",
       "</pre>\n"
      ],
      "text/plain": [
       "auselit_coding_dh_org.csv\n"
      ]
     },
     "metadata": {},
     "output_type": "display_data"
    },
    {
     "data": {
      "text/html": [
       "<pre style=\"white-space:pre;overflow-x:auto;line-height:normal;font-family:Menlo,'DejaVu Sans Mono',consolas,'Courier New',monospace\">GermanT5_coding_dh_org.csv\n",
       "</pre>\n"
      ],
      "text/plain": [
       "GermanT5_coding_dh_org.csv\n"
      ]
     },
     "metadata": {},
     "output_type": "display_data"
    },
    {
     "data": {
      "text/html": [
       "<pre style=\"white-space:pre;overflow-x:auto;line-height:normal;font-family:Menlo,'DejaVu Sans Mono',consolas,'Courier New',monospace\">jazzband_coding_dh_org.csv\n",
       "</pre>\n"
      ],
      "text/plain": [
       "jazzband_coding_dh_org.csv\n"
      ]
     },
     "metadata": {},
     "output_type": "display_data"
    },
    {
     "data": {
      "text/html": [
       "<pre style=\"white-space:pre;overflow-x:auto;line-height:normal;font-family:Menlo,'DejaVu Sans Mono',consolas,'Courier New',monospace\">relaxng_coding_dh_org.csv\n",
       "</pre>\n"
      ],
      "text/plain": [
       "relaxng_coding_dh_org.csv\n"
      ]
     },
     "metadata": {},
     "output_type": "display_data"
    },
    {
     "data": {
      "text/html": [
       "<pre style=\"white-space:pre;overflow-x:auto;line-height:normal;font-family:Menlo,'DejaVu Sans Mono',consolas,'Courier New',monospace\">vivo-archive_coding_dh_org.csv\n",
       "</pre>\n"
      ],
      "text/plain": [
       "vivo-archive_coding_dh_org.csv\n"
      ]
     },
     "metadata": {},
     "output_type": "display_data"
    },
    {
     "data": {
      "text/html": [
       "<pre style=\"white-space:pre;overflow-x:auto;line-height:normal;font-family:Menlo,'DejaVu Sans Mono',consolas,'Courier New',monospace\">ulbstic_coding_dh_org.csv\n",
       "</pre>\n"
      ],
      "text/plain": [
       "ulbstic_coding_dh_org.csv\n"
      ]
     },
     "metadata": {},
     "output_type": "display_data"
    },
    {
     "data": {
      "text/html": [
       "<pre style=\"white-space:pre;overflow-x:auto;line-height:normal;font-family:Menlo,'DejaVu Sans Mono',consolas,'Courier New',monospace\">DigitalScriptorium_coding_dh_org.csv\n",
       "</pre>\n"
      ],
      "text/plain": [
       "DigitalScriptorium_coding_dh_org.csv\n"
      ]
     },
     "metadata": {},
     "output_type": "display_data"
    },
    {
     "data": {
      "text/html": [
       "<pre style=\"white-space:pre;overflow-x:auto;line-height:normal;font-family:Menlo,'DejaVu Sans Mono',consolas,'Courier New',monospace\">openfacto_coding_dh_org.csv\n",
       "</pre>\n"
      ],
      "text/plain": [
       "openfacto_coding_dh_org.csv\n"
      ]
     },
     "metadata": {},
     "output_type": "display_data"
    },
    {
     "data": {
      "text/html": [
       "<pre style=\"white-space:pre;overflow-x:auto;line-height:normal;font-family:Menlo,'DejaVu Sans Mono',consolas,'Courier New',monospace\">FLVC_coding_dh_org.csv\n",
       "</pre>\n"
      ],
      "text/plain": [
       "FLVC_coding_dh_org.csv\n"
      ]
     },
     "metadata": {},
     "output_type": "display_data"
    },
    {
     "data": {
      "text/html": [
       "<pre style=\"white-space:pre;overflow-x:auto;line-height:normal;font-family:Menlo,'DejaVu Sans Mono',consolas,'Courier New',monospace\">3dfsb-dev_coding_dh_org.csv\n",
       "</pre>\n"
      ],
      "text/plain": [
       "3dfsb-dev_coding_dh_org.csv\n"
      ]
     },
     "metadata": {},
     "output_type": "display_data"
    },
    {
     "data": {
      "text/html": [
       "<pre style=\"white-space:pre;overflow-x:auto;line-height:normal;font-family:Menlo,'DejaVu Sans Mono',consolas,'Courier New',monospace\">SheffieldR_coding_dh_org.csv\n",
       "</pre>\n"
      ],
      "text/plain": [
       "SheffieldR_coding_dh_org.csv\n"
      ]
     },
     "metadata": {},
     "output_type": "display_data"
    },
    {
     "data": {
      "text/html": [
       "<pre style=\"white-space:pre;overflow-x:auto;line-height:normal;font-family:Menlo,'DejaVu Sans Mono',consolas,'Courier New',monospace\">ual-cci_coding_dh_org.csv\n",
       "</pre>\n"
      ],
      "text/plain": [
       "ual-cci_coding_dh_org.csv\n"
      ]
     },
     "metadata": {},
     "output_type": "display_data"
    },
    {
     "data": {
      "text/html": [
       "<pre style=\"white-space:pre;overflow-x:auto;line-height:normal;font-family:Menlo,'DejaVu Sans Mono',consolas,'Courier New',monospace\">jsfest_coding_dh_org.csv\n",
       "</pre>\n"
      ],
      "text/plain": [
       "jsfest_coding_dh_org.csv\n"
      ]
     },
     "metadata": {},
     "output_type": "display_data"
    },
    {
     "data": {
      "text/html": [
       "<pre style=\"white-space:pre;overflow-x:auto;line-height:normal;font-family:Menlo,'DejaVu Sans Mono',consolas,'Courier New',monospace\">BeGreator_coding_dh_org.csv\n",
       "</pre>\n"
      ],
      "text/plain": [
       "BeGreator_coding_dh_org.csv\n"
      ]
     },
     "metadata": {},
     "output_type": "display_data"
    },
    {
     "data": {
      "text/html": [
       "<pre style=\"white-space:pre;overflow-x:auto;line-height:normal;font-family:Menlo,'DejaVu Sans Mono',consolas,'Courier New',monospace\">adapter-hub_coding_dh_org.csv\n",
       "</pre>\n"
      ],
      "text/plain": [
       "adapter-hub_coding_dh_org.csv\n"
      ]
     },
     "metadata": {},
     "output_type": "display_data"
    },
    {
     "data": {
      "text/html": [
       "<pre style=\"white-space:pre;overflow-x:auto;line-height:normal;font-family:Menlo,'DejaVu Sans Mono',consolas,'Courier New',monospace\">pandaproject_coding_dh_org.csv\n",
       "</pre>\n"
      ],
      "text/plain": [
       "pandaproject_coding_dh_org.csv\n"
      ]
     },
     "metadata": {},
     "output_type": "display_data"
    },
    {
     "data": {
      "text/html": [
       "<pre style=\"white-space:pre;overflow-x:auto;line-height:normal;font-family:Menlo,'DejaVu Sans Mono',consolas,'Courier New',monospace\">pelias_coding_dh_org.csv\n",
       "</pre>\n"
      ],
      "text/plain": [
       "pelias_coding_dh_org.csv\n"
      ]
     },
     "metadata": {},
     "output_type": "display_data"
    },
    {
     "data": {
      "text/html": [
       "<pre style=\"white-space:pre;overflow-x:auto;line-height:normal;font-family:Menlo,'DejaVu Sans Mono',consolas,'Courier New',monospace\">muninn_coding_dh_org.csv\n",
       "</pre>\n"
      ],
      "text/plain": [
       "muninn_coding_dh_org.csv\n"
      ]
     },
     "metadata": {},
     "output_type": "display_data"
    },
    {
     "data": {
      "text/html": [
       "<pre style=\"white-space:pre;overflow-x:auto;line-height:normal;font-family:Menlo,'DejaVu Sans Mono',consolas,'Courier New',monospace\">olita_coding_dh_org.csv\n",
       "</pre>\n"
      ],
      "text/plain": [
       "olita_coding_dh_org.csv\n"
      ]
     },
     "metadata": {},
     "output_type": "display_data"
    },
    {
     "data": {
      "text/html": [
       "<pre style=\"white-space:pre;overflow-x:auto;line-height:normal;font-family:Menlo,'DejaVu Sans Mono',consolas,'Courier New',monospace\">OwenAnalytics_coding_dh_org.csv\n",
       "</pre>\n"
      ],
      "text/plain": [
       "OwenAnalytics_coding_dh_org.csv\n"
      ]
     },
     "metadata": {},
     "output_type": "display_data"
    },
    {
     "data": {
      "text/html": [
       "<pre style=\"white-space:pre;overflow-x:auto;line-height:normal;font-family:Menlo,'DejaVu Sans Mono',consolas,'Courier New',monospace\">acdm-spring-2017_coding_dh_org.csv\n",
       "</pre>\n"
      ],
      "text/plain": [
       "acdm-spring-2017_coding_dh_org.csv\n"
      ]
     },
     "metadata": {},
     "output_type": "display_data"
    },
    {
     "data": {
      "text/html": [
       "<pre style=\"white-space:pre;overflow-x:auto;line-height:normal;font-family:Menlo,'DejaVu Sans Mono',consolas,'Courier New',monospace\">utkdigitalinitiatives_coding_dh_org.csv\n",
       "</pre>\n"
      ],
      "text/plain": [
       "utkdigitalinitiatives_coding_dh_org.csv\n"
      ]
     },
     "metadata": {},
     "output_type": "display_data"
    },
    {
     "data": {
      "text/html": [
       "<pre style=\"white-space:pre;overflow-x:auto;line-height:normal;font-family:Menlo,'DejaVu Sans Mono',consolas,'Courier New',monospace\">Helsinki-NLP_coding_dh_org.csv\n",
       "</pre>\n"
      ],
      "text/plain": [
       "Helsinki-NLP_coding_dh_org.csv\n"
      ]
     },
     "metadata": {},
     "output_type": "display_data"
    },
    {
     "data": {
      "text/html": [
       "<pre style=\"white-space:pre;overflow-x:auto;line-height:normal;font-family:Menlo,'DejaVu Sans Mono',consolas,'Courier New',monospace\">providedh_coding_dh_org.csv\n",
       "</pre>\n"
      ],
      "text/plain": [
       "providedh_coding_dh_org.csv\n"
      ]
     },
     "metadata": {},
     "output_type": "display_data"
    },
    {
     "data": {
      "text/html": [
       "<pre style=\"white-space:pre;overflow-x:auto;line-height:normal;font-family:Menlo,'DejaVu Sans Mono',consolas,'Courier New',monospace\">hubmapconsortium_coding_dh_org.csv\n",
       "</pre>\n"
      ],
      "text/plain": [
       "hubmapconsortium_coding_dh_org.csv\n"
      ]
     },
     "metadata": {},
     "output_type": "display_data"
    },
    {
     "data": {
      "text/html": [
       "<pre style=\"white-space:pre;overflow-x:auto;line-height:normal;font-family:Menlo,'DejaVu Sans Mono',consolas,'Courier New',monospace\">mps-youtube_coding_dh_org.csv\n",
       "</pre>\n"
      ],
      "text/plain": [
       "mps-youtube_coding_dh_org.csv\n"
      ]
     },
     "metadata": {},
     "output_type": "display_data"
    },
    {
     "data": {
      "text/html": [
       "<pre style=\"white-space:pre;overflow-x:auto;line-height:normal;font-family:Menlo,'DejaVu Sans Mono',consolas,'Courier New',monospace\">chalk_coding_dh_org.csv\n",
       "</pre>\n"
      ],
      "text/plain": [
       "chalk_coding_dh_org.csv\n"
      ]
     },
     "metadata": {},
     "output_type": "display_data"
    },
    {
     "data": {
      "text/html": [
       "<pre style=\"white-space:pre;overflow-x:auto;line-height:normal;font-family:Menlo,'DejaVu Sans Mono',consolas,'Courier New',monospace\">Fusion-Room_coding_dh_org.csv\n",
       "</pre>\n"
      ],
      "text/plain": [
       "Fusion-Room_coding_dh_org.csv\n"
      ]
     },
     "metadata": {},
     "output_type": "display_data"
    },
    {
     "data": {
      "text/html": [
       "<pre style=\"white-space:pre;overflow-x:auto;line-height:normal;font-family:Menlo,'DejaVu Sans Mono',consolas,'Courier New',monospace\">SASTRA-RACING-TEAM_coding_dh_org.csv\n",
       "</pre>\n"
      ],
      "text/plain": [
       "SASTRA-RACING-TEAM_coding_dh_org.csv\n"
      ]
     },
     "metadata": {},
     "output_type": "display_data"
    },
    {
     "data": {
      "text/html": [
       "<pre style=\"white-space:pre;overflow-x:auto;line-height:normal;font-family:Menlo,'DejaVu Sans Mono',consolas,'Courier New',monospace\">sul-dlss-deprecated_coding_dh_org.csv\n",
       "</pre>\n"
      ],
      "text/plain": [
       "sul-dlss-deprecated_coding_dh_org.csv\n"
      ]
     },
     "metadata": {},
     "output_type": "display_data"
    },
    {
     "data": {
      "text/html": [
       "<pre style=\"white-space:pre;overflow-x:auto;line-height:normal;font-family:Menlo,'DejaVu Sans Mono',consolas,'Courier New',monospace\">DARIAH-VL_coding_dh_org.csv\n",
       "</pre>\n"
      ],
      "text/plain": [
       "DARIAH-VL_coding_dh_org.csv\n"
      ]
     },
     "metadata": {},
     "output_type": "display_data"
    },
    {
     "data": {
      "text/html": [
       "<pre style=\"white-space:pre;overflow-x:auto;line-height:normal;font-family:Menlo,'DejaVu Sans Mono',consolas,'Courier New',monospace\">invoke-ai_coding_dh_org.csv\n",
       "</pre>\n"
      ],
      "text/plain": [
       "invoke-ai_coding_dh_org.csv\n"
      ]
     },
     "metadata": {},
     "output_type": "display_data"
    },
    {
     "data": {
      "text/html": [
       "<pre style=\"white-space:pre;overflow-x:auto;line-height:normal;font-family:Menlo,'DejaVu Sans Mono',consolas,'Courier New',monospace\">TEI-Correspondence-SIG_coding_dh_org.csv\n",
       "</pre>\n"
      ],
      "text/plain": [
       "TEI-Correspondence-SIG_coding_dh_org.csv\n"
      ]
     },
     "metadata": {},
     "output_type": "display_data"
    },
    {
     "data": {
      "text/html": [
       "<pre style=\"white-space:pre;overflow-x:auto;line-height:normal;font-family:Menlo,'DejaVu Sans Mono',consolas,'Courier New',monospace\">berty_coding_dh_org.csv\n",
       "</pre>\n"
      ],
      "text/plain": [
       "berty_coding_dh_org.csv\n"
      ]
     },
     "metadata": {},
     "output_type": "display_data"
    },
    {
     "data": {
      "text/html": [
       "<pre style=\"white-space:pre;overflow-x:auto;line-height:normal;font-family:Menlo,'DejaVu Sans Mono',consolas,'Courier New',monospace\">oeuvres_coding_dh_org.csv\n",
       "</pre>\n"
      ],
      "text/plain": [
       "oeuvres_coding_dh_org.csv\n"
      ]
     },
     "metadata": {},
     "output_type": "display_data"
    },
    {
     "data": {
      "text/html": [
       "<pre style=\"white-space:pre;overflow-x:auto;line-height:normal;font-family:Menlo,'DejaVu Sans Mono',consolas,'Courier New',monospace\">pyne_coding_dh_org.csv\n",
       "</pre>\n"
      ],
      "text/plain": [
       "pyne_coding_dh_org.csv\n"
      ]
     },
     "metadata": {},
     "output_type": "display_data"
    },
    {
     "data": {
      "text/html": [
       "<pre style=\"white-space:pre;overflow-x:auto;line-height:normal;font-family:Menlo,'DejaVu Sans Mono',consolas,'Courier New',monospace\">usds_coding_dh_org.csv\n",
       "</pre>\n"
      ],
      "text/plain": [
       "usds_coding_dh_org.csv\n"
      ]
     },
     "metadata": {},
     "output_type": "display_data"
    },
    {
     "data": {
      "text/html": [
       "<pre style=\"white-space:pre;overflow-x:auto;line-height:normal;font-family:Menlo,'DejaVu Sans Mono',consolas,'Courier New',monospace\">mongo-school_coding_dh_org.csv\n",
       "</pre>\n"
      ],
      "text/plain": [
       "mongo-school_coding_dh_org.csv\n"
      ]
     },
     "metadata": {},
     "output_type": "display_data"
    },
    {
     "data": {
      "text/html": [
       "<pre style=\"white-space:pre;overflow-x:auto;line-height:normal;font-family:Menlo,'DejaVu Sans Mono',consolas,'Courier New',monospace\">rfordatascience_coding_dh_org.csv\n",
       "</pre>\n"
      ],
      "text/plain": [
       "rfordatascience_coding_dh_org.csv\n"
      ]
     },
     "metadata": {},
     "output_type": "display_data"
    },
    {
     "data": {
      "text/html": [
       "<pre style=\"white-space:pre;overflow-x:auto;line-height:normal;font-family:Menlo,'DejaVu Sans Mono',consolas,'Courier New',monospace\">semstats_coding_dh_org.csv\n",
       "</pre>\n"
      ],
      "text/plain": [
       "semstats_coding_dh_org.csv\n"
      ]
     },
     "metadata": {},
     "output_type": "display_data"
    },
    {
     "data": {
      "text/html": [
       "<pre style=\"white-space:pre;overflow-x:auto;line-height:normal;font-family:Menlo,'DejaVu Sans Mono',consolas,'Courier New',monospace\">pythonmg_coding_dh_org.csv\n",
       "</pre>\n"
      ],
      "text/plain": [
       "pythonmg_coding_dh_org.csv\n"
      ]
     },
     "metadata": {},
     "output_type": "display_data"
    },
    {
     "data": {
      "text/html": [
       "<pre style=\"white-space:pre;overflow-x:auto;line-height:normal;font-family:Menlo,'DejaVu Sans Mono',consolas,'Courier New',monospace\">campus-experts_coding_dh_org.csv\n",
       "</pre>\n"
      ],
      "text/plain": [
       "campus-experts_coding_dh_org.csv\n"
      ]
     },
     "metadata": {},
     "output_type": "display_data"
    },
    {
     "data": {
      "text/html": [
       "<pre style=\"white-space:pre;overflow-x:auto;line-height:normal;font-family:Menlo,'DejaVu Sans Mono',consolas,'Courier New',monospace\">sissa_coding_dh_org.csv\n",
       "</pre>\n"
      ],
      "text/plain": [
       "sissa_coding_dh_org.csv\n"
      ]
     },
     "metadata": {},
     "output_type": "display_data"
    },
    {
     "data": {
      "text/html": [
       "<pre style=\"white-space:pre;overflow-x:auto;line-height:normal;font-family:Menlo,'DejaVu Sans Mono',consolas,'Courier New',monospace\">ArjanCodes_coding_dh_org.csv\n",
       "</pre>\n"
      ],
      "text/plain": [
       "ArjanCodes_coding_dh_org.csv\n"
      ]
     },
     "metadata": {},
     "output_type": "display_data"
    },
    {
     "data": {
      "text/html": [
       "<pre style=\"white-space:pre;overflow-x:auto;line-height:normal;font-family:Menlo,'DejaVu Sans Mono',consolas,'Courier New',monospace\">ccs-amsterdam_coding_dh_org.csv\n",
       "</pre>\n"
      ],
      "text/plain": [
       "ccs-amsterdam_coding_dh_org.csv\n"
      ]
     },
     "metadata": {},
     "output_type": "display_data"
    },
    {
     "data": {
      "text/html": [
       "<pre style=\"white-space:pre;overflow-x:auto;line-height:normal;font-family:Menlo,'DejaVu Sans Mono',consolas,'Courier New',monospace\">uls-mad_coding_dh_org.csv\n",
       "</pre>\n"
      ],
      "text/plain": [
       "uls-mad_coding_dh_org.csv\n"
      ]
     },
     "metadata": {},
     "output_type": "display_data"
    },
    {
     "data": {
      "text/html": [
       "<pre style=\"white-space:pre;overflow-x:auto;line-height:normal;font-family:Menlo,'DejaVu Sans Mono',consolas,'Courier New',monospace\">Ultraschall_coding_dh_org.csv\n",
       "</pre>\n"
      ],
      "text/plain": [
       "Ultraschall_coding_dh_org.csv\n"
      ]
     },
     "metadata": {},
     "output_type": "display_data"
    },
    {
     "data": {
      "text/html": [
       "<pre style=\"white-space:pre;overflow-x:auto;line-height:normal;font-family:Menlo,'DejaVu Sans Mono',consolas,'Courier New',monospace\">educelab_coding_dh_org.csv\n",
       "</pre>\n"
      ],
      "text/plain": [
       "educelab_coding_dh_org.csv\n"
      ]
     },
     "metadata": {},
     "output_type": "display_data"
    },
    {
     "data": {
      "text/html": [
       "<pre style=\"white-space:pre;overflow-x:auto;line-height:normal;font-family:Menlo,'DejaVu Sans Mono',consolas,'Courier New',monospace\">sastra-deemed-to-be-university_coding_dh_org.csv\n",
       "</pre>\n"
      ],
      "text/plain": [
       "sastra-deemed-to-be-university_coding_dh_org.csv\n"
      ]
     },
     "metadata": {},
     "output_type": "display_data"
    },
    {
     "data": {
      "text/html": [
       "<pre style=\"white-space:pre;overflow-x:auto;line-height:normal;font-family:Menlo,'DejaVu Sans Mono',consolas,'Courier New',monospace\">rwengine_coding_dh_org.csv\n",
       "</pre>\n"
      ],
      "text/plain": [
       "rwengine_coding_dh_org.csv\n"
      ]
     },
     "metadata": {},
     "output_type": "display_data"
    },
    {
     "data": {
      "text/html": [
       "<pre style=\"white-space:pre;overflow-x:auto;line-height:normal;font-family:Menlo,'DejaVu Sans Mono',consolas,'Courier New',monospace\">KDDComplexNetworkAnalysis_coding_dh_org.csv\n",
       "</pre>\n"
      ],
      "text/plain": [
       "KDDComplexNetworkAnalysis_coding_dh_org.csv\n"
      ]
     },
     "metadata": {},
     "output_type": "display_data"
    },
    {
     "data": {
      "text/html": [
       "<pre style=\"white-space:pre;overflow-x:auto;line-height:normal;font-family:Menlo,'DejaVu Sans Mono',consolas,'Courier New',monospace\">digitalRosettaStoneProject_coding_dh_org.csv\n",
       "</pre>\n"
      ],
      "text/plain": [
       "digitalRosettaStoneProject_coding_dh_org.csv\n"
      ]
     },
     "metadata": {},
     "output_type": "display_data"
    },
    {
     "data": {
      "text/html": [
       "<pre style=\"white-space:pre;overflow-x:auto;line-height:normal;font-family:Menlo,'DejaVu Sans Mono',consolas,'Courier New',monospace\">Maphackathon_coding_dh_org.csv\n",
       "</pre>\n"
      ],
      "text/plain": [
       "Maphackathon_coding_dh_org.csv\n"
      ]
     },
     "metadata": {},
     "output_type": "display_data"
    },
    {
     "data": {
      "text/html": [
       "<pre style=\"white-space:pre;overflow-x:auto;line-height:normal;font-family:Menlo,'DejaVu Sans Mono',consolas,'Courier New',monospace\">ieg-dhr_coding_dh_org.csv\n",
       "</pre>\n"
      ],
      "text/plain": [
       "ieg-dhr_coding_dh_org.csv\n"
      ]
     },
     "metadata": {},
     "output_type": "display_data"
    },
    {
     "data": {
      "text/html": [
       "<pre style=\"white-space:pre;overflow-x:auto;line-height:normal;font-family:Menlo,'DejaVu Sans Mono',consolas,'Courier New',monospace\">elementary_coding_dh_org.csv\n",
       "</pre>\n"
      ],
      "text/plain": [
       "elementary_coding_dh_org.csv\n"
      ]
     },
     "metadata": {},
     "output_type": "display_data"
    },
    {
     "data": {
      "text/html": [
       "<pre style=\"white-space:pre;overflow-x:auto;line-height:normal;font-family:Menlo,'DejaVu Sans Mono',consolas,'Courier New',monospace\">CuratorialVoice_coding_dh_org.csv\n",
       "</pre>\n"
      ],
      "text/plain": [
       "CuratorialVoice_coding_dh_org.csv\n"
      ]
     },
     "metadata": {},
     "output_type": "display_data"
    },
    {
     "data": {
      "text/html": [
       "<pre style=\"white-space:pre;overflow-x:auto;line-height:normal;font-family:Menlo,'DejaVu Sans Mono',consolas,'Courier New',monospace\">dhsouthbend_coding_dh_org.csv\n",
       "</pre>\n"
      ],
      "text/plain": [
       "dhsouthbend_coding_dh_org.csv\n"
      ]
     },
     "metadata": {},
     "output_type": "display_data"
    },
    {
     "data": {
      "text/html": [
       "<pre style=\"white-space:pre;overflow-x:auto;line-height:normal;font-family:Menlo,'DejaVu Sans Mono',consolas,'Courier New',monospace\">grit-engine_coding_dh_org.csv\n",
       "</pre>\n"
      ],
      "text/plain": [
       "grit-engine_coding_dh_org.csv\n"
      ]
     },
     "metadata": {},
     "output_type": "display_data"
    },
    {
     "data": {
      "text/html": [
       "<pre style=\"white-space:pre;overflow-x:auto;line-height:normal;font-family:Menlo,'DejaVu Sans Mono',consolas,'Courier New',monospace\">NewsEye_coding_dh_org.csv\n",
       "</pre>\n"
      ],
      "text/plain": [
       "NewsEye_coding_dh_org.csv\n"
      ]
     },
     "metadata": {},
     "output_type": "display_data"
    },
    {
     "data": {
      "text/html": [
       "<pre style=\"white-space:pre;overflow-x:auto;line-height:normal;font-family:Menlo,'DejaVu Sans Mono',consolas,'Courier New',monospace\">OpenLogicProject_coding_dh_org.csv\n",
       "</pre>\n"
      ],
      "text/plain": [
       "OpenLogicProject_coding_dh_org.csv\n"
      ]
     },
     "metadata": {},
     "output_type": "display_data"
    },
    {
     "data": {
      "text/html": [
       "<pre style=\"white-space:pre;overflow-x:auto;line-height:normal;font-family:Menlo,'DejaVu Sans Mono',consolas,'Courier New',monospace\">eo2cube_coding_dh_org.csv\n",
       "</pre>\n"
      ],
      "text/plain": [
       "eo2cube_coding_dh_org.csv\n"
      ]
     },
     "metadata": {},
     "output_type": "display_data"
    },
    {
     "data": {
      "text/html": [
       "<pre style=\"white-space:pre;overflow-x:auto;line-height:normal;font-family:Menlo,'DejaVu Sans Mono',consolas,'Courier New',monospace\">opensourcecities_coding_dh_org.csv\n",
       "</pre>\n"
      ],
      "text/plain": [
       "opensourcecities_coding_dh_org.csv\n"
      ]
     },
     "metadata": {},
     "output_type": "display_data"
    },
    {
     "data": {
      "text/html": [
       "<pre style=\"white-space:pre;overflow-x:auto;line-height:normal;font-family:Menlo,'DejaVu Sans Mono',consolas,'Courier New',monospace\">castiron_coding_dh_org.csv\n",
       "</pre>\n"
      ],
      "text/plain": [
       "castiron_coding_dh_org.csv\n"
      ]
     },
     "metadata": {},
     "output_type": "display_data"
    },
    {
     "data": {
      "text/html": [
       "<pre style=\"white-space:pre;overflow-x:auto;line-height:normal;font-family:Menlo,'DejaVu Sans Mono',consolas,'Courier New',monospace\">anthu22_coding_dh_org.csv\n",
       "</pre>\n"
      ],
      "text/plain": [
       "anthu22_coding_dh_org.csv\n"
      ]
     },
     "metadata": {},
     "output_type": "display_data"
    },
    {
     "data": {
      "text/html": [
       "<pre style=\"white-space:pre;overflow-x:auto;line-height:normal;font-family:Menlo,'DejaVu Sans Mono',consolas,'Courier New',monospace\">IVFL-BOKU_coding_dh_org.csv\n",
       "</pre>\n"
      ],
      "text/plain": [
       "IVFL-BOKU_coding_dh_org.csv\n"
      ]
     },
     "metadata": {},
     "output_type": "display_data"
    },
    {
     "data": {
      "text/html": [
       "<pre style=\"white-space:pre;overflow-x:auto;line-height:normal;font-family:Menlo,'DejaVu Sans Mono',consolas,'Courier New',monospace\">vanda_coding_dh_org.csv\n",
       "</pre>\n"
      ],
      "text/plain": [
       "vanda_coding_dh_org.csv\n"
      ]
     },
     "metadata": {},
     "output_type": "display_data"
    },
    {
     "data": {
      "text/html": [
       "<pre style=\"white-space:pre;overflow-x:auto;line-height:normal;font-family:Menlo,'DejaVu Sans Mono',consolas,'Courier New',monospace\">ui-libraries_coding_dh_org.csv\n",
       "</pre>\n"
      ],
      "text/plain": [
       "ui-libraries_coding_dh_org.csv\n"
      ]
     },
     "metadata": {},
     "output_type": "display_data"
    },
    {
     "data": {
      "text/html": [
       "<pre style=\"white-space:pre;overflow-x:auto;line-height:normal;font-family:Menlo,'DejaVu Sans Mono',consolas,'Courier New',monospace\">QIDSOD_coding_dh_org.csv\n",
       "</pre>\n"
      ],
      "text/plain": [
       "QIDSOD_coding_dh_org.csv\n"
      ]
     },
     "metadata": {},
     "output_type": "display_data"
    },
    {
     "data": {
      "text/html": [
       "<pre style=\"white-space:pre;overflow-x:auto;line-height:normal;font-family:Menlo,'DejaVu Sans Mono',consolas,'Courier New',monospace\">acadsoc-bigdata_coding_dh_org.csv\n",
       "</pre>\n"
      ],
      "text/plain": [
       "acadsoc-bigdata_coding_dh_org.csv\n"
      ]
     },
     "metadata": {},
     "output_type": "display_data"
    },
    {
     "data": {
      "text/html": [
       "<pre style=\"white-space:pre;overflow-x:auto;line-height:normal;font-family:Menlo,'DejaVu Sans Mono',consolas,'Courier New',monospace\">tailwindlabs_coding_dh_org.csv\n",
       "</pre>\n"
      ],
      "text/plain": [
       "tailwindlabs_coding_dh_org.csv\n"
      ]
     },
     "metadata": {},
     "output_type": "display_data"
    },
    {
     "data": {
      "text/html": [
       "<pre style=\"white-space:pre;overflow-x:auto;line-height:normal;font-family:Menlo,'DejaVu Sans Mono',consolas,'Courier New',monospace\">webern-unibas-ch_coding_dh_org.csv\n",
       "</pre>\n"
      ],
      "text/plain": [
       "webern-unibas-ch_coding_dh_org.csv\n"
      ]
     },
     "metadata": {},
     "output_type": "display_data"
    },
    {
     "data": {
      "text/html": [
       "<pre style=\"white-space:pre;overflow-x:auto;line-height:normal;font-family:Menlo,'DejaVu Sans Mono',consolas,'Courier New',monospace\">eventoseroficial_coding_dh_org.csv\n",
       "</pre>\n"
      ],
      "text/plain": [
       "eventoseroficial_coding_dh_org.csv\n"
      ]
     },
     "metadata": {},
     "output_type": "display_data"
    },
    {
     "data": {
      "text/html": [
       "<pre style=\"white-space:pre;overflow-x:auto;line-height:normal;font-family:Menlo,'DejaVu Sans Mono',consolas,'Courier New',monospace\">Multepal_coding_dh_org.csv\n",
       "</pre>\n"
      ],
      "text/plain": [
       "Multepal_coding_dh_org.csv\n"
      ]
     },
     "metadata": {},
     "output_type": "display_data"
    },
    {
     "data": {
      "text/html": [
       "<pre style=\"white-space:pre;overflow-x:auto;line-height:normal;font-family:Menlo,'DejaVu Sans Mono',consolas,'Courier New',monospace\">unipv-larl_coding_dh_org.csv\n",
       "</pre>\n"
      ],
      "text/plain": [
       "unipv-larl_coding_dh_org.csv\n"
      ]
     },
     "metadata": {},
     "output_type": "display_data"
    },
    {
     "data": {
      "text/html": [
       "<pre style=\"white-space:pre;overflow-x:auto;line-height:normal;font-family:Menlo,'DejaVu Sans Mono',consolas,'Courier New',monospace\">CodeforHawaii_coding_dh_org.csv\n",
       "</pre>\n"
      ],
      "text/plain": [
       "CodeforHawaii_coding_dh_org.csv\n"
      ]
     },
     "metadata": {},
     "output_type": "display_data"
    },
    {
     "data": {
      "text/html": [
       "<pre style=\"white-space:pre;overflow-x:auto;line-height:normal;font-family:Menlo,'DejaVu Sans Mono',consolas,'Courier New',monospace\">openscriptures_coding_dh_org.csv\n",
       "</pre>\n"
      ],
      "text/plain": [
       "openscriptures_coding_dh_org.csv\n"
      ]
     },
     "metadata": {},
     "output_type": "display_data"
    },
    {
     "data": {
      "text/html": [
       "<pre style=\"white-space:pre;overflow-x:auto;line-height:normal;font-family:Menlo,'DejaVu Sans Mono',consolas,'Courier New',monospace\">shinsendev_coding_dh_org.csv\n",
       "</pre>\n"
      ],
      "text/plain": [
       "shinsendev_coding_dh_org.csv\n"
      ]
     },
     "metadata": {},
     "output_type": "display_data"
    },
    {
     "data": {
      "text/html": [
       "<pre style=\"white-space:pre;overflow-x:auto;line-height:normal;font-family:Menlo,'DejaVu Sans Mono',consolas,'Courier New',monospace\">opencollective_coding_dh_org.csv\n",
       "</pre>\n"
      ],
      "text/plain": [
       "opencollective_coding_dh_org.csv\n"
      ]
     },
     "metadata": {},
     "output_type": "display_data"
    },
    {
     "data": {
      "text/html": [
       "<pre style=\"white-space:pre;overflow-x:auto;line-height:normal;font-family:Menlo,'DejaVu Sans Mono',consolas,'Courier New',monospace\">hak5_coding_dh_org.csv\n",
       "</pre>\n"
      ],
      "text/plain": [
       "hak5_coding_dh_org.csv\n"
      ]
     },
     "metadata": {},
     "output_type": "display_data"
    },
    {
     "data": {
      "text/html": [
       "<pre style=\"white-space:pre;overflow-x:auto;line-height:normal;font-family:Menlo,'DejaVu Sans Mono',consolas,'Courier New',monospace\">kcutils_coding_dh_org.csv\n",
       "</pre>\n"
      ],
      "text/plain": [
       "kcutils_coding_dh_org.csv\n"
      ]
     },
     "metadata": {},
     "output_type": "display_data"
    },
    {
     "data": {
      "text/html": [
       "<pre style=\"white-space:pre;overflow-x:auto;line-height:normal;font-family:Menlo,'DejaVu Sans Mono',consolas,'Courier New',monospace\">perfectsense_coding_dh_org.csv\n",
       "</pre>\n"
      ],
      "text/plain": [
       "perfectsense_coding_dh_org.csv\n"
      ]
     },
     "metadata": {},
     "output_type": "display_data"
    },
    {
     "data": {
      "text/html": [
       "<pre style=\"white-space:pre;overflow-x:auto;line-height:normal;font-family:Menlo,'DejaVu Sans Mono',consolas,'Courier New',monospace\">ferdium_coding_dh_org.csv\n",
       "</pre>\n"
      ],
      "text/plain": [
       "ferdium_coding_dh_org.csv\n"
      ]
     },
     "metadata": {},
     "output_type": "display_data"
    },
    {
     "data": {
      "text/html": [
       "<pre style=\"white-space:pre;overflow-x:auto;line-height:normal;font-family:Menlo,'DejaVu Sans Mono',consolas,'Courier New',monospace\">esj-kantomaster_coding_dh_org.csv\n",
       "</pre>\n"
      ],
      "text/plain": [
       "esj-kantomaster_coding_dh_org.csv\n"
      ]
     },
     "metadata": {},
     "output_type": "display_data"
    },
    {
     "data": {
      "text/html": [
       "<pre style=\"white-space:pre;overflow-x:auto;line-height:normal;font-family:Menlo,'DejaVu Sans Mono',consolas,'Courier New',monospace\">AEB-labs_coding_dh_org.csv\n",
       "</pre>\n"
      ],
      "text/plain": [
       "AEB-labs_coding_dh_org.csv\n"
      ]
     },
     "metadata": {},
     "output_type": "display_data"
    },
    {
     "data": {
      "text/html": [
       "<pre style=\"white-space:pre;overflow-x:auto;line-height:normal;font-family:Menlo,'DejaVu Sans Mono',consolas,'Courier New',monospace\">xproc_coding_dh_org.csv\n",
       "</pre>\n"
      ],
      "text/plain": [
       "xproc_coding_dh_org.csv\n"
      ]
     },
     "metadata": {},
     "output_type": "display_data"
    },
    {
     "data": {
      "text/html": [
       "<pre style=\"white-space:pre;overflow-x:auto;line-height:normal;font-family:Menlo,'DejaVu Sans Mono',consolas,'Courier New',monospace\">nlp-cnu_coding_dh_org.csv\n",
       "</pre>\n"
      ],
      "text/plain": [
       "nlp-cnu_coding_dh_org.csv\n"
      ]
     },
     "metadata": {},
     "output_type": "display_data"
    },
    {
     "data": {
      "text/html": [
       "<pre style=\"white-space:pre;overflow-x:auto;line-height:normal;font-family:Menlo,'DejaVu Sans Mono',consolas,'Courier New',monospace\">swarmapytorch_coding_dh_org.csv\n",
       "</pre>\n"
      ],
      "text/plain": [
       "swarmapytorch_coding_dh_org.csv\n"
      ]
     },
     "metadata": {},
     "output_type": "display_data"
    },
    {
     "data": {
      "text/html": [
       "<pre style=\"white-space:pre;overflow-x:auto;line-height:normal;font-family:Menlo,'DejaVu Sans Mono',consolas,'Courier New',monospace\">AWMC_coding_dh_org.csv\n",
       "</pre>\n"
      ],
      "text/plain": [
       "AWMC_coding_dh_org.csv\n"
      ]
     },
     "metadata": {},
     "output_type": "display_data"
    },
    {
     "data": {
      "text/html": [
       "<pre style=\"white-space:pre;overflow-x:auto;line-height:normal;font-family:Menlo,'DejaVu Sans Mono',consolas,'Courier New',monospace\">ctp-archive_coding_dh_org.csv\n",
       "</pre>\n"
      ],
      "text/plain": [
       "ctp-archive_coding_dh_org.csv\n"
      ]
     },
     "metadata": {},
     "output_type": "display_data"
    },
    {
     "data": {
      "text/html": [
       "<pre style=\"white-space:pre;overflow-x:auto;line-height:normal;font-family:Menlo,'DejaVu Sans Mono',consolas,'Courier New',monospace\">rladies_coding_dh_org.csv\n",
       "</pre>\n"
      ],
      "text/plain": [
       "rladies_coding_dh_org.csv\n"
      ]
     },
     "metadata": {},
     "output_type": "display_data"
    },
    {
     "data": {
      "text/html": [
       "<pre style=\"white-space:pre;overflow-x:auto;line-height:normal;font-family:Menlo,'DejaVu Sans Mono',consolas,'Courier New',monospace\">sta199-<span style=\"color: #008080; text-decoration-color: #008080; font-weight: bold\">02</span>-fall2021_coding_dh_org.csv\n",
       "</pre>\n"
      ],
      "text/plain": [
       "sta199-\u001b[1;36m02\u001b[0m-fall2021_coding_dh_org.csv\n"
      ]
     },
     "metadata": {},
     "output_type": "display_data"
    },
    {
     "data": {
      "text/html": [
       "<pre style=\"white-space:pre;overflow-x:auto;line-height:normal;font-family:Menlo,'DejaVu Sans Mono',consolas,'Courier New',monospace\">mpilhlt_coding_dh_org.csv\n",
       "</pre>\n"
      ],
      "text/plain": [
       "mpilhlt_coding_dh_org.csv\n"
      ]
     },
     "metadata": {},
     "output_type": "display_data"
    },
    {
     "data": {
      "text/html": [
       "<pre style=\"white-space:pre;overflow-x:auto;line-height:normal;font-family:Menlo,'DejaVu Sans Mono',consolas,'Courier New',monospace\">PreLease_coding_dh_org.csv\n",
       "</pre>\n"
      ],
      "text/plain": [
       "PreLease_coding_dh_org.csv\n"
      ]
     },
     "metadata": {},
     "output_type": "display_data"
    },
    {
     "data": {
      "text/html": [
       "<pre style=\"white-space:pre;overflow-x:auto;line-height:normal;font-family:Menlo,'DejaVu Sans Mono',consolas,'Courier New',monospace\">compeco_coding_dh_org.csv\n",
       "</pre>\n"
      ],
      "text/plain": [
       "compeco_coding_dh_org.csv\n"
      ]
     },
     "metadata": {},
     "output_type": "display_data"
    },
    {
     "data": {
      "text/html": [
       "<pre style=\"white-space:pre;overflow-x:auto;line-height:normal;font-family:Menlo,'DejaVu Sans Mono',consolas,'Courier New',monospace\">TNO-MPC_coding_dh_org.csv\n",
       "</pre>\n"
      ],
      "text/plain": [
       "TNO-MPC_coding_dh_org.csv\n"
      ]
     },
     "metadata": {},
     "output_type": "display_data"
    },
    {
     "data": {
      "text/html": [
       "<pre style=\"white-space:pre;overflow-x:auto;line-height:normal;font-family:Menlo,'DejaVu Sans Mono',consolas,'Courier New',monospace\">EmoryDHLab_coding_dh_org.csv\n",
       "</pre>\n"
      ],
      "text/plain": [
       "EmoryDHLab_coding_dh_org.csv\n"
      ]
     },
     "metadata": {},
     "output_type": "display_data"
    },
    {
     "data": {
      "text/html": [
       "<pre style=\"white-space:pre;overflow-x:auto;line-height:normal;font-family:Menlo,'DejaVu Sans Mono',consolas,'Courier New',monospace\">AlgoCompSynth_coding_dh_org.csv\n",
       "</pre>\n"
      ],
      "text/plain": [
       "AlgoCompSynth_coding_dh_org.csv\n"
      ]
     },
     "metadata": {},
     "output_type": "display_data"
    },
    {
     "data": {
      "text/html": [
       "<pre style=\"white-space:pre;overflow-x:auto;line-height:normal;font-family:Menlo,'DejaVu Sans Mono',consolas,'Courier New',monospace\">translationattached_coding_dh_org.csv\n",
       "</pre>\n"
      ],
      "text/plain": [
       "translationattached_coding_dh_org.csv\n"
      ]
     },
     "metadata": {},
     "output_type": "display_data"
    },
    {
     "data": {
      "text/html": [
       "<pre style=\"white-space:pre;overflow-x:auto;line-height:normal;font-family:Menlo,'DejaVu Sans Mono',consolas,'Courier New',monospace\">r-classes_coding_dh_org.csv\n",
       "</pre>\n"
      ],
      "text/plain": [
       "r-classes_coding_dh_org.csv\n"
      ]
     },
     "metadata": {},
     "output_type": "display_data"
    },
    {
     "data": {
      "text/html": [
       "<pre style=\"white-space:pre;overflow-x:auto;line-height:normal;font-family:Menlo,'DejaVu Sans Mono',consolas,'Courier New',monospace\">phpmyadmin_coding_dh_org.csv\n",
       "</pre>\n"
      ],
      "text/plain": [
       "phpmyadmin_coding_dh_org.csv\n"
      ]
     },
     "metadata": {},
     "output_type": "display_data"
    },
    {
     "data": {
      "text/html": [
       "<pre style=\"white-space:pre;overflow-x:auto;line-height:normal;font-family:Menlo,'DejaVu Sans Mono',consolas,'Courier New',monospace\">pdxrlang_coding_dh_org.csv\n",
       "</pre>\n"
      ],
      "text/plain": [
       "pdxrlang_coding_dh_org.csv\n"
      ]
     },
     "metadata": {},
     "output_type": "display_data"
    },
    {
     "data": {
      "text/html": [
       "<pre style=\"white-space:pre;overflow-x:auto;line-height:normal;font-family:Menlo,'DejaVu Sans Mono',consolas,'Courier New',monospace\">hello-ulises_coding_dh_org.csv\n",
       "</pre>\n"
      ],
      "text/plain": [
       "hello-ulises_coding_dh_org.csv\n"
      ]
     },
     "metadata": {},
     "output_type": "display_data"
    },
    {
     "data": {
      "text/html": [
       "<pre style=\"white-space:pre;overflow-x:auto;line-height:normal;font-family:Menlo,'DejaVu Sans Mono',consolas,'Courier New',monospace\">sfu-discourse-lab_coding_dh_org.csv\n",
       "</pre>\n"
      ],
      "text/plain": [
       "sfu-discourse-lab_coding_dh_org.csv\n"
      ]
     },
     "metadata": {},
     "output_type": "display_data"
    },
    {
     "data": {
      "text/html": [
       "<pre style=\"white-space:pre;overflow-x:auto;line-height:normal;font-family:Menlo,'DejaVu Sans Mono',consolas,'Courier New',monospace\">DCLP_coding_dh_org.csv\n",
       "</pre>\n"
      ],
      "text/plain": [
       "DCLP_coding_dh_org.csv\n"
      ]
     },
     "metadata": {},
     "output_type": "display_data"
    },
    {
     "data": {
      "text/html": [
       "<pre style=\"white-space:pre;overflow-x:auto;line-height:normal;font-family:Menlo,'DejaVu Sans Mono',consolas,'Courier New',monospace\">ash-dieback-crowdsource_coding_dh_org.csv\n",
       "</pre>\n"
      ],
      "text/plain": [
       "ash-dieback-crowdsource_coding_dh_org.csv\n"
      ]
     },
     "metadata": {},
     "output_type": "display_data"
    },
    {
     "data": {
      "text/html": [
       "<pre style=\"white-space:pre;overflow-x:auto;line-height:normal;font-family:Menlo,'DejaVu Sans Mono',consolas,'Courier New',monospace\">UW-Geoarchaeology-Lab_coding_dh_org.csv\n",
       "</pre>\n"
      ],
      "text/plain": [
       "UW-Geoarchaeology-Lab_coding_dh_org.csv\n"
      ]
     },
     "metadata": {},
     "output_type": "display_data"
    },
    {
     "data": {
      "text/html": [
       "<pre style=\"white-space:pre;overflow-x:auto;line-height:normal;font-family:Menlo,'DejaVu Sans Mono',consolas,'Courier New',monospace\">Isleward-Addon-Dev-Group_coding_dh_org.csv\n",
       "</pre>\n"
      ],
      "text/plain": [
       "Isleward-Addon-Dev-Group_coding_dh_org.csv\n"
      ]
     },
     "metadata": {},
     "output_type": "display_data"
    },
    {
     "data": {
      "text/html": [
       "<pre style=\"white-space:pre;overflow-x:auto;line-height:normal;font-family:Menlo,'DejaVu Sans Mono',consolas,'Courier New',monospace\">openskope_coding_dh_org.csv\n",
       "</pre>\n"
      ],
      "text/plain": [
       "openskope_coding_dh_org.csv\n"
      ]
     },
     "metadata": {},
     "output_type": "display_data"
    },
    {
     "data": {
      "text/html": [
       "<pre style=\"white-space:pre;overflow-x:auto;line-height:normal;font-family:Menlo,'DejaVu Sans Mono',consolas,'Courier New',monospace\">cuspaceflight_coding_dh_org.csv\n",
       "</pre>\n"
      ],
      "text/plain": [
       "cuspaceflight_coding_dh_org.csv\n"
      ]
     },
     "metadata": {},
     "output_type": "display_data"
    },
    {
     "data": {
      "text/html": [
       "<pre style=\"white-space:pre;overflow-x:auto;line-height:normal;font-family:Menlo,'DejaVu Sans Mono',consolas,'Courier New',monospace\">cellf_coding_dh_org.csv\n",
       "</pre>\n"
      ],
      "text/plain": [
       "cellf_coding_dh_org.csv\n"
      ]
     },
     "metadata": {},
     "output_type": "display_data"
    },
    {
     "data": {
      "text/html": [
       "<pre style=\"white-space:pre;overflow-x:auto;line-height:normal;font-family:Menlo,'DejaVu Sans Mono',consolas,'Courier New',monospace\">cltk_coding_dh_org.csv\n",
       "</pre>\n"
      ],
      "text/plain": [
       "cltk_coding_dh_org.csv\n"
      ]
     },
     "metadata": {},
     "output_type": "display_data"
    },
    {
     "data": {
      "text/html": [
       "<pre style=\"white-space:pre;overflow-x:auto;line-height:normal;font-family:Menlo,'DejaVu Sans Mono',consolas,'Courier New',monospace\">ZimmermanLab_coding_dh_org.csv\n",
       "</pre>\n"
      ],
      "text/plain": [
       "ZimmermanLab_coding_dh_org.csv\n"
      ]
     },
     "metadata": {},
     "output_type": "display_data"
    },
    {
     "data": {
      "text/html": [
       "<pre style=\"white-space:pre;overflow-x:auto;line-height:normal;font-family:Menlo,'DejaVu Sans Mono',consolas,'Courier New',monospace\">FrontEndFoxes_coding_dh_org.csv\n",
       "</pre>\n"
      ],
      "text/plain": [
       "FrontEndFoxes_coding_dh_org.csv\n"
      ]
     },
     "metadata": {},
     "output_type": "display_data"
    },
    {
     "data": {
      "text/html": [
       "<pre style=\"white-space:pre;overflow-x:auto;line-height:normal;font-family:Menlo,'DejaVu Sans Mono',consolas,'Courier New',monospace\">tryphotino_coding_dh_org.csv\n",
       "</pre>\n"
      ],
      "text/plain": [
       "tryphotino_coding_dh_org.csv\n"
      ]
     },
     "metadata": {},
     "output_type": "display_data"
    },
    {
     "data": {
      "text/html": [
       "<pre style=\"white-space:pre;overflow-x:auto;line-height:normal;font-family:Menlo,'DejaVu Sans Mono',consolas,'Courier New',monospace\">savethechildrenhackathon_coding_dh_org.csv\n",
       "</pre>\n"
      ],
      "text/plain": [
       "savethechildrenhackathon_coding_dh_org.csv\n"
      ]
     },
     "metadata": {},
     "output_type": "display_data"
    },
    {
     "data": {
      "text/html": [
       "<pre style=\"white-space:pre;overflow-x:auto;line-height:normal;font-family:Menlo,'DejaVu Sans Mono',consolas,'Courier New',monospace\">recogito_coding_dh_org.csv\n",
       "</pre>\n"
      ],
      "text/plain": [
       "recogito_coding_dh_org.csv\n"
      ]
     },
     "metadata": {},
     "output_type": "display_data"
    },
    {
     "data": {
      "text/html": [
       "<pre style=\"white-space:pre;overflow-x:auto;line-height:normal;font-family:Menlo,'DejaVu Sans Mono',consolas,'Courier New',monospace\">WeAreVisualizers_coding_dh_org.csv\n",
       "</pre>\n"
      ],
      "text/plain": [
       "WeAreVisualizers_coding_dh_org.csv\n"
      ]
     },
     "metadata": {},
     "output_type": "display_data"
    },
    {
     "data": {
      "text/html": [
       "<pre style=\"white-space:pre;overflow-x:auto;line-height:normal;font-family:Menlo,'DejaVu Sans Mono',consolas,'Courier New',monospace\">sonar-idh_coding_dh_org.csv\n",
       "</pre>\n"
      ],
      "text/plain": [
       "sonar-idh_coding_dh_org.csv\n"
      ]
     },
     "metadata": {},
     "output_type": "display_data"
    },
    {
     "data": {
      "text/html": [
       "<pre style=\"white-space:pre;overflow-x:auto;line-height:normal;font-family:Menlo,'DejaVu Sans Mono',consolas,'Courier New',monospace\">jupyterhub-itmo_coding_dh_org.csv\n",
       "</pre>\n"
      ],
      "text/plain": [
       "jupyterhub-itmo_coding_dh_org.csv\n"
      ]
     },
     "metadata": {},
     "output_type": "display_data"
    },
    {
     "data": {
      "text/html": [
       "<pre style=\"white-space:pre;overflow-x:auto;line-height:normal;font-family:Menlo,'DejaVu Sans Mono',consolas,'Courier New',monospace\">FDH2_coding_dh_org.csv\n",
       "</pre>\n"
      ],
      "text/plain": [
       "FDH2_coding_dh_org.csv\n"
      ]
     },
     "metadata": {},
     "output_type": "display_data"
    },
    {
     "data": {
      "text/html": [
       "<pre style=\"white-space:pre;overflow-x:auto;line-height:normal;font-family:Menlo,'DejaVu Sans Mono',consolas,'Courier New',monospace\">EH-Collaborative-Network_coding_dh_org.csv\n",
       "</pre>\n"
      ],
      "text/plain": [
       "EH-Collaborative-Network_coding_dh_org.csv\n"
      ]
     },
     "metadata": {},
     "output_type": "display_data"
    },
    {
     "data": {
      "text/html": [
       "<pre style=\"white-space:pre;overflow-x:auto;line-height:normal;font-family:Menlo,'DejaVu Sans Mono',consolas,'Courier New',monospace\">cligs_coding_dh_org.csv\n",
       "</pre>\n"
      ],
      "text/plain": [
       "cligs_coding_dh_org.csv\n"
      ]
     },
     "metadata": {},
     "output_type": "display_data"
    },
    {
     "data": {
      "text/html": [
       "<pre style=\"white-space:pre;overflow-x:auto;line-height:normal;font-family:Menlo,'DejaVu Sans Mono',consolas,'Courier New',monospace\">hype-usp_coding_dh_org.csv\n",
       "</pre>\n"
      ],
      "text/plain": [
       "hype-usp_coding_dh_org.csv\n"
      ]
     },
     "metadata": {},
     "output_type": "display_data"
    },
    {
     "data": {
      "text/html": [
       "<pre style=\"white-space:pre;overflow-x:auto;line-height:normal;font-family:Menlo,'DejaVu Sans Mono',consolas,'Courier New',monospace\">DigitalGeographyLab_coding_dh_org.csv\n",
       "</pre>\n"
      ],
      "text/plain": [
       "DigitalGeographyLab_coding_dh_org.csv\n"
      ]
     },
     "metadata": {},
     "output_type": "display_data"
    },
    {
     "data": {
      "text/html": [
       "<pre style=\"white-space:pre;overflow-x:auto;line-height:normal;font-family:Menlo,'DejaVu Sans Mono',consolas,'Courier New',monospace\">GEODE-project_coding_dh_org.csv\n",
       "</pre>\n"
      ],
      "text/plain": [
       "GEODE-project_coding_dh_org.csv\n"
      ]
     },
     "metadata": {},
     "output_type": "display_data"
    },
    {
     "data": {
      "text/html": [
       "<pre style=\"white-space:pre;overflow-x:auto;line-height:normal;font-family:Menlo,'DejaVu Sans Mono',consolas,'Courier New',monospace\">numerique-gouv_coding_dh_org.csv\n",
       "</pre>\n"
      ],
      "text/plain": [
       "numerique-gouv_coding_dh_org.csv\n"
      ]
     },
     "metadata": {},
     "output_type": "display_data"
    },
    {
     "data": {
      "text/html": [
       "<pre style=\"white-space:pre;overflow-x:auto;line-height:normal;font-family:Menlo,'DejaVu Sans Mono',consolas,'Courier New',monospace\">Vizzuality_coding_dh_org.csv\n",
       "</pre>\n"
      ],
      "text/plain": [
       "Vizzuality_coding_dh_org.csv\n"
      ]
     },
     "metadata": {},
     "output_type": "display_data"
    },
    {
     "data": {
      "text/html": [
       "<pre style=\"white-space:pre;overflow-x:auto;line-height:normal;font-family:Menlo,'DejaVu Sans Mono',consolas,'Courier New',monospace\">ina-foss_coding_dh_org.csv\n",
       "</pre>\n"
      ],
      "text/plain": [
       "ina-foss_coding_dh_org.csv\n"
      ]
     },
     "metadata": {},
     "output_type": "display_data"
    },
    {
     "data": {
      "text/html": [
       "<pre style=\"white-space:pre;overflow-x:auto;line-height:normal;font-family:Menlo,'DejaVu Sans Mono',consolas,'Courier New',monospace\">symbotrans_coding_dh_org.csv\n",
       "</pre>\n"
      ],
      "text/plain": [
       "symbotrans_coding_dh_org.csv\n"
      ]
     },
     "metadata": {},
     "output_type": "display_data"
    },
    {
     "data": {
      "text/html": [
       "<pre style=\"white-space:pre;overflow-x:auto;line-height:normal;font-family:Menlo,'DejaVu Sans Mono',consolas,'Courier New',monospace\">2AM-hack_coding_dh_org.csv\n",
       "</pre>\n"
      ],
      "text/plain": [
       "2AM-hack_coding_dh_org.csv\n"
      ]
     },
     "metadata": {},
     "output_type": "display_data"
    },
    {
     "data": {
      "text/html": [
       "<pre style=\"white-space:pre;overflow-x:auto;line-height:normal;font-family:Menlo,'DejaVu Sans Mono',consolas,'Courier New',monospace\">ScienceHackDayPDX_coding_dh_org.csv\n",
       "</pre>\n"
      ],
      "text/plain": [
       "ScienceHackDayPDX_coding_dh_org.csv\n"
      ]
     },
     "metadata": {},
     "output_type": "display_data"
    },
    {
     "data": {
      "text/html": [
       "<pre style=\"white-space:pre;overflow-x:auto;line-height:normal;font-family:Menlo,'DejaVu Sans Mono',consolas,'Courier New',monospace\">imaginerio_coding_dh_org.csv\n",
       "</pre>\n"
      ],
      "text/plain": [
       "imaginerio_coding_dh_org.csv\n"
      ]
     },
     "metadata": {},
     "output_type": "display_data"
    },
    {
     "data": {
      "text/html": [
       "<pre style=\"white-space:pre;overflow-x:auto;line-height:normal;font-family:Menlo,'DejaVu Sans Mono',consolas,'Courier New',monospace\">DFHG-project_coding_dh_org.csv\n",
       "</pre>\n"
      ],
      "text/plain": [
       "DFHG-project_coding_dh_org.csv\n"
      ]
     },
     "metadata": {},
     "output_type": "display_data"
    },
    {
     "data": {
      "text/html": [
       "<pre style=\"white-space:pre;overflow-x:auto;line-height:normal;font-family:Menlo,'DejaVu Sans Mono',consolas,'Courier New',monospace\">slsfi_coding_dh_org.csv\n",
       "</pre>\n"
      ],
      "text/plain": [
       "slsfi_coding_dh_org.csv\n"
      ]
     },
     "metadata": {},
     "output_type": "display_data"
    },
    {
     "data": {
      "text/html": [
       "<pre style=\"white-space:pre;overflow-x:auto;line-height:normal;font-family:Menlo,'DejaVu Sans Mono',consolas,'Courier New',monospace\">processing_coding_dh_org.csv\n",
       "</pre>\n"
      ],
      "text/plain": [
       "processing_coding_dh_org.csv\n"
      ]
     },
     "metadata": {},
     "output_type": "display_data"
    },
    {
     "data": {
      "text/html": [
       "<pre style=\"white-space:pre;overflow-x:auto;line-height:normal;font-family:Menlo,'DejaVu Sans Mono',consolas,'Courier New',monospace\">GamesCrafters_coding_dh_org.csv\n",
       "</pre>\n"
      ],
      "text/plain": [
       "GamesCrafters_coding_dh_org.csv\n"
      ]
     },
     "metadata": {},
     "output_type": "display_data"
    },
    {
     "data": {
      "text/html": [
       "<pre style=\"white-space:pre;overflow-x:auto;line-height:normal;font-family:Menlo,'DejaVu Sans Mono',consolas,'Courier New',monospace\">openhatch_coding_dh_org.csv\n",
       "</pre>\n"
      ],
      "text/plain": [
       "openhatch_coding_dh_org.csv\n"
      ]
     },
     "metadata": {},
     "output_type": "display_data"
    },
    {
     "data": {
      "text/html": [
       "<pre style=\"white-space:pre;overflow-x:auto;line-height:normal;font-family:Menlo,'DejaVu Sans Mono',consolas,'Courier New',monospace\">boltdesignsystem_coding_dh_org.csv\n",
       "</pre>\n"
      ],
      "text/plain": [
       "boltdesignsystem_coding_dh_org.csv\n"
      ]
     },
     "metadata": {},
     "output_type": "display_data"
    },
    {
     "data": {
      "text/html": [
       "<pre style=\"white-space:pre;overflow-x:auto;line-height:normal;font-family:Menlo,'DejaVu Sans Mono',consolas,'Courier New',monospace\">lanaflon-cda2_coding_dh_org.csv\n",
       "</pre>\n"
      ],
      "text/plain": [
       "lanaflon-cda2_coding_dh_org.csv\n"
      ]
     },
     "metadata": {},
     "output_type": "display_data"
    },
    {
     "data": {
      "text/html": [
       "<pre style=\"white-space:pre;overflow-x:auto;line-height:normal;font-family:Menlo,'DejaVu Sans Mono',consolas,'Courier New',monospace\">InvasionBiologyHypotheses_coding_dh_org.csv\n",
       "</pre>\n"
      ],
      "text/plain": [
       "InvasionBiologyHypotheses_coding_dh_org.csv\n"
      ]
     },
     "metadata": {},
     "output_type": "display_data"
    },
    {
     "data": {
      "text/html": [
       "<pre style=\"white-space:pre;overflow-x:auto;line-height:normal;font-family:Menlo,'DejaVu Sans Mono',consolas,'Courier New',monospace\">DG-CNECT_coding_dh_org.csv\n",
       "</pre>\n"
      ],
      "text/plain": [
       "DG-CNECT_coding_dh_org.csv\n"
      ]
     },
     "metadata": {},
     "output_type": "display_data"
    },
    {
     "data": {
      "text/html": [
       "<pre style=\"white-space:pre;overflow-x:auto;line-height:normal;font-family:Menlo,'DejaVu Sans Mono',consolas,'Courier New',monospace\">quanteda_coding_dh_org.csv\n",
       "</pre>\n"
      ],
      "text/plain": [
       "quanteda_coding_dh_org.csv\n"
      ]
     },
     "metadata": {},
     "output_type": "display_data"
    },
    {
     "data": {
      "text/html": [
       "<pre style=\"white-space:pre;overflow-x:auto;line-height:normal;font-family:Menlo,'DejaVu Sans Mono',consolas,'Courier New',monospace\">Chinese-Monuments-WG_coding_dh_org.csv\n",
       "</pre>\n"
      ],
      "text/plain": [
       "Chinese-Monuments-WG_coding_dh_org.csv\n"
      ]
     },
     "metadata": {},
     "output_type": "display_data"
    },
    {
     "data": {
      "text/html": [
       "<pre style=\"white-space:pre;overflow-x:auto;line-height:normal;font-family:Menlo,'DejaVu Sans Mono',consolas,'Courier New',monospace\">Coruja-Digital_coding_dh_org.csv\n",
       "</pre>\n"
      ],
      "text/plain": [
       "Coruja-Digital_coding_dh_org.csv\n"
      ]
     },
     "metadata": {},
     "output_type": "display_data"
    },
    {
     "data": {
      "text/html": [
       "<pre style=\"white-space:pre;overflow-x:auto;line-height:normal;font-family:Menlo,'DejaVu Sans Mono',consolas,'Courier New',monospace\">operator-framework_coding_dh_org.csv\n",
       "</pre>\n"
      ],
      "text/plain": [
       "operator-framework_coding_dh_org.csv\n"
      ]
     },
     "metadata": {},
     "output_type": "display_data"
    },
    {
     "data": {
      "text/html": [
       "<pre style=\"white-space:pre;overflow-x:auto;line-height:normal;font-family:Menlo,'DejaVu Sans Mono',consolas,'Courier New',monospace\">UKPLab_coding_dh_org.csv\n",
       "</pre>\n"
      ],
      "text/plain": [
       "UKPLab_coding_dh_org.csv\n"
      ]
     },
     "metadata": {},
     "output_type": "display_data"
    },
    {
     "data": {
      "text/html": [
       "<pre style=\"white-space:pre;overflow-x:auto;line-height:normal;font-family:Menlo,'DejaVu Sans Mono',consolas,'Courier New',monospace\">OPERA-Editions_coding_dh_org.csv\n",
       "</pre>\n"
      ],
      "text/plain": [
       "OPERA-Editions_coding_dh_org.csv\n"
      ]
     },
     "metadata": {},
     "output_type": "display_data"
    },
    {
     "data": {
      "text/html": [
       "<pre style=\"white-space:pre;overflow-x:auto;line-height:normal;font-family:Menlo,'DejaVu Sans Mono',consolas,'Courier New',monospace\">Depart-de-Sentier_coding_dh_org.csv\n",
       "</pre>\n"
      ],
      "text/plain": [
       "Depart-de-Sentier_coding_dh_org.csv\n"
      ]
     },
     "metadata": {},
     "output_type": "display_data"
    },
    {
     "data": {
      "text/html": [
       "<pre style=\"white-space:pre;overflow-x:auto;line-height:normal;font-family:Menlo,'DejaVu Sans Mono',consolas,'Courier New',monospace\">peerlibrary_coding_dh_org.csv\n",
       "</pre>\n"
      ],
      "text/plain": [
       "peerlibrary_coding_dh_org.csv\n"
      ]
     },
     "metadata": {},
     "output_type": "display_data"
    },
    {
     "data": {
      "text/html": [
       "<pre style=\"white-space:pre;overflow-x:auto;line-height:normal;font-family:Menlo,'DejaVu Sans Mono',consolas,'Courier New',monospace\">openjournals_coding_dh_org.csv\n",
       "</pre>\n"
      ],
      "text/plain": [
       "openjournals_coding_dh_org.csv\n"
      ]
     },
     "metadata": {},
     "output_type": "display_data"
    },
    {
     "data": {
      "text/html": [
       "<pre style=\"white-space:pre;overflow-x:auto;line-height:normal;font-family:Menlo,'DejaVu Sans Mono',consolas,'Courier New',monospace\">SSHOC_coding_dh_org.csv\n",
       "</pre>\n"
      ],
      "text/plain": [
       "SSHOC_coding_dh_org.csv\n"
      ]
     },
     "metadata": {},
     "output_type": "display_data"
    },
    {
     "data": {
      "text/html": [
       "<pre style=\"white-space:pre;overflow-x:auto;line-height:normal;font-family:Menlo,'DejaVu Sans Mono',consolas,'Courier New',monospace\">uh-hssh_coding_dh_org.csv\n",
       "</pre>\n"
      ],
      "text/plain": [
       "uh-hssh_coding_dh_org.csv\n"
      ]
     },
     "metadata": {},
     "output_type": "display_data"
    },
    {
     "data": {
      "text/html": [
       "<pre style=\"white-space:pre;overflow-x:auto;line-height:normal;font-family:Menlo,'DejaVu Sans Mono',consolas,'Courier New',monospace\">judaicalink_coding_dh_org.csv\n",
       "</pre>\n"
      ],
      "text/plain": [
       "judaicalink_coding_dh_org.csv\n"
      ]
     },
     "metadata": {},
     "output_type": "display_data"
    },
    {
     "data": {
      "text/html": [
       "<pre style=\"white-space:pre;overflow-x:auto;line-height:normal;font-family:Menlo,'DejaVu Sans Mono',consolas,'Courier New',monospace\">OpenGenus_coding_dh_org.csv\n",
       "</pre>\n"
      ],
      "text/plain": [
       "OpenGenus_coding_dh_org.csv\n"
      ]
     },
     "metadata": {},
     "output_type": "display_data"
    },
    {
     "data": {
      "text/html": [
       "<pre style=\"white-space:pre;overflow-x:auto;line-height:normal;font-family:Menlo,'DejaVu Sans Mono',consolas,'Courier New',monospace\">digitalottoman_coding_dh_org.csv\n",
       "</pre>\n"
      ],
      "text/plain": [
       "digitalottoman_coding_dh_org.csv\n"
      ]
     },
     "metadata": {},
     "output_type": "display_data"
    },
    {
     "data": {
      "text/html": [
       "<pre style=\"white-space:pre;overflow-x:auto;line-height:normal;font-family:Menlo,'DejaVu Sans Mono',consolas,'Courier New',monospace\">dini-ag-kim_coding_dh_org.csv\n",
       "</pre>\n"
      ],
      "text/plain": [
       "dini-ag-kim_coding_dh_org.csv\n"
      ]
     },
     "metadata": {},
     "output_type": "display_data"
    },
    {
     "data": {
      "text/html": [
       "<pre style=\"white-space:pre;overflow-x:auto;line-height:normal;font-family:Menlo,'DejaVu Sans Mono',consolas,'Courier New',monospace\">music-encoding_coding_dh_org.csv\n",
       "</pre>\n"
      ],
      "text/plain": [
       "music-encoding_coding_dh_org.csv\n"
      ]
     },
     "metadata": {},
     "output_type": "display_data"
    },
    {
     "data": {
      "text/html": [
       "<pre style=\"white-space:pre;overflow-x:auto;line-height:normal;font-family:Menlo,'DejaVu Sans Mono',consolas,'Courier New',monospace\">Antonomaz_coding_dh_org.csv\n",
       "</pre>\n"
      ],
      "text/plain": [
       "Antonomaz_coding_dh_org.csv\n"
      ]
     },
     "metadata": {},
     "output_type": "display_data"
    },
    {
     "data": {
      "text/html": [
       "<pre style=\"white-space:pre;overflow-x:auto;line-height:normal;font-family:Menlo,'DejaVu Sans Mono',consolas,'Courier New',monospace\">digitalinfrastructurefund_coding_dh_org.csv\n",
       "</pre>\n"
      ],
      "text/plain": [
       "digitalinfrastructurefund_coding_dh_org.csv\n"
      ]
     },
     "metadata": {},
     "output_type": "display_data"
    },
    {
     "data": {
      "text/html": [
       "<pre style=\"white-space:pre;overflow-x:auto;line-height:normal;font-family:Menlo,'DejaVu Sans Mono',consolas,'Courier New',monospace\">npm-dom_coding_dh_org.csv\n",
       "</pre>\n"
      ],
      "text/plain": [
       "npm-dom_coding_dh_org.csv\n"
      ]
     },
     "metadata": {},
     "output_type": "display_data"
    },
    {
     "data": {
      "text/html": [
       "<pre style=\"white-space:pre;overflow-x:auto;line-height:normal;font-family:Menlo,'DejaVu Sans Mono',consolas,'Courier New',monospace\">anu-digital-humanities-research-lab_coding_dh_org.csv\n",
       "</pre>\n"
      ],
      "text/plain": [
       "anu-digital-humanities-research-lab_coding_dh_org.csv\n"
      ]
     },
     "metadata": {},
     "output_type": "display_data"
    },
    {
     "data": {
      "text/html": [
       "<pre style=\"white-space:pre;overflow-x:auto;line-height:normal;font-family:Menlo,'DejaVu Sans Mono',consolas,'Courier New',monospace\">KlassikStiftungWeimar_coding_dh_org.csv\n",
       "</pre>\n"
      ],
      "text/plain": [
       "KlassikStiftungWeimar_coding_dh_org.csv\n"
      ]
     },
     "metadata": {},
     "output_type": "display_data"
    },
    {
     "data": {
      "text/html": [
       "<pre style=\"white-space:pre;overflow-x:auto;line-height:normal;font-family:Menlo,'DejaVu Sans Mono',consolas,'Courier New',monospace\">higlass_coding_dh_org.csv\n",
       "</pre>\n"
      ],
      "text/plain": [
       "higlass_coding_dh_org.csv\n"
      ]
     },
     "metadata": {},
     "output_type": "display_data"
    },
    {
     "data": {
      "text/html": [
       "<pre style=\"white-space:pre;overflow-x:auto;line-height:normal;font-family:Menlo,'DejaVu Sans Mono',consolas,'Courier New',monospace\">opencultureconsulting_coding_dh_org.csv\n",
       "</pre>\n"
      ],
      "text/plain": [
       "opencultureconsulting_coding_dh_org.csv\n"
      ]
     },
     "metadata": {},
     "output_type": "display_data"
    },
    {
     "data": {
      "text/html": [
       "<pre style=\"white-space:pre;overflow-x:auto;line-height:normal;font-family:Menlo,'DejaVu Sans Mono',consolas,'Courier New',monospace\">webanno_coding_dh_org.csv\n",
       "</pre>\n"
      ],
      "text/plain": [
       "webanno_coding_dh_org.csv\n"
      ]
     },
     "metadata": {},
     "output_type": "display_data"
    },
    {
     "data": {
      "text/html": [
       "<pre style=\"white-space:pre;overflow-x:auto;line-height:normal;font-family:Menlo,'DejaVu Sans Mono',consolas,'Courier New',monospace\">ViralTexts_coding_dh_org.csv\n",
       "</pre>\n"
      ],
      "text/plain": [
       "ViralTexts_coding_dh_org.csv\n"
      ]
     },
     "metadata": {},
     "output_type": "display_data"
    },
    {
     "data": {
      "text/html": [
       "<pre style=\"white-space:pre;overflow-x:auto;line-height:normal;font-family:Menlo,'DejaVu Sans Mono',consolas,'Courier New',monospace\">ror-community_coding_dh_org.csv\n",
       "</pre>\n"
      ],
      "text/plain": [
       "ror-community_coding_dh_org.csv\n"
      ]
     },
     "metadata": {},
     "output_type": "display_data"
    },
    {
     "data": {
      "text/html": [
       "<pre style=\"white-space:pre;overflow-x:auto;line-height:normal;font-family:Menlo,'DejaVu Sans Mono',consolas,'Courier New',monospace\">gdsc-sastra_coding_dh_org.csv\n",
       "</pre>\n"
      ],
      "text/plain": [
       "gdsc-sastra_coding_dh_org.csv\n"
      ]
     },
     "metadata": {},
     "output_type": "display_data"
    },
    {
     "data": {
      "text/html": [
       "<pre style=\"white-space:pre;overflow-x:auto;line-height:normal;font-family:Menlo,'DejaVu Sans Mono',consolas,'Courier New',monospace\">grinnell-cs_coding_dh_org.csv\n",
       "</pre>\n"
      ],
      "text/plain": [
       "grinnell-cs_coding_dh_org.csv\n"
      ]
     },
     "metadata": {},
     "output_type": "display_data"
    },
    {
     "data": {
      "text/html": [
       "<pre style=\"white-space:pre;overflow-x:auto;line-height:normal;font-family:Menlo,'DejaVu Sans Mono',consolas,'Courier New',monospace\">master-DNHD_coding_dh_org.csv\n",
       "</pre>\n"
      ],
      "text/plain": [
       "master-DNHD_coding_dh_org.csv\n"
      ]
     },
     "metadata": {},
     "output_type": "display_data"
    },
    {
     "data": {
      "text/html": [
       "<pre style=\"white-space:pre;overflow-x:auto;line-height:normal;font-family:Menlo,'DejaVu Sans Mono',consolas,'Courier New',monospace\">rbind_coding_dh_org.csv\n",
       "</pre>\n"
      ],
      "text/plain": [
       "rbind_coding_dh_org.csv\n"
      ]
     },
     "metadata": {},
     "output_type": "display_data"
    },
    {
     "data": {
      "text/html": [
       "<pre style=\"white-space:pre;overflow-x:auto;line-height:normal;font-family:Menlo,'DejaVu Sans Mono',consolas,'Courier New',monospace\">trost_coding_dh_org.csv\n",
       "</pre>\n"
      ],
      "text/plain": [
       "trost_coding_dh_org.csv\n"
      ]
     },
     "metadata": {},
     "output_type": "display_data"
    },
    {
     "data": {
      "text/html": [
       "<pre style=\"white-space:pre;overflow-x:auto;line-height:normal;font-family:Menlo,'DejaVu Sans Mono',consolas,'Courier New',monospace\">baltimoreheritage_coding_dh_org.csv\n",
       "</pre>\n"
      ],
      "text/plain": [
       "baltimoreheritage_coding_dh_org.csv\n"
      ]
     },
     "metadata": {},
     "output_type": "display_data"
    },
    {
     "data": {
      "text/html": [
       "<pre style=\"white-space:pre;overflow-x:auto;line-height:normal;font-family:Menlo,'DejaVu Sans Mono',consolas,'Courier New',monospace\">Western-Sydney-Hackathon_coding_dh_org.csv\n",
       "</pre>\n"
      ],
      "text/plain": [
       "Western-Sydney-Hackathon_coding_dh_org.csv\n"
      ]
     },
     "metadata": {},
     "output_type": "display_data"
    },
    {
     "data": {
      "text/html": [
       "<pre style=\"white-space:pre;overflow-x:auto;line-height:normal;font-family:Menlo,'DejaVu Sans Mono',consolas,'Courier New',monospace\">nodeconf_coding_dh_org.csv\n",
       "</pre>\n"
      ],
      "text/plain": [
       "nodeconf_coding_dh_org.csv\n"
      ]
     },
     "metadata": {},
     "output_type": "display_data"
    },
    {
     "data": {
      "text/html": [
       "<pre style=\"white-space:pre;overflow-x:auto;line-height:normal;font-family:Menlo,'DejaVu Sans Mono',consolas,'Courier New',monospace\">archival_coding_dh_org.csv\n",
       "</pre>\n"
      ],
      "text/plain": [
       "archival_coding_dh_org.csv\n"
      ]
     },
     "metadata": {},
     "output_type": "display_data"
    },
    {
     "data": {
      "text/html": [
       "<pre style=\"white-space:pre;overflow-x:auto;line-height:normal;font-family:Menlo,'DejaVu Sans Mono',consolas,'Courier New',monospace\">tomeshnet_coding_dh_org.csv\n",
       "</pre>\n"
      ],
      "text/plain": [
       "tomeshnet_coding_dh_org.csv\n"
      ]
     },
     "metadata": {},
     "output_type": "display_data"
    },
    {
     "data": {
      "text/html": [
       "<pre style=\"white-space:pre;overflow-x:auto;line-height:normal;font-family:Menlo,'DejaVu Sans Mono',consolas,'Courier New',monospace\">SyPy_coding_dh_org.csv\n",
       "</pre>\n"
      ],
      "text/plain": [
       "SyPy_coding_dh_org.csv\n"
      ]
     },
     "metadata": {},
     "output_type": "display_data"
    },
    {
     "data": {
      "text/html": [
       "<pre style=\"white-space:pre;overflow-x:auto;line-height:normal;font-family:Menlo,'DejaVu Sans Mono',consolas,'Courier New',monospace\">cisagov_coding_dh_org.csv\n",
       "</pre>\n"
      ],
      "text/plain": [
       "cisagov_coding_dh_org.csv\n"
      ]
     },
     "metadata": {},
     "output_type": "display_data"
    },
    {
     "data": {
      "text/html": [
       "<pre style=\"white-space:pre;overflow-x:auto;line-height:normal;font-family:Menlo,'DejaVu Sans Mono',consolas,'Courier New',monospace\">CollectionBuilder_coding_dh_org.csv\n",
       "</pre>\n"
      ],
      "text/plain": [
       "CollectionBuilder_coding_dh_org.csv\n"
      ]
     },
     "metadata": {},
     "output_type": "display_data"
    },
    {
     "data": {
      "text/html": [
       "<pre style=\"white-space:pre;overflow-x:auto;line-height:normal;font-family:Menlo,'DejaVu Sans Mono',consolas,'Courier New',monospace\">3liz_coding_dh_org.csv\n",
       "</pre>\n"
      ],
      "text/plain": [
       "3liz_coding_dh_org.csv\n"
      ]
     },
     "metadata": {},
     "output_type": "display_data"
    },
    {
     "data": {
      "text/html": [
       "<pre style=\"white-space:pre;overflow-x:auto;line-height:normal;font-family:Menlo,'DejaVu Sans Mono',consolas,'Courier New',monospace\">rednit-team_coding_dh_org.csv\n",
       "</pre>\n"
      ],
      "text/plain": [
       "rednit-team_coding_dh_org.csv\n"
      ]
     },
     "metadata": {},
     "output_type": "display_data"
    },
    {
     "data": {
      "text/html": [
       "<pre style=\"white-space:pre;overflow-x:auto;line-height:normal;font-family:Menlo,'DejaVu Sans Mono',consolas,'Courier New',monospace\">fcrepo3_coding_dh_org.csv\n",
       "</pre>\n"
      ],
      "text/plain": [
       "fcrepo3_coding_dh_org.csv\n"
      ]
     },
     "metadata": {},
     "output_type": "display_data"
    },
    {
     "data": {
      "text/html": [
       "<pre style=\"white-space:pre;overflow-x:auto;line-height:normal;font-family:Menlo,'DejaVu Sans Mono',consolas,'Courier New',monospace\">Societiez_coding_dh_org.csv\n",
       "</pre>\n"
      ],
      "text/plain": [
       "Societiez_coding_dh_org.csv\n"
      ]
     },
     "metadata": {},
     "output_type": "display_data"
    },
    {
     "data": {
      "text/html": [
       "<pre style=\"white-space:pre;overflow-x:auto;line-height:normal;font-family:Menlo,'DejaVu Sans Mono',consolas,'Courier New',monospace\">ISAAKiel_coding_dh_org.csv\n",
       "</pre>\n"
      ],
      "text/plain": [
       "ISAAKiel_coding_dh_org.csv\n"
      ]
     },
     "metadata": {},
     "output_type": "display_data"
    },
    {
     "data": {
      "text/html": [
       "<pre style=\"white-space:pre;overflow-x:auto;line-height:normal;font-family:Menlo,'DejaVu Sans Mono',consolas,'Courier New',monospace\">sastrahost_coding_dh_org.csv\n",
       "</pre>\n"
      ],
      "text/plain": [
       "sastrahost_coding_dh_org.csv\n"
      ]
     },
     "metadata": {},
     "output_type": "display_data"
    },
    {
     "data": {
      "text/html": [
       "<pre style=\"white-space:pre;overflow-x:auto;line-height:normal;font-family:Menlo,'DejaVu Sans Mono',consolas,'Courier New',monospace\">nies-consplan_coding_dh_org.csv\n",
       "</pre>\n"
      ],
      "text/plain": [
       "nies-consplan_coding_dh_org.csv\n"
      ]
     },
     "metadata": {},
     "output_type": "display_data"
    },
    {
     "data": {
      "text/html": [
       "<pre style=\"white-space:pre;overflow-x:auto;line-height:normal;font-family:Menlo,'DejaVu Sans Mono',consolas,'Courier New',monospace\">King-s-Knowledge-Graph-Lab_coding_dh_org.csv\n",
       "</pre>\n"
      ],
      "text/plain": [
       "King-s-Knowledge-Graph-Lab_coding_dh_org.csv\n"
      ]
     },
     "metadata": {},
     "output_type": "display_data"
    },
    {
     "data": {
      "text/html": [
       "<pre style=\"white-space:pre;overflow-x:auto;line-height:normal;font-family:Menlo,'DejaVu Sans Mono',consolas,'Courier New',monospace\">ukwa_coding_dh_org.csv\n",
       "</pre>\n"
      ],
      "text/plain": [
       "ukwa_coding_dh_org.csv\n"
      ]
     },
     "metadata": {},
     "output_type": "display_data"
    },
    {
     "data": {
      "text/html": [
       "<pre style=\"white-space:pre;overflow-x:auto;line-height:normal;font-family:Menlo,'DejaVu Sans Mono',consolas,'Courier New',monospace\">datadesk_coding_dh_org.csv\n",
       "</pre>\n"
      ],
      "text/plain": [
       "datadesk_coding_dh_org.csv\n"
      ]
     },
     "metadata": {},
     "output_type": "display_data"
    },
    {
     "data": {
      "text/html": [
       "<pre style=\"white-space:pre;overflow-x:auto;line-height:normal;font-family:Menlo,'DejaVu Sans Mono',consolas,'Courier New',monospace\">fireship-io_coding_dh_org.csv\n",
       "</pre>\n"
      ],
      "text/plain": [
       "fireship-io_coding_dh_org.csv\n"
      ]
     },
     "metadata": {},
     "output_type": "display_data"
    },
    {
     "data": {
      "text/html": [
       "<pre style=\"white-space:pre;overflow-x:auto;line-height:normal;font-family:Menlo,'DejaVu Sans Mono',consolas,'Courier New',monospace\">xi-editor_coding_dh_org.csv\n",
       "</pre>\n"
      ],
      "text/plain": [
       "xi-editor_coding_dh_org.csv\n"
      ]
     },
     "metadata": {},
     "output_type": "display_data"
    },
    {
     "data": {
      "text/html": [
       "<pre style=\"white-space:pre;overflow-x:auto;line-height:normal;font-family:Menlo,'DejaVu Sans Mono',consolas,'Courier New',monospace\">booknlp_coding_dh_org.csv\n",
       "</pre>\n"
      ],
      "text/plain": [
       "booknlp_coding_dh_org.csv\n"
      ]
     },
     "metadata": {},
     "output_type": "display_data"
    },
    {
     "data": {
      "text/html": [
       "<pre style=\"white-space:pre;overflow-x:auto;line-height:normal;font-family:Menlo,'DejaVu Sans Mono',consolas,'Courier New',monospace\">ossu_coding_dh_org.csv\n",
       "</pre>\n"
      ],
      "text/plain": [
       "ossu_coding_dh_org.csv\n"
      ]
     },
     "metadata": {},
     "output_type": "display_data"
    },
    {
     "data": {
      "text/html": [
       "<pre style=\"white-space:pre;overflow-x:auto;line-height:normal;font-family:Menlo,'DejaVu Sans Mono',consolas,'Courier New',monospace\">ETCBC_coding_dh_org.csv\n",
       "</pre>\n"
      ],
      "text/plain": [
       "ETCBC_coding_dh_org.csv\n"
      ]
     },
     "metadata": {},
     "output_type": "display_data"
    },
    {
     "data": {
      "text/html": [
       "<pre style=\"white-space:pre;overflow-x:auto;line-height:normal;font-family:Menlo,'DejaVu Sans Mono',consolas,'Courier New',monospace\">PLOS_coding_dh_org.csv\n",
       "</pre>\n"
      ],
      "text/plain": [
       "PLOS_coding_dh_org.csv\n"
      ]
     },
     "metadata": {},
     "output_type": "display_data"
    },
    {
     "data": {
      "text/html": [
       "<pre style=\"white-space:pre;overflow-x:auto;line-height:normal;font-family:Menlo,'DejaVu Sans Mono',consolas,'Courier New',monospace\">MappingtheGayGuides_coding_dh_org.csv\n",
       "</pre>\n"
      ],
      "text/plain": [
       "MappingtheGayGuides_coding_dh_org.csv\n"
      ]
     },
     "metadata": {},
     "output_type": "display_data"
    },
    {
     "data": {
      "text/html": [
       "<pre style=\"white-space:pre;overflow-x:auto;line-height:normal;font-family:Menlo,'DejaVu Sans Mono',consolas,'Courier New',monospace\">GameLab-UNIL-EPFL_coding_dh_org.csv\n",
       "</pre>\n"
      ],
      "text/plain": [
       "GameLab-UNIL-EPFL_coding_dh_org.csv\n"
      ]
     },
     "metadata": {},
     "output_type": "display_data"
    },
    {
     "data": {
      "text/html": [
       "<pre style=\"white-space:pre;overflow-x:auto;line-height:normal;font-family:Menlo,'DejaVu Sans Mono',consolas,'Courier New',monospace\">eXist-db_coding_dh_org.csv\n",
       "</pre>\n"
      ],
      "text/plain": [
       "eXist-db_coding_dh_org.csv\n"
      ]
     },
     "metadata": {},
     "output_type": "display_data"
    },
    {
     "data": {
      "text/html": [
       "<pre style=\"white-space:pre;overflow-x:auto;line-height:normal;font-family:Menlo,'DejaVu Sans Mono',consolas,'Courier New',monospace\">AccessLibCon_coding_dh_org.csv\n",
       "</pre>\n"
      ],
      "text/plain": [
       "AccessLibCon_coding_dh_org.csv\n"
      ]
     },
     "metadata": {},
     "output_type": "display_data"
    },
    {
     "data": {
      "text/html": [
       "<pre style=\"white-space:pre;overflow-x:auto;line-height:normal;font-family:Menlo,'DejaVu Sans Mono',consolas,'Courier New',monospace\">reprohack_coding_dh_org.csv\n",
       "</pre>\n"
      ],
      "text/plain": [
       "reprohack_coding_dh_org.csv\n"
      ]
     },
     "metadata": {},
     "output_type": "display_data"
    },
    {
     "data": {
      "text/html": [
       "<pre style=\"white-space:pre;overflow-x:auto;line-height:normal;font-family:Menlo,'DejaVu Sans Mono',consolas,'Courier New',monospace\">omeka-s-themes_coding_dh_org.csv\n",
       "</pre>\n"
      ],
      "text/plain": [
       "omeka-s-themes_coding_dh_org.csv\n"
      ]
     },
     "metadata": {},
     "output_type": "display_data"
    },
    {
     "data": {
      "text/html": [
       "<pre style=\"white-space:pre;overflow-x:auto;line-height:normal;font-family:Menlo,'DejaVu Sans Mono',consolas,'Courier New',monospace\">mipops_coding_dh_org.csv\n",
       "</pre>\n"
      ],
      "text/plain": [
       "mipops_coding_dh_org.csv\n"
      ]
     },
     "metadata": {},
     "output_type": "display_data"
    },
    {
     "data": {
      "text/html": [
       "<pre style=\"white-space:pre;overflow-x:auto;line-height:normal;font-family:Menlo,'DejaVu Sans Mono',consolas,'Courier New',monospace\">rwth-acis_coding_dh_org.csv\n",
       "</pre>\n"
      ],
      "text/plain": [
       "rwth-acis_coding_dh_org.csv\n"
      ]
     },
     "metadata": {},
     "output_type": "display_data"
    },
    {
     "data": {
      "text/html": [
       "<pre style=\"white-space:pre;overflow-x:auto;line-height:normal;font-family:Menlo,'DejaVu Sans Mono',consolas,'Courier New',monospace\">mnylc_coding_dh_org.csv\n",
       "</pre>\n"
      ],
      "text/plain": [
       "mnylc_coding_dh_org.csv\n"
      ]
     },
     "metadata": {},
     "output_type": "display_data"
    },
    {
     "data": {
      "text/html": [
       "<pre style=\"white-space:pre;overflow-x:auto;line-height:normal;font-family:Menlo,'DejaVu Sans Mono',consolas,'Courier New',monospace\">JSOShakespeare_coding_dh_org.csv\n",
       "</pre>\n"
      ],
      "text/plain": [
       "JSOShakespeare_coding_dh_org.csv\n"
      ]
     },
     "metadata": {},
     "output_type": "display_data"
    },
    {
     "data": {
      "text/html": [
       "<pre style=\"white-space:pre;overflow-x:auto;line-height:normal;font-family:Menlo,'DejaVu Sans Mono',consolas,'Courier New',monospace\">dhlab-epfl-students_coding_dh_org.csv\n",
       "</pre>\n"
      ],
      "text/plain": [
       "dhlab-epfl-students_coding_dh_org.csv\n"
      ]
     },
     "metadata": {},
     "output_type": "display_data"
    },
    {
     "data": {
      "text/html": [
       "<pre style=\"white-space:pre;overflow-x:auto;line-height:normal;font-family:Menlo,'DejaVu Sans Mono',consolas,'Courier New',monospace\">IAMXID_coding_dh_org.csv\n",
       "</pre>\n"
      ],
      "text/plain": [
       "IAMXID_coding_dh_org.csv\n"
      ]
     },
     "metadata": {},
     "output_type": "display_data"
    },
    {
     "data": {
      "text/html": [
       "<pre style=\"white-space:pre;overflow-x:auto;line-height:normal;font-family:Menlo,'DejaVu Sans Mono',consolas,'Courier New',monospace\">redotjs_coding_dh_org.csv\n",
       "</pre>\n"
      ],
      "text/plain": [
       "redotjs_coding_dh_org.csv\n"
      ]
     },
     "metadata": {},
     "output_type": "display_data"
    },
    {
     "data": {
      "text/html": [
       "<pre style=\"white-space:pre;overflow-x:auto;line-height:normal;font-family:Menlo,'DejaVu Sans Mono',consolas,'Courier New',monospace\">JuliaHEP_coding_dh_org.csv\n",
       "</pre>\n"
      ],
      "text/plain": [
       "JuliaHEP_coding_dh_org.csv\n"
      ]
     },
     "metadata": {},
     "output_type": "display_data"
    },
    {
     "data": {
      "text/html": [
       "<pre style=\"white-space:pre;overflow-x:auto;line-height:normal;font-family:Menlo,'DejaVu Sans Mono',consolas,'Courier New',monospace\">nextcloud_coding_dh_org.csv\n",
       "</pre>\n"
      ],
      "text/plain": [
       "nextcloud_coding_dh_org.csv\n"
      ]
     },
     "metadata": {},
     "output_type": "display_data"
    },
    {
     "data": {
      "text/html": [
       "<pre style=\"white-space:pre;overflow-x:auto;line-height:normal;font-family:Menlo,'DejaVu Sans Mono',consolas,'Courier New',monospace\">SASTRAUTH_coding_dh_org.csv\n",
       "</pre>\n"
      ],
      "text/plain": [
       "SASTRAUTH_coding_dh_org.csv\n"
      ]
     },
     "metadata": {},
     "output_type": "display_data"
    },
    {
     "data": {
      "text/html": [
       "<pre style=\"white-space:pre;overflow-x:auto;line-height:normal;font-family:Menlo,'DejaVu Sans Mono',consolas,'Courier New',monospace\">UoMResearchIT_coding_dh_org.csv\n",
       "</pre>\n"
      ],
      "text/plain": [
       "UoMResearchIT_coding_dh_org.csv\n"
      ]
     },
     "metadata": {},
     "output_type": "display_data"
    },
    {
     "data": {
      "text/html": [
       "<pre style=\"white-space:pre;overflow-x:auto;line-height:normal;font-family:Menlo,'DejaVu Sans Mono',consolas,'Courier New',monospace\">HappyTeacher_coding_dh_org.csv\n",
       "</pre>\n"
      ],
      "text/plain": [
       "HappyTeacher_coding_dh_org.csv\n"
      ]
     },
     "metadata": {},
     "output_type": "display_data"
    },
    {
     "data": {
      "text/html": [
       "<pre style=\"white-space:pre;overflow-x:auto;line-height:normal;font-family:Menlo,'DejaVu Sans Mono',consolas,'Courier New',monospace\">McKulaInc_coding_dh_org.csv\n",
       "</pre>\n"
      ],
      "text/plain": [
       "McKulaInc_coding_dh_org.csv\n"
      ]
     },
     "metadata": {},
     "output_type": "display_data"
    },
    {
     "data": {
      "text/html": [
       "<pre style=\"white-space:pre;overflow-x:auto;line-height:normal;font-family:Menlo,'DejaVu Sans Mono',consolas,'Courier New',monospace\">tokio-rs_coding_dh_org.csv\n",
       "</pre>\n"
      ],
      "text/plain": [
       "tokio-rs_coding_dh_org.csv\n"
      ]
     },
     "metadata": {},
     "output_type": "display_data"
    },
    {
     "data": {
      "text/html": [
       "<pre style=\"white-space:pre;overflow-x:auto;line-height:normal;font-family:Menlo,'DejaVu Sans Mono',consolas,'Courier New',monospace\">Baumann-Digital_coding_dh_org.csv\n",
       "</pre>\n"
      ],
      "text/plain": [
       "Baumann-Digital_coding_dh_org.csv\n"
      ]
     },
     "metadata": {},
     "output_type": "display_data"
    },
    {
     "data": {
      "text/html": [
       "<pre style=\"white-space:pre;overflow-x:auto;line-height:normal;font-family:Menlo,'DejaVu Sans Mono',consolas,'Courier New',monospace\">archiviofontiorali_coding_dh_org.csv\n",
       "</pre>\n"
      ],
      "text/plain": [
       "archiviofontiorali_coding_dh_org.csv\n"
      ]
     },
     "metadata": {},
     "output_type": "display_data"
    },
    {
     "data": {
      "text/html": [
       "<pre style=\"white-space:pre;overflow-x:auto;line-height:normal;font-family:Menlo,'DejaVu Sans Mono',consolas,'Courier New',monospace\">Pandacodium_coding_dh_org.csv\n",
       "</pre>\n"
      ],
      "text/plain": [
       "Pandacodium_coding_dh_org.csv\n"
      ]
     },
     "metadata": {},
     "output_type": "display_data"
    },
    {
     "data": {
      "text/html": [
       "<pre style=\"white-space:pre;overflow-x:auto;line-height:normal;font-family:Menlo,'DejaVu Sans Mono',consolas,'Courier New',monospace\">aadl_coding_dh_org.csv\n",
       "</pre>\n"
      ],
      "text/plain": [
       "aadl_coding_dh_org.csv\n"
      ]
     },
     "metadata": {},
     "output_type": "display_data"
    },
    {
     "data": {
      "text/html": [
       "<pre style=\"white-space:pre;overflow-x:auto;line-height:normal;font-family:Menlo,'DejaVu Sans Mono',consolas,'Courier New',monospace\">ccny-glasslab_coding_dh_org.csv\n",
       "</pre>\n"
      ],
      "text/plain": [
       "ccny-glasslab_coding_dh_org.csv\n"
      ]
     },
     "metadata": {},
     "output_type": "display_data"
    },
    {
     "data": {
      "text/html": [
       "<pre style=\"white-space:pre;overflow-x:auto;line-height:normal;font-family:Menlo,'DejaVu Sans Mono',consolas,'Courier New',monospace\">Valires_coding_dh_org.csv\n",
       "</pre>\n"
      ],
      "text/plain": [
       "Valires_coding_dh_org.csv\n"
      ]
     },
     "metadata": {},
     "output_type": "display_data"
    },
    {
     "data": {
      "text/html": [
       "<pre style=\"white-space:pre;overflow-x:auto;line-height:normal;font-family:Menlo,'DejaVu Sans Mono',consolas,'Courier New',monospace\">uio-carpentry_coding_dh_org.csv\n",
       "</pre>\n"
      ],
      "text/plain": [
       "uio-carpentry_coding_dh_org.csv\n"
      ]
     },
     "metadata": {},
     "output_type": "display_data"
    },
    {
     "data": {
      "text/html": [
       "<pre style=\"white-space:pre;overflow-x:auto;line-height:normal;font-family:Menlo,'DejaVu Sans Mono',consolas,'Courier New',monospace\">ComputArcheo_coding_dh_org.csv\n",
       "</pre>\n"
      ],
      "text/plain": [
       "ComputArcheo_coding_dh_org.csv\n"
      ]
     },
     "metadata": {},
     "output_type": "display_data"
    },
    {
     "data": {
      "text/html": [
       "<pre style=\"white-space:pre;overflow-x:auto;line-height:normal;font-family:Menlo,'DejaVu Sans Mono',consolas,'Courier New',monospace\">Alamvic_coding_dh_org.csv\n",
       "</pre>\n"
      ],
      "text/plain": [
       "Alamvic_coding_dh_org.csv\n"
      ]
     },
     "metadata": {},
     "output_type": "display_data"
    },
    {
     "data": {
      "text/html": [
       "<pre style=\"white-space:pre;overflow-x:auto;line-height:normal;font-family:Menlo,'DejaVu Sans Mono',consolas,'Courier New',monospace\">scieloorg_coding_dh_org.csv\n",
       "</pre>\n"
      ],
      "text/plain": [
       "scieloorg_coding_dh_org.csv\n"
      ]
     },
     "metadata": {},
     "output_type": "display_data"
    },
    {
     "data": {
      "text/html": [
       "<pre style=\"white-space:pre;overflow-x:auto;line-height:normal;font-family:Menlo,'DejaVu Sans Mono',consolas,'Courier New',monospace\">ExploreSalon-Organisation_coding_dh_org.csv\n",
       "</pre>\n"
      ],
      "text/plain": [
       "ExploreSalon-Organisation_coding_dh_org.csv\n"
      ]
     },
     "metadata": {},
     "output_type": "display_data"
    },
    {
     "data": {
      "text/html": [
       "<pre style=\"white-space:pre;overflow-x:auto;line-height:normal;font-family:Menlo,'DejaVu Sans Mono',consolas,'Courier New',monospace\">alpheios-project_coding_dh_org.csv\n",
       "</pre>\n"
      ],
      "text/plain": [
       "alpheios-project_coding_dh_org.csv\n"
      ]
     },
     "metadata": {},
     "output_type": "display_data"
    },
    {
     "data": {
      "text/html": [
       "<pre style=\"white-space:pre;overflow-x:auto;line-height:normal;font-family:Menlo,'DejaVu Sans Mono',consolas,'Courier New',monospace\">cemfi_coding_dh_org.csv\n",
       "</pre>\n"
      ],
      "text/plain": [
       "cemfi_coding_dh_org.csv\n"
      ]
     },
     "metadata": {},
     "output_type": "display_data"
    },
    {
     "data": {
      "text/html": [
       "<pre style=\"white-space:pre;overflow-x:auto;line-height:normal;font-family:Menlo,'DejaVu Sans Mono',consolas,'Courier New',monospace\">JSONovich_coding_dh_org.csv\n",
       "</pre>\n"
      ],
      "text/plain": [
       "JSONovich_coding_dh_org.csv\n"
      ]
     },
     "metadata": {},
     "output_type": "display_data"
    },
    {
     "data": {
      "text/html": [
       "<pre style=\"white-space:pre;overflow-x:auto;line-height:normal;font-family:Menlo,'DejaVu Sans Mono',consolas,'Courier New',monospace\">SoftwareSystemsLaboratory_coding_dh_org.csv\n",
       "</pre>\n"
      ],
      "text/plain": [
       "SoftwareSystemsLaboratory_coding_dh_org.csv\n"
      ]
     },
     "metadata": {},
     "output_type": "display_data"
    },
    {
     "data": {
      "text/html": [
       "<pre style=\"white-space:pre;overflow-x:auto;line-height:normal;font-family:Menlo,'DejaVu Sans Mono',consolas,'Courier New',monospace\">akubra_coding_dh_org.csv\n",
       "</pre>\n"
      ],
      "text/plain": [
       "akubra_coding_dh_org.csv\n"
      ]
     },
     "metadata": {},
     "output_type": "display_data"
    },
    {
     "data": {
      "text/html": [
       "<pre style=\"white-space:pre;overflow-x:auto;line-height:normal;font-family:Menlo,'DejaVu Sans Mono',consolas,'Courier New',monospace\">ambientsprotocol_coding_dh_org.csv\n",
       "</pre>\n"
      ],
      "text/plain": [
       "ambientsprotocol_coding_dh_org.csv\n"
      ]
     },
     "metadata": {},
     "output_type": "display_data"
    },
    {
     "data": {
      "text/html": [
       "<pre style=\"white-space:pre;overflow-x:auto;line-height:normal;font-family:Menlo,'DejaVu Sans Mono',consolas,'Courier New',monospace\">Sarti-Edition_coding_dh_org.csv\n",
       "</pre>\n"
      ],
      "text/plain": [
       "Sarti-Edition_coding_dh_org.csv\n"
      ]
     },
     "metadata": {},
     "output_type": "display_data"
    },
    {
     "data": {
      "text/html": [
       "<pre style=\"white-space:pre;overflow-x:auto;line-height:normal;font-family:Menlo,'DejaVu Sans Mono',consolas,'Courier New',monospace\">airnetworks_coding_dh_org.csv\n",
       "</pre>\n"
      ],
      "text/plain": [
       "airnetworks_coding_dh_org.csv\n"
      ]
     },
     "metadata": {},
     "output_type": "display_data"
    },
    {
     "data": {
      "text/html": [
       "<pre style=\"white-space:pre;overflow-x:auto;line-height:normal;font-family:Menlo,'DejaVu Sans Mono',consolas,'Courier New',monospace\">uclibs_coding_dh_org.csv\n",
       "</pre>\n"
      ],
      "text/plain": [
       "uclibs_coding_dh_org.csv\n"
      ]
     },
     "metadata": {},
     "output_type": "display_data"
    },
    {
     "data": {
      "text/html": [
       "<pre style=\"white-space:pre;overflow-x:auto;line-height:normal;font-family:Menlo,'DejaVu Sans Mono',consolas,'Courier New',monospace\">hootsuite_coding_dh_org.csv\n",
       "</pre>\n"
      ],
      "text/plain": [
       "hootsuite_coding_dh_org.csv\n"
      ]
     },
     "metadata": {},
     "output_type": "display_data"
    },
    {
     "data": {
      "text/html": [
       "<pre style=\"white-space:pre;overflow-x:auto;line-height:normal;font-family:Menlo,'DejaVu Sans Mono',consolas,'Courier New',monospace\">CenterForSpatialResearch_coding_dh_org.csv\n",
       "</pre>\n"
      ],
      "text/plain": [
       "CenterForSpatialResearch_coding_dh_org.csv\n"
      ]
     },
     "metadata": {},
     "output_type": "display_data"
    },
    {
     "data": {
      "text/html": [
       "<pre style=\"white-space:pre;overflow-x:auto;line-height:normal;font-family:Menlo,'DejaVu Sans Mono',consolas,'Courier New',monospace\">cdli-gh_coding_dh_org.csv\n",
       "</pre>\n"
      ],
      "text/plain": [
       "cdli-gh_coding_dh_org.csv\n"
      ]
     },
     "metadata": {},
     "output_type": "display_data"
    },
    {
     "data": {
      "text/html": [
       "<pre style=\"white-space:pre;overflow-x:auto;line-height:normal;font-family:Menlo,'DejaVu Sans Mono',consolas,'Courier New',monospace\">mediapart_coding_dh_org.csv\n",
       "</pre>\n"
      ],
      "text/plain": [
       "mediapart_coding_dh_org.csv\n"
      ]
     },
     "metadata": {},
     "output_type": "display_data"
    },
    {
     "data": {
      "text/html": [
       "<pre style=\"white-space:pre;overflow-x:auto;line-height:normal;font-family:Menlo,'DejaVu Sans Mono',consolas,'Courier New',monospace\">cleanzr_coding_dh_org.csv\n",
       "</pre>\n"
      ],
      "text/plain": [
       "cleanzr_coding_dh_org.csv\n"
      ]
     },
     "metadata": {},
     "output_type": "display_data"
    },
    {
     "data": {
      "text/html": [
       "<pre style=\"white-space:pre;overflow-x:auto;line-height:normal;font-family:Menlo,'DejaVu Sans Mono',consolas,'Courier New',monospace\">WeKeyPedia_coding_dh_org.csv\n",
       "</pre>\n"
      ],
      "text/plain": [
       "WeKeyPedia_coding_dh_org.csv\n"
      ]
     },
     "metadata": {},
     "output_type": "display_data"
    },
    {
     "data": {
      "text/html": [
       "<pre style=\"white-space:pre;overflow-x:auto;line-height:normal;font-family:Menlo,'DejaVu Sans Mono',consolas,'Courier New',monospace\">biblia-arabica_coding_dh_org.csv\n",
       "</pre>\n"
      ],
      "text/plain": [
       "biblia-arabica_coding_dh_org.csv\n"
      ]
     },
     "metadata": {},
     "output_type": "display_data"
    },
    {
     "data": {
      "text/html": [
       "<pre style=\"white-space:pre;overflow-x:auto;line-height:normal;font-family:Menlo,'DejaVu Sans Mono',consolas,'Courier New',monospace\">gettypubs_coding_dh_org.csv\n",
       "</pre>\n"
      ],
      "text/plain": [
       "gettypubs_coding_dh_org.csv\n"
      ]
     },
     "metadata": {},
     "output_type": "display_data"
    },
    {
     "data": {
      "text/html": [
       "<pre style=\"white-space:pre;overflow-x:auto;line-height:normal;font-family:Menlo,'DejaVu Sans Mono',consolas,'Courier New',monospace\">sparqlunicorn_coding_dh_org.csv\n",
       "</pre>\n"
      ],
      "text/plain": [
       "sparqlunicorn_coding_dh_org.csv\n"
      ]
     },
     "metadata": {},
     "output_type": "display_data"
    },
    {
     "data": {
      "text/html": [
       "<pre style=\"white-space:pre;overflow-x:auto;line-height:normal;font-family:Menlo,'DejaVu Sans Mono',consolas,'Courier New',monospace\">wpi-captivity-iqp_coding_dh_org.csv\n",
       "</pre>\n"
      ],
      "text/plain": [
       "wpi-captivity-iqp_coding_dh_org.csv\n"
      ]
     },
     "metadata": {},
     "output_type": "display_data"
    },
    {
     "data": {
      "text/html": [
       "<pre style=\"white-space:pre;overflow-x:auto;line-height:normal;font-family:Menlo,'DejaVu Sans Mono',consolas,'Courier New',monospace\">skill6_coding_dh_org.csv\n",
       "</pre>\n"
      ],
      "text/plain": [
       "skill6_coding_dh_org.csv\n"
      ]
     },
     "metadata": {},
     "output_type": "display_data"
    },
    {
     "data": {
      "text/html": [
       "<pre style=\"white-space:pre;overflow-x:auto;line-height:normal;font-family:Menlo,'DejaVu Sans Mono',consolas,'Courier New',monospace\">Middle-High-German-Conceptual-Database_coding_dh_org.csv\n",
       "</pre>\n"
      ],
      "text/plain": [
       "Middle-High-German-Conceptual-Database_coding_dh_org.csv\n"
      ]
     },
     "metadata": {},
     "output_type": "display_data"
    },
    {
     "data": {
      "text/html": [
       "<pre style=\"white-space:pre;overflow-x:auto;line-height:normal;font-family:Menlo,'DejaVu Sans Mono',consolas,'Courier New',monospace\">rhizomedotorg_coding_dh_org.csv\n",
       "</pre>\n"
      ],
      "text/plain": [
       "rhizomedotorg_coding_dh_org.csv\n"
      ]
     },
     "metadata": {},
     "output_type": "display_data"
    },
    {
     "data": {
      "text/html": [
       "<pre style=\"white-space:pre;overflow-x:auto;line-height:normal;font-family:Menlo,'DejaVu Sans Mono',consolas,'Courier New',monospace\">NBOCampbellToets_coding_dh_org.csv\n",
       "</pre>\n"
      ],
      "text/plain": [
       "NBOCampbellToets_coding_dh_org.csv\n"
      ]
     },
     "metadata": {},
     "output_type": "display_data"
    },
    {
     "data": {
      "text/html": [
       "<pre style=\"white-space:pre;overflow-x:auto;line-height:normal;font-family:Menlo,'DejaVu Sans Mono',consolas,'Courier New',monospace\">globalprivacycontrol_coding_dh_org.csv\n",
       "</pre>\n"
      ],
      "text/plain": [
       "globalprivacycontrol_coding_dh_org.csv\n"
      ]
     },
     "metadata": {},
     "output_type": "display_data"
    },
    {
     "data": {
      "text/html": [
       "<pre style=\"white-space:pre;overflow-x:auto;line-height:normal;font-family:Menlo,'DejaVu Sans Mono',consolas,'Courier New',monospace\">eviden-parallel_coding_dh_org.csv\n",
       "</pre>\n"
      ],
      "text/plain": [
       "eviden-parallel_coding_dh_org.csv\n"
      ]
     },
     "metadata": {},
     "output_type": "display_data"
    },
    {
     "data": {
      "text/html": [
       "<pre style=\"white-space:pre;overflow-x:auto;line-height:normal;font-family:Menlo,'DejaVu Sans Mono',consolas,'Courier New',monospace\">SASTRA-rakesh_coding_dh_org.csv\n",
       "</pre>\n"
      ],
      "text/plain": [
       "SASTRA-rakesh_coding_dh_org.csv\n"
      ]
     },
     "metadata": {},
     "output_type": "display_data"
    },
    {
     "data": {
      "text/html": [
       "<pre style=\"white-space:pre;overflow-x:auto;line-height:normal;font-family:Menlo,'DejaVu Sans Mono',consolas,'Courier New',monospace\">dukesanford_coding_dh_org.csv\n",
       "</pre>\n"
      ],
      "text/plain": [
       "dukesanford_coding_dh_org.csv\n"
      ]
     },
     "metadata": {},
     "output_type": "display_data"
    },
    {
     "data": {
      "text/html": [
       "<pre style=\"white-space:pre;overflow-x:auto;line-height:normal;font-family:Menlo,'DejaVu Sans Mono',consolas,'Courier New',monospace\">libRecipeShare_coding_dh_org.csv\n",
       "</pre>\n"
      ],
      "text/plain": [
       "libRecipeShare_coding_dh_org.csv\n"
      ]
     },
     "metadata": {},
     "output_type": "display_data"
    },
    {
     "data": {
      "text/html": [
       "<pre style=\"white-space:pre;overflow-x:auto;line-height:normal;font-family:Menlo,'DejaVu Sans Mono',consolas,'Courier New',monospace\">NeoApplications_coding_dh_org.csv\n",
       "</pre>\n"
      ],
      "text/plain": [
       "NeoApplications_coding_dh_org.csv\n"
      ]
     },
     "metadata": {},
     "output_type": "display_data"
    },
    {
     "data": {
      "text/html": [
       "<pre style=\"white-space:pre;overflow-x:auto;line-height:normal;font-family:Menlo,'DejaVu Sans Mono',consolas,'Courier New',monospace\">dagitab-workshop_coding_dh_org.csv\n",
       "</pre>\n"
      ],
      "text/plain": [
       "dagitab-workshop_coding_dh_org.csv\n"
      ]
     },
     "metadata": {},
     "output_type": "display_data"
    },
    {
     "data": {
      "text/html": [
       "<pre style=\"white-space:pre;overflow-x:auto;line-height:normal;font-family:Menlo,'DejaVu Sans Mono',consolas,'Courier New',monospace\">pycontw_coding_dh_org.csv\n",
       "</pre>\n"
      ],
      "text/plain": [
       "pycontw_coding_dh_org.csv\n"
      ]
     },
     "metadata": {},
     "output_type": "display_data"
    },
    {
     "data": {
      "text/html": [
       "<pre style=\"white-space:pre;overflow-x:auto;line-height:normal;font-family:Menlo,'DejaVu Sans Mono',consolas,'Courier New',monospace\">scaife-viewer_coding_dh_org.csv\n",
       "</pre>\n"
      ],
      "text/plain": [
       "scaife-viewer_coding_dh_org.csv\n"
      ]
     },
     "metadata": {},
     "output_type": "display_data"
    },
    {
     "data": {
      "text/html": [
       "<pre style=\"white-space:pre;overflow-x:auto;line-height:normal;font-family:Menlo,'DejaVu Sans Mono',consolas,'Courier New',monospace\">r-bio_coding_dh_org.csv\n",
       "</pre>\n"
      ],
      "text/plain": [
       "r-bio_coding_dh_org.csv\n"
      ]
     },
     "metadata": {},
     "output_type": "display_data"
    },
    {
     "data": {
      "text/html": [
       "<pre style=\"white-space:pre;overflow-x:auto;line-height:normal;font-family:Menlo,'DejaVu Sans Mono',consolas,'Courier New',monospace\">OutplayedApps_coding_dh_org.csv\n",
       "</pre>\n"
      ],
      "text/plain": [
       "OutplayedApps_coding_dh_org.csv\n"
      ]
     },
     "metadata": {},
     "output_type": "display_data"
    },
    {
     "data": {
      "text/html": [
       "<pre style=\"white-space:pre;overflow-x:auto;line-height:normal;font-family:Menlo,'DejaVu Sans Mono',consolas,'Courier New',monospace\">Kyrkosok_coding_dh_org.csv\n",
       "</pre>\n"
      ],
      "text/plain": [
       "Kyrkosok_coding_dh_org.csv\n"
      ]
     },
     "metadata": {},
     "output_type": "display_data"
    },
    {
     "data": {
      "text/html": [
       "<pre style=\"white-space:pre;overflow-x:auto;line-height:normal;font-family:Menlo,'DejaVu Sans Mono',consolas,'Courier New',monospace\">georgian-digital-text-collective_coding_dh_org.csv\n",
       "</pre>\n"
      ],
      "text/plain": [
       "georgian-digital-text-collective_coding_dh_org.csv\n"
      ]
     },
     "metadata": {},
     "output_type": "display_data"
    },
    {
     "data": {
      "text/html": [
       "<pre style=\"white-space:pre;overflow-x:auto;line-height:normal;font-family:Menlo,'DejaVu Sans Mono',consolas,'Courier New',monospace\">scarlatti_coding_dh_org.csv\n",
       "</pre>\n"
      ],
      "text/plain": [
       "scarlatti_coding_dh_org.csv\n"
      ]
     },
     "metadata": {},
     "output_type": "display_data"
    },
    {
     "data": {
      "text/html": [
       "<pre style=\"white-space:pre;overflow-x:auto;line-height:normal;font-family:Menlo,'DejaVu Sans Mono',consolas,'Courier New',monospace\">facebookresearch_coding_dh_org.csv\n",
       "</pre>\n"
      ],
      "text/plain": [
       "facebookresearch_coding_dh_org.csv\n"
      ]
     },
     "metadata": {},
     "output_type": "display_data"
    },
    {
     "data": {
      "text/html": [
       "<pre style=\"white-space:pre;overflow-x:auto;line-height:normal;font-family:Menlo,'DejaVu Sans Mono',consolas,'Courier New',monospace\">pyscript_coding_dh_org.csv\n",
       "</pre>\n"
      ],
      "text/plain": [
       "pyscript_coding_dh_org.csv\n"
      ]
     },
     "metadata": {},
     "output_type": "display_data"
    },
    {
     "data": {
      "text/html": [
       "<pre style=\"white-space:pre;overflow-x:auto;line-height:normal;font-family:Menlo,'DejaVu Sans Mono',consolas,'Courier New',monospace\">openpreserve_coding_dh_org.csv\n",
       "</pre>\n"
      ],
      "text/plain": [
       "openpreserve_coding_dh_org.csv\n"
      ]
     },
     "metadata": {},
     "output_type": "display_data"
    },
    {
     "data": {
      "text/html": [
       "<pre style=\"white-space:pre;overflow-x:auto;line-height:normal;font-family:Menlo,'DejaVu Sans Mono',consolas,'Courier New',monospace\">reale_coding_dh_org.csv\n",
       "</pre>\n"
      ],
      "text/plain": [
       "reale_coding_dh_org.csv\n"
      ]
     },
     "metadata": {},
     "output_type": "display_data"
    },
    {
     "data": {
      "text/html": [
       "<pre style=\"white-space:pre;overflow-x:auto;line-height:normal;font-family:Menlo,'DejaVu Sans Mono',consolas,'Courier New',monospace\">Harvard-ATG_coding_dh_org.csv\n",
       "</pre>\n"
      ],
      "text/plain": [
       "Harvard-ATG_coding_dh_org.csv\n"
      ]
     },
     "metadata": {},
     "output_type": "display_data"
    },
    {
     "data": {
      "text/html": [
       "<pre style=\"white-space:pre;overflow-x:auto;line-height:normal;font-family:Menlo,'DejaVu Sans Mono',consolas,'Courier New',monospace\">USEPA_coding_dh_org.csv\n",
       "</pre>\n"
      ],
      "text/plain": [
       "USEPA_coding_dh_org.csv\n"
      ]
     },
     "metadata": {},
     "output_type": "display_data"
    },
    {
     "data": {
      "text/html": [
       "<pre style=\"white-space:pre;overflow-x:auto;line-height:normal;font-family:Menlo,'DejaVu Sans Mono',consolas,'Courier New',monospace\">credential-handler_coding_dh_org.csv\n",
       "</pre>\n"
      ],
      "text/plain": [
       "credential-handler_coding_dh_org.csv\n"
      ]
     },
     "metadata": {},
     "output_type": "display_data"
    },
    {
     "data": {
      "text/html": [
       "<pre style=\"white-space:pre;overflow-x:auto;line-height:normal;font-family:Menlo,'DejaVu Sans Mono',consolas,'Courier New',monospace\">UniversityofCambridgeMuseums_coding_dh_org.csv\n",
       "</pre>\n"
      ],
      "text/plain": [
       "UniversityofCambridgeMuseums_coding_dh_org.csv\n"
      ]
     },
     "metadata": {},
     "output_type": "display_data"
    },
    {
     "data": {
      "text/html": [
       "<pre style=\"white-space:pre;overflow-x:auto;line-height:normal;font-family:Menlo,'DejaVu Sans Mono',consolas,'Courier New',monospace\">curso-r_coding_dh_org.csv\n",
       "</pre>\n"
      ],
      "text/plain": [
       "curso-r_coding_dh_org.csv\n"
      ]
     },
     "metadata": {},
     "output_type": "display_data"
    },
    {
     "data": {
      "text/html": [
       "<pre style=\"white-space:pre;overflow-x:auto;line-height:normal;font-family:Menlo,'DejaVu Sans Mono',consolas,'Courier New',monospace\">Uberspace_coding_dh_org.csv\n",
       "</pre>\n"
      ],
      "text/plain": [
       "Uberspace_coding_dh_org.csv\n"
      ]
     },
     "metadata": {},
     "output_type": "display_data"
    },
    {
     "data": {
      "text/html": [
       "<pre style=\"white-space:pre;overflow-x:auto;line-height:normal;font-family:Menlo,'DejaVu Sans Mono',consolas,'Courier New',monospace\">Kemanusiaan_coding_dh_org.csv\n",
       "</pre>\n"
      ],
      "text/plain": [
       "Kemanusiaan_coding_dh_org.csv\n"
      ]
     },
     "metadata": {},
     "output_type": "display_data"
    },
    {
     "data": {
      "text/html": [
       "<pre style=\"white-space:pre;overflow-x:auto;line-height:normal;font-family:Menlo,'DejaVu Sans Mono',consolas,'Courier New',monospace\">PythonOT_coding_dh_org.csv\n",
       "</pre>\n"
      ],
      "text/plain": [
       "PythonOT_coding_dh_org.csv\n"
      ]
     },
     "metadata": {},
     "output_type": "display_data"
    },
    {
     "data": {
      "text/html": [
       "<pre style=\"white-space:pre;overflow-x:auto;line-height:normal;font-family:Menlo,'DejaVu Sans Mono',consolas,'Courier New',monospace\">pyOpenSci_coding_dh_org.csv\n",
       "</pre>\n"
      ],
      "text/plain": [
       "pyOpenSci_coding_dh_org.csv\n"
      ]
     },
     "metadata": {},
     "output_type": "display_data"
    },
    {
     "data": {
      "text/html": [
       "<pre style=\"white-space:pre;overflow-x:auto;line-height:normal;font-family:Menlo,'DejaVu Sans Mono',consolas,'Courier New',monospace\">Keycapsss_coding_dh_org.csv\n",
       "</pre>\n"
      ],
      "text/plain": [
       "Keycapsss_coding_dh_org.csv\n"
      ]
     },
     "metadata": {},
     "output_type": "display_data"
    },
    {
     "data": {
      "text/html": [
       "<pre style=\"white-space:pre;overflow-x:auto;line-height:normal;font-family:Menlo,'DejaVu Sans Mono',consolas,'Courier New',monospace\">scipy_coding_dh_org.csv\n",
       "</pre>\n"
      ],
      "text/plain": [
       "scipy_coding_dh_org.csv\n"
      ]
     },
     "metadata": {},
     "output_type": "display_data"
    },
    {
     "data": {
      "text/html": [
       "<pre style=\"white-space:pre;overflow-x:auto;line-height:normal;font-family:Menlo,'DejaVu Sans Mono',consolas,'Courier New',monospace\">workflowr_coding_dh_org.csv\n",
       "</pre>\n"
      ],
      "text/plain": [
       "workflowr_coding_dh_org.csv\n"
      ]
     },
     "metadata": {},
     "output_type": "display_data"
    },
    {
     "data": {
      "text/html": [
       "<pre style=\"white-space:pre;overflow-x:auto;line-height:normal;font-family:Menlo,'DejaVu Sans Mono',consolas,'Courier New',monospace\">MyDataVaud_coding_dh_org.csv\n",
       "</pre>\n"
      ],
      "text/plain": [
       "MyDataVaud_coding_dh_org.csv\n"
      ]
     },
     "metadata": {},
     "output_type": "display_data"
    },
    {
     "data": {
      "text/html": [
       "<pre style=\"white-space:pre;overflow-x:auto;line-height:normal;font-family:Menlo,'DejaVu Sans Mono',consolas,'Courier New',monospace\">Digital-Dostoevsky_coding_dh_org.csv\n",
       "</pre>\n"
      ],
      "text/plain": [
       "Digital-Dostoevsky_coding_dh_org.csv\n"
      ]
     },
     "metadata": {},
     "output_type": "display_data"
    },
    {
     "data": {
      "text/html": [
       "<pre style=\"white-space:pre;overflow-x:auto;line-height:normal;font-family:Menlo,'DejaVu Sans Mono',consolas,'Courier New',monospace\">EcoJulia_coding_dh_org.csv\n",
       "</pre>\n"
      ],
      "text/plain": [
       "EcoJulia_coding_dh_org.csv\n"
      ]
     },
     "metadata": {},
     "output_type": "display_data"
    },
    {
     "data": {
      "text/html": [
       "<pre style=\"white-space:pre;overflow-x:auto;line-height:normal;font-family:Menlo,'DejaVu Sans Mono',consolas,'Courier New',monospace\">performant-software_coding_dh_org.csv\n",
       "</pre>\n"
      ],
      "text/plain": [
       "performant-software_coding_dh_org.csv\n"
      ]
     },
     "metadata": {},
     "output_type": "display_data"
    },
    {
     "data": {
      "text/html": [
       "<pre style=\"white-space:pre;overflow-x:auto;line-height:normal;font-family:Menlo,'DejaVu Sans Mono',consolas,'Courier New',monospace\">FreeUKGen_coding_dh_org.csv\n",
       "</pre>\n"
      ],
      "text/plain": [
       "FreeUKGen_coding_dh_org.csv\n"
      ]
     },
     "metadata": {},
     "output_type": "display_data"
    },
    {
     "data": {
      "text/html": [
       "<pre style=\"white-space:pre;overflow-x:auto;line-height:normal;font-family:Menlo,'DejaVu Sans Mono',consolas,'Courier New',monospace\">opennetsci_coding_dh_org.csv\n",
       "</pre>\n"
      ],
      "text/plain": [
       "opennetsci_coding_dh_org.csv\n"
      ]
     },
     "metadata": {},
     "output_type": "display_data"
    },
    {
     "data": {
      "text/html": [
       "<pre style=\"white-space:pre;overflow-x:auto;line-height:normal;font-family:Menlo,'DejaVu Sans Mono',consolas,'Courier New',monospace\">satRdays_coding_dh_org.csv\n",
       "</pre>\n"
      ],
      "text/plain": [
       "satRdays_coding_dh_org.csv\n"
      ]
     },
     "metadata": {},
     "output_type": "display_data"
    },
    {
     "data": {
      "text/html": [
       "<pre style=\"white-space:pre;overflow-x:auto;line-height:normal;font-family:Menlo,'DejaVu Sans Mono',consolas,'Courier New',monospace\">tidymodels_coding_dh_org.csv\n",
       "</pre>\n"
      ],
      "text/plain": [
       "tidymodels_coding_dh_org.csv\n"
      ]
     },
     "metadata": {},
     "output_type": "display_data"
    },
    {
     "data": {
      "text/html": [
       "<pre style=\"white-space:pre;overflow-x:auto;line-height:normal;font-family:Menlo,'DejaVu Sans Mono',consolas,'Courier New',monospace\">Gryffinpop_coding_dh_org.csv\n",
       "</pre>\n"
      ],
      "text/plain": [
       "Gryffinpop_coding_dh_org.csv\n"
      ]
     },
     "metadata": {},
     "output_type": "display_data"
    },
    {
     "data": {
      "text/html": [
       "<pre style=\"white-space:pre;overflow-x:auto;line-height:normal;font-family:Menlo,'DejaVu Sans Mono',consolas,'Courier New',monospace\">bangladeshihistory_coding_dh_org.csv\n",
       "</pre>\n"
      ],
      "text/plain": [
       "bangladeshihistory_coding_dh_org.csv\n"
      ]
     },
     "metadata": {},
     "output_type": "display_data"
    },
    {
     "data": {
      "text/html": [
       "<pre style=\"white-space:pre;overflow-x:auto;line-height:normal;font-family:Menlo,'DejaVu Sans Mono',consolas,'Courier New',monospace\">hybox_coding_dh_org.csv\n",
       "</pre>\n"
      ],
      "text/plain": [
       "hybox_coding_dh_org.csv\n"
      ]
     },
     "metadata": {},
     "output_type": "display_data"
    },
    {
     "data": {
      "text/html": [
       "<pre style=\"white-space:pre;overflow-x:auto;line-height:normal;font-family:Menlo,'DejaVu Sans Mono',consolas,'Courier New',monospace\">osirrc_coding_dh_org.csv\n",
       "</pre>\n"
      ],
      "text/plain": [
       "osirrc_coding_dh_org.csv\n"
      ]
     },
     "metadata": {},
     "output_type": "display_data"
    },
    {
     "data": {
      "text/html": [
       "<pre style=\"white-space:pre;overflow-x:auto;line-height:normal;font-family:Menlo,'DejaVu Sans Mono',consolas,'Courier New',monospace\">jhu-data-services_coding_dh_org.csv\n",
       "</pre>\n"
      ],
      "text/plain": [
       "jhu-data-services_coding_dh_org.csv\n"
      ]
     },
     "metadata": {},
     "output_type": "display_data"
    },
    {
     "data": {
      "text/html": [
       "<pre style=\"white-space:pre;overflow-x:auto;line-height:normal;font-family:Menlo,'DejaVu Sans Mono',consolas,'Courier New',monospace\">AccessibleFuture_coding_dh_org.csv\n",
       "</pre>\n"
      ],
      "text/plain": [
       "AccessibleFuture_coding_dh_org.csv\n"
      ]
     },
     "metadata": {},
     "output_type": "display_data"
    },
    {
     "data": {
      "text/html": [
       "<pre style=\"white-space:pre;overflow-x:auto;line-height:normal;font-family:Menlo,'DejaVu Sans Mono',consolas,'Courier New',monospace\">user2014_coding_dh_org.csv\n",
       "</pre>\n"
      ],
      "text/plain": [
       "user2014_coding_dh_org.csv\n"
      ]
     },
     "metadata": {},
     "output_type": "display_data"
    },
    {
     "data": {
      "text/html": [
       "<pre style=\"white-space:pre;overflow-x:auto;line-height:normal;font-family:Menlo,'DejaVu Sans Mono',consolas,'Courier New',monospace\">bnosac_coding_dh_org.csv\n",
       "</pre>\n"
      ],
      "text/plain": [
       "bnosac_coding_dh_org.csv\n"
      ]
     },
     "metadata": {},
     "output_type": "display_data"
    },
    {
     "data": {
      "text/html": [
       "<pre style=\"white-space:pre;overflow-x:auto;line-height:normal;font-family:Menlo,'DejaVu Sans Mono',consolas,'Courier New',monospace\">laminas_coding_dh_org.csv\n",
       "</pre>\n"
      ],
      "text/plain": [
       "laminas_coding_dh_org.csv\n"
      ]
     },
     "metadata": {},
     "output_type": "display_data"
    },
    {
     "data": {
      "text/html": [
       "<pre style=\"white-space:pre;overflow-x:auto;line-height:normal;font-family:Menlo,'DejaVu Sans Mono',consolas,'Courier New',monospace\">LabMonaci_coding_dh_org.csv\n",
       "</pre>\n"
      ],
      "text/plain": [
       "LabMonaci_coding_dh_org.csv\n"
      ]
     },
     "metadata": {},
     "output_type": "display_data"
    },
    {
     "data": {
      "text/html": [
       "<pre style=\"white-space:pre;overflow-x:auto;line-height:normal;font-family:Menlo,'DejaVu Sans Mono',consolas,'Courier New',monospace\">CobwebOrg_coding_dh_org.csv\n",
       "</pre>\n"
      ],
      "text/plain": [
       "CobwebOrg_coding_dh_org.csv\n"
      ]
     },
     "metadata": {},
     "output_type": "display_data"
    },
    {
     "data": {
      "text/html": [
       "<pre style=\"white-space:pre;overflow-x:auto;line-height:normal;font-family:Menlo,'DejaVu Sans Mono',consolas,'Courier New',monospace\">LowResourceLanguages_coding_dh_org.csv\n",
       "</pre>\n"
      ],
      "text/plain": [
       "LowResourceLanguages_coding_dh_org.csv\n"
      ]
     },
     "metadata": {},
     "output_type": "display_data"
    },
    {
     "data": {
      "text/html": [
       "<pre style=\"white-space:pre;overflow-x:auto;line-height:normal;font-family:Menlo,'DejaVu Sans Mono',consolas,'Courier New',monospace\">collecting-social-photo_coding_dh_org.csv\n",
       "</pre>\n"
      ],
      "text/plain": [
       "collecting-social-photo_coding_dh_org.csv\n"
      ]
     },
     "metadata": {},
     "output_type": "display_data"
    },
    {
     "data": {
      "text/html": [
       "<pre style=\"white-space:pre;overflow-x:auto;line-height:normal;font-family:Menlo,'DejaVu Sans Mono',consolas,'Courier New',monospace\">sakedhdk_coding_dh_org.csv\n",
       "</pre>\n"
      ],
      "text/plain": [
       "sakedhdk_coding_dh_org.csv\n"
      ]
     },
     "metadata": {},
     "output_type": "display_data"
    },
    {
     "data": {
      "text/html": [
       "<pre style=\"white-space:pre;overflow-x:auto;line-height:normal;font-family:Menlo,'DejaVu Sans Mono',consolas,'Courier New',monospace\">HistoryAtState_coding_dh_org.csv\n",
       "</pre>\n"
      ],
      "text/plain": [
       "HistoryAtState_coding_dh_org.csv\n"
      ]
     },
     "metadata": {},
     "output_type": "display_data"
    },
    {
     "data": {
      "text/html": [
       "<pre style=\"white-space:pre;overflow-x:auto;line-height:normal;font-family:Menlo,'DejaVu Sans Mono',consolas,'Courier New',monospace\">Abantu-Audio_coding_dh_org.csv\n",
       "</pre>\n"
      ],
      "text/plain": [
       "Abantu-Audio_coding_dh_org.csv\n"
      ]
     },
     "metadata": {},
     "output_type": "display_data"
    },
    {
     "data": {
      "text/html": [
       "<pre style=\"white-space:pre;overflow-x:auto;line-height:normal;font-family:Menlo,'DejaVu Sans Mono',consolas,'Courier New',monospace\">zygur_coding_dh_org.csv\n",
       "</pre>\n"
      ],
      "text/plain": [
       "zygur_coding_dh_org.csv\n"
      ]
     },
     "metadata": {},
     "output_type": "display_data"
    },
    {
     "data": {
      "text/html": [
       "<pre style=\"white-space:pre;overflow-x:auto;line-height:normal;font-family:Menlo,'DejaVu Sans Mono',consolas,'Courier New',monospace\">tinode_coding_dh_org.csv\n",
       "</pre>\n"
      ],
      "text/plain": [
       "tinode_coding_dh_org.csv\n"
      ]
     },
     "metadata": {},
     "output_type": "display_data"
    },
    {
     "data": {
      "text/html": [
       "<pre style=\"white-space:pre;overflow-x:auto;line-height:normal;font-family:Menlo,'DejaVu Sans Mono',consolas,'Courier New',monospace\">CADottorato_coding_dh_org.csv\n",
       "</pre>\n"
      ],
      "text/plain": [
       "CADottorato_coding_dh_org.csv\n"
      ]
     },
     "metadata": {},
     "output_type": "display_data"
    },
    {
     "data": {
      "text/html": [
       "<pre style=\"white-space:pre;overflow-x:auto;line-height:normal;font-family:Menlo,'DejaVu Sans Mono',consolas,'Courier New',monospace\">KELLIA_coding_dh_org.csv\n",
       "</pre>\n"
      ],
      "text/plain": [
       "KELLIA_coding_dh_org.csv\n"
      ]
     },
     "metadata": {},
     "output_type": "display_data"
    },
    {
     "data": {
      "text/html": [
       "<pre style=\"white-space:pre;overflow-x:auto;line-height:normal;font-family:Menlo,'DejaVu Sans Mono',consolas,'Courier New',monospace\">sucho-archiving_coding_dh_org.csv\n",
       "</pre>\n"
      ],
      "text/plain": [
       "sucho-archiving_coding_dh_org.csv\n"
      ]
     },
     "metadata": {},
     "output_type": "display_data"
    },
    {
     "data": {
      "text/html": [
       "<pre style=\"white-space:pre;overflow-x:auto;line-height:normal;font-family:Menlo,'DejaVu Sans Mono',consolas,'Courier New',monospace\">thirdstreet_coding_dh_org.csv\n",
       "</pre>\n"
      ],
      "text/plain": [
       "thirdstreet_coding_dh_org.csv\n"
      ]
     },
     "metadata": {},
     "output_type": "display_data"
    },
    {
     "data": {
      "text/html": [
       "<pre style=\"white-space:pre;overflow-x:auto;line-height:normal;font-family:Menlo,'DejaVu Sans Mono',consolas,'Courier New',monospace\">cophi-wue_coding_dh_org.csv\n",
       "</pre>\n"
      ],
      "text/plain": [
       "cophi-wue_coding_dh_org.csv\n"
      ]
     },
     "metadata": {},
     "output_type": "display_data"
    },
    {
     "data": {
      "text/html": [
       "<pre style=\"white-space:pre;overflow-x:auto;line-height:normal;font-family:Menlo,'DejaVu Sans Mono',consolas,'Courier New',monospace\">linkedresearch_coding_dh_org.csv\n",
       "</pre>\n"
      ],
      "text/plain": [
       "linkedresearch_coding_dh_org.csv\n"
      ]
     },
     "metadata": {},
     "output_type": "display_data"
    },
    {
     "data": {
      "text/html": [
       "<pre style=\"white-space:pre;overflow-x:auto;line-height:normal;font-family:Menlo,'DejaVu Sans Mono',consolas,'Courier New',monospace\">fuchsiamontessori_coding_dh_org.csv\n",
       "</pre>\n"
      ],
      "text/plain": [
       "fuchsiamontessori_coding_dh_org.csv\n"
      ]
     },
     "metadata": {},
     "output_type": "display_data"
    },
    {
     "data": {
      "text/html": [
       "<pre style=\"white-space:pre;overflow-x:auto;line-height:normal;font-family:Menlo,'DejaVu Sans Mono',consolas,'Courier New',monospace\">AthensStateComputerScience_coding_dh_org.csv\n",
       "</pre>\n"
      ],
      "text/plain": [
       "AthensStateComputerScience_coding_dh_org.csv\n"
      ]
     },
     "metadata": {},
     "output_type": "display_data"
    },
    {
     "data": {
      "text/html": [
       "<pre style=\"white-space:pre;overflow-x:auto;line-height:normal;font-family:Menlo,'DejaVu Sans Mono',consolas,'Courier New',monospace\">jeclib_coding_dh_org.csv\n",
       "</pre>\n"
      ],
      "text/plain": [
       "jeclib_coding_dh_org.csv\n"
      ]
     },
     "metadata": {},
     "output_type": "display_data"
    },
    {
     "data": {
      "text/html": [
       "<pre style=\"white-space:pre;overflow-x:auto;line-height:normal;font-family:Menlo,'DejaVu Sans Mono',consolas,'Courier New',monospace\">VUELC_coding_dh_org.csv\n",
       "</pre>\n"
      ],
      "text/plain": [
       "VUELC_coding_dh_org.csv\n"
      ]
     },
     "metadata": {},
     "output_type": "display_data"
    },
    {
     "data": {
      "text/html": [
       "<pre style=\"white-space:pre;overflow-x:auto;line-height:normal;font-family:Menlo,'DejaVu Sans Mono',consolas,'Courier New',monospace\">github-campus-advisors_coding_dh_org.csv\n",
       "</pre>\n"
      ],
      "text/plain": [
       "github-campus-advisors_coding_dh_org.csv\n"
      ]
     },
     "metadata": {},
     "output_type": "display_data"
    },
    {
     "data": {
      "text/html": [
       "<pre style=\"white-space:pre;overflow-x:auto;line-height:normal;font-family:Menlo,'DejaVu Sans Mono',consolas,'Courier New',monospace\">xqdoc_coding_dh_org.csv\n",
       "</pre>\n"
      ],
      "text/plain": [
       "xqdoc_coding_dh_org.csv\n"
      ]
     },
     "metadata": {},
     "output_type": "display_data"
    },
    {
     "data": {
      "text/html": [
       "<pre style=\"white-space:pre;overflow-x:auto;line-height:normal;font-family:Menlo,'DejaVu Sans Mono',consolas,'Courier New',monospace\">tower-rs_coding_dh_org.csv\n",
       "</pre>\n"
      ],
      "text/plain": [
       "tower-rs_coding_dh_org.csv\n"
      ]
     },
     "metadata": {},
     "output_type": "display_data"
    },
    {
     "data": {
      "text/html": [
       "<pre style=\"white-space:pre;overflow-x:auto;line-height:normal;font-family:Menlo,'DejaVu Sans Mono',consolas,'Courier New',monospace\">KRRVU_coding_dh_org.csv\n",
       "</pre>\n"
      ],
      "text/plain": [
       "KRRVU_coding_dh_org.csv\n"
      ]
     },
     "metadata": {},
     "output_type": "display_data"
    },
    {
     "data": {
      "text/html": [
       "<pre style=\"white-space:pre;overflow-x:auto;line-height:normal;font-family:Menlo,'DejaVu Sans Mono',consolas,'Courier New',monospace\">FH-Potsdam_coding_dh_org.csv\n",
       "</pre>\n"
      ],
      "text/plain": [
       "FH-Potsdam_coding_dh_org.csv\n"
      ]
     },
     "metadata": {},
     "output_type": "display_data"
    },
    {
     "data": {
      "text/html": [
       "<pre style=\"white-space:pre;overflow-x:auto;line-height:normal;font-family:Menlo,'DejaVu Sans Mono',consolas,'Courier New',monospace\">Ukrainian-History_coding_dh_org.csv\n",
       "</pre>\n"
      ],
      "text/plain": [
       "Ukrainian-History_coding_dh_org.csv\n"
      ]
     },
     "metadata": {},
     "output_type": "display_data"
    },
    {
     "data": {
      "text/html": [
       "<pre style=\"white-space:pre;overflow-x:auto;line-height:normal;font-family:Menlo,'DejaVu Sans Mono',consolas,'Courier New',monospace\">Ingenium-Ahmedabad-University_coding_dh_org.csv\n",
       "</pre>\n"
      ],
      "text/plain": [
       "Ingenium-Ahmedabad-University_coding_dh_org.csv\n"
      ]
     },
     "metadata": {},
     "output_type": "display_data"
    },
    {
     "data": {
      "text/html": [
       "<pre style=\"white-space:pre;overflow-x:auto;line-height:normal;font-family:Menlo,'DejaVu Sans Mono',consolas,'Courier New',monospace\">dhandlib_coding_dh_org.csv\n",
       "</pre>\n"
      ],
      "text/plain": [
       "dhandlib_coding_dh_org.csv\n"
      ]
     },
     "metadata": {},
     "output_type": "display_data"
    },
    {
     "data": {
      "text/html": [
       "<pre style=\"white-space:pre;overflow-x:auto;line-height:normal;font-family:Menlo,'DejaVu Sans Mono',consolas,'Courier New',monospace\">ProjectMirador_coding_dh_org.csv\n",
       "</pre>\n"
      ],
      "text/plain": [
       "ProjectMirador_coding_dh_org.csv\n"
      ]
     },
     "metadata": {},
     "output_type": "display_data"
    },
    {
     "data": {
      "text/html": [
       "<pre style=\"white-space:pre;overflow-x:auto;line-height:normal;font-family:Menlo,'DejaVu Sans Mono',consolas,'Courier New',monospace\">sonjappontvn_coding_dh_org.csv\n",
       "</pre>\n"
      ],
      "text/plain": [
       "sonjappontvn_coding_dh_org.csv\n"
      ]
     },
     "metadata": {},
     "output_type": "display_data"
    },
    {
     "data": {
      "text/html": [
       "<pre style=\"white-space:pre;overflow-x:auto;line-height:normal;font-family:Menlo,'DejaVu Sans Mono',consolas,'Courier New',monospace\">publicarchi_coding_dh_org.csv\n",
       "</pre>\n"
      ],
      "text/plain": [
       "publicarchi_coding_dh_org.csv\n"
      ]
     },
     "metadata": {},
     "output_type": "display_data"
    },
    {
     "data": {
      "text/html": [
       "<pre style=\"white-space:pre;overflow-x:auto;line-height:normal;font-family:Menlo,'DejaVu Sans Mono',consolas,'Courier New',monospace\">IIIF_coding_dh_org.csv\n",
       "</pre>\n"
      ],
      "text/plain": [
       "IIIF_coding_dh_org.csv\n"
      ]
     },
     "metadata": {},
     "output_type": "display_data"
    },
    {
     "data": {
      "text/html": [
       "<pre style=\"white-space:pre;overflow-x:auto;line-height:normal;font-family:Menlo,'DejaVu Sans Mono',consolas,'Courier New',monospace\">GerkeLab_coding_dh_org.csv\n",
       "</pre>\n"
      ],
      "text/plain": [
       "GerkeLab_coding_dh_org.csv\n"
      ]
     },
     "metadata": {},
     "output_type": "display_data"
    },
    {
     "data": {
      "text/html": [
       "<pre style=\"white-space:pre;overflow-x:auto;line-height:normal;font-family:Menlo,'DejaVu Sans Mono',consolas,'Courier New',monospace\">humdrum-tools_coding_dh_org.csv\n",
       "</pre>\n"
      ],
      "text/plain": [
       "humdrum-tools_coding_dh_org.csv\n"
      ]
     },
     "metadata": {},
     "output_type": "display_data"
    },
    {
     "data": {
      "text/html": [
       "<pre style=\"white-space:pre;overflow-x:auto;line-height:normal;font-family:Menlo,'DejaVu Sans Mono',consolas,'Courier New',monospace\">farmandcellar_coding_dh_org.csv\n",
       "</pre>\n"
      ],
      "text/plain": [
       "farmandcellar_coding_dh_org.csv\n"
      ]
     },
     "metadata": {},
     "output_type": "display_data"
    },
    {
     "data": {
      "text/html": [
       "<pre style=\"white-space:pre;overflow-x:auto;line-height:normal;font-family:Menlo,'DejaVu Sans Mono',consolas,'Courier New',monospace\">slub_coding_dh_org.csv\n",
       "</pre>\n"
      ],
      "text/plain": [
       "slub_coding_dh_org.csv\n"
      ]
     },
     "metadata": {},
     "output_type": "display_data"
    },
    {
     "data": {
      "text/html": [
       "<pre style=\"white-space:pre;overflow-x:auto;line-height:normal;font-family:Menlo,'DejaVu Sans Mono',consolas,'Courier New',monospace\">dis-organization_coding_dh_org.csv\n",
       "</pre>\n"
      ],
      "text/plain": [
       "dis-organization_coding_dh_org.csv\n"
      ]
     },
     "metadata": {},
     "output_type": "display_data"
    },
    {
     "data": {
      "text/html": [
       "<pre style=\"white-space:pre;overflow-x:auto;line-height:normal;font-family:Menlo,'DejaVu Sans Mono',consolas,'Courier New',monospace\">midwest-manuscripts_coding_dh_org.csv\n",
       "</pre>\n"
      ],
      "text/plain": [
       "midwest-manuscripts_coding_dh_org.csv\n"
      ]
     },
     "metadata": {},
     "output_type": "display_data"
    },
    {
     "data": {
      "text/html": [
       "<pre style=\"white-space:pre;overflow-x:auto;line-height:normal;font-family:Menlo,'DejaVu Sans Mono',consolas,'Courier New',monospace\">GeoViQua_coding_dh_org.csv\n",
       "</pre>\n"
      ],
      "text/plain": [
       "GeoViQua_coding_dh_org.csv\n"
      ]
     },
     "metadata": {},
     "output_type": "display_data"
    },
    {
     "data": {
      "text/html": [
       "<pre style=\"white-space:pre;overflow-x:auto;line-height:normal;font-family:Menlo,'DejaVu Sans Mono',consolas,'Courier New',monospace\">kodecocodes_coding_dh_org.csv\n",
       "</pre>\n"
      ],
      "text/plain": [
       "kodecocodes_coding_dh_org.csv\n"
      ]
     },
     "metadata": {},
     "output_type": "display_data"
    },
    {
     "data": {
      "text/html": [
       "<pre style=\"white-space:pre;overflow-x:auto;line-height:normal;font-family:Menlo,'DejaVu Sans Mono',consolas,'Courier New',monospace\">Scraper-Club_coding_dh_org.csv\n",
       "</pre>\n"
      ],
      "text/plain": [
       "Scraper-Club_coding_dh_org.csv\n"
      ]
     },
     "metadata": {},
     "output_type": "display_data"
    },
    {
     "data": {
      "text/html": [
       "<pre style=\"white-space:pre;overflow-x:auto;line-height:normal;font-family:Menlo,'DejaVu Sans Mono',consolas,'Courier New',monospace\">ProseMirror_coding_dh_org.csv\n",
       "</pre>\n"
      ],
      "text/plain": [
       "ProseMirror_coding_dh_org.csv\n"
      ]
     },
     "metadata": {},
     "output_type": "display_data"
    },
    {
     "data": {
      "text/html": [
       "<pre style=\"white-space:pre;overflow-x:auto;line-height:normal;font-family:Menlo,'DejaVu Sans Mono',consolas,'Courier New',monospace\">browserify_coding_dh_org.csv\n",
       "</pre>\n"
      ],
      "text/plain": [
       "browserify_coding_dh_org.csv\n"
      ]
     },
     "metadata": {},
     "output_type": "display_data"
    },
    {
     "data": {
      "text/html": [
       "<pre style=\"white-space:pre;overflow-x:auto;line-height:normal;font-family:Menlo,'DejaVu Sans Mono',consolas,'Courier New',monospace\">PolMine_coding_dh_org.csv\n",
       "</pre>\n"
      ],
      "text/plain": [
       "PolMine_coding_dh_org.csv\n"
      ]
     },
     "metadata": {},
     "output_type": "display_data"
    },
    {
     "data": {
      "text/html": [
       "<pre style=\"white-space:pre;overflow-x:auto;line-height:normal;font-family:Menlo,'DejaVu Sans Mono',consolas,'Courier New',monospace\">linuxmint_coding_dh_org.csv\n",
       "</pre>\n"
      ],
      "text/plain": [
       "linuxmint_coding_dh_org.csv\n"
      ]
     },
     "metadata": {},
     "output_type": "display_data"
    },
    {
     "data": {
      "text/html": [
       "<pre style=\"white-space:pre;overflow-x:auto;line-height:normal;font-family:Menlo,'DejaVu Sans Mono',consolas,'Courier New',monospace\">UvA-DSC_coding_dh_org.csv\n",
       "</pre>\n"
      ],
      "text/plain": [
       "UvA-DSC_coding_dh_org.csv\n"
      ]
     },
     "metadata": {},
     "output_type": "display_data"
    },
    {
     "data": {
      "text/html": [
       "<pre style=\"white-space:pre;overflow-x:auto;line-height:normal;font-family:Menlo,'DejaVu Sans Mono',consolas,'Courier New',monospace\">caa-datadragons_coding_dh_org.csv\n",
       "</pre>\n"
      ],
      "text/plain": [
       "caa-datadragons_coding_dh_org.csv\n"
      ]
     },
     "metadata": {},
     "output_type": "display_data"
    },
    {
     "data": {
      "text/html": [
       "<pre style=\"white-space:pre;overflow-x:auto;line-height:normal;font-family:Menlo,'DejaVu Sans Mono',consolas,'Courier New',monospace\">conda-forge_coding_dh_org.csv\n",
       "</pre>\n"
      ],
      "text/plain": [
       "conda-forge_coding_dh_org.csv\n"
      ]
     },
     "metadata": {},
     "output_type": "display_data"
    },
    {
     "data": {
      "text/html": [
       "<pre style=\"white-space:pre;overflow-x:auto;line-height:normal;font-family:Menlo,'DejaVu Sans Mono',consolas,'Courier New',monospace\">mitaai_coding_dh_org.csv\n",
       "</pre>\n"
      ],
      "text/plain": [
       "mitaai_coding_dh_org.csv\n"
      ]
     },
     "metadata": {},
     "output_type": "display_data"
    },
    {
     "data": {
      "text/html": [
       "<pre style=\"white-space:pre;overflow-x:auto;line-height:normal;font-family:Menlo,'DejaVu Sans Mono',consolas,'Courier New',monospace\">bundestag_coding_dh_org.csv\n",
       "</pre>\n"
      ],
      "text/plain": [
       "bundestag_coding_dh_org.csv\n"
      ]
     },
     "metadata": {},
     "output_type": "display_data"
    },
    {
     "data": {
      "text/html": [
       "<pre style=\"white-space:pre;overflow-x:auto;line-height:normal;font-family:Menlo,'DejaVu Sans Mono',consolas,'Courier New',monospace\">allmaps_coding_dh_org.csv\n",
       "</pre>\n"
      ],
      "text/plain": [
       "allmaps_coding_dh_org.csv\n"
      ]
     },
     "metadata": {},
     "output_type": "display_data"
    },
    {
     "data": {
      "text/html": [
       "<pre style=\"white-space:pre;overflow-x:auto;line-height:normal;font-family:Menlo,'DejaVu Sans Mono',consolas,'Courier New',monospace\">DataScienceAndEngineering_coding_dh_org.csv\n",
       "</pre>\n"
      ],
      "text/plain": [
       "DataScienceAndEngineering_coding_dh_org.csv\n"
      ]
     },
     "metadata": {},
     "output_type": "display_data"
    },
    {
     "data": {
      "text/html": [
       "<pre style=\"white-space:pre;overflow-x:auto;line-height:normal;font-family:Menlo,'DejaVu Sans Mono',consolas,'Courier New',monospace\">GenericMappingTools_coding_dh_org.csv\n",
       "</pre>\n"
      ],
      "text/plain": [
       "GenericMappingTools_coding_dh_org.csv\n"
      ]
     },
     "metadata": {},
     "output_type": "display_data"
    },
    {
     "data": {
      "text/html": [
       "<pre style=\"white-space:pre;overflow-x:auto;line-height:normal;font-family:Menlo,'DejaVu Sans Mono',consolas,'Courier New',monospace\">dijest_coding_dh_org.csv\n",
       "</pre>\n"
      ],
      "text/plain": [
       "dijest_coding_dh_org.csv\n"
      ]
     },
     "metadata": {},
     "output_type": "display_data"
    },
    {
     "data": {
      "text/html": [
       "<pre style=\"white-space:pre;overflow-x:auto;line-height:normal;font-family:Menlo,'DejaVu Sans Mono',consolas,'Courier New',monospace\">se-datalibrarian_coding_dh_org.csv\n",
       "</pre>\n"
      ],
      "text/plain": [
       "se-datalibrarian_coding_dh_org.csv\n"
      ]
     },
     "metadata": {},
     "output_type": "display_data"
    },
    {
     "data": {
      "text/html": [
       "<pre style=\"white-space:pre;overflow-x:auto;line-height:normal;font-family:Menlo,'DejaVu Sans Mono',consolas,'Courier New',monospace\">Islandora-Labs_coding_dh_org.csv\n",
       "</pre>\n"
      ],
      "text/plain": [
       "Islandora-Labs_coding_dh_org.csv\n"
      ]
     },
     "metadata": {},
     "output_type": "display_data"
    },
    {
     "data": {
      "text/html": [
       "<pre style=\"white-space:pre;overflow-x:auto;line-height:normal;font-family:Menlo,'DejaVu Sans Mono',consolas,'Courier New',monospace\">archives-new-zealand_coding_dh_org.csv\n",
       "</pre>\n"
      ],
      "text/plain": [
       "archives-new-zealand_coding_dh_org.csv\n"
      ]
     },
     "metadata": {},
     "output_type": "display_data"
    },
    {
     "data": {
      "text/html": [
       "<pre style=\"white-space:pre;overflow-x:auto;line-height:normal;font-family:Menlo,'DejaVu Sans Mono',consolas,'Courier New',monospace\">opensyllabus_coding_dh_org.csv\n",
       "</pre>\n"
      ],
      "text/plain": [
       "opensyllabus_coding_dh_org.csv\n"
      ]
     },
     "metadata": {},
     "output_type": "display_data"
    },
    {
     "data": {
      "text/html": [
       "<pre style=\"white-space:pre;overflow-x:auto;line-height:normal;font-family:Menlo,'DejaVu Sans Mono',consolas,'Courier New',monospace\">okfde_coding_dh_org.csv\n",
       "</pre>\n"
      ],
      "text/plain": [
       "okfde_coding_dh_org.csv\n"
      ]
     },
     "metadata": {},
     "output_type": "display_data"
    },
    {
     "data": {
      "text/html": [
       "<pre style=\"white-space:pre;overflow-x:auto;line-height:normal;font-family:Menlo,'DejaVu Sans Mono',consolas,'Courier New',monospace\">sastrakode_coding_dh_org.csv\n",
       "</pre>\n"
      ],
      "text/plain": [
       "sastrakode_coding_dh_org.csv\n"
      ]
     },
     "metadata": {},
     "output_type": "display_data"
    },
    {
     "data": {
      "text/html": [
       "<pre style=\"white-space:pre;overflow-x:auto;line-height:normal;font-family:Menlo,'DejaVu Sans Mono',consolas,'Courier New',monospace\">samvera-deprecated_coding_dh_org.csv\n",
       "</pre>\n"
      ],
      "text/plain": [
       "samvera-deprecated_coding_dh_org.csv\n"
      ]
     },
     "metadata": {},
     "output_type": "display_data"
    },
    {
     "data": {
      "text/html": [
       "<pre style=\"white-space:pre;overflow-x:auto;line-height:normal;font-family:Menlo,'DejaVu Sans Mono',consolas,'Courier New',monospace\">libp2p_coding_dh_org.csv\n",
       "</pre>\n"
      ],
      "text/plain": [
       "libp2p_coding_dh_org.csv\n"
      ]
     },
     "metadata": {},
     "output_type": "display_data"
    },
    {
     "data": {
      "text/html": [
       "<pre style=\"white-space:pre;overflow-x:auto;line-height:normal;font-family:Menlo,'DejaVu Sans Mono',consolas,'Courier New',monospace\">QuantitativeCriticismLab_coding_dh_org.csv\n",
       "</pre>\n"
      ],
      "text/plain": [
       "QuantitativeCriticismLab_coding_dh_org.csv\n"
      ]
     },
     "metadata": {},
     "output_type": "display_data"
    },
    {
     "data": {
      "text/html": [
       "<pre style=\"white-space:pre;overflow-x:auto;line-height:normal;font-family:Menlo,'DejaVu Sans Mono',consolas,'Courier New',monospace\">thehackerwithin_coding_dh_org.csv\n",
       "</pre>\n"
      ],
      "text/plain": [
       "thehackerwithin_coding_dh_org.csv\n"
      ]
     },
     "metadata": {},
     "output_type": "display_data"
    },
    {
     "data": {
      "text/html": [
       "<pre style=\"white-space:pre;overflow-x:auto;line-height:normal;font-family:Menlo,'DejaVu Sans Mono',consolas,'Courier New',monospace\">UrbanLandUse_coding_dh_org.csv\n",
       "</pre>\n"
      ],
      "text/plain": [
       "UrbanLandUse_coding_dh_org.csv\n"
      ]
     },
     "metadata": {},
     "output_type": "display_data"
    },
    {
     "data": {
      "text/html": [
       "<pre style=\"white-space:pre;overflow-x:auto;line-height:normal;font-family:Menlo,'DejaVu Sans Mono',consolas,'Courier New',monospace\">hipstas_coding_dh_org.csv\n",
       "</pre>\n"
      ],
      "text/plain": [
       "hipstas_coding_dh_org.csv\n"
      ]
     },
     "metadata": {},
     "output_type": "display_data"
    },
    {
     "data": {
      "text/html": [
       "<pre style=\"white-space:pre;overflow-x:auto;line-height:normal;font-family:Menlo,'DejaVu Sans Mono',consolas,'Courier New',monospace\">NLPbox_coding_dh_org.csv\n",
       "</pre>\n"
      ],
      "text/plain": [
       "NLPbox_coding_dh_org.csv\n"
      ]
     },
     "metadata": {},
     "output_type": "display_data"
    },
    {
     "data": {
      "text/html": [
       "<pre style=\"white-space:pre;overflow-x:auto;line-height:normal;font-family:Menlo,'DejaVu Sans Mono',consolas,'Courier New',monospace\">codexfelis_coding_dh_org.csv\n",
       "</pre>\n"
      ],
      "text/plain": [
       "codexfelis_coding_dh_org.csv\n"
      ]
     },
     "metadata": {},
     "output_type": "display_data"
    },
    {
     "data": {
      "text/html": [
       "<pre style=\"white-space:pre;overflow-x:auto;line-height:normal;font-family:Menlo,'DejaVu Sans Mono',consolas,'Courier New',monospace\">unisg-shss_coding_dh_org.csv\n",
       "</pre>\n"
      ],
      "text/plain": [
       "unisg-shss_coding_dh_org.csv\n"
      ]
     },
     "metadata": {},
     "output_type": "display_data"
    },
    {
     "data": {
      "text/html": [
       "<pre style=\"white-space:pre;overflow-x:auto;line-height:normal;font-family:Menlo,'DejaVu Sans Mono',consolas,'Courier New',monospace\">open-editions_coding_dh_org.csv\n",
       "</pre>\n"
      ],
      "text/plain": [
       "open-editions_coding_dh_org.csv\n"
      ]
     },
     "metadata": {},
     "output_type": "display_data"
    },
    {
     "data": {
      "text/html": [
       "<pre style=\"white-space:pre;overflow-x:auto;line-height:normal;font-family:Menlo,'DejaVu Sans Mono',consolas,'Courier New',monospace\">lib-re_coding_dh_org.csv\n",
       "</pre>\n"
      ],
      "text/plain": [
       "lib-re_coding_dh_org.csv\n"
      ]
     },
     "metadata": {},
     "output_type": "display_data"
    },
    {
     "data": {
      "text/html": [
       "<pre style=\"white-space:pre;overflow-x:auto;line-height:normal;font-family:Menlo,'DejaVu Sans Mono',consolas,'Courier New',monospace\">mosano-eu_coding_dh_org.csv\n",
       "</pre>\n"
      ],
      "text/plain": [
       "mosano-eu_coding_dh_org.csv\n"
      ]
     },
     "metadata": {},
     "output_type": "display_data"
    },
    {
     "data": {
      "text/html": [
       "<pre style=\"white-space:pre;overflow-x:auto;line-height:normal;font-family:Menlo,'DejaVu Sans Mono',consolas,'Courier New',monospace\">simplex-chat_coding_dh_org.csv\n",
       "</pre>\n"
      ],
      "text/plain": [
       "simplex-chat_coding_dh_org.csv\n"
      ]
     },
     "metadata": {},
     "output_type": "display_data"
    },
    {
     "data": {
      "text/html": [
       "<pre style=\"white-space:pre;overflow-x:auto;line-height:normal;font-family:Menlo,'DejaVu Sans Mono',consolas,'Courier New',monospace\">diylove_coding_dh_org.csv\n",
       "</pre>\n"
      ],
      "text/plain": [
       "diylove_coding_dh_org.csv\n"
      ]
     },
     "metadata": {},
     "output_type": "display_data"
    },
    {
     "data": {
      "text/html": [
       "<pre style=\"white-space:pre;overflow-x:auto;line-height:normal;font-family:Menlo,'DejaVu Sans Mono',consolas,'Courier New',monospace\">alldatacenter_coding_dh_org.csv\n",
       "</pre>\n"
      ],
      "text/plain": [
       "alldatacenter_coding_dh_org.csv\n"
      ]
     },
     "metadata": {},
     "output_type": "display_data"
    },
    {
     "data": {
      "text/html": [
       "<pre style=\"white-space:pre;overflow-x:auto;line-height:normal;font-family:Menlo,'DejaVu Sans Mono',consolas,'Courier New',monospace\">rois-codh_coding_dh_org.csv\n",
       "</pre>\n"
      ],
      "text/plain": [
       "rois-codh_coding_dh_org.csv\n"
      ]
     },
     "metadata": {},
     "output_type": "display_data"
    },
    {
     "data": {
      "text/html": [
       "<pre style=\"white-space:pre;overflow-x:auto;line-height:normal;font-family:Menlo,'DejaVu Sans Mono',consolas,'Courier New',monospace\">data-gov-ie_coding_dh_org.csv\n",
       "</pre>\n"
      ],
      "text/plain": [
       "data-gov-ie_coding_dh_org.csv\n"
      ]
     },
     "metadata": {},
     "output_type": "display_data"
    },
    {
     "data": {
      "text/html": [
       "<pre style=\"white-space:pre;overflow-x:auto;line-height:normal;font-family:Menlo,'DejaVu Sans Mono',consolas,'Courier New',monospace\">DigitalAustinPapers_coding_dh_org.csv\n",
       "</pre>\n"
      ],
      "text/plain": [
       "DigitalAustinPapers_coding_dh_org.csv\n"
      ]
     },
     "metadata": {},
     "output_type": "display_data"
    },
    {
     "data": {
      "text/html": [
       "<pre style=\"white-space:pre;overflow-x:auto;line-height:normal;font-family:Menlo,'DejaVu Sans Mono',consolas,'Courier New',monospace\">soztag_coding_dh_org.csv\n",
       "</pre>\n"
      ],
      "text/plain": [
       "soztag_coding_dh_org.csv\n"
      ]
     },
     "metadata": {},
     "output_type": "display_data"
    },
    {
     "data": {
      "text/html": [
       "<pre style=\"white-space:pre;overflow-x:auto;line-height:normal;font-family:Menlo,'DejaVu Sans Mono',consolas,'Courier New',monospace\">coding4humanists_coding_dh_org.csv\n",
       "</pre>\n"
      ],
      "text/plain": [
       "coding4humanists_coding_dh_org.csv\n"
      ]
     },
     "metadata": {},
     "output_type": "display_data"
    },
    {
     "data": {
      "text/html": [
       "<pre style=\"white-space:pre;overflow-x:auto;line-height:normal;font-family:Menlo,'DejaVu Sans Mono',consolas,'Courier New',monospace\">rstudio_coding_dh_org.csv\n",
       "</pre>\n"
      ],
      "text/plain": [
       "rstudio_coding_dh_org.csv\n"
      ]
     },
     "metadata": {},
     "output_type": "display_data"
    },
    {
     "data": {
      "text/html": [
       "<pre style=\"white-space:pre;overflow-x:auto;line-height:normal;font-family:Menlo,'DejaVu Sans Mono',consolas,'Courier New',monospace\">uzinaduzina_coding_dh_org.csv\n",
       "</pre>\n"
      ],
      "text/plain": [
       "uzinaduzina_coding_dh_org.csv\n"
      ]
     },
     "metadata": {},
     "output_type": "display_data"
    },
    {
     "data": {
      "text/html": [
       "<pre style=\"white-space:pre;overflow-x:auto;line-height:normal;font-family:Menlo,'DejaVu Sans Mono',consolas,'Courier New',monospace\">PHP-Einfach_coding_dh_org.csv\n",
       "</pre>\n"
      ],
      "text/plain": [
       "PHP-Einfach_coding_dh_org.csv\n"
      ]
     },
     "metadata": {},
     "output_type": "display_data"
    },
    {
     "data": {
      "text/html": [
       "<pre style=\"white-space:pre;overflow-x:auto;line-height:normal;font-family:Menlo,'DejaVu Sans Mono',consolas,'Courier New',monospace\">Wikidocumentaries_coding_dh_org.csv\n",
       "</pre>\n"
      ],
      "text/plain": [
       "Wikidocumentaries_coding_dh_org.csv\n"
      ]
     },
     "metadata": {},
     "output_type": "display_data"
    },
    {
     "data": {
      "text/html": [
       "<pre style=\"white-space:pre;overflow-x:auto;line-height:normal;font-family:Menlo,'DejaVu Sans Mono',consolas,'Courier New',monospace\">eusporg_coding_dh_org.csv\n",
       "</pre>\n"
      ],
      "text/plain": [
       "eusporg_coding_dh_org.csv\n"
      ]
     },
     "metadata": {},
     "output_type": "display_data"
    },
    {
     "data": {
      "text/html": [
       "<pre style=\"white-space:pre;overflow-x:auto;line-height:normal;font-family:Menlo,'DejaVu Sans Mono',consolas,'Courier New',monospace\">NBLGraduateSpecialistProgram_coding_dh_org.csv\n",
       "</pre>\n"
      ],
      "text/plain": [
       "NBLGraduateSpecialistProgram_coding_dh_org.csv\n"
      ]
     },
     "metadata": {},
     "output_type": "display_data"
    },
    {
     "data": {
      "text/html": [
       "<pre style=\"white-space:pre;overflow-x:auto;line-height:normal;font-family:Menlo,'DejaVu Sans Mono',consolas,'Courier New',monospace\">LibraryCodeYearIG_coding_dh_org.csv\n",
       "</pre>\n"
      ],
      "text/plain": [
       "LibraryCodeYearIG_coding_dh_org.csv\n"
      ]
     },
     "metadata": {},
     "output_type": "display_data"
    },
    {
     "data": {
      "text/html": [
       "<pre style=\"white-space:pre;overflow-x:auto;line-height:normal;font-family:Menlo,'DejaVu Sans Mono',consolas,'Courier New',monospace\">omeka_coding_dh_org.csv\n",
       "</pre>\n"
      ],
      "text/plain": [
       "omeka_coding_dh_org.csv\n"
      ]
     },
     "metadata": {},
     "output_type": "display_data"
    },
    {
     "data": {
      "text/html": [
       "<pre style=\"white-space:pre;overflow-x:auto;line-height:normal;font-family:Menlo,'DejaVu Sans Mono',consolas,'Courier New',monospace\">public-archive-service_coding_dh_org.csv\n",
       "</pre>\n"
      ],
      "text/plain": [
       "public-archive-service_coding_dh_org.csv\n"
      ]
     },
     "metadata": {},
     "output_type": "display_data"
    },
    {
     "data": {
      "text/html": [
       "<pre style=\"white-space:pre;overflow-x:auto;line-height:normal;font-family:Menlo,'DejaVu Sans Mono',consolas,'Courier New',monospace\">CONP-PCNO_coding_dh_org.csv\n",
       "</pre>\n"
      ],
      "text/plain": [
       "CONP-PCNO_coding_dh_org.csv\n"
      ]
     },
     "metadata": {},
     "output_type": "display_data"
    },
    {
     "data": {
      "text/html": [
       "<pre style=\"white-space:pre;overflow-x:auto;line-height:normal;font-family:Menlo,'DejaVu Sans Mono',consolas,'Courier New',monospace\">interpretingdl_coding_dh_org.csv\n",
       "</pre>\n"
      ],
      "text/plain": [
       "interpretingdl_coding_dh_org.csv\n"
      ]
     },
     "metadata": {},
     "output_type": "display_data"
    },
    {
     "data": {
      "text/html": [
       "<pre style=\"white-space:pre;overflow-x:auto;line-height:normal;font-family:Menlo,'DejaVu Sans Mono',consolas,'Courier New',monospace\">hurlus_coding_dh_org.csv\n",
       "</pre>\n"
      ],
      "text/plain": [
       "hurlus_coding_dh_org.csv\n"
      ]
     },
     "metadata": {},
     "output_type": "display_data"
    },
    {
     "data": {
      "text/html": [
       "<pre style=\"white-space:pre;overflow-x:auto;line-height:normal;font-family:Menlo,'DejaVu Sans Mono',consolas,'Courier New',monospace\">Delegation-numerique-en-sante_coding_dh_org.csv\n",
       "</pre>\n"
      ],
      "text/plain": [
       "Delegation-numerique-en-sante_coding_dh_org.csv\n"
      ]
     },
     "metadata": {},
     "output_type": "display_data"
    },
    {
     "data": {
      "text/html": [
       "<pre style=\"white-space:pre;overflow-x:auto;line-height:normal;font-family:Menlo,'DejaVu Sans Mono',consolas,'Courier New',monospace\">TheEconomist_coding_dh_org.csv\n",
       "</pre>\n"
      ],
      "text/plain": [
       "TheEconomist_coding_dh_org.csv\n"
      ]
     },
     "metadata": {},
     "output_type": "display_data"
    },
    {
     "data": {
      "text/html": [
       "<pre style=\"white-space:pre;overflow-x:auto;line-height:normal;font-family:Menlo,'DejaVu Sans Mono',consolas,'Courier New',monospace\">mets_coding_dh_org.csv\n",
       "</pre>\n"
      ],
      "text/plain": [
       "mets_coding_dh_org.csv\n"
      ]
     },
     "metadata": {},
     "output_type": "display_data"
    },
    {
     "data": {
      "text/html": [
       "<pre style=\"white-space:pre;overflow-x:auto;line-height:normal;font-family:Menlo,'DejaVu Sans Mono',consolas,'Courier New',monospace\">sigcsets_coding_dh_org.csv\n",
       "</pre>\n"
      ],
      "text/plain": [
       "sigcsets_coding_dh_org.csv\n"
      ]
     },
     "metadata": {},
     "output_type": "display_data"
    },
    {
     "data": {
      "text/html": [
       "<pre style=\"white-space:pre;overflow-x:auto;line-height:normal;font-family:Menlo,'DejaVu Sans Mono',consolas,'Courier New',monospace\">coverallsapp_coding_dh_org.csv\n",
       "</pre>\n"
      ],
      "text/plain": [
       "coverallsapp_coding_dh_org.csv\n"
      ]
     },
     "metadata": {},
     "output_type": "display_data"
    },
    {
     "data": {
      "text/html": [
       "<pre style=\"white-space:pre;overflow-x:auto;line-height:normal;font-family:Menlo,'DejaVu Sans Mono',consolas,'Courier New',monospace\">journeymanofsome_coding_dh_org.csv\n",
       "</pre>\n"
      ],
      "text/plain": [
       "journeymanofsome_coding_dh_org.csv\n"
      ]
     },
     "metadata": {},
     "output_type": "display_data"
    },
    {
     "data": {
      "text/html": [
       "<pre style=\"white-space:pre;overflow-x:auto;line-height:normal;font-family:Menlo,'DejaVu Sans Mono',consolas,'Courier New',monospace\">bukutang_coding_dh_org.csv\n",
       "</pre>\n"
      ],
      "text/plain": [
       "bukutang_coding_dh_org.csv\n"
      ]
     },
     "metadata": {},
     "output_type": "display_data"
    },
    {
     "data": {
      "text/html": [
       "<pre style=\"white-space:pre;overflow-x:auto;line-height:normal;font-family:Menlo,'DejaVu Sans Mono',consolas,'Courier New',monospace\">writing-resources_coding_dh_org.csv\n",
       "</pre>\n"
      ],
      "text/plain": [
       "writing-resources_coding_dh_org.csv\n"
      ]
     },
     "metadata": {},
     "output_type": "display_data"
    },
    {
     "data": {
      "text/html": [
       "<pre style=\"white-space:pre;overflow-x:auto;line-height:normal;font-family:Menlo,'DejaVu Sans Mono',consolas,'Courier New',monospace\">HOXOMInc_coding_dh_org.csv\n",
       "</pre>\n"
      ],
      "text/plain": [
       "HOXOMInc_coding_dh_org.csv\n"
      ]
     },
     "metadata": {},
     "output_type": "display_data"
    },
    {
     "data": {
      "text/html": [
       "<pre style=\"white-space:pre;overflow-x:auto;line-height:normal;font-family:Menlo,'DejaVu Sans Mono',consolas,'Courier New',monospace\">NYPL_coding_dh_org.csv\n",
       "</pre>\n"
      ],
      "text/plain": [
       "NYPL_coding_dh_org.csv\n"
      ]
     },
     "metadata": {},
     "output_type": "display_data"
    },
    {
     "data": {
      "text/html": [
       "<pre style=\"white-space:pre;overflow-x:auto;line-height:normal;font-family:Menlo,'DejaVu Sans Mono',consolas,'Courier New',monospace\">dhatwake2019_coding_dh_org.csv\n",
       "</pre>\n"
      ],
      "text/plain": [
       "dhatwake2019_coding_dh_org.csv\n"
      ]
     },
     "metadata": {},
     "output_type": "display_data"
    },
    {
     "data": {
      "text/html": [
       "<pre style=\"white-space:pre;overflow-x:auto;line-height:normal;font-family:Menlo,'DejaVu Sans Mono',consolas,'Courier New',monospace\">marriott-library_coding_dh_org.csv\n",
       "</pre>\n"
      ],
      "text/plain": [
       "marriott-library_coding_dh_org.csv\n"
      ]
     },
     "metadata": {},
     "output_type": "display_data"
    },
    {
     "data": {
      "text/html": [
       "<pre style=\"white-space:pre;overflow-x:auto;line-height:normal;font-family:Menlo,'DejaVu Sans Mono',consolas,'Courier New',monospace\">abstractEdu_coding_dh_org.csv\n",
       "</pre>\n"
      ],
      "text/plain": [
       "abstractEdu_coding_dh_org.csv\n"
      ]
     },
     "metadata": {},
     "output_type": "display_data"
    },
    {
     "data": {
      "text/html": [
       "<pre style=\"white-space:pre;overflow-x:auto;line-height:normal;font-family:Menlo,'DejaVu Sans Mono',consolas,'Courier New',monospace\">opendata-swiss_coding_dh_org.csv\n",
       "</pre>\n"
      ],
      "text/plain": [
       "opendata-swiss_coding_dh_org.csv\n"
      ]
     },
     "metadata": {},
     "output_type": "display_data"
    },
    {
     "data": {
      "text/html": [
       "<pre style=\"white-space:pre;overflow-x:auto;line-height:normal;font-family:Menlo,'DejaVu Sans Mono',consolas,'Courier New',monospace\">Hypertopic_coding_dh_org.csv\n",
       "</pre>\n"
      ],
      "text/plain": [
       "Hypertopic_coding_dh_org.csv\n"
      ]
     },
     "metadata": {},
     "output_type": "display_data"
    },
    {
     "data": {
      "text/html": [
       "<pre style=\"white-space:pre;overflow-x:auto;line-height:normal;font-family:Menlo,'DejaVu Sans Mono',consolas,'Courier New',monospace\">epigraphic-database-heidelberg_coding_dh_org.csv\n",
       "</pre>\n"
      ],
      "text/plain": [
       "epigraphic-database-heidelberg_coding_dh_org.csv\n"
      ]
     },
     "metadata": {},
     "output_type": "display_data"
    },
    {
     "data": {
      "text/html": [
       "<pre style=\"white-space:pre;overflow-x:auto;line-height:normal;font-family:Menlo,'DejaVu Sans Mono',consolas,'Courier New',monospace\">bitwises_coding_dh_org.csv\n",
       "</pre>\n"
      ],
      "text/plain": [
       "bitwises_coding_dh_org.csv\n"
      ]
     },
     "metadata": {},
     "output_type": "display_data"
    },
    {
     "data": {
      "text/html": [
       "<pre style=\"white-space:pre;overflow-x:auto;line-height:normal;font-family:Menlo,'DejaVu Sans Mono',consolas,'Courier New',monospace\">bothok_coding_dh_org.csv\n",
       "</pre>\n"
      ],
      "text/plain": [
       "bothok_coding_dh_org.csv\n"
      ]
     },
     "metadata": {},
     "output_type": "display_data"
    },
    {
     "data": {
      "text/html": [
       "<pre style=\"white-space:pre;overflow-x:auto;line-height:normal;font-family:Menlo,'DejaVu Sans Mono',consolas,'Courier New',monospace\">jenkins-x_coding_dh_org.csv\n",
       "</pre>\n"
      ],
      "text/plain": [
       "jenkins-x_coding_dh_org.csv\n"
      ]
     },
     "metadata": {},
     "output_type": "display_data"
    },
    {
     "data": {
      "text/html": [
       "<pre style=\"white-space:pre;overflow-x:auto;line-height:normal;font-family:Menlo,'DejaVu Sans Mono',consolas,'Courier New',monospace\">humanitiesbridgeapp_coding_dh_org.csv\n",
       "</pre>\n"
      ],
      "text/plain": [
       "humanitiesbridgeapp_coding_dh_org.csv\n"
      ]
     },
     "metadata": {},
     "output_type": "display_data"
    },
    {
     "data": {
      "text/html": [
       "<pre style=\"white-space:pre;overflow-x:auto;line-height:normal;font-family:Menlo,'DejaVu Sans Mono',consolas,'Courier New',monospace\">zotero_coding_dh_org.csv\n",
       "</pre>\n"
      ],
      "text/plain": [
       "zotero_coding_dh_org.csv\n"
      ]
     },
     "metadata": {},
     "output_type": "display_data"
    },
    {
     "data": {
      "text/html": [
       "<pre style=\"white-space:pre;overflow-x:auto;line-height:normal;font-family:Menlo,'DejaVu Sans Mono',consolas,'Courier New',monospace\">sigmorphon_coding_dh_org.csv\n",
       "</pre>\n"
      ],
      "text/plain": [
       "sigmorphon_coding_dh_org.csv\n"
      ]
     },
     "metadata": {},
     "output_type": "display_data"
    },
    {
     "data": {
      "text/html": [
       "<pre style=\"white-space:pre;overflow-x:auto;line-height:normal;font-family:Menlo,'DejaVu Sans Mono',consolas,'Courier New',monospace\">HeiCAD_coding_dh_org.csv\n",
       "</pre>\n"
      ],
      "text/plain": [
       "HeiCAD_coding_dh_org.csv\n"
      ]
     },
     "metadata": {},
     "output_type": "display_data"
    },
    {
     "data": {
      "text/html": [
       "<pre style=\"white-space:pre;overflow-x:auto;line-height:normal;font-family:Menlo,'DejaVu Sans Mono',consolas,'Courier New',monospace\">crosscite_coding_dh_org.csv\n",
       "</pre>\n"
      ],
      "text/plain": [
       "crosscite_coding_dh_org.csv\n"
      ]
     },
     "metadata": {},
     "output_type": "display_data"
    },
    {
     "data": {
      "text/html": [
       "<pre style=\"white-space:pre;overflow-x:auto;line-height:normal;font-family:Menlo,'DejaVu Sans Mono',consolas,'Courier New',monospace\">appwrite_coding_dh_org.csv\n",
       "</pre>\n"
      ],
      "text/plain": [
       "appwrite_coding_dh_org.csv\n"
      ]
     },
     "metadata": {},
     "output_type": "display_data"
    },
    {
     "data": {
      "text/html": [
       "<pre style=\"white-space:pre;overflow-x:auto;line-height:normal;font-family:Menlo,'DejaVu Sans Mono',consolas,'Courier New',monospace\">Pandora-Intelligence_coding_dh_org.csv\n",
       "</pre>\n"
      ],
      "text/plain": [
       "Pandora-Intelligence_coding_dh_org.csv\n"
      ]
     },
     "metadata": {},
     "output_type": "display_data"
    },
    {
     "data": {
      "text/html": [
       "<pre style=\"white-space:pre;overflow-x:auto;line-height:normal;font-family:Menlo,'DejaVu Sans Mono',consolas,'Courier New',monospace\">LAION-AI_coding_dh_org.csv\n",
       "</pre>\n"
      ],
      "text/plain": [
       "LAION-AI_coding_dh_org.csv\n"
      ]
     },
     "metadata": {},
     "output_type": "display_data"
    },
    {
     "data": {
      "text/html": [
       "<pre style=\"white-space:pre;overflow-x:auto;line-height:normal;font-family:Menlo,'DejaVu Sans Mono',consolas,'Courier New',monospace\">ComputerAnonymousSeattle_coding_dh_org.csv\n",
       "</pre>\n"
      ],
      "text/plain": [
       "ComputerAnonymousSeattle_coding_dh_org.csv\n"
      ]
     },
     "metadata": {},
     "output_type": "display_data"
    },
    {
     "data": {
      "text/html": [
       "<pre style=\"white-space:pre;overflow-x:auto;line-height:normal;font-family:Menlo,'DejaVu Sans Mono',consolas,'Courier New',monospace\">cs-kit_coding_dh_org.csv\n",
       "</pre>\n"
      ],
      "text/plain": [
       "cs-kit_coding_dh_org.csv\n"
      ]
     },
     "metadata": {},
     "output_type": "display_data"
    },
    {
     "data": {
      "text/html": [
       "<pre style=\"white-space:pre;overflow-x:auto;line-height:normal;font-family:Menlo,'DejaVu Sans Mono',consolas,'Courier New',monospace\">OpenVIVO_coding_dh_org.csv\n",
       "</pre>\n"
      ],
      "text/plain": [
       "OpenVIVO_coding_dh_org.csv\n"
      ]
     },
     "metadata": {},
     "output_type": "display_data"
    },
    {
     "data": {
      "text/html": [
       "<pre style=\"white-space:pre;overflow-x:auto;line-height:normal;font-family:Menlo,'DejaVu Sans Mono',consolas,'Courier New',monospace\">snyk_coding_dh_org.csv\n",
       "</pre>\n"
      ],
      "text/plain": [
       "snyk_coding_dh_org.csv\n"
      ]
     },
     "metadata": {},
     "output_type": "display_data"
    },
    {
     "data": {
      "text/html": [
       "<pre style=\"white-space:pre;overflow-x:auto;line-height:normal;font-family:Menlo,'DejaVu Sans Mono',consolas,'Courier New',monospace\">thegroovebox_coding_dh_org.csv\n",
       "</pre>\n"
      ],
      "text/plain": [
       "thegroovebox_coding_dh_org.csv\n"
      ]
     },
     "metadata": {},
     "output_type": "display_data"
    },
    {
     "data": {
      "text/html": [
       "<pre style=\"white-space:pre;overflow-x:auto;line-height:normal;font-family:Menlo,'DejaVu Sans Mono',consolas,'Courier New',monospace\">ucla-digital-humanities_coding_dh_org.csv\n",
       "</pre>\n"
      ],
      "text/plain": [
       "ucla-digital-humanities_coding_dh_org.csv\n"
      ]
     },
     "metadata": {},
     "output_type": "display_data"
    },
    {
     "data": {
      "text/html": [
       "<pre style=\"white-space:pre;overflow-x:auto;line-height:normal;font-family:Menlo,'DejaVu Sans Mono',consolas,'Courier New',monospace\">ocnhfa_coding_dh_org.csv\n",
       "</pre>\n"
      ],
      "text/plain": [
       "ocnhfa_coding_dh_org.csv\n"
      ]
     },
     "metadata": {},
     "output_type": "display_data"
    },
    {
     "data": {
      "text/html": [
       "<pre style=\"white-space:pre;overflow-x:auto;line-height:normal;font-family:Menlo,'DejaVu Sans Mono',consolas,'Courier New',monospace\">CPhilUHH_coding_dh_org.csv\n",
       "</pre>\n"
      ],
      "text/plain": [
       "CPhilUHH_coding_dh_org.csv\n"
      ]
     },
     "metadata": {},
     "output_type": "display_data"
    },
    {
     "data": {
      "text/html": [
       "<pre style=\"white-space:pre;overflow-x:auto;line-height:normal;font-family:Menlo,'DejaVu Sans Mono',consolas,'Courier New',monospace\">dlab-berkeley_coding_dh_org.csv\n",
       "</pre>\n"
      ],
      "text/plain": [
       "dlab-berkeley_coding_dh_org.csv\n"
      ]
     },
     "metadata": {},
     "output_type": "display_data"
    },
    {
     "data": {
      "text/html": [
       "<pre style=\"white-space:pre;overflow-x:auto;line-height:normal;font-family:Menlo,'DejaVu Sans Mono',consolas,'Courier New',monospace\">numfocus_coding_dh_org.csv\n",
       "</pre>\n"
      ],
      "text/plain": [
       "numfocus_coding_dh_org.csv\n"
      ]
     },
     "metadata": {},
     "output_type": "display_data"
    },
    {
     "data": {
      "text/html": [
       "<pre style=\"white-space:pre;overflow-x:auto;line-height:normal;font-family:Menlo,'DejaVu Sans Mono',consolas,'Courier New',monospace\">pauliceia_coding_dh_org.csv\n",
       "</pre>\n"
      ],
      "text/plain": [
       "pauliceia_coding_dh_org.csv\n"
      ]
     },
     "metadata": {},
     "output_type": "display_data"
    },
    {
     "data": {
      "text/html": [
       "<pre style=\"white-space:pre;overflow-x:auto;line-height:normal;font-family:Menlo,'DejaVu Sans Mono',consolas,'Courier New',monospace\">taxize_coding_dh_org.csv\n",
       "</pre>\n"
      ],
      "text/plain": [
       "taxize_coding_dh_org.csv\n"
      ]
     },
     "metadata": {},
     "output_type": "display_data"
    },
    {
     "data": {
      "text/html": [
       "<pre style=\"white-space:pre;overflow-x:auto;line-height:normal;font-family:Menlo,'DejaVu Sans Mono',consolas,'Courier New',monospace\">uisautomation_coding_dh_org.csv\n",
       "</pre>\n"
      ],
      "text/plain": [
       "uisautomation_coding_dh_org.csv\n"
      ]
     },
     "metadata": {},
     "output_type": "display_data"
    },
    {
     "data": {
      "text/html": [
       "<pre style=\"white-space:pre;overflow-x:auto;line-height:normal;font-family:Menlo,'DejaVu Sans Mono',consolas,'Courier New',monospace\">prancinghorse_coding_dh_org.csv\n",
       "</pre>\n"
      ],
      "text/plain": [
       "prancinghorse_coding_dh_org.csv\n"
      ]
     },
     "metadata": {},
     "output_type": "display_data"
    },
    {
     "data": {
      "text/html": [
       "<pre style=\"white-space:pre;overflow-x:auto;line-height:normal;font-family:Menlo,'DejaVu Sans Mono',consolas,'Courier New',monospace\">BrumfieldLabs_coding_dh_org.csv\n",
       "</pre>\n"
      ],
      "text/plain": [
       "BrumfieldLabs_coding_dh_org.csv\n"
      ]
     },
     "metadata": {},
     "output_type": "display_data"
    },
    {
     "data": {
      "text/html": [
       "<pre style=\"white-space:pre;overflow-x:auto;line-height:normal;font-family:Menlo,'DejaVu Sans Mono',consolas,'Courier New',monospace\">xmindltd_coding_dh_org.csv\n",
       "</pre>\n"
      ],
      "text/plain": [
       "xmindltd_coding_dh_org.csv\n"
      ]
     },
     "metadata": {},
     "output_type": "display_data"
    },
    {
     "data": {
      "text/html": [
       "<pre style=\"white-space:pre;overflow-x:auto;line-height:normal;font-family:Menlo,'DejaVu Sans Mono',consolas,'Courier New',monospace\">RussianNLP_coding_dh_org.csv\n",
       "</pre>\n"
      ],
      "text/plain": [
       "RussianNLP_coding_dh_org.csv\n"
      ]
     },
     "metadata": {},
     "output_type": "display_data"
    },
    {
     "data": {
      "text/html": [
       "<pre style=\"white-space:pre;overflow-x:auto;line-height:normal;font-family:Menlo,'DejaVu Sans Mono',consolas,'Courier New',monospace\">nk2028_coding_dh_org.csv\n",
       "</pre>\n"
      ],
      "text/plain": [
       "nk2028_coding_dh_org.csv\n"
      ]
     },
     "metadata": {},
     "output_type": "display_data"
    },
    {
     "data": {
      "text/html": [
       "<pre style=\"white-space:pre;overflow-x:auto;line-height:normal;font-family:Menlo,'DejaVu Sans Mono',consolas,'Courier New',monospace\">Forked-repositories-to-learn_coding_dh_org.csv\n",
       "</pre>\n"
      ],
      "text/plain": [
       "Forked-repositories-to-learn_coding_dh_org.csv\n"
      ]
     },
     "metadata": {},
     "output_type": "display_data"
    },
    {
     "data": {
      "text/html": [
       "<pre style=\"white-space:pre;overflow-x:auto;line-height:normal;font-family:Menlo,'DejaVu Sans Mono',consolas,'Courier New',monospace\">snac-cooperative_coding_dh_org.csv\n",
       "</pre>\n"
      ],
      "text/plain": [
       "snac-cooperative_coding_dh_org.csv\n"
      ]
     },
     "metadata": {},
     "output_type": "display_data"
    },
    {
     "data": {
      "text/html": [
       "<pre style=\"white-space:pre;overflow-x:auto;line-height:normal;font-family:Menlo,'DejaVu Sans Mono',consolas,'Courier New',monospace\">fsulib_coding_dh_org.csv\n",
       "</pre>\n"
      ],
      "text/plain": [
       "fsulib_coding_dh_org.csv\n"
      ]
     },
     "metadata": {},
     "output_type": "display_data"
    },
    {
     "data": {
      "text/html": [
       "<pre style=\"white-space:pre;overflow-x:auto;line-height:normal;font-family:Menlo,'DejaVu Sans Mono',consolas,'Courier New',monospace\">all-rit_coding_dh_org.csv\n",
       "</pre>\n"
      ],
      "text/plain": [
       "all-rit_coding_dh_org.csv\n"
      ]
     },
     "metadata": {},
     "output_type": "display_data"
    },
    {
     "data": {
      "text/html": [
       "<pre style=\"white-space:pre;overflow-x:auto;line-height:normal;font-family:Menlo,'DejaVu Sans Mono',consolas,'Courier New',monospace\">neuralmagic_coding_dh_org.csv\n",
       "</pre>\n"
      ],
      "text/plain": [
       "neuralmagic_coding_dh_org.csv\n"
      ]
     },
     "metadata": {},
     "output_type": "display_data"
    },
    {
     "data": {
      "text/html": [
       "<pre style=\"white-space:pre;overflow-x:auto;line-height:normal;font-family:Menlo,'DejaVu Sans Mono',consolas,'Courier New',monospace\">LBJDigital_coding_dh_org.csv\n",
       "</pre>\n"
      ],
      "text/plain": [
       "LBJDigital_coding_dh_org.csv\n"
      ]
     },
     "metadata": {},
     "output_type": "display_data"
    },
    {
     "data": {
      "text/html": [
       "<pre style=\"white-space:pre;overflow-x:auto;line-height:normal;font-family:Menlo,'DejaVu Sans Mono',consolas,'Courier New',monospace\">NCSU-Libraries_coding_dh_org.csv\n",
       "</pre>\n"
      ],
      "text/plain": [
       "NCSU-Libraries_coding_dh_org.csv\n"
      ]
     },
     "metadata": {},
     "output_type": "display_data"
    },
    {
     "data": {
      "text/html": [
       "<pre style=\"white-space:pre;overflow-x:auto;line-height:normal;font-family:Menlo,'DejaVu Sans Mono',consolas,'Courier New',monospace\">hackviz_coding_dh_org.csv\n",
       "</pre>\n"
      ],
      "text/plain": [
       "hackviz_coding_dh_org.csv\n"
      ]
     },
     "metadata": {},
     "output_type": "display_data"
    },
    {
     "data": {
      "text/html": [
       "<pre style=\"white-space:pre;overflow-x:auto;line-height:normal;font-family:Menlo,'DejaVu Sans Mono',consolas,'Courier New',monospace\">FellowsFreiesWissen_coding_dh_org.csv\n",
       "</pre>\n"
      ],
      "text/plain": [
       "FellowsFreiesWissen_coding_dh_org.csv\n"
      ]
     },
     "metadata": {},
     "output_type": "display_data"
    },
    {
     "data": {
      "text/html": [
       "<pre style=\"white-space:pre;overflow-x:auto;line-height:normal;font-family:Menlo,'DejaVu Sans Mono',consolas,'Courier New',monospace\">SunoikisisDC_coding_dh_org.csv\n",
       "</pre>\n"
      ],
      "text/plain": [
       "SunoikisisDC_coding_dh_org.csv\n"
      ]
     },
     "metadata": {},
     "output_type": "display_data"
    },
    {
     "data": {
      "text/html": [
       "<pre style=\"white-space:pre;overflow-x:auto;line-height:normal;font-family:Menlo,'DejaVu Sans Mono',consolas,'Courier New',monospace\">pulibrary_coding_dh_org.csv\n",
       "</pre>\n"
      ],
      "text/plain": [
       "pulibrary_coding_dh_org.csv\n"
      ]
     },
     "metadata": {},
     "output_type": "display_data"
    },
    {
     "data": {
      "text/html": [
       "<pre style=\"white-space:pre;overflow-x:auto;line-height:normal;font-family:Menlo,'DejaVu Sans Mono',consolas,'Courier New',monospace\">opendocs-adoc_coding_dh_org.csv\n",
       "</pre>\n"
      ],
      "text/plain": [
       "opendocs-adoc_coding_dh_org.csv\n"
      ]
     },
     "metadata": {},
     "output_type": "display_data"
    },
    {
     "data": {
      "text/html": [
       "<pre style=\"white-space:pre;overflow-x:auto;line-height:normal;font-family:Menlo,'DejaVu Sans Mono',consolas,'Courier New',monospace\">PoisotLab_coding_dh_org.csv\n",
       "</pre>\n"
      ],
      "text/plain": [
       "PoisotLab_coding_dh_org.csv\n"
      ]
     },
     "metadata": {},
     "output_type": "display_data"
    },
    {
     "data": {
      "text/html": [
       "<pre style=\"white-space:pre;overflow-x:auto;line-height:normal;font-family:Menlo,'DejaVu Sans Mono',consolas,'Courier New',monospace\">WeAreSeismica_coding_dh_org.csv\n",
       "</pre>\n"
      ],
      "text/plain": [
       "WeAreSeismica_coding_dh_org.csv\n"
      ]
     },
     "metadata": {},
     "output_type": "display_data"
    },
    {
     "data": {
      "text/html": [
       "<pre style=\"white-space:pre;overflow-x:auto;line-height:normal;font-family:Menlo,'DejaVu Sans Mono',consolas,'Courier New',monospace\">gbif_coding_dh_org.csv\n",
       "</pre>\n"
      ],
      "text/plain": [
       "gbif_coding_dh_org.csv\n"
      ]
     },
     "metadata": {},
     "output_type": "display_data"
    },
    {
     "data": {
      "text/html": [
       "<pre style=\"white-space:pre;overflow-x:auto;line-height:normal;font-family:Menlo,'DejaVu Sans Mono',consolas,'Courier New',monospace\">JuPedSim_coding_dh_org.csv\n",
       "</pre>\n"
      ],
      "text/plain": [
       "JuPedSim_coding_dh_org.csv\n"
      ]
     },
     "metadata": {},
     "output_type": "display_data"
    },
    {
     "data": {
      "text/html": [
       "<pre style=\"white-space:pre;overflow-x:auto;line-height:normal;font-family:Menlo,'DejaVu Sans Mono',consolas,'Courier New',monospace\">worldbank_coding_dh_org.csv\n",
       "</pre>\n"
      ],
      "text/plain": [
       "worldbank_coding_dh_org.csv\n"
      ]
     },
     "metadata": {},
     "output_type": "display_data"
    },
    {
     "data": {
      "text/html": [
       "<pre style=\"white-space:pre;overflow-x:auto;line-height:normal;font-family:Menlo,'DejaVu Sans Mono',consolas,'Courier New',monospace\">hypercore-protocol_coding_dh_org.csv\n",
       "</pre>\n"
      ],
      "text/plain": [
       "hypercore-protocol_coding_dh_org.csv\n"
      ]
     },
     "metadata": {},
     "output_type": "display_data"
    },
    {
     "data": {
      "text/html": [
       "<pre style=\"white-space:pre;overflow-x:auto;line-height:normal;font-family:Menlo,'DejaVu Sans Mono',consolas,'Courier New',monospace\">CDECatapult_coding_dh_org.csv\n",
       "</pre>\n"
      ],
      "text/plain": [
       "CDECatapult_coding_dh_org.csv\n"
      ]
     },
     "metadata": {},
     "output_type": "display_data"
    },
    {
     "data": {
      "text/html": [
       "<pre style=\"white-space:pre;overflow-x:auto;line-height:normal;font-family:Menlo,'DejaVu Sans Mono',consolas,'Courier New',monospace\">coopcycle_coding_dh_org.csv\n",
       "</pre>\n"
      ],
      "text/plain": [
       "coopcycle_coding_dh_org.csv\n"
      ]
     },
     "metadata": {},
     "output_type": "display_data"
    },
    {
     "data": {
      "text/html": [
       "<pre style=\"white-space:pre;overflow-x:auto;line-height:normal;font-family:Menlo,'DejaVu Sans Mono',consolas,'Courier New',monospace\">cylleneus_coding_dh_org.csv\n",
       "</pre>\n"
      ],
      "text/plain": [
       "cylleneus_coding_dh_org.csv\n"
      ]
     },
     "metadata": {},
     "output_type": "display_data"
    },
    {
     "data": {
      "text/html": [
       "<pre style=\"white-space:pre;overflow-x:auto;line-height:normal;font-family:Menlo,'DejaVu Sans Mono',consolas,'Courier New',monospace\">UniversalDependencies_coding_dh_org.csv\n",
       "</pre>\n"
      ],
      "text/plain": [
       "UniversalDependencies_coding_dh_org.csv\n"
      ]
     },
     "metadata": {},
     "output_type": "display_data"
    },
    {
     "data": {
      "text/html": [
       "<pre style=\"white-space:pre;overflow-x:auto;line-height:normal;font-family:Menlo,'DejaVu Sans Mono',consolas,'Courier New',monospace\">lapce_coding_dh_org.csv\n",
       "</pre>\n"
      ],
      "text/plain": [
       "lapce_coding_dh_org.csv\n"
      ]
     },
     "metadata": {},
     "output_type": "display_data"
    },
    {
     "data": {
      "text/html": [
       "<pre style=\"white-space:pre;overflow-x:auto;line-height:normal;font-family:Menlo,'DejaVu Sans Mono',consolas,'Courier New',monospace\">tanc-ahrc_coding_dh_org.csv\n",
       "</pre>\n"
      ],
      "text/plain": [
       "tanc-ahrc_coding_dh_org.csv\n"
      ]
     },
     "metadata": {},
     "output_type": "display_data"
    },
    {
     "data": {
      "text/html": [
       "<pre style=\"white-space:pre;overflow-x:auto;line-height:normal;font-family:Menlo,'DejaVu Sans Mono',consolas,'Courier New',monospace\">digitalmethodsinitiative_coding_dh_org.csv\n",
       "</pre>\n"
      ],
      "text/plain": [
       "digitalmethodsinitiative_coding_dh_org.csv\n"
      ]
     },
     "metadata": {},
     "output_type": "display_data"
    },
    {
     "data": {
      "text/html": [
       "<pre style=\"white-space:pre;overflow-x:auto;line-height:normal;font-family:Menlo,'DejaVu Sans Mono',consolas,'Courier New',monospace\">datarefuge_coding_dh_org.csv\n",
       "</pre>\n"
      ],
      "text/plain": [
       "datarefuge_coding_dh_org.csv\n"
      ]
     },
     "metadata": {},
     "output_type": "display_data"
    },
    {
     "data": {
      "text/html": [
       "<pre style=\"white-space:pre;overflow-x:auto;line-height:normal;font-family:Menlo,'DejaVu Sans Mono',consolas,'Courier New',monospace\">Princeton-Vegan_coding_dh_org.csv\n",
       "</pre>\n"
      ],
      "text/plain": [
       "Princeton-Vegan_coding_dh_org.csv\n"
      ]
     },
     "metadata": {},
     "output_type": "display_data"
    },
    {
     "data": {
      "text/html": [
       "<pre style=\"white-space:pre;overflow-x:auto;line-height:normal;font-family:Menlo,'DejaVu Sans Mono',consolas,'Courier New',monospace\">RockefellerArchiveCenter_coding_dh_org.csv\n",
       "</pre>\n"
      ],
      "text/plain": [
       "RockefellerArchiveCenter_coding_dh_org.csv\n"
      ]
     },
     "metadata": {},
     "output_type": "display_data"
    },
    {
     "data": {
      "text/html": [
       "<pre style=\"white-space:pre;overflow-x:auto;line-height:normal;font-family:Menlo,'DejaVu Sans Mono',consolas,'Courier New',monospace\">brailleapps_coding_dh_org.csv\n",
       "</pre>\n"
      ],
      "text/plain": [
       "brailleapps_coding_dh_org.csv\n"
      ]
     },
     "metadata": {},
     "output_type": "display_data"
    },
    {
     "data": {
      "text/html": [
       "<pre style=\"white-space:pre;overflow-x:auto;line-height:normal;font-family:Menlo,'DejaVu Sans Mono',consolas,'Courier New',monospace\">TheIndependentCode_coding_dh_org.csv\n",
       "</pre>\n"
      ],
      "text/plain": [
       "TheIndependentCode_coding_dh_org.csv\n"
      ]
     },
     "metadata": {},
     "output_type": "display_data"
    },
    {
     "data": {
      "text/html": [
       "<pre style=\"white-space:pre;overflow-x:auto;line-height:normal;font-family:Menlo,'DejaVu Sans Mono',consolas,'Courier New',monospace\">softdetours_coding_dh_org.csv\n",
       "</pre>\n"
      ],
      "text/plain": [
       "softdetours_coding_dh_org.csv\n"
      ]
     },
     "metadata": {},
     "output_type": "display_data"
    },
    {
     "data": {
      "text/html": [
       "<pre style=\"white-space:pre;overflow-x:auto;line-height:normal;font-family:Menlo,'DejaVu Sans Mono',consolas,'Courier New',monospace\">DataONEorg_coding_dh_org.csv\n",
       "</pre>\n"
      ],
      "text/plain": [
       "DataONEorg_coding_dh_org.csv\n"
      ]
     },
     "metadata": {},
     "output_type": "display_data"
    },
    {
     "data": {
      "text/html": [
       "<pre style=\"white-space:pre;overflow-x:auto;line-height:normal;font-family:Menlo,'DejaVu Sans Mono',consolas,'Courier New',monospace\">DancingDragonPrague_coding_dh_org.csv\n",
       "</pre>\n"
      ],
      "text/plain": [
       "DancingDragonPrague_coding_dh_org.csv\n"
      ]
     },
     "metadata": {},
     "output_type": "display_data"
    },
    {
     "data": {
      "text/html": [
       "<pre style=\"white-space:pre;overflow-x:auto;line-height:normal;font-family:Menlo,'DejaVu Sans Mono',consolas,'Courier New',monospace\">r-gris_coding_dh_org.csv\n",
       "</pre>\n"
      ],
      "text/plain": [
       "r-gris_coding_dh_org.csv\n"
      ]
     },
     "metadata": {},
     "output_type": "display_data"
    },
    {
     "data": {
      "text/html": [
       "<pre style=\"white-space:pre;overflow-x:auto;line-height:normal;font-family:Menlo,'DejaVu Sans Mono',consolas,'Courier New',monospace\">Bard-EH_coding_dh_org.csv\n",
       "</pre>\n"
      ],
      "text/plain": [
       "Bard-EH_coding_dh_org.csv\n"
      ]
     },
     "metadata": {},
     "output_type": "display_data"
    },
    {
     "data": {
      "text/html": [
       "<pre style=\"white-space:pre;overflow-x:auto;line-height:normal;font-family:Menlo,'DejaVu Sans Mono',consolas,'Courier New',monospace\">NYULibraries_coding_dh_org.csv\n",
       "</pre>\n"
      ],
      "text/plain": [
       "NYULibraries_coding_dh_org.csv\n"
      ]
     },
     "metadata": {},
     "output_type": "display_data"
    },
    {
     "data": {
      "text/html": [
       "<pre style=\"white-space:pre;overflow-x:auto;line-height:normal;font-family:Menlo,'DejaVu Sans Mono',consolas,'Courier New',monospace\">sul-cidr_coding_dh_org.csv\n",
       "</pre>\n"
      ],
      "text/plain": [
       "sul-cidr_coding_dh_org.csv\n"
      ]
     },
     "metadata": {},
     "output_type": "display_data"
    },
    {
     "data": {
      "text/html": [
       "<pre style=\"white-space:pre;overflow-x:auto;line-height:normal;font-family:Menlo,'DejaVu Sans Mono',consolas,'Courier New',monospace\">cca_coding_dh_org.csv\n",
       "</pre>\n"
      ],
      "text/plain": [
       "cca_coding_dh_org.csv\n"
      ]
     },
     "metadata": {},
     "output_type": "display_data"
    },
    {
     "data": {
      "text/html": [
       "<pre style=\"white-space:pre;overflow-x:auto;line-height:normal;font-family:Menlo,'DejaVu Sans Mono',consolas,'Courier New',monospace\">cuny-academic-commons_coding_dh_org.csv\n",
       "</pre>\n"
      ],
      "text/plain": [
       "cuny-academic-commons_coding_dh_org.csv\n"
      ]
     },
     "metadata": {},
     "output_type": "display_data"
    },
    {
     "data": {
      "text/html": [
       "<pre style=\"white-space:pre;overflow-x:auto;line-height:normal;font-family:Menlo,'DejaVu Sans Mono',consolas,'Courier New',monospace\">abakus-ntnu_coding_dh_org.csv\n",
       "</pre>\n"
      ],
      "text/plain": [
       "abakus-ntnu_coding_dh_org.csv\n"
      ]
     },
     "metadata": {},
     "output_type": "display_data"
    },
    {
     "data": {
      "text/html": [
       "<pre style=\"white-space:pre;overflow-x:auto;line-height:normal;font-family:Menlo,'DejaVu Sans Mono',consolas,'Courier New',monospace\">LPUG_coding_dh_org.csv\n",
       "</pre>\n"
      ],
      "text/plain": [
       "LPUG_coding_dh_org.csv\n"
      ]
     },
     "metadata": {},
     "output_type": "display_data"
    },
    {
     "data": {
      "text/html": [
       "<pre style=\"white-space:pre;overflow-x:auto;line-height:normal;font-family:Menlo,'DejaVu Sans Mono',consolas,'Courier New',monospace\">ebalzac_coding_dh_org.csv\n",
       "</pre>\n"
      ],
      "text/plain": [
       "ebalzac_coding_dh_org.csv\n"
      ]
     },
     "metadata": {},
     "output_type": "display_data"
    },
    {
     "data": {
      "text/html": [
       "<pre style=\"white-space:pre;overflow-x:auto;line-height:normal;font-family:Menlo,'DejaVu Sans Mono',consolas,'Courier New',monospace\">GotelliLab_coding_dh_org.csv\n",
       "</pre>\n"
      ],
      "text/plain": [
       "GotelliLab_coding_dh_org.csv\n"
      ]
     },
     "metadata": {},
     "output_type": "display_data"
    },
    {
     "data": {
      "text/html": [
       "<pre style=\"white-space:pre;overflow-x:auto;line-height:normal;font-family:Menlo,'DejaVu Sans Mono',consolas,'Courier New',monospace\">fmi-unibuc_coding_dh_org.csv\n",
       "</pre>\n"
      ],
      "text/plain": [
       "fmi-unibuc_coding_dh_org.csv\n"
      ]
     },
     "metadata": {},
     "output_type": "display_data"
    },
    {
     "data": {
      "text/html": [
       "<pre style=\"white-space:pre;overflow-x:auto;line-height:normal;font-family:Menlo,'DejaVu Sans Mono',consolas,'Courier New',monospace\">rScriptJS_coding_dh_org.csv\n",
       "</pre>\n"
      ],
      "text/plain": [
       "rScriptJS_coding_dh_org.csv\n"
      ]
     },
     "metadata": {},
     "output_type": "display_data"
    },
    {
     "data": {
      "text/html": [
       "<pre style=\"white-space:pre;overflow-x:auto;line-height:normal;font-family:Menlo,'DejaVu Sans Mono',consolas,'Courier New',monospace\">sastra-project_coding_dh_org.csv\n",
       "</pre>\n"
      ],
      "text/plain": [
       "sastra-project_coding_dh_org.csv\n"
      ]
     },
     "metadata": {},
     "output_type": "display_data"
    },
    {
     "data": {
      "text/html": [
       "<pre style=\"white-space:pre;overflow-x:auto;line-height:normal;font-family:Menlo,'DejaVu Sans Mono',consolas,'Courier New',monospace\">britishlibrary_coding_dh_org.csv\n",
       "</pre>\n"
      ],
      "text/plain": [
       "britishlibrary_coding_dh_org.csv\n"
      ]
     },
     "metadata": {},
     "output_type": "display_data"
    },
    {
     "data": {
      "text/html": [
       "<pre style=\"white-space:pre;overflow-x:auto;line-height:normal;font-family:Menlo,'DejaVu Sans Mono',consolas,'Courier New',monospace\">USGS-R_coding_dh_org.csv\n",
       "</pre>\n"
      ],
      "text/plain": [
       "USGS-R_coding_dh_org.csv\n"
      ]
     },
     "metadata": {},
     "output_type": "display_data"
    },
    {
     "data": {
      "text/html": [
       "<pre style=\"white-space:pre;overflow-x:auto;line-height:normal;font-family:Menlo,'DejaVu Sans Mono',consolas,'Courier New',monospace\">time-machine-project_coding_dh_org.csv\n",
       "</pre>\n"
      ],
      "text/plain": [
       "time-machine-project_coding_dh_org.csv\n"
      ]
     },
     "metadata": {},
     "output_type": "display_data"
    },
    {
     "data": {
      "text/html": [
       "<pre style=\"white-space:pre;overflow-x:auto;line-height:normal;font-family:Menlo,'DejaVu Sans Mono',consolas,'Courier New',monospace\">p4hUSP_coding_dh_org.csv\n",
       "</pre>\n"
      ],
      "text/plain": [
       "p4hUSP_coding_dh_org.csv\n"
      ]
     },
     "metadata": {},
     "output_type": "display_data"
    },
    {
     "data": {
      "text/html": [
       "<pre style=\"white-space:pre;overflow-x:auto;line-height:normal;font-family:Menlo,'DejaVu Sans Mono',consolas,'Courier New',monospace\">microsoft_coding_dh_org.csv\n",
       "</pre>\n"
      ],
      "text/plain": [
       "microsoft_coding_dh_org.csv\n"
      ]
     },
     "metadata": {},
     "output_type": "display_data"
    },
    {
     "data": {
      "text/html": [
       "<pre style=\"white-space:pre;overflow-x:auto;line-height:normal;font-family:Menlo,'DejaVu Sans Mono',consolas,'Courier New',monospace\">qgis_coding_dh_org.csv\n",
       "</pre>\n"
      ],
      "text/plain": [
       "qgis_coding_dh_org.csv\n"
      ]
     },
     "metadata": {},
     "output_type": "display_data"
    },
    {
     "data": {
      "text/html": [
       "<pre style=\"white-space:pre;overflow-x:auto;line-height:normal;font-family:Menlo,'DejaVu Sans Mono',consolas,'Courier New',monospace\">lassi-niruvanam_coding_dh_org.csv\n",
       "</pre>\n"
      ],
      "text/plain": [
       "lassi-niruvanam_coding_dh_org.csv\n"
      ]
     },
     "metadata": {},
     "output_type": "display_data"
    },
    {
     "data": {
      "text/html": [
       "<pre style=\"white-space:pre;overflow-x:auto;line-height:normal;font-family:Menlo,'DejaVu Sans Mono',consolas,'Courier New',monospace\">EIS1600_coding_dh_org.csv\n",
       "</pre>\n"
      ],
      "text/plain": [
       "EIS1600_coding_dh_org.csv\n"
      ]
     },
     "metadata": {},
     "output_type": "display_data"
    },
    {
     "data": {
      "text/html": [
       "<pre style=\"white-space:pre;overflow-x:auto;line-height:normal;font-family:Menlo,'DejaVu Sans Mono',consolas,'Courier New',monospace\">ipython_coding_dh_org.csv\n",
       "</pre>\n"
      ],
      "text/plain": [
       "ipython_coding_dh_org.csv\n"
      ]
     },
     "metadata": {},
     "output_type": "display_data"
    },
    {
     "data": {
      "text/html": [
       "<pre style=\"white-space:pre;overflow-x:auto;line-height:normal;font-family:Menlo,'DejaVu Sans Mono',consolas,'Courier New',monospace\">y-js_coding_dh_org.csv\n",
       "</pre>\n"
      ],
      "text/plain": [
       "y-js_coding_dh_org.csv\n"
      ]
     },
     "metadata": {},
     "output_type": "display_data"
    },
    {
     "data": {
      "text/html": [
       "<pre style=\"white-space:pre;overflow-x:auto;line-height:normal;font-family:Menlo,'DejaVu Sans Mono',consolas,'Courier New',monospace\">code-code-codex_coding_dh_org.csv\n",
       "</pre>\n"
      ],
      "text/plain": [
       "code-code-codex_coding_dh_org.csv\n"
      ]
     },
     "metadata": {},
     "output_type": "display_data"
    },
    {
     "data": {
      "text/html": [
       "<pre style=\"white-space:pre;overflow-x:auto;line-height:normal;font-family:Menlo,'DejaVu Sans Mono',consolas,'Courier New',monospace\">judaicadh_coding_dh_org.csv\n",
       "</pre>\n"
      ],
      "text/plain": [
       "judaicadh_coding_dh_org.csv\n"
      ]
     },
     "metadata": {},
     "output_type": "display_data"
    },
    {
     "data": {
      "text/html": [
       "<pre style=\"white-space:pre;overflow-x:auto;line-height:normal;font-family:Menlo,'DejaVu Sans Mono',consolas,'Courier New',monospace\">peetertinits_coding_dh_org.csv\n",
       "</pre>\n"
      ],
      "text/plain": [
       "peetertinits_coding_dh_org.csv\n"
      ]
     },
     "metadata": {},
     "output_type": "display_data"
    },
    {
     "data": {
      "text/html": [
       "<pre style=\"white-space:pre;overflow-x:auto;line-height:normal;font-family:Menlo,'DejaVu Sans Mono',consolas,'Courier New',monospace\">tei-fr_coding_dh_org.csv\n",
       "</pre>\n"
      ],
      "text/plain": [
       "tei-fr_coding_dh_org.csv\n"
      ]
     },
     "metadata": {},
     "output_type": "display_data"
    },
    {
     "data": {
      "text/html": [
       "<pre style=\"white-space:pre;overflow-x:auto;line-height:normal;font-family:Menlo,'DejaVu Sans Mono',consolas,'Courier New',monospace\">ArchimedesDigital_coding_dh_org.csv\n",
       "</pre>\n"
      ],
      "text/plain": [
       "ArchimedesDigital_coding_dh_org.csv\n"
      ]
     },
     "metadata": {},
     "output_type": "display_data"
    },
    {
     "data": {
      "text/html": [
       "<pre style=\"white-space:pre;overflow-x:auto;line-height:normal;font-family:Menlo,'DejaVu Sans Mono',consolas,'Courier New',monospace\">C-Dash_coding_dh_org.csv\n",
       "</pre>\n"
      ],
      "text/plain": [
       "C-Dash_coding_dh_org.csv\n"
      ]
     },
     "metadata": {},
     "output_type": "display_data"
    },
    {
     "data": {
      "text/html": [
       "<pre style=\"white-space:pre;overflow-x:auto;line-height:normal;font-family:Menlo,'DejaVu Sans Mono',consolas,'Courier New',monospace\">Open-Source-Collective_coding_dh_org.csv\n",
       "</pre>\n"
      ],
      "text/plain": [
       "Open-Source-Collective_coding_dh_org.csv\n"
      ]
     },
     "metadata": {},
     "output_type": "display_data"
    },
    {
     "data": {
      "text/html": [
       "<pre style=\"white-space:pre;overflow-x:auto;line-height:normal;font-family:Menlo,'DejaVu Sans Mono',consolas,'Courier New',monospace\">dice-group_coding_dh_org.csv\n",
       "</pre>\n"
      ],
      "text/plain": [
       "dice-group_coding_dh_org.csv\n"
      ]
     },
     "metadata": {},
     "output_type": "display_data"
    },
    {
     "data": {
      "text/html": [
       "<pre style=\"white-space:pre;overflow-x:auto;line-height:normal;font-family:Menlo,'DejaVu Sans Mono',consolas,'Courier New',monospace\">NetAppDocOps_coding_dh_org.csv\n",
       "</pre>\n"
      ],
      "text/plain": [
       "NetAppDocOps_coding_dh_org.csv\n"
      ]
     },
     "metadata": {},
     "output_type": "display_data"
    },
    {
     "data": {
      "text/html": [
       "<pre style=\"white-space:pre;overflow-x:auto;line-height:normal;font-family:Menlo,'DejaVu Sans Mono',consolas,'Courier New',monospace\">refugeehackathon_coding_dh_org.csv\n",
       "</pre>\n"
      ],
      "text/plain": [
       "refugeehackathon_coding_dh_org.csv\n"
      ]
     },
     "metadata": {},
     "output_type": "display_data"
    },
    {
     "data": {
      "text/html": [
       "<pre style=\"white-space:pre;overflow-x:auto;line-height:normal;font-family:Menlo,'DejaVu Sans Mono',consolas,'Courier New',monospace\">r-rust_coding_dh_org.csv\n",
       "</pre>\n"
      ],
      "text/plain": [
       "r-rust_coding_dh_org.csv\n"
      ]
     },
     "metadata": {},
     "output_type": "display_data"
    },
    {
     "data": {
      "text/html": [
       "<pre style=\"white-space:pre;overflow-x:auto;line-height:normal;font-family:Menlo,'DejaVu Sans Mono',consolas,'Courier New',monospace\">cyclus_coding_dh_org.csv\n",
       "</pre>\n"
      ],
      "text/plain": [
       "cyclus_coding_dh_org.csv\n"
      ]
     },
     "metadata": {},
     "output_type": "display_data"
    },
    {
     "data": {
      "text/html": [
       "<pre style=\"white-space:pre;overflow-x:auto;line-height:normal;font-family:Menlo,'DejaVu Sans Mono',consolas,'Courier New',monospace\">evt-project_coding_dh_org.csv\n",
       "</pre>\n"
      ],
      "text/plain": [
       "evt-project_coding_dh_org.csv\n"
      ]
     },
     "metadata": {},
     "output_type": "display_data"
    },
    {
     "data": {
      "text/html": [
       "<pre style=\"white-space:pre;overflow-x:auto;line-height:normal;font-family:Menlo,'DejaVu Sans Mono',consolas,'Courier New',monospace\">pugetsoundandvision_coding_dh_org.csv\n",
       "</pre>\n"
      ],
      "text/plain": [
       "pugetsoundandvision_coding_dh_org.csv\n"
      ]
     },
     "metadata": {},
     "output_type": "display_data"
    },
    {
     "data": {
      "text/html": [
       "<pre style=\"white-space:pre;overflow-x:auto;line-height:normal;font-family:Menlo,'DejaVu Sans Mono',consolas,'Courier New',monospace\">VedaWebProject_coding_dh_org.csv\n",
       "</pre>\n"
      ],
      "text/plain": [
       "VedaWebProject_coding_dh_org.csv\n"
      ]
     },
     "metadata": {},
     "output_type": "display_data"
    },
    {
     "data": {
      "text/html": [
       "<pre style=\"white-space:pre;overflow-x:auto;line-height:normal;font-family:Menlo,'DejaVu Sans Mono',consolas,'Courier New',monospace\">project-renard-survey_coding_dh_org.csv\n",
       "</pre>\n"
      ],
      "text/plain": [
       "project-renard-survey_coding_dh_org.csv\n"
      ]
     },
     "metadata": {},
     "output_type": "display_data"
    },
    {
     "data": {
      "text/html": [
       "<pre style=\"white-space:pre;overflow-x:auto;line-height:normal;font-family:Menlo,'DejaVu Sans Mono',consolas,'Courier New',monospace\">BotHoneyPot_coding_dh_org.csv\n",
       "</pre>\n"
      ],
      "text/plain": [
       "BotHoneyPot_coding_dh_org.csv\n"
      ]
     },
     "metadata": {},
     "output_type": "display_data"
    },
    {
     "data": {
      "text/html": [
       "<pre style=\"white-space:pre;overflow-x:auto;line-height:normal;font-family:Menlo,'DejaVu Sans Mono',consolas,'Courier New',monospace\">Cucurbitaceae_coding_dh_org.csv\n",
       "</pre>\n"
      ],
      "text/plain": [
       "Cucurbitaceae_coding_dh_org.csv\n"
      ]
     },
     "metadata": {},
     "output_type": "display_data"
    },
    {
     "data": {
      "text/html": [
       "<pre style=\"white-space:pre;overflow-x:auto;line-height:normal;font-family:Menlo,'DejaVu Sans Mono',consolas,'Courier New',monospace\">NashFP_coding_dh_org.csv\n",
       "</pre>\n"
      ],
      "text/plain": [
       "NashFP_coding_dh_org.csv\n"
      ]
     },
     "metadata": {},
     "output_type": "display_data"
    },
    {
     "data": {
      "text/html": [
       "<pre style=\"white-space:pre;overflow-x:auto;line-height:normal;font-family:Menlo,'DejaVu Sans Mono',consolas,'Courier New',monospace\">webecology_coding_dh_org.csv\n",
       "</pre>\n"
      ],
      "text/plain": [
       "webecology_coding_dh_org.csv\n"
      ]
     },
     "metadata": {},
     "output_type": "display_data"
    },
    {
     "data": {
      "text/html": [
       "<pre style=\"white-space:pre;overflow-x:auto;line-height:normal;font-family:Menlo,'DejaVu Sans Mono',consolas,'Courier New',monospace\">Nanopublication_coding_dh_org.csv\n",
       "</pre>\n"
      ],
      "text/plain": [
       "Nanopublication_coding_dh_org.csv\n"
      ]
     },
     "metadata": {},
     "output_type": "display_data"
    },
    {
     "data": {
      "text/html": [
       "<pre style=\"white-space:pre;overflow-x:auto;line-height:normal;font-family:Menlo,'DejaVu Sans Mono',consolas,'Courier New',monospace\">MondoAurora_coding_dh_org.csv\n",
       "</pre>\n"
      ],
      "text/plain": [
       "MondoAurora_coding_dh_org.csv\n"
      ]
     },
     "metadata": {},
     "output_type": "display_data"
    },
    {
     "data": {
      "text/html": [
       "<pre style=\"white-space:pre;overflow-x:auto;line-height:normal;font-family:Menlo,'DejaVu Sans Mono',consolas,'Courier New',monospace\">eeditiones_coding_dh_org.csv\n",
       "</pre>\n"
      ],
      "text/plain": [
       "eeditiones_coding_dh_org.csv\n"
      ]
     },
     "metadata": {},
     "output_type": "display_data"
    },
    {
     "data": {
      "text/html": [
       "<pre style=\"white-space:pre;overflow-x:auto;line-height:normal;font-family:Menlo,'DejaVu Sans Mono',consolas,'Courier New',monospace\">humanitiesplusdesign_coding_dh_org.csv\n",
       "</pre>\n"
      ],
      "text/plain": [
       "humanitiesplusdesign_coding_dh_org.csv\n"
      ]
     },
     "metadata": {},
     "output_type": "display_data"
    },
    {
     "data": {
      "text/html": [
       "<pre style=\"white-space:pre;overflow-x:auto;line-height:normal;font-family:Menlo,'DejaVu Sans Mono',consolas,'Courier New',monospace\">FuReSH_coding_dh_org.csv\n",
       "</pre>\n"
      ],
      "text/plain": [
       "FuReSH_coding_dh_org.csv\n"
      ]
     },
     "metadata": {},
     "output_type": "display_data"
    },
    {
     "data": {
      "text/html": [
       "<pre style=\"white-space:pre;overflow-x:auto;line-height:normal;font-family:Menlo,'DejaVu Sans Mono',consolas,'Courier New',monospace\">Max-Reger-Institut_coding_dh_org.csv\n",
       "</pre>\n"
      ],
      "text/plain": [
       "Max-Reger-Institut_coding_dh_org.csv\n"
      ]
     },
     "metadata": {},
     "output_type": "display_data"
    },
    {
     "data": {
      "text/html": [
       "<pre style=\"white-space:pre;overflow-x:auto;line-height:normal;font-family:Menlo,'DejaVu Sans Mono',consolas,'Courier New',monospace\">ogrants_coding_dh_org.csv\n",
       "</pre>\n"
      ],
      "text/plain": [
       "ogrants_coding_dh_org.csv\n"
      ]
     },
     "metadata": {},
     "output_type": "display_data"
    },
    {
     "data": {
      "text/html": [
       "<pre style=\"white-space:pre;overflow-x:auto;line-height:normal;font-family:Menlo,'DejaVu Sans Mono',consolas,'Courier New',monospace\">scPolyphony_coding_dh_org.csv\n",
       "</pre>\n"
      ],
      "text/plain": [
       "scPolyphony_coding_dh_org.csv\n"
      ]
     },
     "metadata": {},
     "output_type": "display_data"
    },
    {
     "data": {
      "text/html": [
       "<pre style=\"white-space:pre;overflow-x:auto;line-height:normal;font-family:Menlo,'DejaVu Sans Mono',consolas,'Courier New',monospace\">cceh_coding_dh_org.csv\n",
       "</pre>\n"
      ],
      "text/plain": [
       "cceh_coding_dh_org.csv\n"
      ]
     },
     "metadata": {},
     "output_type": "display_data"
    },
    {
     "data": {
      "text/html": [
       "<pre style=\"white-space:pre;overflow-x:auto;line-height:normal;font-family:Menlo,'DejaVu Sans Mono',consolas,'Courier New',monospace\">Freischuetz-Digital_coding_dh_org.csv\n",
       "</pre>\n"
      ],
      "text/plain": [
       "Freischuetz-Digital_coding_dh_org.csv\n"
      ]
     },
     "metadata": {},
     "output_type": "display_data"
    },
    {
     "data": {
      "text/html": [
       "<pre style=\"white-space:pre;overflow-x:auto;line-height:normal;font-family:Menlo,'DejaVu Sans Mono',consolas,'Courier New',monospace\">jupyter4edu_coding_dh_org.csv\n",
       "</pre>\n"
      ],
      "text/plain": [
       "jupyter4edu_coding_dh_org.csv\n"
      ]
     },
     "metadata": {},
     "output_type": "display_data"
    },
    {
     "data": {
      "text/html": [
       "<pre style=\"white-space:pre;overflow-x:auto;line-height:normal;font-family:Menlo,'DejaVu Sans Mono',consolas,'Courier New',monospace\">omilab_coding_dh_org.csv\n",
       "</pre>\n"
      ],
      "text/plain": [
       "omilab_coding_dh_org.csv\n"
      ]
     },
     "metadata": {},
     "output_type": "display_data"
    },
    {
     "data": {
      "text/html": [
       "<pre style=\"white-space:pre;overflow-x:auto;line-height:normal;font-family:Menlo,'DejaVu Sans Mono',consolas,'Courier New',monospace\">Pseudo-Lab_coding_dh_org.csv\n",
       "</pre>\n"
      ],
      "text/plain": [
       "Pseudo-Lab_coding_dh_org.csv\n"
      ]
     },
     "metadata": {},
     "output_type": "display_data"
    },
    {
     "data": {
      "text/html": [
       "<pre style=\"white-space:pre;overflow-x:auto;line-height:normal;font-family:Menlo,'DejaVu Sans Mono',consolas,'Courier New',monospace\">wonderlang_coding_dh_org.csv\n",
       "</pre>\n"
      ],
      "text/plain": [
       "wonderlang_coding_dh_org.csv\n"
      ]
     },
     "metadata": {},
     "output_type": "display_data"
    },
    {
     "data": {
      "text/html": [
       "<pre style=\"white-space:pre;overflow-x:auto;line-height:normal;font-family:Menlo,'DejaVu Sans Mono',consolas,'Courier New',monospace\">INNGE_coding_dh_org.csv\n",
       "</pre>\n"
      ],
      "text/plain": [
       "INNGE_coding_dh_org.csv\n"
      ]
     },
     "metadata": {},
     "output_type": "display_data"
    },
    {
     "data": {
      "text/html": [
       "<pre style=\"white-space:pre;overflow-x:auto;line-height:normal;font-family:Menlo,'DejaVu Sans Mono',consolas,'Courier New',monospace\">Participatory-Image-Archives_coding_dh_org.csv\n",
       "</pre>\n"
      ],
      "text/plain": [
       "Participatory-Image-Archives_coding_dh_org.csv\n"
      ]
     },
     "metadata": {},
     "output_type": "display_data"
    },
    {
     "data": {
      "text/html": [
       "<pre style=\"white-space:pre;overflow-x:auto;line-height:normal;font-family:Menlo,'DejaVu Sans Mono',consolas,'Courier New',monospace\">msssm_coding_dh_org.csv\n",
       "</pre>\n"
      ],
      "text/plain": [
       "msssm_coding_dh_org.csv\n"
      ]
     },
     "metadata": {},
     "output_type": "display_data"
    },
    {
     "data": {
      "text/html": [
       "<pre style=\"white-space:pre;overflow-x:auto;line-height:normal;font-family:Menlo,'DejaVu Sans Mono',consolas,'Courier New',monospace\">noreastrconf_coding_dh_org.csv\n",
       "</pre>\n"
      ],
      "text/plain": [
       "noreastrconf_coding_dh_org.csv\n"
      ]
     },
     "metadata": {},
     "output_type": "display_data"
    },
    {
     "data": {
      "text/html": [
       "<pre style=\"white-space:pre;overflow-x:auto;line-height:normal;font-family:Menlo,'DejaVu Sans Mono',consolas,'Courier New',monospace\">hyperium_coding_dh_org.csv\n",
       "</pre>\n"
      ],
      "text/plain": [
       "hyperium_coding_dh_org.csv\n"
      ]
     },
     "metadata": {},
     "output_type": "display_data"
    },
    {
     "data": {
      "text/html": [
       "<pre style=\"white-space:pre;overflow-x:auto;line-height:normal;font-family:Menlo,'DejaVu Sans Mono',consolas,'Courier New',monospace\">tocororo_coding_dh_org.csv\n",
       "</pre>\n"
      ],
      "text/plain": [
       "tocororo_coding_dh_org.csv\n"
      ]
     },
     "metadata": {},
     "output_type": "display_data"
    },
    {
     "data": {
      "text/html": [
       "<pre style=\"white-space:pre;overflow-x:auto;line-height:normal;font-family:Menlo,'DejaVu Sans Mono',consolas,'Courier New',monospace\">OhioNet_coding_dh_org.csv\n",
       "</pre>\n"
      ],
      "text/plain": [
       "OhioNet_coding_dh_org.csv\n"
      ]
     },
     "metadata": {},
     "output_type": "display_data"
    },
    {
     "data": {
      "text/html": [
       "<pre style=\"white-space:pre;overflow-x:auto;line-height:normal;font-family:Menlo,'DejaVu Sans Mono',consolas,'Courier New',monospace\">OpenSUTD_coding_dh_org.csv\n",
       "</pre>\n"
      ],
      "text/plain": [
       "OpenSUTD_coding_dh_org.csv\n"
      ]
     },
     "metadata": {},
     "output_type": "display_data"
    },
    {
     "data": {
      "text/html": [
       "<pre style=\"white-space:pre;overflow-x:auto;line-height:normal;font-family:Menlo,'DejaVu Sans Mono',consolas,'Courier New',monospace\">processing-r_coding_dh_org.csv\n",
       "</pre>\n"
      ],
      "text/plain": [
       "processing-r_coding_dh_org.csv\n"
      ]
     },
     "metadata": {},
     "output_type": "display_data"
    },
    {
     "data": {
      "text/html": [
       "<pre style=\"white-space:pre;overflow-x:auto;line-height:normal;font-family:Menlo,'DejaVu Sans Mono',consolas,'Courier New',monospace\">weRbelgium_coding_dh_org.csv\n",
       "</pre>\n"
      ],
      "text/plain": [
       "weRbelgium_coding_dh_org.csv\n"
      ]
     },
     "metadata": {},
     "output_type": "display_data"
    },
    {
     "data": {
      "text/html": [
       "<pre style=\"white-space:pre;overflow-x:auto;line-height:normal;font-family:Menlo,'DejaVu Sans Mono',consolas,'Courier New',monospace\">desgodets_coding_dh_org.csv\n",
       "</pre>\n"
      ],
      "text/plain": [
       "desgodets_coding_dh_org.csv\n"
      ]
     },
     "metadata": {},
     "output_type": "display_data"
    },
    {
     "data": {
      "text/html": [
       "<pre style=\"white-space:pre;overflow-x:auto;line-height:normal;font-family:Menlo,'DejaVu Sans Mono',consolas,'Courier New',monospace\">sastraz_coding_dh_org.csv\n",
       "</pre>\n"
      ],
      "text/plain": [
       "sastraz_coding_dh_org.csv\n"
      ]
     },
     "metadata": {},
     "output_type": "display_data"
    },
    {
     "data": {
      "text/html": [
       "<pre style=\"white-space:pre;overflow-x:auto;line-height:normal;font-family:Menlo,'DejaVu Sans Mono',consolas,'Courier New',monospace\">gi-ev_coding_dh_org.csv\n",
       "</pre>\n"
      ],
      "text/plain": [
       "gi-ev_coding_dh_org.csv\n"
      ]
     },
     "metadata": {},
     "output_type": "display_data"
    },
    {
     "data": {
      "text/html": [
       "<pre style=\"white-space:pre;overflow-x:auto;line-height:normal;font-family:Menlo,'DejaVu Sans Mono',consolas,'Courier New',monospace\">PATechmasters_coding_dh_org.csv\n",
       "</pre>\n"
      ],
      "text/plain": [
       "PATechmasters_coding_dh_org.csv\n"
      ]
     },
     "metadata": {},
     "output_type": "display_data"
    },
    {
     "data": {
      "text/html": [
       "<pre style=\"white-space:pre;overflow-x:auto;line-height:normal;font-family:Menlo,'DejaVu Sans Mono',consolas,'Courier New',monospace\">aimh-lab_coding_dh_org.csv\n",
       "</pre>\n"
      ],
      "text/plain": [
       "aimh-lab_coding_dh_org.csv\n"
      ]
     },
     "metadata": {},
     "output_type": "display_data"
    },
    {
     "data": {
      "text/html": [
       "<pre style=\"white-space:pre;overflow-x:auto;line-height:normal;font-family:Menlo,'DejaVu Sans Mono',consolas,'Courier New',monospace\">dw-innovation_coding_dh_org.csv\n",
       "</pre>\n"
      ],
      "text/plain": [
       "dw-innovation_coding_dh_org.csv\n"
      ]
     },
     "metadata": {},
     "output_type": "display_data"
    },
    {
     "data": {
      "text/html": [
       "<pre style=\"white-space:pre;overflow-x:auto;line-height:normal;font-family:Menlo,'DejaVu Sans Mono',consolas,'Courier New',monospace\">digital-science_coding_dh_org.csv\n",
       "</pre>\n"
      ],
      "text/plain": [
       "digital-science_coding_dh_org.csv\n"
      ]
     },
     "metadata": {},
     "output_type": "display_data"
    },
    {
     "data": {
      "text/html": [
       "<pre style=\"white-space:pre;overflow-x:auto;line-height:normal;font-family:Menlo,'DejaVu Sans Mono',consolas,'Courier New',monospace\">digitalhumanists_coding_dh_org.csv\n",
       "</pre>\n"
      ],
      "text/plain": [
       "digitalhumanists_coding_dh_org.csv\n"
      ]
     },
     "metadata": {},
     "output_type": "display_data"
    },
    {
     "data": {
      "text/html": [
       "<pre style=\"white-space:pre;overflow-x:auto;line-height:normal;font-family:Menlo,'DejaVu Sans Mono',consolas,'Courier New',monospace\">sicam-iee-usp_coding_dh_org.csv\n",
       "</pre>\n"
      ],
      "text/plain": [
       "sicam-iee-usp_coding_dh_org.csv\n"
      ]
     },
     "metadata": {},
     "output_type": "display_data"
    },
    {
     "data": {
      "text/html": [
       "<pre style=\"white-space:pre;overflow-x:auto;line-height:normal;font-family:Menlo,'DejaVu Sans Mono',consolas,'Courier New',monospace\">ChangeIsKey_coding_dh_org.csv\n",
       "</pre>\n"
      ],
      "text/plain": [
       "ChangeIsKey_coding_dh_org.csv\n"
      ]
     },
     "metadata": {},
     "output_type": "display_data"
    },
    {
     "data": {
      "text/html": [
       "<pre style=\"white-space:pre;overflow-x:auto;line-height:normal;font-family:Menlo,'DejaVu Sans Mono',consolas,'Courier New',monospace\">Gallicorpora_coding_dh_org.csv\n",
       "</pre>\n"
      ],
      "text/plain": [
       "Gallicorpora_coding_dh_org.csv\n"
      ]
     },
     "metadata": {},
     "output_type": "display_data"
    },
    {
     "data": {
      "text/html": [
       "<pre style=\"white-space:pre;overflow-x:auto;line-height:normal;font-family:Menlo,'DejaVu Sans Mono',consolas,'Courier New',monospace\">cleanlab_coding_dh_org.csv\n",
       "</pre>\n"
      ],
      "text/plain": [
       "cleanlab_coding_dh_org.csv\n"
      ]
     },
     "metadata": {},
     "output_type": "display_data"
    },
    {
     "data": {
      "text/html": [
       "<pre style=\"white-space:pre;overflow-x:auto;line-height:normal;font-family:Menlo,'DejaVu Sans Mono',consolas,'Courier New',monospace\">hasadna_coding_dh_org.csv\n",
       "</pre>\n"
      ],
      "text/plain": [
       "hasadna_coding_dh_org.csv\n"
      ]
     },
     "metadata": {},
     "output_type": "display_data"
    },
    {
     "data": {
      "text/html": [
       "<pre style=\"white-space:pre;overflow-x:auto;line-height:normal;font-family:Menlo,'DejaVu Sans Mono',consolas,'Courier New',monospace\">heartheartheart_coding_dh_org.csv\n",
       "</pre>\n"
      ],
      "text/plain": [
       "heartheartheart_coding_dh_org.csv\n"
      ]
     },
     "metadata": {},
     "output_type": "display_data"
    },
    {
     "data": {
      "text/html": [
       "<pre style=\"white-space:pre;overflow-x:auto;line-height:normal;font-family:Menlo,'DejaVu Sans Mono',consolas,'Courier New',monospace\">EventRegistry_coding_dh_org.csv\n",
       "</pre>\n"
      ],
      "text/plain": [
       "EventRegistry_coding_dh_org.csv\n"
      ]
     },
     "metadata": {},
     "output_type": "display_data"
    },
    {
     "data": {
      "text/html": [
       "<pre style=\"white-space:pre;overflow-x:auto;line-height:normal;font-family:Menlo,'DejaVu Sans Mono',consolas,'Courier New',monospace\">CIEPS_coding_dh_org.csv\n",
       "</pre>\n"
      ],
      "text/plain": [
       "CIEPS_coding_dh_org.csv\n"
      ]
     },
     "metadata": {},
     "output_type": "display_data"
    },
    {
     "data": {
      "text/html": [
       "<pre style=\"white-space:pre;overflow-x:auto;line-height:normal;font-family:Menlo,'DejaVu Sans Mono',consolas,'Courier New',monospace\">PPRET_coding_dh_org.csv\n",
       "</pre>\n"
      ],
      "text/plain": [
       "PPRET_coding_dh_org.csv\n"
      ]
     },
     "metadata": {},
     "output_type": "display_data"
    },
    {
     "data": {
      "text/html": [
       "<pre style=\"white-space:pre;overflow-x:auto;line-height:normal;font-family:Menlo,'DejaVu Sans Mono',consolas,'Courier New',monospace\">digirati-co-uk_coding_dh_org.csv\n",
       "</pre>\n"
      ],
      "text/plain": [
       "digirati-co-uk_coding_dh_org.csv\n"
      ]
     },
     "metadata": {},
     "output_type": "display_data"
    },
    {
     "data": {
      "text/html": [
       "<pre style=\"white-space:pre;overflow-x:auto;line-height:normal;font-family:Menlo,'DejaVu Sans Mono',consolas,'Courier New',monospace\">ediarum_coding_dh_org.csv\n",
       "</pre>\n"
      ],
      "text/plain": [
       "ediarum_coding_dh_org.csv\n"
      ]
     },
     "metadata": {},
     "output_type": "display_data"
    },
    {
     "data": {
      "text/html": [
       "<pre style=\"white-space:pre;overflow-x:auto;line-height:normal;font-family:Menlo,'DejaVu Sans Mono',consolas,'Courier New',monospace\">codeforberlin_coding_dh_org.csv\n",
       "</pre>\n"
      ],
      "text/plain": [
       "codeforberlin_coding_dh_org.csv\n"
      ]
     },
     "metadata": {},
     "output_type": "display_data"
    },
    {
     "data": {
      "text/html": [
       "<pre style=\"white-space:pre;overflow-x:auto;line-height:normal;font-family:Menlo,'DejaVu Sans Mono',consolas,'Courier New',monospace\">swiss-art-research-net_coding_dh_org.csv\n",
       "</pre>\n"
      ],
      "text/plain": [
       "swiss-art-research-net_coding_dh_org.csv\n"
      ]
     },
     "metadata": {},
     "output_type": "display_data"
    },
    {
     "data": {
      "text/html": [
       "<pre style=\"white-space:pre;overflow-x:auto;line-height:normal;font-family:Menlo,'DejaVu Sans Mono',consolas,'Courier New',monospace\">ReadingTimeMachine_coding_dh_org.csv\n",
       "</pre>\n"
      ],
      "text/plain": [
       "ReadingTimeMachine_coding_dh_org.csv\n"
      ]
     },
     "metadata": {},
     "output_type": "display_data"
    },
    {
     "data": {
      "text/html": [
       "<pre style=\"white-space:pre;overflow-x:auto;line-height:normal;font-family:Menlo,'DejaVu Sans Mono',consolas,'Courier New',monospace\">tags_coding_dh_org.csv\n",
       "</pre>\n"
      ],
      "text/plain": [
       "tags_coding_dh_org.csv\n"
      ]
     },
     "metadata": {},
     "output_type": "display_data"
    },
    {
     "data": {
      "text/html": [
       "<pre style=\"white-space:pre;overflow-x:auto;line-height:normal;font-family:Menlo,'DejaVu Sans Mono',consolas,'Courier New',monospace\">MissionToPsyche_coding_dh_org.csv\n",
       "</pre>\n"
      ],
      "text/plain": [
       "MissionToPsyche_coding_dh_org.csv\n"
      ]
     },
     "metadata": {},
     "output_type": "display_data"
    },
    {
     "data": {
      "text/html": [
       "<pre style=\"white-space:pre;overflow-x:auto;line-height:normal;font-family:Menlo,'DejaVu Sans Mono',consolas,'Courier New',monospace\">uuxoo_coding_dh_org.csv\n",
       "</pre>\n"
      ],
      "text/plain": [
       "uuxoo_coding_dh_org.csv\n"
      ]
     },
     "metadata": {},
     "output_type": "display_data"
    },
    {
     "data": {
      "text/html": [
       "<pre style=\"white-space:pre;overflow-x:auto;line-height:normal;font-family:Menlo,'DejaVu Sans Mono',consolas,'Courier New',monospace\">Kartkod_coding_dh_org.csv\n",
       "</pre>\n"
      ],
      "text/plain": [
       "Kartkod_coding_dh_org.csv\n"
      ]
     },
     "metadata": {},
     "output_type": "display_data"
    },
    {
     "data": {
      "text/html": [
       "<pre style=\"white-space:pre;overflow-x:auto;line-height:normal;font-family:Menlo,'DejaVu Sans Mono',consolas,'Courier New',monospace\">ImmigrationPolicyLab_coding_dh_org.csv\n",
       "</pre>\n"
      ],
      "text/plain": [
       "ImmigrationPolicyLab_coding_dh_org.csv\n"
      ]
     },
     "metadata": {},
     "output_type": "display_data"
    },
    {
     "data": {
      "text/html": [
       "<pre style=\"white-space:pre;overflow-x:auto;line-height:normal;font-family:Menlo,'DejaVu Sans Mono',consolas,'Courier New',monospace\">Islandora_coding_dh_org.csv\n",
       "</pre>\n"
      ],
      "text/plain": [
       "Islandora_coding_dh_org.csv\n"
      ]
     },
     "metadata": {},
     "output_type": "display_data"
    },
    {
     "data": {
      "text/html": [
       "<pre style=\"white-space:pre;overflow-x:auto;line-height:normal;font-family:Menlo,'DejaVu Sans Mono',consolas,'Courier New',monospace\">OpenPhilology_coding_dh_org.csv\n",
       "</pre>\n"
      ],
      "text/plain": [
       "OpenPhilology_coding_dh_org.csv\n"
      ]
     },
     "metadata": {},
     "output_type": "display_data"
    },
    {
     "data": {
      "text/html": [
       "<pre style=\"white-space:pre;overflow-x:auto;line-height:normal;font-family:Menlo,'DejaVu Sans Mono',consolas,'Courier New',monospace\">TU-Delft-DCC_coding_dh_org.csv\n",
       "</pre>\n"
      ],
      "text/plain": [
       "TU-Delft-DCC_coding_dh_org.csv\n"
      ]
     },
     "metadata": {},
     "output_type": "display_data"
    },
    {
     "data": {
      "text/html": [
       "<pre style=\"white-space:pre;overflow-x:auto;line-height:normal;font-family:Menlo,'DejaVu Sans Mono',consolas,'Courier New',monospace\">TechersWhoCare_coding_dh_org.csv\n",
       "</pre>\n"
      ],
      "text/plain": [
       "TechersWhoCare_coding_dh_org.csv\n"
      ]
     },
     "metadata": {},
     "output_type": "display_data"
    },
    {
     "data": {
      "text/html": [
       "<pre style=\"white-space:pre;overflow-x:auto;line-height:normal;font-family:Menlo,'DejaVu Sans Mono',consolas,'Courier New',monospace\">alaoweb_coding_dh_org.csv\n",
       "</pre>\n"
      ],
      "text/plain": [
       "alaoweb_coding_dh_org.csv\n"
      ]
     },
     "metadata": {},
     "output_type": "display_data"
    },
    {
     "data": {
      "text/html": [
       "<pre style=\"white-space:pre;overflow-x:auto;line-height:normal;font-family:Menlo,'DejaVu Sans Mono',consolas,'Courier New',monospace\">DIYBookScanner_coding_dh_org.csv\n",
       "</pre>\n"
      ],
      "text/plain": [
       "DIYBookScanner_coding_dh_org.csv\n"
      ]
     },
     "metadata": {},
     "output_type": "display_data"
    },
    {
     "data": {
      "text/html": [
       "<pre style=\"white-space:pre;overflow-x:auto;line-height:normal;font-family:Menlo,'DejaVu Sans Mono',consolas,'Courier New',monospace\">slu-dss_coding_dh_org.csv\n",
       "</pre>\n"
      ],
      "text/plain": [
       "slu-dss_coding_dh_org.csv\n"
      ]
     },
     "metadata": {},
     "output_type": "display_data"
    },
    {
     "data": {
      "text/html": [
       "<pre style=\"white-space:pre;overflow-x:auto;line-height:normal;font-family:Menlo,'DejaVu Sans Mono',consolas,'Courier New',monospace\">pdfminer_coding_dh_org.csv\n",
       "</pre>\n"
      ],
      "text/plain": [
       "pdfminer_coding_dh_org.csv\n"
      ]
     },
     "metadata": {},
     "output_type": "display_data"
    },
    {
     "data": {
      "text/html": [
       "<pre style=\"white-space:pre;overflow-x:auto;line-height:normal;font-family:Menlo,'DejaVu Sans Mono',consolas,'Courier New',monospace\">scikit-learn_coding_dh_org.csv\n",
       "</pre>\n"
      ],
      "text/plain": [
       "scikit-learn_coding_dh_org.csv\n"
      ]
     },
     "metadata": {},
     "output_type": "display_data"
    },
    {
     "data": {
      "text/html": [
       "<pre style=\"white-space:pre;overflow-x:auto;line-height:normal;font-family:Menlo,'DejaVu Sans Mono',consolas,'Courier New',monospace\">lemon-markets_coding_dh_org.csv\n",
       "</pre>\n"
      ],
      "text/plain": [
       "lemon-markets_coding_dh_org.csv\n"
      ]
     },
     "metadata": {},
     "output_type": "display_data"
    },
    {
     "data": {
      "text/html": [
       "<pre style=\"white-space:pre;overflow-x:auto;line-height:normal;font-family:Menlo,'DejaVu Sans Mono',consolas,'Courier New',monospace\">viralemergence_coding_dh_org.csv\n",
       "</pre>\n"
      ],
      "text/plain": [
       "viralemergence_coding_dh_org.csv\n"
      ]
     },
     "metadata": {},
     "output_type": "display_data"
    },
    {
     "data": {
      "text/html": [
       "<pre style=\"white-space:pre;overflow-x:auto;line-height:normal;font-family:Menlo,'DejaVu Sans Mono',consolas,'Courier New',monospace\">liseh_coding_dh_org.csv\n",
       "</pre>\n"
      ],
      "text/plain": [
       "liseh_coding_dh_org.csv\n"
      ]
     },
     "metadata": {},
     "output_type": "display_data"
    },
    {
     "data": {
      "text/html": [
       "<pre style=\"white-space:pre;overflow-x:auto;line-height:normal;font-family:Menlo,'DejaVu Sans Mono',consolas,'Courier New',monospace\">mathematica-par-excellance_coding_dh_org.csv\n",
       "</pre>\n"
      ],
      "text/plain": [
       "mathematica-par-excellance_coding_dh_org.csv\n"
      ]
     },
     "metadata": {},
     "output_type": "display_data"
    },
    {
     "data": {
      "text/html": [
       "<pre style=\"white-space:pre;overflow-x:auto;line-height:normal;font-family:Menlo,'DejaVu Sans Mono',consolas,'Courier New',monospace\">quarto-dev_coding_dh_org.csv\n",
       "</pre>\n"
      ],
      "text/plain": [
       "quarto-dev_coding_dh_org.csv\n"
      ]
     },
     "metadata": {},
     "output_type": "display_data"
    },
    {
     "data": {
      "text/html": [
       "<pre style=\"white-space:pre;overflow-x:auto;line-height:normal;font-family:Menlo,'DejaVu Sans Mono',consolas,'Courier New',monospace\">lake-county-public-library_coding_dh_org.csv\n",
       "</pre>\n"
      ],
      "text/plain": [
       "lake-county-public-library_coding_dh_org.csv\n"
      ]
     },
     "metadata": {},
     "output_type": "display_data"
    },
    {
     "data": {
      "text/html": [
       "<pre style=\"white-space:pre;overflow-x:auto;line-height:normal;font-family:Menlo,'DejaVu Sans Mono',consolas,'Courier New',monospace\">zzkpnews_coding_dh_org.csv\n",
       "</pre>\n"
      ],
      "text/plain": [
       "zzkpnews_coding_dh_org.csv\n"
      ]
     },
     "metadata": {},
     "output_type": "display_data"
    },
    {
     "data": {
      "text/html": [
       "<pre style=\"white-space:pre;overflow-x:auto;line-height:normal;font-family:Menlo,'DejaVu Sans Mono',consolas,'Courier New',monospace\">52North_coding_dh_org.csv\n",
       "</pre>\n"
      ],
      "text/plain": [
       "52North_coding_dh_org.csv\n"
      ]
     },
     "metadata": {},
     "output_type": "display_data"
    },
    {
     "data": {
      "text/html": [
       "<pre style=\"white-space:pre;overflow-x:auto;line-height:normal;font-family:Menlo,'DejaVu Sans Mono',consolas,'Courier New',monospace\">archivist_coding_dh_org.csv\n",
       "</pre>\n"
      ],
      "text/plain": [
       "archivist_coding_dh_org.csv\n"
      ]
     },
     "metadata": {},
     "output_type": "display_data"
    },
    {
     "data": {
      "text/html": [
       "<pre style=\"white-space:pre;overflow-x:auto;line-height:normal;font-family:Menlo,'DejaVu Sans Mono',consolas,'Courier New',monospace\">archaeopublica_coding_dh_org.csv\n",
       "</pre>\n"
      ],
      "text/plain": [
       "archaeopublica_coding_dh_org.csv\n"
      ]
     },
     "metadata": {},
     "output_type": "display_data"
    },
    {
     "data": {
      "text/html": [
       "<pre style=\"white-space:pre;overflow-x:auto;line-height:normal;font-family:Menlo,'DejaVu Sans Mono',consolas,'Courier New',monospace\">xronos-ch_coding_dh_org.csv\n",
       "</pre>\n"
      ],
      "text/plain": [
       "xronos-ch_coding_dh_org.csv\n"
      ]
     },
     "metadata": {},
     "output_type": "display_data"
    },
    {
     "data": {
      "text/html": [
       "<pre style=\"white-space:pre;overflow-x:auto;line-height:normal;font-family:Menlo,'DejaVu Sans Mono',consolas,'Courier New',monospace\">readchina_coding_dh_org.csv\n",
       "</pre>\n"
      ],
      "text/plain": [
       "readchina_coding_dh_org.csv\n"
      ]
     },
     "metadata": {},
     "output_type": "display_data"
    },
    {
     "data": {
      "text/html": [
       "<pre style=\"white-space:pre;overflow-x:auto;line-height:normal;font-family:Menlo,'DejaVu Sans Mono',consolas,'Courier New',monospace\">CIRSS_coding_dh_org.csv\n",
       "</pre>\n"
      ],
      "text/plain": [
       "CIRSS_coding_dh_org.csv\n"
      ]
     },
     "metadata": {},
     "output_type": "display_data"
    },
    {
     "data": {
      "text/html": [
       "<pre style=\"white-space:pre;overflow-x:auto;line-height:normal;font-family:Menlo,'DejaVu Sans Mono',consolas,'Courier New',monospace\">humanidades-fahusac-edu-gt_coding_dh_org.csv\n",
       "</pre>\n"
      ],
      "text/plain": [
       "humanidades-fahusac-edu-gt_coding_dh_org.csv\n"
      ]
     },
     "metadata": {},
     "output_type": "display_data"
    },
    {
     "data": {
      "text/html": [
       "<pre style=\"white-space:pre;overflow-x:auto;line-height:normal;font-family:Menlo,'DejaVu Sans Mono',consolas,'Courier New',monospace\">wandertext_coding_dh_org.csv\n",
       "</pre>\n"
      ],
      "text/plain": [
       "wandertext_coding_dh_org.csv\n"
      ]
     },
     "metadata": {},
     "output_type": "display_data"
    },
    {
     "data": {
      "text/html": [
       "<pre style=\"white-space:pre;overflow-x:auto;line-height:normal;font-family:Menlo,'DejaVu Sans Mono',consolas,'Courier New',monospace\">framester_coding_dh_org.csv\n",
       "</pre>\n"
      ],
      "text/plain": [
       "framester_coding_dh_org.csv\n"
      ]
     },
     "metadata": {},
     "output_type": "display_data"
    },
    {
     "data": {
      "text/html": [
       "<pre style=\"white-space:pre;overflow-x:auto;line-height:normal;font-family:Menlo,'DejaVu Sans Mono',consolas,'Courier New',monospace\">getalp_coding_dh_org.csv\n",
       "</pre>\n"
      ],
      "text/plain": [
       "getalp_coding_dh_org.csv\n"
      ]
     },
     "metadata": {},
     "output_type": "display_data"
    },
    {
     "data": {
      "text/html": [
       "<pre style=\"white-space:pre;overflow-x:auto;line-height:normal;font-family:Menlo,'DejaVu Sans Mono',consolas,'Courier New',monospace\">NAMD_coding_dh_org.csv\n",
       "</pre>\n"
      ],
      "text/plain": [
       "NAMD_coding_dh_org.csv\n"
      ]
     },
     "metadata": {},
     "output_type": "display_data"
    },
    {
     "data": {
      "text/html": [
       "<pre style=\"white-space:pre;overflow-x:auto;line-height:normal;font-family:Menlo,'DejaVu Sans Mono',consolas,'Courier New',monospace\">mangal-interactions_coding_dh_org.csv\n",
       "</pre>\n"
      ],
      "text/plain": [
       "mangal-interactions_coding_dh_org.csv\n"
      ]
     },
     "metadata": {},
     "output_type": "display_data"
    },
    {
     "data": {
      "text/html": [
       "<pre style=\"white-space:pre;overflow-x:auto;line-height:normal;font-family:Menlo,'DejaVu Sans Mono',consolas,'Courier New',monospace\">learn-anything_coding_dh_org.csv\n",
       "</pre>\n"
      ],
      "text/plain": [
       "learn-anything_coding_dh_org.csv\n"
      ]
     },
     "metadata": {},
     "output_type": "display_data"
    },
    {
     "data": {
      "text/html": [
       "<pre style=\"white-space:pre;overflow-x:auto;line-height:normal;font-family:Menlo,'DejaVu Sans Mono',consolas,'Courier New',monospace\">OpendataCH_coding_dh_org.csv\n",
       "</pre>\n"
      ],
      "text/plain": [
       "OpendataCH_coding_dh_org.csv\n"
      ]
     },
     "metadata": {},
     "output_type": "display_data"
    },
    {
     "data": {
      "text/html": [
       "<pre style=\"white-space:pre;overflow-x:auto;line-height:normal;font-family:Menlo,'DejaVu Sans Mono',consolas,'Courier New',monospace\">ContentMine_coding_dh_org.csv\n",
       "</pre>\n"
      ],
      "text/plain": [
       "ContentMine_coding_dh_org.csv\n"
      ]
     },
     "metadata": {},
     "output_type": "display_data"
    },
    {
     "data": {
      "text/html": [
       "<pre style=\"white-space:pre;overflow-x:auto;line-height:normal;font-family:Menlo,'DejaVu Sans Mono',consolas,'Courier New',monospace\">gvsulib_coding_dh_org.csv\n",
       "</pre>\n"
      ],
      "text/plain": [
       "gvsulib_coding_dh_org.csv\n"
      ]
     },
     "metadata": {},
     "output_type": "display_data"
    },
    {
     "data": {
      "text/html": [
       "<pre style=\"white-space:pre;overflow-x:auto;line-height:normal;font-family:Menlo,'DejaVu Sans Mono',consolas,'Courier New',monospace\">evidenceontology_coding_dh_org.csv\n",
       "</pre>\n"
      ],
      "text/plain": [
       "evidenceontology_coding_dh_org.csv\n"
      ]
     },
     "metadata": {},
     "output_type": "display_data"
    },
    {
     "data": {
      "text/html": [
       "<pre style=\"white-space:pre;overflow-x:auto;line-height:normal;font-family:Menlo,'DejaVu Sans Mono',consolas,'Courier New',monospace\">OBVIL_coding_dh_org.csv\n",
       "</pre>\n"
      ],
      "text/plain": [
       "OBVIL_coding_dh_org.csv\n"
      ]
     },
     "metadata": {},
     "output_type": "display_data"
    },
    {
     "data": {
      "text/html": [
       "<pre style=\"white-space:pre;overflow-x:auto;line-height:normal;font-family:Menlo,'DejaVu Sans Mono',consolas,'Courier New',monospace\">sosgang_coding_dh_org.csv\n",
       "</pre>\n"
      ],
      "text/plain": [
       "sosgang_coding_dh_org.csv\n"
      ]
     },
     "metadata": {},
     "output_type": "display_data"
    },
    {
     "data": {
      "text/html": [
       "<pre style=\"white-space:pre;overflow-x:auto;line-height:normal;font-family:Menlo,'DejaVu Sans Mono',consolas,'Courier New',monospace\">cuedpc_coding_dh_org.csv\n",
       "</pre>\n"
      ],
      "text/plain": [
       "cuedpc_coding_dh_org.csv\n"
      ]
     },
     "metadata": {},
     "output_type": "display_data"
    },
    {
     "data": {
      "text/html": [
       "<pre style=\"white-space:pre;overflow-x:auto;line-height:normal;font-family:Menlo,'DejaVu Sans Mono',consolas,'Courier New',monospace\">PaideiaDH_coding_dh_org.csv\n",
       "</pre>\n"
      ],
      "text/plain": [
       "PaideiaDH_coding_dh_org.csv\n"
      ]
     },
     "metadata": {},
     "output_type": "display_data"
    },
    {
     "data": {
      "text/html": [
       "<pre style=\"white-space:pre;overflow-x:auto;line-height:normal;font-family:Menlo,'DejaVu Sans Mono',consolas,'Courier New',monospace\">ExtendScript_coding_dh_org.csv\n",
       "</pre>\n"
      ],
      "text/plain": [
       "ExtendScript_coding_dh_org.csv\n"
      ]
     },
     "metadata": {},
     "output_type": "display_data"
    },
    {
     "data": {
      "text/html": [
       "<pre style=\"white-space:pre;overflow-x:auto;line-height:normal;font-family:Menlo,'DejaVu Sans Mono',consolas,'Courier New',monospace\">baz-ga_coding_dh_org.csv\n",
       "</pre>\n"
      ],
      "text/plain": [
       "baz-ga_coding_dh_org.csv\n"
      ]
     },
     "metadata": {},
     "output_type": "display_data"
    },
    {
     "data": {
      "text/html": [
       "<pre style=\"white-space:pre;overflow-x:auto;line-height:normal;font-family:Menlo,'DejaVu Sans Mono',consolas,'Courier New',monospace\">ContinuumIO_coding_dh_org.csv\n",
       "</pre>\n"
      ],
      "text/plain": [
       "ContinuumIO_coding_dh_org.csv\n"
      ]
     },
     "metadata": {},
     "output_type": "display_data"
    },
    {
     "data": {
      "text/html": [
       "<pre style=\"white-space:pre;overflow-x:auto;line-height:normal;font-family:Menlo,'DejaVu Sans Mono',consolas,'Courier New',monospace\">openai_coding_dh_org.csv\n",
       "</pre>\n"
      ],
      "text/plain": [
       "openai_coding_dh_org.csv\n"
      ]
     },
     "metadata": {},
     "output_type": "display_data"
    },
    {
     "data": {
      "text/html": [
       "<pre style=\"white-space:pre;overflow-x:auto;line-height:normal;font-family:Menlo,'DejaVu Sans Mono',consolas,'Courier New',monospace\">sqreen_coding_dh_org.csv\n",
       "</pre>\n"
      ],
      "text/plain": [
       "sqreen_coding_dh_org.csv\n"
      ]
     },
     "metadata": {},
     "output_type": "display_data"
    },
    {
     "data": {
      "text/html": [
       "<pre style=\"white-space:pre;overflow-x:auto;line-height:normal;font-family:Menlo,'DejaVu Sans Mono',consolas,'Courier New',monospace\">Attempto_coding_dh_org.csv\n",
       "</pre>\n"
      ],
      "text/plain": [
       "Attempto_coding_dh_org.csv\n"
      ]
     },
     "metadata": {},
     "output_type": "display_data"
    },
    {
     "data": {
      "text/html": [
       "<pre style=\"white-space:pre;overflow-x:auto;line-height:normal;font-family:Menlo,'DejaVu Sans Mono',consolas,'Courier New',monospace\">code4lib_coding_dh_org.csv\n",
       "</pre>\n"
      ],
      "text/plain": [
       "code4lib_coding_dh_org.csv\n"
      ]
     },
     "metadata": {},
     "output_type": "display_data"
    },
    {
     "data": {
      "text/html": [
       "<pre style=\"white-space:pre;overflow-x:auto;line-height:normal;font-family:Menlo,'DejaVu Sans Mono',consolas,'Courier New',monospace\">ruby-rdf_coding_dh_org.csv\n",
       "</pre>\n"
      ],
      "text/plain": [
       "ruby-rdf_coding_dh_org.csv\n"
      ]
     },
     "metadata": {},
     "output_type": "display_data"
    },
    {
     "data": {
      "text/html": [
       "<pre style=\"white-space:pre;overflow-x:auto;line-height:normal;font-family:Menlo,'DejaVu Sans Mono',consolas,'Courier New',monospace\">DM2E_coding_dh_org.csv\n",
       "</pre>\n"
      ],
      "text/plain": [
       "DM2E_coding_dh_org.csv\n"
      ]
     },
     "metadata": {},
     "output_type": "display_data"
    },
    {
     "data": {
      "text/html": [
       "<pre style=\"white-space:pre;overflow-x:auto;line-height:normal;font-family:Menlo,'DejaVu Sans Mono',consolas,'Courier New',monospace\">sizespectrum_coding_dh_org.csv\n",
       "</pre>\n"
      ],
      "text/plain": [
       "sizespectrum_coding_dh_org.csv\n"
      ]
     },
     "metadata": {},
     "output_type": "display_data"
    },
    {
     "data": {
      "text/html": [
       "<pre style=\"white-space:pre;overflow-x:auto;line-height:normal;font-family:Menlo,'DejaVu Sans Mono',consolas,'Courier New',monospace\">columbiactl_coding_dh_org.csv\n",
       "</pre>\n"
      ],
      "text/plain": [
       "columbiactl_coding_dh_org.csv\n"
      ]
     },
     "metadata": {},
     "output_type": "display_data"
    },
    {
     "data": {
      "text/html": [
       "<pre style=\"white-space:pre;overflow-x:auto;line-height:normal;font-family:Menlo,'DejaVu Sans Mono',consolas,'Courier New',monospace\">ludoscity_coding_dh_org.csv\n",
       "</pre>\n"
      ],
      "text/plain": [
       "ludoscity_coding_dh_org.csv\n"
      ]
     },
     "metadata": {},
     "output_type": "display_data"
    },
    {
     "data": {
      "text/html": [
       "<pre style=\"white-space:pre;overflow-x:auto;line-height:normal;font-family:Menlo,'DejaVu Sans Mono',consolas,'Courier New',monospace\">cloudyr_coding_dh_org.csv\n",
       "</pre>\n"
      ],
      "text/plain": [
       "cloudyr_coding_dh_org.csv\n"
      ]
     },
     "metadata": {},
     "output_type": "display_data"
    },
    {
     "ename": "KeyboardInterrupt",
     "evalue": "",
     "output_type": "error",
     "traceback": [
      "\u001b[0;31m---------------------------------------------------------------------------\u001b[0m",
      "\u001b[0;31mKeyboardInterrupt\u001b[0m                         Traceback (most recent call last)",
      "Cell \u001b[0;32mIn[33], line 23\u001b[0m\n\u001b[1;32m     21\u001b[0m \u001b[38;5;28;01mfor\u001b[39;00m file \u001b[38;5;129;01min\u001b[39;00m os\u001b[38;5;241m.\u001b[39mlistdir(\u001b[38;5;124m\"\u001b[39m\u001b[38;5;124m../../new_datasets/historic_data/entity_files/all_orgs/\u001b[39m\u001b[38;5;124m\"\u001b[39m):\n\u001b[1;32m     22\u001b[0m     \u001b[38;5;28;01mif\u001b[39;00m file\u001b[38;5;241m.\u001b[39mendswith(\u001b[38;5;124m\"\u001b[39m\u001b[38;5;124m.csv\u001b[39m\u001b[38;5;124m\"\u001b[39m):\n\u001b[0;32m---> 23\u001b[0m         df \u001b[38;5;241m=\u001b[39m \u001b[43mpd\u001b[49m\u001b[38;5;241;43m.\u001b[39;49m\u001b[43mread_csv\u001b[49m\u001b[43m(\u001b[49m\u001b[38;5;124;43mf\u001b[39;49m\u001b[38;5;124;43m\"\u001b[39;49m\u001b[38;5;124;43m../../new_datasets/historic_data/entity_files/all_orgs/\u001b[39;49m\u001b[38;5;132;43;01m{\u001b[39;49;00m\u001b[43mfile\u001b[49m\u001b[38;5;132;43;01m}\u001b[39;49;00m\u001b[38;5;124;43m\"\u001b[39;49m\u001b[43m)\u001b[49m\n\u001b[1;32m     24\u001b[0m         \u001b[38;5;66;03m# check if has any of excluded columns\u001b[39;00m\n\u001b[1;32m     25\u001b[0m         \u001b[38;5;28;01mif\u001b[39;00m \u001b[38;5;28many\u001b[39m(elem \u001b[38;5;129;01min\u001b[39;00m df\u001b[38;5;241m.\u001b[39mcolumns \u001b[38;5;28;01mfor\u001b[39;00m elem \u001b[38;5;129;01min\u001b[39;00m exclude_columns):\n",
      "File \u001b[0;32m~/.virtualenvs/values_and_versions_env/lib/python3.9/site-packages/pandas/util/_decorators.py:211\u001b[0m, in \u001b[0;36mdeprecate_kwarg.<locals>._deprecate_kwarg.<locals>.wrapper\u001b[0;34m(*args, **kwargs)\u001b[0m\n\u001b[1;32m    209\u001b[0m     \u001b[38;5;28;01melse\u001b[39;00m:\n\u001b[1;32m    210\u001b[0m         kwargs[new_arg_name] \u001b[38;5;241m=\u001b[39m new_arg_value\n\u001b[0;32m--> 211\u001b[0m \u001b[38;5;28;01mreturn\u001b[39;00m \u001b[43mfunc\u001b[49m\u001b[43m(\u001b[49m\u001b[38;5;241;43m*\u001b[39;49m\u001b[43margs\u001b[49m\u001b[43m,\u001b[49m\u001b[43m \u001b[49m\u001b[38;5;241;43m*\u001b[39;49m\u001b[38;5;241;43m*\u001b[39;49m\u001b[43mkwargs\u001b[49m\u001b[43m)\u001b[49m\n",
      "File \u001b[0;32m~/.virtualenvs/values_and_versions_env/lib/python3.9/site-packages/pandas/util/_decorators.py:331\u001b[0m, in \u001b[0;36mdeprecate_nonkeyword_arguments.<locals>.decorate.<locals>.wrapper\u001b[0;34m(*args, **kwargs)\u001b[0m\n\u001b[1;32m    325\u001b[0m \u001b[38;5;28;01mif\u001b[39;00m \u001b[38;5;28mlen\u001b[39m(args) \u001b[38;5;241m>\u001b[39m num_allow_args:\n\u001b[1;32m    326\u001b[0m     warnings\u001b[38;5;241m.\u001b[39mwarn(\n\u001b[1;32m    327\u001b[0m         msg\u001b[38;5;241m.\u001b[39mformat(arguments\u001b[38;5;241m=\u001b[39m_format_argument_list(allow_args)),\n\u001b[1;32m    328\u001b[0m         \u001b[38;5;167;01mFutureWarning\u001b[39;00m,\n\u001b[1;32m    329\u001b[0m         stacklevel\u001b[38;5;241m=\u001b[39mfind_stack_level(),\n\u001b[1;32m    330\u001b[0m     )\n\u001b[0;32m--> 331\u001b[0m \u001b[38;5;28;01mreturn\u001b[39;00m \u001b[43mfunc\u001b[49m\u001b[43m(\u001b[49m\u001b[38;5;241;43m*\u001b[39;49m\u001b[43margs\u001b[49m\u001b[43m,\u001b[49m\u001b[43m \u001b[49m\u001b[38;5;241;43m*\u001b[39;49m\u001b[38;5;241;43m*\u001b[39;49m\u001b[43mkwargs\u001b[49m\u001b[43m)\u001b[49m\n",
      "File \u001b[0;32m~/.virtualenvs/values_and_versions_env/lib/python3.9/site-packages/pandas/io/parsers/readers.py:950\u001b[0m, in \u001b[0;36mread_csv\u001b[0;34m(filepath_or_buffer, sep, delimiter, header, names, index_col, usecols, squeeze, prefix, mangle_dupe_cols, dtype, engine, converters, true_values, false_values, skipinitialspace, skiprows, skipfooter, nrows, na_values, keep_default_na, na_filter, verbose, skip_blank_lines, parse_dates, infer_datetime_format, keep_date_col, date_parser, dayfirst, cache_dates, iterator, chunksize, compression, thousands, decimal, lineterminator, quotechar, quoting, doublequote, escapechar, comment, encoding, encoding_errors, dialect, error_bad_lines, warn_bad_lines, on_bad_lines, delim_whitespace, low_memory, memory_map, float_precision, storage_options)\u001b[0m\n\u001b[1;32m    935\u001b[0m kwds_defaults \u001b[38;5;241m=\u001b[39m _refine_defaults_read(\n\u001b[1;32m    936\u001b[0m     dialect,\n\u001b[1;32m    937\u001b[0m     delimiter,\n\u001b[0;32m   (...)\u001b[0m\n\u001b[1;32m    946\u001b[0m     defaults\u001b[38;5;241m=\u001b[39m{\u001b[38;5;124m\"\u001b[39m\u001b[38;5;124mdelimiter\u001b[39m\u001b[38;5;124m\"\u001b[39m: \u001b[38;5;124m\"\u001b[39m\u001b[38;5;124m,\u001b[39m\u001b[38;5;124m\"\u001b[39m},\n\u001b[1;32m    947\u001b[0m )\n\u001b[1;32m    948\u001b[0m kwds\u001b[38;5;241m.\u001b[39mupdate(kwds_defaults)\n\u001b[0;32m--> 950\u001b[0m \u001b[38;5;28;01mreturn\u001b[39;00m \u001b[43m_read\u001b[49m\u001b[43m(\u001b[49m\u001b[43mfilepath_or_buffer\u001b[49m\u001b[43m,\u001b[49m\u001b[43m \u001b[49m\u001b[43mkwds\u001b[49m\u001b[43m)\u001b[49m\n",
      "File \u001b[0;32m~/.virtualenvs/values_and_versions_env/lib/python3.9/site-packages/pandas/io/parsers/readers.py:611\u001b[0m, in \u001b[0;36m_read\u001b[0;34m(filepath_or_buffer, kwds)\u001b[0m\n\u001b[1;32m    608\u001b[0m     \u001b[38;5;28;01mreturn\u001b[39;00m parser\n\u001b[1;32m    610\u001b[0m \u001b[38;5;28;01mwith\u001b[39;00m parser:\n\u001b[0;32m--> 611\u001b[0m     \u001b[38;5;28;01mreturn\u001b[39;00m \u001b[43mparser\u001b[49m\u001b[38;5;241;43m.\u001b[39;49m\u001b[43mread\u001b[49m\u001b[43m(\u001b[49m\u001b[43mnrows\u001b[49m\u001b[43m)\u001b[49m\n",
      "File \u001b[0;32m~/.virtualenvs/values_and_versions_env/lib/python3.9/site-packages/pandas/io/parsers/readers.py:1795\u001b[0m, in \u001b[0;36mTextFileReader.read\u001b[0;34m(self, nrows)\u001b[0m\n\u001b[1;32m   1792\u001b[0m     \u001b[38;5;28;01melse\u001b[39;00m:\n\u001b[1;32m   1793\u001b[0m         new_rows \u001b[38;5;241m=\u001b[39m \u001b[38;5;28mlen\u001b[39m(index)\n\u001b[0;32m-> 1795\u001b[0m     df \u001b[38;5;241m=\u001b[39m \u001b[43mDataFrame\u001b[49m\u001b[43m(\u001b[49m\u001b[43mcol_dict\u001b[49m\u001b[43m,\u001b[49m\u001b[43m \u001b[49m\u001b[43mcolumns\u001b[49m\u001b[38;5;241;43m=\u001b[39;49m\u001b[43mcolumns\u001b[49m\u001b[43m,\u001b[49m\u001b[43m \u001b[49m\u001b[43mindex\u001b[49m\u001b[38;5;241;43m=\u001b[39;49m\u001b[43mindex\u001b[49m\u001b[43m)\u001b[49m\n\u001b[1;32m   1797\u001b[0m     \u001b[38;5;28mself\u001b[39m\u001b[38;5;241m.\u001b[39m_currow \u001b[38;5;241m+\u001b[39m\u001b[38;5;241m=\u001b[39m new_rows\n\u001b[1;32m   1799\u001b[0m \u001b[38;5;28;01mif\u001b[39;00m \u001b[38;5;28mself\u001b[39m\u001b[38;5;241m.\u001b[39msqueeze \u001b[38;5;129;01mand\u001b[39;00m \u001b[38;5;28mlen\u001b[39m(df\u001b[38;5;241m.\u001b[39mcolumns) \u001b[38;5;241m==\u001b[39m \u001b[38;5;241m1\u001b[39m:\n",
      "File \u001b[0;32m~/.virtualenvs/values_and_versions_env/lib/python3.9/site-packages/pandas/core/frame.py:663\u001b[0m, in \u001b[0;36mDataFrame.__init__\u001b[0;34m(self, data, index, columns, dtype, copy)\u001b[0m\n\u001b[1;32m    657\u001b[0m     mgr \u001b[38;5;241m=\u001b[39m \u001b[38;5;28mself\u001b[39m\u001b[38;5;241m.\u001b[39m_init_mgr(\n\u001b[1;32m    658\u001b[0m         data, axes\u001b[38;5;241m=\u001b[39m{\u001b[38;5;124m\"\u001b[39m\u001b[38;5;124mindex\u001b[39m\u001b[38;5;124m\"\u001b[39m: index, \u001b[38;5;124m\"\u001b[39m\u001b[38;5;124mcolumns\u001b[39m\u001b[38;5;124m\"\u001b[39m: columns}, dtype\u001b[38;5;241m=\u001b[39mdtype, copy\u001b[38;5;241m=\u001b[39mcopy\n\u001b[1;32m    659\u001b[0m     )\n\u001b[1;32m    661\u001b[0m \u001b[38;5;28;01melif\u001b[39;00m \u001b[38;5;28misinstance\u001b[39m(data, \u001b[38;5;28mdict\u001b[39m):\n\u001b[1;32m    662\u001b[0m     \u001b[38;5;66;03m# GH#38939 de facto copy defaults to False only in non-dict cases\u001b[39;00m\n\u001b[0;32m--> 663\u001b[0m     mgr \u001b[38;5;241m=\u001b[39m \u001b[43mdict_to_mgr\u001b[49m\u001b[43m(\u001b[49m\u001b[43mdata\u001b[49m\u001b[43m,\u001b[49m\u001b[43m \u001b[49m\u001b[43mindex\u001b[49m\u001b[43m,\u001b[49m\u001b[43m \u001b[49m\u001b[43mcolumns\u001b[49m\u001b[43m,\u001b[49m\u001b[43m \u001b[49m\u001b[43mdtype\u001b[49m\u001b[38;5;241;43m=\u001b[39;49m\u001b[43mdtype\u001b[49m\u001b[43m,\u001b[49m\u001b[43m \u001b[49m\u001b[43mcopy\u001b[49m\u001b[38;5;241;43m=\u001b[39;49m\u001b[43mcopy\u001b[49m\u001b[43m,\u001b[49m\u001b[43m \u001b[49m\u001b[43mtyp\u001b[49m\u001b[38;5;241;43m=\u001b[39;49m\u001b[43mmanager\u001b[49m\u001b[43m)\u001b[49m\n\u001b[1;32m    664\u001b[0m \u001b[38;5;28;01melif\u001b[39;00m \u001b[38;5;28misinstance\u001b[39m(data, ma\u001b[38;5;241m.\u001b[39mMaskedArray):\n\u001b[1;32m    665\u001b[0m     \u001b[38;5;28;01mimport\u001b[39;00m \u001b[38;5;21;01mnumpy\u001b[39;00m\u001b[38;5;21;01m.\u001b[39;00m\u001b[38;5;21;01mma\u001b[39;00m\u001b[38;5;21;01m.\u001b[39;00m\u001b[38;5;21;01mmrecords\u001b[39;00m \u001b[38;5;28;01mas\u001b[39;00m \u001b[38;5;21;01mmrecords\u001b[39;00m\n",
      "File \u001b[0;32m~/.virtualenvs/values_and_versions_env/lib/python3.9/site-packages/pandas/core/internals/construction.py:443\u001b[0m, in \u001b[0;36mdict_to_mgr\u001b[0;34m(data, index, columns, dtype, typ, copy)\u001b[0m\n\u001b[1;32m    440\u001b[0m \u001b[38;5;28;01mif\u001b[39;00m columns \u001b[38;5;129;01mis\u001b[39;00m \u001b[38;5;129;01mnot\u001b[39;00m \u001b[38;5;28;01mNone\u001b[39;00m:\n\u001b[1;32m    441\u001b[0m     \u001b[38;5;28;01mfrom\u001b[39;00m \u001b[38;5;21;01mpandas\u001b[39;00m\u001b[38;5;21;01m.\u001b[39;00m\u001b[38;5;21;01mcore\u001b[39;00m\u001b[38;5;21;01m.\u001b[39;00m\u001b[38;5;21;01mseries\u001b[39;00m \u001b[38;5;28;01mimport\u001b[39;00m Series\n\u001b[0;32m--> 443\u001b[0m     arrays \u001b[38;5;241m=\u001b[39m \u001b[43mSeries\u001b[49m\u001b[43m(\u001b[49m\u001b[43mdata\u001b[49m\u001b[43m,\u001b[49m\u001b[43m \u001b[49m\u001b[43mindex\u001b[49m\u001b[38;5;241;43m=\u001b[39;49m\u001b[43mcolumns\u001b[49m\u001b[43m,\u001b[49m\u001b[43m \u001b[49m\u001b[43mdtype\u001b[49m\u001b[38;5;241;43m=\u001b[39;49m\u001b[38;5;28;43mobject\u001b[39;49m\u001b[43m)\u001b[49m\n\u001b[1;32m    444\u001b[0m     missing \u001b[38;5;241m=\u001b[39m arrays\u001b[38;5;241m.\u001b[39misna()\n\u001b[1;32m    445\u001b[0m     \u001b[38;5;28;01mif\u001b[39;00m index \u001b[38;5;129;01mis\u001b[39;00m \u001b[38;5;28;01mNone\u001b[39;00m:\n\u001b[1;32m    446\u001b[0m         \u001b[38;5;66;03m# GH10856\u001b[39;00m\n\u001b[1;32m    447\u001b[0m         \u001b[38;5;66;03m# raise ValueError if only scalars in dict\u001b[39;00m\n",
      "File \u001b[0;32m~/.virtualenvs/values_and_versions_env/lib/python3.9/site-packages/pandas/core/series.py:399\u001b[0m, in \u001b[0;36mSeries.__init__\u001b[0;34m(self, data, index, dtype, name, copy, fastpath)\u001b[0m\n\u001b[1;32m    395\u001b[0m     \u001b[38;5;66;03m# uncomment the line below when removing the FutureWarning\u001b[39;00m\n\u001b[1;32m    396\u001b[0m     \u001b[38;5;66;03m# dtype = np.dtype(object)\u001b[39;00m\n\u001b[1;32m    398\u001b[0m \u001b[38;5;28;01mif\u001b[39;00m index \u001b[38;5;129;01mis\u001b[39;00m \u001b[38;5;129;01mnot\u001b[39;00m \u001b[38;5;28;01mNone\u001b[39;00m:\n\u001b[0;32m--> 399\u001b[0m     index \u001b[38;5;241m=\u001b[39m \u001b[43mensure_index\u001b[49m\u001b[43m(\u001b[49m\u001b[43mindex\u001b[49m\u001b[43m)\u001b[49m\n\u001b[1;32m    401\u001b[0m \u001b[38;5;28;01mif\u001b[39;00m data \u001b[38;5;129;01mis\u001b[39;00m \u001b[38;5;28;01mNone\u001b[39;00m:\n\u001b[1;32m    402\u001b[0m     data \u001b[38;5;241m=\u001b[39m {}\n",
      "File \u001b[0;32m~/.virtualenvs/values_and_versions_env/lib/python3.9/site-packages/pandas/core/indexes/base.py:7374\u001b[0m, in \u001b[0;36mensure_index\u001b[0;34m(index_like, copy)\u001b[0m\n\u001b[1;32m   7372\u001b[0m         \u001b[38;5;28;01mreturn\u001b[39;00m MultiIndex\u001b[38;5;241m.\u001b[39mfrom_arrays(index_like)\n\u001b[1;32m   7373\u001b[0m     \u001b[38;5;28;01melse\u001b[39;00m:\n\u001b[0;32m-> 7374\u001b[0m         \u001b[38;5;28;01mreturn\u001b[39;00m \u001b[43mIndex\u001b[49m\u001b[38;5;241;43m.\u001b[39;49m\u001b[43m_with_infer\u001b[49m\u001b[43m(\u001b[49m\u001b[43mindex_like\u001b[49m\u001b[43m,\u001b[49m\u001b[43m \u001b[49m\u001b[43mcopy\u001b[49m\u001b[38;5;241;43m=\u001b[39;49m\u001b[43mcopy\u001b[49m\u001b[43m,\u001b[49m\u001b[43m \u001b[49m\u001b[43mtupleize_cols\u001b[49m\u001b[38;5;241;43m=\u001b[39;49m\u001b[38;5;28;43;01mFalse\u001b[39;49;00m\u001b[43m)\u001b[49m\n\u001b[1;32m   7375\u001b[0m \u001b[38;5;28;01melse\u001b[39;00m:\n\u001b[1;32m   7376\u001b[0m     \u001b[38;5;28;01mreturn\u001b[39;00m Index\u001b[38;5;241m.\u001b[39m_with_infer(index_like, copy\u001b[38;5;241m=\u001b[39mcopy)\n",
      "File \u001b[0;32m~/.virtualenvs/values_and_versions_env/lib/python3.9/site-packages/pandas/core/indexes/base.py:715\u001b[0m, in \u001b[0;36mIndex._with_infer\u001b[0;34m(cls, *args, **kwargs)\u001b[0m\n\u001b[1;32m    709\u001b[0m \u001b[38;5;129m@classmethod\u001b[39m\n\u001b[1;32m    710\u001b[0m \u001b[38;5;28;01mdef\u001b[39;00m \u001b[38;5;21m_with_infer\u001b[39m(\u001b[38;5;28mcls\u001b[39m, \u001b[38;5;241m*\u001b[39margs, \u001b[38;5;241m*\u001b[39m\u001b[38;5;241m*\u001b[39mkwargs):\n\u001b[1;32m    711\u001b[0m     \u001b[38;5;124;03m\"\"\"\u001b[39;00m\n\u001b[1;32m    712\u001b[0m \u001b[38;5;124;03m    Constructor that uses the 1.0.x behavior inferring numeric dtypes\u001b[39;00m\n\u001b[1;32m    713\u001b[0m \u001b[38;5;124;03m    for ndarray[object] inputs.\u001b[39;00m\n\u001b[1;32m    714\u001b[0m \u001b[38;5;124;03m    \"\"\"\u001b[39;00m\n\u001b[0;32m--> 715\u001b[0m     \u001b[38;5;28;01mwith\u001b[39;00m warnings\u001b[38;5;241m.\u001b[39mcatch_warnings():\n\u001b[1;32m    716\u001b[0m         warnings\u001b[38;5;241m.\u001b[39mfilterwarnings(\u001b[38;5;124m\"\u001b[39m\u001b[38;5;124mignore\u001b[39m\u001b[38;5;124m\"\u001b[39m, \u001b[38;5;124m\"\u001b[39m\u001b[38;5;124m.*the Index constructor\u001b[39m\u001b[38;5;124m\"\u001b[39m, \u001b[38;5;167;01mFutureWarning\u001b[39;00m)\n\u001b[1;32m    717\u001b[0m         result \u001b[38;5;241m=\u001b[39m \u001b[38;5;28mcls\u001b[39m(\u001b[38;5;241m*\u001b[39margs, \u001b[38;5;241m*\u001b[39m\u001b[38;5;241m*\u001b[39mkwargs)\n",
      "File \u001b[0;32m/opt/homebrew/Cellar/python@3.9/3.9.18_1/Frameworks/Python.framework/Versions/3.9/lib/python3.9/warnings.py:463\u001b[0m, in \u001b[0;36mcatch_warnings.__enter__\u001b[0;34m(self)\u001b[0m\n\u001b[1;32m    461\u001b[0m \u001b[38;5;28mself\u001b[39m\u001b[38;5;241m.\u001b[39m_entered \u001b[38;5;241m=\u001b[39m \u001b[38;5;28;01mTrue\u001b[39;00m\n\u001b[1;32m    462\u001b[0m \u001b[38;5;28mself\u001b[39m\u001b[38;5;241m.\u001b[39m_filters \u001b[38;5;241m=\u001b[39m \u001b[38;5;28mself\u001b[39m\u001b[38;5;241m.\u001b[39m_module\u001b[38;5;241m.\u001b[39mfilters\n\u001b[0;32m--> 463\u001b[0m \u001b[38;5;28mself\u001b[39m\u001b[38;5;241m.\u001b[39m_module\u001b[38;5;241m.\u001b[39mfilters \u001b[38;5;241m=\u001b[39m \u001b[38;5;28;43mself\u001b[39;49m\u001b[38;5;241;43m.\u001b[39;49m\u001b[43m_filters\u001b[49m\u001b[43m[\u001b[49m\u001b[43m:\u001b[49m\u001b[43m]\u001b[49m\n\u001b[1;32m    464\u001b[0m \u001b[38;5;28mself\u001b[39m\u001b[38;5;241m.\u001b[39m_module\u001b[38;5;241m.\u001b[39m_filters_mutated()\n\u001b[1;32m    465\u001b[0m \u001b[38;5;28mself\u001b[39m\u001b[38;5;241m.\u001b[39m_showwarning \u001b[38;5;241m=\u001b[39m \u001b[38;5;28mself\u001b[39m\u001b[38;5;241m.\u001b[39m_module\u001b[38;5;241m.\u001b[39mshowwarning\n",
      "\u001b[0;31mKeyboardInterrupt\u001b[0m: "
     ]
    }
   ],
   "source": [
    "exclude_columns = ['org_query_time', 'total_private_repos', 'owned_private_repos',\n",
    "       'private_gists', 'disk_usage', 'collaborators', 'billing_email',\n",
    "       'default_repository_permission', 'members_can_create_repositories',\n",
    "       'two_factor_requirement_enabled',\n",
    "       'members_allowed_repository_creation_type',\n",
    "       'members_can_create_public_repositories',\n",
    "       'members_can_create_private_repositories',\n",
    "       'members_can_create_internal_repositories', 'members_can_create_pages',\n",
    "       'members_can_fork_private_repositories', 'web_commit_signoff_required',\n",
    "       'members_can_create_public_pages', 'members_can_create_private_pages',\n",
    "       'plan.name', 'plan.space', 'plan.private_repos', 'plan.filled_seats',\n",
    "       'plan.seats', 'advanced_security_enabled_for_new_repositories',\n",
    "       'dependabot_alerts_enabled_for_new_repositories',\n",
    "       'dependabot_security_updates_enabled_for_new_repositories',\n",
    "       'dependency_graph_enabled_for_new_repositories',\n",
    "       'secret_scanning_enabled_for_new_repositories',\n",
    "       'secret_scanning_push_protection_enabled_for_new_repositories',\n",
    "       'secret_scanning_push_protection_custom_link_enabled',\n",
    "       'secret_scanning_push_protection_custom_link']\n",
    "needs_fixing = []\n",
    "for file in os.listdir(\"../../new_datasets/historic_data/entity_files/all_orgs/\"):\n",
    "    if file.endswith(\".csv\"):\n",
    "        df = pd.read_csv(f\"../../new_datasets/historic_data/entity_files/all_orgs/{file}\")\n",
    "        # check if has any of excluded columns and check if those columns have values besides NaN\n",
    "        if any(elem in df.columns for elem in exclude_columns):\n",
    "            if df[exclude_columns].notna().any().any():\n",
    "                needs_fixing.append(file)"
   ]
  },
  {
   "cell_type": "code",
   "execution_count": 32,
   "metadata": {},
   "outputs": [
    {
     "data": {
      "text/html": [
       "<div>\n",
       "<style scoped>\n",
       "    .dataframe tbody tr th:only-of-type {\n",
       "        vertical-align: middle;\n",
       "    }\n",
       "\n",
       "    .dataframe tbody tr th {\n",
       "        vertical-align: top;\n",
       "    }\n",
       "\n",
       "    .dataframe thead th {\n",
       "        text-align: right;\n",
       "    }\n",
       "</style>\n",
       "<table border=\"1\" class=\"dataframe\">\n",
       "  <thead>\n",
       "    <tr style=\"text-align: right;\">\n",
       "      <th></th>\n",
       "      <th>bio</th>\n",
       "      <th>followers_url</th>\n",
       "      <th>following_url</th>\n",
       "      <th>gists_url</th>\n",
       "      <th>gravatar_id</th>\n",
       "      <th>hireable</th>\n",
       "      <th>organizations_url</th>\n",
       "      <th>received_events_url</th>\n",
       "      <th>site_admin</th>\n",
       "      <th>starred_url</th>\n",
       "      <th>...</th>\n",
       "      <th>plan.filled_seats</th>\n",
       "      <th>plan.seats</th>\n",
       "      <th>advanced_security_enabled_for_new_repositories</th>\n",
       "      <th>dependabot_alerts_enabled_for_new_repositories</th>\n",
       "      <th>dependabot_security_updates_enabled_for_new_repositories</th>\n",
       "      <th>dependency_graph_enabled_for_new_repositories</th>\n",
       "      <th>secret_scanning_enabled_for_new_repositories</th>\n",
       "      <th>secret_scanning_push_protection_enabled_for_new_repositories</th>\n",
       "      <th>secret_scanning_push_protection_custom_link_enabled</th>\n",
       "      <th>secret_scanning_push_protection_custom_link</th>\n",
       "    </tr>\n",
       "  </thead>\n",
       "  <tbody>\n",
       "  </tbody>\n",
       "</table>\n",
       "<p>0 rows × 78 columns</p>\n",
       "</div>"
      ],
      "text/plain": [
       "Empty DataFrame\n",
       "Columns: [bio, followers_url, following_url, gists_url, gravatar_id, hireable, organizations_url, received_events_url, site_admin, starred_url, subscriptions_url, login, id, node_id, url, repos_url, events_url, hooks_url, issues_url, members_url, public_members_url, avatar_url, description, is_verified, has_organization_projects, has_repository_projects, public_repos, public_gists, followers, following, html_url, created_at, updated_at, type, name, company, blog, location, email, twitter_username, coding_dh_date, coding_dh_id, star_count, subscription_count, organization_count, members_count, org_query_time, total_private_repos, owned_private_repos, private_gists, disk_usage, collaborators, billing_email, default_repository_permission, members_can_create_repositories, two_factor_requirement_enabled, members_allowed_repository_creation_type, members_can_create_public_repositories, members_can_create_private_repositories, members_can_create_internal_repositories, members_can_create_pages, members_can_fork_private_repositories, web_commit_signoff_required, members_can_create_public_pages, members_can_create_private_pages, plan.name, plan.space, plan.private_repos, plan.filled_seats, plan.seats, advanced_security_enabled_for_new_repositories, dependabot_alerts_enabled_for_new_repositories, dependabot_security_updates_enabled_for_new_repositories, dependency_graph_enabled_for_new_repositories, secret_scanning_enabled_for_new_repositories, secret_scanning_push_protection_enabled_for_new_repositories, secret_scanning_push_protection_custom_link_enabled, secret_scanning_push_protection_custom_link]\n",
       "Index: []\n",
       "\n",
       "[0 rows x 78 columns]"
      ]
     },
     "execution_count": 32,
     "metadata": {},
     "output_type": "execute_result"
    }
   ],
   "source": [
    "initial_core_orgs[initial_core_orgs.disk_usage.notna()]"
   ]
  },
  {
   "cell_type": "code",
   "execution_count": 29,
   "metadata": {},
   "outputs": [
    {
     "data": {
      "text/html": [
       "<div>\n",
       "<style scoped>\n",
       "    .dataframe tbody tr th:only-of-type {\n",
       "        vertical-align: middle;\n",
       "    }\n",
       "\n",
       "    .dataframe tbody tr th {\n",
       "        vertical-align: top;\n",
       "    }\n",
       "\n",
       "    .dataframe thead th {\n",
       "        text-align: right;\n",
       "    }\n",
       "</style>\n",
       "<table border=\"1\" class=\"dataframe\">\n",
       "  <thead>\n",
       "    <tr style=\"text-align: right;\">\n",
       "      <th></th>\n",
       "      <th>org_query_time</th>\n",
       "      <th>total_private_repos</th>\n",
       "      <th>owned_private_repos</th>\n",
       "      <th>private_gists</th>\n",
       "      <th>disk_usage</th>\n",
       "      <th>collaborators</th>\n",
       "      <th>billing_email</th>\n",
       "      <th>default_repository_permission</th>\n",
       "      <th>members_can_create_repositories</th>\n",
       "      <th>two_factor_requirement_enabled</th>\n",
       "      <th>...</th>\n",
       "      <th>plan.filled_seats</th>\n",
       "      <th>plan.seats</th>\n",
       "      <th>advanced_security_enabled_for_new_repositories</th>\n",
       "      <th>dependabot_alerts_enabled_for_new_repositories</th>\n",
       "      <th>dependabot_security_updates_enabled_for_new_repositories</th>\n",
       "      <th>dependency_graph_enabled_for_new_repositories</th>\n",
       "      <th>secret_scanning_enabled_for_new_repositories</th>\n",
       "      <th>secret_scanning_push_protection_enabled_for_new_repositories</th>\n",
       "      <th>secret_scanning_push_protection_custom_link_enabled</th>\n",
       "      <th>secret_scanning_push_protection_custom_link</th>\n",
       "    </tr>\n",
       "  </thead>\n",
       "  <tbody>\n",
       "    <tr>\n",
       "      <th>4</th>\n",
       "      <td>NaN</td>\n",
       "      <td>NaN</td>\n",
       "      <td>NaN</td>\n",
       "      <td>NaN</td>\n",
       "      <td>NaN</td>\n",
       "      <td>NaN</td>\n",
       "      <td>NaN</td>\n",
       "      <td>NaN</td>\n",
       "      <td>NaN</td>\n",
       "      <td>NaN</td>\n",
       "      <td>...</td>\n",
       "      <td>NaN</td>\n",
       "      <td>NaN</td>\n",
       "      <td>NaN</td>\n",
       "      <td>NaN</td>\n",
       "      <td>NaN</td>\n",
       "      <td>NaN</td>\n",
       "      <td>NaN</td>\n",
       "      <td>NaN</td>\n",
       "      <td>NaN</td>\n",
       "      <td>NaN</td>\n",
       "    </tr>\n",
       "    <tr>\n",
       "      <th>4</th>\n",
       "      <td>NaN</td>\n",
       "      <td>NaN</td>\n",
       "      <td>NaN</td>\n",
       "      <td>NaN</td>\n",
       "      <td>NaN</td>\n",
       "      <td>NaN</td>\n",
       "      <td>NaN</td>\n",
       "      <td>NaN</td>\n",
       "      <td>NaN</td>\n",
       "      <td>NaN</td>\n",
       "      <td>...</td>\n",
       "      <td>NaN</td>\n",
       "      <td>NaN</td>\n",
       "      <td>NaN</td>\n",
       "      <td>NaN</td>\n",
       "      <td>NaN</td>\n",
       "      <td>NaN</td>\n",
       "      <td>NaN</td>\n",
       "      <td>NaN</td>\n",
       "      <td>NaN</td>\n",
       "      <td>NaN</td>\n",
       "    </tr>\n",
       "    <tr>\n",
       "      <th>4</th>\n",
       "      <td>NaN</td>\n",
       "      <td>NaN</td>\n",
       "      <td>NaN</td>\n",
       "      <td>NaN</td>\n",
       "      <td>NaN</td>\n",
       "      <td>NaN</td>\n",
       "      <td>NaN</td>\n",
       "      <td>NaN</td>\n",
       "      <td>NaN</td>\n",
       "      <td>NaN</td>\n",
       "      <td>...</td>\n",
       "      <td>NaN</td>\n",
       "      <td>NaN</td>\n",
       "      <td>NaN</td>\n",
       "      <td>NaN</td>\n",
       "      <td>NaN</td>\n",
       "      <td>NaN</td>\n",
       "      <td>NaN</td>\n",
       "      <td>NaN</td>\n",
       "      <td>NaN</td>\n",
       "      <td>NaN</td>\n",
       "    </tr>\n",
       "    <tr>\n",
       "      <th>0</th>\n",
       "      <td>NaN</td>\n",
       "      <td>NaN</td>\n",
       "      <td>NaN</td>\n",
       "      <td>NaN</td>\n",
       "      <td>NaN</td>\n",
       "      <td>NaN</td>\n",
       "      <td>NaN</td>\n",
       "      <td>NaN</td>\n",
       "      <td>NaN</td>\n",
       "      <td>NaN</td>\n",
       "      <td>...</td>\n",
       "      <td>NaN</td>\n",
       "      <td>NaN</td>\n",
       "      <td>NaN</td>\n",
       "      <td>NaN</td>\n",
       "      <td>NaN</td>\n",
       "      <td>NaN</td>\n",
       "      <td>NaN</td>\n",
       "      <td>NaN</td>\n",
       "      <td>NaN</td>\n",
       "      <td>NaN</td>\n",
       "    </tr>\n",
       "    <tr>\n",
       "      <th>4</th>\n",
       "      <td>NaN</td>\n",
       "      <td>NaN</td>\n",
       "      <td>NaN</td>\n",
       "      <td>NaN</td>\n",
       "      <td>NaN</td>\n",
       "      <td>NaN</td>\n",
       "      <td>NaN</td>\n",
       "      <td>NaN</td>\n",
       "      <td>NaN</td>\n",
       "      <td>NaN</td>\n",
       "      <td>...</td>\n",
       "      <td>NaN</td>\n",
       "      <td>NaN</td>\n",
       "      <td>NaN</td>\n",
       "      <td>NaN</td>\n",
       "      <td>NaN</td>\n",
       "      <td>NaN</td>\n",
       "      <td>NaN</td>\n",
       "      <td>NaN</td>\n",
       "      <td>NaN</td>\n",
       "      <td>NaN</td>\n",
       "    </tr>\n",
       "    <tr>\n",
       "      <th>...</th>\n",
       "      <td>...</td>\n",
       "      <td>...</td>\n",
       "      <td>...</td>\n",
       "      <td>...</td>\n",
       "      <td>...</td>\n",
       "      <td>...</td>\n",
       "      <td>...</td>\n",
       "      <td>...</td>\n",
       "      <td>...</td>\n",
       "      <td>...</td>\n",
       "      <td>...</td>\n",
       "      <td>...</td>\n",
       "      <td>...</td>\n",
       "      <td>...</td>\n",
       "      <td>...</td>\n",
       "      <td>...</td>\n",
       "      <td>...</td>\n",
       "      <td>...</td>\n",
       "      <td>...</td>\n",
       "      <td>...</td>\n",
       "      <td>...</td>\n",
       "    </tr>\n",
       "    <tr>\n",
       "      <th>4</th>\n",
       "      <td>NaN</td>\n",
       "      <td>NaN</td>\n",
       "      <td>NaN</td>\n",
       "      <td>NaN</td>\n",
       "      <td>NaN</td>\n",
       "      <td>NaN</td>\n",
       "      <td>NaN</td>\n",
       "      <td>NaN</td>\n",
       "      <td>NaN</td>\n",
       "      <td>NaN</td>\n",
       "      <td>...</td>\n",
       "      <td>NaN</td>\n",
       "      <td>NaN</td>\n",
       "      <td>NaN</td>\n",
       "      <td>NaN</td>\n",
       "      <td>NaN</td>\n",
       "      <td>NaN</td>\n",
       "      <td>NaN</td>\n",
       "      <td>NaN</td>\n",
       "      <td>NaN</td>\n",
       "      <td>NaN</td>\n",
       "    </tr>\n",
       "    <tr>\n",
       "      <th>4</th>\n",
       "      <td>NaN</td>\n",
       "      <td>NaN</td>\n",
       "      <td>NaN</td>\n",
       "      <td>NaN</td>\n",
       "      <td>NaN</td>\n",
       "      <td>NaN</td>\n",
       "      <td>NaN</td>\n",
       "      <td>NaN</td>\n",
       "      <td>NaN</td>\n",
       "      <td>NaN</td>\n",
       "      <td>...</td>\n",
       "      <td>NaN</td>\n",
       "      <td>NaN</td>\n",
       "      <td>NaN</td>\n",
       "      <td>NaN</td>\n",
       "      <td>NaN</td>\n",
       "      <td>NaN</td>\n",
       "      <td>NaN</td>\n",
       "      <td>NaN</td>\n",
       "      <td>NaN</td>\n",
       "      <td>NaN</td>\n",
       "    </tr>\n",
       "    <tr>\n",
       "      <th>4</th>\n",
       "      <td>NaN</td>\n",
       "      <td>NaN</td>\n",
       "      <td>NaN</td>\n",
       "      <td>NaN</td>\n",
       "      <td>NaN</td>\n",
       "      <td>NaN</td>\n",
       "      <td>NaN</td>\n",
       "      <td>NaN</td>\n",
       "      <td>NaN</td>\n",
       "      <td>NaN</td>\n",
       "      <td>...</td>\n",
       "      <td>NaN</td>\n",
       "      <td>NaN</td>\n",
       "      <td>NaN</td>\n",
       "      <td>NaN</td>\n",
       "      <td>NaN</td>\n",
       "      <td>NaN</td>\n",
       "      <td>NaN</td>\n",
       "      <td>NaN</td>\n",
       "      <td>NaN</td>\n",
       "      <td>NaN</td>\n",
       "    </tr>\n",
       "    <tr>\n",
       "      <th>4</th>\n",
       "      <td>NaN</td>\n",
       "      <td>NaN</td>\n",
       "      <td>NaN</td>\n",
       "      <td>NaN</td>\n",
       "      <td>NaN</td>\n",
       "      <td>NaN</td>\n",
       "      <td>NaN</td>\n",
       "      <td>NaN</td>\n",
       "      <td>NaN</td>\n",
       "      <td>NaN</td>\n",
       "      <td>...</td>\n",
       "      <td>NaN</td>\n",
       "      <td>NaN</td>\n",
       "      <td>NaN</td>\n",
       "      <td>NaN</td>\n",
       "      <td>NaN</td>\n",
       "      <td>NaN</td>\n",
       "      <td>NaN</td>\n",
       "      <td>NaN</td>\n",
       "      <td>NaN</td>\n",
       "      <td>NaN</td>\n",
       "    </tr>\n",
       "    <tr>\n",
       "      <th>4</th>\n",
       "      <td>NaN</td>\n",
       "      <td>NaN</td>\n",
       "      <td>NaN</td>\n",
       "      <td>NaN</td>\n",
       "      <td>NaN</td>\n",
       "      <td>NaN</td>\n",
       "      <td>NaN</td>\n",
       "      <td>NaN</td>\n",
       "      <td>NaN</td>\n",
       "      <td>NaN</td>\n",
       "      <td>...</td>\n",
       "      <td>NaN</td>\n",
       "      <td>NaN</td>\n",
       "      <td>NaN</td>\n",
       "      <td>NaN</td>\n",
       "      <td>NaN</td>\n",
       "      <td>NaN</td>\n",
       "      <td>NaN</td>\n",
       "      <td>NaN</td>\n",
       "      <td>NaN</td>\n",
       "      <td>NaN</td>\n",
       "    </tr>\n",
       "  </tbody>\n",
       "</table>\n",
       "<p>246 rows × 32 columns</p>\n",
       "</div>"
      ],
      "text/plain": [
       "   org_query_time  total_private_repos  owned_private_repos  private_gists  \\\n",
       "4             NaN                  NaN                  NaN            NaN   \n",
       "4             NaN                  NaN                  NaN            NaN   \n",
       "4             NaN                  NaN                  NaN            NaN   \n",
       "0             NaN                  NaN                  NaN            NaN   \n",
       "4             NaN                  NaN                  NaN            NaN   \n",
       "..            ...                  ...                  ...            ...   \n",
       "4             NaN                  NaN                  NaN            NaN   \n",
       "4             NaN                  NaN                  NaN            NaN   \n",
       "4             NaN                  NaN                  NaN            NaN   \n",
       "4             NaN                  NaN                  NaN            NaN   \n",
       "4             NaN                  NaN                  NaN            NaN   \n",
       "\n",
       "    disk_usage  collaborators  billing_email  default_repository_permission  \\\n",
       "4          NaN            NaN            NaN                            NaN   \n",
       "4          NaN            NaN            NaN                            NaN   \n",
       "4          NaN            NaN            NaN                            NaN   \n",
       "0          NaN            NaN            NaN                            NaN   \n",
       "4          NaN            NaN            NaN                            NaN   \n",
       "..         ...            ...            ...                            ...   \n",
       "4          NaN            NaN            NaN                            NaN   \n",
       "4          NaN            NaN            NaN                            NaN   \n",
       "4          NaN            NaN            NaN                            NaN   \n",
       "4          NaN            NaN            NaN                            NaN   \n",
       "4          NaN            NaN            NaN                            NaN   \n",
       "\n",
       "    members_can_create_repositories  two_factor_requirement_enabled  ...  \\\n",
       "4                               NaN                             NaN  ...   \n",
       "4                               NaN                             NaN  ...   \n",
       "4                               NaN                             NaN  ...   \n",
       "0                               NaN                             NaN  ...   \n",
       "4                               NaN                             NaN  ...   \n",
       "..                              ...                             ...  ...   \n",
       "4                               NaN                             NaN  ...   \n",
       "4                               NaN                             NaN  ...   \n",
       "4                               NaN                             NaN  ...   \n",
       "4                               NaN                             NaN  ...   \n",
       "4                               NaN                             NaN  ...   \n",
       "\n",
       "    plan.filled_seats  plan.seats  \\\n",
       "4                 NaN         NaN   \n",
       "4                 NaN         NaN   \n",
       "4                 NaN         NaN   \n",
       "0                 NaN         NaN   \n",
       "4                 NaN         NaN   \n",
       "..                ...         ...   \n",
       "4                 NaN         NaN   \n",
       "4                 NaN         NaN   \n",
       "4                 NaN         NaN   \n",
       "4                 NaN         NaN   \n",
       "4                 NaN         NaN   \n",
       "\n",
       "    advanced_security_enabled_for_new_repositories  \\\n",
       "4                                              NaN   \n",
       "4                                              NaN   \n",
       "4                                              NaN   \n",
       "0                                              NaN   \n",
       "4                                              NaN   \n",
       "..                                             ...   \n",
       "4                                              NaN   \n",
       "4                                              NaN   \n",
       "4                                              NaN   \n",
       "4                                              NaN   \n",
       "4                                              NaN   \n",
       "\n",
       "    dependabot_alerts_enabled_for_new_repositories  \\\n",
       "4                                              NaN   \n",
       "4                                              NaN   \n",
       "4                                              NaN   \n",
       "0                                              NaN   \n",
       "4                                              NaN   \n",
       "..                                             ...   \n",
       "4                                              NaN   \n",
       "4                                              NaN   \n",
       "4                                              NaN   \n",
       "4                                              NaN   \n",
       "4                                              NaN   \n",
       "\n",
       "    dependabot_security_updates_enabled_for_new_repositories  \\\n",
       "4                                                 NaN          \n",
       "4                                                 NaN          \n",
       "4                                                 NaN          \n",
       "0                                                 NaN          \n",
       "4                                                 NaN          \n",
       "..                                                ...          \n",
       "4                                                 NaN          \n",
       "4                                                 NaN          \n",
       "4                                                 NaN          \n",
       "4                                                 NaN          \n",
       "4                                                 NaN          \n",
       "\n",
       "    dependency_graph_enabled_for_new_repositories  \\\n",
       "4                                             NaN   \n",
       "4                                             NaN   \n",
       "4                                             NaN   \n",
       "0                                             NaN   \n",
       "4                                             NaN   \n",
       "..                                            ...   \n",
       "4                                             NaN   \n",
       "4                                             NaN   \n",
       "4                                             NaN   \n",
       "4                                             NaN   \n",
       "4                                             NaN   \n",
       "\n",
       "    secret_scanning_enabled_for_new_repositories  \\\n",
       "4                                            NaN   \n",
       "4                                            NaN   \n",
       "4                                            NaN   \n",
       "0                                            NaN   \n",
       "4                                            NaN   \n",
       "..                                           ...   \n",
       "4                                            NaN   \n",
       "4                                            NaN   \n",
       "4                                            NaN   \n",
       "4                                            NaN   \n",
       "4                                            NaN   \n",
       "\n",
       "    secret_scanning_push_protection_enabled_for_new_repositories  \\\n",
       "4                                                 NaN              \n",
       "4                                                 NaN              \n",
       "4                                                 NaN              \n",
       "0                                                 NaN              \n",
       "4                                                 NaN              \n",
       "..                                                ...              \n",
       "4                                                 NaN              \n",
       "4                                                 NaN              \n",
       "4                                                 NaN              \n",
       "4                                                 NaN              \n",
       "4                                                 NaN              \n",
       "\n",
       "    secret_scanning_push_protection_custom_link_enabled  \\\n",
       "4                                                 NaN     \n",
       "4                                                 NaN     \n",
       "4                                                 NaN     \n",
       "0                                                 NaN     \n",
       "4                                                 NaN     \n",
       "..                                                ...     \n",
       "4                                                 NaN     \n",
       "4                                                 NaN     \n",
       "4                                                 NaN     \n",
       "4                                                 NaN     \n",
       "4                                                 NaN     \n",
       "\n",
       "    secret_scanning_push_protection_custom_link  \n",
       "4                                           NaN  \n",
       "4                                           NaN  \n",
       "4                                           NaN  \n",
       "0                                           NaN  \n",
       "4                                           NaN  \n",
       "..                                          ...  \n",
       "4                                           NaN  \n",
       "4                                           NaN  \n",
       "4                                           NaN  \n",
       "4                                           NaN  \n",
       "4                                           NaN  \n",
       "\n",
       "[246 rows x 32 columns]"
      ]
     },
     "execution_count": 29,
     "metadata": {},
     "output_type": "execute_result"
    }
   ],
   "source": [
    "initial_core_orgs[['org_query_time', 'total_private_repos', 'owned_private_repos',\n",
    "       'private_gists', 'disk_usage', 'collaborators', 'billing_email',\n",
    "       'default_repository_permission', 'members_can_create_repositories',\n",
    "       'two_factor_requirement_enabled',\n",
    "       'members_allowed_repository_creation_type',\n",
    "       'members_can_create_public_repositories',\n",
    "       'members_can_create_private_repositories',\n",
    "       'members_can_create_internal_repositories', 'members_can_create_pages',\n",
    "       'members_can_fork_private_repositories', 'web_commit_signoff_required',\n",
    "       'members_can_create_public_pages', 'members_can_create_private_pages',\n",
    "       'plan.name', 'plan.space', 'plan.private_repos', 'plan.filled_seats',\n",
    "       'plan.seats', 'advanced_security_enabled_for_new_repositories',\n",
    "       'dependabot_alerts_enabled_for_new_repositories',\n",
    "       'dependabot_security_updates_enabled_for_new_repositories',\n",
    "       'dependency_graph_enabled_for_new_repositories',\n",
    "       'secret_scanning_enabled_for_new_repositories',\n",
    "       'secret_scanning_push_protection_enabled_for_new_repositories',\n",
    "       'secret_scanning_push_protection_custom_link_enabled',\n",
    "       'secret_scanning_push_protection_custom_link']]"
   ]
  },
  {
   "cell_type": "code",
   "execution_count": null,
   "metadata": {},
   "outputs": [],
   "source": [
    "initial_core_orgs['member_count']"
   ]
  },
  {
   "cell_type": "code",
   "execution_count": 106,
   "metadata": {},
   "outputs": [
    {
     "data": {
      "text/plain": [
       "['id',\n",
       " 'node_id',\n",
       " 'name',\n",
       " 'full_name',\n",
       " 'private',\n",
       " 'html_url',\n",
       " 'description',\n",
       " 'fork',\n",
       " 'url',\n",
       " 'forks_url',\n",
       " 'keys_url',\n",
       " 'collaborators_url',\n",
       " 'teams_url',\n",
       " 'hooks_url',\n",
       " 'issue_events_url',\n",
       " 'events_url',\n",
       " 'assignees_url',\n",
       " 'branches_url',\n",
       " 'tags_url',\n",
       " 'blobs_url',\n",
       " 'git_tags_url',\n",
       " 'git_refs_url',\n",
       " 'trees_url',\n",
       " 'statuses_url',\n",
       " 'languages_url',\n",
       " 'stargazers_url',\n",
       " 'contributors_url',\n",
       " 'subscribers_url',\n",
       " 'subscription_url',\n",
       " 'commits_url',\n",
       " 'git_commits_url',\n",
       " 'comments_url',\n",
       " 'issue_comment_url',\n",
       " 'contents_url',\n",
       " 'compare_url',\n",
       " 'merges_url',\n",
       " 'archive_url',\n",
       " 'downloads_url',\n",
       " 'issues_url',\n",
       " 'pulls_url',\n",
       " 'milestones_url',\n",
       " 'notifications_url',\n",
       " 'labels_url',\n",
       " 'releases_url',\n",
       " 'deployments_url',\n",
       " 'created_at',\n",
       " 'updated_at',\n",
       " 'pushed_at',\n",
       " 'git_url',\n",
       " 'ssh_url',\n",
       " 'clone_url',\n",
       " 'svn_url',\n",
       " 'homepage',\n",
       " 'size',\n",
       " 'stargazers_count',\n",
       " 'watchers_count',\n",
       " 'language',\n",
       " 'has_issues',\n",
       " 'has_projects',\n",
       " 'has_downloads',\n",
       " 'has_wiki',\n",
       " 'has_pages',\n",
       " 'forks_count',\n",
       " 'mirror_url',\n",
       " 'archived',\n",
       " 'disabled',\n",
       " 'open_issues_count',\n",
       " 'license',\n",
       " 'allow_forking',\n",
       " 'is_template',\n",
       " 'web_commit_signoff_required',\n",
       " 'topics',\n",
       " 'visibility',\n",
       " 'forks',\n",
       " 'open_issues',\n",
       " 'watchers',\n",
       " 'default_branch',\n",
       " 'owner.login',\n",
       " 'owner.id',\n",
       " 'owner.node_id',\n",
       " 'owner.avatar_url',\n",
       " 'owner.gravatar_id',\n",
       " 'owner.url',\n",
       " 'owner.html_url',\n",
       " 'owner.followers_url',\n",
       " 'owner.following_url',\n",
       " 'owner.gists_url',\n",
       " 'owner.starred_url',\n",
       " 'owner.subscriptions_url',\n",
       " 'owner.organizations_url',\n",
       " 'owner.repos_url',\n",
       " 'owner.events_url',\n",
       " 'owner.received_events_url',\n",
       " 'owner.type',\n",
       " 'owner.site_admin',\n",
       " 'permissions.admin',\n",
       " 'permissions.maintain',\n",
       " 'permissions.push',\n",
       " 'permissions.triage',\n",
       " 'permissions.pull',\n",
       " 'license.key',\n",
       " 'license.name',\n",
       " 'license.spdx_id',\n",
       " 'license.url',\n",
       " 'license.node_id',\n",
       " 'coding_dh_date',\n",
       " 'coding_dh_id',\n",
       " 'has_discussions',\n",
       " 'score',\n",
       " 'search_term',\n",
       " 'search_term_source',\n",
       " 'natural_language',\n",
       " 'search_type',\n",
       " 'query',\n",
       " 'cleaned_search_query',\n",
       " 'cleaned_search_query_time',\n",
       " 'cleaned_search_term',\n",
       " '0',\n",
       " 'temp_clone_token',\n",
       " 'network_count',\n",
       " 'subscribers_count',\n",
       " 'organization.login',\n",
       " 'organization.id',\n",
       " 'organization.node_id',\n",
       " 'organization.avatar_url',\n",
       " 'organization.gravatar_id',\n",
       " 'organization.url',\n",
       " 'organization.html_url',\n",
       " 'organization.followers_url',\n",
       " 'organization.following_url',\n",
       " 'organization.gists_url',\n",
       " 'organization.starred_url',\n",
       " 'organization.subscriptions_url',\n",
       " 'organization.organizations_url',\n",
       " 'organization.repos_url',\n",
       " 'organization.events_url',\n",
       " 'organization.received_events_url',\n",
       " 'organization.type',\n",
       " 'organization.site_admin',\n",
       " 'owner',\n",
       " 'permissions',\n",
       " 'health_percentage',\n",
       " 'documentation',\n",
       " 'community_profile_updated_at',\n",
       " 'files.code_of_conduct',\n",
       " 'files.code_of_conduct_file',\n",
       " 'files.contributing',\n",
       " 'files.issue_template',\n",
       " 'files.pull_request_template',\n",
       " 'files.license',\n",
       " 'files.readme.url',\n",
       " 'files.readme.html_url',\n",
       " 'files.license.key',\n",
       " 'files.license.name',\n",
       " 'files.license.spdx_id',\n",
       " 'files.license.url',\n",
       " 'files.license.node_id',\n",
       " 'files.license.html_url',\n",
       " 'files.readme',\n",
       " 'content_reports_enabled',\n",
       " 'files.contributing.url',\n",
       " 'files.contributing.html_url',\n",
       " 'files.pull_request_template.url',\n",
       " 'files.pull_request_template.html_url',\n",
       " 'files.code_of_conduct.key',\n",
       " 'files.code_of_conduct.name',\n",
       " 'files.code_of_conduct.html_url',\n",
       " 'files.code_of_conduct.url',\n",
       " 'files.code_of_conduct_file.url',\n",
       " 'files.code_of_conduct_file.html_url',\n",
       " 'files.issue_template.url',\n",
       " 'files.issue_template.html_url',\n",
       " 'languages']"
      ]
     },
     "execution_count": 106,
     "metadata": {},
     "output_type": "execute_result"
    }
   ],
   "source": [
    "initial_core_repos.columns.tolist()"
   ]
  },
  {
   "cell_type": "code",
   "execution_count": 107,
   "metadata": {},
   "outputs": [
    {
     "data": {
      "text/html": [
       "<div>\n",
       "<style scoped>\n",
       "    .dataframe tbody tr th:only-of-type {\n",
       "        vertical-align: middle;\n",
       "    }\n",
       "\n",
       "    .dataframe tbody tr th {\n",
       "        vertical-align: top;\n",
       "    }\n",
       "\n",
       "    .dataframe thead th {\n",
       "        text-align: right;\n",
       "    }\n",
       "</style>\n",
       "<table border=\"1\" class=\"dataframe\">\n",
       "  <thead>\n",
       "    <tr style=\"text-align: right;\">\n",
       "      <th></th>\n",
       "      <th>id</th>\n",
       "      <th>node_id</th>\n",
       "      <th>name</th>\n",
       "      <th>full_name</th>\n",
       "      <th>private</th>\n",
       "      <th>html_url</th>\n",
       "      <th>description</th>\n",
       "      <th>fork</th>\n",
       "      <th>url</th>\n",
       "      <th>forks_url</th>\n",
       "      <th>...</th>\n",
       "      <th>files.pull_request_template.html_url</th>\n",
       "      <th>files.code_of_conduct.key</th>\n",
       "      <th>files.code_of_conduct.name</th>\n",
       "      <th>files.code_of_conduct.html_url</th>\n",
       "      <th>files.code_of_conduct.url</th>\n",
       "      <th>files.code_of_conduct_file.url</th>\n",
       "      <th>files.code_of_conduct_file.html_url</th>\n",
       "      <th>files.issue_template.url</th>\n",
       "      <th>files.issue_template.html_url</th>\n",
       "      <th>languages</th>\n",
       "    </tr>\n",
       "  </thead>\n",
       "  <tbody>\n",
       "  </tbody>\n",
       "</table>\n",
       "<p>0 rows × 173 columns</p>\n",
       "</div>"
      ],
      "text/plain": [
       "Empty DataFrame\n",
       "Columns: [id, node_id, name, full_name, private, html_url, description, fork, url, forks_url, keys_url, collaborators_url, teams_url, hooks_url, issue_events_url, events_url, assignees_url, branches_url, tags_url, blobs_url, git_tags_url, git_refs_url, trees_url, statuses_url, languages_url, stargazers_url, contributors_url, subscribers_url, subscription_url, commits_url, git_commits_url, comments_url, issue_comment_url, contents_url, compare_url, merges_url, archive_url, downloads_url, issues_url, pulls_url, milestones_url, notifications_url, labels_url, releases_url, deployments_url, created_at, updated_at, pushed_at, git_url, ssh_url, clone_url, svn_url, homepage, size, stargazers_count, watchers_count, language, has_issues, has_projects, has_downloads, has_wiki, has_pages, forks_count, mirror_url, archived, disabled, open_issues_count, license, allow_forking, is_template, web_commit_signoff_required, topics, visibility, forks, open_issues, watchers, default_branch, owner.login, owner.id, owner.node_id, owner.avatar_url, owner.gravatar_id, owner.url, owner.html_url, owner.followers_url, owner.following_url, owner.gists_url, owner.starred_url, owner.subscriptions_url, owner.organizations_url, owner.repos_url, owner.events_url, owner.received_events_url, owner.type, owner.site_admin, permissions.admin, permissions.maintain, permissions.push, permissions.triage, permissions.pull, ...]\n",
       "Index: []\n",
       "\n",
       "[0 rows x 173 columns]"
      ]
     },
     "execution_count": 107,
     "metadata": {},
     "output_type": "execute_result"
    }
   ],
   "source": [
    "initial_core_repos[initial_core_repos['files.license'].notna()]"
   ]
  },
  {
   "cell_type": "code",
   "execution_count": 112,
   "metadata": {},
   "outputs": [
    {
     "data": {
      "text/html": [
       "<div>\n",
       "<style scoped>\n",
       "    .dataframe tbody tr th:only-of-type {\n",
       "        vertical-align: middle;\n",
       "    }\n",
       "\n",
       "    .dataframe tbody tr th {\n",
       "        vertical-align: top;\n",
       "    }\n",
       "\n",
       "    .dataframe thead th {\n",
       "        text-align: right;\n",
       "    }\n",
       "</style>\n",
       "<table border=\"1\" class=\"dataframe\">\n",
       "  <thead>\n",
       "    <tr style=\"text-align: right;\">\n",
       "      <th></th>\n",
       "      <th>login</th>\n",
       "      <th>id</th>\n",
       "      <th>node_id</th>\n",
       "      <th>avatar_url</th>\n",
       "      <th>gravatar_id</th>\n",
       "      <th>url</th>\n",
       "      <th>html_url</th>\n",
       "      <th>followers_url</th>\n",
       "      <th>following_url</th>\n",
       "      <th>gists_url</th>\n",
       "      <th>...</th>\n",
       "      <th>permissions.triage</th>\n",
       "      <th>permissions.pull</th>\n",
       "      <th>license.key</th>\n",
       "      <th>license.name</th>\n",
       "      <th>license.spdx_id</th>\n",
       "      <th>license.url</th>\n",
       "      <th>license.node_id</th>\n",
       "      <th>coding_dh_id</th>\n",
       "      <th>user_query_time</th>\n",
       "      <th>search_query_time</th>\n",
       "    </tr>\n",
       "  </thead>\n",
       "  <tbody>\n",
       "    <tr>\n",
       "      <th>0</th>\n",
       "      <td>DianneCF</td>\n",
       "      <td>31624106.0</td>\n",
       "      <td>MDQ6VXNlcjMxNjI0MTA2</td>\n",
       "      <td>https://avatars.githubusercontent.com/u/316241...</td>\n",
       "      <td>NaN</td>\n",
       "      <td>https://api.github.com/users/DianneCF</td>\n",
       "      <td>https://github.com/DianneCF</td>\n",
       "      <td>https://api.github.com/users/DianneCF/followers</td>\n",
       "      <td>https://api.github.com/users/DianneCF/followin...</td>\n",
       "      <td>https://api.github.com/users/DianneCF/gists{/g...</td>\n",
       "      <td>...</td>\n",
       "      <td>NaN</td>\n",
       "      <td>NaN</td>\n",
       "      <td>NaN</td>\n",
       "      <td>NaN</td>\n",
       "      <td>NaN</td>\n",
       "      <td>NaN</td>\n",
       "      <td>NaN</td>\n",
       "      <td>0</td>\n",
       "      <td>NaN</td>\n",
       "      <td>NaN</td>\n",
       "    </tr>\n",
       "    <tr>\n",
       "      <th>0</th>\n",
       "      <td>EmGillies</td>\n",
       "      <td>70524929.0</td>\n",
       "      <td>MDQ6VXNlcjcwNTI0OTI5</td>\n",
       "      <td>https://avatars.githubusercontent.com/u/705249...</td>\n",
       "      <td>NaN</td>\n",
       "      <td>https://api.github.com/users/EmGillies</td>\n",
       "      <td>https://github.com/EmGillies</td>\n",
       "      <td>https://api.github.com/users/EmGillies/followers</td>\n",
       "      <td>https://api.github.com/users/EmGillies/followi...</td>\n",
       "      <td>https://api.github.com/users/EmGillies/gists{/...</td>\n",
       "      <td>...</td>\n",
       "      <td>NaN</td>\n",
       "      <td>NaN</td>\n",
       "      <td>NaN</td>\n",
       "      <td>NaN</td>\n",
       "      <td>NaN</td>\n",
       "      <td>NaN</td>\n",
       "      <td>NaN</td>\n",
       "      <td>0</td>\n",
       "      <td>NaN</td>\n",
       "      <td>NaN</td>\n",
       "    </tr>\n",
       "    <tr>\n",
       "      <th>0</th>\n",
       "      <td>SpurGrappler</td>\n",
       "      <td>145053801.0</td>\n",
       "      <td>U_kgDOCKVYaQ</td>\n",
       "      <td>https://avatars.githubusercontent.com/u/145053...</td>\n",
       "      <td>NaN</td>\n",
       "      <td>https://api.github.com/users/SpurGrappler</td>\n",
       "      <td>https://github.com/SpurGrappler</td>\n",
       "      <td>https://api.github.com/users/SpurGrappler/foll...</td>\n",
       "      <td>https://api.github.com/users/SpurGrappler/foll...</td>\n",
       "      <td>https://api.github.com/users/SpurGrappler/gist...</td>\n",
       "      <td>...</td>\n",
       "      <td>NaN</td>\n",
       "      <td>NaN</td>\n",
       "      <td>NaN</td>\n",
       "      <td>NaN</td>\n",
       "      <td>NaN</td>\n",
       "      <td>NaN</td>\n",
       "      <td>NaN</td>\n",
       "      <td>0</td>\n",
       "      <td>NaN</td>\n",
       "      <td>NaN</td>\n",
       "    </tr>\n",
       "    <tr>\n",
       "      <th>0</th>\n",
       "      <td>baethoven</td>\n",
       "      <td>25968914.0</td>\n",
       "      <td>MDQ6VXNlcjI1OTY4OTE0</td>\n",
       "      <td>https://avatars.githubusercontent.com/u/259689...</td>\n",
       "      <td>NaN</td>\n",
       "      <td>https://api.github.com/users/baethoven</td>\n",
       "      <td>https://github.com/baethoven</td>\n",
       "      <td>https://api.github.com/users/baethoven/followers</td>\n",
       "      <td>https://api.github.com/users/baethoven/followi...</td>\n",
       "      <td>https://api.github.com/users/baethoven/gists{/...</td>\n",
       "      <td>...</td>\n",
       "      <td>NaN</td>\n",
       "      <td>NaN</td>\n",
       "      <td>NaN</td>\n",
       "      <td>NaN</td>\n",
       "      <td>NaN</td>\n",
       "      <td>NaN</td>\n",
       "      <td>NaN</td>\n",
       "      <td>0</td>\n",
       "      <td>NaN</td>\n",
       "      <td>NaN</td>\n",
       "    </tr>\n",
       "    <tr>\n",
       "      <th>1</th>\n",
       "      <td>cjceglio</td>\n",
       "      <td>12815331.0</td>\n",
       "      <td>MDQ6VXNlcjEyODE1MzMx</td>\n",
       "      <td>https://avatars.githubusercontent.com/u/128153...</td>\n",
       "      <td>NaN</td>\n",
       "      <td>https://api.github.com/users/cjceglio</td>\n",
       "      <td>https://github.com/cjceglio</td>\n",
       "      <td>https://api.github.com/users/cjceglio/followers</td>\n",
       "      <td>https://api.github.com/users/cjceglio/followin...</td>\n",
       "      <td>https://api.github.com/users/cjceglio/gists{/g...</td>\n",
       "      <td>...</td>\n",
       "      <td>NaN</td>\n",
       "      <td>NaN</td>\n",
       "      <td>NaN</td>\n",
       "      <td>NaN</td>\n",
       "      <td>NaN</td>\n",
       "      <td>NaN</td>\n",
       "      <td>NaN</td>\n",
       "      <td>1</td>\n",
       "      <td>NaN</td>\n",
       "      <td>NaN</td>\n",
       "    </tr>\n",
       "    <tr>\n",
       "      <th>...</th>\n",
       "      <td>...</td>\n",
       "      <td>...</td>\n",
       "      <td>...</td>\n",
       "      <td>...</td>\n",
       "      <td>...</td>\n",
       "      <td>...</td>\n",
       "      <td>...</td>\n",
       "      <td>...</td>\n",
       "      <td>...</td>\n",
       "      <td>...</td>\n",
       "      <td>...</td>\n",
       "      <td>...</td>\n",
       "      <td>...</td>\n",
       "      <td>...</td>\n",
       "      <td>...</td>\n",
       "      <td>...</td>\n",
       "      <td>...</td>\n",
       "      <td>...</td>\n",
       "      <td>...</td>\n",
       "      <td>...</td>\n",
       "      <td>...</td>\n",
       "    </tr>\n",
       "    <tr>\n",
       "      <th>0</th>\n",
       "      <td>linhd-dev</td>\n",
       "      <td>23102523.0</td>\n",
       "      <td>MDQ6VXNlcjIzMTAyNTIz</td>\n",
       "      <td>https://avatars.githubusercontent.com/u/231025...</td>\n",
       "      <td>NaN</td>\n",
       "      <td>https://api.github.com/users/linhd-dev</td>\n",
       "      <td>https://github.com/linhd-dev</td>\n",
       "      <td>https://api.github.com/users/linhd-dev/followers</td>\n",
       "      <td>https://api.github.com/users/linhd-dev/followi...</td>\n",
       "      <td>https://api.github.com/users/linhd-dev/gists{/...</td>\n",
       "      <td>...</td>\n",
       "      <td>NaN</td>\n",
       "      <td>NaN</td>\n",
       "      <td>NaN</td>\n",
       "      <td>NaN</td>\n",
       "      <td>NaN</td>\n",
       "      <td>NaN</td>\n",
       "      <td>NaN</td>\n",
       "      <td>0</td>\n",
       "      <td>NaN</td>\n",
       "      <td>NaN</td>\n",
       "    </tr>\n",
       "    <tr>\n",
       "      <th>0</th>\n",
       "      <td>mafeguerrero</td>\n",
       "      <td>42698813.0</td>\n",
       "      <td>MDQ6VXNlcjQyNjk4ODEz</td>\n",
       "      <td>https://avatars.githubusercontent.com/u/426988...</td>\n",
       "      <td>NaN</td>\n",
       "      <td>https://api.github.com/users/mafeguerrero</td>\n",
       "      <td>https://github.com/mafeguerrero</td>\n",
       "      <td>https://api.github.com/users/mafeguerrero/foll...</td>\n",
       "      <td>https://api.github.com/users/mafeguerrero/foll...</td>\n",
       "      <td>https://api.github.com/users/mafeguerrero/gist...</td>\n",
       "      <td>...</td>\n",
       "      <td>NaN</td>\n",
       "      <td>NaN</td>\n",
       "      <td>NaN</td>\n",
       "      <td>NaN</td>\n",
       "      <td>NaN</td>\n",
       "      <td>NaN</td>\n",
       "      <td>NaN</td>\n",
       "      <td>0</td>\n",
       "      <td>NaN</td>\n",
       "      <td>NaN</td>\n",
       "    </tr>\n",
       "    <tr>\n",
       "      <th>1</th>\n",
       "      <td>rchd-repo</td>\n",
       "      <td>100039616.0</td>\n",
       "      <td>U_kgDOBfZ7wA</td>\n",
       "      <td>https://avatars.githubusercontent.com/u/100039...</td>\n",
       "      <td>NaN</td>\n",
       "      <td>https://api.github.com/users/rchd-repo</td>\n",
       "      <td>https://github.com/rchd-repo</td>\n",
       "      <td>https://api.github.com/users/rchd-repo/followers</td>\n",
       "      <td>https://api.github.com/users/rchd-repo/followi...</td>\n",
       "      <td>https://api.github.com/users/rchd-repo/gists{/...</td>\n",
       "      <td>...</td>\n",
       "      <td>NaN</td>\n",
       "      <td>NaN</td>\n",
       "      <td>NaN</td>\n",
       "      <td>NaN</td>\n",
       "      <td>NaN</td>\n",
       "      <td>NaN</td>\n",
       "      <td>NaN</td>\n",
       "      <td>1</td>\n",
       "      <td>NaN</td>\n",
       "      <td>NaN</td>\n",
       "    </tr>\n",
       "    <tr>\n",
       "      <th>0</th>\n",
       "      <td>rivegam</td>\n",
       "      <td>104533552.0</td>\n",
       "      <td>U_kgDOBjsOMA</td>\n",
       "      <td>https://avatars.githubusercontent.com/u/104533...</td>\n",
       "      <td>NaN</td>\n",
       "      <td>https://api.github.com/users/rivegam</td>\n",
       "      <td>https://github.com/rivegam</td>\n",
       "      <td>https://api.github.com/users/rivegam/followers</td>\n",
       "      <td>https://api.github.com/users/rivegam/following...</td>\n",
       "      <td>https://api.github.com/users/rivegam/gists{/gi...</td>\n",
       "      <td>...</td>\n",
       "      <td>NaN</td>\n",
       "      <td>NaN</td>\n",
       "      <td>NaN</td>\n",
       "      <td>NaN</td>\n",
       "      <td>NaN</td>\n",
       "      <td>NaN</td>\n",
       "      <td>NaN</td>\n",
       "      <td>0</td>\n",
       "      <td>NaN</td>\n",
       "      <td>NaN</td>\n",
       "    </tr>\n",
       "    <tr>\n",
       "      <th>1</th>\n",
       "      <td>vcasaisvila</td>\n",
       "      <td>53095862.0</td>\n",
       "      <td>MDQ6VXNlcjUzMDk1ODYy</td>\n",
       "      <td>https://avatars.githubusercontent.com/u/530958...</td>\n",
       "      <td>NaN</td>\n",
       "      <td>https://api.github.com/users/vcasaisvila</td>\n",
       "      <td>https://github.com/vcasaisvila</td>\n",
       "      <td>https://api.github.com/users/vcasaisvila/follo...</td>\n",
       "      <td>https://api.github.com/users/vcasaisvila/follo...</td>\n",
       "      <td>https://api.github.com/users/vcasaisvila/gists...</td>\n",
       "      <td>...</td>\n",
       "      <td>NaN</td>\n",
       "      <td>NaN</td>\n",
       "      <td>NaN</td>\n",
       "      <td>NaN</td>\n",
       "      <td>NaN</td>\n",
       "      <td>NaN</td>\n",
       "      <td>NaN</td>\n",
       "      <td>1</td>\n",
       "      <td>NaN</td>\n",
       "      <td>NaN</td>\n",
       "    </tr>\n",
       "  </tbody>\n",
       "</table>\n",
       "<p>1262 rows × 146 columns</p>\n",
       "</div>"
      ],
      "text/plain": [
       "           login           id               node_id  \\\n",
       "0       DianneCF   31624106.0  MDQ6VXNlcjMxNjI0MTA2   \n",
       "0      EmGillies   70524929.0  MDQ6VXNlcjcwNTI0OTI5   \n",
       "0   SpurGrappler  145053801.0          U_kgDOCKVYaQ   \n",
       "0      baethoven   25968914.0  MDQ6VXNlcjI1OTY4OTE0   \n",
       "1       cjceglio   12815331.0  MDQ6VXNlcjEyODE1MzMx   \n",
       "..           ...          ...                   ...   \n",
       "0      linhd-dev   23102523.0  MDQ6VXNlcjIzMTAyNTIz   \n",
       "0   mafeguerrero   42698813.0  MDQ6VXNlcjQyNjk4ODEz   \n",
       "1      rchd-repo  100039616.0          U_kgDOBfZ7wA   \n",
       "0        rivegam  104533552.0          U_kgDOBjsOMA   \n",
       "1    vcasaisvila   53095862.0  MDQ6VXNlcjUzMDk1ODYy   \n",
       "\n",
       "                                           avatar_url  gravatar_id  \\\n",
       "0   https://avatars.githubusercontent.com/u/316241...          NaN   \n",
       "0   https://avatars.githubusercontent.com/u/705249...          NaN   \n",
       "0   https://avatars.githubusercontent.com/u/145053...          NaN   \n",
       "0   https://avatars.githubusercontent.com/u/259689...          NaN   \n",
       "1   https://avatars.githubusercontent.com/u/128153...          NaN   \n",
       "..                                                ...          ...   \n",
       "0   https://avatars.githubusercontent.com/u/231025...          NaN   \n",
       "0   https://avatars.githubusercontent.com/u/426988...          NaN   \n",
       "1   https://avatars.githubusercontent.com/u/100039...          NaN   \n",
       "0   https://avatars.githubusercontent.com/u/104533...          NaN   \n",
       "1   https://avatars.githubusercontent.com/u/530958...          NaN   \n",
       "\n",
       "                                          url  \\\n",
       "0       https://api.github.com/users/DianneCF   \n",
       "0      https://api.github.com/users/EmGillies   \n",
       "0   https://api.github.com/users/SpurGrappler   \n",
       "0      https://api.github.com/users/baethoven   \n",
       "1       https://api.github.com/users/cjceglio   \n",
       "..                                        ...   \n",
       "0      https://api.github.com/users/linhd-dev   \n",
       "0   https://api.github.com/users/mafeguerrero   \n",
       "1      https://api.github.com/users/rchd-repo   \n",
       "0        https://api.github.com/users/rivegam   \n",
       "1    https://api.github.com/users/vcasaisvila   \n",
       "\n",
       "                           html_url  \\\n",
       "0       https://github.com/DianneCF   \n",
       "0      https://github.com/EmGillies   \n",
       "0   https://github.com/SpurGrappler   \n",
       "0      https://github.com/baethoven   \n",
       "1       https://github.com/cjceglio   \n",
       "..                              ...   \n",
       "0      https://github.com/linhd-dev   \n",
       "0   https://github.com/mafeguerrero   \n",
       "1      https://github.com/rchd-repo   \n",
       "0        https://github.com/rivegam   \n",
       "1    https://github.com/vcasaisvila   \n",
       "\n",
       "                                        followers_url  \\\n",
       "0     https://api.github.com/users/DianneCF/followers   \n",
       "0    https://api.github.com/users/EmGillies/followers   \n",
       "0   https://api.github.com/users/SpurGrappler/foll...   \n",
       "0    https://api.github.com/users/baethoven/followers   \n",
       "1     https://api.github.com/users/cjceglio/followers   \n",
       "..                                                ...   \n",
       "0    https://api.github.com/users/linhd-dev/followers   \n",
       "0   https://api.github.com/users/mafeguerrero/foll...   \n",
       "1    https://api.github.com/users/rchd-repo/followers   \n",
       "0      https://api.github.com/users/rivegam/followers   \n",
       "1   https://api.github.com/users/vcasaisvila/follo...   \n",
       "\n",
       "                                        following_url  \\\n",
       "0   https://api.github.com/users/DianneCF/followin...   \n",
       "0   https://api.github.com/users/EmGillies/followi...   \n",
       "0   https://api.github.com/users/SpurGrappler/foll...   \n",
       "0   https://api.github.com/users/baethoven/followi...   \n",
       "1   https://api.github.com/users/cjceglio/followin...   \n",
       "..                                                ...   \n",
       "0   https://api.github.com/users/linhd-dev/followi...   \n",
       "0   https://api.github.com/users/mafeguerrero/foll...   \n",
       "1   https://api.github.com/users/rchd-repo/followi...   \n",
       "0   https://api.github.com/users/rivegam/following...   \n",
       "1   https://api.github.com/users/vcasaisvila/follo...   \n",
       "\n",
       "                                            gists_url  ... permissions.triage  \\\n",
       "0   https://api.github.com/users/DianneCF/gists{/g...  ...                NaN   \n",
       "0   https://api.github.com/users/EmGillies/gists{/...  ...                NaN   \n",
       "0   https://api.github.com/users/SpurGrappler/gist...  ...                NaN   \n",
       "0   https://api.github.com/users/baethoven/gists{/...  ...                NaN   \n",
       "1   https://api.github.com/users/cjceglio/gists{/g...  ...                NaN   \n",
       "..                                                ...  ...                ...   \n",
       "0   https://api.github.com/users/linhd-dev/gists{/...  ...                NaN   \n",
       "0   https://api.github.com/users/mafeguerrero/gist...  ...                NaN   \n",
       "1   https://api.github.com/users/rchd-repo/gists{/...  ...                NaN   \n",
       "0   https://api.github.com/users/rivegam/gists{/gi...  ...                NaN   \n",
       "1   https://api.github.com/users/vcasaisvila/gists...  ...                NaN   \n",
       "\n",
       "   permissions.pull license.key license.name license.spdx_id license.url  \\\n",
       "0               NaN         NaN          NaN             NaN         NaN   \n",
       "0               NaN         NaN          NaN             NaN         NaN   \n",
       "0               NaN         NaN          NaN             NaN         NaN   \n",
       "0               NaN         NaN          NaN             NaN         NaN   \n",
       "1               NaN         NaN          NaN             NaN         NaN   \n",
       "..              ...         ...          ...             ...         ...   \n",
       "0               NaN         NaN          NaN             NaN         NaN   \n",
       "0               NaN         NaN          NaN             NaN         NaN   \n",
       "1               NaN         NaN          NaN             NaN         NaN   \n",
       "0               NaN         NaN          NaN             NaN         NaN   \n",
       "1               NaN         NaN          NaN             NaN         NaN   \n",
       "\n",
       "   license.node_id  coding_dh_id user_query_time search_query_time  \n",
       "0              NaN             0             NaN               NaN  \n",
       "0              NaN             0             NaN               NaN  \n",
       "0              NaN             0             NaN               NaN  \n",
       "0              NaN             0             NaN               NaN  \n",
       "1              NaN             1             NaN               NaN  \n",
       "..             ...           ...             ...               ...  \n",
       "0              NaN             0             NaN               NaN  \n",
       "0              NaN             0             NaN               NaN  \n",
       "1              NaN             1             NaN               NaN  \n",
       "0              NaN             0             NaN               NaN  \n",
       "1              NaN             1             NaN               NaN  \n",
       "\n",
       "[1262 rows x 146 columns]"
      ]
     },
     "execution_count": 112,
     "metadata": {},
     "output_type": "execute_result"
    }
   ],
   "source": [
    "initial_core_users"
   ]
  },
  {
   "cell_type": "code",
   "execution_count": 114,
   "metadata": {},
   "outputs": [
    {
     "data": {
      "text/html": [
       "<pre style=\"white-space:pre;overflow-x:auto;line-height:normal;font-family:Menlo,'DejaVu Sans Mono',consolas,'Courier New',monospace\"><span style=\"font-weight: bold\">[</span>\n",
       "    <span style=\"color: #008000; text-decoration-color: #008000\">'gravatar_id'</span>,\n",
       "    <span style=\"color: #008000; text-decoration-color: #008000\">'hireable'</span>,\n",
       "    <span style=\"color: #008000; text-decoration-color: #008000\">'company'</span>,\n",
       "    <span style=\"color: #008000; text-decoration-color: #008000\">'total_private_repos'</span>,\n",
       "    <span style=\"color: #008000; text-decoration-color: #008000\">'owned_private_repos'</span>,\n",
       "    <span style=\"color: #008000; text-decoration-color: #008000\">'private_gists'</span>,\n",
       "    <span style=\"color: #008000; text-decoration-color: #008000\">'disk_usage'</span>,\n",
       "    <span style=\"color: #008000; text-decoration-color: #008000\">'collaborators'</span>,\n",
       "    <span style=\"color: #008000; text-decoration-color: #008000\">'billing_email'</span>,\n",
       "    <span style=\"color: #008000; text-decoration-color: #008000\">'default_repository_permission'</span>,\n",
       "    <span style=\"color: #008000; text-decoration-color: #008000\">'members_can_create_repositories'</span>,\n",
       "    <span style=\"color: #008000; text-decoration-color: #008000\">'two_factor_requirement_enabled'</span>,\n",
       "    <span style=\"color: #008000; text-decoration-color: #008000\">'members_allowed_repository_creation_type'</span>,\n",
       "    <span style=\"color: #008000; text-decoration-color: #008000\">'members_can_create_public_repositories'</span>,\n",
       "    <span style=\"color: #008000; text-decoration-color: #008000\">'members_can_create_private_repositories'</span>,\n",
       "    <span style=\"color: #008000; text-decoration-color: #008000\">'members_can_create_internal_repositories'</span>,\n",
       "    <span style=\"color: #008000; text-decoration-color: #008000\">'members_can_create_pages'</span>,\n",
       "    <span style=\"color: #008000; text-decoration-color: #008000\">'members_can_fork_private_repositories'</span>,\n",
       "    <span style=\"color: #008000; text-decoration-color: #008000\">'web_commit_signoff_required'</span>,\n",
       "    <span style=\"color: #008000; text-decoration-color: #008000\">'members_can_create_public_pages'</span>,\n",
       "    <span style=\"color: #008000; text-decoration-color: #008000\">'members_can_create_private_pages'</span>,\n",
       "    <span style=\"color: #008000; text-decoration-color: #008000\">'plan.name'</span>,\n",
       "    <span style=\"color: #008000; text-decoration-color: #008000\">'plan.space'</span>,\n",
       "    <span style=\"color: #008000; text-decoration-color: #008000\">'plan.private_repos'</span>,\n",
       "    <span style=\"color: #008000; text-decoration-color: #008000\">'plan.filled_seats'</span>,\n",
       "    <span style=\"color: #008000; text-decoration-color: #008000\">'plan.seats'</span>,\n",
       "    <span style=\"color: #008000; text-decoration-color: #008000\">'advanced_security_enabled_for_new_repositories'</span>,\n",
       "    <span style=\"color: #008000; text-decoration-color: #008000\">'dependabot_alerts_enabled_for_new_repositories'</span>,\n",
       "    <span style=\"color: #008000; text-decoration-color: #008000\">'dependabot_security_updates_enabled_for_new_repositories'</span>,\n",
       "    <span style=\"color: #008000; text-decoration-color: #008000\">'dependency_graph_enabled_for_new_repositories'</span>,\n",
       "    <span style=\"color: #008000; text-decoration-color: #008000\">'secret_scanning_enabled_for_new_repositories'</span>,\n",
       "    <span style=\"color: #008000; text-decoration-color: #008000\">'secret_scanning_push_protection_enabled_for_new_repositories'</span>,\n",
       "    <span style=\"color: #008000; text-decoration-color: #008000\">'secret_scanning_push_protection_custom_link_enabled'</span>,\n",
       "    <span style=\"color: #008000; text-decoration-color: #008000\">'secret_scanning_push_protection_custom_link'</span>\n",
       "<span style=\"font-weight: bold\">]</span>\n",
       "</pre>\n"
      ],
      "text/plain": [
       "\u001b[1m[\u001b[0m\n",
       "    \u001b[32m'gravatar_id'\u001b[0m,\n",
       "    \u001b[32m'hireable'\u001b[0m,\n",
       "    \u001b[32m'company'\u001b[0m,\n",
       "    \u001b[32m'total_private_repos'\u001b[0m,\n",
       "    \u001b[32m'owned_private_repos'\u001b[0m,\n",
       "    \u001b[32m'private_gists'\u001b[0m,\n",
       "    \u001b[32m'disk_usage'\u001b[0m,\n",
       "    \u001b[32m'collaborators'\u001b[0m,\n",
       "    \u001b[32m'billing_email'\u001b[0m,\n",
       "    \u001b[32m'default_repository_permission'\u001b[0m,\n",
       "    \u001b[32m'members_can_create_repositories'\u001b[0m,\n",
       "    \u001b[32m'two_factor_requirement_enabled'\u001b[0m,\n",
       "    \u001b[32m'members_allowed_repository_creation_type'\u001b[0m,\n",
       "    \u001b[32m'members_can_create_public_repositories'\u001b[0m,\n",
       "    \u001b[32m'members_can_create_private_repositories'\u001b[0m,\n",
       "    \u001b[32m'members_can_create_internal_repositories'\u001b[0m,\n",
       "    \u001b[32m'members_can_create_pages'\u001b[0m,\n",
       "    \u001b[32m'members_can_fork_private_repositories'\u001b[0m,\n",
       "    \u001b[32m'web_commit_signoff_required'\u001b[0m,\n",
       "    \u001b[32m'members_can_create_public_pages'\u001b[0m,\n",
       "    \u001b[32m'members_can_create_private_pages'\u001b[0m,\n",
       "    \u001b[32m'plan.name'\u001b[0m,\n",
       "    \u001b[32m'plan.space'\u001b[0m,\n",
       "    \u001b[32m'plan.private_repos'\u001b[0m,\n",
       "    \u001b[32m'plan.filled_seats'\u001b[0m,\n",
       "    \u001b[32m'plan.seats'\u001b[0m,\n",
       "    \u001b[32m'advanced_security_enabled_for_new_repositories'\u001b[0m,\n",
       "    \u001b[32m'dependabot_alerts_enabled_for_new_repositories'\u001b[0m,\n",
       "    \u001b[32m'dependabot_security_updates_enabled_for_new_repositories'\u001b[0m,\n",
       "    \u001b[32m'dependency_graph_enabled_for_new_repositories'\u001b[0m,\n",
       "    \u001b[32m'secret_scanning_enabled_for_new_repositories'\u001b[0m,\n",
       "    \u001b[32m'secret_scanning_push_protection_enabled_for_new_repositories'\u001b[0m,\n",
       "    \u001b[32m'secret_scanning_push_protection_custom_link_enabled'\u001b[0m,\n",
       "    \u001b[32m'secret_scanning_push_protection_custom_link'\u001b[0m\n",
       "\u001b[1m]\u001b[0m\n"
      ]
     },
     "metadata": {},
     "output_type": "display_data"
    }
   ],
   "source": [
    "# Check if all values in each column are null\n",
    "null_columns = initial_core_orgs.isnull().all()\n",
    "\n",
    "# Print columns that are all nulls\n",
    "print(null_columns[null_columns == True].index.tolist())"
   ]
  },
  {
   "cell_type": "code",
   "execution_count": 115,
   "metadata": {},
   "outputs": [],
   "source": [
    "url = \"https://api.github.com/users/CodingDH\"\n",
    "response = requests.get(url, headers=auth_headers)\n",
    "response_df = pd.json_normalize(response.json())\n",
    "\n",
    "url2 = \"https://api.github.com/orgs/CodingDH\"\n",
    "response2 = requests.get(url2, headers=auth_headers)\n",
    "response_df2 = pd.json_normalize(response2.json())"
   ]
  },
  {
   "cell_type": "code",
   "execution_count": 116,
   "metadata": {},
   "outputs": [
    {
     "data": {
      "text/plain": [
       "Index(['login', 'id', 'node_id', 'avatar_url', 'gravatar_id', 'url',\n",
       "       'html_url', 'followers_url', 'following_url', 'gists_url',\n",
       "       'starred_url', 'subscriptions_url', 'organizations_url', 'repos_url',\n",
       "       'events_url', 'received_events_url', 'type', 'site_admin', 'name',\n",
       "       'company', 'blog', 'location', 'email', 'hireable', 'bio',\n",
       "       'twitter_username', 'public_repos', 'public_gists', 'followers',\n",
       "       'following', 'created_at', 'updated_at'],\n",
       "      dtype='object')"
      ]
     },
     "execution_count": 116,
     "metadata": {},
     "output_type": "execute_result"
    }
   ],
   "source": [
    "response_df.columns"
   ]
  },
  {
   "cell_type": "code",
   "execution_count": 118,
   "metadata": {},
   "outputs": [
    {
     "data": {
      "text/plain": [
       "0    True\n",
       "Name: members_can_create_repositories, dtype: bool"
      ]
     },
     "execution_count": 118,
     "metadata": {},
     "output_type": "execute_result"
    }
   ],
   "source": [
    "response_df2['members_can_create_repositories']"
   ]
  },
  {
   "attachments": {},
   "cell_type": "markdown",
   "metadata": {},
   "source": [
    "Initial core datasets will be comprised of the following:\n",
    "\n",
    "- `core_repos`: A list of all repos that were returned by the search query\n",
    "- `core_users`: A list of all users that were returned by the search query\n",
    "- `core_orgs`: A list of all orgs that were returned by the search query"
   ]
  },
  {
   "cell_type": "code",
   "execution_count": null,
   "metadata": {},
   "outputs": [],
   "source": [
    "# get_count_metadata(entity_df: pd.DataFrame, entity_type: str, dir_path: str)\n",
    "\n",
    "subset_core_orgs = initial_core_orgs[0:2]\n",
    "\n",
    "subset_core_orgs = get_count_metadata(subset_core_orgs, \"orgs\", f\"{data_directory_path}/historic_data/entity_files/all_orgs/\")"
   ]
  },
  {
   "cell_type": "code",
   "execution_count": null,
   "metadata": {},
   "outputs": [],
   "source": [
    "subset_core_orgs.columns"
   ]
  },
  {
   "cell_type": "code",
   "execution_count": null,
   "metadata": {},
   "outputs": [],
   "source": []
  }
 ],
 "metadata": {
  "kernelspec": {
   "display_name": "values_and_versions_env",
   "language": "python",
   "name": "python3"
  },
  "language_info": {
   "codemirror_mode": {
    "name": "ipython",
    "version": 3
   },
   "file_extension": ".py",
   "mimetype": "text/x-python",
   "name": "python",
   "nbconvert_exporter": "python",
   "pygments_lexer": "ipython3",
   "version": "3.9.18"
  },
  "orig_nbformat": 4
 },
 "nbformat": 4,
 "nbformat_minor": 2
}
