{
 "cells": [
  {
   "attachments": {},
   "cell_type": "markdown",
   "metadata": {},
   "source": [
    "# Process Initial Results"
   ]
  },
  {
   "cell_type": "code",
   "execution_count": 1,
   "metadata": {},
   "outputs": [],
   "source": [
    "import pandas as pd\n",
    "pd.options.mode.chained_assignment = None\n",
    "import os\n",
    "import sys\n",
    "import warnings\n",
    "warnings.filterwarnings('ignore')\n",
    "\n",
    "sys.path.append(\"../\")\n",
    "from data_generation_scripts.general_utils import *"
   ]
  },
  {
   "cell_type": "code",
   "execution_count": 2,
   "metadata": {},
   "outputs": [
    {
     "data": {
      "text/plain": [
       "True"
      ]
     },
     "execution_count": 2,
     "metadata": {},
     "output_type": "execute_result"
    }
   ],
   "source": [
    "path_temp = \"../../datasets/temp\"\n",
    "os.path.exists(path_temp)"
   ]
  },
  {
   "cell_type": "code",
   "execution_count": 4,
   "metadata": {},
   "outputs": [
    {
     "data": {
      "text/html": [
       "<pre style=\"white-space:pre;overflow-x:auto;line-height:normal;font-family:Menlo,'DejaVu Sans Mono',consolas,'Courier New',monospace\">..<span style=\"color: #800080; text-decoration-color: #800080\">/../datasets/temp/</span><span style=\"color: #ff00ff; text-decoration-color: #ff00ff\">repo_languages</span>\n",
       "<span style=\"font-weight: bold\">[]</span>\n",
       "<span style=\"color: #008080; text-decoration-color: #008080; font-weight: bold\">39071</span>\n",
       "</pre>\n"
      ],
      "text/plain": [
       "..\u001b[35m/../datasets/temp/\u001b[0m\u001b[95mrepo_languages\u001b[0m\n",
       "\u001b[1m[\u001b[0m\u001b[1m]\u001b[0m\n",
       "\u001b[1;36m39071\u001b[0m\n"
      ]
     },
     "metadata": {},
     "output_type": "display_data"
    },
    {
     "data": {
      "text/html": [
       "<pre style=\"white-space:pre;overflow-x:auto;line-height:normal;font-family:Menlo,'DejaVu Sans Mono',consolas,'Courier New',monospace\">..<span style=\"color: #800080; text-decoration-color: #800080\">/../datasets/temp/</span><span style=\"color: #ff00ff; text-decoration-color: #ff00ff\">user_following_join_dataset</span>\n",
       "<span style=\"font-weight: bold\">[]</span>\n",
       "<span style=\"color: #008080; text-decoration-color: #008080; font-weight: bold\">2473</span>\n",
       "</pre>\n"
      ],
      "text/plain": [
       "..\u001b[35m/../datasets/temp/\u001b[0m\u001b[95muser_following_join_dataset\u001b[0m\n",
       "\u001b[1m[\u001b[0m\u001b[1m]\u001b[0m\n",
       "\u001b[1;36m2473\u001b[0m\n"
      ]
     },
     "metadata": {},
     "output_type": "display_data"
    },
    {
     "data": {
      "text/html": [
       "<pre style=\"white-space:pre;overflow-x:auto;line-height:normal;font-family:Menlo,'DejaVu Sans Mono',consolas,'Courier New',monospace\">..<span style=\"color: #800080; text-decoration-color: #800080\">/../datasets/temp/</span><span style=\"color: #ff00ff; text-decoration-color: #ff00ff\">repo_forks_join_dataset</span>\n",
       "<span style=\"font-weight: bold\">[]</span>\n",
       "<span style=\"color: #008080; text-decoration-color: #008080; font-weight: bold\">1777</span>\n",
       "</pre>\n"
      ],
      "text/plain": [
       "..\u001b[35m/../datasets/temp/\u001b[0m\u001b[95mrepo_forks_join_dataset\u001b[0m\n",
       "\u001b[1m[\u001b[0m\u001b[1m]\u001b[0m\n",
       "\u001b[1;36m1777\u001b[0m\n"
      ]
     },
     "metadata": {},
     "output_type": "display_data"
    },
    {
     "data": {
      "text/html": [
       "<pre style=\"white-space:pre;overflow-x:auto;line-height:normal;font-family:Menlo,'DejaVu Sans Mono',consolas,'Courier New',monospace\">..<span style=\"color: #800080; text-decoration-color: #800080\">/../datasets/temp/</span><span style=\"color: #ff00ff; text-decoration-color: #ff00ff\">repo_pulls_join_dataset</span>\n",
       "<span style=\"font-weight: bold\">[]</span>\n",
       "<span style=\"color: #008080; text-decoration-color: #008080; font-weight: bold\">645</span>\n",
       "</pre>\n"
      ],
      "text/plain": [
       "..\u001b[35m/../datasets/temp/\u001b[0m\u001b[95mrepo_pulls_join_dataset\u001b[0m\n",
       "\u001b[1m[\u001b[0m\u001b[1m]\u001b[0m\n",
       "\u001b[1;36m645\u001b[0m\n"
      ]
     },
     "metadata": {},
     "output_type": "display_data"
    },
    {
     "data": {
      "text/html": [
       "<pre style=\"white-space:pre;overflow-x:auto;line-height:normal;font-family:Menlo,'DejaVu Sans Mono',consolas,'Courier New',monospace\">..<span style=\"color: #800080; text-decoration-color: #800080\">/../datasets/temp/</span><span style=\"color: #ff00ff; text-decoration-color: #ff00ff\">org_repos_join_dataset</span>\n",
       "<span style=\"font-weight: bold\">[]</span>\n",
       "<span style=\"color: #008080; text-decoration-color: #008080; font-weight: bold\">419</span>\n",
       "</pre>\n"
      ],
      "text/plain": [
       "..\u001b[35m/../datasets/temp/\u001b[0m\u001b[95morg_repos_join_dataset\u001b[0m\n",
       "\u001b[1m[\u001b[0m\u001b[1m]\u001b[0m\n",
       "\u001b[1;36m419\u001b[0m\n"
      ]
     },
     "metadata": {},
     "output_type": "display_data"
    },
    {
     "data": {
      "text/html": [
       "<pre style=\"white-space:pre;overflow-x:auto;line-height:normal;font-family:Menlo,'DejaVu Sans Mono',consolas,'Courier New',monospace\">..<span style=\"color: #800080; text-decoration-color: #800080\">/../datasets/temp/</span><span style=\"color: #ff00ff; text-decoration-color: #ff00ff\">user_organizations_join_dataset</span>\n",
       "<span style=\"font-weight: bold\">[]</span>\n",
       "<span style=\"color: #008080; text-decoration-color: #008080; font-weight: bold\">1062</span>\n",
       "</pre>\n"
      ],
      "text/plain": [
       "..\u001b[35m/../datasets/temp/\u001b[0m\u001b[95muser_organizations_join_dataset\u001b[0m\n",
       "\u001b[1m[\u001b[0m\u001b[1m]\u001b[0m\n",
       "\u001b[1;36m1062\u001b[0m\n"
      ]
     },
     "metadata": {},
     "output_type": "display_data"
    },
    {
     "data": {
      "text/html": [
       "<pre style=\"white-space:pre;overflow-x:auto;line-height:normal;font-family:Menlo,'DejaVu Sans Mono',consolas,'Courier New',monospace\">..<span style=\"color: #800080; text-decoration-color: #800080\">/../datasets/temp/</span><span style=\"color: #ff00ff; text-decoration-color: #ff00ff\">org_followers_join_dataset</span>\n",
       "<span style=\"font-weight: bold\">[]</span>\n",
       "<span style=\"color: #008080; text-decoration-color: #008080; font-weight: bold\">215</span>\n",
       "</pre>\n"
      ],
      "text/plain": [
       "..\u001b[35m/../datasets/temp/\u001b[0m\u001b[95morg_followers_join_dataset\u001b[0m\n",
       "\u001b[1m[\u001b[0m\u001b[1m]\u001b[0m\n",
       "\u001b[1;36m215\u001b[0m\n"
      ]
     },
     "metadata": {},
     "output_type": "display_data"
    },
    {
     "data": {
      "text/html": [
       "<pre style=\"white-space:pre;overflow-x:auto;line-height:normal;font-family:Menlo,'DejaVu Sans Mono',consolas,'Courier New',monospace\">..<span style=\"color: #800080; text-decoration-color: #800080\">/../datasets/temp/</span><span style=\"color: #ff00ff; text-decoration-color: #ff00ff\">redo_users</span>\n",
       "<span style=\"font-weight: bold\">[]</span>\n",
       "<span style=\"color: #008080; text-decoration-color: #008080; font-weight: bold\">7547</span>\n",
       "</pre>\n"
      ],
      "text/plain": [
       "..\u001b[35m/../datasets/temp/\u001b[0m\u001b[95mredo_users\u001b[0m\n",
       "\u001b[1m[\u001b[0m\u001b[1m]\u001b[0m\n",
       "\u001b[1;36m7547\u001b[0m\n"
      ]
     },
     "metadata": {},
     "output_type": "display_data"
    },
    {
     "data": {
      "text/html": [
       "<pre style=\"white-space:pre;overflow-x:auto;line-height:normal;font-family:Menlo,'DejaVu Sans Mono',consolas,'Courier New',monospace\">..<span style=\"color: #800080; text-decoration-color: #800080\">/../datasets/temp/</span><span style=\"color: #ff00ff; text-decoration-color: #ff00ff\">repo_subscribers_join_dataset</span>\n",
       "<span style=\"font-weight: bold\">[]</span>\n",
       "<span style=\"color: #008080; text-decoration-color: #008080; font-weight: bold\">11843</span>\n",
       "</pre>\n"
      ],
      "text/plain": [
       "..\u001b[35m/../datasets/temp/\u001b[0m\u001b[95mrepo_subscribers_join_dataset\u001b[0m\n",
       "\u001b[1m[\u001b[0m\u001b[1m]\u001b[0m\n",
       "\u001b[1;36m11843\u001b[0m\n"
      ]
     },
     "metadata": {},
     "output_type": "display_data"
    },
    {
     "data": {
      "text/html": [
       "<pre style=\"white-space:pre;overflow-x:auto;line-height:normal;font-family:Menlo,'DejaVu Sans Mono',consolas,'Courier New',monospace\">..<span style=\"color: #800080; text-decoration-color: #800080\">/../datasets/temp/</span><span style=\"color: #ff00ff; text-decoration-color: #ff00ff\">repo_profile</span>\n",
       "<span style=\"font-weight: bold\">[]</span>\n",
       "<span style=\"color: #008080; text-decoration-color: #008080; font-weight: bold\">20235</span>\n",
       "</pre>\n"
      ],
      "text/plain": [
       "..\u001b[35m/../datasets/temp/\u001b[0m\u001b[95mrepo_profile\u001b[0m\n",
       "\u001b[1m[\u001b[0m\u001b[1m]\u001b[0m\n",
       "\u001b[1;36m20235\u001b[0m\n"
      ]
     },
     "metadata": {},
     "output_type": "display_data"
    },
    {
     "data": {
      "text/html": [
       "<pre style=\"white-space:pre;overflow-x:auto;line-height:normal;font-family:Menlo,'DejaVu Sans Mono',consolas,'Courier New',monospace\">..<span style=\"color: #800080; text-decoration-color: #800080\">/../datasets/temp/</span><span style=\"color: #ff00ff; text-decoration-color: #ff00ff\">user_repos_join_dataset</span>\n",
       "<span style=\"font-weight: bold\">[]</span>\n",
       "<span style=\"color: #008080; text-decoration-color: #008080; font-weight: bold\">2968</span>\n",
       "</pre>\n"
      ],
      "text/plain": [
       "..\u001b[35m/../datasets/temp/\u001b[0m\u001b[95muser_repos_join_dataset\u001b[0m\n",
       "\u001b[1m[\u001b[0m\u001b[1m]\u001b[0m\n",
       "\u001b[1;36m2968\u001b[0m\n"
      ]
     },
     "metadata": {},
     "output_type": "display_data"
    },
    {
     "data": {
      "text/html": [
       "<pre style=\"white-space:pre;overflow-x:auto;line-height:normal;font-family:Menlo,'DejaVu Sans Mono',consolas,'Courier New',monospace\">..<span style=\"color: #800080; text-decoration-color: #800080\">/../datasets/temp/</span><span style=\"color: #ff00ff; text-decoration-color: #ff00ff\">user_followers_join_dataset</span>\n",
       "<span style=\"font-weight: bold\">[]</span>\n",
       "<span style=\"color: #008080; text-decoration-color: #008080; font-weight: bold\">3118</span>\n",
       "</pre>\n"
      ],
      "text/plain": [
       "..\u001b[35m/../datasets/temp/\u001b[0m\u001b[95muser_followers_join_dataset\u001b[0m\n",
       "\u001b[1m[\u001b[0m\u001b[1m]\u001b[0m\n",
       "\u001b[1;36m3118\u001b[0m\n"
      ]
     },
     "metadata": {},
     "output_type": "display_data"
    },
    {
     "data": {
      "text/html": [
       "<pre style=\"white-space:pre;overflow-x:auto;line-height:normal;font-family:Menlo,'DejaVu Sans Mono',consolas,'Courier New',monospace\">..<span style=\"color: #800080; text-decoration-color: #800080\">/../datasets/temp/</span><span style=\"color: #ff00ff; text-decoration-color: #ff00ff\">org_members_join_dataset</span>\n",
       "<span style=\"font-weight: bold\">[]</span>\n",
       "<span style=\"color: #008080; text-decoration-color: #008080; font-weight: bold\">15</span>\n",
       "</pre>\n"
      ],
      "text/plain": [
       "..\u001b[35m/../datasets/temp/\u001b[0m\u001b[95morg_members_join_dataset\u001b[0m\n",
       "\u001b[1m[\u001b[0m\u001b[1m]\u001b[0m\n",
       "\u001b[1;36m15\u001b[0m\n"
      ]
     },
     "metadata": {},
     "output_type": "display_data"
    },
    {
     "data": {
      "text/html": [
       "<pre style=\"white-space:pre;overflow-x:auto;line-height:normal;font-family:Menlo,'DejaVu Sans Mono',consolas,'Courier New',monospace\">..<span style=\"color: #800080; text-decoration-color: #800080\">/../datasets/temp/</span><span style=\"color: #ff00ff; text-decoration-color: #ff00ff\">org_repos_dataset</span>\n",
       "<span style=\"font-weight: bold\">[]</span>\n",
       "<span style=\"color: #008080; text-decoration-color: #008080; font-weight: bold\">166</span>\n",
       "</pre>\n"
      ],
      "text/plain": [
       "..\u001b[35m/../datasets/temp/\u001b[0m\u001b[95morg_repos_dataset\u001b[0m\n",
       "\u001b[1m[\u001b[0m\u001b[1m]\u001b[0m\n",
       "\u001b[1;36m166\u001b[0m\n"
      ]
     },
     "metadata": {},
     "output_type": "display_data"
    },
    {
     "data": {
      "text/html": [
       "<pre style=\"white-space:pre;overflow-x:auto;line-height:normal;font-family:Menlo,'DejaVu Sans Mono',consolas,'Courier New',monospace\">..<span style=\"color: #800080; text-decoration-color: #800080\">/../datasets/temp/</span><span style=\"color: #ff00ff; text-decoration-color: #ff00ff\">repo_issues_join_dataset</span>\n",
       "<span style=\"font-weight: bold\">[]</span>\n",
       "<span style=\"color: #008080; text-decoration-color: #008080; font-weight: bold\">1461</span>\n",
       "</pre>\n"
      ],
      "text/plain": [
       "..\u001b[35m/../datasets/temp/\u001b[0m\u001b[95mrepo_issues_join_dataset\u001b[0m\n",
       "\u001b[1m[\u001b[0m\u001b[1m]\u001b[0m\n",
       "\u001b[1;36m1461\u001b[0m\n"
      ]
     },
     "metadata": {},
     "output_type": "display_data"
    },
    {
     "data": {
      "text/html": [
       "<pre style=\"white-space:pre;overflow-x:auto;line-height:normal;font-family:Menlo,'DejaVu Sans Mono',consolas,'Courier New',monospace\">..<span style=\"color: #800080; text-decoration-color: #800080\">/../datasets/temp/</span><span style=\"color: #ff00ff; text-decoration-color: #ff00ff\">repo_commits_join_dataset</span>\n",
       "<span style=\"font-weight: bold\">[]</span>\n",
       "<span style=\"color: #008080; text-decoration-color: #008080; font-weight: bold\">2018</span>\n",
       "</pre>\n"
      ],
      "text/plain": [
       "..\u001b[35m/../datasets/temp/\u001b[0m\u001b[95mrepo_commits_join_dataset\u001b[0m\n",
       "\u001b[1m[\u001b[0m\u001b[1m]\u001b[0m\n",
       "\u001b[1;36m2018\u001b[0m\n"
      ]
     },
     "metadata": {},
     "output_type": "display_data"
    },
    {
     "data": {
      "text/html": [
       "<pre style=\"white-space:pre;overflow-x:auto;line-height:normal;font-family:Menlo,'DejaVu Sans Mono',consolas,'Courier New',monospace\">..<span style=\"color: #800080; text-decoration-color: #800080\">/../datasets/temp/</span><span style=\"color: #ff00ff; text-decoration-color: #ff00ff\">orgs_dataset</span>\n",
       "<span style=\"font-weight: bold\">[]</span>\n",
       "<span style=\"color: #008080; text-decoration-color: #008080; font-weight: bold\">2122</span>\n",
       "</pre>\n"
      ],
      "text/plain": [
       "..\u001b[35m/../datasets/temp/\u001b[0m\u001b[95morgs_dataset\u001b[0m\n",
       "\u001b[1m[\u001b[0m\u001b[1m]\u001b[0m\n",
       "\u001b[1;36m2122\u001b[0m\n"
      ]
     },
     "metadata": {},
     "output_type": "display_data"
    },
    {
     "data": {
      "text/html": [
       "<pre style=\"white-space:pre;overflow-x:auto;line-height:normal;font-family:Menlo,'DejaVu Sans Mono',consolas,'Courier New',monospace\">..<span style=\"color: #800080; text-decoration-color: #800080\">/../datasets/temp/</span><span style=\"color: #ff00ff; text-decoration-color: #ff00ff\">user_subscriptions_join_dataset</span>\n",
       "<span style=\"font-weight: bold\">[]</span>\n",
       "<span style=\"color: #008080; text-decoration-color: #008080; font-weight: bold\">2065</span>\n",
       "</pre>\n"
      ],
      "text/plain": [
       "..\u001b[35m/../datasets/temp/\u001b[0m\u001b[95muser_subscriptions_join_dataset\u001b[0m\n",
       "\u001b[1m[\u001b[0m\u001b[1m]\u001b[0m\n",
       "\u001b[1;36m2065\u001b[0m\n"
      ]
     },
     "metadata": {},
     "output_type": "display_data"
    },
    {
     "data": {
      "text/html": [
       "<pre style=\"white-space:pre;overflow-x:auto;line-height:normal;font-family:Menlo,'DejaVu Sans Mono',consolas,'Courier New',monospace\">..<span style=\"color: #800080; text-decoration-color: #800080\">/../datasets/temp/</span><span style=\"color: #ff00ff; text-decoration-color: #ff00ff\">entity_files</span>\n",
       "<span style=\"font-weight: bold\">[]</span>\n",
       "<span style=\"color: #008080; text-decoration-color: #008080; font-weight: bold\">1</span>\n",
       "</pre>\n"
      ],
      "text/plain": [
       "..\u001b[35m/../datasets/temp/\u001b[0m\u001b[95mentity_files\u001b[0m\n",
       "\u001b[1m[\u001b[0m\u001b[1m]\u001b[0m\n",
       "\u001b[1;36m1\u001b[0m\n"
      ]
     },
     "metadata": {},
     "output_type": "display_data"
    },
    {
     "data": {
      "text/html": [
       "<pre style=\"white-space:pre;overflow-x:auto;line-height:normal;font-family:Menlo,'DejaVu Sans Mono',consolas,'Courier New',monospace\">..<span style=\"color: #800080; text-decoration-color: #800080\">/../datasets/temp/</span><span style=\"color: #ff00ff; text-decoration-color: #ff00ff\">repo_stargazers_join_dataset</span>\n",
       "<span style=\"font-weight: bold\">[]</span>\n",
       "<span style=\"color: #008080; text-decoration-color: #008080; font-weight: bold\">2455</span>\n",
       "</pre>\n"
      ],
      "text/plain": [
       "..\u001b[35m/../datasets/temp/\u001b[0m\u001b[95mrepo_stargazers_join_dataset\u001b[0m\n",
       "\u001b[1m[\u001b[0m\u001b[1m]\u001b[0m\n",
       "\u001b[1;36m2455\u001b[0m\n"
      ]
     },
     "metadata": {},
     "output_type": "display_data"
    },
    {
     "data": {
      "text/html": [
       "<pre style=\"white-space:pre;overflow-x:auto;line-height:normal;font-family:Menlo,'DejaVu Sans Mono',consolas,'Courier New',monospace\">..<span style=\"color: #800080; text-decoration-color: #800080\">/../datasets/temp/</span><span style=\"color: #ff00ff; text-decoration-color: #ff00ff\">user_org_join_dataset</span>\n",
       "<span style=\"font-weight: bold\">[]</span>\n",
       "<span style=\"color: #008080; text-decoration-color: #008080; font-weight: bold\">608</span>\n",
       "</pre>\n"
      ],
      "text/plain": [
       "..\u001b[35m/../datasets/temp/\u001b[0m\u001b[95muser_org_join_dataset\u001b[0m\n",
       "\u001b[1m[\u001b[0m\u001b[1m]\u001b[0m\n",
       "\u001b[1;36m608\u001b[0m\n"
      ]
     },
     "metadata": {},
     "output_type": "display_data"
    },
    {
     "data": {
      "text/html": [
       "<pre style=\"white-space:pre;overflow-x:auto;line-height:normal;font-family:Menlo,'DejaVu Sans Mono',consolas,'Courier New',monospace\">..<span style=\"color: #800080; text-decoration-color: #800080\">/../datasets/temp/</span><span style=\"color: #ff00ff; text-decoration-color: #ff00ff\">test_user_followers_join_dataset</span>\n",
       "<span style=\"font-weight: bold\">[]</span>\n",
       "<span style=\"color: #008080; text-decoration-color: #008080; font-weight: bold\">7</span>\n",
       "</pre>\n"
      ],
      "text/plain": [
       "..\u001b[35m/../datasets/temp/\u001b[0m\u001b[95mtest_user_followers_join_dataset\u001b[0m\n",
       "\u001b[1m[\u001b[0m\u001b[1m]\u001b[0m\n",
       "\u001b[1;36m7\u001b[0m\n"
      ]
     },
     "metadata": {},
     "output_type": "display_data"
    },
    {
     "data": {
      "text/html": [
       "<pre style=\"white-space:pre;overflow-x:auto;line-height:normal;font-family:Menlo,'DejaVu Sans Mono',consolas,'Courier New',monospace\">..<span style=\"color: #800080; text-decoration-color: #800080\">/../datasets/temp/</span><span style=\"color: #ff00ff; text-decoration-color: #ff00ff\">user_starred_join_dataset</span>\n",
       "<span style=\"font-weight: bold\">[]</span>\n",
       "<span style=\"color: #008080; text-decoration-color: #008080; font-weight: bold\">2502</span>\n",
       "</pre>\n"
      ],
      "text/plain": [
       "..\u001b[35m/../datasets/temp/\u001b[0m\u001b[95muser_starred_join_dataset\u001b[0m\n",
       "\u001b[1m[\u001b[0m\u001b[1m]\u001b[0m\n",
       "\u001b[1;36m2502\u001b[0m\n"
      ]
     },
     "metadata": {},
     "output_type": "display_data"
    },
    {
     "data": {
      "text/html": [
       "<pre style=\"white-space:pre;overflow-x:auto;line-height:normal;font-family:Menlo,'DejaVu Sans Mono',consolas,'Courier New',monospace\">..<span style=\"color: #800080; text-decoration-color: #800080\">/../datasets/temp/</span><span style=\"color: #ff00ff; text-decoration-color: #ff00ff\">org_members_dataset</span>\n",
       "<span style=\"font-weight: bold\">[]</span>\n",
       "<span style=\"color: #008080; text-decoration-color: #008080; font-weight: bold\">1552</span>\n",
       "</pre>\n"
      ],
      "text/plain": [
       "..\u001b[35m/../datasets/temp/\u001b[0m\u001b[95morg_members_dataset\u001b[0m\n",
       "\u001b[1m[\u001b[0m\u001b[1m]\u001b[0m\n",
       "\u001b[1;36m1552\u001b[0m\n"
      ]
     },
     "metadata": {},
     "output_type": "display_data"
    },
    {
     "data": {
      "text/html": [
       "<pre style=\"white-space:pre;overflow-x:auto;line-height:normal;font-family:Menlo,'DejaVu Sans Mono',consolas,'Courier New',monospace\">..<span style=\"color: #800080; text-decoration-color: #800080\">/../datasets/temp/</span><span style=\"color: #ff00ff; text-decoration-color: #ff00ff\">repo_orgs_join_dataset</span>\n",
       "<span style=\"font-weight: bold\">[]</span>\n",
       "<span style=\"color: #008080; text-decoration-color: #008080; font-weight: bold\">1787</span>\n",
       "</pre>\n"
      ],
      "text/plain": [
       "..\u001b[35m/../datasets/temp/\u001b[0m\u001b[95mrepo_orgs_join_dataset\u001b[0m\n",
       "\u001b[1m[\u001b[0m\u001b[1m]\u001b[0m\n",
       "\u001b[1;36m1787\u001b[0m\n"
      ]
     },
     "metadata": {},
     "output_type": "display_data"
    },
    {
     "data": {
      "text/html": [
       "<pre style=\"white-space:pre;overflow-x:auto;line-height:normal;font-family:Menlo,'DejaVu Sans Mono',consolas,'Courier New',monospace\">..<span style=\"color: #800080; text-decoration-color: #800080\">/../datasets/temp/</span><span style=\"color: #ff00ff; text-decoration-color: #ff00ff\">repo_comments_join_dataset</span>\n",
       "<span style=\"font-weight: bold\">[]</span>\n",
       "<span style=\"color: #008080; text-decoration-color: #008080; font-weight: bold\">238</span>\n",
       "</pre>\n"
      ],
      "text/plain": [
       "..\u001b[35m/../datasets/temp/\u001b[0m\u001b[95mrepo_comments_join_dataset\u001b[0m\n",
       "\u001b[1m[\u001b[0m\u001b[1m]\u001b[0m\n",
       "\u001b[1;36m238\u001b[0m\n"
      ]
     },
     "metadata": {},
     "output_type": "display_data"
    },
    {
     "data": {
      "text/html": [
       "<pre style=\"white-space:pre;overflow-x:auto;line-height:normal;font-family:Menlo,'DejaVu Sans Mono',consolas,'Courier New',monospace\">..<span style=\"color: #800080; text-decoration-color: #800080\">/../datasets/temp/</span><span style=\"color: #ff00ff; text-decoration-color: #ff00ff\">repo_contributors_join_dataset</span>\n",
       "<span style=\"font-weight: bold\">[]</span>\n",
       "<span style=\"color: #008080; text-decoration-color: #008080; font-weight: bold\">12029</span>\n",
       "</pre>\n"
      ],
      "text/plain": [
       "..\u001b[35m/../datasets/temp/\u001b[0m\u001b[95mrepo_contributors_join_dataset\u001b[0m\n",
       "\u001b[1m[\u001b[0m\u001b[1m]\u001b[0m\n",
       "\u001b[1;36m12029\u001b[0m\n"
      ]
     },
     "metadata": {},
     "output_type": "display_data"
    },
    {
     "data": {
      "text/html": [
       "<pre style=\"white-space:pre;overflow-x:auto;line-height:normal;font-family:Menlo,'DejaVu Sans Mono',consolas,'Courier New',monospace\">..<span style=\"color: #800080; text-decoration-color: #800080\">/../datasets/temp/</span><span style=\"color: #ff00ff; text-decoration-color: #ff00ff\">temp_users</span>\n",
       "<span style=\"font-weight: bold\">[]</span>\n",
       "<span style=\"color: #008080; text-decoration-color: #008080; font-weight: bold\">127136</span>\n",
       "</pre>\n"
      ],
      "text/plain": [
       "..\u001b[35m/../datasets/temp/\u001b[0m\u001b[95mtemp_users\u001b[0m\n",
       "\u001b[1m[\u001b[0m\u001b[1m]\u001b[0m\n",
       "\u001b[1;36m127136\u001b[0m\n"
      ]
     },
     "metadata": {},
     "output_type": "display_data"
    },
    {
     "data": {
      "text/html": [
       "<pre style=\"white-space:pre;overflow-x:auto;line-height:normal;font-family:Menlo,'DejaVu Sans Mono',consolas,'Courier New',monospace\">..<span style=\"color: #800080; text-decoration-color: #800080\">/../datasets/temp/</span><span style=\"color: #ff00ff; text-decoration-color: #ff00ff\">issues_comments_join_dataset</span>\n",
       "<span style=\"font-weight: bold\">[]</span>\n",
       "<span style=\"color: #008080; text-decoration-color: #008080; font-weight: bold\">16949</span>\n",
       "</pre>\n"
      ],
      "text/plain": [
       "..\u001b[35m/../datasets/temp/\u001b[0m\u001b[95missues_comments_join_dataset\u001b[0m\n",
       "\u001b[1m[\u001b[0m\u001b[1m]\u001b[0m\n",
       "\u001b[1;36m16949\u001b[0m\n"
      ]
     },
     "metadata": {},
     "output_type": "display_data"
    },
    {
     "data": {
      "text/html": [
       "<pre style=\"white-space:pre;overflow-x:auto;line-height:normal;font-family:Menlo,'DejaVu Sans Mono',consolas,'Courier New',monospace\">..<span style=\"color: #800080; text-decoration-color: #800080\">/../datasets/temp/</span><span style=\"color: #ff00ff; text-decoration-color: #ff00ff\">pulls_comments_join_dataset</span>\n",
       "<span style=\"font-weight: bold\">[]</span>\n",
       "<span style=\"color: #008080; text-decoration-color: #008080; font-weight: bold\">989</span>\n",
       "</pre>\n"
      ],
      "text/plain": [
       "..\u001b[35m/../datasets/temp/\u001b[0m\u001b[95mpulls_comments_join_dataset\u001b[0m\n",
       "\u001b[1m[\u001b[0m\u001b[1m]\u001b[0m\n",
       "\u001b[1;36m989\u001b[0m\n"
      ]
     },
     "metadata": {},
     "output_type": "display_data"
    },
    {
     "data": {
      "text/html": [
       "<pre style=\"white-space:pre;overflow-x:auto;line-height:normal;font-family:Menlo,'DejaVu Sans Mono',consolas,'Courier New',monospace\">..<span style=\"color: #800080; text-decoration-color: #800080\">/../datasets/temp/</span><span style=\"color: #ff00ff; text-decoration-color: #ff00ff\">user_orgs_join_dataset</span>\n",
       "<span style=\"font-weight: bold\">[]</span>\n",
       "<span style=\"color: #008080; text-decoration-color: #008080; font-weight: bold\">200</span>\n",
       "</pre>\n"
      ],
      "text/plain": [
       "..\u001b[35m/../datasets/temp/\u001b[0m\u001b[95muser_orgs_join_dataset\u001b[0m\n",
       "\u001b[1m[\u001b[0m\u001b[1m]\u001b[0m\n",
       "\u001b[1;36m200\u001b[0m\n"
      ]
     },
     "metadata": {},
     "output_type": "display_data"
    },
    {
     "data": {
      "text/html": [
       "<pre style=\"white-space:pre;overflow-x:auto;line-height:normal;font-family:Menlo,'DejaVu Sans Mono',consolas,'Courier New',monospace\">..<span style=\"color: #800080; text-decoration-color: #800080\">/../datasets/temp/</span><span style=\"color: #ff00ff; text-decoration-color: #ff00ff\">temp_orgs</span>\n",
       "<span style=\"font-weight: bold\">[]</span>\n",
       "<span style=\"color: #008080; text-decoration-color: #008080; font-weight: bold\">2595</span>\n",
       "</pre>\n"
      ],
      "text/plain": [
       "..\u001b[35m/../datasets/temp/\u001b[0m\u001b[95mtemp_orgs\u001b[0m\n",
       "\u001b[1m[\u001b[0m\u001b[1m]\u001b[0m\n",
       "\u001b[1;36m2595\u001b[0m\n"
      ]
     },
     "metadata": {},
     "output_type": "display_data"
    }
   ],
   "source": [
    "for dir, subdir, files in os.walk(path_temp):\n",
    "    if len(subdir) == 0:\n",
    "        print(dir, subdir, len(files))"
   ]
  },
  {
   "attachments": {},
   "cell_type": "markdown",
   "metadata": {},
   "source": [
    "Once you've run `generate_expanded_search_data.py` and then `check_clean_search_results.py` you'll have a series of files in the `data/` directory that contain the results of your search. This notebook will help you process those results into a single file that can be used for analysis."
   ]
  },
  {
   "attachments": {},
   "cell_type": "markdown",
   "metadata": {},
   "source": [
    "Example of how to run `generate_expanded_search_data.py`:\n",
    "\n",
    "```python3\n",
    "rates_df = check_rate_limit()\n",
    "initial_repo_output_path = \"../data/repo_data/\"\n",
    "repo_output_path = \"../data/large_files/entity_files/repos_dataset.csv\"\n",
    "repo_join_output_path = \"../data/large_files/join_files/search_queries_repo_join_dataset.csv\"\n",
    "\n",
    "initial_user_output_path = \"../data/user_data/\"\n",
    "user_output_path = \"../data/entity_files/users_dataset.csv\"\n",
    "user_join_output_path = \"../data/join_files/search_queries_user_join_dataset.csv\"\n",
    "load_existing_data = False\n",
    "overwrite_existing_temp_files = False\n",
    "org_output_path = \"../data/entity_files/orgs_dataset.csv\"\n",
    "\n",
    "get_initial_search_datasets(rates_df, initial_repo_output_path,  repo_output_path, repo_join_output_path, initial_user_output_path, user_output_path, user_join_output_path, org_output_path, overwrite_existing_temp_files, load_existing_data)\n",
    "```\n",
    "\n",
    "And then just run `check_clean_search_results.py` "
   ]
  },
  {
   "attachments": {},
   "cell_type": "markdown",
   "metadata": {},
   "source": [
    "### Create Initial Core Results"
   ]
  },
  {
   "cell_type": "code",
   "execution_count": 70,
   "metadata": {},
   "outputs": [],
   "source": [
    "data_directory_path = \"../../datasets\"\n",
    "user_df = read_csv_file(f\"{data_directory_path}/large_files/entity_files/users_dataset.csv\")\n",
    "repo_df = read_csv_file(f\"{data_directory_path}/large_files/entity_files/repos_dataset.csv\")\n",
    "org_df = read_csv_file(f\"{data_directory_path}/entity_files/orgs_dataset.csv\")\n",
    "search_queries_repo_join_df = read_csv_file(f\"{data_directory_path}/derived_files/initial_search_queries_repo_join_subset_dh_dataset.csv\")\n",
    "search_queries_user_join_df = read_csv_file(f\"{data_directory_path}/derived_files/initial_search_queries_user_join_subset_dh_dataset.csv\")"
   ]
  },
  {
   "cell_type": "code",
   "execution_count": 71,
   "metadata": {},
   "outputs": [],
   "source": [
    "repo_join_output_path = f\"{data_directory_path}/derived_files/initial_search_queries_repo_join_subset_dh_dataset.csv\"\n",
    "user_join_output_path = f\"{data_directory_path}/derived_files/initial_search_queries_user_join_subset_dh_dataset.csv\"\n",
    "\n",
    "search_queries_repo_df = read_csv_file(repo_join_output_path)\n",
    "search_queries_user_df = read_csv_file(user_join_output_path)\n",
    "\n"
   ]
  },
  {
   "attachments": {},
   "cell_type": "markdown",
   "metadata": {},
   "source": [
    "Initial core datasets will be comprised of the following:\n",
    "\n",
    "- `core_repos`: A list of all repos that were returned by the search query\n",
    "- `core_users`: A list of all users that were returned by the search query\n",
    "- `core_orgs`: A list of all orgs that were returned by the search query"
   ]
  },
  {
   "attachments": {},
   "cell_type": "markdown",
   "metadata": {},
   "source": [
    "#### Check if all items exist in entity files"
   ]
  },
  {
   "cell_type": "code",
   "execution_count": 72,
   "metadata": {},
   "outputs": [
    {
     "data": {
      "text/plain": [
       "(0, 3, 12)"
      ]
     },
     "execution_count": 72,
     "metadata": {},
     "output_type": "execute_result"
    }
   ],
   "source": [
    "missing_repos = search_queries_repo_join_df[~search_queries_repo_join_df.full_name.isin(repo_df.full_name)]\n",
    "missing_users = search_queries_user_join_df[(~search_queries_user_join_df.login.isin(user_df.login)) & (search_queries_user_join_df['type'] == 'User')]\n",
    "missing_orgs = search_queries_user_join_df[(~search_queries_user_join_df.login.isin(user_df.login)) & (search_queries_user_join_df['type'] == 'Organization')]\n",
    "\n",
    "len(missing_repos), len(missing_users), len(missing_orgs)"
   ]
  },
  {
   "cell_type": "code",
   "execution_count": 74,
   "metadata": {},
   "outputs": [],
   "source": [
    "if len(missing_repos) > 0:\n",
    "    repo_df = check_add_new_entities(missing_repos, f'{data_directory_path}/large_files/entity_files/repos_dataset.csv', 'repos', True, False)\n",
    "if len(missing_orgs) > 0:\n",
    "    org_df = check_add_new_entities(missing_orgs, f'{data_directory_path}/entity_files/orgs_dataset.csv', 'orgs', True, False)\n",
    "if len(missing_users) > 0:\n",
    "    user_df = check_add_new_entities(missing_users, f'{data_directory_path}/entity_files/users_dataset.csv', 'users', True, False)"
   ]
  },
  {
   "cell_type": "code",
   "execution_count": 75,
   "metadata": {},
   "outputs": [],
   "source": [
    "core_repos = pd.merge(repo_df, search_queries_repo_join_df[['full_name', 'finalized_language', 'keep_resource']], on='full_name', how='inner')\n",
    "core_repos = core_repos.drop_duplicates(subset=['full_name'])\n",
    "core_users = pd.merge(user_df, search_queries_user_join_df[['login', 'finalized_language', 'keep_resource']], on='login', how='inner')\n",
    "core_users = core_users.drop_duplicates(subset=['login'])\n",
    "core_orgs = core_users[core_users['type'] == 'Organization']\n",
    "core_users = core_users[core_users['type'] == 'User']\n",
    "\n",
    "len(core_repos), len(core_users), len(core_orgs)"
   ]
  },
  {
   "cell_type": "code",
   "execution_count": null,
   "metadata": {},
   "outputs": [],
   "source": [
    "core_users_path = f\"{data_directory_path}/derived_files/core_users_dataset.csv\"\n",
    "core_repos_path = f\"{data_directory_path}/derived_files/core_repos_dataset.csv\"\n",
    "core_orgs_path = f\"{data_directory_path}/derived_files/core_orgs_dataset.csv\"\n",
    "\n",
    "if os.path.exists(core_users_path):\n",
    "    existing_core_users = pd.read_csv(core_users_path)\n",
    "\n",
    "    missing_cols = [col for col in existing_core_users.columns if col not in core_users.columns]\n",
    "    if len(missing_cols) > 0:\n",
    "        missing_cols = missing_cols + ['login']\n",
    "        added_cols = existing_core_users[missing_cols]\n",
    "        core_users = pd.merge(core_users, added_cols, on='login', how='left')\n",
    "        core_users = core_users.drop_duplicates(subset=['login'])\n",
    "\n",
    "    if len(core_users) > len(existing_core_users):\n",
    "        updated_core_users = core_users[~core_users.login.isin(existing_core_users.login)]\n",
    "        core_users = pd.concat([existing_core_users, updated_core_users])"
   ]
  },
  {
   "cell_type": "code",
   "execution_count": 132,
   "metadata": {},
   "outputs": [],
   "source": [
    "overwrite_files = False\n",
    "if os.path.exists(core_repos_path) == False or overwrite_files:\n",
    "    core_repos.to_csv(core_repos_path, index=False)\n",
    "if os.path.exists(core_users_path) == False or overwrite_files:\n",
    "    core_users.to_csv(core_users_path, index=False)\n",
    "if os.path.exists(core_orgs_path) == False or overwrite_files:\n",
    "    core_orgs.to_csv(core_orgs_path, index=False)"
   ]
  }
 ],
 "metadata": {
  "kernelspec": {
   "display_name": "values_and_versions_env",
   "language": "python",
   "name": "python3"
  },
  "language_info": {
   "codemirror_mode": {
    "name": "ipython",
    "version": 3
   },
   "file_extension": ".py",
   "mimetype": "text/x-python",
   "name": "python",
   "nbconvert_exporter": "python",
   "pygments_lexer": "ipython3",
   "version": "3.9.18"
  },
  "orig_nbformat": 4
 },
 "nbformat": 4,
 "nbformat_minor": 2
}
