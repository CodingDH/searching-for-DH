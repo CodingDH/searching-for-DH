{
 "cells": [
  {
   "cell_type": "markdown",
   "metadata": {},
   "source": [
    "# Notebook for Reorganizing Data in Coding DH"
   ]
  },
  {
   "cell_type": "markdown",
   "metadata": {},
   "source": [
    "Realized we needed to improve how we archived our data so that we could get historic snapshots. This notebook is for reorganizing the data."
   ]
  },
  {
   "cell_type": "code",
   "execution_count": 3,
   "metadata": {},
   "outputs": [],
   "source": [
    "import os\n",
    "import pandas as pd\n",
    "import numpy as np\n",
    "from tqdm import tqdm\n",
    "import rich\n",
    "from rich.console import Console\n",
    "console = Console()"
   ]
  },
  {
   "cell_type": "code",
   "execution_count": 41,
   "metadata": {},
   "outputs": [],
   "source": [
    "current_path = \"../../datasets/\"\n",
    "older_path = \"../../datasets/older_files/\"\n",
    "file_paths_dfs = []\n",
    "\n",
    "for dir, _, files in os.walk(current_path):\n",
    "    older_dir = dir.replace(current_path, older_path)\n",
    "    if os.path.exists(older_dir):\n",
    "        older_files = os.listdir(older_dir)\n",
    "        for file in files:\n",
    "            if file.endswith(\".csv\"):\n",
    "                subset_file = os.path.splitext(file)[0]\n",
    "                for older_file in older_files:\n",
    "                    subset_older_file = older_file.split(\"_202\")[0]\n",
    "                    if subset_file == subset_older_file:\n",
    "                        file_dict = {\n",
    "                            'file_path': os.path.join(dir, file),\n",
    "                            'subset_file': subset_file,\n",
    "                            'dir_path': dir,\n",
    "                            'older_file_path': os.path.join(older_dir, older_file)\n",
    "                        }\n",
    "                        file_paths_dfs.append(file_dict)\n",
    "files_df = pd.DataFrame(file_paths_dfs)"
   ]
  },
  {
   "cell_type": "code",
   "execution_count": 47,
   "metadata": {},
   "outputs": [
    {
     "data": {
      "text/html": [
       "<div>\n",
       "<style scoped>\n",
       "    .dataframe tbody tr th:only-of-type {\n",
       "        vertical-align: middle;\n",
       "    }\n",
       "\n",
       "    .dataframe tbody tr th {\n",
       "        vertical-align: top;\n",
       "    }\n",
       "\n",
       "    .dataframe thead th {\n",
       "        text-align: right;\n",
       "    }\n",
       "</style>\n",
       "<table border=\"1\" class=\"dataframe\">\n",
       "  <thead>\n",
       "    <tr style=\"text-align: right;\">\n",
       "      <th></th>\n",
       "      <th>grouped_dir_path</th>\n",
       "      <th>subset_file</th>\n",
       "    </tr>\n",
       "  </thead>\n",
       "  <tbody>\n",
       "    <tr>\n",
       "      <th>0</th>\n",
       "      <td>temp</td>\n",
       "      <td>missing_repos</td>\n",
       "    </tr>\n",
       "    <tr>\n",
       "      <th>1</th>\n",
       "      <td>temp</td>\n",
       "      <td>missing_users</td>\n",
       "    </tr>\n",
       "    <tr>\n",
       "      <th>2</th>\n",
       "      <td>temp</td>\n",
       "      <td>missing_orgs_dataset</td>\n",
       "    </tr>\n",
       "    <tr>\n",
       "      <th>3</th>\n",
       "      <td>temp</td>\n",
       "      <td>repo_dataset_updated</td>\n",
       "    </tr>\n",
       "    <tr>\n",
       "      <th>4</th>\n",
       "      <td>derived_files</td>\n",
       "      <td>updated_search_queries_user_join_subset_dh_dat...</td>\n",
       "    </tr>\n",
       "    <tr>\n",
       "      <th>...</th>\n",
       "      <td>...</td>\n",
       "      <td>...</td>\n",
       "    </tr>\n",
       "    <tr>\n",
       "      <th>181</th>\n",
       "      <td>user_data</td>\n",
       "      <td>users_searched_Humanidades+digitales</td>\n",
       "    </tr>\n",
       "    <tr>\n",
       "      <th>183</th>\n",
       "      <td>large_files</td>\n",
       "      <td>repo_subscribers_join_dataset</td>\n",
       "    </tr>\n",
       "    <tr>\n",
       "      <th>184</th>\n",
       "      <td>large_files</td>\n",
       "      <td>repo_stargazers_join_dataset</td>\n",
       "    </tr>\n",
       "    <tr>\n",
       "      <th>186</th>\n",
       "      <td>large_files</td>\n",
       "      <td>users_dataset</td>\n",
       "    </tr>\n",
       "    <tr>\n",
       "      <th>204</th>\n",
       "      <td>large_files</td>\n",
       "      <td>repos_dataset</td>\n",
       "    </tr>\n",
       "  </tbody>\n",
       "</table>\n",
       "<p>89 rows × 2 columns</p>\n",
       "</div>"
      ],
      "text/plain": [
       "    grouped_dir_path                                        subset_file\n",
       "0               temp                                      missing_repos\n",
       "1               temp                                      missing_users\n",
       "2               temp                               missing_orgs_dataset\n",
       "3               temp                               repo_dataset_updated\n",
       "4      derived_files  updated_search_queries_user_join_subset_dh_dat...\n",
       "..               ...                                                ...\n",
       "181        user_data               users_searched_Humanidades+digitales\n",
       "183      large_files                      repo_subscribers_join_dataset\n",
       "184      large_files                       repo_stargazers_join_dataset\n",
       "186      large_files                                      users_dataset\n",
       "204      large_files                                      repos_dataset\n",
       "\n",
       "[89 rows x 2 columns]"
      ]
     },
     "execution_count": 47,
     "metadata": {},
     "output_type": "execute_result"
    }
   ],
   "source": [
    "files_df['grouped_dir_path'] = files_df.dir_path.str.split(\"datasets/\").str[1].str.split(\"/\").str[0]\n",
    "\n",
    "files_df[['grouped_dir_path', 'subset_file']].drop_duplicates()"
   ]
  },
  {
   "cell_type": "code",
   "execution_count": 48,
   "metadata": {},
   "outputs": [
    {
     "data": {
      "text/plain": [
       "array(['temp', 'derived_files', 'repo_data', 'join_files', 'entity_files',\n",
       "       'user_data', 'large_files'], dtype=object)"
      ]
     },
     "execution_count": 48,
     "metadata": {},
     "output_type": "execute_result"
    }
   ],
   "source": [
    "files_df.grouped_dir_path.unique()"
   ]
  },
  {
   "cell_type": "code",
   "execution_count": 30,
   "metadata": {},
   "outputs": [
    {
     "name": "stderr",
     "output_type": "stream",
     "text": [
      "Processing files:   0%|          | 0/50 [00:00<?, ?it/s]"
     ]
    },
    {
     "data": {
      "text/html": [
       "<pre style=\"white-space:pre;overflow-x:auto;line-height:normal;font-family:Menlo,'DejaVu Sans Mono',consolas,'Courier New',monospace\"><span style=\"color: #008000; text-decoration-color: #008000; font-weight: bold\">Processing file: repos_searched_Abantu</span>\n",
       "</pre>\n"
      ],
      "text/plain": [
       "\u001b[1;32mProcessing file: repos_searched_Abantu\u001b[0m\n"
      ]
     },
     "metadata": {},
     "output_type": "display_data"
    },
    {
     "name": "stdout",
     "output_type": "stream",
     "text": [
      "2023-03-14 10\n"
     ]
    },
    {
     "data": {
      "text/html": [
       "<pre style=\"white-space:pre;overflow-x:auto;line-height:normal;font-family:Menlo,'DejaVu Sans Mono',consolas,'Courier New',monospace\">..<span style=\"color: #800080; text-decoration-color: #800080\">/../datasets/searched_repo_data/humanities/</span><span style=\"color: #ff00ff; text-decoration-color: #ff00ff\">repos_searched_Abantu.csv</span>\n",
       "</pre>\n"
      ],
      "text/plain": [
       "..\u001b[35m/../datasets/searched_repo_data/humanities/\u001b[0m\u001b[95mrepos_searched_Abantu.csv\u001b[0m\n"
      ]
     },
     "metadata": {},
     "output_type": "display_data"
    },
    {
     "name": "stderr",
     "output_type": "stream",
     "text": [
      "Processing files:   4%|▍         | 2/50 [00:00<00:08,  5.73it/s]"
     ]
    },
    {
     "data": {
      "text/html": [
       "<pre style=\"white-space:pre;overflow-x:auto;line-height:normal;font-family:Menlo,'DejaVu Sans Mono',consolas,'Courier New',monospace\"><span style=\"color: #008000; text-decoration-color: #008000; font-weight: bold\">Processing file: repos_searched_Anthu</span>\n",
       "</pre>\n"
      ],
      "text/plain": [
       "\u001b[1;32mProcessing file: repos_searched_Anthu\u001b[0m\n"
      ]
     },
     "metadata": {},
     "output_type": "display_data"
    },
    {
     "name": "stdout",
     "output_type": "stream",
     "text": [
      "2023-03-14 10\n"
     ]
    },
    {
     "data": {
      "text/html": [
       "<pre style=\"white-space:pre;overflow-x:auto;line-height:normal;font-family:Menlo,'DejaVu Sans Mono',consolas,'Courier New',monospace\">..<span style=\"color: #800080; text-decoration-color: #800080\">/../datasets/searched_repo_data/humanities/</span><span style=\"color: #ff00ff; text-decoration-color: #ff00ff\">repos_searched_Anthu.csv</span>\n",
       "</pre>\n"
      ],
      "text/plain": [
       "..\u001b[35m/../datasets/searched_repo_data/humanities/\u001b[0m\u001b[95mrepos_searched_Anthu.csv\u001b[0m\n"
      ]
     },
     "metadata": {},
     "output_type": "display_data"
    },
    {
     "name": "stderr",
     "output_type": "stream",
     "text": [
      "Processing files:   6%|▌         | 3/50 [00:01<00:34,  1.35it/s]"
     ]
    },
    {
     "data": {
      "text/html": [
       "<pre style=\"white-space:pre;overflow-x:auto;line-height:normal;font-family:Menlo,'DejaVu Sans Mono',consolas,'Courier New',monospace\"><span style=\"color: #008000; text-decoration-color: #008000; font-weight: bold\">Processing file: repos_searched_Análise+cultural</span>\n",
       "</pre>\n"
      ],
      "text/plain": [
       "\u001b[1;32mProcessing file: repos_searched_Análise+cultural\u001b[0m\n"
      ]
     },
     "metadata": {},
     "output_type": "display_data"
    },
    {
     "name": "stdout",
     "output_type": "stream",
     "text": [
      "2023-03-14 10\n"
     ]
    },
    {
     "data": {
      "text/html": [
       "<pre style=\"white-space:pre;overflow-x:auto;line-height:normal;font-family:Menlo,'DejaVu Sans Mono',consolas,'Courier New',monospace\">..<span style=\"color: #800080; text-decoration-color: #800080\">/../datasets/searched_repo_data/cultural_analytics/</span><span style=\"color: #ff00ff; text-decoration-color: #ff00ff\">repos_searched_Análise+cultural.csv</span>\n",
       "</pre>\n"
      ],
      "text/plain": [
       "..\u001b[35m/../datasets/searched_repo_data/cultural_analytics/\u001b[0m\u001b[95mrepos_searched_Análise+cultural.csv\u001b[0m\n"
      ]
     },
     "metadata": {},
     "output_type": "display_data"
    },
    {
     "name": "stderr",
     "output_type": "stream",
     "text": [
      "Processing files:   8%|▊         | 4/50 [00:03<00:45,  1.02it/s]"
     ]
    },
    {
     "data": {
      "text/html": [
       "<pre style=\"white-space:pre;overflow-x:auto;line-height:normal;font-family:Menlo,'DejaVu Sans Mono',consolas,'Courier New',monospace\"><span style=\"color: #008000; text-decoration-color: #008000; font-weight: bold\">Processing file: repos_searched_Botho</span>\n",
       "</pre>\n"
      ],
      "text/plain": [
       "\u001b[1;32mProcessing file: repos_searched_Botho\u001b[0m\n"
      ]
     },
     "metadata": {},
     "output_type": "display_data"
    },
    {
     "name": "stdout",
     "output_type": "stream",
     "text": [
      "2023-03-14 10\n",
      "2022-12-10 10\n",
      "2023-03-18 10\n"
     ]
    },
    {
     "data": {
      "text/html": [
       "<pre style=\"white-space:pre;overflow-x:auto;line-height:normal;font-family:Menlo,'DejaVu Sans Mono',consolas,'Courier New',monospace\">..<span style=\"color: #800080; text-decoration-color: #800080\">/../datasets/searched_repo_data/humanities/</span><span style=\"color: #ff00ff; text-decoration-color: #ff00ff\">repos_searched_Botho.csv</span>\n",
       "</pre>\n"
      ],
      "text/plain": [
       "..\u001b[35m/../datasets/searched_repo_data/humanities/\u001b[0m\u001b[95mrepos_searched_Botho.csv\u001b[0m\n"
      ]
     },
     "metadata": {},
     "output_type": "display_data"
    },
    {
     "name": "stderr",
     "output_type": "stream",
     "text": [
      "Processing files:  10%|█         | 5/50 [00:06<01:20,  1.79s/it]"
     ]
    },
    {
     "data": {
      "text/html": [
       "<pre style=\"white-space:pre;overflow-x:auto;line-height:normal;font-family:Menlo,'DejaVu Sans Mono',consolas,'Courier New',monospace\"><span style=\"color: #008000; text-decoration-color: #008000; font-weight: bold\">Processing file: repos_searched_Computational+Humanities</span>\n",
       "</pre>\n"
      ],
      "text/plain": [
       "\u001b[1;32mProcessing file: repos_searched_Computational+Humanities\u001b[0m\n"
      ]
     },
     "metadata": {},
     "output_type": "display_data"
    },
    {
     "name": "stdout",
     "output_type": "stream",
     "text": [
      "2023-03-14 10\n"
     ]
    },
    {
     "data": {
      "text/html": [
       "<pre style=\"white-space:pre;overflow-x:auto;line-height:normal;font-family:Menlo,'DejaVu Sans Mono',consolas,'Courier New',monospace\">..<span style=\"color: #800080; text-decoration-color: #800080\">/../datasets/searched_repo_data/computational_humanities/</span><span style=\"color: #ff00ff; text-decoration-color: #ff00ff\">repos_searched_Computational+Humanities.csv</span>\n",
       "</pre>\n"
      ],
      "text/plain": [
       "..\u001b[35m/../datasets/searched_repo_data/computational_humanities/\u001b[0m\u001b[95mrepos_searched_Computational+Humanities.csv\u001b[0m\n"
      ]
     },
     "metadata": {},
     "output_type": "display_data"
    },
    {
     "name": "stderr",
     "output_type": "stream",
     "text": [
      "Processing files:  12%|█▏        | 6/50 [00:07<01:03,  1.44s/it]"
     ]
    },
    {
     "data": {
      "text/html": [
       "<pre style=\"white-space:pre;overflow-x:auto;line-height:normal;font-family:Menlo,'DejaVu Sans Mono',consolas,'Courier New',monospace\"><span style=\"color: #008000; text-decoration-color: #008000; font-weight: bold\">Processing file: repos_searched_Cultural+Analytics</span>\n",
       "</pre>\n"
      ],
      "text/plain": [
       "\u001b[1;32mProcessing file: repos_searched_Cultural+Analytics\u001b[0m\n"
      ]
     },
     "metadata": {},
     "output_type": "display_data"
    },
    {
     "name": "stdout",
     "output_type": "stream",
     "text": [
      "2023-03-14 10\n"
     ]
    },
    {
     "data": {
      "text/html": [
       "<pre style=\"white-space:pre;overflow-x:auto;line-height:normal;font-family:Menlo,'DejaVu Sans Mono',consolas,'Courier New',monospace\">..<span style=\"color: #800080; text-decoration-color: #800080\">/../datasets/searched_repo_data/cultural_analytics/</span><span style=\"color: #ff00ff; text-decoration-color: #ff00ff\">repos_searched_Cultural+Analytics.csv</span>\n",
       "</pre>\n"
      ],
      "text/plain": [
       "..\u001b[35m/../datasets/searched_repo_data/cultural_analytics/\u001b[0m\u001b[95mrepos_searched_Cultural+Analytics.csv\u001b[0m\n"
      ]
     },
     "metadata": {},
     "output_type": "display_data"
    },
    {
     "name": "stderr",
     "output_type": "stream",
     "text": [
      "Processing files:  14%|█▍        | 7/50 [00:08<00:56,  1.32s/it]"
     ]
    },
    {
     "data": {
      "text/html": [
       "<pre style=\"white-space:pre;overflow-x:auto;line-height:normal;font-family:Menlo,'DejaVu Sans Mono',consolas,'Courier New',monospace\"><span style=\"color: #008000; text-decoration-color: #008000; font-weight: bold\">Processing file: repos_searched_Dan+Adam</span>\n",
       "</pre>\n"
      ],
      "text/plain": [
       "\u001b[1;32mProcessing file: repos_searched_Dan+Adam\u001b[0m\n"
      ]
     },
     "metadata": {},
     "output_type": "display_data"
    },
    {
     "name": "stdout",
     "output_type": "stream",
     "text": [
      "2023-03-14 10\n"
     ]
    },
    {
     "data": {
      "text/html": [
       "<pre style=\"white-space:pre;overflow-x:auto;line-height:normal;font-family:Menlo,'DejaVu Sans Mono',consolas,'Courier New',monospace\">..<span style=\"color: #800080; text-decoration-color: #800080\">/../datasets/searched_repo_data/humanities/</span><span style=\"color: #ff00ff; text-decoration-color: #ff00ff\">repos_searched_Dan+Adam.csv</span>\n",
       "</pre>\n"
      ],
      "text/plain": [
       "..\u001b[35m/../datasets/searched_repo_data/humanities/\u001b[0m\u001b[95mrepos_searched_Dan+Adam.csv\u001b[0m\n"
      ]
     },
     "metadata": {},
     "output_type": "display_data"
    },
    {
     "name": "stderr",
     "output_type": "stream",
     "text": [
      "Processing files:  16%|█▌        | 8/50 [00:09<00:48,  1.16s/it]"
     ]
    },
    {
     "data": {
      "text/html": [
       "<pre style=\"white-space:pre;overflow-x:auto;line-height:normal;font-family:Menlo,'DejaVu Sans Mono',consolas,'Courier New',monospace\"><span style=\"color: #008000; text-decoration-color: #008000; font-weight: bold\">Processing file: repos_searched_Digital+Cultural+Heritage</span>\n",
       "</pre>\n"
      ],
      "text/plain": [
       "\u001b[1;32mProcessing file: repos_searched_Digital+Cultural+Heritage\u001b[0m\n"
      ]
     },
     "metadata": {},
     "output_type": "display_data"
    },
    {
     "name": "stdout",
     "output_type": "stream",
     "text": [
      "2023-03-14 10\n"
     ]
    },
    {
     "data": {
      "text/html": [
       "<pre style=\"white-space:pre;overflow-x:auto;line-height:normal;font-family:Menlo,'DejaVu Sans Mono',consolas,'Courier New',monospace\">..<span style=\"color: #800080; text-decoration-color: #800080\">/../datasets/searched_repo_data/digital_cultural_heritage/</span><span style=\"color: #ff00ff; text-decoration-color: #ff00ff\">repos_searched_Digital+Cultural+Heritage.csv</span>\n",
       "</pre>\n"
      ],
      "text/plain": [
       "..\u001b[35m/../datasets/searched_repo_data/digital_cultural_heritage/\u001b[0m\u001b[95mrepos_searched_Digital+Cultural+Heritage.csv\u001b[0m\n"
      ]
     },
     "metadata": {},
     "output_type": "display_data"
    },
    {
     "name": "stderr",
     "output_type": "stream",
     "text": [
      "Processing files:  18%|█▊        | 9/50 [00:09<00:39,  1.03it/s]"
     ]
    },
    {
     "data": {
      "text/html": [
       "<pre style=\"white-space:pre;overflow-x:auto;line-height:normal;font-family:Menlo,'DejaVu Sans Mono',consolas,'Courier New',monospace\"><span style=\"color: #008000; text-decoration-color: #008000; font-weight: bold\">Processing file: repos_searched_Digital+Geschicht</span>\n",
       "</pre>\n"
      ],
      "text/plain": [
       "\u001b[1;32mProcessing file: repos_searched_Digital+Geschicht\u001b[0m\n"
      ]
     },
     "metadata": {},
     "output_type": "display_data"
    },
    {
     "name": "stdout",
     "output_type": "stream",
     "text": [
      "2022-12-11 10\n",
      "2023-03-14 10\n"
     ]
    },
    {
     "data": {
      "text/html": [
       "<pre style=\"white-space:pre;overflow-x:auto;line-height:normal;font-family:Menlo,'DejaVu Sans Mono',consolas,'Courier New',monospace\">..<span style=\"color: #800080; text-decoration-color: #800080\">/../datasets/searched_repo_data/digital_history/</span><span style=\"color: #ff00ff; text-decoration-color: #ff00ff\">repos_searched_Digital+Geschicht.csv</span>\n",
       "</pre>\n"
      ],
      "text/plain": [
       "..\u001b[35m/../datasets/searched_repo_data/digital_history/\u001b[0m\u001b[95mrepos_searched_Digital+Geschicht.csv\u001b[0m\n"
      ]
     },
     "metadata": {},
     "output_type": "display_data"
    },
    {
     "data": {
      "text/html": [
       "<pre style=\"white-space:pre;overflow-x:auto;line-height:normal;font-family:Menlo,'DejaVu Sans Mono',consolas,'Courier New',monospace\"><span style=\"color: #008000; text-decoration-color: #008000; font-weight: bold\">Processing file: repos_searched_Digital+History</span>\n",
       "</pre>\n"
      ],
      "text/plain": [
       "\u001b[1;32mProcessing file: repos_searched_Digital+History\u001b[0m\n"
      ]
     },
     "metadata": {},
     "output_type": "display_data"
    },
    {
     "name": "stdout",
     "output_type": "stream",
     "text": [
      "2023-03-14 10\n",
      "2023-03-18 10\n"
     ]
    },
    {
     "data": {
      "text/html": [
       "<pre style=\"white-space:pre;overflow-x:auto;line-height:normal;font-family:Menlo,'DejaVu Sans Mono',consolas,'Courier New',monospace\">..<span style=\"color: #800080; text-decoration-color: #800080\">/../datasets/searched_repo_data/digital_history/</span><span style=\"color: #ff00ff; text-decoration-color: #ff00ff\">repos_searched_Digital+History.csv</span>\n",
       "</pre>\n"
      ],
      "text/plain": [
       "..\u001b[35m/../datasets/searched_repo_data/digital_history/\u001b[0m\u001b[95mrepos_searched_Digital+History.csv\u001b[0m\n"
      ]
     },
     "metadata": {},
     "output_type": "display_data"
    },
    {
     "name": "stderr",
     "output_type": "stream",
     "text": [
      "Processing files:  22%|██▏       | 11/50 [00:20<01:54,  2.93s/it]"
     ]
    },
    {
     "data": {
      "text/html": [
       "<pre style=\"white-space:pre;overflow-x:auto;line-height:normal;font-family:Menlo,'DejaVu Sans Mono',consolas,'Courier New',monospace\"><span style=\"color: #008000; text-decoration-color: #008000; font-weight: bold\">Processing file: repos_searched_Digital+Humanities_2008</span>\n",
       "</pre>\n"
      ],
      "text/plain": [
       "\u001b[1;32mProcessing file: repos_searched_Digital+Humanities_2008\u001b[0m\n"
      ]
     },
     "metadata": {},
     "output_type": "display_data"
    },
    {
     "name": "stdout",
     "output_type": "stream",
     "text": [
      "2023-03-14 10\n",
      "2023-03-18 10\n"
     ]
    },
    {
     "data": {
      "text/html": [
       "<pre style=\"white-space:pre;overflow-x:auto;line-height:normal;font-family:Menlo,'DejaVu Sans Mono',consolas,'Courier New',monospace\">..<span style=\"color: #800080; text-decoration-color: #800080\">/../datasets/searched_repo_data/digital_humanities/</span><span style=\"color: #ff00ff; text-decoration-color: #ff00ff\">repos_searched_Digital+Humanities_2008.csv</span>\n",
       "</pre>\n"
      ],
      "text/plain": [
       "..\u001b[35m/../datasets/searched_repo_data/digital_humanities/\u001b[0m\u001b[95mrepos_searched_Digital+Humanities_2008.csv\u001b[0m\n"
      ]
     },
     "metadata": {},
     "output_type": "display_data"
    },
    {
     "data": {
      "text/html": [
       "<pre style=\"white-space:pre;overflow-x:auto;line-height:normal;font-family:Menlo,'DejaVu Sans Mono',consolas,'Courier New',monospace\"><span style=\"color: #008000; text-decoration-color: #008000; font-weight: bold\">Processing file: repos_searched_Digital+historia</span>\n",
       "</pre>\n"
      ],
      "text/plain": [
       "\u001b[1;32mProcessing file: repos_searched_Digital+historia\u001b[0m\n"
      ]
     },
     "metadata": {},
     "output_type": "display_data"
    },
    {
     "name": "stdout",
     "output_type": "stream",
     "text": [
      "2023-03-14 10\n"
     ]
    },
    {
     "data": {
      "text/html": [
       "<pre style=\"white-space:pre;overflow-x:auto;line-height:normal;font-family:Menlo,'DejaVu Sans Mono',consolas,'Courier New',monospace\">..<span style=\"color: #800080; text-decoration-color: #800080\">/../datasets/searched_repo_data/digital_history/</span><span style=\"color: #ff00ff; text-decoration-color: #ff00ff\">repos_searched_Digital+historia.csv</span>\n",
       "</pre>\n"
      ],
      "text/plain": [
       "..\u001b[35m/../datasets/searched_repo_data/digital_history/\u001b[0m\u001b[95mrepos_searched_Digital+historia.csv\u001b[0m\n"
      ]
     },
     "metadata": {},
     "output_type": "display_data"
    },
    {
     "name": "stderr",
     "output_type": "stream",
     "text": [
      "Processing files:  26%|██▌       | 13/50 [00:20<01:09,  1.87s/it]"
     ]
    },
    {
     "data": {
      "text/html": [
       "<pre style=\"white-space:pre;overflow-x:auto;line-height:normal;font-family:Menlo,'DejaVu Sans Mono',consolas,'Courier New',monospace\"><span style=\"color: #008000; text-decoration-color: #008000; font-weight: bold\">Processing file: repos_searched_Dijital+Tarih</span>\n",
       "</pre>\n"
      ],
      "text/plain": [
       "\u001b[1;32mProcessing file: repos_searched_Dijital+Tarih\u001b[0m\n"
      ]
     },
     "metadata": {},
     "output_type": "display_data"
    },
    {
     "name": "stdout",
     "output_type": "stream",
     "text": [
      "2023-03-14 10\n"
     ]
    },
    {
     "data": {
      "text/html": [
       "<pre style=\"white-space:pre;overflow-x:auto;line-height:normal;font-family:Menlo,'DejaVu Sans Mono',consolas,'Courier New',monospace\">..<span style=\"color: #800080; text-decoration-color: #800080\">/../datasets/searched_repo_data/digital_history/</span><span style=\"color: #ff00ff; text-decoration-color: #ff00ff\">repos_searched_Dijital+Tarih.csv</span>\n",
       "</pre>\n"
      ],
      "text/plain": [
       "..\u001b[35m/../datasets/searched_repo_data/digital_history/\u001b[0m\u001b[95mrepos_searched_Dijital+Tarih.csv\u001b[0m\n"
      ]
     },
     "metadata": {},
     "output_type": "display_data"
    },
    {
     "data": {
      "text/html": [
       "<pre style=\"white-space:pre;overflow-x:auto;line-height:normal;font-family:Menlo,'DejaVu Sans Mono',consolas,'Courier New',monospace\"><span style=\"color: #008000; text-decoration-color: #008000; font-weight: bold\">Processing file: repos_searched_Histoire+numérique</span>\n",
       "</pre>\n"
      ],
      "text/plain": [
       "\u001b[1;32mProcessing file: repos_searched_Histoire+numérique\u001b[0m\n"
      ]
     },
     "metadata": {},
     "output_type": "display_data"
    },
    {
     "name": "stdout",
     "output_type": "stream",
     "text": [
      "2023-03-14 10\n"
     ]
    },
    {
     "data": {
      "text/html": [
       "<pre style=\"white-space:pre;overflow-x:auto;line-height:normal;font-family:Menlo,'DejaVu Sans Mono',consolas,'Courier New',monospace\">..<span style=\"color: #800080; text-decoration-color: #800080\">/../datasets/searched_repo_data/digital_history/</span><span style=\"color: #ff00ff; text-decoration-color: #ff00ff\">repos_searched_Histoire+numérique.csv</span>\n",
       "</pre>\n"
      ],
      "text/plain": [
       "..\u001b[35m/../datasets/searched_repo_data/digital_history/\u001b[0m\u001b[95mrepos_searched_Histoire+numérique.csv\u001b[0m\n"
      ]
     },
     "metadata": {},
     "output_type": "display_data"
    },
    {
     "name": "stderr",
     "output_type": "stream",
     "text": [
      "Processing files:  30%|███       | 15/50 [00:20<00:43,  1.25s/it]"
     ]
    },
    {
     "data": {
      "text/html": [
       "<pre style=\"white-space:pre;overflow-x:auto;line-height:normal;font-family:Menlo,'DejaVu Sans Mono',consolas,'Courier New',monospace\"><span style=\"color: #008000; text-decoration-color: #008000; font-weight: bold\">Processing file: repos_searched_Historia+Digital</span>\n",
       "</pre>\n"
      ],
      "text/plain": [
       "\u001b[1;32mProcessing file: repos_searched_Historia+Digital\u001b[0m\n"
      ]
     },
     "metadata": {},
     "output_type": "display_data"
    },
    {
     "name": "stdout",
     "output_type": "stream",
     "text": [
      "2023-03-14 10\n"
     ]
    },
    {
     "data": {
      "text/html": [
       "<pre style=\"white-space:pre;overflow-x:auto;line-height:normal;font-family:Menlo,'DejaVu Sans Mono',consolas,'Courier New',monospace\">..<span style=\"color: #800080; text-decoration-color: #800080\">/../datasets/searched_repo_data/digital_history/</span><span style=\"color: #ff00ff; text-decoration-color: #ff00ff\">repos_searched_Historia+Digital.csv</span>\n",
       "</pre>\n"
      ],
      "text/plain": [
       "..\u001b[35m/../datasets/searched_repo_data/digital_history/\u001b[0m\u001b[95mrepos_searched_Historia+Digital.csv\u001b[0m\n"
      ]
     },
     "metadata": {},
     "output_type": "display_data"
    },
    {
     "name": "stderr",
     "output_type": "stream",
     "text": [
      "Processing files:  32%|███▏      | 16/50 [00:21<00:37,  1.11s/it]"
     ]
    },
    {
     "data": {
      "text/html": [
       "<pre style=\"white-space:pre;overflow-x:auto;line-height:normal;font-family:Menlo,'DejaVu Sans Mono',consolas,'Courier New',monospace\"><span style=\"color: #008000; text-decoration-color: #008000; font-weight: bold\">Processing file: repos_searched_Historia+Pública</span>\n",
       "</pre>\n"
      ],
      "text/plain": [
       "\u001b[1;32mProcessing file: repos_searched_Historia+Pública\u001b[0m\n"
      ]
     },
     "metadata": {},
     "output_type": "display_data"
    },
    {
     "name": "stdout",
     "output_type": "stream",
     "text": [
      "2023-03-14 10\n"
     ]
    },
    {
     "data": {
      "text/html": [
       "<pre style=\"white-space:pre;overflow-x:auto;line-height:normal;font-family:Menlo,'DejaVu Sans Mono',consolas,'Courier New',monospace\">..<span style=\"color: #800080; text-decoration-color: #800080\">/../datasets/searched_repo_data/public_history/</span><span style=\"color: #ff00ff; text-decoration-color: #ff00ff\">repos_searched_Historia+Pública.csv</span>\n",
       "</pre>\n"
      ],
      "text/plain": [
       "..\u001b[35m/../datasets/searched_repo_data/public_history/\u001b[0m\u001b[95mrepos_searched_Historia+Pública.csv\u001b[0m\n"
      ]
     },
     "metadata": {},
     "output_type": "display_data"
    },
    {
     "name": "stderr",
     "output_type": "stream",
     "text": [
      "Processing files:  34%|███▍      | 17/50 [00:21<00:29,  1.13it/s]"
     ]
    },
    {
     "data": {
      "text/html": [
       "<pre style=\"white-space:pre;overflow-x:auto;line-height:normal;font-family:Menlo,'DejaVu Sans Mono',consolas,'Courier New',monospace\"><span style=\"color: #008000; text-decoration-color: #008000; font-weight: bold\">Processing file: repos_searched_Historia+cyfrowa</span>\n",
       "</pre>\n"
      ],
      "text/plain": [
       "\u001b[1;32mProcessing file: repos_searched_Historia+cyfrowa\u001b[0m\n"
      ]
     },
     "metadata": {},
     "output_type": "display_data"
    },
    {
     "name": "stdout",
     "output_type": "stream",
     "text": [
      "2023-03-14 10\n"
     ]
    },
    {
     "data": {
      "text/html": [
       "<pre style=\"white-space:pre;overflow-x:auto;line-height:normal;font-family:Menlo,'DejaVu Sans Mono',consolas,'Courier New',monospace\">..<span style=\"color: #800080; text-decoration-color: #800080\">/../datasets/searched_repo_data/digital_history/</span><span style=\"color: #ff00ff; text-decoration-color: #ff00ff\">repos_searched_Historia+cyfrowa.csv</span>\n",
       "</pre>\n"
      ],
      "text/plain": [
       "..\u001b[35m/../datasets/searched_repo_data/digital_history/\u001b[0m\u001b[95mrepos_searched_Historia+cyfrowa.csv\u001b[0m\n"
      ]
     },
     "metadata": {},
     "output_type": "display_data"
    },
    {
     "data": {
      "text/html": [
       "<pre style=\"white-space:pre;overflow-x:auto;line-height:normal;font-family:Menlo,'DejaVu Sans Mono',consolas,'Courier New',monospace\"><span style=\"color: #008000; text-decoration-color: #008000; font-weight: bold\">Processing file: repos_searched_Història+digital</span>\n",
       "</pre>\n"
      ],
      "text/plain": [
       "\u001b[1;32mProcessing file: repos_searched_Història+digital\u001b[0m\n"
      ]
     },
     "metadata": {},
     "output_type": "display_data"
    },
    {
     "name": "stdout",
     "output_type": "stream",
     "text": [
      "2023-03-14 10\n"
     ]
    },
    {
     "data": {
      "text/html": [
       "<pre style=\"white-space:pre;overflow-x:auto;line-height:normal;font-family:Menlo,'DejaVu Sans Mono',consolas,'Courier New',monospace\">..<span style=\"color: #800080; text-decoration-color: #800080\">/../datasets/searched_repo_data/digital_history/</span><span style=\"color: #ff00ff; text-decoration-color: #ff00ff\">repos_searched_Història+digital.csv</span>\n",
       "</pre>\n"
      ],
      "text/plain": [
       "..\u001b[35m/../datasets/searched_repo_data/digital_history/\u001b[0m\u001b[95mrepos_searched_Història+digital.csv\u001b[0m\n"
      ]
     },
     "metadata": {},
     "output_type": "display_data"
    },
    {
     "name": "stderr",
     "output_type": "stream",
     "text": [
      "Processing files:  38%|███▊      | 19/50 [00:22<00:19,  1.59it/s]"
     ]
    },
    {
     "data": {
      "text/html": [
       "<pre style=\"white-space:pre;overflow-x:auto;line-height:normal;font-family:Menlo,'DejaVu Sans Mono',consolas,'Courier New',monospace\"><span style=\"color: #008000; text-decoration-color: #008000; font-weight: bold\">Processing file: repos_searched_História+digital</span>\n",
       "</pre>\n"
      ],
      "text/plain": [
       "\u001b[1;32mProcessing file: repos_searched_História+digital\u001b[0m\n"
      ]
     },
     "metadata": {},
     "output_type": "display_data"
    },
    {
     "name": "stdout",
     "output_type": "stream",
     "text": [
      "2023-03-14 10\n"
     ]
    },
    {
     "data": {
      "text/html": [
       "<pre style=\"white-space:pre;overflow-x:auto;line-height:normal;font-family:Menlo,'DejaVu Sans Mono',consolas,'Courier New',monospace\">..<span style=\"color: #800080; text-decoration-color: #800080\">/../datasets/searched_repo_data/digital_history/</span><span style=\"color: #ff00ff; text-decoration-color: #ff00ff\">repos_searched_História+digital.csv</span>\n",
       "</pre>\n"
      ],
      "text/plain": [
       "..\u001b[35m/../datasets/searched_repo_data/digital_history/\u001b[0m\u001b[95mrepos_searched_História+digital.csv\u001b[0m\n"
      ]
     },
     "metadata": {},
     "output_type": "display_data"
    },
    {
     "name": "stderr",
     "output_type": "stream",
     "text": [
      "Processing files:  40%|████      | 20/50 [00:22<00:17,  1.73it/s]"
     ]
    },
    {
     "data": {
      "text/html": [
       "<pre style=\"white-space:pre;overflow-x:auto;line-height:normal;font-family:Menlo,'DejaVu Sans Mono',consolas,'Courier New',monospace\"><span style=\"color: #008000; text-decoration-color: #008000; font-weight: bold\">Processing file: repos_searched_Humanidades</span>\n",
       "</pre>\n"
      ],
      "text/plain": [
       "\u001b[1;32mProcessing file: repos_searched_Humanidades\u001b[0m\n"
      ]
     },
     "metadata": {},
     "output_type": "display_data"
    },
    {
     "name": "stdout",
     "output_type": "stream",
     "text": [
      "2022-12-11 10\n",
      "2023-03-09 10\n",
      "2023-03-10 10\n",
      "2023-03-14 10\n"
     ]
    },
    {
     "data": {
      "text/html": [
       "<pre style=\"white-space:pre;overflow-x:auto;line-height:normal;font-family:Menlo,'DejaVu Sans Mono',consolas,'Courier New',monospace\">..<span style=\"color: #800080; text-decoration-color: #800080\">/../datasets/searched_repo_data/humanities/</span><span style=\"color: #ff00ff; text-decoration-color: #ff00ff\">repos_searched_Humanidades.csv</span>\n",
       "</pre>\n"
      ],
      "text/plain": [
       "..\u001b[35m/../datasets/searched_repo_data/humanities/\u001b[0m\u001b[95mrepos_searched_Humanidades.csv\u001b[0m\n"
      ]
     },
     "metadata": {},
     "output_type": "display_data"
    },
    {
     "name": "stderr",
     "output_type": "stream",
     "text": [
      "Processing files:  42%|████▏     | 21/50 [00:27<00:45,  1.58s/it]"
     ]
    },
    {
     "data": {
      "text/html": [
       "<pre style=\"white-space:pre;overflow-x:auto;line-height:normal;font-family:Menlo,'DejaVu Sans Mono',consolas,'Courier New',monospace\"><span style=\"color: #008000; text-decoration-color: #008000; font-weight: bold\">Processing file: repos_searched_Humanidades+Digitais</span>\n",
       "</pre>\n"
      ],
      "text/plain": [
       "\u001b[1;32mProcessing file: repos_searched_Humanidades+Digitais\u001b[0m\n"
      ]
     },
     "metadata": {},
     "output_type": "display_data"
    },
    {
     "name": "stdout",
     "output_type": "stream",
     "text": [
      "2023-03-14 10\n"
     ]
    },
    {
     "data": {
      "text/html": [
       "<pre style=\"white-space:pre;overflow-x:auto;line-height:normal;font-family:Menlo,'DejaVu Sans Mono',consolas,'Courier New',monospace\">..<span style=\"color: #800080; text-decoration-color: #800080\">/../datasets/searched_repo_data/digital_humanities/</span><span style=\"color: #ff00ff; text-decoration-color: #ff00ff\">repos_searched_Humanidades+Digitais.csv</span>\n",
       "</pre>\n"
      ],
      "text/plain": [
       "..\u001b[35m/../datasets/searched_repo_data/digital_humanities/\u001b[0m\u001b[95mrepos_searched_Humanidades+Digitais.csv\u001b[0m\n"
      ]
     },
     "metadata": {},
     "output_type": "display_data"
    },
    {
     "name": "stderr",
     "output_type": "stream",
     "text": [
      "Processing files:  44%|████▍     | 22/50 [00:27<00:35,  1.25s/it]"
     ]
    },
    {
     "data": {
      "text/html": [
       "<pre style=\"white-space:pre;overflow-x:auto;line-height:normal;font-family:Menlo,'DejaVu Sans Mono',consolas,'Courier New',monospace\"><span style=\"color: #008000; text-decoration-color: #008000; font-weight: bold\">Processing file: repos_searched_Humanidades+digitales</span>\n",
       "</pre>\n"
      ],
      "text/plain": [
       "\u001b[1;32mProcessing file: repos_searched_Humanidades+digitales\u001b[0m\n"
      ]
     },
     "metadata": {},
     "output_type": "display_data"
    },
    {
     "name": "stdout",
     "output_type": "stream",
     "text": [
      "2022-11-22 10\n",
      "2022-11-18 10\n",
      "2022-11-27 10\n",
      "2022-12-11 10\n",
      "2023-03-14 10\n",
      "2022-11-02 10\n",
      "2022-11-01 10\n",
      "2022-11-12 10\n"
     ]
    },
    {
     "data": {
      "text/html": [
       "<pre style=\"white-space:pre;overflow-x:auto;line-height:normal;font-family:Menlo,'DejaVu Sans Mono',consolas,'Courier New',monospace\">..<span style=\"color: #800080; text-decoration-color: #800080\">/../datasets/searched_repo_data/digital_humanities/</span><span style=\"color: #ff00ff; text-decoration-color: #ff00ff\">repos_searched_Humanidades+digitales.csv</span>\n",
       "</pre>\n"
      ],
      "text/plain": [
       "..\u001b[35m/../datasets/searched_repo_data/digital_humanities/\u001b[0m\u001b[95mrepos_searched_Humanidades+digitales.csv\u001b[0m\n"
      ]
     },
     "metadata": {},
     "output_type": "display_data"
    },
    {
     "name": "stderr",
     "output_type": "stream",
     "text": [
      "Processing files:  46%|████▌     | 23/50 [00:28<00:29,  1.10s/it]"
     ]
    },
    {
     "data": {
      "text/html": [
       "<pre style=\"white-space:pre;overflow-x:auto;line-height:normal;font-family:Menlo,'DejaVu Sans Mono',consolas,'Courier New',monospace\"><span style=\"color: #008000; text-decoration-color: #008000; font-weight: bold\">Processing file: repos_searched_Humanities+Computational</span>\n",
       "</pre>\n"
      ],
      "text/plain": [
       "\u001b[1;32mProcessing file: repos_searched_Humanities+Computational\u001b[0m\n"
      ]
     },
     "metadata": {},
     "output_type": "display_data"
    },
    {
     "name": "stdout",
     "output_type": "stream",
     "text": [
      "2023-03-14 10\n"
     ]
    },
    {
     "data": {
      "text/html": [
       "<pre style=\"white-space:pre;overflow-x:auto;line-height:normal;font-family:Menlo,'DejaVu Sans Mono',consolas,'Courier New',monospace\">..<span style=\"color: #800080; text-decoration-color: #800080\">/../datasets/searched_repo_data/computational_humanities/</span><span style=\"color: #ff00ff; text-decoration-color: #ff00ff\">repos_searched_Humanities+Computational.csv</span>\n",
       "</pre>\n"
      ],
      "text/plain": [
       "..\u001b[35m/../datasets/searched_repo_data/computational_humanities/\u001b[0m\u001b[95mrepos_searched_Humanities+Computational.csv\u001b[0m\n"
      ]
     },
     "metadata": {},
     "output_type": "display_data"
    },
    {
     "name": "stderr",
     "output_type": "stream",
     "text": [
      "Processing files:  48%|████▊     | 24/50 [00:29<00:26,  1.02s/it]"
     ]
    },
    {
     "data": {
      "text/html": [
       "<pre style=\"white-space:pre;overflow-x:auto;line-height:normal;font-family:Menlo,'DejaVu Sans Mono',consolas,'Courier New',monospace\"><span style=\"color: #008000; text-decoration-color: #008000; font-weight: bold\">Processing file: repos_searched_Humanities_2008</span>\n",
       "</pre>\n"
      ],
      "text/plain": [
       "\u001b[1;32mProcessing file: repos_searched_Humanities_2008\u001b[0m\n"
      ]
     },
     "metadata": {},
     "output_type": "display_data"
    },
    {
     "name": "stdout",
     "output_type": "stream",
     "text": [
      "2023-03-18 10\n",
      "2022-12-11 10\n"
     ]
    },
    {
     "data": {
      "text/html": [
       "<pre style=\"white-space:pre;overflow-x:auto;line-height:normal;font-family:Menlo,'DejaVu Sans Mono',consolas,'Courier New',monospace\">..<span style=\"color: #800080; text-decoration-color: #800080\">/../datasets/searched_repo_data/humanities/</span><span style=\"color: #ff00ff; text-decoration-color: #ff00ff\">repos_searched_Humanities_2008.csv</span>\n",
       "</pre>\n"
      ],
      "text/plain": [
       "..\u001b[35m/../datasets/searched_repo_data/humanities/\u001b[0m\u001b[95mrepos_searched_Humanities_2008.csv\u001b[0m\n"
      ]
     },
     "metadata": {},
     "output_type": "display_data"
    },
    {
     "data": {
      "text/html": [
       "<pre style=\"white-space:pre;overflow-x:auto;line-height:normal;font-family:Menlo,'DejaVu Sans Mono',consolas,'Courier New',monospace\"><span style=\"color: #008000; text-decoration-color: #008000; font-weight: bold\">Processing file: repos_searched_Humanités</span>\n",
       "</pre>\n"
      ],
      "text/plain": [
       "\u001b[1;32mProcessing file: repos_searched_Humanités\u001b[0m\n"
      ]
     },
     "metadata": {},
     "output_type": "display_data"
    },
    {
     "name": "stdout",
     "output_type": "stream",
     "text": [
      "2022-12-11 10\n",
      "2023-03-14 10\n"
     ]
    },
    {
     "data": {
      "text/html": [
       "<pre style=\"white-space:pre;overflow-x:auto;line-height:normal;font-family:Menlo,'DejaVu Sans Mono',consolas,'Courier New',monospace\">..<span style=\"color: #800080; text-decoration-color: #800080\">/../datasets/searched_repo_data/humanities/</span><span style=\"color: #ff00ff; text-decoration-color: #ff00ff\">repos_searched_Humanités.csv</span>\n",
       "</pre>\n"
      ],
      "text/plain": [
       "..\u001b[35m/../datasets/searched_repo_data/humanities/\u001b[0m\u001b[95mrepos_searched_Humanités.csv\u001b[0m\n"
      ]
     },
     "metadata": {},
     "output_type": "display_data"
    },
    {
     "name": "stderr",
     "output_type": "stream",
     "text": [
      "Processing files:  52%|█████▏    | 26/50 [00:30<00:18,  1.27it/s]"
     ]
    },
    {
     "data": {
      "text/html": [
       "<pre style=\"white-space:pre;overflow-x:auto;line-height:normal;font-family:Menlo,'DejaVu Sans Mono',consolas,'Courier New',monospace\"><span style=\"color: #008000; text-decoration-color: #008000; font-weight: bold\">Processing file: repos_searched_Humanités+numériques</span>\n",
       "</pre>\n"
      ],
      "text/plain": [
       "\u001b[1;32mProcessing file: repos_searched_Humanités+numériques\u001b[0m\n"
      ]
     },
     "metadata": {},
     "output_type": "display_data"
    },
    {
     "name": "stdout",
     "output_type": "stream",
     "text": [
      "2022-12-11 10\n",
      "2022-11-18 10\n",
      "2022-11-27 10\n",
      "2022-11-02 10\n",
      "2022-11-01 10\n",
      "2022-11-12 10\n",
      "2023-03-14 10\n"
     ]
    },
    {
     "data": {
      "text/html": [
       "<pre style=\"white-space:pre;overflow-x:auto;line-height:normal;font-family:Menlo,'DejaVu Sans Mono',consolas,'Courier New',monospace\">..<span style=\"color: #800080; text-decoration-color: #800080\">/../datasets/searched_repo_data/digital_humanities/</span><span style=\"color: #ff00ff; text-decoration-color: #ff00ff\">repos_searched_Humanités+numériques.csv</span>\n",
       "</pre>\n"
      ],
      "text/plain": [
       "..\u001b[35m/../datasets/searched_repo_data/digital_humanities/\u001b[0m\u001b[95mrepos_searched_Humanités+numériques.csv\u001b[0m\n"
      ]
     },
     "metadata": {},
     "output_type": "display_data"
    },
    {
     "name": "stderr",
     "output_type": "stream",
     "text": [
      "Processing files:  54%|█████▍    | 27/50 [00:30<00:17,  1.33it/s]"
     ]
    },
    {
     "data": {
      "text/html": [
       "<pre style=\"white-space:pre;overflow-x:auto;line-height:normal;font-family:Menlo,'DejaVu Sans Mono',consolas,'Courier New',monospace\"><span style=\"color: #008000; text-decoration-color: #008000; font-weight: bold\">Processing file: repos_searched_I-Digital+Humanities</span>\n",
       "</pre>\n"
      ],
      "text/plain": [
       "\u001b[1;32mProcessing file: repos_searched_I-Digital+Humanities\u001b[0m\n"
      ]
     },
     "metadata": {},
     "output_type": "display_data"
    },
    {
     "name": "stdout",
     "output_type": "stream",
     "text": [
      "2023-03-14 10\n"
     ]
    },
    {
     "data": {
      "text/html": [
       "<pre style=\"white-space:pre;overflow-x:auto;line-height:normal;font-family:Menlo,'DejaVu Sans Mono',consolas,'Courier New',monospace\">..<span style=\"color: #800080; text-decoration-color: #800080\">/../datasets/searched_repo_data/digital_humanities/</span><span style=\"color: #ff00ff; text-decoration-color: #ff00ff\">repos_searched_I-Digital+Humanities.csv</span>\n",
       "</pre>\n"
      ],
      "text/plain": [
       "..\u001b[35m/../datasets/searched_repo_data/digital_humanities/\u001b[0m\u001b[95mrepos_searched_I-Digital+Humanities.csv\u001b[0m\n"
      ]
     },
     "metadata": {},
     "output_type": "display_data"
    },
    {
     "name": "stderr",
     "output_type": "stream",
     "text": [
      "Processing files:  56%|█████▌    | 28/50 [00:31<00:15,  1.41it/s]"
     ]
    },
    {
     "data": {
      "text/html": [
       "<pre style=\"white-space:pre;overflow-x:auto;line-height:normal;font-family:Menlo,'DejaVu Sans Mono',consolas,'Courier New',monospace\"><span style=\"color: #008000; text-decoration-color: #008000; font-weight: bold\">Processing file: repos_searched_Informatica+umanistica</span>\n",
       "</pre>\n"
      ],
      "text/plain": [
       "\u001b[1;32mProcessing file: repos_searched_Informatica+umanistica\u001b[0m\n"
      ]
     },
     "metadata": {},
     "output_type": "display_data"
    },
    {
     "name": "stdout",
     "output_type": "stream",
     "text": [
      "2023-03-14 10\n",
      "2022-12-11 10\n"
     ]
    },
    {
     "data": {
      "text/html": [
       "<pre style=\"white-space:pre;overflow-x:auto;line-height:normal;font-family:Menlo,'DejaVu Sans Mono',consolas,'Courier New',monospace\">..<span style=\"color: #800080; text-decoration-color: #800080\">/../datasets/searched_repo_data/digital_humanities/</span><span style=\"color: #ff00ff; text-decoration-color: #ff00ff\">repos_searched_Informatica+umanistica.csv</span>\n",
       "</pre>\n"
      ],
      "text/plain": [
       "..\u001b[35m/../datasets/searched_repo_data/digital_humanities/\u001b[0m\u001b[95mrepos_searched_Informatica+umanistica.csv\u001b[0m\n"
      ]
     },
     "metadata": {},
     "output_type": "display_data"
    },
    {
     "name": "stderr",
     "output_type": "stream",
     "text": [
      "Processing files:  58%|█████▊    | 29/50 [00:31<00:15,  1.39it/s]"
     ]
    },
    {
     "data": {
      "text/html": [
       "<pre style=\"white-space:pre;overflow-x:auto;line-height:normal;font-family:Menlo,'DejaVu Sans Mono',consolas,'Courier New',monospace\"><span style=\"color: #008000; text-decoration-color: #008000; font-weight: bold\">Processing file: repos_searched_Kemanusiaan</span>\n",
       "</pre>\n"
      ],
      "text/plain": [
       "\u001b[1;32mProcessing file: repos_searched_Kemanusiaan\u001b[0m\n"
      ]
     },
     "metadata": {},
     "output_type": "display_data"
    },
    {
     "name": "stdout",
     "output_type": "stream",
     "text": [
      "2023-03-14 10\n"
     ]
    },
    {
     "data": {
      "text/html": [
       "<pre style=\"white-space:pre;overflow-x:auto;line-height:normal;font-family:Menlo,'DejaVu Sans Mono',consolas,'Courier New',monospace\">..<span style=\"color: #800080; text-decoration-color: #800080\">/../datasets/searched_repo_data/humanities/</span><span style=\"color: #ff00ff; text-decoration-color: #ff00ff\">repos_searched_Kemanusiaan.csv</span>\n",
       "</pre>\n"
      ],
      "text/plain": [
       "..\u001b[35m/../datasets/searched_repo_data/humanities/\u001b[0m\u001b[95mrepos_searched_Kemanusiaan.csv\u001b[0m\n"
      ]
     },
     "metadata": {},
     "output_type": "display_data"
    },
    {
     "name": "stderr",
     "output_type": "stream",
     "text": [
      "Processing files:  60%|██████    | 30/50 [00:32<00:11,  1.74it/s]"
     ]
    },
    {
     "data": {
      "text/html": [
       "<pre style=\"white-space:pre;overflow-x:auto;line-height:normal;font-family:Menlo,'DejaVu Sans Mono',consolas,'Courier New',monospace\"><span style=\"color: #008000; text-decoration-color: #008000; font-weight: bold\">Processing file: repos_searched_Sastra</span>\n",
       "</pre>\n"
      ],
      "text/plain": [
       "\u001b[1;32mProcessing file: repos_searched_Sastra\u001b[0m\n"
      ]
     },
     "metadata": {},
     "output_type": "display_data"
    },
    {
     "name": "stdout",
     "output_type": "stream",
     "text": [
      "2023-03-16 10\n",
      "2023-03-09 10\n",
      "2023-03-18 10\n"
     ]
    },
    {
     "data": {
      "text/html": [
       "<pre style=\"white-space:pre;overflow-x:auto;line-height:normal;font-family:Menlo,'DejaVu Sans Mono',consolas,'Courier New',monospace\">..<span style=\"color: #800080; text-decoration-color: #800080\">/../datasets/searched_repo_data/humanities/</span><span style=\"color: #ff00ff; text-decoration-color: #ff00ff\">repos_searched_Sastra.csv</span>\n",
       "</pre>\n"
      ],
      "text/plain": [
       "..\u001b[35m/../datasets/searched_repo_data/humanities/\u001b[0m\u001b[95mrepos_searched_Sastra.csv\u001b[0m\n"
      ]
     },
     "metadata": {},
     "output_type": "display_data"
    },
    {
     "name": "stderr",
     "output_type": "stream",
     "text": [
      "Processing files:  62%|██████▏   | 31/50 [00:36<00:30,  1.60s/it]"
     ]
    },
    {
     "data": {
      "text/html": [
       "<pre style=\"white-space:pre;overflow-x:auto;line-height:normal;font-family:Menlo,'DejaVu Sans Mono',consolas,'Courier New',monospace\"><span style=\"color: #008000; text-decoration-color: #008000; font-weight: bold\">Processing file: repos_searched_Ubumuntu</span>\n",
       "</pre>\n"
      ],
      "text/plain": [
       "\u001b[1;32mProcessing file: repos_searched_Ubumuntu\u001b[0m\n"
      ]
     },
     "metadata": {},
     "output_type": "display_data"
    },
    {
     "name": "stdout",
     "output_type": "stream",
     "text": [
      "2023-03-16 10\n"
     ]
    },
    {
     "data": {
      "text/html": [
       "<pre style=\"white-space:pre;overflow-x:auto;line-height:normal;font-family:Menlo,'DejaVu Sans Mono',consolas,'Courier New',monospace\">..<span style=\"color: #800080; text-decoration-color: #800080\">/../datasets/searched_repo_data/humanities/</span><span style=\"color: #ff00ff; text-decoration-color: #ff00ff\">repos_searched_Ubumuntu.csv</span>\n",
       "</pre>\n"
      ],
      "text/plain": [
       "..\u001b[35m/../datasets/searched_repo_data/humanities/\u001b[0m\u001b[95mrepos_searched_Ubumuntu.csv\u001b[0m\n"
      ]
     },
     "metadata": {},
     "output_type": "display_data"
    },
    {
     "name": "stderr",
     "output_type": "stream",
     "text": [
      "Processing files:  64%|██████▍   | 32/50 [00:36<00:21,  1.18s/it]"
     ]
    },
    {
     "data": {
      "text/html": [
       "<pre style=\"white-space:pre;overflow-x:auto;line-height:normal;font-family:Menlo,'DejaVu Sans Mono',consolas,'Courier New',monospace\"><span style=\"color: #008000; text-decoration-color: #008000; font-weight: bold\">Processing file: repos_searched_Umanità</span>\n",
       "</pre>\n"
      ],
      "text/plain": [
       "\u001b[1;32mProcessing file: repos_searched_Umanità\u001b[0m\n"
      ]
     },
     "metadata": {},
     "output_type": "display_data"
    },
    {
     "name": "stdout",
     "output_type": "stream",
     "text": [
      "2023-03-16 10\n"
     ]
    },
    {
     "data": {
      "text/html": [
       "<pre style=\"white-space:pre;overflow-x:auto;line-height:normal;font-family:Menlo,'DejaVu Sans Mono',consolas,'Courier New',monospace\">..<span style=\"color: #800080; text-decoration-color: #800080\">/../datasets/searched_repo_data/humanities/</span><span style=\"color: #ff00ff; text-decoration-color: #ff00ff\">repos_searched_Umanità.csv</span>\n",
       "</pre>\n"
      ],
      "text/plain": [
       "..\u001b[35m/../datasets/searched_repo_data/humanities/\u001b[0m\u001b[95mrepos_searched_Umanità.csv\u001b[0m\n"
      ]
     },
     "metadata": {},
     "output_type": "display_data"
    },
    {
     "data": {
      "text/html": [
       "<pre style=\"white-space:pre;overflow-x:auto;line-height:normal;font-family:Menlo,'DejaVu Sans Mono',consolas,'Courier New',monospace\"><span style=\"color: #008000; text-decoration-color: #008000; font-weight: bold\">Processing file: repos_searched_história+pública</span>\n",
       "</pre>\n"
      ],
      "text/plain": [
       "\u001b[1;32mProcessing file: repos_searched_história+pública\u001b[0m\n"
      ]
     },
     "metadata": {},
     "output_type": "display_data"
    },
    {
     "name": "stdout",
     "output_type": "stream",
     "text": [
      "2023-03-16 10\n"
     ]
    },
    {
     "data": {
      "text/html": [
       "<pre style=\"white-space:pre;overflow-x:auto;line-height:normal;font-family:Menlo,'DejaVu Sans Mono',consolas,'Courier New',monospace\">..<span style=\"color: #800080; text-decoration-color: #800080\">/../datasets/searched_repo_data/public_history/</span><span style=\"color: #ff00ff; text-decoration-color: #ff00ff\">repos_searched_história+pública.csv</span>\n",
       "</pre>\n"
      ],
      "text/plain": [
       "..\u001b[35m/../datasets/searched_repo_data/public_history/\u001b[0m\u001b[95mrepos_searched_história+pública.csv\u001b[0m\n"
      ]
     },
     "metadata": {},
     "output_type": "display_data"
    },
    {
     "name": "stderr",
     "output_type": "stream",
     "text": [
      "Processing files:  68%|██████▊   | 34/50 [00:36<00:11,  1.44it/s]"
     ]
    },
    {
     "data": {
      "text/html": [
       "<pre style=\"white-space:pre;overflow-x:auto;line-height:normal;font-family:Menlo,'DejaVu Sans Mono',consolas,'Courier New',monospace\"><span style=\"color: #008000; text-decoration-color: #008000; font-weight: bold\">Processing file: repos_searched_nhân+văn</span>\n",
       "</pre>\n"
      ],
      "text/plain": [
       "\u001b[1;32mProcessing file: repos_searched_nhân+văn\u001b[0m\n"
      ]
     },
     "metadata": {},
     "output_type": "display_data"
    },
    {
     "name": "stdout",
     "output_type": "stream",
     "text": [
      "2023-03-16 10\n"
     ]
    },
    {
     "data": {
      "text/html": [
       "<pre style=\"white-space:pre;overflow-x:auto;line-height:normal;font-family:Menlo,'DejaVu Sans Mono',consolas,'Courier New',monospace\">..<span style=\"color: #800080; text-decoration-color: #800080\">/../datasets/searched_repo_data/humanities/</span><span style=\"color: #ff00ff; text-decoration-color: #ff00ff\">repos_searched_nhân+văn.csv</span>\n",
       "</pre>\n"
      ],
      "text/plain": [
       "..\u001b[35m/../datasets/searched_repo_data/humanities/\u001b[0m\u001b[95mrepos_searched_nhân+văn.csv\u001b[0m\n"
      ]
     },
     "metadata": {},
     "output_type": "display_data"
    },
    {
     "name": "stderr",
     "output_type": "stream",
     "text": [
      "Processing files:  70%|███████   | 35/50 [00:39<00:19,  1.32s/it]"
     ]
    },
    {
     "data": {
      "text/html": [
       "<pre style=\"white-space:pre;overflow-x:auto;line-height:normal;font-family:Menlo,'DejaVu Sans Mono',consolas,'Courier New',monospace\"><span style=\"color: #008000; text-decoration-color: #008000; font-weight: bold\">Processing file: repos_searched_umanistica</span>\n",
       "</pre>\n"
      ],
      "text/plain": [
       "\u001b[1;32mProcessing file: repos_searched_umanistica\u001b[0m\n"
      ]
     },
     "metadata": {},
     "output_type": "display_data"
    },
    {
     "name": "stdout",
     "output_type": "stream",
     "text": [
      "2022-12-11 10\n",
      "2023-03-16 10\n"
     ]
    },
    {
     "data": {
      "text/html": [
       "<pre style=\"white-space:pre;overflow-x:auto;line-height:normal;font-family:Menlo,'DejaVu Sans Mono',consolas,'Courier New',monospace\">..<span style=\"color: #800080; text-decoration-color: #800080\">/../datasets/searched_repo_data/humanities/</span><span style=\"color: #ff00ff; text-decoration-color: #ff00ff\">repos_searched_umanistica.csv</span>\n",
       "</pre>\n"
      ],
      "text/plain": [
       "..\u001b[35m/../datasets/searched_repo_data/humanities/\u001b[0m\u001b[95mrepos_searched_umanistica.csv\u001b[0m\n"
      ]
     },
     "metadata": {},
     "output_type": "display_data"
    },
    {
     "name": "stderr",
     "output_type": "stream",
     "text": [
      "Processing files:  72%|███████▏  | 36/50 [00:40<00:16,  1.19s/it]"
     ]
    },
    {
     "data": {
      "text/html": [
       "<pre style=\"white-space:pre;overflow-x:auto;line-height:normal;font-family:Menlo,'DejaVu Sans Mono',consolas,'Courier New',monospace\"><span style=\"color: #008000; text-decoration-color: #008000; font-weight: bold\">Processing file: repos_searched_人文学科</span>\n",
       "</pre>\n"
      ],
      "text/plain": [
       "\u001b[1;32mProcessing file: repos_searched_人文学科\u001b[0m\n"
      ]
     },
     "metadata": {},
     "output_type": "display_data"
    },
    {
     "name": "stdout",
     "output_type": "stream",
     "text": [
      "2022-12-18 10\n",
      "2023-03-16 10\n",
      "2022-12-11 10\n"
     ]
    },
    {
     "data": {
      "text/html": [
       "<pre style=\"white-space:pre;overflow-x:auto;line-height:normal;font-family:Menlo,'DejaVu Sans Mono',consolas,'Courier New',monospace\">..<span style=\"color: #800080; text-decoration-color: #800080\">/../datasets/searched_repo_data/humanities/</span><span style=\"color: #ff00ff; text-decoration-color: #ff00ff\">repos_searched_人文学科.csv</span>\n",
       "</pre>\n"
      ],
      "text/plain": [
       "..\u001b[35m/../datasets/searched_repo_data/humanities/\u001b[0m\u001b[95mrepos_searched_人文学科.csv\u001b[0m\n"
      ]
     },
     "metadata": {},
     "output_type": "display_data"
    },
    {
     "name": "stderr",
     "output_type": "stream",
     "text": [
      "Processing files:  74%|███████▍  | 37/50 [00:42<00:17,  1.32s/it]"
     ]
    },
    {
     "data": {
      "text/html": [
       "<pre style=\"white-space:pre;overflow-x:auto;line-height:normal;font-family:Menlo,'DejaVu Sans Mono',consolas,'Courier New',monospace\"><span style=\"color: #008000; text-decoration-color: #008000; font-weight: bold\">Processing file: repos_searched_人文科学</span>\n",
       "</pre>\n"
      ],
      "text/plain": [
       "\u001b[1;32mProcessing file: repos_searched_人文科学\u001b[0m\n"
      ]
     },
     "metadata": {},
     "output_type": "display_data"
    },
    {
     "name": "stdout",
     "output_type": "stream",
     "text": [
      "2023-03-16 10\n"
     ]
    },
    {
     "data": {
      "text/html": [
       "<pre style=\"white-space:pre;overflow-x:auto;line-height:normal;font-family:Menlo,'DejaVu Sans Mono',consolas,'Courier New',monospace\">..<span style=\"color: #800080; text-decoration-color: #800080\">/../datasets/searched_repo_data/humanities/</span><span style=\"color: #ff00ff; text-decoration-color: #ff00ff\">repos_searched_人文科学.csv</span>\n",
       "</pre>\n"
      ],
      "text/plain": [
       "..\u001b[35m/../datasets/searched_repo_data/humanities/\u001b[0m\u001b[95mrepos_searched_人文科学.csv\u001b[0m\n"
      ]
     },
     "metadata": {},
     "output_type": "display_data"
    },
    {
     "name": "stderr",
     "output_type": "stream",
     "text": [
      "Processing files:  76%|███████▌  | 38/50 [00:44<00:16,  1.41s/it]"
     ]
    },
    {
     "data": {
      "text/html": [
       "<pre style=\"white-space:pre;overflow-x:auto;line-height:normal;font-family:Menlo,'DejaVu Sans Mono',consolas,'Courier New',monospace\"><span style=\"color: #008000; text-decoration-color: #008000; font-weight: bold\">Processing file: repos_searched_公共历史</span>\n",
       "</pre>\n"
      ],
      "text/plain": [
       "\u001b[1;32mProcessing file: repos_searched_公共历史\u001b[0m\n"
      ]
     },
     "metadata": {},
     "output_type": "display_data"
    },
    {
     "name": "stdout",
     "output_type": "stream",
     "text": [
      "2022-12-18 10\n"
     ]
    },
    {
     "data": {
      "text/html": [
       "<pre style=\"white-space:pre;overflow-x:auto;line-height:normal;font-family:Menlo,'DejaVu Sans Mono',consolas,'Courier New',monospace\">..<span style=\"color: #800080; text-decoration-color: #800080\">/../datasets/searched_repo_data/public_history/</span><span style=\"color: #ff00ff; text-decoration-color: #ff00ff\">repos_searched_公共历史.csv</span>\n",
       "</pre>\n"
      ],
      "text/plain": [
       "..\u001b[35m/../datasets/searched_repo_data/public_history/\u001b[0m\u001b[95mrepos_searched_公共历史.csv\u001b[0m\n"
      ]
     },
     "metadata": {},
     "output_type": "display_data"
    },
    {
     "name": "stderr",
     "output_type": "stream",
     "text": [
      "Processing files:  78%|███████▊  | 39/50 [00:44<00:13,  1.20s/it]"
     ]
    },
    {
     "data": {
      "text/html": [
       "<pre style=\"white-space:pre;overflow-x:auto;line-height:normal;font-family:Menlo,'DejaVu Sans Mono',consolas,'Courier New',monospace\"><span style=\"color: #008000; text-decoration-color: #008000; font-weight: bold\">Processing file: repos_searched_数字人文</span>\n",
       "</pre>\n"
      ],
      "text/plain": [
       "\u001b[1;32mProcessing file: repos_searched_数字人文\u001b[0m\n"
      ]
     },
     "metadata": {},
     "output_type": "display_data"
    },
    {
     "name": "stdout",
     "output_type": "stream",
     "text": [
      "2023-03-16 10\n",
      "2022-12-18 10\n"
     ]
    },
    {
     "data": {
      "text/html": [
       "<pre style=\"white-space:pre;overflow-x:auto;line-height:normal;font-family:Menlo,'DejaVu Sans Mono',consolas,'Courier New',monospace\">..<span style=\"color: #800080; text-decoration-color: #800080\">/../datasets/searched_repo_data/digital_humanities/</span><span style=\"color: #ff00ff; text-decoration-color: #ff00ff\">repos_searched_数字人文.csv</span>\n",
       "</pre>\n"
      ],
      "text/plain": [
       "..\u001b[35m/../datasets/searched_repo_data/digital_humanities/\u001b[0m\u001b[95mrepos_searched_数字人文.csv\u001b[0m\n"
      ]
     },
     "metadata": {},
     "output_type": "display_data"
    },
    {
     "name": "stderr",
     "output_type": "stream",
     "text": [
      "Processing files:  80%|████████  | 40/50 [00:47<00:15,  1.52s/it]"
     ]
    },
    {
     "data": {
      "text/html": [
       "<pre style=\"white-space:pre;overflow-x:auto;line-height:normal;font-family:Menlo,'DejaVu Sans Mono',consolas,'Courier New',monospace\"><span style=\"color: #008000; text-decoration-color: #008000; font-weight: bold\">Processing file: repos_searched_数字历史</span>\n",
       "</pre>\n"
      ],
      "text/plain": [
       "\u001b[1;32mProcessing file: repos_searched_数字历史\u001b[0m\n"
      ]
     },
     "metadata": {},
     "output_type": "display_data"
    },
    {
     "name": "stdout",
     "output_type": "stream",
     "text": [
      "2023-03-16 10\n",
      "2022-12-18 10\n"
     ]
    },
    {
     "data": {
      "text/html": [
       "<pre style=\"white-space:pre;overflow-x:auto;line-height:normal;font-family:Menlo,'DejaVu Sans Mono',consolas,'Courier New',monospace\">..<span style=\"color: #800080; text-decoration-color: #800080\">/../datasets/searched_repo_data/digital_history/</span><span style=\"color: #ff00ff; text-decoration-color: #ff00ff\">repos_searched_数字历史.csv</span>\n",
       "</pre>\n"
      ],
      "text/plain": [
       "..\u001b[35m/../datasets/searched_repo_data/digital_history/\u001b[0m\u001b[95mrepos_searched_数字历史.csv\u001b[0m\n"
      ]
     },
     "metadata": {},
     "output_type": "display_data"
    },
    {
     "name": "stderr",
     "output_type": "stream",
     "text": [
      "Processing files:  82%|████████▏ | 41/50 [00:47<00:11,  1.28s/it]"
     ]
    },
    {
     "data": {
      "text/html": [
       "<pre style=\"white-space:pre;overflow-x:auto;line-height:normal;font-family:Menlo,'DejaVu Sans Mono',consolas,'Courier New',monospace\"><span style=\"color: #008000; text-decoration-color: #008000; font-weight: bold\">Processing file: repos_searched_文化分析</span>\n",
       "</pre>\n"
      ],
      "text/plain": [
       "\u001b[1;32mProcessing file: repos_searched_文化分析\u001b[0m\n"
      ]
     },
     "metadata": {},
     "output_type": "display_data"
    },
    {
     "name": "stdout",
     "output_type": "stream",
     "text": [
      "2022-12-18 10\n"
     ]
    },
    {
     "data": {
      "text/html": [
       "<pre style=\"white-space:pre;overflow-x:auto;line-height:normal;font-family:Menlo,'DejaVu Sans Mono',consolas,'Courier New',monospace\">..<span style=\"color: #800080; text-decoration-color: #800080\">/../datasets/searched_repo_data/cultural_analytics/</span><span style=\"color: #ff00ff; text-decoration-color: #ff00ff\">repos_searched_文化分析.csv</span>\n",
       "</pre>\n"
      ],
      "text/plain": [
       "..\u001b[35m/../datasets/searched_repo_data/cultural_analytics/\u001b[0m\u001b[95mrepos_searched_文化分析.csv\u001b[0m\n"
      ]
     },
     "metadata": {},
     "output_type": "display_data"
    },
    {
     "name": "stderr",
     "output_type": "stream",
     "text": [
      "Processing files:  84%|████████▍ | 42/50 [00:51<00:15,  1.91s/it]"
     ]
    },
    {
     "data": {
      "text/html": [
       "<pre style=\"white-space:pre;overflow-x:auto;line-height:normal;font-family:Menlo,'DejaVu Sans Mono',consolas,'Courier New',monospace\"><span style=\"color: #008000; text-decoration-color: #008000; font-weight: bold\">Processing file: repos_searched_计算人文</span>\n",
       "</pre>\n"
      ],
      "text/plain": [
       "\u001b[1;32mProcessing file: repos_searched_计算人文\u001b[0m\n"
      ]
     },
     "metadata": {},
     "output_type": "display_data"
    },
    {
     "name": "stdout",
     "output_type": "stream",
     "text": [
      "2023-03-16 10\n",
      "2022-12-18 10\n"
     ]
    },
    {
     "data": {
      "text/html": [
       "<pre style=\"white-space:pre;overflow-x:auto;line-height:normal;font-family:Menlo,'DejaVu Sans Mono',consolas,'Courier New',monospace\">..<span style=\"color: #800080; text-decoration-color: #800080\">/../datasets/searched_repo_data/computational_humanities/</span><span style=\"color: #ff00ff; text-decoration-color: #ff00ff\">repos_searched_计算人文.csv</span>\n",
       "</pre>\n"
      ],
      "text/plain": [
       "..\u001b[35m/../datasets/searched_repo_data/computational_humanities/\u001b[0m\u001b[95mrepos_searched_计算人文.csv\u001b[0m\n"
      ]
     },
     "metadata": {},
     "output_type": "display_data"
    },
    {
     "name": "stderr",
     "output_type": "stream",
     "text": [
      "Processing files:  86%|████████▌ | 43/50 [00:53<00:13,  1.91s/it]"
     ]
    },
    {
     "data": {
      "text/html": [
       "<pre style=\"white-space:pre;overflow-x:auto;line-height:normal;font-family:Menlo,'DejaVu Sans Mono',consolas,'Courier New',monospace\"><span style=\"color: #008000; text-decoration-color: #008000; font-weight: bold\">Processing file: repos_searched_문화+분석</span>\n",
       "</pre>\n"
      ],
      "text/plain": [
       "\u001b[1;32mProcessing file: repos_searched_문화+분석\u001b[0m\n"
      ]
     },
     "metadata": {},
     "output_type": "display_data"
    },
    {
     "name": "stdout",
     "output_type": "stream",
     "text": [
      "2023-03-16 10\n"
     ]
    },
    {
     "data": {
      "text/html": [
       "<pre style=\"white-space:pre;overflow-x:auto;line-height:normal;font-family:Menlo,'DejaVu Sans Mono',consolas,'Courier New',monospace\">..<span style=\"color: #800080; text-decoration-color: #800080\">/../datasets/searched_repo_data/cultural_analytics/</span><span style=\"color: #ff00ff; text-decoration-color: #ff00ff\">repos_searched_문화+분석.csv</span>\n",
       "</pre>\n"
      ],
      "text/plain": [
       "..\u001b[35m/../datasets/searched_repo_data/cultural_analytics/\u001b[0m\u001b[95mrepos_searched_문화+분석.csv\u001b[0m\n"
      ]
     },
     "metadata": {},
     "output_type": "display_data"
    },
    {
     "data": {
      "text/html": [
       "<pre style=\"white-space:pre;overflow-x:auto;line-height:normal;font-family:Menlo,'DejaVu Sans Mono',consolas,'Courier New',monospace\"><span style=\"color: #008000; text-decoration-color: #008000; font-weight: bold\">Processing file: repos_tagged_cultural-analytics</span>\n",
       "</pre>\n"
      ],
      "text/plain": [
       "\u001b[1;32mProcessing file: repos_tagged_cultural-analytics\u001b[0m\n"
      ]
     },
     "metadata": {},
     "output_type": "display_data"
    },
    {
     "name": "stdout",
     "output_type": "stream",
     "text": [
      "2023-03-14 10\n"
     ]
    },
    {
     "data": {
      "text/html": [
       "<pre style=\"white-space:pre;overflow-x:auto;line-height:normal;font-family:Menlo,'DejaVu Sans Mono',consolas,'Courier New',monospace\">..<span style=\"color: #800080; text-decoration-color: #800080\">/../datasets/searched_repo_data/cultural_analytics/</span><span style=\"color: #ff00ff; text-decoration-color: #ff00ff\">repos_tagged_cultural-analytics.csv</span>\n",
       "</pre>\n"
      ],
      "text/plain": [
       "..\u001b[35m/../datasets/searched_repo_data/cultural_analytics/\u001b[0m\u001b[95mrepos_tagged_cultural-analytics.csv\u001b[0m\n"
      ]
     },
     "metadata": {},
     "output_type": "display_data"
    },
    {
     "name": "stderr",
     "output_type": "stream",
     "text": [
      "Processing files:  90%|█████████ | 45/50 [00:53<00:05,  1.11s/it]"
     ]
    },
    {
     "data": {
      "text/html": [
       "<pre style=\"white-space:pre;overflow-x:auto;line-height:normal;font-family:Menlo,'DejaVu Sans Mono',consolas,'Courier New',monospace\"><span style=\"color: #008000; text-decoration-color: #008000; font-weight: bold\">Processing file: repos_tagged_digital-history</span>\n",
       "</pre>\n"
      ],
      "text/plain": [
       "\u001b[1;32mProcessing file: repos_tagged_digital-history\u001b[0m\n"
      ]
     },
     "metadata": {},
     "output_type": "display_data"
    },
    {
     "name": "stdout",
     "output_type": "stream",
     "text": [
      "2022-12-11 10\n"
     ]
    },
    {
     "data": {
      "text/html": [
       "<pre style=\"white-space:pre;overflow-x:auto;line-height:normal;font-family:Menlo,'DejaVu Sans Mono',consolas,'Courier New',monospace\">..<span style=\"color: #800080; text-decoration-color: #800080\">/../datasets/searched_repo_data/digital_history/</span><span style=\"color: #ff00ff; text-decoration-color: #ff00ff\">repos_tagged_digital-history.csv</span>\n",
       "</pre>\n"
      ],
      "text/plain": [
       "..\u001b[35m/../datasets/searched_repo_data/digital_history/\u001b[0m\u001b[95mrepos_tagged_digital-history.csv\u001b[0m\n"
      ]
     },
     "metadata": {},
     "output_type": "display_data"
    },
    {
     "name": "stderr",
     "output_type": "stream",
     "text": [
      "Processing files:  92%|█████████▏| 46/50 [00:54<00:03,  1.03it/s]"
     ]
    },
    {
     "data": {
      "text/html": [
       "<pre style=\"white-space:pre;overflow-x:auto;line-height:normal;font-family:Menlo,'DejaVu Sans Mono',consolas,'Courier New',monospace\"><span style=\"color: #008000; text-decoration-color: #008000; font-weight: bold\">Processing file: repos_tagged_digital-humanities</span>\n",
       "</pre>\n"
      ],
      "text/plain": [
       "\u001b[1;32mProcessing file: repos_tagged_digital-humanities\u001b[0m\n"
      ]
     },
     "metadata": {},
     "output_type": "display_data"
    },
    {
     "name": "stdout",
     "output_type": "stream",
     "text": [
      "2023-03-14 10\n",
      "2023-03-14 10\n",
      "2022-11-01 10\n",
      "2022-11-12 10\n",
      "2022-11-22 10\n",
      "2022-11-27 10\n",
      "2022-12-11 10\n",
      "2023-03-09 10\n"
     ]
    },
    {
     "data": {
      "text/html": [
       "<pre style=\"white-space:pre;overflow-x:auto;line-height:normal;font-family:Menlo,'DejaVu Sans Mono',consolas,'Courier New',monospace\">..<span style=\"color: #800080; text-decoration-color: #800080\">/../datasets/searched_repo_data/humanities/</span><span style=\"color: #ff00ff; text-decoration-color: #ff00ff\">repos_tagged_digital-humanities.csv</span>\n",
       "</pre>\n"
      ],
      "text/plain": [
       "..\u001b[35m/../datasets/searched_repo_data/humanities/\u001b[0m\u001b[95mrepos_tagged_digital-humanities.csv\u001b[0m\n"
      ]
     },
     "metadata": {},
     "output_type": "display_data"
    },
    {
     "name": "stderr",
     "output_type": "stream",
     "text": [
      "Processing files:  94%|█████████▍| 47/50 [01:02<00:09,  3.05s/it]"
     ]
    },
    {
     "data": {
      "text/html": [
       "<pre style=\"white-space:pre;overflow-x:auto;line-height:normal;font-family:Menlo,'DejaVu Sans Mono',consolas,'Courier New',monospace\"><span style=\"color: #008000; text-decoration-color: #008000; font-weight: bold\">Processing file: repos_tagged_humanities</span>\n",
       "</pre>\n"
      ],
      "text/plain": [
       "\u001b[1;32mProcessing file: repos_tagged_humanities\u001b[0m\n"
      ]
     },
     "metadata": {},
     "output_type": "display_data"
    },
    {
     "name": "stdout",
     "output_type": "stream",
     "text": [
      "2023-03-14 10\n",
      "2022-12-11 10\n"
     ]
    },
    {
     "data": {
      "text/html": [
       "<pre style=\"white-space:pre;overflow-x:auto;line-height:normal;font-family:Menlo,'DejaVu Sans Mono',consolas,'Courier New',monospace\">..<span style=\"color: #800080; text-decoration-color: #800080\">/../datasets/searched_repo_data/humanities/</span><span style=\"color: #ff00ff; text-decoration-color: #ff00ff\">repos_tagged_humanities.csv</span>\n",
       "</pre>\n"
      ],
      "text/plain": [
       "..\u001b[35m/../datasets/searched_repo_data/humanities/\u001b[0m\u001b[95mrepos_tagged_humanities.csv\u001b[0m\n"
      ]
     },
     "metadata": {},
     "output_type": "display_data"
    },
    {
     "name": "stderr",
     "output_type": "stream",
     "text": [
      "Processing files:  96%|█████████▌| 48/50 [01:03<00:04,  2.46s/it]"
     ]
    },
    {
     "data": {
      "text/html": [
       "<pre style=\"white-space:pre;overflow-x:auto;line-height:normal;font-family:Menlo,'DejaVu Sans Mono',consolas,'Courier New',monospace\"><span style=\"color: #008000; text-decoration-color: #008000; font-weight: bold\">Processing file: repos_tagged_public-humanities</span>\n",
       "</pre>\n"
      ],
      "text/plain": [
       "\u001b[1;32mProcessing file: repos_tagged_public-humanities\u001b[0m\n"
      ]
     },
     "metadata": {},
     "output_type": "display_data"
    },
    {
     "name": "stdout",
     "output_type": "stream",
     "text": [
      "2023-03-14 10\n"
     ]
    },
    {
     "data": {
      "text/html": [
       "<pre style=\"white-space:pre;overflow-x:auto;line-height:normal;font-family:Menlo,'DejaVu Sans Mono',consolas,'Courier New',monospace\">..<span style=\"color: #800080; text-decoration-color: #800080\">/../datasets/searched_repo_data/humanities/</span><span style=\"color: #ff00ff; text-decoration-color: #ff00ff\">repos_tagged_public-humanities.csv</span>\n",
       "</pre>\n"
      ],
      "text/plain": [
       "..\u001b[35m/../datasets/searched_repo_data/humanities/\u001b[0m\u001b[95mrepos_tagged_public-humanities.csv\u001b[0m\n"
      ]
     },
     "metadata": {},
     "output_type": "display_data"
    },
    {
     "data": {
      "text/html": [
       "<pre style=\"white-space:pre;overflow-x:auto;line-height:normal;font-family:Menlo,'DejaVu Sans Mono',consolas,'Courier New',monospace\"><span style=\"color: #008000; text-decoration-color: #008000; font-weight: bold\">Processing file: repos_tagged_sastrawi</span>\n",
       "</pre>\n"
      ],
      "text/plain": [
       "\u001b[1;32mProcessing file: repos_tagged_sastrawi\u001b[0m\n"
      ]
     },
     "metadata": {},
     "output_type": "display_data"
    },
    {
     "name": "stdout",
     "output_type": "stream",
     "text": [
      "2023-03-16 10\n"
     ]
    },
    {
     "data": {
      "text/html": [
       "<pre style=\"white-space:pre;overflow-x:auto;line-height:normal;font-family:Menlo,'DejaVu Sans Mono',consolas,'Courier New',monospace\">..<span style=\"color: #800080; text-decoration-color: #800080\">/../datasets/searched_repo_data/humanities/</span><span style=\"color: #ff00ff; text-decoration-color: #ff00ff\">repos_tagged_sastrawi.csv</span>\n",
       "</pre>\n"
      ],
      "text/plain": [
       "..\u001b[35m/../datasets/searched_repo_data/humanities/\u001b[0m\u001b[95mrepos_tagged_sastrawi.csv\u001b[0m\n"
      ]
     },
     "metadata": {},
     "output_type": "display_data"
    },
    {
     "name": "stderr",
     "output_type": "stream",
     "text": [
      "Processing files: 100%|██████████| 50/50 [01:04<00:00,  1.43s/it]"
     ]
    },
    {
     "data": {
      "text/html": [
       "<pre style=\"white-space:pre;overflow-x:auto;line-height:normal;font-family:Menlo,'DejaVu Sans Mono',consolas,'Courier New',monospace\"><span style=\"color: #008000; text-decoration-color: #008000; font-weight: bold\">Processing file: repos_tagged_sastrawi-python</span>\n",
       "</pre>\n"
      ],
      "text/plain": [
       "\u001b[1;32mProcessing file: repos_tagged_sastrawi-python\u001b[0m\n"
      ]
     },
     "metadata": {},
     "output_type": "display_data"
    },
    {
     "name": "stdout",
     "output_type": "stream",
     "text": [
      "2023-03-16 10\n"
     ]
    },
    {
     "data": {
      "text/html": [
       "<pre style=\"white-space:pre;overflow-x:auto;line-height:normal;font-family:Menlo,'DejaVu Sans Mono',consolas,'Courier New',monospace\">..<span style=\"color: #800080; text-decoration-color: #800080\">/../datasets/searched_repo_data/humanities/</span><span style=\"color: #ff00ff; text-decoration-color: #ff00ff\">repos_tagged_sastrawi-python.csv</span>\n",
       "</pre>\n"
      ],
      "text/plain": [
       "..\u001b[35m/../datasets/searched_repo_data/humanities/\u001b[0m\u001b[95mrepos_tagged_sastrawi-python.csv\u001b[0m\n"
      ]
     },
     "metadata": {},
     "output_type": "display_data"
    },
    {
     "name": "stderr",
     "output_type": "stream",
     "text": [
      "Processing files: 100%|██████████| 50/50 [01:04<00:00,  1.28s/it]\n"
     ]
    },
    {
     "data": {
      "text/html": [
       "<div>\n",
       "<style scoped>\n",
       "    .dataframe tbody tr th:only-of-type {\n",
       "        vertical-align: middle;\n",
       "    }\n",
       "\n",
       "    .dataframe tbody tr th {\n",
       "        vertical-align: top;\n",
       "    }\n",
       "\n",
       "    .dataframe thead th {\n",
       "        text-align: right;\n",
       "    }\n",
       "</style>\n",
       "<table border=\"1\" class=\"dataframe\">\n",
       "  <thead>\n",
       "    <tr style=\"text-align: right;\">\n",
       "      <th></th>\n",
       "    </tr>\n",
       "  </thead>\n",
       "  <tbody>\n",
       "  </tbody>\n",
       "</table>\n",
       "</div>"
      ],
      "text/plain": [
       "Empty DataFrame\n",
       "Columns: []\n",
       "Index: []"
      ]
     },
     "execution_count": 30,
     "metadata": {},
     "output_type": "execute_result"
    }
   ],
   "source": [
    "def process_and_group_files(file_group):\n",
    "    \"\"\"\n",
    "    Process and group files based on their full name. The function reads files,\n",
    "    formats dates, and groups the data, keeping unique entries or the oldest entry per group.\n",
    "\n",
    "    Parameters:\n",
    "    file_group (pd.DataFrame): DataFrame with file paths and related information.\n",
    "\n",
    "    Returns:\n",
    "    pd.DataFrame: Grouped and processed DataFrame.\n",
    "    \"\"\"\n",
    "\n",
    "    def format_file(file_path, date):\n",
    "        \"\"\"\n",
    "        Read a CSV file and add a formatted date column.\n",
    "        \"\"\"\n",
    "        file_df = pd.read_csv(file_path)\n",
    "        file_df['coding_dh_date'] = pd.to_datetime(date)\n",
    "        return file_df\n",
    "    console.print(f\"Processing file: {file_group.iloc[0]['subset_file']}\", style=\"bold green\")\n",
    "    # Process the current file\n",
    "    current_date = \"2024-01-13\"\n",
    "    existing_file = format_file(file_group.iloc[0]['file_path'], current_date)\n",
    "\n",
    "    # Process older files\n",
    "    older_files = []\n",
    "    for _, row in file_group.iterrows():\n",
    "        older_date = \"202\" + row['older_file_path'].split('_202')[1].replace(\"_\", \"-\").split(\".\")[0]\n",
    "        print(older_date, len(older_date))\n",
    "        \n",
    "        older_file = format_file(row['older_file_path'], older_date)\n",
    "        older_files.append(older_file)\n",
    "\n",
    "    # Combine and group files\n",
    "    combined_files = pd.concat([existing_file] + older_files)\n",
    "    if 'search_query' not in combined_files.columns:\n",
    "        final_path = file_group.iloc[0]['file_path'].replace(\"repo_data\", \"searched_repo_data\")\n",
    "        console.print(final_path)\n",
    "        if not os.path.exists(os.path.dirname(final_path)):\n",
    "            os.makedirs(os.path.dirname(final_path))\n",
    "        existing_file.to_csv(final_path, index=False)\n",
    "        return\n",
    "    combined_files['cleaned_search_query'] = combined_files.search_query.str.replace('%22', '\"').str.replace('\"', '').str.replace('%3A', ':').str.split('&page').str[0]\n",
    "    grouped_files = combined_files.groupby('full_name')\n",
    "    processed_files = []\n",
    "    for name, group in grouped_files:\n",
    "        # Drop duplicates based on all columns except for 'coding_dh_date' and 'search_query'\n",
    "        group = group.drop_duplicates(subset=group.columns.difference(['coding_dh_date', 'search_query']))\n",
    "        if (group.drop(columns=['coding_dh_date', 'search_query']).nunique() > 1).any():\n",
    "            group = group.sort_values('coding_dh_date')\n",
    "            group['coding_dh_id'] = np.arange(len(group))\n",
    "        else:\n",
    "            group = group.sort_values('coding_dh_date').iloc[0:1]\n",
    "            group['coding_dh_id'] = 0\n",
    "        processed_files.append(group)\n",
    "\n",
    "    final_df = pd.concat(processed_files).reset_index(drop=True)\n",
    "    final_path = file_group.iloc[0]['file_path'].replace(\"repo_data\", \"searched_repo_data\")\n",
    "    console.print(final_path)\n",
    "    if not os.path.exists(os.path.dirname(final_path)):\n",
    "        os.makedirs(os.path.dirname(final_path))\n",
    "    final_df.to_csv(final_path, index=False)\n",
    "\n",
    "tqdm.pandas(desc=\"Processing files\")\n",
    "# Apply the function to the grouped DataFrame\n",
    "files_df.groupby('subset_file').progress_apply(process_and_group_files)\n"
   ]
  },
  {
   "cell_type": "code",
   "execution_count": null,
   "metadata": {},
   "outputs": [],
   "source": [
    "def process_files(rows):\n",
    "    current_date = \"2024-01-13\"\n",
    "    existing_file = pd.read_csv(rows[0:1].file_path)\n",
    "    existing_file['coding_dh_date'] = current_date\n",
    "    existing_file.coding_dh_date = pd.to_datetime(existing_file.coding_dh_date)\n",
    "    older_files = []\n",
    "    new_df = pd.DataFrame()\n",
    "    for _, row in rows.iterrows():\n",
    "        older_date = row.older_file_path.split(row.subset_file)[1].split(\".\")[0].replace(\"_\", \"-\").replace(\"-2\", \"2\")\n",
    "        older_file = pd.read_csv(row.older_file_path)\n",
    "        older_file['coding_dh_date'] = older_date\n",
    "        older_file.coding_dh_date = pd.to_datetime(older_file.coding_dh_date)\n",
    "        older_files.append(older_file)\n",
    "    older_file_df = pd.concat(older_files)\n",
    "    combined_files = pd.concat([existing_file, older_file_df])\n",
    "    grouped = combined_files.groupby('full_name')\n",
    "    for name, group in grouped:\n",
    "        # Check if there are any unique values in any column except for coding_dh_date\n",
    "        if (group.drop(columns='coding_dh_date').nunique() > 1).any():\n",
    "            # Sort the group by coding_dh_date and assign a unique id to each row\n",
    "            group = group.sort_values('coding_dh_date')\n",
    "            group['unique_id'] = np.arange(len(group))\n",
    "        else:\n",
    "            # Keep only the oldest row\n",
    "            group = group.sort_values('coding_dh_date').iloc[0:1]\n",
    "        new_df = pd.concat([new_df, group])\n",
    "    new_df.reset_index(drop=True, inplace=True)\n",
    "    return new_df\n",
    "\n",
    "new_files_df = files_df.groupby('subset_file').apply(process_files)"
   ]
  },
  {
   "cell_type": "code",
   "execution_count": 13,
   "metadata": {},
   "outputs": [
    {
     "name": "stdout",
     "output_type": "stream",
     "text": [
      "2023-03-16\n"
     ]
    }
   ],
   "source": [
    "for _, row in files_df[0:1].iterrows():\n",
    "    older_date = row.older_file_path.split(row.subset_file)[1].split(\".\")[0].replace(\"_\", \"-\").replace(\"-2\", \"2\")\n",
    "    current_date = \"2024-01-13\"\n",
    "    existing_file = pd.read_csv(row.file_path)\n",
    "    existing_file['coding_dh_date'] = current_date\n",
    "    older_file = pd.read_csv(row.older_file_path)\n",
    "    older_file['coding_dh_date'] = older_date\n",
    "    combined_file = pd.concat([existing_file, older_file])"
   ]
  },
  {
   "cell_type": "code",
   "execution_count": 4,
   "metadata": {},
   "outputs": [],
   "source": [
    "test = pd.read_csv(files_df['file_path'][0])\n",
    "test['coding_dh_date'] = \"2024-01-13\"\n",
    "test2 = pd.read_csv(files_df['older_file_path'][0])\n",
    "files_df['subset_file'][0]"
   ]
  },
  {
   "cell_type": "code",
   "execution_count": 8,
   "metadata": {},
   "outputs": [],
   "source": [
    "testing = pd.concat([test, test2], axis=0, ignore_index=True)"
   ]
  },
  {
   "cell_type": "code",
   "execution_count": 9,
   "metadata": {},
   "outputs": [
    {
     "data": {
      "text/html": [
       "<div>\n",
       "<style scoped>\n",
       "    .dataframe tbody tr th:only-of-type {\n",
       "        vertical-align: middle;\n",
       "    }\n",
       "\n",
       "    .dataframe tbody tr th {\n",
       "        vertical-align: top;\n",
       "    }\n",
       "\n",
       "    .dataframe thead th {\n",
       "        text-align: right;\n",
       "    }\n",
       "</style>\n",
       "<table border=\"1\" class=\"dataframe\">\n",
       "  <thead>\n",
       "    <tr style=\"text-align: right;\">\n",
       "      <th></th>\n",
       "      <th>id</th>\n",
       "      <th>node_id</th>\n",
       "      <th>name</th>\n",
       "      <th>full_name</th>\n",
       "      <th>private</th>\n",
       "      <th>html_url</th>\n",
       "      <th>description</th>\n",
       "      <th>fork</th>\n",
       "      <th>url</th>\n",
       "      <th>forks_url</th>\n",
       "      <th>...</th>\n",
       "      <th>license.key</th>\n",
       "      <th>license.name</th>\n",
       "      <th>license.spdx_id</th>\n",
       "      <th>license.url</th>\n",
       "      <th>license.node_id</th>\n",
       "      <th>search_query</th>\n",
       "      <th>search_term</th>\n",
       "      <th>search_term_source</th>\n",
       "      <th>natural_language</th>\n",
       "      <th>search_type</th>\n",
       "    </tr>\n",
       "  </thead>\n",
       "  <tbody>\n",
       "    <tr>\n",
       "      <th>0</th>\n",
       "      <td>443788827</td>\n",
       "      <td>R_kgDOGnOuGw</td>\n",
       "      <td>CCU-Deprecated</td>\n",
       "      <td>ItalianDudes/CCU-Deprecated</td>\n",
       "      <td>False</td>\n",
       "      <td>https://github.com/ItalianDudes/CCU-Deprecated</td>\n",
       "      <td>Carte Contro l'Umanità (CCU)</td>\n",
       "      <td>False</td>\n",
       "      <td>https://api.github.com/repos/ItalianDudes/CCU-...</td>\n",
       "      <td>https://api.github.com/repos/ItalianDudes/CCU-...</td>\n",
       "      <td>...</td>\n",
       "      <td>NaN</td>\n",
       "      <td>NaN</td>\n",
       "      <td>NaN</td>\n",
       "      <td>NaN</td>\n",
       "      <td>NaN</td>\n",
       "      <td>https://api.github.com/search/repositories?q=\"...</td>\n",
       "      <td>Umanità</td>\n",
       "      <td>Humanities</td>\n",
       "      <td>co</td>\n",
       "      <td>searched</td>\n",
       "    </tr>\n",
       "    <tr>\n",
       "      <th>1</th>\n",
       "      <td>163746787</td>\n",
       "      <td>MDEwOlJlcG9zaXRvcnkxNjM3NDY3ODc=</td>\n",
       "      <td>Miei-Pensieri-di-varia-Umanita_58579</td>\n",
       "      <td>GITenberg/Miei-Pensieri-di-varia-Umanita_58579</td>\n",
       "      <td>False</td>\n",
       "      <td>https://github.com/GITenberg/Miei-Pensieri-di-...</td>\n",
       "      <td>Miei Pensieri di varia Umanità by Giovanni Pas...</td>\n",
       "      <td>False</td>\n",
       "      <td>https://api.github.com/repos/GITenberg/Miei-Pe...</td>\n",
       "      <td>https://api.github.com/repos/GITenberg/Miei-Pe...</td>\n",
       "      <td>...</td>\n",
       "      <td>other</td>\n",
       "      <td>Other</td>\n",
       "      <td>NOASSERTION</td>\n",
       "      <td>NaN</td>\n",
       "      <td>MDc6TGljZW5zZTA=</td>\n",
       "      <td>https://api.github.com/search/repositories?q=\"...</td>\n",
       "      <td>Umanità</td>\n",
       "      <td>Humanities</td>\n",
       "      <td>co</td>\n",
       "      <td>searched</td>\n",
       "    </tr>\n",
       "    <tr>\n",
       "      <th>2</th>\n",
       "      <td>381767394</td>\n",
       "      <td>MDEwOlJlcG9zaXRvcnkzODE3NjczOTQ=</td>\n",
       "      <td>SdD-progettoFinale</td>\n",
       "      <td>odinsseo/SdD-progettoFinale</td>\n",
       "      <td>False</td>\n",
       "      <td>https://github.com/odinsseo/SdD-progettoFinale</td>\n",
       "      <td>Progetto finale del corso \"Fondamenti di scien...</td>\n",
       "      <td>False</td>\n",
       "      <td>https://api.github.com/repos/odinsseo/SdD-prog...</td>\n",
       "      <td>https://api.github.com/repos/odinsseo/SdD-prog...</td>\n",
       "      <td>...</td>\n",
       "      <td>NaN</td>\n",
       "      <td>NaN</td>\n",
       "      <td>NaN</td>\n",
       "      <td>NaN</td>\n",
       "      <td>NaN</td>\n",
       "      <td>https://api.github.com/search/repositories?q=\"...</td>\n",
       "      <td>Umanità</td>\n",
       "      <td>Humanities</td>\n",
       "      <td>co</td>\n",
       "      <td>searched</td>\n",
       "    </tr>\n",
       "    <tr>\n",
       "      <th>3</th>\n",
       "      <td>163746787</td>\n",
       "      <td>MDEwOlJlcG9zaXRvcnkxNjM3NDY3ODc=</td>\n",
       "      <td>Miei-Pensieri-di-varia-Umanita_58579</td>\n",
       "      <td>GITenberg/Miei-Pensieri-di-varia-Umanita_58579</td>\n",
       "      <td>False</td>\n",
       "      <td>https://github.com/GITenberg/Miei-Pensieri-di-...</td>\n",
       "      <td>Miei Pensieri di varia Umanità by Giovanni Pas...</td>\n",
       "      <td>False</td>\n",
       "      <td>https://api.github.com/repos/GITenberg/Miei-Pe...</td>\n",
       "      <td>https://api.github.com/repos/GITenberg/Miei-Pe...</td>\n",
       "      <td>...</td>\n",
       "      <td>other</td>\n",
       "      <td>Other</td>\n",
       "      <td>NOASSERTION</td>\n",
       "      <td>NaN</td>\n",
       "      <td>MDc6TGljZW5zZTA=</td>\n",
       "      <td>https://api.github.com/search/repositories?q=U...</td>\n",
       "      <td>Umanità</td>\n",
       "      <td>Humanities</td>\n",
       "      <td>co</td>\n",
       "      <td>searched</td>\n",
       "    </tr>\n",
       "    <tr>\n",
       "      <th>4</th>\n",
       "      <td>381767394</td>\n",
       "      <td>MDEwOlJlcG9zaXRvcnkzODE3NjczOTQ=</td>\n",
       "      <td>SdD-progettoFinale</td>\n",
       "      <td>odinsseo/SdD-progettoFinale</td>\n",
       "      <td>False</td>\n",
       "      <td>https://github.com/odinsseo/SdD-progettoFinale</td>\n",
       "      <td>Progetto finale del corso \"Fondamenti di scien...</td>\n",
       "      <td>False</td>\n",
       "      <td>https://api.github.com/repos/odinsseo/SdD-prog...</td>\n",
       "      <td>https://api.github.com/repos/odinsseo/SdD-prog...</td>\n",
       "      <td>...</td>\n",
       "      <td>NaN</td>\n",
       "      <td>NaN</td>\n",
       "      <td>NaN</td>\n",
       "      <td>NaN</td>\n",
       "      <td>NaN</td>\n",
       "      <td>https://api.github.com/search/repositories?q=U...</td>\n",
       "      <td>Umanità</td>\n",
       "      <td>Humanities</td>\n",
       "      <td>co</td>\n",
       "      <td>searched</td>\n",
       "    </tr>\n",
       "  </tbody>\n",
       "</table>\n",
       "<p>5 rows × 112 columns</p>\n",
       "</div>"
      ],
      "text/plain": [
       "          id                           node_id  \\\n",
       "0  443788827                      R_kgDOGnOuGw   \n",
       "1  163746787  MDEwOlJlcG9zaXRvcnkxNjM3NDY3ODc=   \n",
       "2  381767394  MDEwOlJlcG9zaXRvcnkzODE3NjczOTQ=   \n",
       "3  163746787  MDEwOlJlcG9zaXRvcnkxNjM3NDY3ODc=   \n",
       "4  381767394  MDEwOlJlcG9zaXRvcnkzODE3NjczOTQ=   \n",
       "\n",
       "                                   name  \\\n",
       "0                        CCU-Deprecated   \n",
       "1  Miei-Pensieri-di-varia-Umanita_58579   \n",
       "2                    SdD-progettoFinale   \n",
       "3  Miei-Pensieri-di-varia-Umanita_58579   \n",
       "4                    SdD-progettoFinale   \n",
       "\n",
       "                                        full_name  private  \\\n",
       "0                     ItalianDudes/CCU-Deprecated    False   \n",
       "1  GITenberg/Miei-Pensieri-di-varia-Umanita_58579    False   \n",
       "2                     odinsseo/SdD-progettoFinale    False   \n",
       "3  GITenberg/Miei-Pensieri-di-varia-Umanita_58579    False   \n",
       "4                     odinsseo/SdD-progettoFinale    False   \n",
       "\n",
       "                                            html_url  \\\n",
       "0     https://github.com/ItalianDudes/CCU-Deprecated   \n",
       "1  https://github.com/GITenberg/Miei-Pensieri-di-...   \n",
       "2     https://github.com/odinsseo/SdD-progettoFinale   \n",
       "3  https://github.com/GITenberg/Miei-Pensieri-di-...   \n",
       "4     https://github.com/odinsseo/SdD-progettoFinale   \n",
       "\n",
       "                                         description   fork  \\\n",
       "0                       Carte Contro l'Umanità (CCU)  False   \n",
       "1  Miei Pensieri di varia Umanità by Giovanni Pas...  False   \n",
       "2  Progetto finale del corso \"Fondamenti di scien...  False   \n",
       "3  Miei Pensieri di varia Umanità by Giovanni Pas...  False   \n",
       "4  Progetto finale del corso \"Fondamenti di scien...  False   \n",
       "\n",
       "                                                 url  \\\n",
       "0  https://api.github.com/repos/ItalianDudes/CCU-...   \n",
       "1  https://api.github.com/repos/GITenberg/Miei-Pe...   \n",
       "2  https://api.github.com/repos/odinsseo/SdD-prog...   \n",
       "3  https://api.github.com/repos/GITenberg/Miei-Pe...   \n",
       "4  https://api.github.com/repos/odinsseo/SdD-prog...   \n",
       "\n",
       "                                           forks_url  ... license.key  \\\n",
       "0  https://api.github.com/repos/ItalianDudes/CCU-...  ...         NaN   \n",
       "1  https://api.github.com/repos/GITenberg/Miei-Pe...  ...       other   \n",
       "2  https://api.github.com/repos/odinsseo/SdD-prog...  ...         NaN   \n",
       "3  https://api.github.com/repos/GITenberg/Miei-Pe...  ...       other   \n",
       "4  https://api.github.com/repos/odinsseo/SdD-prog...  ...         NaN   \n",
       "\n",
       "  license.name license.spdx_id license.url   license.node_id  \\\n",
       "0          NaN             NaN         NaN               NaN   \n",
       "1        Other     NOASSERTION         NaN  MDc6TGljZW5zZTA=   \n",
       "2          NaN             NaN         NaN               NaN   \n",
       "3        Other     NOASSERTION         NaN  MDc6TGljZW5zZTA=   \n",
       "4          NaN             NaN         NaN               NaN   \n",
       "\n",
       "                                        search_query search_term  \\\n",
       "0  https://api.github.com/search/repositories?q=\"...     Umanità   \n",
       "1  https://api.github.com/search/repositories?q=\"...     Umanità   \n",
       "2  https://api.github.com/search/repositories?q=\"...     Umanità   \n",
       "3  https://api.github.com/search/repositories?q=U...     Umanità   \n",
       "4  https://api.github.com/search/repositories?q=U...     Umanità   \n",
       "\n",
       "  search_term_source natural_language search_type  \n",
       "0         Humanities               co    searched  \n",
       "1         Humanities               co    searched  \n",
       "2         Humanities               co    searched  \n",
       "3         Humanities               co    searched  \n",
       "4         Humanities               co    searched  \n",
       "\n",
       "[5 rows x 112 columns]"
      ]
     },
     "execution_count": 9,
     "metadata": {},
     "output_type": "execute_result"
    }
   ],
   "source": [
    "testing"
   ]
  },
  {
   "cell_type": "code",
   "execution_count": 31,
   "metadata": {},
   "outputs": [],
   "source": [
    "df = pd.read_csv(\"../../datasets/searched_repo_data/digital_history/repos_searched_Digital+History.csv\")"
   ]
  },
  {
   "cell_type": "code",
   "execution_count": 35,
   "metadata": {},
   "outputs": [
    {
     "data": {
      "text/html": [
       "<div>\n",
       "<style scoped>\n",
       "    .dataframe tbody tr th:only-of-type {\n",
       "        vertical-align: middle;\n",
       "    }\n",
       "\n",
       "    .dataframe tbody tr th {\n",
       "        vertical-align: top;\n",
       "    }\n",
       "\n",
       "    .dataframe thead th {\n",
       "        text-align: right;\n",
       "    }\n",
       "</style>\n",
       "<table border=\"1\" class=\"dataframe\">\n",
       "  <thead>\n",
       "    <tr style=\"text-align: right;\">\n",
       "      <th></th>\n",
       "      <th>id</th>\n",
       "      <th>node_id</th>\n",
       "      <th>name</th>\n",
       "      <th>full_name</th>\n",
       "      <th>private</th>\n",
       "      <th>html_url</th>\n",
       "      <th>description</th>\n",
       "      <th>fork</th>\n",
       "      <th>url</th>\n",
       "      <th>forks_url</th>\n",
       "      <th>...</th>\n",
       "      <th>permissions.pull</th>\n",
       "      <th>license</th>\n",
       "      <th>search_query</th>\n",
       "      <th>search_term</th>\n",
       "      <th>search_term_source</th>\n",
       "      <th>natural_language</th>\n",
       "      <th>search_type</th>\n",
       "      <th>coding_dh_date</th>\n",
       "      <th>cleaned_search_query</th>\n",
       "      <th>coding_dh_id</th>\n",
       "    </tr>\n",
       "  </thead>\n",
       "  <tbody>\n",
       "    <tr>\n",
       "      <th>25</th>\n",
       "      <td>259946094</td>\n",
       "      <td>MDEwOlJlcG9zaXRvcnkyNTk5NDYwOTQ=</td>\n",
       "      <td>journal-of-digital-history</td>\n",
       "      <td>C2DH/journal-of-digital-history</td>\n",
       "      <td>False</td>\n",
       "      <td>https://github.com/C2DH/journal-of-digital-his...</td>\n",
       "      <td>frontend app for our Digital Journal</td>\n",
       "      <td>False</td>\n",
       "      <td>https://api.github.com/repos/C2DH/journal-of-d...</td>\n",
       "      <td>https://api.github.com/repos/C2DH/journal-of-d...</td>\n",
       "      <td>...</td>\n",
       "      <td>True</td>\n",
       "      <td>NaN</td>\n",
       "      <td>https://api.github.com/search/repositories?q=D...</td>\n",
       "      <td>Digital History</td>\n",
       "      <td>Digital History</td>\n",
       "      <td>bs, en, ky, la, sn, fy, yo</td>\n",
       "      <td>searched</td>\n",
       "      <td>2023-03-14</td>\n",
       "      <td>https://api.github.com/search/repositories?q=D...</td>\n",
       "      <td>0</td>\n",
       "    </tr>\n",
       "    <tr>\n",
       "      <th>26</th>\n",
       "      <td>259946094</td>\n",
       "      <td>MDEwOlJlcG9zaXRvcnkyNTk5NDYwOTQ=</td>\n",
       "      <td>journal-of-digital-history</td>\n",
       "      <td>C2DH/journal-of-digital-history</td>\n",
       "      <td>False</td>\n",
       "      <td>https://github.com/C2DH/journal-of-digital-his...</td>\n",
       "      <td>frontend app for our Digital Journal</td>\n",
       "      <td>False</td>\n",
       "      <td>https://api.github.com/repos/C2DH/journal-of-d...</td>\n",
       "      <td>https://api.github.com/repos/C2DH/journal-of-d...</td>\n",
       "      <td>...</td>\n",
       "      <td>True</td>\n",
       "      <td>NaN</td>\n",
       "      <td>https://api.github.com/search/repositories?q=\"...</td>\n",
       "      <td>Digital History</td>\n",
       "      <td>Digital History</td>\n",
       "      <td>bs, en, ky, la, sn, fy, yo</td>\n",
       "      <td>searched</td>\n",
       "      <td>2023-03-18</td>\n",
       "      <td>https://api.github.com/search/repositories?q=D...</td>\n",
       "      <td>1</td>\n",
       "    </tr>\n",
       "    <tr>\n",
       "      <th>27</th>\n",
       "      <td>259946094</td>\n",
       "      <td>MDEwOlJlcG9zaXRvcnkyNTk5NDYwOTQ=</td>\n",
       "      <td>journal-of-digital-history</td>\n",
       "      <td>C2DH/journal-of-digital-history</td>\n",
       "      <td>False</td>\n",
       "      <td>https://github.com/C2DH/journal-of-digital-his...</td>\n",
       "      <td>frontend app for our Digital Journal</td>\n",
       "      <td>False</td>\n",
       "      <td>https://api.github.com/repos/C2DH/journal-of-d...</td>\n",
       "      <td>https://api.github.com/repos/C2DH/journal-of-d...</td>\n",
       "      <td>...</td>\n",
       "      <td>True</td>\n",
       "      <td>NaN</td>\n",
       "      <td>https://api.github.com/search/repositories?q=\"...</td>\n",
       "      <td>Digital History</td>\n",
       "      <td>Digital History</td>\n",
       "      <td>bs, en, ky, la, sn, fy, yo</td>\n",
       "      <td>searched</td>\n",
       "      <td>2024-01-13</td>\n",
       "      <td>https://api.github.com/search/repositories?q=D...</td>\n",
       "      <td>2</td>\n",
       "    </tr>\n",
       "  </tbody>\n",
       "</table>\n",
       "<p>3 rows × 115 columns</p>\n",
       "</div>"
      ],
      "text/plain": [
       "           id                           node_id                        name  \\\n",
       "25  259946094  MDEwOlJlcG9zaXRvcnkyNTk5NDYwOTQ=  journal-of-digital-history   \n",
       "26  259946094  MDEwOlJlcG9zaXRvcnkyNTk5NDYwOTQ=  journal-of-digital-history   \n",
       "27  259946094  MDEwOlJlcG9zaXRvcnkyNTk5NDYwOTQ=  journal-of-digital-history   \n",
       "\n",
       "                          full_name  private  \\\n",
       "25  C2DH/journal-of-digital-history    False   \n",
       "26  C2DH/journal-of-digital-history    False   \n",
       "27  C2DH/journal-of-digital-history    False   \n",
       "\n",
       "                                             html_url  \\\n",
       "25  https://github.com/C2DH/journal-of-digital-his...   \n",
       "26  https://github.com/C2DH/journal-of-digital-his...   \n",
       "27  https://github.com/C2DH/journal-of-digital-his...   \n",
       "\n",
       "                             description   fork  \\\n",
       "25  frontend app for our Digital Journal  False   \n",
       "26  frontend app for our Digital Journal  False   \n",
       "27  frontend app for our Digital Journal  False   \n",
       "\n",
       "                                                  url  \\\n",
       "25  https://api.github.com/repos/C2DH/journal-of-d...   \n",
       "26  https://api.github.com/repos/C2DH/journal-of-d...   \n",
       "27  https://api.github.com/repos/C2DH/journal-of-d...   \n",
       "\n",
       "                                            forks_url  ... permissions.pull  \\\n",
       "25  https://api.github.com/repos/C2DH/journal-of-d...  ...             True   \n",
       "26  https://api.github.com/repos/C2DH/journal-of-d...  ...             True   \n",
       "27  https://api.github.com/repos/C2DH/journal-of-d...  ...             True   \n",
       "\n",
       "   license                                       search_query  \\\n",
       "25     NaN  https://api.github.com/search/repositories?q=D...   \n",
       "26     NaN  https://api.github.com/search/repositories?q=\"...   \n",
       "27     NaN  https://api.github.com/search/repositories?q=\"...   \n",
       "\n",
       "        search_term search_term_source            natural_language  \\\n",
       "25  Digital History    Digital History  bs, en, ky, la, sn, fy, yo   \n",
       "26  Digital History    Digital History  bs, en, ky, la, sn, fy, yo   \n",
       "27  Digital History    Digital History  bs, en, ky, la, sn, fy, yo   \n",
       "\n",
       "   search_type coding_dh_date  \\\n",
       "25    searched     2023-03-14   \n",
       "26    searched     2023-03-18   \n",
       "27    searched     2024-01-13   \n",
       "\n",
       "                                 cleaned_search_query coding_dh_id  \n",
       "25  https://api.github.com/search/repositories?q=D...            0  \n",
       "26  https://api.github.com/search/repositories?q=D...            1  \n",
       "27  https://api.github.com/search/repositories?q=D...            2  \n",
       "\n",
       "[3 rows x 115 columns]"
      ]
     },
     "execution_count": 35,
     "metadata": {},
     "output_type": "execute_result"
    }
   ],
   "source": [
    "df[df.full_name == \"C2DH/journal-of-digital-history\"]"
   ]
  },
  {
   "cell_type": "code",
   "execution_count": 60,
   "metadata": {},
   "outputs": [],
   "source": [
    "test = pd.read_csv(\"../../datasets/temp/redo_users/kamangir_potential_users.csv\")\n",
    "test2 = pd.read_csv(\"../../datasets/temp/temp_users/kamangir_potential_users.csv\")"
   ]
  },
  {
   "cell_type": "code",
   "execution_count": 63,
   "metadata": {},
   "outputs": [],
   "source": [
    "tests = pd.concat([test, test2], axis=0, ignore_index=True)"
   ]
  },
  {
   "cell_type": "code",
   "execution_count": 67,
   "metadata": {},
   "outputs": [
    {
     "data": {
      "text/plain": [
       "0    20\n",
       "1    23\n",
       "Name: followers, dtype: int64"
      ]
     },
     "execution_count": 67,
     "metadata": {},
     "output_type": "execute_result"
    }
   ],
   "source": [
    "tests['followers']"
   ]
  },
  {
   "cell_type": "code",
   "execution_count": 62,
   "metadata": {},
   "outputs": [
    {
     "data": {
      "text/plain": [
       "set()"
      ]
     },
     "execution_count": 62,
     "metadata": {},
     "output_type": "execute_result"
    }
   ],
   "source": [
    "set(test.columns.tolist()).difference(set(test2.columns.tolist()))"
   ]
  },
  {
   "cell_type": "code",
   "execution_count": null,
   "metadata": {},
   "outputs": [],
   "source": [
    "import datetime\n",
    "def get_file_date(file_path):\n",
    "    # Get the creation time\n",
    "    creation_time = os.path.getctime(file_path)\n",
    "\n",
    "    # Convert the timestamp to a datetime object\n",
    "    creation_date = datetime.datetime.fromtimestamp(creation_time)\n",
    "    return creation_date"
   ]
  },
  {
   "cell_type": "code",
   "execution_count": 59,
   "metadata": {},
   "outputs": [
    {
     "name": "stdout",
     "output_type": "stream",
     "text": [
      "../../datasets/temp/temp_users/kamangir_potential_users.csv\n",
      "../../datasets/temp/temp_users/GabrielDancause_potential_users.csv\n",
      "../../datasets/temp/temp_users/axellelecroq_potential_users.csv\n",
      "../../datasets/temp/temp_users/zmuhls_potential_users.csv\n",
      "../../datasets/temp/temp_users/Felegz_potential_users.csv\n",
      "../../datasets/temp/temp_users/bmix_potential_users.csv\n",
      "../../datasets/temp/temp_users/peterjaric_potential_users.csv\n",
      "../../datasets/temp/temp_users/lizuoyue_potential_users.csv\n",
      "../../datasets/temp/temp_users/vinoddalvi_potential_users.csv\n",
      "../../datasets/temp/temp_users/aslishah_potential_users.csv\n",
      "../../datasets/temp/temp_users/mattiafilosa22_potential_users.csv\n",
      "../../datasets/temp/temp_users/mfmcc1_potential_users.csv\n",
      "../../datasets/temp/temp_users/khatvangi_potential_users.csv\n",
      "../../datasets/temp/temp_users/andrewbattista_potential_users.csv\n",
      "../../datasets/temp/temp_users/lishka_potential_users.csv\n",
      "../../datasets/temp/temp_users/lin-du_potential_users.csv\n",
      "../../datasets/temp/temp_users/EdelaGit_potential_users.csv\n",
      "../../datasets/temp/temp_users/deblnia_potential_users.csv\n",
      "../../datasets/temp/temp_users/SanBal_potential_users.csv\n",
      "../../datasets/temp/temp_users/tegarjgap_potential_users.csv\n",
      "../../datasets/temp/temp_users/ShanKothari_potential_users.csv\n",
      "../../datasets/temp/temp_users/standardgalactic_potential_users.csv\n",
      "../../datasets/temp/temp_users/MarSassi_potential_users.csv\n",
      "../../datasets/temp/temp_users/elohanlon_potential_users.csv\n",
      "../../datasets/temp/temp_users/arfr_potential_users.csv\n",
      "../../datasets/temp/temp_users/christianp_potential_users.csv\n",
      "../../datasets/temp/temp_users/agustif_potential_users.csv\n",
      "../../datasets/temp/temp_users/georgethemarmot_potential_users.csv\n",
      "../../datasets/temp/temp_users/AizazSharif_potential_users.csv\n"
     ]
    },
    {
     "name": "stderr",
     "output_type": "stream",
     "text": [
      "/var/folders/fc/c_5vvt992871rr8qbqy645340000gq/T/ipykernel_22275/1050364804.py:21: FutureWarning: Behavior when concatenating bool-dtype and numeric-dtype arrays is deprecated; in a future version these will cast to object dtype (instead of coercing bools to numeric values). To retain the old behavior, explicitly cast bool-dtype arrays to numeric dtype.\n",
      "  dfs = pd.concat([df, df2])\n"
     ]
    },
    {
     "name": "stdout",
     "output_type": "stream",
     "text": [
      "../../datasets/temp/temp_users/johnfonner_potential_users.csv\n",
      "../../datasets/temp/temp_users/ThomasG77_potential_users.csv\n",
      "../../datasets/temp/temp_users/SonjaNilson_potential_users.csv\n",
      "../../datasets/temp/temp_users/mingsquall_potential_users.csv\n",
      "../../datasets/temp/temp_users/LShining_potential_users.csv\n",
      "../../datasets/temp/temp_users/travisbrown_potential_users.csv\n",
      "../../datasets/temp/temp_users/crmin_potential_users.csv\n",
      "../../datasets/temp/temp_users/tamer1an_potential_users.csv\n",
      "../../datasets/temp/temp_users/dlr1251_potential_users.csv\n",
      "../../datasets/temp/temp_users/awagner-mainz_potential_users.csv\n",
      "../../datasets/temp/temp_users/jmurty_potential_users.csv\n",
      "../../datasets/temp/temp_users/mojavelinux_potential_users.csv\n",
      "../../datasets/temp/temp_users/grasshoff_potential_users.csv\n",
      "../../datasets/temp/temp_users/evesala_potential_users.csv\n",
      "../../datasets/temp/temp_users/jbaiter_potential_users.csv\n",
      "../../datasets/temp/temp_users/DavydovichYana_potential_users.csv\n",
      "../../datasets/temp/temp_users/vparrilla_potential_users.csv\n",
      "../../datasets/temp/temp_users/mebrett_potential_users.csv\n",
      "../../datasets/temp/temp_users/rmiessle_potential_users.csv\n",
      "../../datasets/temp/temp_users/MarvinWyrich_potential_users.csv\n",
      "../../datasets/temp/temp_users/bryanstedman_potential_users.csv\n",
      "../../datasets/temp/temp_users/philohikmah_potential_users.csv\n",
      "../../datasets/temp/temp_users/opensemanticsearch_potential_users.csv\n",
      "../../datasets/temp/temp_users/Phu2_potential_users.csv\n",
      "../../datasets/temp/temp_users/atla5_potential_users.csv\n",
      "../../datasets/temp/temp_users/trustmedecor_potential_users.csv\n",
      "../../datasets/temp/temp_users/jallred33_potential_users.csv\n",
      "../../datasets/temp/temp_users/mahemoff_potential_users.csv\n",
      "../../datasets/temp/temp_users/ismaeldevmw_potential_users.csv\n",
      "../../datasets/temp/temp_users/banuni_potential_users.csv\n",
      "../../datasets/temp/temp_users/bertsky_potential_users.csv\n",
      "../../datasets/temp/temp_users/photomedia_potential_users.csv\n",
      "../../datasets/temp/temp_users/awebbey_potential_users.csv\n",
      "../../datasets/temp/temp_users/zacchiro_potential_users.csv\n",
      "../../datasets/temp/temp_users/stevemcgough_potential_users.csv\n",
      "../../datasets/temp/temp_users/acermak_potential_users.csv\n",
      "../../datasets/temp/temp_users/ccqgithub_potential_users.csv\n",
      "../../datasets/temp/temp_users/IlliaOvcharenko_potential_users.csv\n",
      "../../datasets/temp/temp_users/wilmesis36_potential_users.csv\n",
      "../../datasets/temp/temp_users/kaivalyar_potential_users.csv\n",
      "../../datasets/temp/temp_users/chaoqunni_potential_users.csv\n",
      "../../datasets/temp/temp_users/tem11010_potential_users.csv\n",
      "../../datasets/temp/temp_users/SleepyKoalaHSC_potential_users.csv\n",
      "../../datasets/temp/temp_users/JacobR_potential_users.csv\n",
      "../../datasets/temp/temp_users/omshivaprakash_potential_users.csv\n",
      "../../datasets/temp/temp_users/royendgel_potential_users.csv\n",
      "../../datasets/temp/temp_users/Kshitij08_potential_users.csv\n",
      "../../datasets/temp/temp_users/frabbitry_potential_users.csv\n",
      "../../datasets/temp/temp_users/dhop_potential_users.csv\n",
      "../../datasets/temp/temp_users/adrianl726_potential_users.csv\n",
      "../../datasets/temp/temp_users/cezanne75_potential_users.csv\n",
      "../../datasets/temp/temp_users/Samnoel95_potential_users.csv\n",
      "../../datasets/temp/temp_users/alligin_potential_users.csv\n",
      "../../datasets/temp/temp_users/lucasliza_potential_users.csv\n",
      "../../datasets/temp/temp_users/Pascal-KOTTE_potential_users.csv\n",
      "../../datasets/temp/temp_users/andrewheiss_potential_users.csv\n",
      "../../datasets/temp/temp_users/tomByrer_potential_users.csv\n",
      "../../datasets/temp/temp_users/csarven_potential_users.csv\n",
      "../../datasets/temp/temp_users/73616e646572_potential_users.csv\n",
      "../../datasets/temp/temp_users/guanghanp_potential_users.csv\n",
      "../../datasets/temp/temp_users/shivanipods_potential_users.csv\n",
      "../../datasets/temp/temp_users/eaklykova_potential_users.csv\n",
      "../../datasets/temp/temp_users/ThatcherC_potential_users.csv\n",
      "../../datasets/temp/temp_users/seanohue_potential_users.csv\n",
      "../../datasets/temp/temp_users/VijayrajS_potential_users.csv\n",
      "../../datasets/temp/temp_users/fatmai_potential_users.csv\n",
      "../../datasets/temp/temp_users/oachan_potential_users.csv\n",
      "../../datasets/temp/temp_users/savioligiorgia_potential_users.csv\n",
      "../../datasets/temp/temp_users/gperu_potential_users.csv\n",
      "../../datasets/temp/temp_users/biktorrr_potential_users.csv\n",
      "../../datasets/temp/temp_users/jglev_potential_users.csv\n",
      "../../datasets/temp/temp_users/joshuarrrr_potential_users.csv\n",
      "../../datasets/temp/temp_users/BaylorRae_potential_users.csv\n",
      "../../datasets/temp/temp_users/taupecat_potential_users.csv\n",
      "../../datasets/temp/temp_users/jfilter_potential_users.csv\n",
      "../../datasets/temp/temp_users/misclabs_potential_users.csv\n",
      "../../datasets/temp/temp_users/jmcglone_potential_users.csv\n",
      "../../datasets/temp/temp_users/Uniaut_potential_users.csv\n",
      "../../datasets/temp/temp_users/phillipsyoav_potential_users.csv\n",
      "../../datasets/temp/temp_users/kvchitrapu_potential_users.csv\n",
      "../../datasets/temp/temp_users/KIshan-Shashikumar_potential_users.csv\n",
      "../../datasets/temp/temp_users/qhwa_potential_users.csv\n",
      "../../datasets/temp/temp_users/simonrjones_potential_users.csv\n",
      "../../datasets/temp/temp_users/DH-LAB-NB_potential_users.csv\n",
      "../../datasets/temp/temp_users/EricJoung1997_potential_users.csv\n",
      "../../datasets/temp/temp_users/sritchie73_potential_users.csv\n",
      "../../datasets/temp/temp_users/drnelson6_potential_users.csv\n",
      "../../datasets/temp/temp_users/florianess_potential_users.csv\n",
      "../../datasets/temp/temp_users/dpenning_potential_users.csv\n",
      "../../datasets/temp/temp_users/dlevsky_potential_users.csv\n",
      "../../datasets/temp/temp_users/djw8605_potential_users.csv\n",
      "../../datasets/temp/temp_users/vvasuki_potential_users.csv\n",
      "../../datasets/temp/temp_users/samspo_potential_users.csv\n",
      "../../datasets/temp/temp_users/swebb145_potential_users.csv\n",
      "../../datasets/temp/temp_users/gbiagomba_potential_users.csv\n",
      "../../datasets/temp/temp_users/Avivbh_potential_users.csv\n",
      "../../datasets/temp/temp_users/williamjturkel_potential_users.csv\n",
      "../../datasets/temp/temp_users/edgartaor_potential_users.csv\n",
      "../../datasets/temp/temp_users/stefanprobst_potential_users.csv\n",
      "../../datasets/temp/temp_users/geoglrb_potential_users.csv\n",
      "../../datasets/temp/temp_users/windauer_potential_users.csv\n",
      "../../datasets/temp/temp_users/nwilliam868_potential_users.csv\n",
      "../../datasets/temp/temp_users/Lunali98_potential_users.csv\n",
      "../../datasets/temp/temp_users/srikar2097_potential_users.csv\n",
      "../../datasets/temp/temp_users/supercaizehua_potential_users.csv\n",
      "../../datasets/temp/temp_users/justinjensen_potential_users.csv\n",
      "../../datasets/temp/temp_users/techdragon_potential_users.csv\n",
      "../../datasets/temp/temp_users/paper2code-bot_potential_users.csv\n",
      "../../datasets/temp/temp_users/prayagverma_potential_users.csv\n",
      "../../datasets/temp/temp_users/kmlawson_potential_users.csv\n",
      "../../datasets/temp/temp_users/perlatex_potential_users.csv\n",
      "../../datasets/temp/temp_users/bobdc_potential_users.csv\n",
      "../../datasets/temp/temp_users/apogonoe_potential_users.csv\n",
      "../../datasets/temp/temp_users/robonetphy_potential_users.csv\n",
      "../../datasets/temp/temp_users/sgolanka_potential_users.csv\n",
      "../../datasets/temp/temp_users/owikle_potential_users.csv\n",
      "../../datasets/temp/temp_users/ori346_potential_users.csv\n",
      "../../datasets/temp/temp_users/xiaoshi8418_potential_users.csv\n",
      "../../datasets/temp/temp_users/brymz_potential_users.csv\n",
      "../../datasets/temp/temp_users/beardicus_potential_users.csv\n",
      "../../datasets/temp/temp_users/vertti_potential_users.csv\n",
      "../../datasets/temp/temp_users/jonike_potential_users.csv\n",
      "../../datasets/temp/temp_users/shnadman_potential_users.csv\n",
      "../../datasets/temp/temp_users/gurmanbh_potential_users.csv\n",
      "../../datasets/temp/temp_users/dubmassacre_potential_users.csv\n",
      "../../datasets/temp/temp_users/mariajoafana_potential_users.csv\n",
      "../../datasets/temp/temp_users/accaplan_potential_users.csv\n",
      "../../datasets/temp/temp_users/thoughtfulbloke_potential_users.csv\n",
      "../../datasets/temp/temp_users/bradgessler_potential_users.csv\n",
      "../../datasets/temp/temp_users/ziggystar_potential_users.csv\n",
      "../../datasets/temp/temp_users/fklein-lu_potential_users.csv\n",
      "../../datasets/temp/temp_users/codacy-badger_potential_users.csv\n",
      "../../datasets/temp/temp_users/muhammad-hamdi_potential_users.csv\n",
      "../../datasets/temp/temp_users/moczkowski_potential_users.csv\n",
      "../../datasets/temp/temp_users/SalvatoreDiMarzo_potential_users.csv\n",
      "../../datasets/temp/temp_users/Miraclezyq_potential_users.csv\n",
      "../../datasets/temp/temp_users/cwebber_potential_users.csv\n",
      "../../datasets/temp/temp_users/SeverinJB_potential_users.csv\n",
      "../../datasets/temp/temp_users/gsbodine_potential_users.csv\n",
      "../../datasets/temp/temp_users/chraibi_potential_users.csv\n",
      "../../datasets/temp/temp_users/jaeyk_potential_users.csv\n",
      "../../datasets/temp/temp_users/iGore_potential_users.csv\n",
      "../../datasets/temp/temp_users/MatteoBiviano_potential_users.csv\n",
      "../../datasets/temp/temp_users/jiffyclub_potential_users.csv\n",
      "../../datasets/temp/temp_users/nk9_potential_users.csv\n",
      "../../datasets/temp/temp_users/XJF0609_potential_users.csv\n",
      "../../datasets/temp/temp_users/moritzmock_potential_users.csv\n",
      "../../datasets/temp/temp_users/paolomonella_potential_users.csv\n",
      "../../datasets/temp/temp_users/mdermentzi_potential_users.csv\n",
      "../../datasets/temp/temp_users/ararebit_potential_users.csv\n",
      "../../datasets/temp/temp_users/nikolito_potential_users.csv\n",
      "../../datasets/temp/temp_users/jcross_potential_users.csv\n",
      "../../datasets/temp/temp_users/ivanov_potential_users.csv\n",
      "../../datasets/temp/temp_users/Benolds_potential_users.csv\n",
      "../../datasets/temp/temp_users/seriousran_potential_users.csv\n",
      "../../datasets/temp/temp_users/audy_potential_users.csv\n",
      "../../datasets/temp/temp_users/benabbottnz_potential_users.csv\n",
      "../../datasets/temp/temp_users/LukasCBossert_potential_users.csv\n",
      "../../datasets/temp/temp_users/odietric_potential_users.csv\n",
      "../../datasets/temp/temp_users/benjaffe_potential_users.csv\n",
      "../../datasets/temp/temp_users/shekfeh_potential_users.csv\n",
      "../../datasets/temp/temp_users/shoaibmirza_potential_users.csv\n",
      "../../datasets/temp/temp_users/DominikFilipiak_potential_users.csv\n",
      "../../datasets/temp/temp_users/outformatics_potential_users.csv\n",
      "../../datasets/temp/temp_users/emacglone_potential_users.csv\n",
      "../../datasets/temp/temp_users/jimmy0017_potential_users.csv\n",
      "../../datasets/temp/temp_users/giuliataurino_potential_users.csv\n",
      "../../datasets/temp/temp_users/funkhou9_potential_users.csv\n",
      "../../datasets/temp/temp_users/huguesfontenelle_potential_users.csv\n",
      "../../datasets/temp/temp_users/erinsiodmak_potential_users.csv\n",
      "../../datasets/temp/temp_users/giselatt_potential_users.csv\n",
      "../../datasets/temp/temp_users/danmichaelo_potential_users.csv\n",
      "../../datasets/temp/temp_users/fmagin_potential_users.csv\n",
      "../../datasets/temp/temp_users/perfectstrong_potential_users.csv\n",
      "../../datasets/temp/temp_users/c-martinez_potential_users.csv\n",
      "../../datasets/temp/temp_users/maxim-belkin_potential_users.csv\n",
      "../../datasets/temp/temp_users/JaKaMen_potential_users.csv\n",
      "../../datasets/temp/temp_users/jumbojett_potential_users.csv\n",
      "../../datasets/temp/temp_users/dhyegocalota_potential_users.csv\n",
      "../../datasets/temp/temp_users/camillevilla_potential_users.csv\n",
      "../../datasets/temp/temp_users/aramaki-san_potential_users.csv\n",
      "../../datasets/temp/temp_users/Pyrofoux_potential_users.csv\n",
      "../../datasets/temp/temp_users/emedema_potential_users.csv\n",
      "../../datasets/temp/temp_users/jarmoza_potential_users.csv\n",
      "../../datasets/temp/temp_users/joeytakeda_potential_users.csv\n",
      "../../datasets/temp/temp_users/MarkFontenot_potential_users.csv\n",
      "../../datasets/temp/temp_users/sadorlovsky_potential_users.csv\n",
      "../../datasets/temp/temp_users/obrienben_potential_users.csv\n",
      "../../datasets/temp/temp_users/CrazyCrud_potential_users.csv\n",
      "../../datasets/temp/temp_users/eshook2010_potential_users.csv\n",
      "../../datasets/temp/temp_users/salus-sage_potential_users.csv\n",
      "../../datasets/temp/temp_users/bart-kneepkens_potential_users.csv\n",
      "../../datasets/temp/temp_users/xeonvs_potential_users.csv\n",
      "../../datasets/temp/temp_users/eab0619_potential_users.csv\n",
      "../../datasets/temp/temp_users/glorieux-f_potential_users.csv\n",
      "../../datasets/temp/temp_users/sfsheath_potential_users.csv\n",
      "../../datasets/temp/temp_users/jwkooim_potential_users.csv\n",
      "../../datasets/temp/temp_users/drw_potential_users.csv\n",
      "../../datasets/temp/temp_users/apjanco_potential_users.csv\n",
      "../../datasets/temp/temp_users/pathi_potential_users.csv\n",
      "../../datasets/temp/temp_users/LuisAmmi_potential_users.csv\n",
      "../../datasets/temp/temp_users/delfimpandiani_potential_users.csv\n",
      "../../datasets/temp/temp_users/GracefulLemming_potential_users.csv\n",
      "../../datasets/temp/temp_users/HelenaSabel_potential_users.csv\n",
      "../../datasets/temp/temp_users/jjborrelli_potential_users.csv\n",
      "../../datasets/temp/temp_users/depocen_potential_users.csv\n",
      "../../datasets/temp/temp_users/jcuenod_potential_users.csv\n",
      "../../datasets/temp/temp_users/SebastianKohler_potential_users.csv\n",
      "../../datasets/temp/temp_users/boileaum_potential_users.csv\n",
      "../../datasets/temp/temp_users/iliyad85_potential_users.csv\n",
      "../../datasets/temp/temp_users/matty-plumski_potential_users.csv\n",
      "../../datasets/temp/temp_users/Enkerli_potential_users.csv\n",
      "../../datasets/temp/temp_users/zonca_potential_users.csv\n",
      "../../datasets/temp/temp_users/InnovativeInventor_potential_users.csv\n",
      "../../datasets/temp/temp_users/r4isstatic_potential_users.csv\n",
      "../../datasets/temp/temp_users/ancatmara_potential_users.csv\n",
      "../../datasets/temp/temp_users/adbar_potential_users.csv\n",
      "../../datasets/temp/temp_users/jacob-long_potential_users.csv\n",
      "../../datasets/temp/temp_users/ShimaDTA_potential_users.csv\n",
      "../../datasets/temp/temp_users/brunobengo_potential_users.csv\n",
      "../../datasets/temp/temp_users/sophiaaknight_potential_users.csv\n",
      "../../datasets/temp/temp_users/aserlich_potential_users.csv\n",
      "../../datasets/temp/temp_users/morskyjezek_potential_users.csv\n",
      "../../datasets/temp/temp_users/Rhybo_potential_users.csv\n",
      "../../datasets/temp/temp_users/gasyoun_potential_users.csv\n",
      "../../datasets/temp/temp_users/altryne_potential_users.csv\n",
      "../../datasets/temp/temp_users/tiagosousagarcia_potential_users.csv\n",
      "../../datasets/temp/temp_users/enridaga_potential_users.csv\n",
      "../../datasets/temp/temp_users/ianstewart_potential_users.csv\n",
      "../../datasets/temp/temp_users/thvitt_potential_users.csv\n",
      "../../datasets/temp/temp_users/anthon_potential_users.csv\n",
      "../../datasets/temp/temp_users/hasmyth_potential_users.csv\n",
      "../../datasets/temp/temp_users/jamesosullivan_potential_users.csv\n",
      "../../datasets/temp/temp_users/karawoo_potential_users.csv\n",
      "../../datasets/temp/temp_users/mduda100871_potential_users.csv\n",
      "../../datasets/temp/temp_users/anneferger_potential_users.csv\n",
      "../../datasets/temp/temp_users/audenaert_potential_users.csv\n",
      "../../datasets/temp/temp_users/koenvb_potential_users.csv\n",
      "../../datasets/temp/temp_users/pipitone_potential_users.csv\n",
      "../../datasets/temp/temp_users/erickpeirson_potential_users.csv\n",
      "../../datasets/temp/temp_users/omar-anayat_potential_users.csv\n",
      "../../datasets/temp/temp_users/jghauser_potential_users.csv\n",
      "../../datasets/temp/temp_users/sven-nm_potential_users.csv\n",
      "../../datasets/temp/temp_users/danielmitd_potential_users.csv\n",
      "../../datasets/temp/temp_users/dlukes_potential_users.csv\n",
      "../../datasets/temp/temp_users/susannalles_potential_users.csv\n",
      "../../datasets/temp/temp_users/alstat_potential_users.csv\n",
      "../../datasets/temp/temp_users/toffebjorkskog_potential_users.csv\n",
      "../../datasets/temp/temp_users/ebeshero_potential_users.csv\n",
      "../../datasets/temp/temp_users/gatespace_potential_users.csv\n",
      "../../datasets/temp/temp_users/rohanchn_potential_users.csv\n",
      "../../datasets/temp/temp_users/mattdennewitz_potential_users.csv\n",
      "../../datasets/temp/temp_users/frausabine_potential_users.csv\n",
      "../../datasets/temp/temp_users/chatvite_potential_users.csv\n",
      "../../datasets/temp/temp_users/davidjb_potential_users.csv\n",
      "../../datasets/temp/temp_users/lionel-nj_potential_users.csv\n",
      "../../datasets/temp/temp_users/jairideout_potential_users.csv\n",
      "../../datasets/temp/temp_users/kraus-s_potential_users.csv\n",
      "../../datasets/temp/temp_users/SFDrake_potential_users.csv\n",
      "../../datasets/temp/temp_users/aflueckiger_potential_users.csv\n",
      "../../datasets/temp/temp_users/slojo404_potential_users.csv\n",
      "../../datasets/temp/temp_users/aayi_potential_users.csv\n",
      "../../datasets/temp/temp_users/nikopartanen_potential_users.csv\n",
      "../../datasets/temp/temp_users/snamburi3_potential_users.csv\n",
      "../../datasets/temp/temp_users/ryanfyalk_potential_users.csv\n",
      "../../datasets/temp/temp_users/thechaplin_potential_users.csv\n",
      "../../datasets/temp/temp_users/mwakok_potential_users.csv\n",
      "../../datasets/temp/temp_users/jbolmarcich_potential_users.csv\n",
      "../../datasets/temp/temp_users/sunyuedha_potential_users.csv\n",
      "../../datasets/temp/temp_users/marknewton_potential_users.csv\n",
      "../../datasets/temp/temp_users/markeyev_potential_users.csv\n",
      "../../datasets/temp/temp_users/EduardsSk_potential_users.csv\n",
      "../../datasets/temp/temp_users/nikolas_potential_users.csv\n",
      "../../datasets/temp/temp_users/leighphan_potential_users.csv\n",
      "../../datasets/temp/temp_users/emory_potential_users.csv\n",
      "../../datasets/temp/temp_users/DanielBrav_potential_users.csv\n",
      "../../datasets/temp/temp_users/ericwcampbell_potential_users.csv\n",
      "../../datasets/temp/temp_users/Amour2077_potential_users.csv\n",
      "../../datasets/temp/temp_users/eeshto_potential_users.csv\n",
      "../../datasets/temp/temp_users/steffenfritz_potential_users.csv\n",
      "../../datasets/temp/temp_users/ajenhl_potential_users.csv\n",
      "../../datasets/temp/temp_users/pvjulien_potential_users.csv\n",
      "../../datasets/temp/temp_users/felipesalas1_potential_users.csv\n",
      "../../datasets/temp/temp_users/patrickmj_potential_users.csv\n",
      "../../datasets/temp/temp_users/sommerschield_potential_users.csv\n",
      "../../datasets/temp/temp_users/giupea_potential_users.csv\n",
      "../../datasets/temp/temp_users/lindamood_potential_users.csv\n",
      "../../datasets/temp/temp_users/thisisthefuture_potential_users.csv\n",
      "../../datasets/temp/temp_users/mshakirDr_potential_users.csv\n",
      "../../datasets/temp/temp_users/retgef_potential_users.csv\n",
      "../../datasets/temp/temp_users/whitflores_potential_users.csv\n",
      "../../datasets/temp/temp_users/jarmitage_potential_users.csv\n",
      "../../datasets/temp/temp_users/paneacat_potential_users.csv\n",
      "../../datasets/temp/temp_users/t-shoemaker_potential_users.csv\n",
      "../../datasets/temp/temp_users/matt-tum_potential_users.csv\n",
      "../../datasets/temp/temp_users/tomoya-sasaki_potential_users.csv\n",
      "../../datasets/temp/temp_users/jynnie_potential_users.csv\n",
      "../../datasets/temp/temp_users/clevercelt_potential_users.csv\n",
      "../../datasets/temp/temp_users/amritamaz_potential_users.csv\n",
      "../../datasets/temp/temp_users/latex-ninja_potential_users.csv\n",
      "../../datasets/temp/temp_users/villares_potential_users.csv\n",
      "../../datasets/temp/temp_users/hugobaeta_potential_users.csv\n",
      "../../datasets/temp/temp_users/crislanealves_potential_users.csv\n",
      "../../datasets/temp/temp_users/sakinashibuya_potential_users.csv\n",
      "../../datasets/temp/temp_users/Langvann_potential_users.csv\n",
      "../../datasets/temp/temp_users/cynthiahqy_potential_users.csv\n",
      "../../datasets/temp/temp_users/donutdespair_potential_users.csv\n",
      "../../datasets/temp/temp_users/gmcmahon_potential_users.csv\n",
      "../../datasets/temp/temp_users/Liunanzhu_potential_users.csv\n",
      "../../datasets/temp/temp_users/papasanimohansrinivas_potential_users.csv\n",
      "../../datasets/temp/temp_users/hakimel_potential_users.csv\n",
      "../../datasets/temp/temp_users/ayaanhossain_potential_users.csv\n",
      "../../datasets/temp/temp_users/isag91_potential_users.csv\n",
      "../../datasets/temp/temp_users/StagerLee_potential_users.csv\n",
      "../../datasets/temp/temp_users/langMatthias_potential_users.csv\n",
      "../../datasets/temp/temp_users/michaelhaaf_potential_users.csv\n",
      "../../datasets/temp/temp_users/jehoonchae_potential_users.csv\n",
      "../../datasets/temp/temp_users/YoavCohen_potential_users.csv\n",
      "../../datasets/temp/temp_users/synesthesiam_potential_users.csv\n",
      "../../datasets/temp/temp_users/tangert_potential_users.csv\n",
      "../../datasets/temp/temp_users/hiiambradkim_potential_users.csv\n",
      "../../datasets/temp/temp_users/bncolorado_potential_users.csv\n",
      "../../datasets/temp/temp_users/CaptSolo_potential_users.csv\n",
      "../../datasets/temp/temp_users/martysteer_potential_users.csv\n",
      "../../datasets/temp/temp_users/Sue-Fwl_potential_users.csv\n",
      "../../datasets/temp/temp_users/naupaka_potential_users.csv\n",
      "../../datasets/temp/temp_users/michael_potential_users.csv\n",
      "../../datasets/temp/temp_users/haihan-yu_potential_users.csv\n",
      "../../datasets/temp/temp_users/samhardyhey_potential_users.csv\n",
      "../../datasets/temp/temp_users/jamescummings_potential_users.csv\n",
      "../../datasets/temp/temp_users/aarontw_potential_users.csv\n"
     ]
    },
    {
     "name": "stderr",
     "output_type": "stream",
     "text": [
      "/var/folders/fc/c_5vvt992871rr8qbqy645340000gq/T/ipykernel_22275/1050364804.py:21: FutureWarning: Behavior when concatenating bool-dtype and numeric-dtype arrays is deprecated; in a future version these will cast to object dtype (instead of coercing bools to numeric values). To retain the old behavior, explicitly cast bool-dtype arrays to numeric dtype.\n",
      "  dfs = pd.concat([df, df2])\n"
     ]
    },
    {
     "name": "stdout",
     "output_type": "stream",
     "text": [
      "../../datasets/temp/temp_users/jboynyc_potential_users.csv\n",
      "../../datasets/temp/temp_users/symac_potential_users.csv\n",
      "../../datasets/temp/temp_users/recife25_potential_users.csv\n",
      "../../datasets/temp/temp_users/gbstringer_potential_users.csv\n",
      "../../datasets/temp/temp_users/datapolitan_potential_users.csv\n",
      "../../datasets/temp/temp_users/pleonard212_potential_users.csv\n",
      "../../datasets/temp/temp_users/gkthiruvathukal_potential_users.csv\n",
      "../../datasets/temp/temp_users/grahamearley_potential_users.csv\n",
      "../../datasets/temp/temp_users/ad-si_potential_users.csv\n",
      "../../datasets/temp/temp_users/thgie_potential_users.csv\n",
      "../../datasets/temp/temp_users/trisongz_potential_users.csv\n",
      "../../datasets/temp/temp_users/Ned2191_potential_users.csv\n",
      "../../datasets/temp/temp_users/chpollin_potential_users.csv\n",
      "../../datasets/temp/temp_users/sros-UNED_potential_users.csv\n",
      "../../datasets/temp/temp_users/SKrywinski_potential_users.csv\n",
      "../../datasets/temp/temp_users/lizziehop_potential_users.csv\n",
      "../../datasets/temp/temp_users/Metnal_potential_users.csv\n",
      "../../datasets/temp/temp_users/rmdort_potential_users.csv\n",
      "../../datasets/temp/temp_users/villaorlado_potential_users.csv\n",
      "../../datasets/temp/temp_users/mdogy_potential_users.csv\n",
      "../../datasets/temp/temp_users/kevin931_potential_users.csv\n",
      "../../datasets/temp/temp_users/thorn0_potential_users.csv\n",
      "../../datasets/temp/temp_users/rshravan_potential_users.csv\n",
      "../../datasets/temp/temp_users/KateAThornley_potential_users.csv\n",
      "../../datasets/temp/temp_users/yauhen-info_potential_users.csv\n",
      "../../datasets/temp/temp_users/jethrojohnson_potential_users.csv\n",
      "../../datasets/temp/temp_users/kozmic_potential_users.csv\n",
      "../../datasets/temp/temp_users/limjyy_potential_users.csv\n",
      "../../datasets/temp/temp_users/jaspersim_potential_users.csv\n",
      "../../datasets/temp/temp_users/reveurmichael_potential_users.csv\n",
      "../../datasets/temp/temp_users/muranamihdk_potential_users.csv\n",
      "../../datasets/temp/temp_users/AdriaPadilla_potential_users.csv\n",
      "../../datasets/temp/temp_users/mohanenm_potential_users.csv\n",
      "../../datasets/temp/temp_users/jaberg_potential_users.csv\n",
      "../../datasets/temp/temp_users/BardouilleMhea_potential_users.csv\n",
      "../../datasets/temp/temp_users/Gakurankuran_potential_users.csv\n",
      "../../datasets/temp/temp_users/Jamacs_potential_users.csv\n",
      "../../datasets/temp/temp_users/samszo_potential_users.csv\n",
      "../../datasets/temp/temp_users/ConstiDami_potential_users.csv\n",
      "../../datasets/temp/temp_users/disegnovitruviano_potential_users.csv\n",
      "../../datasets/temp/temp_users/likeblood_potential_users.csv\n",
      "../../datasets/temp/temp_users/arvati_potential_users.csv\n",
      "../../datasets/temp/temp_users/karstengresch_potential_users.csv\n",
      "../../datasets/temp/temp_users/runesha_potential_users.csv\n",
      "../../datasets/temp/temp_users/alla-g_potential_users.csv\n",
      "../../datasets/temp/temp_users/openbibleinfo_potential_users.csv\n",
      "../../datasets/temp/temp_users/sssolll_potential_users.csv\n",
      "../../datasets/temp/temp_users/kalmarlansmuseum_potential_users.csv\n",
      "../../datasets/temp/temp_users/giuliac89_potential_users.csv\n",
      "../../datasets/temp/temp_users/belliajika_potential_users.csv\n",
      "../../datasets/temp/temp_users/JuliaZhujihuiya_potential_users.csv\n",
      "../../datasets/temp/temp_users/kevinsegal_potential_users.csv\n",
      "../../datasets/temp/temp_users/mbeets_potential_users.csv\n",
      "../../datasets/temp/temp_users/ErBatta_potential_users.csv\n",
      "../../datasets/temp/temp_users/caterime_potential_users.csv\n",
      "../../datasets/temp/temp_users/functino_potential_users.csv\n",
      "../../datasets/temp/temp_users/Cat-Of-Devil_potential_users.csv\n",
      "../../datasets/temp/temp_users/jpawlowski_potential_users.csv\n",
      "../../datasets/temp/temp_users/rlgunt2001_potential_users.csv\n",
      "../../datasets/temp/temp_users/liginv_potential_users.csv\n",
      "../../datasets/temp/temp_users/chloeppd_potential_users.csv\n",
      "../../datasets/temp/temp_users/JoachimFrydenlund_potential_users.csv\n",
      "../../datasets/temp/temp_users/jlmartin100_potential_users.csv\n",
      "../../datasets/temp/temp_users/verdurin_potential_users.csv\n",
      "../../datasets/temp/temp_users/annajiat_potential_users.csv\n",
      "../../datasets/temp/temp_users/Xinjian-Paul-Li_potential_users.csv\n",
      "../../datasets/temp/temp_users/mroswell_potential_users.csv\n",
      "../../datasets/temp/temp_users/aaronkebede_potential_users.csv\n",
      "../../datasets/temp/temp_users/ikitozen_potential_users.csv\n",
      "../../datasets/temp/temp_users/magbb_potential_users.csv\n",
      "../../datasets/temp/temp_users/jmclawson_potential_users.csv\n",
      "../../datasets/temp/temp_users/jarmokivekas_potential_users.csv\n",
      "../../datasets/temp/temp_users/cyschneck_potential_users.csv\n",
      "../../datasets/temp/temp_users/ztd5049_potential_users.csv\n",
      "../../datasets/temp/temp_users/iksinski_potential_users.csv\n",
      "../../datasets/temp/temp_users/zebraft_potential_users.csv\n",
      "../../datasets/temp/temp_users/MarwAhmed_potential_users.csv\n",
      "../../datasets/temp/temp_users/glozachmeur_potential_users.csv\n",
      "../../datasets/temp/temp_users/trivial-vector_potential_users.csv\n",
      "../../datasets/temp/temp_users/blueorris_potential_users.csv\n",
      "../../datasets/temp/temp_users/oslego_potential_users.csv\n",
      "../../datasets/temp/temp_users/MirjamVisscher_potential_users.csv\n",
      "../../datasets/temp/temp_users/cybersimon_potential_users.csv\n",
      "../../datasets/temp/temp_users/Umairican_potential_users.csv\n",
      "../../datasets/temp/temp_users/maelle_potential_users.csv\n",
      "../../datasets/temp/temp_users/devinhiggins_potential_users.csv\n",
      "../../datasets/temp/temp_users/bhageena_potential_users.csv\n",
      "../../datasets/temp/temp_users/HomeMylove_potential_users.csv\n",
      "../../datasets/temp/temp_users/mignonstyle_potential_users.csv\n",
      "../../datasets/temp/temp_users/JasonHoffmann_potential_users.csv\n",
      "../../datasets/temp/temp_users/complexbrains_potential_users.csv\n",
      "../../datasets/temp/temp_users/lchski_potential_users.csv\n",
      "../../datasets/temp/temp_users/suttonbradley_potential_users.csv\n",
      "../../datasets/temp/temp_users/chsteiner_potential_users.csv\n",
      "../../datasets/temp/temp_users/coy123_potential_users.csv\n",
      "../../datasets/temp/temp_users/jhuband_potential_users.csv\n",
      "../../datasets/temp/temp_users/etiennej70_potential_users.csv\n",
      "../../datasets/temp/temp_users/shihao94_potential_users.csv\n",
      "../../datasets/temp/temp_users/obilodeau_potential_users.csv\n",
      "../../datasets/temp/temp_users/msarahan_potential_users.csv\n",
      "../../datasets/temp/temp_users/EZolotariov_potential_users.csv\n",
      "../../datasets/temp/temp_users/ginestra_potential_users.csv\n",
      "../../datasets/temp/temp_users/StaffanBetner_potential_users.csv\n",
      "../../datasets/temp/temp_users/lphegley_potential_users.csv\n",
      "../../datasets/temp/temp_users/areejalsheikh_potential_users.csv\n",
      "../../datasets/temp/temp_users/pinkychow1010_potential_users.csv\n",
      "../../datasets/temp/temp_users/ElisabethRaunig_potential_users.csv\n",
      "../../datasets/temp/temp_users/sabbirshawon_potential_users.csv\n",
      "../../datasets/temp/temp_users/C-Band_potential_users.csv\n",
      "../../datasets/temp/temp_users/abduld_potential_users.csv\n",
      "../../datasets/temp/temp_users/realjanpaulus_potential_users.csv\n",
      "../../datasets/temp/temp_users/FiorelaCiroku_potential_users.csv\n",
      "../../datasets/temp/temp_users/asherkhb_potential_users.csv\n",
      "../../datasets/temp/temp_users/pastokes_potential_users.csv\n",
      "../../datasets/temp/temp_users/zapplecat_potential_users.csv\n",
      "../../datasets/temp/temp_users/SiongSng_potential_users.csv\n",
      "../../datasets/temp/temp_users/abunuwas_potential_users.csv\n",
      "../../datasets/temp/temp_users/s2ceball_potential_users.csv\n",
      "../../datasets/temp/temp_users/jibanCat_potential_users.csv\n",
      "../../datasets/temp/temp_users/eddsalkield_potential_users.csv\n",
      "../../datasets/temp/temp_users/dcjones1789_potential_users.csv\n",
      "../../datasets/temp/temp_users/HuangJunye_potential_users.csv\n",
      "../../datasets/temp/temp_users/dandybytes_potential_users.csv\n",
      "../../datasets/temp/temp_users/MichiK_potential_users.csv\n",
      "../../datasets/temp/temp_users/iklaush_potential_users.csv\n",
      "../../datasets/temp/temp_users/bogden1_potential_users.csv\n",
      "../../datasets/temp/temp_users/ostephens_potential_users.csv\n",
      "../../datasets/temp/temp_users/AnilSener_potential_users.csv\n",
      "../../datasets/temp/temp_users/nilsreiter_potential_users.csv\n",
      "../../datasets/temp/temp_users/PeterGilles_potential_users.csv\n",
      "../../datasets/temp/temp_users/ablekh_potential_users.csv\n",
      "../../datasets/temp/temp_users/binipringle_potential_users.csv\n",
      "../../datasets/temp/temp_users/lpcoladangelo_potential_users.csv\n",
      "../../datasets/temp/temp_users/songproducer_potential_users.csv\n",
      "../../datasets/temp/temp_users/mavela_potential_users.csv\n",
      "../../datasets/temp/temp_users/PO-VINCENT_potential_users.csv\n",
      "../../datasets/temp/temp_users/raemundo_potential_users.csv\n",
      "../../datasets/temp/temp_users/rjw57_potential_users.csv\n",
      "../../datasets/temp/temp_users/filzwieser_potential_users.csv\n",
      "../../datasets/temp/temp_users/owsleybc_potential_users.csv\n",
      "../../datasets/temp/temp_users/Lacoz_potential_users.csv\n",
      "../../datasets/temp/temp_users/xiejia1995_potential_users.csv\n",
      "../../datasets/temp/temp_users/ronojoy_potential_users.csv\n",
      "../../datasets/temp/temp_users/frostoffmax_potential_users.csv\n",
      "../../datasets/temp/temp_users/prisnormando_potential_users.csv\n",
      "../../datasets/temp/temp_users/robcronin_potential_users.csv\n",
      "../../datasets/temp/temp_users/mialondon_potential_users.csv\n",
      "../../datasets/temp/temp_users/mattboch_potential_users.csv\n",
      "../../datasets/temp/temp_users/cgalarza_potential_users.csv\n",
      "../../datasets/temp/temp_users/pacian_potential_users.csv\n",
      "../../datasets/temp/temp_users/frankszll_potential_users.csv\n",
      "../../datasets/temp/temp_users/denten_potential_users.csv\n",
      "../../datasets/temp/temp_users/Praggie_potential_users.csv\n",
      "../../datasets/temp/temp_users/cscottmills_potential_users.csv\n",
      "../../datasets/temp/temp_users/kwight_potential_users.csv\n",
      "../../datasets/temp/temp_users/mika-jpd_potential_users.csv\n",
      "../../datasets/temp/temp_users/mmathieum_potential_users.csv\n",
      "../../datasets/temp/temp_users/kendaleiv_potential_users.csv\n",
      "../../datasets/temp/temp_users/alyssafahringer_potential_users.csv\n",
      "../../datasets/temp/temp_users/deantiquate_potential_users.csv\n",
      "../../datasets/temp/temp_users/andresborn_potential_users.csv\n",
      "../../datasets/temp/temp_users/aerhard_potential_users.csv\n",
      "../../datasets/temp/temp_users/GO5IT_potential_users.csv\n",
      "../../datasets/temp/temp_users/adm-2k_potential_users.csv\n",
      "../../datasets/temp/temp_users/alecshaw_potential_users.csv\n",
      "../../datasets/temp/temp_users/gatlinnewhouse_potential_users.csv\n",
      "../../datasets/temp/temp_users/arojascastro_potential_users.csv\n",
      "../../datasets/temp/temp_users/besener_potential_users.csv\n",
      "../../datasets/temp/temp_users/agoldst_potential_users.csv\n",
      "../../datasets/temp/temp_users/resendeacm_potential_users.csv\n"
     ]
    },
    {
     "name": "stderr",
     "output_type": "stream",
     "text": [
      "/var/folders/fc/c_5vvt992871rr8qbqy645340000gq/T/ipykernel_22275/1050364804.py:21: FutureWarning: Behavior when concatenating bool-dtype and numeric-dtype arrays is deprecated; in a future version these will cast to object dtype (instead of coercing bools to numeric values). To retain the old behavior, explicitly cast bool-dtype arrays to numeric dtype.\n",
      "  dfs = pd.concat([df, df2])\n"
     ]
    },
    {
     "name": "stdout",
     "output_type": "stream",
     "text": [
      "../../datasets/temp/temp_users/azleslie_potential_users.csv\n",
      "../../datasets/temp/temp_users/tansengming_potential_users.csv\n",
      "../../datasets/temp/temp_users/iamapunkmonkey_potential_users.csv\n",
      "../../datasets/temp/temp_users/swissspidy_potential_users.csv\n",
      "../../datasets/temp/temp_users/DanilSko_potential_users.csv\n",
      "../../datasets/temp/temp_users/amandamiotto_potential_users.csv\n",
      "../../datasets/temp/temp_users/hmishra2250_potential_users.csv\n",
      "../../datasets/temp/temp_users/emansom_potential_users.csv\n",
      "../../datasets/temp/temp_users/nscyclone_potential_users.csv\n",
      "../../datasets/temp/temp_users/dhyxy_potential_users.csv\n",
      "../../datasets/temp/temp_users/Seanny123_potential_users.csv\n",
      "../../datasets/temp/temp_users/fghaas_potential_users.csv\n",
      "../../datasets/temp/temp_users/ImanHashemi_potential_users.csv\n",
      "../../datasets/temp/temp_users/igauravsehrawat_potential_users.csv\n",
      "../../datasets/temp/temp_users/danieleborghe_potential_users.csv\n",
      "../../datasets/temp/temp_users/pbd84_potential_users.csv\n",
      "../../datasets/temp/temp_users/ruthsander_potential_users.csv\n",
      "../../datasets/temp/temp_users/hamzahanif2210_potential_users.csv\n",
      "../../datasets/temp/temp_users/jschaefer619_potential_users.csv\n",
      "../../datasets/temp/temp_users/peterneish_potential_users.csv\n",
      "../../datasets/temp/temp_users/bond-os_potential_users.csv\n",
      "../../datasets/temp/temp_users/btbytes_potential_users.csv\n",
      "../../datasets/temp/temp_users/magicchests_potential_users.csv\n",
      "../../datasets/temp/temp_users/brocktopus_potential_users.csv\n",
      "../../datasets/temp/temp_users/kholoshnia_potential_users.csv\n",
      "../../datasets/temp/temp_users/biblenerd_potential_users.csv\n",
      "../../datasets/temp/temp_users/BroderickHigby_potential_users.csv\n",
      "../../datasets/temp/temp_users/snowdj_potential_users.csv\n",
      "../../datasets/temp/temp_users/thcipriani_potential_users.csv\n",
      "../../datasets/temp/temp_users/anbasile_potential_users.csv\n",
      "../../datasets/temp/temp_users/LudovicaErre_potential_users.csv\n",
      "../../datasets/temp/temp_users/XueyinJessica_potential_users.csv\n",
      "../../datasets/temp/temp_users/LKirst_potential_users.csv\n",
      "../../datasets/temp/temp_users/ChadMoran_potential_users.csv\n",
      "../../datasets/temp/temp_users/faustusdotbe_potential_users.csv\n",
      "../../datasets/temp/temp_users/KevinRamsunder_potential_users.csv\n",
      "../../datasets/temp/temp_users/chazsolo_potential_users.csv\n",
      "../../datasets/temp/temp_users/yeemey_potential_users.csv\n",
      "../../datasets/temp/temp_users/bedwards254_potential_users.csv\n",
      "../../datasets/temp/temp_users/EricaAndreose_potential_users.csv\n",
      "../../datasets/temp/temp_users/bygreencn_potential_users.csv\n",
      "../../datasets/temp/temp_users/mjavaly_potential_users.csv\n",
      "../../datasets/temp/temp_users/cbahlai_potential_users.csv\n",
      "../../datasets/temp/temp_users/sarahmonster_potential_users.csv\n",
      "../../datasets/temp/temp_users/emilydolson_potential_users.csv\n",
      "../../datasets/temp/temp_users/sthorn_potential_users.csv\n",
      "../../datasets/temp/temp_users/schassan_potential_users.csv\n",
      "../../datasets/temp/temp_users/AnneMTreasure_potential_users.csv\n",
      "../../datasets/temp/temp_users/franciscolopes_potential_users.csv\n",
      "../../datasets/temp/temp_users/Jina-Kim_potential_users.csv\n",
      "../../datasets/temp/temp_users/juandonito_potential_users.csv\n",
      "../../datasets/temp/temp_users/Arpa97_potential_users.csv\n",
      "../../datasets/temp/temp_users/s-moon_potential_users.csv\n",
      "../../datasets/temp/temp_users/anh-nguyen-98_potential_users.csv\n",
      "../../datasets/temp/temp_users/bbest_potential_users.csv\n",
      "../../datasets/temp/temp_users/CanOfBees_potential_users.csv\n",
      "../../datasets/temp/temp_users/jvansoest_potential_users.csv\n",
      "../../datasets/temp/temp_users/b4D8_potential_users.csv\n",
      "../../datasets/temp/temp_users/Zarreta_potential_users.csv\n",
      "../../datasets/temp/temp_users/anhnguyendepocen_potential_users.csv\n",
      "../../datasets/temp/temp_users/matisscastor_potential_users.csv\n",
      "../../datasets/temp/temp_users/roryhardy_potential_users.csv\n",
      "../../datasets/temp/temp_users/sdmccabe_potential_users.csv\n",
      "../../datasets/temp/temp_users/arockenberger_potential_users.csv\n",
      "../../datasets/temp/temp_users/TyotkinDmitriy_potential_users.csv\n",
      "../../datasets/temp/temp_users/AndreaDonatini_potential_users.csv\n",
      "../../datasets/temp/temp_users/nowviskie_potential_users.csv\n",
      "../../datasets/temp/temp_users/huangjunjie-cs_potential_users.csv\n",
      "../../datasets/temp/temp_users/szeke_potential_users.csv\n",
      "../../datasets/temp/temp_users/kzapata19_potential_users.csv\n",
      "../../datasets/temp/temp_users/soupwaylee_potential_users.csv\n",
      "../../datasets/temp/temp_users/genericmethod_potential_users.csv\n",
      "../../datasets/temp/temp_users/TomDeneire_potential_users.csv\n",
      "../../datasets/temp/temp_users/davidnwright_potential_users.csv\n"
     ]
    },
    {
     "name": "stderr",
     "output_type": "stream",
     "text": [
      "/var/folders/fc/c_5vvt992871rr8qbqy645340000gq/T/ipykernel_22275/1050364804.py:21: FutureWarning: Behavior when concatenating bool-dtype and numeric-dtype arrays is deprecated; in a future version these will cast to object dtype (instead of coercing bools to numeric values). To retain the old behavior, explicitly cast bool-dtype arrays to numeric dtype.\n",
      "  dfs = pd.concat([df, df2])\n"
     ]
    },
    {
     "name": "stdout",
     "output_type": "stream",
     "text": [
      "../../datasets/temp/temp_users/ateucher_potential_users.csv\n",
      "../../datasets/temp/temp_users/philgooch_potential_users.csv\n",
      "../../datasets/temp/temp_users/rlarson20_potential_users.csv\n",
      "../../datasets/temp/temp_users/jimsmithm3_potential_users.csv\n",
      "../../datasets/temp/temp_users/nmaynes_potential_users.csv\n",
      "../../datasets/temp/temp_users/christofs_potential_users.csv\n",
      "../../datasets/temp/temp_users/davidderoure_potential_users.csv\n",
      "../../datasets/temp/temp_users/davidmcclure_potential_users.csv\n",
      "../../datasets/temp/temp_users/DavidKi_potential_users.csv\n",
      "../../datasets/temp/temp_users/BillMills_potential_users.csv\n",
      "../../datasets/temp/temp_users/ontoligent_potential_users.csv\n",
      "../../datasets/temp/temp_users/naomiyaki_potential_users.csv\n",
      "../../datasets/temp/temp_users/jamotilla_potential_users.csv\n",
      "../../datasets/temp/temp_users/fandinod_potential_users.csv\n",
      "../../datasets/temp/temp_users/fredgibbs_potential_users.csv\n",
      "../../datasets/temp/temp_users/ondich_potential_users.csv\n",
      "../../datasets/temp/temp_users/pbanaszkiewicz_potential_users.csv\n",
      "../../datasets/temp/temp_users/jellyfjsh_potential_users.csv\n",
      "../../datasets/temp/temp_users/RyuuYuki_potential_users.csv\n",
      "../../datasets/temp/temp_users/borh_potential_users.csv\n",
      "../../datasets/temp/temp_users/toltarisa_potential_users.csv\n",
      "../../datasets/temp/temp_users/sxywu_potential_users.csv\n",
      "../../datasets/temp/temp_users/salgo60_potential_users.csv\n",
      "../../datasets/temp/temp_users/azh248_potential_users.csv\n",
      "../../datasets/temp/temp_users/akshayb7_potential_users.csv\n",
      "../../datasets/temp/temp_users/StefanieSenger_potential_users.csv\n",
      "../../datasets/temp/temp_users/kianaeunice_potential_users.csv\n",
      "../../datasets/temp/temp_users/mgritter_potential_users.csv\n",
      "../../datasets/temp/temp_users/DerGuenther_potential_users.csv\n",
      "../../datasets/temp/temp_users/aahan_potential_users.csv\n",
      "../../datasets/temp/temp_users/fauno_potential_users.csv\n",
      "../../datasets/temp/temp_users/kmcdono2_potential_users.csv\n",
      "../../datasets/temp/temp_users/juliaflanders_potential_users.csv\n",
      "../../datasets/temp/temp_users/dimparf_potential_users.csv\n",
      "../../datasets/temp/temp_users/igravious_potential_users.csv\n",
      "../../datasets/temp/temp_users/brnco_potential_users.csv\n",
      "../../datasets/temp/temp_users/LucaBrunke_potential_users.csv\n",
      "../../datasets/temp/temp_users/MtDeity_potential_users.csv\n",
      "../../datasets/temp/temp_users/ctupman_potential_users.csv\n",
      "../../datasets/temp/temp_users/lisateichmann_potential_users.csv\n",
      "../../datasets/temp/temp_users/ullameeri_potential_users.csv\n",
      "../../datasets/temp/temp_users/SKebig_potential_users.csv\n",
      "../../datasets/temp/temp_users/otanet_potential_users.csv\n",
      "../../datasets/temp/temp_users/RebeccaGuolo_potential_users.csv\n",
      "../../datasets/temp/temp_users/roscopecoltran_potential_users.csv\n",
      "../../datasets/temp/temp_users/ltagliaferri_potential_users.csv\n",
      "../../datasets/temp/temp_users/adunis_potential_users.csv\n",
      "../../datasets/temp/temp_users/bjmiller16_potential_users.csv\n",
      "../../datasets/temp/temp_users/gryn010_potential_users.csv\n",
      "../../datasets/temp/temp_users/Sewens_potential_users.csv\n",
      "../../datasets/temp/temp_users/kylepratuch_potential_users.csv\n",
      "../../datasets/temp/temp_users/techgique_potential_users.csv\n",
      "../../datasets/temp/temp_users/dmj_potential_users.csv\n",
      "../../datasets/temp/temp_users/decolector_potential_users.csv\n",
      "../../datasets/temp/temp_users/cazzerson_potential_users.csv\n",
      "../../datasets/temp/temp_users/callahad_potential_users.csv\n",
      "../../datasets/temp/temp_users/ix4_potential_users.csv\n",
      "../../datasets/temp/temp_users/opennota_potential_users.csv\n",
      "../../datasets/temp/temp_users/Fede7700_potential_users.csv\n",
      "../../datasets/temp/temp_users/sechilds_potential_users.csv\n",
      "../../datasets/temp/temp_users/andreafailla_potential_users.csv\n",
      "../../datasets/temp/temp_users/marcysutton_potential_users.csv\n",
      "../../datasets/temp/temp_users/madchicken_potential_users.csv\n",
      "../../datasets/temp/temp_users/gouenji-shuuya_potential_users.csv\n",
      "../../datasets/temp/temp_users/martinantonmueller_potential_users.csv\n",
      "../../datasets/temp/temp_users/tart2000_potential_users.csv\n",
      "../../datasets/temp/temp_users/kelleyl_potential_users.csv\n",
      "../../datasets/temp/temp_users/cailyncodes_potential_users.csv\n",
      "../../datasets/temp/temp_users/jeongeunpark18_potential_users.csv\n",
      "../../datasets/temp/temp_users/canders1_potential_users.csv\n",
      "../../datasets/temp/temp_users/jrladd_potential_users.csv\n",
      "../../datasets/temp/temp_users/dmj111_potential_users.csv\n",
      "../../datasets/temp/temp_users/anshu-97_potential_users.csv\n",
      "../../datasets/temp/temp_users/Ammeister_potential_users.csv\n",
      "../../datasets/temp/temp_users/taniki_potential_users.csv\n",
      "../../datasets/temp/temp_users/sharris-umass_potential_users.csv\n",
      "../../datasets/temp/temp_users/adamobeng_potential_users.csv\n",
      "../../datasets/temp/temp_users/ablaette_potential_users.csv\n",
      "../../datasets/temp/temp_users/MDMoll_potential_users.csv\n",
      "../../datasets/temp/temp_users/camilasamurai_potential_users.csv\n",
      "../../datasets/temp/temp_users/mcanzi_potential_users.csv\n",
      "../../datasets/temp/temp_users/sierpinskiii_potential_users.csv\n",
      "../../datasets/temp/temp_users/spergel_potential_users.csv\n",
      "../../datasets/temp/temp_users/kkwakwa_potential_users.csv\n",
      "../../datasets/temp/temp_users/anggastudio_potential_users.csv\n",
      "../../datasets/temp/temp_users/monotasker_potential_users.csv\n",
      "../../datasets/temp/temp_users/wrznr_potential_users.csv\n",
      "../../datasets/temp/temp_users/cbergman_potential_users.csv\n",
      "../../datasets/temp/temp_users/Cantavestrella_potential_users.csv\n",
      "../../datasets/temp/temp_users/lorellav_potential_users.csv\n",
      "../../datasets/temp/temp_users/eringrand_potential_users.csv\n",
      "../../datasets/temp/temp_users/TomKellyGenetics_potential_users.csv\n",
      "../../datasets/temp/temp_users/kittmcg_potential_users.csv\n",
      "../../datasets/temp/temp_users/atyre2_potential_users.csv\n",
      "../../datasets/temp/temp_users/cmprince_potential_users.csv\n",
      "../../datasets/temp/temp_users/KristinaRichts_potential_users.csv\n",
      "../../datasets/temp/temp_users/3st3r30sc0p10_potential_users.csv\n",
      "../../datasets/temp/temp_users/tadolim_potential_users.csv\n",
      "../../datasets/temp/temp_users/martimpassos_potential_users.csv\n",
      "../../datasets/temp/temp_users/galliani_potential_users.csv\n",
      "../../datasets/temp/temp_users/heliacerbonne_potential_users.csv\n",
      "../../datasets/temp/temp_users/Slals_potential_users.csv\n",
      "../../datasets/temp/temp_users/jessesadler_potential_users.csv\n",
      "../../datasets/temp/temp_users/gvwilson_potential_users.csv\n",
      "../../datasets/temp/temp_users/stefan-it_potential_users.csv\n",
      "../../datasets/temp/temp_users/CapPow_potential_users.csv\n",
      "../../datasets/temp/temp_users/nestochan_potential_users.csv\n",
      "../../datasets/temp/temp_users/michiecat_potential_users.csv\n",
      "../../datasets/temp/temp_users/yunjusong_potential_users.csv\n",
      "../../datasets/temp/temp_users/leodumont_potential_users.csv\n",
      "../../datasets/temp/temp_users/hlapp_potential_users.csv\n",
      "../../datasets/temp/temp_users/adamyy_potential_users.csv\n",
      "../../datasets/temp/temp_users/jdbuysse_potential_users.csv\n",
      "../../datasets/temp/temp_users/Cele3x_potential_users.csv\n",
      "../../datasets/temp/temp_users/Schoder_potential_users.csv\n",
      "../../datasets/temp/temp_users/timothyjellison_potential_users.csv\n",
      "../../datasets/temp/temp_users/dansmachina_potential_users.csv\n",
      "../../datasets/temp/temp_users/ventocillar_potential_users.csv\n",
      "../../datasets/temp/temp_users/rkclement_potential_users.csv\n",
      "../../datasets/temp/temp_users/fotisj_potential_users.csv\n",
      "../../datasets/temp/temp_users/theotheo_potential_users.csv\n",
      "../../datasets/temp/temp_users/KennethEnevoldsen_potential_users.csv\n",
      "../../datasets/temp/temp_users/karinanw_potential_users.csv\n",
      "../../datasets/temp/temp_users/Karvovskaya_potential_users.csv\n",
      "../../datasets/temp/temp_users/fungunga_potential_users.csv\n",
      "../../datasets/temp/temp_users/barinovaariadna_potential_users.csv\n",
      "../../datasets/temp/temp_users/anpandey_potential_users.csv\n",
      "../../datasets/temp/temp_users/pabliqe_potential_users.csv\n",
      "../../datasets/temp/temp_users/mkuzak_potential_users.csv\n",
      "../../datasets/temp/temp_users/simonamazzarino_potential_users.csv\n",
      "../../datasets/temp/temp_users/akommula_potential_users.csv\n",
      "../../datasets/temp/temp_users/maulinniam_potential_users.csv\n",
      "../../datasets/temp/temp_users/IlaRoss_potential_users.csv\n",
      "../../datasets/temp/temp_users/DFFlanders_potential_users.csv\n",
      "../../datasets/temp/temp_users/vpnagraj_potential_users.csv\n",
      "../../datasets/temp/temp_users/catalinbuzoiu_potential_users.csv\n",
      "../../datasets/temp/temp_users/joshmcrty_potential_users.csv\n",
      "../../datasets/temp/temp_users/mduering_potential_users.csv\n",
      "../../datasets/temp/temp_users/TonyTang1997_potential_users.csv\n",
      "../../datasets/temp/temp_users/sepastian_potential_users.csv\n",
      "../../datasets/temp/temp_users/hardyoyo_potential_users.csv\n",
      "../../datasets/temp/temp_users/JacobGo_potential_users.csv\n",
      "../../datasets/temp/temp_users/janwieners_potential_users.csv\n",
      "../../datasets/temp/temp_users/thibauts_potential_users.csv\n",
      "../../datasets/temp/temp_users/krugbuild_potential_users.csv\n",
      "../../datasets/temp/temp_users/bencomp_potential_users.csv\n",
      "../../datasets/temp/temp_users/briancroxall_potential_users.csv\n",
      "../../datasets/temp/temp_users/MjStrwy_potential_users.csv\n",
      "../../datasets/temp/temp_users/daattali_potential_users.csv\n",
      "../../datasets/temp/temp_users/scottythered_potential_users.csv\n",
      "../../datasets/temp/temp_users/chrismedrela_potential_users.csv\n",
      "../../datasets/temp/temp_users/harrydeluxe_potential_users.csv\n",
      "../../datasets/temp/temp_users/amarois_potential_users.csv\n",
      "../../datasets/temp/temp_users/mwkuster_potential_users.csv\n",
      "../../datasets/temp/temp_users/tcssh611503_potential_users.csv\n",
      "../../datasets/temp/temp_users/tommasobattisti_potential_users.csv\n",
      "../../datasets/temp/temp_users/DanielPollithy_potential_users.csv\n",
      "../../datasets/temp/temp_users/jamigibbs_potential_users.csv\n",
      "../../datasets/temp/temp_users/dirkroorda_potential_users.csv\n",
      "../../datasets/temp/temp_users/sun-tea_potential_users.csv\n",
      "../../datasets/temp/temp_users/aron-depauw_potential_users.csv\n",
      "../../datasets/temp/temp_users/sha-red_potential_users.csv\n",
      "../../datasets/temp/temp_users/markmatney_potential_users.csv\n",
      "../../datasets/temp/temp_users/theone1984_potential_users.csv\n",
      "../../datasets/temp/temp_users/roewenstrunk_potential_users.csv\n",
      "../../datasets/temp/temp_users/SMaxOwok_potential_users.csv\n",
      "../../datasets/temp/temp_users/mirbehroznoor_potential_users.csv\n",
      "../../datasets/temp/temp_users/lizrodrigues_potential_users.csv\n",
      "../../datasets/temp/temp_users/MansMeg_potential_users.csv\n",
      "../../datasets/temp/temp_users/bwcastillo_potential_users.csv\n",
      "../../datasets/temp/temp_users/L9L4_potential_users.csv\n",
      "../../datasets/temp/temp_users/R3KHYT_potential_users.csv\n",
      "../../datasets/temp/temp_users/timodwhit_potential_users.csv\n",
      "../../datasets/temp/temp_users/jennschilling_potential_users.csv\n",
      "../../datasets/temp/temp_users/amrrs_potential_users.csv\n",
      "../../datasets/temp/temp_users/xxdavid_potential_users.csv\n",
      "../../datasets/temp/temp_users/jmdobry_potential_users.csv\n",
      "../../datasets/temp/temp_users/kfenlon_potential_users.csv\n",
      "../../datasets/temp/temp_users/Louisjzhao_potential_users.csv\n",
      "../../datasets/temp/temp_users/laoSVM_potential_users.csv\n",
      "../../datasets/temp/temp_users/computationalstylistics_potential_users.csv\n",
      "../../datasets/temp/temp_users/LaurentGatto_potential_users.csv\n",
      "../../datasets/temp/temp_users/ducin_potential_users.csv\n",
      "../../datasets/temp/temp_users/gabrielbodard_potential_users.csv\n",
      "../../datasets/temp/temp_users/lancewillett_potential_users.csv\n",
      "../../datasets/temp/temp_users/asmod3us_potential_users.csv\n",
      "../../datasets/temp/temp_users/AdamSteffanick_potential_users.csv\n",
      "../../datasets/temp/temp_users/brrd_potential_users.csv\n",
      "../../datasets/temp/temp_users/cbtelemann_potential_users.csv\n",
      "../../datasets/temp/temp_users/crowesn_potential_users.csv\n",
      "../../datasets/temp/temp_users/SCD5363_potential_users.csv\n",
      "../../datasets/temp/temp_users/ycdk_potential_users.csv\n",
      "../../datasets/temp/temp_users/nschonni_potential_users.csv\n",
      "../../datasets/temp/temp_users/reckart_potential_users.csv\n"
     ]
    },
    {
     "name": "stderr",
     "output_type": "stream",
     "text": [
      "/var/folders/fc/c_5vvt992871rr8qbqy645340000gq/T/ipykernel_22275/1050364804.py:21: FutureWarning: Behavior when concatenating bool-dtype and numeric-dtype arrays is deprecated; in a future version these will cast to object dtype (instead of coercing bools to numeric values). To retain the old behavior, explicitly cast bool-dtype arrays to numeric dtype.\n",
      "  dfs = pd.concat([df, df2])\n"
     ]
    },
    {
     "name": "stdout",
     "output_type": "stream",
     "text": [
      "../../datasets/temp/temp_users/jphalip_potential_users.csv\n",
      "../../datasets/temp/temp_users/navateja_potential_users.csv\n",
      "../../datasets/temp/temp_users/xianminx_potential_users.csv\n",
      "../../datasets/temp/temp_users/nemobis_potential_users.csv\n",
      "../../datasets/temp/temp_users/luciapiff_potential_users.csv\n",
      "../../datasets/temp/temp_users/rundimeco_potential_users.csv\n",
      "../../datasets/temp/temp_users/mej_potential_users.csv\n",
      "../../datasets/temp/temp_users/blrtvs_potential_users.csv\n",
      "../../datasets/temp/temp_users/KelleyYin_potential_users.csv\n",
      "../../datasets/temp/temp_users/lesteve_potential_users.csv\n",
      "../../datasets/temp/temp_users/shawn2306_potential_users.csv\n",
      "../../datasets/temp/temp_users/iacobucci_potential_users.csv\n",
      "../../datasets/temp/temp_users/rbeagrie_potential_users.csv\n",
      "../../datasets/temp/temp_users/thars3n_potential_users.csv\n",
      "../../datasets/temp/temp_users/justinallen_potential_users.csv\n",
      "../../datasets/temp/temp_users/federica1994_potential_users.csv\n",
      "../../datasets/temp/temp_users/jkrajniak_potential_users.csv\n",
      "../../datasets/temp/temp_users/Marcel-Pleyer_potential_users.csv\n",
      "../../datasets/temp/temp_users/madhens_potential_users.csv\n",
      "../../datasets/temp/temp_users/Ankush3103_potential_users.csv\n",
      "../../datasets/temp/temp_users/micahwalter_potential_users.csv\n",
      "../../datasets/temp/temp_users/salvatoretaibi_potential_users.csv\n",
      "../../datasets/temp/temp_users/andrefs_potential_users.csv\n",
      "../../datasets/temp/temp_users/joostburgers_potential_users.csv\n",
      "../../datasets/temp/temp_users/Melandra_potential_users.csv\n",
      "../../datasets/temp/temp_users/pssachdeva_potential_users.csv\n",
      "../../datasets/temp/temp_users/hugoquene_potential_users.csv\n"
     ]
    },
    {
     "ename": "UnicodeDecodeError",
     "evalue": "'utf-8' codec can't decode byte 0x80 in position 3131: invalid start byte",
     "output_type": "error",
     "traceback": [
      "\u001b[0;31m---------------------------------------------------------------------------\u001b[0m",
      "\u001b[0;31mUnicodeDecodeError\u001b[0m                        Traceback (most recent call last)",
      "Cell \u001b[0;32mIn[59], line 19\u001b[0m\n\u001b[1;32m     17\u001b[0m     shutil\u001b[38;5;241m.\u001b[39mmove(source_file_path, target_file_path)\n\u001b[1;32m     18\u001b[0m \u001b[38;5;28;01mif\u001b[39;00m os\u001b[38;5;241m.\u001b[39mpath\u001b[38;5;241m.\u001b[39mexists(target_file_path):\n\u001b[0;32m---> 19\u001b[0m     df \u001b[38;5;241m=\u001b[39m \u001b[43mpd\u001b[49m\u001b[38;5;241;43m.\u001b[39;49m\u001b[43mread_csv\u001b[49m\u001b[43m(\u001b[49m\u001b[43mtarget_file_path\u001b[49m\u001b[43m)\u001b[49m\n\u001b[1;32m     20\u001b[0m     df2 \u001b[38;5;241m=\u001b[39m pd\u001b[38;5;241m.\u001b[39mread_csv(source_file_path)\n\u001b[1;32m     21\u001b[0m     dfs \u001b[38;5;241m=\u001b[39m pd\u001b[38;5;241m.\u001b[39mconcat([df, df2])\n",
      "File \u001b[0;32m~/.virtualenvs/values_and_versions_env/lib/python3.9/site-packages/pandas/util/_decorators.py:211\u001b[0m, in \u001b[0;36mdeprecate_kwarg.<locals>._deprecate_kwarg.<locals>.wrapper\u001b[0;34m(*args, **kwargs)\u001b[0m\n\u001b[1;32m    209\u001b[0m     \u001b[38;5;28;01melse\u001b[39;00m:\n\u001b[1;32m    210\u001b[0m         kwargs[new_arg_name] \u001b[38;5;241m=\u001b[39m new_arg_value\n\u001b[0;32m--> 211\u001b[0m \u001b[38;5;28;01mreturn\u001b[39;00m \u001b[43mfunc\u001b[49m\u001b[43m(\u001b[49m\u001b[38;5;241;43m*\u001b[39;49m\u001b[43margs\u001b[49m\u001b[43m,\u001b[49m\u001b[43m \u001b[49m\u001b[38;5;241;43m*\u001b[39;49m\u001b[38;5;241;43m*\u001b[39;49m\u001b[43mkwargs\u001b[49m\u001b[43m)\u001b[49m\n",
      "File \u001b[0;32m~/.virtualenvs/values_and_versions_env/lib/python3.9/site-packages/pandas/util/_decorators.py:331\u001b[0m, in \u001b[0;36mdeprecate_nonkeyword_arguments.<locals>.decorate.<locals>.wrapper\u001b[0;34m(*args, **kwargs)\u001b[0m\n\u001b[1;32m    325\u001b[0m \u001b[38;5;28;01mif\u001b[39;00m \u001b[38;5;28mlen\u001b[39m(args) \u001b[38;5;241m>\u001b[39m num_allow_args:\n\u001b[1;32m    326\u001b[0m     warnings\u001b[38;5;241m.\u001b[39mwarn(\n\u001b[1;32m    327\u001b[0m         msg\u001b[38;5;241m.\u001b[39mformat(arguments\u001b[38;5;241m=\u001b[39m_format_argument_list(allow_args)),\n\u001b[1;32m    328\u001b[0m         \u001b[38;5;167;01mFutureWarning\u001b[39;00m,\n\u001b[1;32m    329\u001b[0m         stacklevel\u001b[38;5;241m=\u001b[39mfind_stack_level(),\n\u001b[1;32m    330\u001b[0m     )\n\u001b[0;32m--> 331\u001b[0m \u001b[38;5;28;01mreturn\u001b[39;00m \u001b[43mfunc\u001b[49m\u001b[43m(\u001b[49m\u001b[38;5;241;43m*\u001b[39;49m\u001b[43margs\u001b[49m\u001b[43m,\u001b[49m\u001b[43m \u001b[49m\u001b[38;5;241;43m*\u001b[39;49m\u001b[38;5;241;43m*\u001b[39;49m\u001b[43mkwargs\u001b[49m\u001b[43m)\u001b[49m\n",
      "File \u001b[0;32m~/.virtualenvs/values_and_versions_env/lib/python3.9/site-packages/pandas/io/parsers/readers.py:950\u001b[0m, in \u001b[0;36mread_csv\u001b[0;34m(filepath_or_buffer, sep, delimiter, header, names, index_col, usecols, squeeze, prefix, mangle_dupe_cols, dtype, engine, converters, true_values, false_values, skipinitialspace, skiprows, skipfooter, nrows, na_values, keep_default_na, na_filter, verbose, skip_blank_lines, parse_dates, infer_datetime_format, keep_date_col, date_parser, dayfirst, cache_dates, iterator, chunksize, compression, thousands, decimal, lineterminator, quotechar, quoting, doublequote, escapechar, comment, encoding, encoding_errors, dialect, error_bad_lines, warn_bad_lines, on_bad_lines, delim_whitespace, low_memory, memory_map, float_precision, storage_options)\u001b[0m\n\u001b[1;32m    935\u001b[0m kwds_defaults \u001b[38;5;241m=\u001b[39m _refine_defaults_read(\n\u001b[1;32m    936\u001b[0m     dialect,\n\u001b[1;32m    937\u001b[0m     delimiter,\n\u001b[0;32m   (...)\u001b[0m\n\u001b[1;32m    946\u001b[0m     defaults\u001b[38;5;241m=\u001b[39m{\u001b[38;5;124m\"\u001b[39m\u001b[38;5;124mdelimiter\u001b[39m\u001b[38;5;124m\"\u001b[39m: \u001b[38;5;124m\"\u001b[39m\u001b[38;5;124m,\u001b[39m\u001b[38;5;124m\"\u001b[39m},\n\u001b[1;32m    947\u001b[0m )\n\u001b[1;32m    948\u001b[0m kwds\u001b[38;5;241m.\u001b[39mupdate(kwds_defaults)\n\u001b[0;32m--> 950\u001b[0m \u001b[38;5;28;01mreturn\u001b[39;00m \u001b[43m_read\u001b[49m\u001b[43m(\u001b[49m\u001b[43mfilepath_or_buffer\u001b[49m\u001b[43m,\u001b[49m\u001b[43m \u001b[49m\u001b[43mkwds\u001b[49m\u001b[43m)\u001b[49m\n",
      "File \u001b[0;32m~/.virtualenvs/values_and_versions_env/lib/python3.9/site-packages/pandas/io/parsers/readers.py:605\u001b[0m, in \u001b[0;36m_read\u001b[0;34m(filepath_or_buffer, kwds)\u001b[0m\n\u001b[1;32m    602\u001b[0m _validate_names(kwds\u001b[38;5;241m.\u001b[39mget(\u001b[38;5;124m\"\u001b[39m\u001b[38;5;124mnames\u001b[39m\u001b[38;5;124m\"\u001b[39m, \u001b[38;5;28;01mNone\u001b[39;00m))\n\u001b[1;32m    604\u001b[0m \u001b[38;5;66;03m# Create the parser.\u001b[39;00m\n\u001b[0;32m--> 605\u001b[0m parser \u001b[38;5;241m=\u001b[39m \u001b[43mTextFileReader\u001b[49m\u001b[43m(\u001b[49m\u001b[43mfilepath_or_buffer\u001b[49m\u001b[43m,\u001b[49m\u001b[43m \u001b[49m\u001b[38;5;241;43m*\u001b[39;49m\u001b[38;5;241;43m*\u001b[39;49m\u001b[43mkwds\u001b[49m\u001b[43m)\u001b[49m\n\u001b[1;32m    607\u001b[0m \u001b[38;5;28;01mif\u001b[39;00m chunksize \u001b[38;5;129;01mor\u001b[39;00m iterator:\n\u001b[1;32m    608\u001b[0m     \u001b[38;5;28;01mreturn\u001b[39;00m parser\n",
      "File \u001b[0;32m~/.virtualenvs/values_and_versions_env/lib/python3.9/site-packages/pandas/io/parsers/readers.py:1442\u001b[0m, in \u001b[0;36mTextFileReader.__init__\u001b[0;34m(self, f, engine, **kwds)\u001b[0m\n\u001b[1;32m   1439\u001b[0m     \u001b[38;5;28mself\u001b[39m\u001b[38;5;241m.\u001b[39moptions[\u001b[38;5;124m\"\u001b[39m\u001b[38;5;124mhas_index_names\u001b[39m\u001b[38;5;124m\"\u001b[39m] \u001b[38;5;241m=\u001b[39m kwds[\u001b[38;5;124m\"\u001b[39m\u001b[38;5;124mhas_index_names\u001b[39m\u001b[38;5;124m\"\u001b[39m]\n\u001b[1;32m   1441\u001b[0m \u001b[38;5;28mself\u001b[39m\u001b[38;5;241m.\u001b[39mhandles: IOHandles \u001b[38;5;241m|\u001b[39m \u001b[38;5;28;01mNone\u001b[39;00m \u001b[38;5;241m=\u001b[39m \u001b[38;5;28;01mNone\u001b[39;00m\n\u001b[0;32m-> 1442\u001b[0m \u001b[38;5;28mself\u001b[39m\u001b[38;5;241m.\u001b[39m_engine \u001b[38;5;241m=\u001b[39m \u001b[38;5;28;43mself\u001b[39;49m\u001b[38;5;241;43m.\u001b[39;49m\u001b[43m_make_engine\u001b[49m\u001b[43m(\u001b[49m\u001b[43mf\u001b[49m\u001b[43m,\u001b[49m\u001b[43m \u001b[49m\u001b[38;5;28;43mself\u001b[39;49m\u001b[38;5;241;43m.\u001b[39;49m\u001b[43mengine\u001b[49m\u001b[43m)\u001b[49m\n",
      "File \u001b[0;32m~/.virtualenvs/values_and_versions_env/lib/python3.9/site-packages/pandas/io/parsers/readers.py:1753\u001b[0m, in \u001b[0;36mTextFileReader._make_engine\u001b[0;34m(self, f, engine)\u001b[0m\n\u001b[1;32m   1750\u001b[0m     \u001b[38;5;28;01mraise\u001b[39;00m \u001b[38;5;167;01mValueError\u001b[39;00m(msg)\n\u001b[1;32m   1752\u001b[0m \u001b[38;5;28;01mtry\u001b[39;00m:\n\u001b[0;32m-> 1753\u001b[0m     \u001b[38;5;28;01mreturn\u001b[39;00m \u001b[43mmapping\u001b[49m\u001b[43m[\u001b[49m\u001b[43mengine\u001b[49m\u001b[43m]\u001b[49m\u001b[43m(\u001b[49m\u001b[43mf\u001b[49m\u001b[43m,\u001b[49m\u001b[43m \u001b[49m\u001b[38;5;241;43m*\u001b[39;49m\u001b[38;5;241;43m*\u001b[39;49m\u001b[38;5;28;43mself\u001b[39;49m\u001b[38;5;241;43m.\u001b[39;49m\u001b[43moptions\u001b[49m\u001b[43m)\u001b[49m\n\u001b[1;32m   1754\u001b[0m \u001b[38;5;28;01mexcept\u001b[39;00m \u001b[38;5;167;01mException\u001b[39;00m:\n\u001b[1;32m   1755\u001b[0m     \u001b[38;5;28;01mif\u001b[39;00m \u001b[38;5;28mself\u001b[39m\u001b[38;5;241m.\u001b[39mhandles \u001b[38;5;129;01mis\u001b[39;00m \u001b[38;5;129;01mnot\u001b[39;00m \u001b[38;5;28;01mNone\u001b[39;00m:\n",
      "File \u001b[0;32m~/.virtualenvs/values_and_versions_env/lib/python3.9/site-packages/pandas/io/parsers/c_parser_wrapper.py:79\u001b[0m, in \u001b[0;36mCParserWrapper.__init__\u001b[0;34m(self, src, **kwds)\u001b[0m\n\u001b[1;32m     76\u001b[0m     kwds\u001b[38;5;241m.\u001b[39mpop(key, \u001b[38;5;28;01mNone\u001b[39;00m)\n\u001b[1;32m     78\u001b[0m kwds[\u001b[38;5;124m\"\u001b[39m\u001b[38;5;124mdtype\u001b[39m\u001b[38;5;124m\"\u001b[39m] \u001b[38;5;241m=\u001b[39m ensure_dtype_objs(kwds\u001b[38;5;241m.\u001b[39mget(\u001b[38;5;124m\"\u001b[39m\u001b[38;5;124mdtype\u001b[39m\u001b[38;5;124m\"\u001b[39m, \u001b[38;5;28;01mNone\u001b[39;00m))\n\u001b[0;32m---> 79\u001b[0m \u001b[38;5;28mself\u001b[39m\u001b[38;5;241m.\u001b[39m_reader \u001b[38;5;241m=\u001b[39m \u001b[43mparsers\u001b[49m\u001b[38;5;241;43m.\u001b[39;49m\u001b[43mTextReader\u001b[49m\u001b[43m(\u001b[49m\u001b[43msrc\u001b[49m\u001b[43m,\u001b[49m\u001b[43m \u001b[49m\u001b[38;5;241;43m*\u001b[39;49m\u001b[38;5;241;43m*\u001b[39;49m\u001b[43mkwds\u001b[49m\u001b[43m)\u001b[49m\n\u001b[1;32m     81\u001b[0m \u001b[38;5;28mself\u001b[39m\u001b[38;5;241m.\u001b[39munnamed_cols \u001b[38;5;241m=\u001b[39m \u001b[38;5;28mself\u001b[39m\u001b[38;5;241m.\u001b[39m_reader\u001b[38;5;241m.\u001b[39munnamed_cols\n\u001b[1;32m     83\u001b[0m \u001b[38;5;66;03m# error: Cannot determine type of 'names'\u001b[39;00m\n",
      "File \u001b[0;32m~/.virtualenvs/values_and_versions_env/lib/python3.9/site-packages/pandas/_libs/parsers.pyx:547\u001b[0m, in \u001b[0;36mpandas._libs.parsers.TextReader.__cinit__\u001b[0;34m()\u001b[0m\n",
      "File \u001b[0;32m~/.virtualenvs/values_and_versions_env/lib/python3.9/site-packages/pandas/_libs/parsers.pyx:636\u001b[0m, in \u001b[0;36mpandas._libs.parsers.TextReader._get_header\u001b[0;34m()\u001b[0m\n",
      "File \u001b[0;32m~/.virtualenvs/values_and_versions_env/lib/python3.9/site-packages/pandas/_libs/parsers.pyx:852\u001b[0m, in \u001b[0;36mpandas._libs.parsers.TextReader._tokenize_rows\u001b[0;34m()\u001b[0m\n",
      "File \u001b[0;32m~/.virtualenvs/values_and_versions_env/lib/python3.9/site-packages/pandas/_libs/parsers.pyx:1965\u001b[0m, in \u001b[0;36mpandas._libs.parsers.raise_parser_error\u001b[0;34m()\u001b[0m\n",
      "\u001b[0;31mUnicodeDecodeError\u001b[0m: 'utf-8' codec can't decode byte 0x80 in position 3131: invalid start byte"
     ]
    }
   ],
   "source": [
    "import os\n",
    "import shutil\n",
    "\n",
    "source_dir = \"../../datasets/temp/redo_users\"\n",
    "target_dir = \"../../datasets/temp/temp_users\"\n",
    "\n",
    "# Get a list of all files in the source directory\n",
    "source_files = os.listdir(source_dir)\n",
    "\n",
    "for file in source_files:\n",
    "    source_file_path = os.path.join(source_dir, file)\n",
    "    target_file_path = os.path.join(target_dir, file)\n",
    "\n",
    "    # Check if the file exists in the target directory\n",
    "    if not os.path.exists(target_file_path):\n",
    "        # If it doesn't exist, move it from the source to the target directory\n",
    "        shutil.move(source_file_path, target_file_path)\n",
    "    if os.path.exists(target_file_path):\n",
    "        df = pd.read_csv(target_file_path)\n",
    "        df2 = pd.read_csv(source_file_path)\n",
    "        dfs = pd.concat([df, df2])\n",
    "        # check if there are any duplicates\n",
    "        if dfs.duplicated().any():\n",
    "            dfs.drop_duplicates(inplace=True)\n",
    "        if len(dfs) > 1:\n",
    "            target_time_created = get_file_date(target_file_path)\n",
    "            source_time_created = get_file_date(source_file_path)\n",
    "            df['coding_dh_date'] = target_time_created\n",
    "            df['coding_dh_id'] = 0\n",
    "            df2['coding_dh_date'] = source_time_created\n",
    "            df2['coding_dh_id'] = 1\n",
    "            dfs = pd.concat([df, df2])\n",
    "            \n",
    "        else:\n",
    "            dfs['coding_dh_date'] = get_file_date(target_file_path)\n",
    "            dfs['coding_dh_id'] = 0\n",
    "        dfs.to_csv(target_file_path, index=False)\n",
    "        os.remove(source_file_path)"
   ]
  },
  {
   "cell_type": "code",
   "execution_count": null,
   "metadata": {},
   "outputs": [],
   "source": []
  }
 ],
 "metadata": {
  "kernelspec": {
   "display_name": "values_and_versions_env",
   "language": "python",
   "name": "python3"
  },
  "language_info": {
   "codemirror_mode": {
    "name": "ipython",
    "version": 3
   },
   "file_extension": ".py",
   "mimetype": "text/x-python",
   "name": "python",
   "nbconvert_exporter": "python",
   "pygments_lexer": "ipython3",
   "version": "3.9.18"
  }
 },
 "nbformat": 4,
 "nbformat_minor": 2
}
