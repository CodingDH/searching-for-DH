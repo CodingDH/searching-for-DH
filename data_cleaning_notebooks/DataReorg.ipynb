{
 "cells": [
  {
   "cell_type": "markdown",
   "metadata": {},
   "source": [
    "# Notebook for Reorganizing Data in Coding DH"
   ]
  },
  {
   "cell_type": "markdown",
   "metadata": {},
   "source": [
    "Realized we needed to improve how we archived our data so that we could get historic snapshots. This notebook is for reorganizing the data."
   ]
  },
  {
   "cell_type": "code",
   "execution_count": 1,
   "metadata": {},
   "outputs": [],
   "source": [
    "import os\n",
    "import pandas as pd\n",
    "import numpy as np\n",
    "from tqdm import tqdm\n",
    "import rich\n",
    "from rich.console import Console\n",
    "console = Console()\n",
    "from datetime import datetime\n",
    "import warnings\n",
    "warnings.filterwarnings(\"ignore\")"
   ]
  },
  {
   "cell_type": "code",
   "execution_count": 38,
   "metadata": {},
   "outputs": [],
   "source": [
    "# Standard library imports\n",
    "import os\n",
    "import re\n",
    "import shutil\n",
    "import time\n",
    "import warnings\n",
    "from datetime import datetime\n",
    "from typing import List, Optional, Union\n",
    "\n",
    "# Related third-party imports\n",
    "import altair as alt\n",
    "import apikey\n",
    "import numpy as np\n",
    "import pandas as pd\n",
    "import requests\n",
    "from rich import print\n",
    "from rich.console import Console\n",
    "from tqdm import tqdm\n",
    "\n",
    "# Local application/library specific imports\n",
    "import vl_convert as vlc\n",
    "\n",
    "# Filter warnings\n",
    "warnings.filterwarnings('ignore')\n",
    "\n",
    "# Load auth token\n",
    "auth_token = apikey.load(\"DH_GITHUB_DATA_PERSONAL_TOKEN\")\n",
    "\n",
    " -H \"Accept: application/vnd.github+json\" \\\n",
    "  -H \"Authorization: Bearer <YOUR-TOKEN>\" \\\n",
    "  -H \"X-GitHub-Api-Version: 2022-11-28\" \\\n",
    "auth_headers = {'Authorization': f'token {auth_token}','User-Agent': 'request', 'Accept': 'application/vnd.github+json', 'X-GitHub-Api-Version': '2022-11-28'}\n",
    "\n",
    "import sys\n",
    "sys.path.append(\"../\")\n",
    "from data_generation_scripts.general_utils import *"
   ]
  },
  {
   "cell_type": "code",
   "execution_count": 115,
   "metadata": {},
   "outputs": [],
   "source": [
    "url = \"https://api.github.com/repos/octocat/Hello-World\""
   ]
  },
  {
   "cell_type": "code",
   "execution_count": 116,
   "metadata": {},
   "outputs": [
    {
     "data": {
      "text/html": [
       "<pre style=\"white-space:pre;overflow-x:auto;line-height:normal;font-family:Menlo,'DejaVu Sans Mono',consolas,'Courier New',monospace\">Status code <span style=\"color: #008080; text-decoration-color: #008080; font-weight: bold\">200</span>\n",
       "</pre>\n"
      ],
      "text/plain": [
       "Status code \u001b[1;36m200\u001b[0m\n"
      ]
     },
     "metadata": {},
     "output_type": "display_data"
    }
   ],
   "source": [
    "# Get total number of pages\n",
    "response = make_request_with_rate_limiting(f'{url}', auth_headers)\n",
    "# # If response is None or there are no links, return 1\n",
    "# if response is None or len(response.links) == 0:\n",
    "#     return 0\n",
    "# # Otherwise, get the last page number\n",
    "# match = re.search(r'\\d+$', response.links['last']['url'])"
   ]
  },
  {
   "cell_type": "code",
   "execution_count": 117,
   "metadata": {},
   "outputs": [],
   "source": [
    "response_df = pd.json_normalize(response.json())"
   ]
  },
  {
   "cell_type": "code",
   "execution_count": 120,
   "metadata": {},
   "outputs": [
    {
     "data": {
      "text/plain": [
       "['id',\n",
       " 'node_id',\n",
       " 'name',\n",
       " 'full_name',\n",
       " 'private',\n",
       " 'html_url',\n",
       " 'description',\n",
       " 'fork',\n",
       " 'url',\n",
       " 'forks_url',\n",
       " 'keys_url',\n",
       " 'collaborators_url',\n",
       " 'teams_url',\n",
       " 'hooks_url',\n",
       " 'issue_events_url',\n",
       " 'events_url',\n",
       " 'assignees_url',\n",
       " 'branches_url',\n",
       " 'tags_url',\n",
       " 'blobs_url',\n",
       " 'git_tags_url',\n",
       " 'git_refs_url',\n",
       " 'trees_url',\n",
       " 'statuses_url',\n",
       " 'languages_url',\n",
       " 'stargazers_url',\n",
       " 'contributors_url',\n",
       " 'subscribers_url',\n",
       " 'subscription_url',\n",
       " 'commits_url',\n",
       " 'git_commits_url',\n",
       " 'comments_url',\n",
       " 'issue_comment_url',\n",
       " 'contents_url',\n",
       " 'compare_url',\n",
       " 'merges_url',\n",
       " 'archive_url',\n",
       " 'downloads_url',\n",
       " 'issues_url',\n",
       " 'pulls_url',\n",
       " 'milestones_url',\n",
       " 'notifications_url',\n",
       " 'labels_url',\n",
       " 'releases_url',\n",
       " 'deployments_url',\n",
       " 'created_at',\n",
       " 'updated_at',\n",
       " 'pushed_at',\n",
       " 'git_url',\n",
       " 'ssh_url',\n",
       " 'clone_url',\n",
       " 'svn_url',\n",
       " 'homepage',\n",
       " 'size',\n",
       " 'stargazers_count',\n",
       " 'watchers_count',\n",
       " 'language',\n",
       " 'has_issues',\n",
       " 'has_projects',\n",
       " 'has_downloads',\n",
       " 'has_wiki',\n",
       " 'has_pages',\n",
       " 'has_discussions',\n",
       " 'forks_count',\n",
       " 'mirror_url',\n",
       " 'archived',\n",
       " 'disabled',\n",
       " 'open_issues_count',\n",
       " 'license',\n",
       " 'allow_forking',\n",
       " 'is_template',\n",
       " 'web_commit_signoff_required',\n",
       " 'topics',\n",
       " 'visibility',\n",
       " 'forks',\n",
       " 'open_issues',\n",
       " 'watchers',\n",
       " 'default_branch',\n",
       " 'temp_clone_token',\n",
       " 'network_count',\n",
       " 'subscribers_count',\n",
       " 'owner.login',\n",
       " 'owner.id',\n",
       " 'owner.node_id',\n",
       " 'owner.avatar_url',\n",
       " 'owner.gravatar_id',\n",
       " 'owner.url',\n",
       " 'owner.html_url',\n",
       " 'owner.followers_url',\n",
       " 'owner.following_url',\n",
       " 'owner.gists_url',\n",
       " 'owner.starred_url',\n",
       " 'owner.subscriptions_url',\n",
       " 'owner.organizations_url',\n",
       " 'owner.repos_url',\n",
       " 'owner.events_url',\n",
       " 'owner.received_events_url',\n",
       " 'owner.type',\n",
       " 'owner.site_admin',\n",
       " 'permissions.admin',\n",
       " 'permissions.maintain',\n",
       " 'permissions.push',\n",
       " 'permissions.triage',\n",
       " 'permissions.pull']"
      ]
     },
     "execution_count": 120,
     "metadata": {},
     "output_type": "execute_result"
    }
   ],
   "source": [
    "response_df.columns.tolist()"
   ]
  },
  {
   "cell_type": "code",
   "execution_count": 104,
   "metadata": {},
   "outputs": [
    {
     "data": {
      "text/plain": [
       "599"
      ]
     },
     "execution_count": 104,
     "metadata": {},
     "output_type": "execute_result"
    }
   ],
   "source": [
    "match = re.search(r'\\d+$', response.links['last']['url'])\n",
    "int(match.group()) if match is not None else 0"
   ]
  },
  {
   "cell_type": "code",
   "execution_count": null,
   "metadata": {},
   "outputs": [],
   "source": []
  },
  {
   "cell_type": "code",
   "execution_count": 43,
   "metadata": {},
   "outputs": [
    {
     "data": {
      "text/plain": [
       "<re.Match object; span=(73, 75), match='41'>"
      ]
     },
     "execution_count": 43,
     "metadata": {},
     "output_type": "execute_result"
    }
   ],
   "source": []
  },
  {
   "cell_type": "code",
   "execution_count": 114,
   "metadata": {},
   "outputs": [],
   "source": [
    "name = \"programminghistorian_ph-submissions_coding_dh_repo\"\n",
    "df = pd.read_csv(f\"../../new_datasets/historic_data/entity_files/all_repos/{name}.csv\")\n",
    "cols_df = pd.read_csv(\"../../new_datasets/metadata_files/repo_url_cols.csv\")\n",
    "skip_types = ['review_comments_count', 'commits_count', 'collaborators_count']\n",
    "cols_df = cols_df[~cols_df.count_column.isin(skip_types)]\n",
    "remove_cols = ['comments_count',\n",
    " 'review_count',\n",
    " 'pulls_count',\n",
    " 'owner.organization_count', 'issues_count', 'contributors_count']\n",
    "df.loc[:, ~df.columns.isin(skip_types + remove_cols)].to_csv(f\"../../new_datasets/historic_data/entity_files/all_repos/{name}.csv\", index=False)"
   ]
  },
  {
   "cell_type": "code",
   "execution_count": 105,
   "metadata": {},
   "outputs": [
    {
     "data": {
      "text/html": [
       "<div>\n",
       "<style scoped>\n",
       "    .dataframe tbody tr th:only-of-type {\n",
       "        vertical-align: middle;\n",
       "    }\n",
       "\n",
       "    .dataframe tbody tr th {\n",
       "        vertical-align: top;\n",
       "    }\n",
       "\n",
       "    .dataframe thead th {\n",
       "        text-align: right;\n",
       "    }\n",
       "</style>\n",
       "<table border=\"1\" class=\"dataframe\">\n",
       "  <thead>\n",
       "    <tr style=\"text-align: right;\">\n",
       "      <th></th>\n",
       "      <th>cols</th>\n",
       "      <th>url_column</th>\n",
       "      <th>count_column</th>\n",
       "      <th>check_state</th>\n",
       "    </tr>\n",
       "  </thead>\n",
       "  <tbody>\n",
       "    <tr>\n",
       "      <th>0</th>\n",
       "      <td>['login', 'id', 'node_id', 'url', 'html_url', ...</td>\n",
       "      <td>issues_url</td>\n",
       "      <td>issues_count</td>\n",
       "      <td>True</td>\n",
       "    </tr>\n",
       "    <tr>\n",
       "      <th>1</th>\n",
       "      <td>['login', 'id', 'node_id', 'url', 'html_url', ...</td>\n",
       "      <td>subscribers_url</td>\n",
       "      <td>subscribers_count</td>\n",
       "      <td>False</td>\n",
       "    </tr>\n",
       "    <tr>\n",
       "      <th>2</th>\n",
       "      <td>['login', 'id', 'node_id', 'url', 'html_url', ...</td>\n",
       "      <td>contributors_url</td>\n",
       "      <td>contributors_count</td>\n",
       "      <td>False</td>\n",
       "    </tr>\n",
       "    <tr>\n",
       "      <th>3</th>\n",
       "      <td>['login', 'id', 'node_id', 'url', 'html_url', ...</td>\n",
       "      <td>forks_url</td>\n",
       "      <td>forks_count</td>\n",
       "      <td>False</td>\n",
       "    </tr>\n",
       "    <tr>\n",
       "      <th>4</th>\n",
       "      <td>['starred_at', 'login', 'id', 'url', 'html_url...</td>\n",
       "      <td>stargazers_url</td>\n",
       "      <td>stargazers_count</td>\n",
       "      <td>False</td>\n",
       "    </tr>\n",
       "    <tr>\n",
       "      <th>5</th>\n",
       "      <td>['url', 'html_url', 'issue_url', 'id', 'node_i...</td>\n",
       "      <td>comments_url</td>\n",
       "      <td>comments_count</td>\n",
       "      <td>True</td>\n",
       "    </tr>\n",
       "    <tr>\n",
       "      <th>6</th>\n",
       "      <td>['url', 'pull_request_review_id', 'id', 'node_...</td>\n",
       "      <td>review_comments_url</td>\n",
       "      <td>review_count</td>\n",
       "      <td>True</td>\n",
       "    </tr>\n",
       "    <tr>\n",
       "      <th>7</th>\n",
       "      <td>['url', 'id', 'node_id', 'html_url', 'diff_url...</td>\n",
       "      <td>pulls_url</td>\n",
       "      <td>pulls_count</td>\n",
       "      <td>True</td>\n",
       "    </tr>\n",
       "    <tr>\n",
       "      <th>9</th>\n",
       "      <td>['login', 'id', 'node_id', 'url', 'repos_url',...</td>\n",
       "      <td>owner.organizations_url</td>\n",
       "      <td>owner.organization_count</td>\n",
       "      <td>False</td>\n",
       "    </tr>\n",
       "  </tbody>\n",
       "</table>\n",
       "</div>"
      ],
      "text/plain": [
       "                                                cols               url_column  \\\n",
       "0  ['login', 'id', 'node_id', 'url', 'html_url', ...               issues_url   \n",
       "1  ['login', 'id', 'node_id', 'url', 'html_url', ...          subscribers_url   \n",
       "2  ['login', 'id', 'node_id', 'url', 'html_url', ...         contributors_url   \n",
       "3  ['login', 'id', 'node_id', 'url', 'html_url', ...                forks_url   \n",
       "4  ['starred_at', 'login', 'id', 'url', 'html_url...           stargazers_url   \n",
       "5  ['url', 'html_url', 'issue_url', 'id', 'node_i...             comments_url   \n",
       "6  ['url', 'pull_request_review_id', 'id', 'node_...      review_comments_url   \n",
       "7  ['url', 'id', 'node_id', 'html_url', 'diff_url...                pulls_url   \n",
       "9  ['login', 'id', 'node_id', 'url', 'repos_url',...  owner.organizations_url   \n",
       "\n",
       "               count_column  check_state  \n",
       "0              issues_count         True  \n",
       "1         subscribers_count        False  \n",
       "2        contributors_count        False  \n",
       "3               forks_count        False  \n",
       "4          stargazers_count        False  \n",
       "5            comments_count         True  \n",
       "6              review_count         True  \n",
       "7               pulls_count         True  \n",
       "9  owner.organization_count        False  "
      ]
     },
     "execution_count": 105,
     "metadata": {},
     "output_type": "execute_result"
    }
   ],
   "source": [
    "cols_df"
   ]
  },
  {
   "cell_type": "code",
   "execution_count": 84,
   "metadata": {},
   "outputs": [
    {
     "data": {
      "text/plain": [
       "['issues_count',\n",
       " 'subscribers_count',\n",
       " 'contributors_count',\n",
       " 'forks_count',\n",
       " 'stargazers_count',\n",
       " 'comments_count',\n",
       " 'review_count',\n",
       " 'pulls_count',\n",
       " 'owner.organization_count']"
      ]
     },
     "execution_count": 84,
     "metadata": {},
     "output_type": "execute_result"
    }
   ],
   "source": [
    "cols_df.count_column.tolist()"
   ]
  },
  {
   "cell_type": "code",
   "execution_count": 83,
   "metadata": {},
   "outputs": [
    {
     "data": {
      "text/plain": [
       "Index(['id', 'node_id', 'name', 'full_name', 'private', 'html_url',\n",
       "       'description', 'fork', 'url', 'forks_url',\n",
       "       ...\n",
       "       'template_repository.open_issues', 'template_repository.clone_url',\n",
       "       'template_repository.pulls_url', 'coding_dh_id', 'issues_count',\n",
       "       'subscribers_count', 'contributors_count', 'comments_count',\n",
       "       'pulls_count', 'owner.organization_count'],\n",
       "      dtype='object', length=215)"
      ]
     },
     "execution_count": 83,
     "metadata": {},
     "output_type": "execute_result"
    }
   ],
   "source": [
    "df.columns"
   ]
  },
  {
   "cell_type": "code",
   "execution_count": 80,
   "metadata": {},
   "outputs": [
    {
     "data": {
      "text/html": [
       "<div>\n",
       "<style scoped>\n",
       "    .dataframe tbody tr th:only-of-type {\n",
       "        vertical-align: middle;\n",
       "    }\n",
       "\n",
       "    .dataframe tbody tr th {\n",
       "        vertical-align: top;\n",
       "    }\n",
       "\n",
       "    .dataframe thead th {\n",
       "        text-align: right;\n",
       "    }\n",
       "</style>\n",
       "<table border=\"1\" class=\"dataframe\">\n",
       "  <thead>\n",
       "    <tr style=\"text-align: right;\">\n",
       "      <th></th>\n",
       "      <th>cols</th>\n",
       "      <th>url_column</th>\n",
       "      <th>count_column</th>\n",
       "      <th>check_state</th>\n",
       "    </tr>\n",
       "  </thead>\n",
       "  <tbody>\n",
       "    <tr>\n",
       "      <th>0</th>\n",
       "      <td>['login', 'id', 'node_id', 'url', 'html_url', ...</td>\n",
       "      <td>issues_url</td>\n",
       "      <td>issues_count</td>\n",
       "      <td>True</td>\n",
       "    </tr>\n",
       "    <tr>\n",
       "      <th>1</th>\n",
       "      <td>['login', 'id', 'node_id', 'url', 'html_url', ...</td>\n",
       "      <td>subscribers_url</td>\n",
       "      <td>subscribers_count</td>\n",
       "      <td>False</td>\n",
       "    </tr>\n",
       "    <tr>\n",
       "      <th>2</th>\n",
       "      <td>['login', 'id', 'node_id', 'url', 'html_url', ...</td>\n",
       "      <td>contributors_url</td>\n",
       "      <td>contributors_count</td>\n",
       "      <td>False</td>\n",
       "    </tr>\n",
       "    <tr>\n",
       "      <th>3</th>\n",
       "      <td>['login', 'id', 'node_id', 'url', 'html_url', ...</td>\n",
       "      <td>forks_url</td>\n",
       "      <td>forks_count</td>\n",
       "      <td>False</td>\n",
       "    </tr>\n",
       "    <tr>\n",
       "      <th>4</th>\n",
       "      <td>['starred_at', 'login', 'id', 'url', 'html_url...</td>\n",
       "      <td>stargazers_url</td>\n",
       "      <td>stargazers_count</td>\n",
       "      <td>False</td>\n",
       "    </tr>\n",
       "    <tr>\n",
       "      <th>5</th>\n",
       "      <td>['url', 'html_url', 'issue_url', 'id', 'node_i...</td>\n",
       "      <td>comments_url</td>\n",
       "      <td>comments_count</td>\n",
       "      <td>True</td>\n",
       "    </tr>\n",
       "    <tr>\n",
       "      <th>6</th>\n",
       "      <td>['url', 'pull_request_review_id', 'id', 'node_...</td>\n",
       "      <td>review_comments_url</td>\n",
       "      <td>review_count</td>\n",
       "      <td>True</td>\n",
       "    </tr>\n",
       "    <tr>\n",
       "      <th>7</th>\n",
       "      <td>['url', 'id', 'node_id', 'html_url', 'diff_url...</td>\n",
       "      <td>pulls_url</td>\n",
       "      <td>pulls_count</td>\n",
       "      <td>True</td>\n",
       "    </tr>\n",
       "    <tr>\n",
       "      <th>9</th>\n",
       "      <td>['login', 'id', 'node_id', 'url', 'repos_url',...</td>\n",
       "      <td>owner.organizations_url</td>\n",
       "      <td>owner.organization_count</td>\n",
       "      <td>False</td>\n",
       "    </tr>\n",
       "  </tbody>\n",
       "</table>\n",
       "</div>"
      ],
      "text/plain": [
       "                                                cols               url_column  \\\n",
       "0  ['login', 'id', 'node_id', 'url', 'html_url', ...               issues_url   \n",
       "1  ['login', 'id', 'node_id', 'url', 'html_url', ...          subscribers_url   \n",
       "2  ['login', 'id', 'node_id', 'url', 'html_url', ...         contributors_url   \n",
       "3  ['login', 'id', 'node_id', 'url', 'html_url', ...                forks_url   \n",
       "4  ['starred_at', 'login', 'id', 'url', 'html_url...           stargazers_url   \n",
       "5  ['url', 'html_url', 'issue_url', 'id', 'node_i...             comments_url   \n",
       "6  ['url', 'pull_request_review_id', 'id', 'node_...      review_comments_url   \n",
       "7  ['url', 'id', 'node_id', 'html_url', 'diff_url...                pulls_url   \n",
       "9  ['login', 'id', 'node_id', 'url', 'repos_url',...  owner.organizations_url   \n",
       "\n",
       "               count_column  check_state  \n",
       "0              issues_count         True  \n",
       "1         subscribers_count        False  \n",
       "2        contributors_count        False  \n",
       "3               forks_count        False  \n",
       "4          stargazers_count        False  \n",
       "5            comments_count         True  \n",
       "6              review_count         True  \n",
       "7               pulls_count         True  \n",
       "9  owner.organization_count        False  "
      ]
     },
     "execution_count": 80,
     "metadata": {},
     "output_type": "execute_result"
    }
   ],
   "source": [
    "cols_df"
   ]
  },
  {
   "cell_type": "code",
   "execution_count": 81,
   "metadata": {},
   "outputs": [],
   "source": [
    "df['stargazers_count'] = 0\n",
    "df['watchers_count'] = 0\n",
    "df['forks_count'] = 0\n",
    "df['subscribers_count'] = 2\n",
    "df.to_csv(f\"../../new_datasets/historic_data/entity_files/all_repos/{name}.csv\", index=False)"
   ]
  },
  {
   "cell_type": "code",
   "execution_count": 62,
   "metadata": {},
   "outputs": [
    {
     "data": {
      "text/plain": [
       "['issues_count',\n",
       " 'subscribers_count',\n",
       " 'contributors_count',\n",
       " 'forks_count',\n",
       " 'stargazers_count',\n",
       " 'comments_count',\n",
       " 'review_count',\n",
       " 'pulls_count',\n",
       " 'owner.organization_count']"
      ]
     },
     "execution_count": 62,
     "metadata": {},
     "output_type": "execute_result"
    }
   ],
   "source": [
    "cols_df.count_column.tolist()"
   ]
  },
  {
   "cell_type": "code",
   "execution_count": 63,
   "metadata": {},
   "outputs": [
    {
     "data": {
      "text/plain": [
       "0    0.0\n",
       "Name: subscribers_count, dtype: float64"
      ]
     },
     "execution_count": 63,
     "metadata": {},
     "output_type": "execute_result"
    }
   ],
   "source": [
    "df['subscribers_count']"
   ]
  },
  {
   "cell_type": "code",
   "execution_count": 64,
   "metadata": {},
   "outputs": [],
   "source": []
  },
  {
   "cell_type": "code",
   "execution_count": 26,
   "metadata": {},
   "outputs": [],
   "source": [
    "df.loc[:, ~df.columns.isin(skip_types)].to_csv(\"../../new_datasets/historic_data/entity_files/all_repos/Ifthakharmahmud_public-history_coding_dh_repo.csv\", index=False)"
   ]
  },
  {
   "cell_type": "code",
   "execution_count": 70,
   "metadata": {},
   "outputs": [
    {
     "data": {
      "text/plain": [
       "False"
      ]
     },
     "execution_count": 70,
     "metadata": {},
     "output_type": "execute_result"
    }
   ],
   "source": [
    "os.path.exists(\"../../datasets/temp/temp_users/giuliataurino_potential_users.csv_user.csv\")"
   ]
  },
  {
   "cell_type": "code",
   "execution_count": 71,
   "metadata": {},
   "outputs": [
    {
     "data": {
      "text/plain": [
       "True"
      ]
     },
     "execution_count": 71,
     "metadata": {},
     "output_type": "execute_result"
    }
   ],
   "source": [
    "os.path.exists(\"../../new_datasets/historic_data/entity_files/all_users/melaniewalsh_coding_dh_users.csv\")"
   ]
  },
  {
   "cell_type": "code",
   "execution_count": 118,
   "metadata": {},
   "outputs": [],
   "source": [
    "test3 = pd.read_csv(\"../../new_datasets/historic_data/entity_files/all_users/ZoeLeBlanc_coding_dh_users.csv\")\n",
    "test2 = pd.read_csv(\"../../datasets/temp/temp_users/ZoeLeBlanc_coding_dh_user.csv\")"
   ]
  },
  {
   "cell_type": "code",
   "execution_count": 100,
   "metadata": {},
   "outputs": [
    {
     "data": {
      "text/html": [
       "<div>\n",
       "<style scoped>\n",
       "    .dataframe tbody tr th:only-of-type {\n",
       "        vertical-align: middle;\n",
       "    }\n",
       "\n",
       "    .dataframe tbody tr th {\n",
       "        vertical-align: top;\n",
       "    }\n",
       "\n",
       "    .dataframe thead th {\n",
       "        text-align: right;\n",
       "    }\n",
       "</style>\n",
       "<table border=\"1\" class=\"dataframe\">\n",
       "  <thead>\n",
       "    <tr style=\"text-align: right;\">\n",
       "      <th></th>\n",
       "      <th>login</th>\n",
       "      <th>id</th>\n",
       "      <th>node_id</th>\n",
       "      <th>avatar_url</th>\n",
       "      <th>gravatar_id</th>\n",
       "      <th>url</th>\n",
       "      <th>html_url</th>\n",
       "      <th>followers_url</th>\n",
       "      <th>following_url</th>\n",
       "      <th>gists_url</th>\n",
       "      <th>...</th>\n",
       "      <th>private_gists</th>\n",
       "      <th>total_private_repos</th>\n",
       "      <th>owned_private_repos</th>\n",
       "      <th>disk_usage</th>\n",
       "      <th>collaborators</th>\n",
       "      <th>two_factor_authentication</th>\n",
       "      <th>plan.name</th>\n",
       "      <th>plan.space</th>\n",
       "      <th>plan.collaborators</th>\n",
       "      <th>plan.private_repos</th>\n",
       "    </tr>\n",
       "  </thead>\n",
       "  <tbody>\n",
       "    <tr>\n",
       "      <th>0</th>\n",
       "      <td>ZoeLeBlanc</td>\n",
       "      <td>8355129.0</td>\n",
       "      <td>MDQ6VXNlcjgzNTUxMjk=</td>\n",
       "      <td>https://avatars.githubusercontent.com/u/835512...</td>\n",
       "      <td>NaN</td>\n",
       "      <td>https://api.github.com/users/ZoeLeBlanc</td>\n",
       "      <td>https://github.com/ZoeLeBlanc</td>\n",
       "      <td>https://api.github.com/users/ZoeLeBlanc/followers</td>\n",
       "      <td>https://api.github.com/users/ZoeLeBlanc/follow...</td>\n",
       "      <td>https://api.github.com/users/ZoeLeBlanc/gists{...</td>\n",
       "      <td>...</td>\n",
       "      <td>NaN</td>\n",
       "      <td>NaN</td>\n",
       "      <td>NaN</td>\n",
       "      <td>NaN</td>\n",
       "      <td>NaN</td>\n",
       "      <td>NaN</td>\n",
       "      <td>NaN</td>\n",
       "      <td>NaN</td>\n",
       "      <td>NaN</td>\n",
       "      <td>NaN</td>\n",
       "    </tr>\n",
       "    <tr>\n",
       "      <th>1</th>\n",
       "      <td>ZoeLeBlanc</td>\n",
       "      <td>8355129.0</td>\n",
       "      <td>MDQ6VXNlcjgzNTUxMjk=</td>\n",
       "      <td>https://avatars.githubusercontent.com/u/835512...</td>\n",
       "      <td>NaN</td>\n",
       "      <td>https://api.github.com/users/ZoeLeBlanc</td>\n",
       "      <td>https://github.com/ZoeLeBlanc</td>\n",
       "      <td>https://api.github.com/users/ZoeLeBlanc/followers</td>\n",
       "      <td>https://api.github.com/users/ZoeLeBlanc/follow...</td>\n",
       "      <td>https://api.github.com/users/ZoeLeBlanc/gists{...</td>\n",
       "      <td>...</td>\n",
       "      <td>NaN</td>\n",
       "      <td>NaN</td>\n",
       "      <td>NaN</td>\n",
       "      <td>NaN</td>\n",
       "      <td>NaN</td>\n",
       "      <td>NaN</td>\n",
       "      <td>NaN</td>\n",
       "      <td>NaN</td>\n",
       "      <td>NaN</td>\n",
       "      <td>NaN</td>\n",
       "    </tr>\n",
       "    <tr>\n",
       "      <th>2</th>\n",
       "      <td>ZoeLeBlanc</td>\n",
       "      <td>8355129.0</td>\n",
       "      <td>MDQ6VXNlcjgzNTUxMjk=</td>\n",
       "      <td>https://avatars.githubusercontent.com/u/835512...</td>\n",
       "      <td>NaN</td>\n",
       "      <td>https://api.github.com/users/ZoeLeBlanc</td>\n",
       "      <td>https://github.com/ZoeLeBlanc</td>\n",
       "      <td>https://api.github.com/users/ZoeLeBlanc/followers</td>\n",
       "      <td>https://api.github.com/users/ZoeLeBlanc/follow...</td>\n",
       "      <td>https://api.github.com/users/ZoeLeBlanc/gists{...</td>\n",
       "      <td>...</td>\n",
       "      <td>NaN</td>\n",
       "      <td>NaN</td>\n",
       "      <td>NaN</td>\n",
       "      <td>NaN</td>\n",
       "      <td>NaN</td>\n",
       "      <td>NaN</td>\n",
       "      <td>NaN</td>\n",
       "      <td>NaN</td>\n",
       "      <td>NaN</td>\n",
       "      <td>NaN</td>\n",
       "    </tr>\n",
       "    <tr>\n",
       "      <th>3</th>\n",
       "      <td>ZoeLeBlanc</td>\n",
       "      <td>8355129.0</td>\n",
       "      <td>MDQ6VXNlcjgzNTUxMjk=</td>\n",
       "      <td>https://avatars.githubusercontent.com/u/835512...</td>\n",
       "      <td>NaN</td>\n",
       "      <td>https://api.github.com/users/ZoeLeBlanc</td>\n",
       "      <td>https://github.com/ZoeLeBlanc</td>\n",
       "      <td>https://api.github.com/users/ZoeLeBlanc/followers</td>\n",
       "      <td>https://api.github.com/users/ZoeLeBlanc/follow...</td>\n",
       "      <td>https://api.github.com/users/ZoeLeBlanc/gists{...</td>\n",
       "      <td>...</td>\n",
       "      <td>NaN</td>\n",
       "      <td>NaN</td>\n",
       "      <td>NaN</td>\n",
       "      <td>NaN</td>\n",
       "      <td>NaN</td>\n",
       "      <td>NaN</td>\n",
       "      <td>NaN</td>\n",
       "      <td>NaN</td>\n",
       "      <td>NaN</td>\n",
       "      <td>NaN</td>\n",
       "    </tr>\n",
       "    <tr>\n",
       "      <th>4</th>\n",
       "      <td>ZoeLeBlanc</td>\n",
       "      <td>8355129.0</td>\n",
       "      <td>MDQ6VXNlcjgzNTUxMjk=</td>\n",
       "      <td>https://avatars.githubusercontent.com/u/835512...</td>\n",
       "      <td>NaN</td>\n",
       "      <td>https://api.github.com/users/ZoeLeBlanc</td>\n",
       "      <td>https://github.com/ZoeLeBlanc</td>\n",
       "      <td>https://api.github.com/users/ZoeLeBlanc/followers</td>\n",
       "      <td>https://api.github.com/users/ZoeLeBlanc/follow...</td>\n",
       "      <td>https://api.github.com/users/ZoeLeBlanc/gists{...</td>\n",
       "      <td>...</td>\n",
       "      <td>1.0</td>\n",
       "      <td>47.0</td>\n",
       "      <td>47.0</td>\n",
       "      <td>2308671.0</td>\n",
       "      <td>1.0</td>\n",
       "      <td>True</td>\n",
       "      <td>pro</td>\n",
       "      <td>976562499.0</td>\n",
       "      <td>0.0</td>\n",
       "      <td>9999.0</td>\n",
       "    </tr>\n",
       "  </tbody>\n",
       "</table>\n",
       "<p>5 rows × 156 columns</p>\n",
       "</div>"
      ],
      "text/plain": [
       "        login         id               node_id  \\\n",
       "0  ZoeLeBlanc  8355129.0  MDQ6VXNlcjgzNTUxMjk=   \n",
       "1  ZoeLeBlanc  8355129.0  MDQ6VXNlcjgzNTUxMjk=   \n",
       "2  ZoeLeBlanc  8355129.0  MDQ6VXNlcjgzNTUxMjk=   \n",
       "3  ZoeLeBlanc  8355129.0  MDQ6VXNlcjgzNTUxMjk=   \n",
       "4  ZoeLeBlanc  8355129.0  MDQ6VXNlcjgzNTUxMjk=   \n",
       "\n",
       "                                          avatar_url  gravatar_id  \\\n",
       "0  https://avatars.githubusercontent.com/u/835512...          NaN   \n",
       "1  https://avatars.githubusercontent.com/u/835512...          NaN   \n",
       "2  https://avatars.githubusercontent.com/u/835512...          NaN   \n",
       "3  https://avatars.githubusercontent.com/u/835512...          NaN   \n",
       "4  https://avatars.githubusercontent.com/u/835512...          NaN   \n",
       "\n",
       "                                       url                       html_url  \\\n",
       "0  https://api.github.com/users/ZoeLeBlanc  https://github.com/ZoeLeBlanc   \n",
       "1  https://api.github.com/users/ZoeLeBlanc  https://github.com/ZoeLeBlanc   \n",
       "2  https://api.github.com/users/ZoeLeBlanc  https://github.com/ZoeLeBlanc   \n",
       "3  https://api.github.com/users/ZoeLeBlanc  https://github.com/ZoeLeBlanc   \n",
       "4  https://api.github.com/users/ZoeLeBlanc  https://github.com/ZoeLeBlanc   \n",
       "\n",
       "                                       followers_url  \\\n",
       "0  https://api.github.com/users/ZoeLeBlanc/followers   \n",
       "1  https://api.github.com/users/ZoeLeBlanc/followers   \n",
       "2  https://api.github.com/users/ZoeLeBlanc/followers   \n",
       "3  https://api.github.com/users/ZoeLeBlanc/followers   \n",
       "4  https://api.github.com/users/ZoeLeBlanc/followers   \n",
       "\n",
       "                                       following_url  \\\n",
       "0  https://api.github.com/users/ZoeLeBlanc/follow...   \n",
       "1  https://api.github.com/users/ZoeLeBlanc/follow...   \n",
       "2  https://api.github.com/users/ZoeLeBlanc/follow...   \n",
       "3  https://api.github.com/users/ZoeLeBlanc/follow...   \n",
       "4  https://api.github.com/users/ZoeLeBlanc/follow...   \n",
       "\n",
       "                                           gists_url  ... private_gists  \\\n",
       "0  https://api.github.com/users/ZoeLeBlanc/gists{...  ...           NaN   \n",
       "1  https://api.github.com/users/ZoeLeBlanc/gists{...  ...           NaN   \n",
       "2  https://api.github.com/users/ZoeLeBlanc/gists{...  ...           NaN   \n",
       "3  https://api.github.com/users/ZoeLeBlanc/gists{...  ...           NaN   \n",
       "4  https://api.github.com/users/ZoeLeBlanc/gists{...  ...           1.0   \n",
       "\n",
       "  total_private_repos owned_private_repos disk_usage collaborators  \\\n",
       "0                 NaN                 NaN        NaN           NaN   \n",
       "1                 NaN                 NaN        NaN           NaN   \n",
       "2                 NaN                 NaN        NaN           NaN   \n",
       "3                 NaN                 NaN        NaN           NaN   \n",
       "4                47.0                47.0  2308671.0           1.0   \n",
       "\n",
       "  two_factor_authentication plan.name   plan.space plan.collaborators  \\\n",
       "0                       NaN       NaN          NaN                NaN   \n",
       "1                       NaN       NaN          NaN                NaN   \n",
       "2                       NaN       NaN          NaN                NaN   \n",
       "3                       NaN       NaN          NaN                NaN   \n",
       "4                      True       pro  976562499.0                0.0   \n",
       "\n",
       "   plan.private_repos  \n",
       "0                 NaN  \n",
       "1                 NaN  \n",
       "2                 NaN  \n",
       "3                 NaN  \n",
       "4              9999.0  \n",
       "\n",
       "[5 rows x 156 columns]"
      ]
     },
     "execution_count": 100,
     "metadata": {},
     "output_type": "execute_result"
    }
   ],
   "source": [
    "test3"
   ]
  },
  {
   "cell_type": "code",
   "execution_count": 89,
   "metadata": {},
   "outputs": [],
   "source": [
    "testing = pd.concat([test, test2])"
   ]
  },
  {
   "cell_type": "code",
   "execution_count": 119,
   "metadata": {},
   "outputs": [],
   "source": [
    "test2 = test2.drop(columns=[\"user_query_time\", \"coding_dh_id\"])"
   ]
  },
  {
   "cell_type": "code",
   "execution_count": 121,
   "metadata": {},
   "outputs": [],
   "source": [
    "test2.to_csv(\"../../new_datasets/historic_data/entity_files/all_users/ZoeLeBlanc_coding_dh_user.csv\", index=False)"
   ]
  },
  {
   "cell_type": "code",
   "execution_count": 102,
   "metadata": {},
   "outputs": [
    {
     "data": {
      "text/html": [
       "<div>\n",
       "<style scoped>\n",
       "    .dataframe tbody tr th:only-of-type {\n",
       "        vertical-align: middle;\n",
       "    }\n",
       "\n",
       "    .dataframe tbody tr th {\n",
       "        vertical-align: top;\n",
       "    }\n",
       "\n",
       "    .dataframe thead th {\n",
       "        text-align: right;\n",
       "    }\n",
       "</style>\n",
       "<table border=\"1\" class=\"dataframe\">\n",
       "  <thead>\n",
       "    <tr style=\"text-align: right;\">\n",
       "      <th></th>\n",
       "      <th>login</th>\n",
       "      <th>id</th>\n",
       "      <th>node_id</th>\n",
       "      <th>avatar_url</th>\n",
       "      <th>gravatar_id</th>\n",
       "      <th>url</th>\n",
       "      <th>html_url</th>\n",
       "      <th>followers_url</th>\n",
       "      <th>following_url</th>\n",
       "      <th>gists_url</th>\n",
       "      <th>...</th>\n",
       "      <th>permissions.maintain</th>\n",
       "      <th>permissions.push</th>\n",
       "      <th>permissions.triage</th>\n",
       "      <th>permissions.pull</th>\n",
       "      <th>license.key</th>\n",
       "      <th>license.name</th>\n",
       "      <th>license.spdx_id</th>\n",
       "      <th>license.url</th>\n",
       "      <th>license.node_id</th>\n",
       "      <th>coding_dh_id</th>\n",
       "    </tr>\n",
       "  </thead>\n",
       "  <tbody>\n",
       "    <tr>\n",
       "      <th>0</th>\n",
       "      <td>ZoeLeBlanc</td>\n",
       "      <td>8355129.0</td>\n",
       "      <td>MDQ6VXNlcjgzNTUxMjk=</td>\n",
       "      <td>https://avatars.githubusercontent.com/u/835512...</td>\n",
       "      <td>NaN</td>\n",
       "      <td>https://api.github.com/users/ZoeLeBlanc</td>\n",
       "      <td>https://github.com/ZoeLeBlanc</td>\n",
       "      <td>https://api.github.com/users/ZoeLeBlanc/followers</td>\n",
       "      <td>https://api.github.com/users/ZoeLeBlanc/follow...</td>\n",
       "      <td>https://api.github.com/users/ZoeLeBlanc/gists{...</td>\n",
       "      <td>...</td>\n",
       "      <td>NaN</td>\n",
       "      <td>NaN</td>\n",
       "      <td>NaN</td>\n",
       "      <td>NaN</td>\n",
       "      <td>NaN</td>\n",
       "      <td>NaN</td>\n",
       "      <td>NaN</td>\n",
       "      <td>NaN</td>\n",
       "      <td>NaN</td>\n",
       "      <td>0</td>\n",
       "    </tr>\n",
       "    <tr>\n",
       "      <th>1</th>\n",
       "      <td>ZoeLeBlanc</td>\n",
       "      <td>8355129.0</td>\n",
       "      <td>MDQ6VXNlcjgzNTUxMjk=</td>\n",
       "      <td>https://avatars.githubusercontent.com/u/835512...</td>\n",
       "      <td>NaN</td>\n",
       "      <td>https://api.github.com/users/ZoeLeBlanc</td>\n",
       "      <td>https://github.com/ZoeLeBlanc</td>\n",
       "      <td>https://api.github.com/users/ZoeLeBlanc/followers</td>\n",
       "      <td>https://api.github.com/users/ZoeLeBlanc/follow...</td>\n",
       "      <td>https://api.github.com/users/ZoeLeBlanc/gists{...</td>\n",
       "      <td>...</td>\n",
       "      <td>NaN</td>\n",
       "      <td>NaN</td>\n",
       "      <td>NaN</td>\n",
       "      <td>NaN</td>\n",
       "      <td>NaN</td>\n",
       "      <td>NaN</td>\n",
       "      <td>NaN</td>\n",
       "      <td>NaN</td>\n",
       "      <td>NaN</td>\n",
       "      <td>1</td>\n",
       "    </tr>\n",
       "    <tr>\n",
       "      <th>2</th>\n",
       "      <td>ZoeLeBlanc</td>\n",
       "      <td>8355129.0</td>\n",
       "      <td>MDQ6VXNlcjgzNTUxMjk=</td>\n",
       "      <td>https://avatars.githubusercontent.com/u/835512...</td>\n",
       "      <td>NaN</td>\n",
       "      <td>https://api.github.com/users/ZoeLeBlanc</td>\n",
       "      <td>https://github.com/ZoeLeBlanc</td>\n",
       "      <td>https://api.github.com/users/ZoeLeBlanc/followers</td>\n",
       "      <td>https://api.github.com/users/ZoeLeBlanc/follow...</td>\n",
       "      <td>https://api.github.com/users/ZoeLeBlanc/gists{...</td>\n",
       "      <td>...</td>\n",
       "      <td>NaN</td>\n",
       "      <td>NaN</td>\n",
       "      <td>NaN</td>\n",
       "      <td>NaN</td>\n",
       "      <td>NaN</td>\n",
       "      <td>NaN</td>\n",
       "      <td>NaN</td>\n",
       "      <td>NaN</td>\n",
       "      <td>NaN</td>\n",
       "      <td>2</td>\n",
       "    </tr>\n",
       "    <tr>\n",
       "      <th>3</th>\n",
       "      <td>ZoeLeBlanc</td>\n",
       "      <td>8355129.0</td>\n",
       "      <td>MDQ6VXNlcjgzNTUxMjk=</td>\n",
       "      <td>https://avatars.githubusercontent.com/u/835512...</td>\n",
       "      <td>NaN</td>\n",
       "      <td>https://api.github.com/users/ZoeLeBlanc</td>\n",
       "      <td>https://github.com/ZoeLeBlanc</td>\n",
       "      <td>https://api.github.com/users/ZoeLeBlanc/followers</td>\n",
       "      <td>https://api.github.com/users/ZoeLeBlanc/follow...</td>\n",
       "      <td>https://api.github.com/users/ZoeLeBlanc/gists{...</td>\n",
       "      <td>...</td>\n",
       "      <td>NaN</td>\n",
       "      <td>NaN</td>\n",
       "      <td>NaN</td>\n",
       "      <td>NaN</td>\n",
       "      <td>NaN</td>\n",
       "      <td>NaN</td>\n",
       "      <td>NaN</td>\n",
       "      <td>NaN</td>\n",
       "      <td>NaN</td>\n",
       "      <td>3</td>\n",
       "    </tr>\n",
       "  </tbody>\n",
       "</table>\n",
       "<p>4 rows × 146 columns</p>\n",
       "</div>"
      ],
      "text/plain": [
       "        login         id               node_id  \\\n",
       "0  ZoeLeBlanc  8355129.0  MDQ6VXNlcjgzNTUxMjk=   \n",
       "1  ZoeLeBlanc  8355129.0  MDQ6VXNlcjgzNTUxMjk=   \n",
       "2  ZoeLeBlanc  8355129.0  MDQ6VXNlcjgzNTUxMjk=   \n",
       "3  ZoeLeBlanc  8355129.0  MDQ6VXNlcjgzNTUxMjk=   \n",
       "\n",
       "                                          avatar_url  gravatar_id  \\\n",
       "0  https://avatars.githubusercontent.com/u/835512...          NaN   \n",
       "1  https://avatars.githubusercontent.com/u/835512...          NaN   \n",
       "2  https://avatars.githubusercontent.com/u/835512...          NaN   \n",
       "3  https://avatars.githubusercontent.com/u/835512...          NaN   \n",
       "\n",
       "                                       url                       html_url  \\\n",
       "0  https://api.github.com/users/ZoeLeBlanc  https://github.com/ZoeLeBlanc   \n",
       "1  https://api.github.com/users/ZoeLeBlanc  https://github.com/ZoeLeBlanc   \n",
       "2  https://api.github.com/users/ZoeLeBlanc  https://github.com/ZoeLeBlanc   \n",
       "3  https://api.github.com/users/ZoeLeBlanc  https://github.com/ZoeLeBlanc   \n",
       "\n",
       "                                       followers_url  \\\n",
       "0  https://api.github.com/users/ZoeLeBlanc/followers   \n",
       "1  https://api.github.com/users/ZoeLeBlanc/followers   \n",
       "2  https://api.github.com/users/ZoeLeBlanc/followers   \n",
       "3  https://api.github.com/users/ZoeLeBlanc/followers   \n",
       "\n",
       "                                       following_url  \\\n",
       "0  https://api.github.com/users/ZoeLeBlanc/follow...   \n",
       "1  https://api.github.com/users/ZoeLeBlanc/follow...   \n",
       "2  https://api.github.com/users/ZoeLeBlanc/follow...   \n",
       "3  https://api.github.com/users/ZoeLeBlanc/follow...   \n",
       "\n",
       "                                           gists_url  ...  \\\n",
       "0  https://api.github.com/users/ZoeLeBlanc/gists{...  ...   \n",
       "1  https://api.github.com/users/ZoeLeBlanc/gists{...  ...   \n",
       "2  https://api.github.com/users/ZoeLeBlanc/gists{...  ...   \n",
       "3  https://api.github.com/users/ZoeLeBlanc/gists{...  ...   \n",
       "\n",
       "  permissions.maintain permissions.push permissions.triage permissions.pull  \\\n",
       "0                  NaN              NaN                NaN              NaN   \n",
       "1                  NaN              NaN                NaN              NaN   \n",
       "2                  NaN              NaN                NaN              NaN   \n",
       "3                  NaN              NaN                NaN              NaN   \n",
       "\n",
       "  license.key license.name license.spdx_id  license.url license.node_id  \\\n",
       "0         NaN          NaN             NaN          NaN             NaN   \n",
       "1         NaN          NaN             NaN          NaN             NaN   \n",
       "2         NaN          NaN             NaN          NaN             NaN   \n",
       "3         NaN          NaN             NaN          NaN             NaN   \n",
       "\n",
       "   coding_dh_id  \n",
       "0             0  \n",
       "1             1  \n",
       "2             2  \n",
       "3             3  \n",
       "\n",
       "[4 rows x 146 columns]"
      ]
     },
     "execution_count": 102,
     "metadata": {},
     "output_type": "execute_result"
    }
   ],
   "source": [
    "test2"
   ]
  },
  {
   "cell_type": "code",
   "execution_count": 128,
   "metadata": {},
   "outputs": [],
   "source": [
    "import os\n",
    "import datetime\n",
    "\n",
    "# Get the current time\n",
    "now = datetime.datetime.now()\n",
    "\n",
    "# Get the time 24 hours ago\n",
    "twenty_four_hours_ago = now - datetime.timedelta(hours=24)\n",
    "\n",
    "# Directory to check\n",
    "directory = \"../../new_datasets/historic_data/entity_files/all_users/\"\n",
    "modified_user_files = []\n",
    "# Loop over all files in the directory\n",
    "for filename in os.listdir(directory):\n",
    "    # Get the full path of the file\n",
    "    filepath = os.path.join(directory, filename)\n",
    "    \n",
    "    # Get the modification time of the file\n",
    "    filetime = datetime.datetime.fromtimestamp(os.path.getmtime(filepath))\n",
    "    \n",
    "    # If the file was modified in the last 24 hours, print its name\n",
    "    if filetime > twenty_four_hours_ago:\n",
    "        modified_user_files.append(filename)"
   ]
  },
  {
   "cell_type": "code",
   "execution_count": 129,
   "metadata": {},
   "outputs": [
    {
     "data": {
      "text/plain": [
       "828"
      ]
     },
     "execution_count": 129,
     "metadata": {},
     "output_type": "execute_result"
    }
   ],
   "source": [
    "len(modified_user_files)"
   ]
  },
  {
   "cell_type": "code",
   "execution_count": 130,
   "metadata": {},
   "outputs": [],
   "source": [
    "modified_user_names = [file.split(\"_coding_dh_user\")[0] for file in modified_user_files]\n",
    "older_files = os.listdir(\"../../datasets/temp/temp_users/\")\n"
   ]
  },
  {
   "cell_type": "code",
   "execution_count": 131,
   "metadata": {},
   "outputs": [],
   "source": [
    "subset_older_files = []\n",
    "\n",
    "for name in modified_user_names:\n",
    "    subset_older_files.extend([file for file in older_files if name in file])"
   ]
  },
  {
   "cell_type": "code",
   "execution_count": 132,
   "metadata": {},
   "outputs": [
    {
     "data": {
      "text/plain": [
       "737"
      ]
     },
     "execution_count": 132,
     "metadata": {},
     "output_type": "execute_result"
    }
   ],
   "source": [
    "len(subset_older_files)"
   ]
  },
  {
   "cell_type": "code",
   "execution_count": 133,
   "metadata": {},
   "outputs": [
    {
     "name": "stderr",
     "output_type": "stream",
     "text": [
      "Copying files: 100%|██████████| 2/2 [00:00<00:00, 156.51it/s]"
     ]
    },
    {
     "name": "stdout",
     "output_type": "stream",
     "text": [
      "glorieux-f_coding_dh_user.csv\n",
      "leo8a_coding_dh_user.csv\n"
     ]
    },
    {
     "name": "stderr",
     "output_type": "stream",
     "text": [
      "\n"
     ]
    }
   ],
   "source": [
    "import shutil\n",
    "\n",
    "for file in tqdm(subset_older_files[0:2], desc=\"Copying files\"):\n",
    "    # Copy file to new directory, replacing any existing file with the same name\n",
    "    print(file)\n",
    "    shutil.copy2(\"../../datasets/temp/temp_users/\" + file, \"../../new_datasets/historic_data/entity_files/all_users/\" + file)"
   ]
  },
  {
   "cell_type": "code",
   "execution_count": 91,
   "metadata": {},
   "outputs": [],
   "source": [
    "from typing import List, Optional, Union\n",
    "def sort_groups_add_coding_dh_id(group: pd.DataFrame, subset_columns: List) -> pd.DataFrame:\n",
    "    \"\"\"\n",
    "    Sorts a DataFrame group based on 'coding_dh_date' and adds a new column 'coding_dh_id' with unique identifiers.\n",
    "    If the group has more than one unique row (excluding subset_columns), each row gets a unique identifier.\n",
    "    If the group has only one unique row (excluding subset_columns), it gets the identifier 0.\n",
    "\n",
    "    Parameters:\n",
    "    group (pd.DataFrame): DataFrame group to sort and add identifiers to.\n",
    "    subset_columns (List[str]): List of column names to exclude when checking for unique rows.\n",
    "\n",
    "    Returns:\n",
    "    pd.DataFrame: The sorted DataFrame group with the new 'coding_dh_id' column.\n",
    "    \"\"\"\n",
    "    # Initialize list to keep track of columns with lists\n",
    "    list_cols = []\n",
    "\n",
    "    # Convert lists to comma-separated strings\n",
    "    for col in group.columns:\n",
    "        if group[col].apply(lambda x: isinstance(x, list)).any():\n",
    "            # Replace nulls with empty lists\n",
    "            group[col] = group[col].apply(lambda x: x if isinstance(x, list) else [])\n",
    "            \n",
    "            # Sort lists alphabetically and join into a string\n",
    "            group[f'combined_{col}'] = group[col].apply(lambda x: ', '.join(sorted(map(str, x))))\n",
    "            \n",
    "            # Add column to list_cols\n",
    "            subset_columns.append(col)\n",
    "            list_cols.append(f'combined_{col}')\n",
    "\n",
    "    group = group.drop_duplicates(subset=group.columns.difference(subset_columns))\n",
    "    if (group.drop(columns=subset_columns).nunique() > 1).any():\n",
    "        group = group.sort_values('coding_dh_date')\n",
    "        group['coding_dh_id'] = np.arange(len(group))\n",
    "    else:\n",
    "        group = group.sort_values('coding_dh_date').iloc[0:1]\n",
    "        group['coding_dh_id'] = 0\n",
    "\n",
    "    # Drop the combined columns\n",
    "    group = group.drop(columns=list_cols)\n",
    "\n",
    "    return group"
   ]
  },
  {
   "cell_type": "code",
   "execution_count": 92,
   "metadata": {},
   "outputs": [
    {
     "name": "stderr",
     "output_type": "stream",
     "text": [
      "Grouping files: 100%|██████████| 1/1 [00:00<00:00, 18.42it/s]\n"
     ]
    }
   ],
   "source": [
    "grouped_dfs = testing.groupby(\"login\")\n",
    "processed_files = []\n",
    "for _, group in tqdm(grouped_dfs, desc=f\"Grouping files\"):\n",
    "    subset_columns = [\"coding_dh_date\"]\n",
    "    group = sort_groups_add_coding_dh_id(group, subset_columns)\n",
    "    processed_files.append(group)\n",
    "final_processed_df = pd.concat(processed_files).reset_index(drop=True)"
   ]
  },
  {
   "cell_type": "code",
   "execution_count": 93,
   "metadata": {},
   "outputs": [
    {
     "data": {
      "text/html": [
       "<div>\n",
       "<style scoped>\n",
       "    .dataframe tbody tr th:only-of-type {\n",
       "        vertical-align: middle;\n",
       "    }\n",
       "\n",
       "    .dataframe tbody tr th {\n",
       "        vertical-align: top;\n",
       "    }\n",
       "\n",
       "    .dataframe thead th {\n",
       "        text-align: right;\n",
       "    }\n",
       "</style>\n",
       "<table border=\"1\" class=\"dataframe\">\n",
       "  <thead>\n",
       "    <tr style=\"text-align: right;\">\n",
       "      <th></th>\n",
       "      <th>login</th>\n",
       "      <th>id</th>\n",
       "      <th>node_id</th>\n",
       "      <th>avatar_url</th>\n",
       "      <th>gravatar_id</th>\n",
       "      <th>url</th>\n",
       "      <th>html_url</th>\n",
       "      <th>followers_url</th>\n",
       "      <th>following_url</th>\n",
       "      <th>gists_url</th>\n",
       "      <th>...</th>\n",
       "      <th>permissions.maintain</th>\n",
       "      <th>permissions.push</th>\n",
       "      <th>permissions.triage</th>\n",
       "      <th>permissions.pull</th>\n",
       "      <th>license.key</th>\n",
       "      <th>license.name</th>\n",
       "      <th>license.spdx_id</th>\n",
       "      <th>license.url</th>\n",
       "      <th>license.node_id</th>\n",
       "      <th>coding_dh_id</th>\n",
       "    </tr>\n",
       "  </thead>\n",
       "  <tbody>\n",
       "    <tr>\n",
       "      <th>0</th>\n",
       "      <td>ZoeLeBlanc</td>\n",
       "      <td>8355129.0</td>\n",
       "      <td>MDQ6VXNlcjgzNTUxMjk=</td>\n",
       "      <td>https://avatars.githubusercontent.com/u/835512...</td>\n",
       "      <td>NaN</td>\n",
       "      <td>https://api.github.com/users/ZoeLeBlanc</td>\n",
       "      <td>https://github.com/ZoeLeBlanc</td>\n",
       "      <td>https://api.github.com/users/ZoeLeBlanc/followers</td>\n",
       "      <td>https://api.github.com/users/ZoeLeBlanc/follow...</td>\n",
       "      <td>https://api.github.com/users/ZoeLeBlanc/gists{...</td>\n",
       "      <td>...</td>\n",
       "      <td>NaN</td>\n",
       "      <td>NaN</td>\n",
       "      <td>NaN</td>\n",
       "      <td>NaN</td>\n",
       "      <td>NaN</td>\n",
       "      <td>NaN</td>\n",
       "      <td>NaN</td>\n",
       "      <td>NaN</td>\n",
       "      <td>NaN</td>\n",
       "      <td>0</td>\n",
       "    </tr>\n",
       "    <tr>\n",
       "      <th>1</th>\n",
       "      <td>ZoeLeBlanc</td>\n",
       "      <td>8355129.0</td>\n",
       "      <td>MDQ6VXNlcjgzNTUxMjk=</td>\n",
       "      <td>https://avatars.githubusercontent.com/u/835512...</td>\n",
       "      <td>NaN</td>\n",
       "      <td>https://api.github.com/users/ZoeLeBlanc</td>\n",
       "      <td>https://github.com/ZoeLeBlanc</td>\n",
       "      <td>https://api.github.com/users/ZoeLeBlanc/followers</td>\n",
       "      <td>https://api.github.com/users/ZoeLeBlanc/follow...</td>\n",
       "      <td>https://api.github.com/users/ZoeLeBlanc/gists{...</td>\n",
       "      <td>...</td>\n",
       "      <td>NaN</td>\n",
       "      <td>NaN</td>\n",
       "      <td>NaN</td>\n",
       "      <td>NaN</td>\n",
       "      <td>NaN</td>\n",
       "      <td>NaN</td>\n",
       "      <td>NaN</td>\n",
       "      <td>NaN</td>\n",
       "      <td>NaN</td>\n",
       "      <td>1</td>\n",
       "    </tr>\n",
       "    <tr>\n",
       "      <th>2</th>\n",
       "      <td>ZoeLeBlanc</td>\n",
       "      <td>8355129.0</td>\n",
       "      <td>MDQ6VXNlcjgzNTUxMjk=</td>\n",
       "      <td>https://avatars.githubusercontent.com/u/835512...</td>\n",
       "      <td>NaN</td>\n",
       "      <td>https://api.github.com/users/ZoeLeBlanc</td>\n",
       "      <td>https://github.com/ZoeLeBlanc</td>\n",
       "      <td>https://api.github.com/users/ZoeLeBlanc/followers</td>\n",
       "      <td>https://api.github.com/users/ZoeLeBlanc/follow...</td>\n",
       "      <td>https://api.github.com/users/ZoeLeBlanc/gists{...</td>\n",
       "      <td>...</td>\n",
       "      <td>NaN</td>\n",
       "      <td>NaN</td>\n",
       "      <td>NaN</td>\n",
       "      <td>NaN</td>\n",
       "      <td>NaN</td>\n",
       "      <td>NaN</td>\n",
       "      <td>NaN</td>\n",
       "      <td>NaN</td>\n",
       "      <td>NaN</td>\n",
       "      <td>2</td>\n",
       "    </tr>\n",
       "    <tr>\n",
       "      <th>3</th>\n",
       "      <td>ZoeLeBlanc</td>\n",
       "      <td>8355129.0</td>\n",
       "      <td>MDQ6VXNlcjgzNTUxMjk=</td>\n",
       "      <td>https://avatars.githubusercontent.com/u/835512...</td>\n",
       "      <td>NaN</td>\n",
       "      <td>https://api.github.com/users/ZoeLeBlanc</td>\n",
       "      <td>https://github.com/ZoeLeBlanc</td>\n",
       "      <td>https://api.github.com/users/ZoeLeBlanc/followers</td>\n",
       "      <td>https://api.github.com/users/ZoeLeBlanc/follow...</td>\n",
       "      <td>https://api.github.com/users/ZoeLeBlanc/gists{...</td>\n",
       "      <td>...</td>\n",
       "      <td>NaN</td>\n",
       "      <td>NaN</td>\n",
       "      <td>NaN</td>\n",
       "      <td>NaN</td>\n",
       "      <td>NaN</td>\n",
       "      <td>NaN</td>\n",
       "      <td>NaN</td>\n",
       "      <td>NaN</td>\n",
       "      <td>NaN</td>\n",
       "      <td>3</td>\n",
       "    </tr>\n",
       "  </tbody>\n",
       "</table>\n",
       "<p>4 rows × 145 columns</p>\n",
       "</div>"
      ],
      "text/plain": [
       "        login         id               node_id  \\\n",
       "0  ZoeLeBlanc  8355129.0  MDQ6VXNlcjgzNTUxMjk=   \n",
       "1  ZoeLeBlanc  8355129.0  MDQ6VXNlcjgzNTUxMjk=   \n",
       "2  ZoeLeBlanc  8355129.0  MDQ6VXNlcjgzNTUxMjk=   \n",
       "3  ZoeLeBlanc  8355129.0  MDQ6VXNlcjgzNTUxMjk=   \n",
       "\n",
       "                                          avatar_url  gravatar_id  \\\n",
       "0  https://avatars.githubusercontent.com/u/835512...          NaN   \n",
       "1  https://avatars.githubusercontent.com/u/835512...          NaN   \n",
       "2  https://avatars.githubusercontent.com/u/835512...          NaN   \n",
       "3  https://avatars.githubusercontent.com/u/835512...          NaN   \n",
       "\n",
       "                                       url                       html_url  \\\n",
       "0  https://api.github.com/users/ZoeLeBlanc  https://github.com/ZoeLeBlanc   \n",
       "1  https://api.github.com/users/ZoeLeBlanc  https://github.com/ZoeLeBlanc   \n",
       "2  https://api.github.com/users/ZoeLeBlanc  https://github.com/ZoeLeBlanc   \n",
       "3  https://api.github.com/users/ZoeLeBlanc  https://github.com/ZoeLeBlanc   \n",
       "\n",
       "                                       followers_url  \\\n",
       "0  https://api.github.com/users/ZoeLeBlanc/followers   \n",
       "1  https://api.github.com/users/ZoeLeBlanc/followers   \n",
       "2  https://api.github.com/users/ZoeLeBlanc/followers   \n",
       "3  https://api.github.com/users/ZoeLeBlanc/followers   \n",
       "\n",
       "                                       following_url  \\\n",
       "0  https://api.github.com/users/ZoeLeBlanc/follow...   \n",
       "1  https://api.github.com/users/ZoeLeBlanc/follow...   \n",
       "2  https://api.github.com/users/ZoeLeBlanc/follow...   \n",
       "3  https://api.github.com/users/ZoeLeBlanc/follow...   \n",
       "\n",
       "                                           gists_url  ...  \\\n",
       "0  https://api.github.com/users/ZoeLeBlanc/gists{...  ...   \n",
       "1  https://api.github.com/users/ZoeLeBlanc/gists{...  ...   \n",
       "2  https://api.github.com/users/ZoeLeBlanc/gists{...  ...   \n",
       "3  https://api.github.com/users/ZoeLeBlanc/gists{...  ...   \n",
       "\n",
       "  permissions.maintain permissions.push permissions.triage permissions.pull  \\\n",
       "0                  NaN              NaN                NaN              NaN   \n",
       "1                  NaN              NaN                NaN              NaN   \n",
       "2                  NaN              NaN                NaN              NaN   \n",
       "3                  NaN              NaN                NaN              NaN   \n",
       "\n",
       "  license.key license.name license.spdx_id  license.url license.node_id  \\\n",
       "0         NaN          NaN             NaN          NaN             NaN   \n",
       "1         NaN          NaN             NaN          NaN             NaN   \n",
       "2         NaN          NaN             NaN          NaN             NaN   \n",
       "3         NaN          NaN             NaN          NaN             NaN   \n",
       "\n",
       "   coding_dh_id  \n",
       "0             0  \n",
       "1             1  \n",
       "2             2  \n",
       "3             3  \n",
       "\n",
       "[4 rows x 145 columns]"
      ]
     },
     "execution_count": 93,
     "metadata": {},
     "output_type": "execute_result"
    }
   ],
   "source": [
    "final_processed_df"
   ]
  },
  {
   "cell_type": "code",
   "execution_count": 79,
   "metadata": {},
   "outputs": [],
   "source": [
    "files = os.listdir(\"../../datasets/temp/temp_users\")\n",
    "# other_files = os.listdir(\"../../new_datasets/historic_data/entity_files/all_users\")\n",
    "# len(files), len(other_files)"
   ]
  },
  {
   "cell_type": "code",
   "execution_count": 80,
   "metadata": {},
   "outputs": [
    {
     "name": "stdout",
     "output_type": "stream",
     "text": [
      "['ZoeLeBlanc_coding_dh_user.csv']\n"
     ]
    }
   ],
   "source": [
    "exists = [ file for file in files if 'ZoeLeBlanc' in file]\n",
    "print(exists)"
   ]
  },
  {
   "cell_type": "code",
   "execution_count": 57,
   "metadata": {},
   "outputs": [],
   "source": [
    "headers = pd.read_csv(\"../../new_datasets//metadata_files/repo_headers.csv\")"
   ]
  },
  {
   "cell_type": "code",
   "execution_count": 58,
   "metadata": {},
   "outputs": [
    {
     "data": {
      "text/html": [
       "<div>\n",
       "<style scoped>\n",
       "    .dataframe tbody tr th:only-of-type {\n",
       "        vertical-align: middle;\n",
       "    }\n",
       "\n",
       "    .dataframe tbody tr th {\n",
       "        vertical-align: top;\n",
       "    }\n",
       "\n",
       "    .dataframe thead th {\n",
       "        text-align: right;\n",
       "    }\n",
       "</style>\n",
       "<table border=\"1\" class=\"dataframe\">\n",
       "  <thead>\n",
       "    <tr style=\"text-align: right;\">\n",
       "      <th></th>\n",
       "      <th>id</th>\n",
       "      <th>node_id</th>\n",
       "      <th>name</th>\n",
       "      <th>full_name</th>\n",
       "      <th>private</th>\n",
       "      <th>html_url</th>\n",
       "      <th>description</th>\n",
       "      <th>fork</th>\n",
       "      <th>url</th>\n",
       "      <th>forks_url</th>\n",
       "      <th>...</th>\n",
       "      <th>permissions.admin</th>\n",
       "      <th>permissions.maintain</th>\n",
       "      <th>permissions.push</th>\n",
       "      <th>permissions.triage</th>\n",
       "      <th>permissions.pull</th>\n",
       "      <th>license.key</th>\n",
       "      <th>license.name</th>\n",
       "      <th>license.spdx_id</th>\n",
       "      <th>license.url</th>\n",
       "      <th>license.node_id</th>\n",
       "    </tr>\n",
       "  </thead>\n",
       "  <tbody>\n",
       "    <tr>\n",
       "      <th>0</th>\n",
       "      <td>NaN</td>\n",
       "      <td>NaN</td>\n",
       "      <td>NaN</td>\n",
       "      <td>NaN</td>\n",
       "      <td>NaN</td>\n",
       "      <td>NaN</td>\n",
       "      <td>NaN</td>\n",
       "      <td>NaN</td>\n",
       "      <td>NaN</td>\n",
       "      <td>NaN</td>\n",
       "      <td>...</td>\n",
       "      <td>NaN</td>\n",
       "      <td>NaN</td>\n",
       "      <td>NaN</td>\n",
       "      <td>NaN</td>\n",
       "      <td>NaN</td>\n",
       "      <td>NaN</td>\n",
       "      <td>NaN</td>\n",
       "      <td>NaN</td>\n",
       "      <td>NaN</td>\n",
       "      <td>NaN</td>\n",
       "    </tr>\n",
       "  </tbody>\n",
       "</table>\n",
       "<p>1 rows × 105 columns</p>\n",
       "</div>"
      ],
      "text/plain": [
       "   id  node_id  name  full_name  private  html_url  description  fork  url  \\\n",
       "0 NaN      NaN   NaN        NaN      NaN       NaN          NaN   NaN  NaN   \n",
       "\n",
       "   forks_url  ...  permissions.admin  permissions.maintain  permissions.push  \\\n",
       "0        NaN  ...                NaN                   NaN               NaN   \n",
       "\n",
       "   permissions.triage  permissions.pull  license.key  license.name  \\\n",
       "0                 NaN               NaN          NaN           NaN   \n",
       "\n",
       "   license.spdx_id  license.url  license.node_id  \n",
       "0              NaN          NaN              NaN  \n",
       "\n",
       "[1 rows x 105 columns]"
      ]
     },
     "execution_count": 58,
     "metadata": {},
     "output_type": "execute_result"
    }
   ],
   "source": [
    "headers"
   ]
  },
  {
   "cell_type": "code",
   "execution_count": 56,
   "metadata": {},
   "outputs": [
    {
     "data": {
      "text/plain": [
       "{'id': {0: 27790226},\n",
       " 'node_id': {0: 'MDEwOlJlcG9zaXRvcnkyNzc5MDIyNg=='},\n",
       " 'name': {0: 'obdurodon-statistics'},\n",
       " 'full_name': {0: 'AlexBurger/obdurodon-statistics'},\n",
       " 'private': {0: False},\n",
       " 'html_url': {0: 'https://github.com/AlexBurger/obdurodon-statistics'},\n",
       " 'description': {0: 'A statistical primer for an undergraduate course in Digital Humanities at the University of Pittsburgh'},\n",
       " 'fork': {0: False},\n",
       " 'url': {0: 'https://api.github.com/repos/AlexBurger/obdurodon-statistics'},\n",
       " 'forks_url': {0: 'https://api.github.com/repos/AlexBurger/obdurodon-statistics/forks'},\n",
       " 'keys_url': {0: 'https://api.github.com/repos/AlexBurger/obdurodon-statistics/keys{/key_id}'},\n",
       " 'collaborators_url': {0: 'https://api.github.com/repos/AlexBurger/obdurodon-statistics/collaborators{/collaborator}'},\n",
       " 'teams_url': {0: 'https://api.github.com/repos/AlexBurger/obdurodon-statistics/teams'},\n",
       " 'hooks_url': {0: 'https://api.github.com/repos/AlexBurger/obdurodon-statistics/hooks'},\n",
       " 'issue_events_url': {0: 'https://api.github.com/repos/AlexBurger/obdurodon-statistics/issues/events{/number}'},\n",
       " 'events_url': {0: 'https://api.github.com/repos/AlexBurger/obdurodon-statistics/events'},\n",
       " 'assignees_url': {0: 'https://api.github.com/repos/AlexBurger/obdurodon-statistics/assignees{/user}'},\n",
       " 'branches_url': {0: 'https://api.github.com/repos/AlexBurger/obdurodon-statistics/branches{/branch}'},\n",
       " 'tags_url': {0: 'https://api.github.com/repos/AlexBurger/obdurodon-statistics/tags'},\n",
       " 'blobs_url': {0: 'https://api.github.com/repos/AlexBurger/obdurodon-statistics/git/blobs{/sha}'},\n",
       " 'git_tags_url': {0: 'https://api.github.com/repos/AlexBurger/obdurodon-statistics/git/tags{/sha}'},\n",
       " 'git_refs_url': {0: 'https://api.github.com/repos/AlexBurger/obdurodon-statistics/git/refs{/sha}'},\n",
       " 'trees_url': {0: 'https://api.github.com/repos/AlexBurger/obdurodon-statistics/git/trees{/sha}'},\n",
       " 'statuses_url': {0: 'https://api.github.com/repos/AlexBurger/obdurodon-statistics/statuses/{sha}'},\n",
       " 'languages_url': {0: 'https://api.github.com/repos/AlexBurger/obdurodon-statistics/languages'},\n",
       " 'stargazers_url': {0: 'https://api.github.com/repos/AlexBurger/obdurodon-statistics/stargazers'},\n",
       " 'contributors_url': {0: 'https://api.github.com/repos/AlexBurger/obdurodon-statistics/contributors'},\n",
       " 'subscribers_url': {0: 'https://api.github.com/repos/AlexBurger/obdurodon-statistics/subscribers'},\n",
       " 'subscription_url': {0: 'https://api.github.com/repos/AlexBurger/obdurodon-statistics/subscription'},\n",
       " 'commits_url': {0: 'https://api.github.com/repos/AlexBurger/obdurodon-statistics/commits{/sha}'},\n",
       " 'git_commits_url': {0: 'https://api.github.com/repos/AlexBurger/obdurodon-statistics/git/commits{/sha}'},\n",
       " 'comments_url': {0: 'https://api.github.com/repos/AlexBurger/obdurodon-statistics/comments{/number}'},\n",
       " 'issue_comment_url': {0: 'https://api.github.com/repos/AlexBurger/obdurodon-statistics/issues/comments{/number}'},\n",
       " 'contents_url': {0: 'https://api.github.com/repos/AlexBurger/obdurodon-statistics/contents/{+path}'},\n",
       " 'compare_url': {0: 'https://api.github.com/repos/AlexBurger/obdurodon-statistics/compare/{base}...{head}'},\n",
       " 'merges_url': {0: 'https://api.github.com/repos/AlexBurger/obdurodon-statistics/merges'},\n",
       " 'archive_url': {0: 'https://api.github.com/repos/AlexBurger/obdurodon-statistics/{archive_format}{/ref}'},\n",
       " 'downloads_url': {0: 'https://api.github.com/repos/AlexBurger/obdurodon-statistics/downloads'},\n",
       " 'issues_url': {0: 'https://api.github.com/repos/AlexBurger/obdurodon-statistics/issues{/number}'},\n",
       " 'pulls_url': {0: 'https://api.github.com/repos/AlexBurger/obdurodon-statistics/pulls{/number}'},\n",
       " 'milestones_url': {0: 'https://api.github.com/repos/AlexBurger/obdurodon-statistics/milestones{/number}'},\n",
       " 'notifications_url': {0: 'https://api.github.com/repos/AlexBurger/obdurodon-statistics/notifications{?since,all,participating}'},\n",
       " 'labels_url': {0: 'https://api.github.com/repos/AlexBurger/obdurodon-statistics/labels{/name}'},\n",
       " 'releases_url': {0: 'https://api.github.com/repos/AlexBurger/obdurodon-statistics/releases{/id}'},\n",
       " 'deployments_url': {0: 'https://api.github.com/repos/AlexBurger/obdurodon-statistics/deployments'},\n",
       " 'created_at': {0: '2014-12-09T22:22:24Z'},\n",
       " 'updated_at': {0: '2014-12-09T22:22:24Z'},\n",
       " 'pushed_at': {0: '2014-12-09T22:22:24Z'},\n",
       " 'git_url': {0: 'git://github.com/AlexBurger/obdurodon-statistics.git'},\n",
       " 'ssh_url': {0: 'git@github.com:AlexBurger/obdurodon-statistics.git'},\n",
       " 'clone_url': {0: 'https://github.com/AlexBurger/obdurodon-statistics.git'},\n",
       " 'svn_url': {0: 'https://github.com/AlexBurger/obdurodon-statistics'},\n",
       " 'homepage': {0: nan},\n",
       " 'size': {0: 0},\n",
       " 'stargazers_count': {0: 0},\n",
       " 'watchers_count': {0: 0},\n",
       " 'language': {0: nan},\n",
       " 'has_issues': {0: True},\n",
       " 'has_projects': {0: True},\n",
       " 'has_downloads': {0: True},\n",
       " 'has_wiki': {0: True},\n",
       " 'has_pages': {0: False},\n",
       " 'has_discussions': {0: False},\n",
       " 'forks_count': {0: 0},\n",
       " 'mirror_url': {0: nan},\n",
       " 'archived': {0: False},\n",
       " 'disabled': {0: False},\n",
       " 'open_issues_count': {0: 0},\n",
       " 'allow_forking': {0: True},\n",
       " 'is_template': {0: False},\n",
       " 'web_commit_signoff_required': {0: False},\n",
       " 'topics': {0: '[]'},\n",
       " 'visibility': {0: 'public'},\n",
       " 'forks': {0: 0},\n",
       " 'open_issues': {0: 0},\n",
       " 'watchers': {0: 0},\n",
       " 'default_branch': {0: 'master'},\n",
       " 'score': {0: 1.0},\n",
       " 'owner.login': {0: 'AlexBurger'},\n",
       " 'owner.id': {0: 6430554},\n",
       " 'owner.node_id': {0: 'MDQ6VXNlcjY0MzA1NTQ='},\n",
       " 'owner.avatar_url': {0: 'https://avatars.githubusercontent.com/u/6430554?v=4'},\n",
       " 'owner.gravatar_id': {0: nan},\n",
       " 'owner.url': {0: 'https://api.github.com/users/AlexBurger'},\n",
       " 'owner.html_url': {0: 'https://github.com/AlexBurger'},\n",
       " 'owner.followers_url': {0: 'https://api.github.com/users/AlexBurger/followers'},\n",
       " 'owner.following_url': {0: 'https://api.github.com/users/AlexBurger/following{/other_user}'},\n",
       " 'owner.gists_url': {0: 'https://api.github.com/users/AlexBurger/gists{/gist_id}'},\n",
       " 'owner.starred_url': {0: 'https://api.github.com/users/AlexBurger/starred{/owner}{/repo}'},\n",
       " 'owner.subscriptions_url': {0: 'https://api.github.com/users/AlexBurger/subscriptions'},\n",
       " 'owner.organizations_url': {0: 'https://api.github.com/users/AlexBurger/orgs'},\n",
       " 'owner.repos_url': {0: 'https://api.github.com/users/AlexBurger/repos'},\n",
       " 'owner.events_url': {0: 'https://api.github.com/users/AlexBurger/events{/privacy}'},\n",
       " 'owner.received_events_url': {0: 'https://api.github.com/users/AlexBurger/received_events'},\n",
       " 'owner.type': {0: 'User'},\n",
       " 'owner.site_admin': {0: False},\n",
       " 'license.key': {0: nan},\n",
       " 'license.name': {0: nan},\n",
       " 'license.spdx_id': {0: nan},\n",
       " 'license.url': {0: nan},\n",
       " 'license.node_id': {0: nan},\n",
       " 'permissions.admin': {0: False},\n",
       " 'permissions.maintain': {0: False},\n",
       " 'permissions.push': {0: False},\n",
       " 'permissions.triage': {0: False},\n",
       " 'permissions.pull': {0: True},\n",
       " 'license': {0: nan},\n",
       " 'search_query': {0: 'https://api.github.com/search/repositories?q=\"Digital+Humanities\"+created%3A2014-01-01..2014-12-31+sort:created&per_page=100&page=1'},\n",
       " 'search_term': {0: 'Digital Humanities'},\n",
       " 'search_term_source': {0: 'Digital Humanities'},\n",
       " 'natural_language': {0: 'en, ha, ig, lb, mg, ny, sm, sn, st, tl, yo'},\n",
       " 'search_type': {0: 'searched'},\n",
       " 'cleaned_search_query': {0: 'https://api.github.com/search/repositories?q=Digital+Humanities+created:2014-01-01..2014-12-31+sort:created&per_page=100'},\n",
       " 'coding_dh_date': {0: '2024-02-04'},\n",
       " 'coding_dh_id': {0: 0},\n",
       " 'search_file_name': {0: 'repos_searched_Digital+Humanities_2014.csv'}}"
      ]
     },
     "execution_count": 56,
     "metadata": {},
     "output_type": "execute_result"
    }
   ],
   "source": [
    "search_repo_queries_df[search_repo_queries_df.full_name == \"AlexBurger/obdurodon-statistics\"].to_dict()"
   ]
  },
  {
   "cell_type": "code",
   "execution_count": 54,
   "metadata": {},
   "outputs": [
    {
     "data": {
      "text/plain": [
       "(127377, 128160)"
      ]
     },
     "execution_count": 54,
     "metadata": {},
     "output_type": "execute_result"
    }
   ],
   "source": [
    "len(set(files)), len(set(other_files))"
   ]
  },
  {
   "cell_type": "code",
   "execution_count": 15,
   "metadata": {},
   "outputs": [
    {
     "data": {
      "text/plain": [
       "Digital Humanities    106\n",
       "Name: search_term_source, dtype: int64"
      ]
     },
     "execution_count": 15,
     "metadata": {},
     "output_type": "execute_result"
    }
   ],
   "source": [
    "cleaned_terms.search_term_source.value_counts()"
   ]
  },
  {
   "cell_type": "code",
   "execution_count": 24,
   "metadata": {},
   "outputs": [
    {
     "data": {
      "text/plain": [
       "(186, 333, 838, 1421, 2725, 4018)"
      ]
     },
     "execution_count": 24,
     "metadata": {},
     "output_type": "execute_result"
    }
   ],
   "source": [
    "search_org_queries_df.login.nunique(), len(search_org_queries_df), search_user_queries_df.login.nunique(), len(search_user_queries_df), search_repo_queries_df.full_name.nunique(), len(search_repo_queries_df)"
   ]
  },
  {
   "cell_type": "code",
   "execution_count": 25,
   "metadata": {},
   "outputs": [],
   "source": []
  },
  {
   "cell_type": "code",
   "execution_count": 26,
   "metadata": {},
   "outputs": [],
   "source": [
    "def get_test_new_entities(entity_type:str, potential_new_entities_df: pd.DataFrame, temp_entity_dir: str, entity_progress_bar: tqdm, error_file_path: str):\n",
    "    \"\"\"\n",
    "    Gets new entities from GitHub API. \n",
    "\n",
    "    :param entity_type: Type of entity\n",
    "    :param potential_new_entities_df: Potential new entities dataframe\n",
    "    :param temp_entity_dir: Temporary entity directory\n",
    "    :param entity_progress_bar: Entity progress bar\n",
    "    :param error_file_path: Path to error file\n",
    "    :param overwrite_existing_temp_files: Boolean indicating whether to overwrite existing temporary files. Defaults to True.\n",
    "    :return: Combined entity dataframe\n",
    "    \"\"\"\n",
    "\n",
    "    # Create temporary directory if it doesn't exist\n",
    "    if not os.path.exists(temp_entity_dir):\n",
    "        os.makedirs(temp_entity_dir, exist_ok=True)\n",
    "    \n",
    "    # Subset headers for orgs and users\n",
    "    user_cols = [\"bio\", \"followers_url\", \"following_url\", \"gists_url\", \"gravatar_id\", \"hireable\", \"organizations_url\",\"received_events_url\", \"site_admin\", \"starred_url\",\n",
    "    \"subscriptions_url\",\"login\",]\n",
    "\n",
    "    excluded_file_path = f'{data_directory_path}/metadata_files/excluded_{entity_type}.csv'\n",
    "    error_file_path = f\"{data_directory_path}/error_logs/potential_{entity_type}_errors.csv\"\n",
    "\n",
    "    # Get entity column based on entity type\n",
    "    entity_column = \"full_name\" if (entity_type == \"repos\") else \"login\"\n",
    "\n",
    "    if os.path.exists(excluded_file_path):\n",
    "        excluded_entities = read_csv_file(excluded_file_path)\n",
    "        # Exclude entities and check for errors\n",
    "        potential_new_entities_df = potential_new_entities_df[~potential_new_entities_df[entity_column].isin(excluded_entities[entity_column])]\n",
    "\n",
    "    # Get headers\n",
    "    headers = get_headers(entity_type)\n",
    "\n",
    "    # Update progress bar\n",
    "    entity_progress_bar.total = len(potential_new_entities_df)\n",
    "    entity_progress_bar.refresh()\n",
    "\n",
    "    # Loop through potential new entities\n",
    "    for _, row in potential_new_entities_df.iterrows():\n",
    "        try:\n",
    "            # Create temporary file path\n",
    "            temp_entities_path = f\"{row[entity_column].replace('/', '_').replace(' ', '_')}_coding_dh_{entity_type}.csv\"\n",
    "            console.print(f\"Processing {temp_entities_path}\", style=\"bold blue\")\n",
    "            # Check if file exists\n",
    "            if os.path.exists(f\"{temp_entity_dir}/{temp_entities_path}\"):\n",
    "                existing_temp_entities_df = read_csv_file(f\"{temp_entity_dir}/{temp_entities_path}\")\n",
    "            else:\n",
    "                existing_temp_entities_df = pd.DataFrame()\n",
    "            # Get query\n",
    "            query = row.url\n",
    "            if entity_type == \"orgs\":\n",
    "                query = row.url if \"/users/\" in row.url else row.url.replace(\"/orgs/\", \"/users/\")\n",
    "            # Make request\n",
    "            response = make_request_with_rate_limiting(query, auth_headers)\n",
    "            # If response is None, update progress bar and continue\n",
    "            if response is None and entity_type != \"orgs\":\n",
    "                entity_progress_bar.update(1)\n",
    "                continue\n",
    "            # If response is None and entity type is orgs, create empty dataframe\n",
    "            elif response is None and entity_type == \"orgs\":\n",
    "                response_df = pd.DataFrame(columns=headers.columns, data=None, index=None)\n",
    "            else:\n",
    "                response_data = response.json()\n",
    "                response_df = pd.json_normalize(response_data)\n",
    "                if \"message\" in response_df.columns:\n",
    "                    console.print(f\"Error for {row[entity_column]}: {response_df.message.values[0]}\", style=\"bold red\")\n",
    "                    entity_progress_bar.update(1)\n",
    "                    continue\n",
    "            \n",
    "            if entity_type != \"orgs\":\n",
    "                final_df = response_df[headers.columns]\n",
    "            else:\n",
    "                response_df = response_df[user_cols]\n",
    "                query = row.url.replace(\"/users/\", \"/orgs/\") if \"/users/\" in row.url else row.url\n",
    "                response = make_request_with_rate_limiting(query, auth_headers)\n",
    "                if response is None:\n",
    "                    expanded_df = pd.DataFrame(columns=headers.columns, data=None, index=None)\n",
    "                else:\n",
    "                    response_data = response.json()\n",
    "                    expanded_df = pd.json_normalize(response_data)\n",
    "                expanded_df = expanded_df[headers.columns]\n",
    "                common_columns = list(set(response_df.columns).intersection(set(expanded_df.columns)))\n",
    "                final_df = pd.merge(response_df, expanded_df, on=common_columns, how='left')\n",
    "                \n",
    "            final_df[\"coding_dh_date\"] = datetime.now().strftime(\"%Y-%m-%d\")\n",
    "            combined_df = pd.concat([existing_temp_entities_df, final_df])\n",
    "            grouped_dfs = combined_df.groupby(entity_column)\n",
    "            processed_files = []\n",
    "            for _, group in tqdm(grouped_dfs, desc=f\"Grouping files\"):\n",
    "                subset_columns = [\"coding_dh_date\"]\n",
    "                group = sort_groups_add_coding_dh_id(group, subset_columns)\n",
    "                processed_files.append(group)\n",
    "            final_processed_df = pd.concat(processed_files).reset_index(drop=True)\n",
    "            final_processed_df.to_csv(f\"{temp_entity_dir}/{temp_entities_path}\", index=False)\n",
    "            entity_progress_bar.update(1)\n",
    "        except Exception as e:\n",
    "            console.print(f\"Error for {row[entity_column]}: {e}\", style=\"bold red\")\n",
    "            error_df = pd.DataFrame([{entity_column: row[entity_column], \"error_time\": time.time(), \"error_url\": row.url}])\n",
    "            if os.path.exists(error_file_path):\n",
    "                error_df.to_csv(error_file_path, mode='a', header=False, index=False)\n",
    "            else:\n",
    "                error_df.to_csv(error_file_path, index=False)\n",
    "            entity_progress_bar.update(1)\n",
    "            continue\n",
    "\n",
    "    # Read in all temporary files\n",
    "    # combined_entity_df = read_combine_files(temp_entity_dir)\n",
    "    entity_progress_bar.close()"
   ]
  },
  {
   "cell_type": "code",
   "execution_count": 27,
   "metadata": {},
   "outputs": [
    {
     "name": "stderr",
     "output_type": "stream",
     "text": [
      "Processing entities:   0%|          | 0/5 [00:00<?, ?it/s]"
     ]
    }
   ],
   "source": [
    "entity_type = \"orgs\"\n",
    "potential_new_entities_df = search_org_queries_df.drop_duplicates(subset=['login'])\n",
    "potential_new_entities_df = potential_new_entities_df[0:5]\n",
    "temp_entity_dir = f\"{data_directory_path}/historic_data/entity_files/all_orgs/\"\n",
    "entity_progress_bar = tqdm(total=potential_new_entities_df.shape[0], desc=\"Processing entities\")\n",
    "error_file_path = f\"{data_directory_path}/error_logs/org_errors.csv\"\n"
   ]
  },
  {
   "cell_type": "code",
   "execution_count": 40,
   "metadata": {},
   "outputs": [
    {
     "name": "stdout",
     "output_type": "stream",
     "text": [
      "False\n"
     ]
    }
   ],
   "source": [
    "groups = search_user_queries_df[search_user_queries_df.login.str.contains(\"Zoe\")].groupby([\"login\"])\n",
    "\n",
    "for _, group in groups:\n",
    "    print((group.drop(columns=[\"coding_dh_date\", \"coding_dh_id\"]).nunique() > 1).any())"
   ]
  },
  {
   "cell_type": "code",
   "execution_count": 31,
   "metadata": {},
   "outputs": [
    {
     "data": {
      "text/plain": [
       "{'login': {0: 'Digitaalhumanitaaria'},\n",
       " 'id': {0: 18483032},\n",
       " 'node_id': {0: 'MDEyOk9yZ2FuaXphdGlvbjE4NDgzMDMy'},\n",
       " 'avatar_url': {0: 'https://avatars.githubusercontent.com/u/18483032?v=4'},\n",
       " 'gravatar_id': {0: nan},\n",
       " 'url': {0: 'https://api.github.com/users/Digitaalhumanitaaria'},\n",
       " 'html_url': {0: 'https://github.com/Digitaalhumanitaaria'},\n",
       " 'followers_url': {0: 'https://api.github.com/users/Digitaalhumanitaaria/followers'},\n",
       " 'following_url': {0: 'https://api.github.com/users/Digitaalhumanitaaria/following{/other_user}'},\n",
       " 'gists_url': {0: 'https://api.github.com/users/Digitaalhumanitaaria/gists{/gist_id}'},\n",
       " 'starred_url': {0: 'https://api.github.com/users/Digitaalhumanitaaria/starred{/owner}{/repo}'},\n",
       " 'subscriptions_url': {0: 'https://api.github.com/users/Digitaalhumanitaaria/subscriptions'},\n",
       " 'organizations_url': {0: 'https://api.github.com/users/Digitaalhumanitaaria/orgs'},\n",
       " 'repos_url': {0: 'https://api.github.com/users/Digitaalhumanitaaria/repos'},\n",
       " 'events_url': {0: 'https://api.github.com/users/Digitaalhumanitaaria/events{/privacy}'},\n",
       " 'received_events_url': {0: 'https://api.github.com/users/Digitaalhumanitaaria/received_events'},\n",
       " 'type': {0: 'Organization'},\n",
       " 'site_admin': {0: False},\n",
       " 'score': {0: 1.0},\n",
       " 'search_query': {0: 'https://api.github.com/search/users?q=\"Digitaalhumanitaaria\"&per_page=100&page=1'},\n",
       " 'search_term': {0: 'Digitaalhumanitaaria'},\n",
       " 'search_term_source': {0: 'Digital Humanities'},\n",
       " 'natural_language': {0: 'et'},\n",
       " 'search_type': {0: 'searched'},\n",
       " 'coding_dh_date': {0: '2024-02-03'},\n",
       " 'cleaned_search_query': {0: 'https://api.github.com/search/users?q=Digitaalhumanitaaria&per_page=100'},\n",
       " 'coding_dh_id': {0: 0},\n",
       " 'search_file_name': {0: 'users_searched_Digitaalhumanitaaria.csv'}}"
      ]
     },
     "execution_count": 31,
     "metadata": {},
     "output_type": "execute_result"
    }
   ],
   "source": [
    "search_org_queries_df[search_org_queries_df.login == \"Digitaalhumanitaaria\"].to_dict()"
   ]
  },
  {
   "cell_type": "code",
   "execution_count": 28,
   "metadata": {},
   "outputs": [
    {
     "name": "stderr",
     "output_type": "stream",
     "text": [
      "Processing entities:   0%|          | 0/5 [00:04<?, ?it/s]"
     ]
    },
    {
     "data": {
      "text/html": [
       "<pre style=\"white-space:pre;overflow-x:auto;line-height:normal;font-family:Menlo,'DejaVu Sans Mono',consolas,'Courier New',monospace\"><span style=\"color: #000080; text-decoration-color: #000080; font-weight: bold\">Processing 5colldh_coding_dh_orgs.csv</span>\n",
       "</pre>\n"
      ],
      "text/plain": [
       "\u001b[1;34mProcessing 5colldh_coding_dh_orgs.csv\u001b[0m\n"
      ]
     },
     "metadata": {},
     "output_type": "display_data"
    },
    {
     "data": {
      "text/html": [
       "<pre style=\"white-space:pre;overflow-x:auto;line-height:normal;font-family:Menlo,'DejaVu Sans Mono',consolas,'Courier New',monospace\">Status code <span style=\"color: #008080; text-decoration-color: #008080; font-weight: bold\">200</span>\n",
       "</pre>\n"
      ],
      "text/plain": [
       "Status code \u001b[1;36m200\u001b[0m\n"
      ]
     },
     "metadata": {},
     "output_type": "display_data"
    },
    {
     "data": {
      "text/html": [
       "<pre style=\"white-space:pre;overflow-x:auto;line-height:normal;font-family:Menlo,'DejaVu Sans Mono',consolas,'Courier New',monospace\">Status code <span style=\"color: #008080; text-decoration-color: #008080; font-weight: bold\">200</span>\n",
       "</pre>\n"
      ],
      "text/plain": [
       "Status code \u001b[1;36m200\u001b[0m\n"
      ]
     },
     "metadata": {},
     "output_type": "display_data"
    },
    {
     "name": "stderr",
     "output_type": "stream",
     "text": [
      "Grouping files: 100%|██████████| 1/1 [00:00<00:00, 75.18it/s]\n",
      "Processing entities:  20%|██        | 1/5 [00:05<00:20,  5.23s/it]"
     ]
    },
    {
     "data": {
      "text/html": [
       "<pre style=\"white-space:pre;overflow-x:auto;line-height:normal;font-family:Menlo,'DejaVu Sans Mono',consolas,'Courier New',monospace\"><span style=\"color: #000080; text-decoration-color: #000080; font-weight: bold\">Processing ABC-DH_coding_dh_orgs.csv</span>\n",
       "</pre>\n"
      ],
      "text/plain": [
       "\u001b[1;34mProcessing ABC-DH_coding_dh_orgs.csv\u001b[0m\n"
      ]
     },
     "metadata": {},
     "output_type": "display_data"
    },
    {
     "data": {
      "text/html": [
       "<pre style=\"white-space:pre;overflow-x:auto;line-height:normal;font-family:Menlo,'DejaVu Sans Mono',consolas,'Courier New',monospace\">Status code <span style=\"color: #008080; text-decoration-color: #008080; font-weight: bold\">200</span>\n",
       "</pre>\n"
      ],
      "text/plain": [
       "Status code \u001b[1;36m200\u001b[0m\n"
      ]
     },
     "metadata": {},
     "output_type": "display_data"
    },
    {
     "data": {
      "text/html": [
       "<pre style=\"white-space:pre;overflow-x:auto;line-height:normal;font-family:Menlo,'DejaVu Sans Mono',consolas,'Courier New',monospace\">Status code <span style=\"color: #008080; text-decoration-color: #008080; font-weight: bold\">200</span>\n",
       "</pre>\n"
      ],
      "text/plain": [
       "Status code \u001b[1;36m200\u001b[0m\n"
      ]
     },
     "metadata": {},
     "output_type": "display_data"
    },
    {
     "name": "stderr",
     "output_type": "stream",
     "text": [
      "Grouping files: 100%|██████████| 1/1 [00:00<00:00, 62.94it/s]\n",
      "Processing entities:  40%|████      | 2/5 [00:05<00:07,  2.37s/it]"
     ]
    },
    {
     "data": {
      "text/html": [
       "<pre style=\"white-space:pre;overflow-x:auto;line-height:normal;font-family:Menlo,'DejaVu Sans Mono',consolas,'Courier New',monospace\"><span style=\"color: #000080; text-decoration-color: #000080; font-weight: bold\">Processing ADHO_coding_dh_orgs.csv</span>\n",
       "</pre>\n"
      ],
      "text/plain": [
       "\u001b[1;34mProcessing ADHO_coding_dh_orgs.csv\u001b[0m\n"
      ]
     },
     "metadata": {},
     "output_type": "display_data"
    },
    {
     "data": {
      "text/html": [
       "<pre style=\"white-space:pre;overflow-x:auto;line-height:normal;font-family:Menlo,'DejaVu Sans Mono',consolas,'Courier New',monospace\">Status code <span style=\"color: #008080; text-decoration-color: #008080; font-weight: bold\">200</span>\n",
       "</pre>\n"
      ],
      "text/plain": [
       "Status code \u001b[1;36m200\u001b[0m\n"
      ]
     },
     "metadata": {},
     "output_type": "display_data"
    },
    {
     "data": {
      "text/html": [
       "<pre style=\"white-space:pre;overflow-x:auto;line-height:normal;font-family:Menlo,'DejaVu Sans Mono',consolas,'Courier New',monospace\">Status code <span style=\"color: #008080; text-decoration-color: #008080; font-weight: bold\">200</span>\n",
       "</pre>\n"
      ],
      "text/plain": [
       "Status code \u001b[1;36m200\u001b[0m\n"
      ]
     },
     "metadata": {},
     "output_type": "display_data"
    },
    {
     "name": "stderr",
     "output_type": "stream",
     "text": [
      "Grouping files: 100%|██████████| 1/1 [00:00<00:00, 66.86it/s]\n",
      "Processing entities:  60%|██████    | 3/5 [00:05<00:02,  1.47s/it]"
     ]
    },
    {
     "data": {
      "text/html": [
       "<pre style=\"white-space:pre;overflow-x:auto;line-height:normal;font-family:Menlo,'DejaVu Sans Mono',consolas,'Courier New',monospace\"><span style=\"color: #000080; text-decoration-color: #000080; font-weight: bold\">Processing AIMH-DHgroup_coding_dh_orgs.csv</span>\n",
       "</pre>\n"
      ],
      "text/plain": [
       "\u001b[1;34mProcessing AIMH-DHgroup_coding_dh_orgs.csv\u001b[0m\n"
      ]
     },
     "metadata": {},
     "output_type": "display_data"
    },
    {
     "data": {
      "text/html": [
       "<pre style=\"white-space:pre;overflow-x:auto;line-height:normal;font-family:Menlo,'DejaVu Sans Mono',consolas,'Courier New',monospace\">Status code <span style=\"color: #008080; text-decoration-color: #008080; font-weight: bold\">200</span>\n",
       "</pre>\n"
      ],
      "text/plain": [
       "Status code \u001b[1;36m200\u001b[0m\n"
      ]
     },
     "metadata": {},
     "output_type": "display_data"
    },
    {
     "data": {
      "text/html": [
       "<pre style=\"white-space:pre;overflow-x:auto;line-height:normal;font-family:Menlo,'DejaVu Sans Mono',consolas,'Courier New',monospace\">Status code <span style=\"color: #008080; text-decoration-color: #008080; font-weight: bold\">200</span>\n",
       "</pre>\n"
      ],
      "text/plain": [
       "Status code \u001b[1;36m200\u001b[0m\n"
      ]
     },
     "metadata": {},
     "output_type": "display_data"
    },
    {
     "name": "stderr",
     "output_type": "stream",
     "text": [
      "Grouping files: 100%|██████████| 1/1 [00:00<00:00, 62.76it/s]\n",
      "Processing entities:  80%|████████  | 4/5 [00:06<00:01,  1.04s/it]"
     ]
    },
    {
     "data": {
      "text/html": [
       "<pre style=\"white-space:pre;overflow-x:auto;line-height:normal;font-family:Menlo,'DejaVu Sans Mono',consolas,'Courier New',monospace\"><span style=\"color: #000080; text-decoration-color: #000080; font-weight: bold\">Processing AsymEnc_coding_dh_orgs.csv</span>\n",
       "</pre>\n"
      ],
      "text/plain": [
       "\u001b[1;34mProcessing AsymEnc_coding_dh_orgs.csv\u001b[0m\n"
      ]
     },
     "metadata": {},
     "output_type": "display_data"
    },
    {
     "data": {
      "text/html": [
       "<pre style=\"white-space:pre;overflow-x:auto;line-height:normal;font-family:Menlo,'DejaVu Sans Mono',consolas,'Courier New',monospace\">Status code <span style=\"color: #008080; text-decoration-color: #008080; font-weight: bold\">200</span>\n",
       "</pre>\n"
      ],
      "text/plain": [
       "Status code \u001b[1;36m200\u001b[0m\n"
      ]
     },
     "metadata": {},
     "output_type": "display_data"
    },
    {
     "data": {
      "text/html": [
       "<pre style=\"white-space:pre;overflow-x:auto;line-height:normal;font-family:Menlo,'DejaVu Sans Mono',consolas,'Courier New',monospace\">Status code <span style=\"color: #008080; text-decoration-color: #008080; font-weight: bold\">200</span>\n",
       "</pre>\n"
      ],
      "text/plain": [
       "Status code \u001b[1;36m200\u001b[0m\n"
      ]
     },
     "metadata": {},
     "output_type": "display_data"
    },
    {
     "name": "stderr",
     "output_type": "stream",
     "text": [
      "Grouping files: 100%|██████████| 1/1 [00:00<00:00, 91.51it/s]\n",
      "Processing entities: 100%|██████████| 5/5 [00:06<00:00,  1.35s/it]\n"
     ]
    }
   ],
   "source": [
    "get_test_new_entities(entity_type, potential_new_entities_df, temp_entity_dir, entity_progress_bar, error_file_path)"
   ]
  },
  {
   "cell_type": "code",
   "execution_count": 32,
   "metadata": {},
   "outputs": [
    {
     "ename": "FileNotFoundError",
     "evalue": "[Errno 2] No such file or directory: '../../new_datasets/historic_data/entity_files/all_orgs/Digitaalhumanitaaria_coding_dh_orgs.csv'",
     "output_type": "error",
     "traceback": [
      "\u001b[0;31m---------------------------------------------------------------------------\u001b[0m",
      "\u001b[0;31mFileNotFoundError\u001b[0m                         Traceback (most recent call last)",
      "Cell \u001b[0;32mIn[32], line 1\u001b[0m\n\u001b[0;32m----> 1\u001b[0m test \u001b[38;5;241m=\u001b[39m \u001b[43mpd\u001b[49m\u001b[38;5;241;43m.\u001b[39;49m\u001b[43mread_csv\u001b[49m\u001b[43m(\u001b[49m\u001b[38;5;124;43m\"\u001b[39;49m\u001b[38;5;124;43m../../new_datasets/historic_data/entity_files/all_orgs/Digitaalhumanitaaria_coding_dh_orgs.csv\u001b[39;49m\u001b[38;5;124;43m\"\u001b[39;49m\u001b[43m)\u001b[49m\n",
      "File \u001b[0;32m~/.virtualenvs/values_and_versions_env/lib/python3.9/site-packages/pandas/util/_decorators.py:211\u001b[0m, in \u001b[0;36mdeprecate_kwarg.<locals>._deprecate_kwarg.<locals>.wrapper\u001b[0;34m(*args, **kwargs)\u001b[0m\n\u001b[1;32m    209\u001b[0m     \u001b[38;5;28;01melse\u001b[39;00m:\n\u001b[1;32m    210\u001b[0m         kwargs[new_arg_name] \u001b[38;5;241m=\u001b[39m new_arg_value\n\u001b[0;32m--> 211\u001b[0m \u001b[38;5;28;01mreturn\u001b[39;00m \u001b[43mfunc\u001b[49m\u001b[43m(\u001b[49m\u001b[38;5;241;43m*\u001b[39;49m\u001b[43margs\u001b[49m\u001b[43m,\u001b[49m\u001b[43m \u001b[49m\u001b[38;5;241;43m*\u001b[39;49m\u001b[38;5;241;43m*\u001b[39;49m\u001b[43mkwargs\u001b[49m\u001b[43m)\u001b[49m\n",
      "File \u001b[0;32m~/.virtualenvs/values_and_versions_env/lib/python3.9/site-packages/pandas/util/_decorators.py:331\u001b[0m, in \u001b[0;36mdeprecate_nonkeyword_arguments.<locals>.decorate.<locals>.wrapper\u001b[0;34m(*args, **kwargs)\u001b[0m\n\u001b[1;32m    325\u001b[0m \u001b[38;5;28;01mif\u001b[39;00m \u001b[38;5;28mlen\u001b[39m(args) \u001b[38;5;241m>\u001b[39m num_allow_args:\n\u001b[1;32m    326\u001b[0m     warnings\u001b[38;5;241m.\u001b[39mwarn(\n\u001b[1;32m    327\u001b[0m         msg\u001b[38;5;241m.\u001b[39mformat(arguments\u001b[38;5;241m=\u001b[39m_format_argument_list(allow_args)),\n\u001b[1;32m    328\u001b[0m         \u001b[38;5;167;01mFutureWarning\u001b[39;00m,\n\u001b[1;32m    329\u001b[0m         stacklevel\u001b[38;5;241m=\u001b[39mfind_stack_level(),\n\u001b[1;32m    330\u001b[0m     )\n\u001b[0;32m--> 331\u001b[0m \u001b[38;5;28;01mreturn\u001b[39;00m \u001b[43mfunc\u001b[49m\u001b[43m(\u001b[49m\u001b[38;5;241;43m*\u001b[39;49m\u001b[43margs\u001b[49m\u001b[43m,\u001b[49m\u001b[43m \u001b[49m\u001b[38;5;241;43m*\u001b[39;49m\u001b[38;5;241;43m*\u001b[39;49m\u001b[43mkwargs\u001b[49m\u001b[43m)\u001b[49m\n",
      "File \u001b[0;32m~/.virtualenvs/values_and_versions_env/lib/python3.9/site-packages/pandas/io/parsers/readers.py:950\u001b[0m, in \u001b[0;36mread_csv\u001b[0;34m(filepath_or_buffer, sep, delimiter, header, names, index_col, usecols, squeeze, prefix, mangle_dupe_cols, dtype, engine, converters, true_values, false_values, skipinitialspace, skiprows, skipfooter, nrows, na_values, keep_default_na, na_filter, verbose, skip_blank_lines, parse_dates, infer_datetime_format, keep_date_col, date_parser, dayfirst, cache_dates, iterator, chunksize, compression, thousands, decimal, lineterminator, quotechar, quoting, doublequote, escapechar, comment, encoding, encoding_errors, dialect, error_bad_lines, warn_bad_lines, on_bad_lines, delim_whitespace, low_memory, memory_map, float_precision, storage_options)\u001b[0m\n\u001b[1;32m    935\u001b[0m kwds_defaults \u001b[38;5;241m=\u001b[39m _refine_defaults_read(\n\u001b[1;32m    936\u001b[0m     dialect,\n\u001b[1;32m    937\u001b[0m     delimiter,\n\u001b[0;32m   (...)\u001b[0m\n\u001b[1;32m    946\u001b[0m     defaults\u001b[38;5;241m=\u001b[39m{\u001b[38;5;124m\"\u001b[39m\u001b[38;5;124mdelimiter\u001b[39m\u001b[38;5;124m\"\u001b[39m: \u001b[38;5;124m\"\u001b[39m\u001b[38;5;124m,\u001b[39m\u001b[38;5;124m\"\u001b[39m},\n\u001b[1;32m    947\u001b[0m )\n\u001b[1;32m    948\u001b[0m kwds\u001b[38;5;241m.\u001b[39mupdate(kwds_defaults)\n\u001b[0;32m--> 950\u001b[0m \u001b[38;5;28;01mreturn\u001b[39;00m \u001b[43m_read\u001b[49m\u001b[43m(\u001b[49m\u001b[43mfilepath_or_buffer\u001b[49m\u001b[43m,\u001b[49m\u001b[43m \u001b[49m\u001b[43mkwds\u001b[49m\u001b[43m)\u001b[49m\n",
      "File \u001b[0;32m~/.virtualenvs/values_and_versions_env/lib/python3.9/site-packages/pandas/io/parsers/readers.py:605\u001b[0m, in \u001b[0;36m_read\u001b[0;34m(filepath_or_buffer, kwds)\u001b[0m\n\u001b[1;32m    602\u001b[0m _validate_names(kwds\u001b[38;5;241m.\u001b[39mget(\u001b[38;5;124m\"\u001b[39m\u001b[38;5;124mnames\u001b[39m\u001b[38;5;124m\"\u001b[39m, \u001b[38;5;28;01mNone\u001b[39;00m))\n\u001b[1;32m    604\u001b[0m \u001b[38;5;66;03m# Create the parser.\u001b[39;00m\n\u001b[0;32m--> 605\u001b[0m parser \u001b[38;5;241m=\u001b[39m \u001b[43mTextFileReader\u001b[49m\u001b[43m(\u001b[49m\u001b[43mfilepath_or_buffer\u001b[49m\u001b[43m,\u001b[49m\u001b[43m \u001b[49m\u001b[38;5;241;43m*\u001b[39;49m\u001b[38;5;241;43m*\u001b[39;49m\u001b[43mkwds\u001b[49m\u001b[43m)\u001b[49m\n\u001b[1;32m    607\u001b[0m \u001b[38;5;28;01mif\u001b[39;00m chunksize \u001b[38;5;129;01mor\u001b[39;00m iterator:\n\u001b[1;32m    608\u001b[0m     \u001b[38;5;28;01mreturn\u001b[39;00m parser\n",
      "File \u001b[0;32m~/.virtualenvs/values_and_versions_env/lib/python3.9/site-packages/pandas/io/parsers/readers.py:1442\u001b[0m, in \u001b[0;36mTextFileReader.__init__\u001b[0;34m(self, f, engine, **kwds)\u001b[0m\n\u001b[1;32m   1439\u001b[0m     \u001b[38;5;28mself\u001b[39m\u001b[38;5;241m.\u001b[39moptions[\u001b[38;5;124m\"\u001b[39m\u001b[38;5;124mhas_index_names\u001b[39m\u001b[38;5;124m\"\u001b[39m] \u001b[38;5;241m=\u001b[39m kwds[\u001b[38;5;124m\"\u001b[39m\u001b[38;5;124mhas_index_names\u001b[39m\u001b[38;5;124m\"\u001b[39m]\n\u001b[1;32m   1441\u001b[0m \u001b[38;5;28mself\u001b[39m\u001b[38;5;241m.\u001b[39mhandles: IOHandles \u001b[38;5;241m|\u001b[39m \u001b[38;5;28;01mNone\u001b[39;00m \u001b[38;5;241m=\u001b[39m \u001b[38;5;28;01mNone\u001b[39;00m\n\u001b[0;32m-> 1442\u001b[0m \u001b[38;5;28mself\u001b[39m\u001b[38;5;241m.\u001b[39m_engine \u001b[38;5;241m=\u001b[39m \u001b[38;5;28;43mself\u001b[39;49m\u001b[38;5;241;43m.\u001b[39;49m\u001b[43m_make_engine\u001b[49m\u001b[43m(\u001b[49m\u001b[43mf\u001b[49m\u001b[43m,\u001b[49m\u001b[43m \u001b[49m\u001b[38;5;28;43mself\u001b[39;49m\u001b[38;5;241;43m.\u001b[39;49m\u001b[43mengine\u001b[49m\u001b[43m)\u001b[49m\n",
      "File \u001b[0;32m~/.virtualenvs/values_and_versions_env/lib/python3.9/site-packages/pandas/io/parsers/readers.py:1735\u001b[0m, in \u001b[0;36mTextFileReader._make_engine\u001b[0;34m(self, f, engine)\u001b[0m\n\u001b[1;32m   1733\u001b[0m     \u001b[38;5;28;01mif\u001b[39;00m \u001b[38;5;124m\"\u001b[39m\u001b[38;5;124mb\u001b[39m\u001b[38;5;124m\"\u001b[39m \u001b[38;5;129;01mnot\u001b[39;00m \u001b[38;5;129;01min\u001b[39;00m mode:\n\u001b[1;32m   1734\u001b[0m         mode \u001b[38;5;241m+\u001b[39m\u001b[38;5;241m=\u001b[39m \u001b[38;5;124m\"\u001b[39m\u001b[38;5;124mb\u001b[39m\u001b[38;5;124m\"\u001b[39m\n\u001b[0;32m-> 1735\u001b[0m \u001b[38;5;28mself\u001b[39m\u001b[38;5;241m.\u001b[39mhandles \u001b[38;5;241m=\u001b[39m \u001b[43mget_handle\u001b[49m\u001b[43m(\u001b[49m\n\u001b[1;32m   1736\u001b[0m \u001b[43m    \u001b[49m\u001b[43mf\u001b[49m\u001b[43m,\u001b[49m\n\u001b[1;32m   1737\u001b[0m \u001b[43m    \u001b[49m\u001b[43mmode\u001b[49m\u001b[43m,\u001b[49m\n\u001b[1;32m   1738\u001b[0m \u001b[43m    \u001b[49m\u001b[43mencoding\u001b[49m\u001b[38;5;241;43m=\u001b[39;49m\u001b[38;5;28;43mself\u001b[39;49m\u001b[38;5;241;43m.\u001b[39;49m\u001b[43moptions\u001b[49m\u001b[38;5;241;43m.\u001b[39;49m\u001b[43mget\u001b[49m\u001b[43m(\u001b[49m\u001b[38;5;124;43m\"\u001b[39;49m\u001b[38;5;124;43mencoding\u001b[39;49m\u001b[38;5;124;43m\"\u001b[39;49m\u001b[43m,\u001b[49m\u001b[43m \u001b[49m\u001b[38;5;28;43;01mNone\u001b[39;49;00m\u001b[43m)\u001b[49m\u001b[43m,\u001b[49m\n\u001b[1;32m   1739\u001b[0m \u001b[43m    \u001b[49m\u001b[43mcompression\u001b[49m\u001b[38;5;241;43m=\u001b[39;49m\u001b[38;5;28;43mself\u001b[39;49m\u001b[38;5;241;43m.\u001b[39;49m\u001b[43moptions\u001b[49m\u001b[38;5;241;43m.\u001b[39;49m\u001b[43mget\u001b[49m\u001b[43m(\u001b[49m\u001b[38;5;124;43m\"\u001b[39;49m\u001b[38;5;124;43mcompression\u001b[39;49m\u001b[38;5;124;43m\"\u001b[39;49m\u001b[43m,\u001b[49m\u001b[43m \u001b[49m\u001b[38;5;28;43;01mNone\u001b[39;49;00m\u001b[43m)\u001b[49m\u001b[43m,\u001b[49m\n\u001b[1;32m   1740\u001b[0m \u001b[43m    \u001b[49m\u001b[43mmemory_map\u001b[49m\u001b[38;5;241;43m=\u001b[39;49m\u001b[38;5;28;43mself\u001b[39;49m\u001b[38;5;241;43m.\u001b[39;49m\u001b[43moptions\u001b[49m\u001b[38;5;241;43m.\u001b[39;49m\u001b[43mget\u001b[49m\u001b[43m(\u001b[49m\u001b[38;5;124;43m\"\u001b[39;49m\u001b[38;5;124;43mmemory_map\u001b[39;49m\u001b[38;5;124;43m\"\u001b[39;49m\u001b[43m,\u001b[49m\u001b[43m \u001b[49m\u001b[38;5;28;43;01mFalse\u001b[39;49;00m\u001b[43m)\u001b[49m\u001b[43m,\u001b[49m\n\u001b[1;32m   1741\u001b[0m \u001b[43m    \u001b[49m\u001b[43mis_text\u001b[49m\u001b[38;5;241;43m=\u001b[39;49m\u001b[43mis_text\u001b[49m\u001b[43m,\u001b[49m\n\u001b[1;32m   1742\u001b[0m \u001b[43m    \u001b[49m\u001b[43merrors\u001b[49m\u001b[38;5;241;43m=\u001b[39;49m\u001b[38;5;28;43mself\u001b[39;49m\u001b[38;5;241;43m.\u001b[39;49m\u001b[43moptions\u001b[49m\u001b[38;5;241;43m.\u001b[39;49m\u001b[43mget\u001b[49m\u001b[43m(\u001b[49m\u001b[38;5;124;43m\"\u001b[39;49m\u001b[38;5;124;43mencoding_errors\u001b[39;49m\u001b[38;5;124;43m\"\u001b[39;49m\u001b[43m,\u001b[49m\u001b[43m \u001b[49m\u001b[38;5;124;43m\"\u001b[39;49m\u001b[38;5;124;43mstrict\u001b[39;49m\u001b[38;5;124;43m\"\u001b[39;49m\u001b[43m)\u001b[49m\u001b[43m,\u001b[49m\n\u001b[1;32m   1743\u001b[0m \u001b[43m    \u001b[49m\u001b[43mstorage_options\u001b[49m\u001b[38;5;241;43m=\u001b[39;49m\u001b[38;5;28;43mself\u001b[39;49m\u001b[38;5;241;43m.\u001b[39;49m\u001b[43moptions\u001b[49m\u001b[38;5;241;43m.\u001b[39;49m\u001b[43mget\u001b[49m\u001b[43m(\u001b[49m\u001b[38;5;124;43m\"\u001b[39;49m\u001b[38;5;124;43mstorage_options\u001b[39;49m\u001b[38;5;124;43m\"\u001b[39;49m\u001b[43m,\u001b[49m\u001b[43m \u001b[49m\u001b[38;5;28;43;01mNone\u001b[39;49;00m\u001b[43m)\u001b[49m\u001b[43m,\u001b[49m\n\u001b[1;32m   1744\u001b[0m \u001b[43m\u001b[49m\u001b[43m)\u001b[49m\n\u001b[1;32m   1745\u001b[0m \u001b[38;5;28;01massert\u001b[39;00m \u001b[38;5;28mself\u001b[39m\u001b[38;5;241m.\u001b[39mhandles \u001b[38;5;129;01mis\u001b[39;00m \u001b[38;5;129;01mnot\u001b[39;00m \u001b[38;5;28;01mNone\u001b[39;00m\n\u001b[1;32m   1746\u001b[0m f \u001b[38;5;241m=\u001b[39m \u001b[38;5;28mself\u001b[39m\u001b[38;5;241m.\u001b[39mhandles\u001b[38;5;241m.\u001b[39mhandle\n",
      "File \u001b[0;32m~/.virtualenvs/values_and_versions_env/lib/python3.9/site-packages/pandas/io/common.py:856\u001b[0m, in \u001b[0;36mget_handle\u001b[0;34m(path_or_buf, mode, encoding, compression, memory_map, is_text, errors, storage_options)\u001b[0m\n\u001b[1;32m    851\u001b[0m \u001b[38;5;28;01melif\u001b[39;00m \u001b[38;5;28misinstance\u001b[39m(handle, \u001b[38;5;28mstr\u001b[39m):\n\u001b[1;32m    852\u001b[0m     \u001b[38;5;66;03m# Check whether the filename is to be opened in binary mode.\u001b[39;00m\n\u001b[1;32m    853\u001b[0m     \u001b[38;5;66;03m# Binary mode does not support 'encoding' and 'newline'.\u001b[39;00m\n\u001b[1;32m    854\u001b[0m     \u001b[38;5;28;01mif\u001b[39;00m ioargs\u001b[38;5;241m.\u001b[39mencoding \u001b[38;5;129;01mand\u001b[39;00m \u001b[38;5;124m\"\u001b[39m\u001b[38;5;124mb\u001b[39m\u001b[38;5;124m\"\u001b[39m \u001b[38;5;129;01mnot\u001b[39;00m \u001b[38;5;129;01min\u001b[39;00m ioargs\u001b[38;5;241m.\u001b[39mmode:\n\u001b[1;32m    855\u001b[0m         \u001b[38;5;66;03m# Encoding\u001b[39;00m\n\u001b[0;32m--> 856\u001b[0m         handle \u001b[38;5;241m=\u001b[39m \u001b[38;5;28;43mopen\u001b[39;49m\u001b[43m(\u001b[49m\n\u001b[1;32m    857\u001b[0m \u001b[43m            \u001b[49m\u001b[43mhandle\u001b[49m\u001b[43m,\u001b[49m\n\u001b[1;32m    858\u001b[0m \u001b[43m            \u001b[49m\u001b[43mioargs\u001b[49m\u001b[38;5;241;43m.\u001b[39;49m\u001b[43mmode\u001b[49m\u001b[43m,\u001b[49m\n\u001b[1;32m    859\u001b[0m \u001b[43m            \u001b[49m\u001b[43mencoding\u001b[49m\u001b[38;5;241;43m=\u001b[39;49m\u001b[43mioargs\u001b[49m\u001b[38;5;241;43m.\u001b[39;49m\u001b[43mencoding\u001b[49m\u001b[43m,\u001b[49m\n\u001b[1;32m    860\u001b[0m \u001b[43m            \u001b[49m\u001b[43merrors\u001b[49m\u001b[38;5;241;43m=\u001b[39;49m\u001b[43merrors\u001b[49m\u001b[43m,\u001b[49m\n\u001b[1;32m    861\u001b[0m \u001b[43m            \u001b[49m\u001b[43mnewline\u001b[49m\u001b[38;5;241;43m=\u001b[39;49m\u001b[38;5;124;43m\"\u001b[39;49m\u001b[38;5;124;43m\"\u001b[39;49m\u001b[43m,\u001b[49m\n\u001b[1;32m    862\u001b[0m \u001b[43m        \u001b[49m\u001b[43m)\u001b[49m\n\u001b[1;32m    863\u001b[0m     \u001b[38;5;28;01melse\u001b[39;00m:\n\u001b[1;32m    864\u001b[0m         \u001b[38;5;66;03m# Binary mode\u001b[39;00m\n\u001b[1;32m    865\u001b[0m         handle \u001b[38;5;241m=\u001b[39m \u001b[38;5;28mopen\u001b[39m(handle, ioargs\u001b[38;5;241m.\u001b[39mmode)\n",
      "\u001b[0;31mFileNotFoundError\u001b[0m: [Errno 2] No such file or directory: '../../new_datasets/historic_data/entity_files/all_orgs/Digitaalhumanitaaria_coding_dh_orgs.csv'"
     ]
    }
   ],
   "source": [
    "test = pd.read_csv(\"../../new_datasets/historic_data/entity_files/all_orgs/Digitaalhumanitaaria_coding_dh_orgs.csv\")"
   ]
  },
  {
   "cell_type": "code",
   "execution_count": null,
   "metadata": {},
   "outputs": [],
   "source": []
  }
 ],
 "metadata": {
  "kernelspec": {
   "display_name": "values_and_versions_env",
   "language": "python",
   "name": "python3"
  },
  "language_info": {
   "codemirror_mode": {
    "name": "ipython",
    "version": 3
   },
   "file_extension": ".py",
   "mimetype": "text/x-python",
   "name": "python",
   "nbconvert_exporter": "python",
   "pygments_lexer": "ipython3",
   "version": "3.9.18"
  }
 },
 "nbformat": 4,
 "nbformat_minor": 2
}
