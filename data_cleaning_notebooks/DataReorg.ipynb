{
 "cells": [
  {
   "cell_type": "markdown",
   "metadata": {},
   "source": [
    "# Notebook for Reorganizing Data in Coding DH"
   ]
  },
  {
   "cell_type": "markdown",
   "metadata": {},
   "source": [
    "Realized we needed to improve how we archived our data so that we could get historic snapshots. This notebook is for reorganizing the data."
   ]
  },
  {
   "cell_type": "code",
   "execution_count": 1,
   "metadata": {},
   "outputs": [],
   "source": [
    "import os\n",
    "import pandas as pd\n",
    "import numpy as np\n",
    "from tqdm import tqdm\n",
    "import rich\n",
    "from rich.console import Console\n",
    "console = Console()\n",
    "from datetime import datetime\n",
    "import warnings\n",
    "warnings.filterwarnings(\"ignore\")"
   ]
  },
  {
   "cell_type": "code",
   "execution_count": 121,
   "metadata": {},
   "outputs": [],
   "source": [
    "# Standard library imports\n",
    "import os\n",
    "import re\n",
    "import shutil\n",
    "import time\n",
    "import warnings\n",
    "from datetime import datetime\n",
    "from typing import List, Optional, Union\n",
    "\n",
    "# Related third-party imports\n",
    "import altair as alt\n",
    "import apikey\n",
    "import numpy as np\n",
    "import pandas as pd\n",
    "import requests\n",
    "from rich import print\n",
    "from rich.console import Console\n",
    "from tqdm import tqdm\n",
    "\n",
    "# Local application/library specific imports\n",
    "import vl_convert as vlc\n",
    "\n",
    "# Filter warnings\n",
    "warnings.filterwarnings('ignore')\n",
    "\n",
    "# Load auth token\n",
    "auth_token = apikey.load(\"DH_GITHUB_DATA_PERSONAL_TOKEN\")\n",
    "\n",
    "auth_headers = {'Authorization': f'token {auth_token}','User-Agent': 'request', 'Accept': 'application/vnd.github+json', 'X-GitHub-Api-Version': '2022-11-28'}\n",
    "\n",
    "import sys\n",
    "sys.path.append(\"../\")\n",
    "from data_generation_scripts.general_utils import *"
   ]
  }
 ],
 "metadata": {
  "kernelspec": {
   "display_name": "values_and_versions_env",
   "language": "python",
   "name": "python3"
  },
  "language_info": {
   "codemirror_mode": {
    "name": "ipython",
    "version": 3
   },
   "file_extension": ".py",
   "mimetype": "text/x-python",
   "name": "python",
   "nbconvert_exporter": "python",
   "pygments_lexer": "ipython3",
   "version": "3.9.18"
  }
 },
 "nbformat": 4,
 "nbformat_minor": 2
}
