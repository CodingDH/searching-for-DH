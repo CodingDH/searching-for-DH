{
 "cells": [
  {
   "cell_type": "markdown",
   "metadata": {},
   "source": [
    "# Notebook for Reorganizing Data in Coding DH"
   ]
  },
  {
   "cell_type": "markdown",
   "metadata": {},
   "source": [
    "Realized we needed to improve how we archived our data so that we could get historic snapshots. This notebook is for reorganizing the data."
   ]
  },
  {
   "cell_type": "code",
   "execution_count": null,
   "metadata": {},
   "outputs": [],
   "source": [
    "import os\n",
    "import pandas as pd"
   ]
  },
  {
   "cell_type": "code",
   "execution_count": null,
   "metadata": {},
   "outputs": [],
   "source": [
    "\n",
    "\n",
    "current_path = \"../../datasets/repo_data\"\n",
    "older_path = \"../../datasets/older_files/repo_data\"\n",
    "file_paths_dfs = []\n",
    "\n",
    "for dir, _, files in os.walk(current_path):\n",
    "    older_dir = dir.replace(current_path, older_path)\n",
    "    if os.path.exists(older_dir):\n",
    "        older_files = os.listdir(older_dir)\n",
    "        for file in files:\n",
    "            subset_file = os.path.splitext(file)[0]\n",
    "            for older_file in older_files:\n",
    "                if subset_file in older_file:\n",
    "                    file_dict = {\n",
    "                        'file_path': os.path.join(dir, file),\n",
    "                        'subset_file': subset_file,\n",
    "                        'older_file_path': os.path.join(older_dir, older_file)\n",
    "                    }\n",
    "                    file_paths_dfs.append(file_dict)\n",
    "files_df = pd.DataFrame(file_paths_dfs)\n",
    "files_df[0:1].to_dict()"
   ]
  }
 ],
 "metadata": {
  "kernelspec": {
   "display_name": "values_and_versions_env",
   "language": "python",
   "name": "python3"
  },
  "language_info": {
   "codemirror_mode": {
    "name": "ipython",
    "version": 3
   },
   "file_extension": ".py",
   "mimetype": "text/x-python",
   "name": "python",
   "nbconvert_exporter": "python",
   "pygments_lexer": "ipython3",
   "version": "3.9.18"
  }
 },
 "nbformat": 4,
 "nbformat_minor": 2
}
